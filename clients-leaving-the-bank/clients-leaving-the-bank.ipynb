{
 "cells": [
  {
   "cell_type": "markdown",
   "metadata": {
    "toc": true
   },
   "source": [
    "<h1>Содержание<span class=\"tocSkip\"></span></h1>\n",
    "<div class=\"toc\"><ul class=\"toc-item\"><li><span><a href=\"#Подготовка-данных\" data-toc-modified-id=\"Подготовка-данных-1\"><span class=\"toc-item-num\">1&nbsp;&nbsp;</span>Подготовка данных</a></span></li><li><span><a href=\"#Исследование-задачи\" data-toc-modified-id=\"Исследование-задачи-2\"><span class=\"toc-item-num\">2&nbsp;&nbsp;</span>Исследование задачи</a></span></li><li><span><a href=\"#Борьба-с-дисбалансом\" data-toc-modified-id=\"Борьба-с-дисбалансом-3\"><span class=\"toc-item-num\">3&nbsp;&nbsp;</span>Борьба с дисбалансом</a></span></li><li><span><a href=\"#Тестирование-модели\" data-toc-modified-id=\"Тестирование-модели-4\"><span class=\"toc-item-num\">4&nbsp;&nbsp;</span>Тестирование модели</a></span></li></ul></div>"
   ]
  },
  {
   "cell_type": "markdown",
   "metadata": {},
   "source": [
    "# Отток клиентов"
   ]
  },
  {
   "cell_type": "markdown",
   "metadata": {},
   "source": [
    "Требуется спрогнозировать уход клиента из банка на основе исторических данных о поведении клиентов и расторжении договоров с банком. Для оценки модели нужно использовать F1-меру и AUC-ROC.\n",
    "\n",
    "Источник данных: [https://www.kaggle.com/barelydedicated/bank-customer-churn-modeling](https://www.kaggle.com/barelydedicated/bank-customer-churn-modeling)"
   ]
  },
  {
   "cell_type": "markdown",
   "metadata": {},
   "source": [
    "## Подготовка данных"
   ]
  },
  {
   "cell_type": "code",
   "execution_count": 1,
   "metadata": {},
   "outputs": [
    {
     "name": "stdout",
     "output_type": "stream",
     "text": [
      "<class 'pandas.core.frame.DataFrame'>\n",
      "RangeIndex: 10000 entries, 0 to 9999\n",
      "Data columns (total 14 columns):\n",
      "RowNumber          10000 non-null int64\n",
      "CustomerId         10000 non-null int64\n",
      "Surname            10000 non-null object\n",
      "CreditScore        10000 non-null int64\n",
      "Geography          10000 non-null object\n",
      "Gender             10000 non-null object\n",
      "Age                10000 non-null int64\n",
      "Tenure             9091 non-null float64\n",
      "Balance            10000 non-null float64\n",
      "NumOfProducts      10000 non-null int64\n",
      "HasCrCard          10000 non-null int64\n",
      "IsActiveMember     10000 non-null int64\n",
      "EstimatedSalary    10000 non-null float64\n",
      "Exited             10000 non-null int64\n",
      "dtypes: float64(3), int64(8), object(3)\n",
      "memory usage: 1.1+ MB\n"
     ]
    },
    {
     "data": {
      "text/html": [
       "<div>\n",
       "<style scoped>\n",
       "    .dataframe tbody tr th:only-of-type {\n",
       "        vertical-align: middle;\n",
       "    }\n",
       "\n",
       "    .dataframe tbody tr th {\n",
       "        vertical-align: top;\n",
       "    }\n",
       "\n",
       "    .dataframe thead th {\n",
       "        text-align: right;\n",
       "    }\n",
       "</style>\n",
       "<table border=\"1\" class=\"dataframe\">\n",
       "  <thead>\n",
       "    <tr style=\"text-align: right;\">\n",
       "      <th></th>\n",
       "      <th>RowNumber</th>\n",
       "      <th>CustomerId</th>\n",
       "      <th>Surname</th>\n",
       "      <th>CreditScore</th>\n",
       "      <th>Geography</th>\n",
       "      <th>Gender</th>\n",
       "      <th>Age</th>\n",
       "      <th>Tenure</th>\n",
       "      <th>Balance</th>\n",
       "      <th>NumOfProducts</th>\n",
       "      <th>HasCrCard</th>\n",
       "      <th>IsActiveMember</th>\n",
       "      <th>EstimatedSalary</th>\n",
       "      <th>Exited</th>\n",
       "    </tr>\n",
       "  </thead>\n",
       "  <tbody>\n",
       "    <tr>\n",
       "      <td>0</td>\n",
       "      <td>1</td>\n",
       "      <td>15634602</td>\n",
       "      <td>Hargrave</td>\n",
       "      <td>619</td>\n",
       "      <td>France</td>\n",
       "      <td>Female</td>\n",
       "      <td>42</td>\n",
       "      <td>2.0</td>\n",
       "      <td>0.00</td>\n",
       "      <td>1</td>\n",
       "      <td>1</td>\n",
       "      <td>1</td>\n",
       "      <td>101348.88</td>\n",
       "      <td>1</td>\n",
       "    </tr>\n",
       "    <tr>\n",
       "      <td>1</td>\n",
       "      <td>2</td>\n",
       "      <td>15647311</td>\n",
       "      <td>Hill</td>\n",
       "      <td>608</td>\n",
       "      <td>Spain</td>\n",
       "      <td>Female</td>\n",
       "      <td>41</td>\n",
       "      <td>1.0</td>\n",
       "      <td>83807.86</td>\n",
       "      <td>1</td>\n",
       "      <td>0</td>\n",
       "      <td>1</td>\n",
       "      <td>112542.58</td>\n",
       "      <td>0</td>\n",
       "    </tr>\n",
       "    <tr>\n",
       "      <td>2</td>\n",
       "      <td>3</td>\n",
       "      <td>15619304</td>\n",
       "      <td>Onio</td>\n",
       "      <td>502</td>\n",
       "      <td>France</td>\n",
       "      <td>Female</td>\n",
       "      <td>42</td>\n",
       "      <td>8.0</td>\n",
       "      <td>159660.80</td>\n",
       "      <td>3</td>\n",
       "      <td>1</td>\n",
       "      <td>0</td>\n",
       "      <td>113931.57</td>\n",
       "      <td>1</td>\n",
       "    </tr>\n",
       "    <tr>\n",
       "      <td>3</td>\n",
       "      <td>4</td>\n",
       "      <td>15701354</td>\n",
       "      <td>Boni</td>\n",
       "      <td>699</td>\n",
       "      <td>France</td>\n",
       "      <td>Female</td>\n",
       "      <td>39</td>\n",
       "      <td>1.0</td>\n",
       "      <td>0.00</td>\n",
       "      <td>2</td>\n",
       "      <td>0</td>\n",
       "      <td>0</td>\n",
       "      <td>93826.63</td>\n",
       "      <td>0</td>\n",
       "    </tr>\n",
       "    <tr>\n",
       "      <td>4</td>\n",
       "      <td>5</td>\n",
       "      <td>15737888</td>\n",
       "      <td>Mitchell</td>\n",
       "      <td>850</td>\n",
       "      <td>Spain</td>\n",
       "      <td>Female</td>\n",
       "      <td>43</td>\n",
       "      <td>2.0</td>\n",
       "      <td>125510.82</td>\n",
       "      <td>1</td>\n",
       "      <td>1</td>\n",
       "      <td>1</td>\n",
       "      <td>79084.10</td>\n",
       "      <td>0</td>\n",
       "    </tr>\n",
       "  </tbody>\n",
       "</table>\n",
       "</div>"
      ],
      "text/plain": [
       "   RowNumber  CustomerId   Surname  CreditScore Geography  Gender  Age  \\\n",
       "0          1    15634602  Hargrave          619    France  Female   42   \n",
       "1          2    15647311      Hill          608     Spain  Female   41   \n",
       "2          3    15619304      Onio          502    France  Female   42   \n",
       "3          4    15701354      Boni          699    France  Female   39   \n",
       "4          5    15737888  Mitchell          850     Spain  Female   43   \n",
       "\n",
       "   Tenure    Balance  NumOfProducts  HasCrCard  IsActiveMember  \\\n",
       "0     2.0       0.00              1          1               1   \n",
       "1     1.0   83807.86              1          0               1   \n",
       "2     8.0  159660.80              3          1               0   \n",
       "3     1.0       0.00              2          0               0   \n",
       "4     2.0  125510.82              1          1               1   \n",
       "\n",
       "   EstimatedSalary  Exited  \n",
       "0        101348.88       1  \n",
       "1        112542.58       0  \n",
       "2        113931.57       1  \n",
       "3         93826.63       0  \n",
       "4         79084.10       0  "
      ]
     },
     "execution_count": 1,
     "metadata": {},
     "output_type": "execute_result"
    }
   ],
   "source": [
    "import pandas as pd\n",
    "import numpy as np\n",
    "import matplotlib.pyplot as plt\n",
    "from sklearn.model_selection import train_test_split\n",
    "from sklearn.preprocessing import StandardScaler\n",
    "from sklearn.tree import DecisionTreeClassifier\n",
    "from sklearn.ensemble import RandomForestClassifier\n",
    "from sklearn.linear_model import LogisticRegression\n",
    "from sklearn.metrics import f1_score\n",
    "from sklearn.metrics import roc_auc_score\n",
    "from sklearn.utils import shuffle\n",
    "import warnings\n",
    "warnings.filterwarnings('ignore')\n",
    "\n",
    "data = pd.read_csv('/datasets/Churn.csv')\n",
    "data.info()\n",
    "data.head()"
   ]
  },
  {
   "cell_type": "markdown",
   "metadata": {},
   "source": [
    "Первоначальные выводы по данным:\n",
    "1. RowNumber и Surname — нужно удалить, так как индекс и фамилия не влияют на целевой признак\n",
    "2. CustomerId — тоже удалить, но сначала стоит проверить на дубликаты\n",
    "3. Tenure - есть пропуски\n",
    "4. Geography и Gender - столбцы с типом object, нужно перевести их в численные, используя ОНЕ (так как ОНЕ подходит и для линейной регрессии)\n",
    "5. Провести масштабирование признаков\n",
    "6. Для удобства стоит привести все названия столбцов к нижнему регистру\n",
    "7. Нужно отделить целевой признак и разделить данные на три выборки в соотношении 60-20-20"
   ]
  },
  {
   "cell_type": "code",
   "execution_count": 2,
   "metadata": {},
   "outputs": [
    {
     "data": {
      "text/plain": [
       "Index(['rownumber', 'customerid', 'surname', 'creditscore', 'geography',\n",
       "       'gender', 'age', 'tenure', 'balance', 'numofproducts', 'hascrcard',\n",
       "       'isactivemember', 'estimatedsalary', 'exited'],\n",
       "      dtype='object')"
      ]
     },
     "execution_count": 2,
     "metadata": {},
     "output_type": "execute_result"
    }
   ],
   "source": [
    "#Привожу названия стобцов к нижнему регистру\n",
    "data.columns = data.columns.str.lower()\n",
    "data.columns"
   ]
  },
  {
   "cell_type": "code",
   "execution_count": 3,
   "metadata": {},
   "outputs": [
    {
     "data": {
      "text/plain": [
       "0"
      ]
     },
     "execution_count": 3,
     "metadata": {},
     "output_type": "execute_result"
    }
   ],
   "source": [
    "#Проверяю столбец CustomerId на дубликаты\n",
    "data.customerid.duplicated().sum()"
   ]
  },
  {
   "cell_type": "markdown",
   "metadata": {},
   "source": [
    "Дубликатов нет, можно удалять"
   ]
  },
  {
   "cell_type": "code",
   "execution_count": 4,
   "metadata": {},
   "outputs": [
    {
     "data": {
      "text/html": [
       "<div>\n",
       "<style scoped>\n",
       "    .dataframe tbody tr th:only-of-type {\n",
       "        vertical-align: middle;\n",
       "    }\n",
       "\n",
       "    .dataframe tbody tr th {\n",
       "        vertical-align: top;\n",
       "    }\n",
       "\n",
       "    .dataframe thead th {\n",
       "        text-align: right;\n",
       "    }\n",
       "</style>\n",
       "<table border=\"1\" class=\"dataframe\">\n",
       "  <thead>\n",
       "    <tr style=\"text-align: right;\">\n",
       "      <th></th>\n",
       "      <th>creditscore</th>\n",
       "      <th>geography</th>\n",
       "      <th>gender</th>\n",
       "      <th>age</th>\n",
       "      <th>tenure</th>\n",
       "      <th>balance</th>\n",
       "      <th>numofproducts</th>\n",
       "      <th>hascrcard</th>\n",
       "      <th>isactivemember</th>\n",
       "      <th>estimatedsalary</th>\n",
       "      <th>exited</th>\n",
       "    </tr>\n",
       "  </thead>\n",
       "  <tbody>\n",
       "    <tr>\n",
       "      <td>0</td>\n",
       "      <td>619</td>\n",
       "      <td>France</td>\n",
       "      <td>Female</td>\n",
       "      <td>42</td>\n",
       "      <td>2.0</td>\n",
       "      <td>0.00</td>\n",
       "      <td>1</td>\n",
       "      <td>1</td>\n",
       "      <td>1</td>\n",
       "      <td>101348.88</td>\n",
       "      <td>1</td>\n",
       "    </tr>\n",
       "    <tr>\n",
       "      <td>1</td>\n",
       "      <td>608</td>\n",
       "      <td>Spain</td>\n",
       "      <td>Female</td>\n",
       "      <td>41</td>\n",
       "      <td>1.0</td>\n",
       "      <td>83807.86</td>\n",
       "      <td>1</td>\n",
       "      <td>0</td>\n",
       "      <td>1</td>\n",
       "      <td>112542.58</td>\n",
       "      <td>0</td>\n",
       "    </tr>\n",
       "    <tr>\n",
       "      <td>2</td>\n",
       "      <td>502</td>\n",
       "      <td>France</td>\n",
       "      <td>Female</td>\n",
       "      <td>42</td>\n",
       "      <td>8.0</td>\n",
       "      <td>159660.80</td>\n",
       "      <td>3</td>\n",
       "      <td>1</td>\n",
       "      <td>0</td>\n",
       "      <td>113931.57</td>\n",
       "      <td>1</td>\n",
       "    </tr>\n",
       "    <tr>\n",
       "      <td>3</td>\n",
       "      <td>699</td>\n",
       "      <td>France</td>\n",
       "      <td>Female</td>\n",
       "      <td>39</td>\n",
       "      <td>1.0</td>\n",
       "      <td>0.00</td>\n",
       "      <td>2</td>\n",
       "      <td>0</td>\n",
       "      <td>0</td>\n",
       "      <td>93826.63</td>\n",
       "      <td>0</td>\n",
       "    </tr>\n",
       "    <tr>\n",
       "      <td>4</td>\n",
       "      <td>850</td>\n",
       "      <td>Spain</td>\n",
       "      <td>Female</td>\n",
       "      <td>43</td>\n",
       "      <td>2.0</td>\n",
       "      <td>125510.82</td>\n",
       "      <td>1</td>\n",
       "      <td>1</td>\n",
       "      <td>1</td>\n",
       "      <td>79084.10</td>\n",
       "      <td>0</td>\n",
       "    </tr>\n",
       "  </tbody>\n",
       "</table>\n",
       "</div>"
      ],
      "text/plain": [
       "   creditscore geography  gender  age  tenure    balance  numofproducts  \\\n",
       "0          619    France  Female   42     2.0       0.00              1   \n",
       "1          608     Spain  Female   41     1.0   83807.86              1   \n",
       "2          502    France  Female   42     8.0  159660.80              3   \n",
       "3          699    France  Female   39     1.0       0.00              2   \n",
       "4          850     Spain  Female   43     2.0  125510.82              1   \n",
       "\n",
       "   hascrcard  isactivemember  estimatedsalary  exited  \n",
       "0          1               1        101348.88       1  \n",
       "1          0               1        112542.58       0  \n",
       "2          1               0        113931.57       1  \n",
       "3          0               0         93826.63       0  \n",
       "4          1               1         79084.10       0  "
      ]
     },
     "execution_count": 4,
     "metadata": {},
     "output_type": "execute_result"
    }
   ],
   "source": [
    "#Удаляю нкоторые столбцы\n",
    "data = data.drop(['rownumber', 'surname', 'customerid'], axis=1)\n",
    "data.head()"
   ]
  },
  {
   "cell_type": "code",
   "execution_count": 5,
   "metadata": {},
   "outputs": [
    {
     "data": {
      "text/html": [
       "<div>\n",
       "<style scoped>\n",
       "    .dataframe tbody tr th:only-of-type {\n",
       "        vertical-align: middle;\n",
       "    }\n",
       "\n",
       "    .dataframe tbody tr th {\n",
       "        vertical-align: top;\n",
       "    }\n",
       "\n",
       "    .dataframe thead th {\n",
       "        text-align: right;\n",
       "    }\n",
       "</style>\n",
       "<table border=\"1\" class=\"dataframe\">\n",
       "  <thead>\n",
       "    <tr style=\"text-align: right;\">\n",
       "      <th></th>\n",
       "      <th>creditscore</th>\n",
       "      <th>geography</th>\n",
       "      <th>gender</th>\n",
       "      <th>age</th>\n",
       "      <th>tenure</th>\n",
       "      <th>balance</th>\n",
       "      <th>numofproducts</th>\n",
       "      <th>hascrcard</th>\n",
       "      <th>isactivemember</th>\n",
       "      <th>estimatedsalary</th>\n",
       "      <th>exited</th>\n",
       "    </tr>\n",
       "  </thead>\n",
       "  <tbody>\n",
       "    <tr>\n",
       "      <td>29</td>\n",
       "      <td>411</td>\n",
       "      <td>France</td>\n",
       "      <td>Male</td>\n",
       "      <td>29</td>\n",
       "      <td>0.0</td>\n",
       "      <td>59697.17</td>\n",
       "      <td>2</td>\n",
       "      <td>1</td>\n",
       "      <td>1</td>\n",
       "      <td>53483.21</td>\n",
       "      <td>0</td>\n",
       "    </tr>\n",
       "    <tr>\n",
       "      <td>30</td>\n",
       "      <td>591</td>\n",
       "      <td>Spain</td>\n",
       "      <td>Female</td>\n",
       "      <td>39</td>\n",
       "      <td>0.0</td>\n",
       "      <td>0.00</td>\n",
       "      <td>3</td>\n",
       "      <td>1</td>\n",
       "      <td>0</td>\n",
       "      <td>140469.38</td>\n",
       "      <td>1</td>\n",
       "    </tr>\n",
       "    <tr>\n",
       "      <td>35</td>\n",
       "      <td>475</td>\n",
       "      <td>France</td>\n",
       "      <td>Female</td>\n",
       "      <td>45</td>\n",
       "      <td>0.0</td>\n",
       "      <td>134264.04</td>\n",
       "      <td>1</td>\n",
       "      <td>1</td>\n",
       "      <td>0</td>\n",
       "      <td>27822.99</td>\n",
       "      <td>1</td>\n",
       "    </tr>\n",
       "    <tr>\n",
       "      <td>48</td>\n",
       "      <td>550</td>\n",
       "      <td>Germany</td>\n",
       "      <td>Male</td>\n",
       "      <td>38</td>\n",
       "      <td>0.0</td>\n",
       "      <td>103391.38</td>\n",
       "      <td>1</td>\n",
       "      <td>0</td>\n",
       "      <td>1</td>\n",
       "      <td>90878.13</td>\n",
       "      <td>0</td>\n",
       "    </tr>\n",
       "    <tr>\n",
       "      <td>51</td>\n",
       "      <td>585</td>\n",
       "      <td>Germany</td>\n",
       "      <td>Male</td>\n",
       "      <td>36</td>\n",
       "      <td>0.0</td>\n",
       "      <td>146050.97</td>\n",
       "      <td>2</td>\n",
       "      <td>0</td>\n",
       "      <td>0</td>\n",
       "      <td>86424.57</td>\n",
       "      <td>0</td>\n",
       "    </tr>\n",
       "    <tr>\n",
       "      <td>...</td>\n",
       "      <td>...</td>\n",
       "      <td>...</td>\n",
       "      <td>...</td>\n",
       "      <td>...</td>\n",
       "      <td>...</td>\n",
       "      <td>...</td>\n",
       "      <td>...</td>\n",
       "      <td>...</td>\n",
       "      <td>...</td>\n",
       "      <td>...</td>\n",
       "      <td>...</td>\n",
       "    </tr>\n",
       "    <tr>\n",
       "      <td>9944</td>\n",
       "      <td>744</td>\n",
       "      <td>Germany</td>\n",
       "      <td>Male</td>\n",
       "      <td>41</td>\n",
       "      <td>0.0</td>\n",
       "      <td>190409.34</td>\n",
       "      <td>2</td>\n",
       "      <td>1</td>\n",
       "      <td>1</td>\n",
       "      <td>138361.48</td>\n",
       "      <td>0</td>\n",
       "    </tr>\n",
       "    <tr>\n",
       "      <td>9956</td>\n",
       "      <td>520</td>\n",
       "      <td>France</td>\n",
       "      <td>Female</td>\n",
       "      <td>46</td>\n",
       "      <td>0.0</td>\n",
       "      <td>85216.61</td>\n",
       "      <td>1</td>\n",
       "      <td>1</td>\n",
       "      <td>0</td>\n",
       "      <td>117369.52</td>\n",
       "      <td>1</td>\n",
       "    </tr>\n",
       "    <tr>\n",
       "      <td>9964</td>\n",
       "      <td>479</td>\n",
       "      <td>France</td>\n",
       "      <td>Male</td>\n",
       "      <td>34</td>\n",
       "      <td>0.0</td>\n",
       "      <td>117593.48</td>\n",
       "      <td>2</td>\n",
       "      <td>0</td>\n",
       "      <td>0</td>\n",
       "      <td>113308.29</td>\n",
       "      <td>0</td>\n",
       "    </tr>\n",
       "    <tr>\n",
       "      <td>9985</td>\n",
       "      <td>659</td>\n",
       "      <td>France</td>\n",
       "      <td>Male</td>\n",
       "      <td>36</td>\n",
       "      <td>0.0</td>\n",
       "      <td>123841.49</td>\n",
       "      <td>2</td>\n",
       "      <td>1</td>\n",
       "      <td>0</td>\n",
       "      <td>96833.00</td>\n",
       "      <td>0</td>\n",
       "    </tr>\n",
       "    <tr>\n",
       "      <td>9999</td>\n",
       "      <td>792</td>\n",
       "      <td>France</td>\n",
       "      <td>Female</td>\n",
       "      <td>28</td>\n",
       "      <td>0.0</td>\n",
       "      <td>130142.79</td>\n",
       "      <td>1</td>\n",
       "      <td>1</td>\n",
       "      <td>0</td>\n",
       "      <td>38190.78</td>\n",
       "      <td>0</td>\n",
       "    </tr>\n",
       "  </tbody>\n",
       "</table>\n",
       "<p>1291 rows × 11 columns</p>\n",
       "</div>"
      ],
      "text/plain": [
       "      creditscore geography  gender  age  tenure    balance  numofproducts  \\\n",
       "29            411    France    Male   29     0.0   59697.17              2   \n",
       "30            591     Spain  Female   39     0.0       0.00              3   \n",
       "35            475    France  Female   45     0.0  134264.04              1   \n",
       "48            550   Germany    Male   38     0.0  103391.38              1   \n",
       "51            585   Germany    Male   36     0.0  146050.97              2   \n",
       "...           ...       ...     ...  ...     ...        ...            ...   \n",
       "9944          744   Germany    Male   41     0.0  190409.34              2   \n",
       "9956          520    France  Female   46     0.0   85216.61              1   \n",
       "9964          479    France    Male   34     0.0  117593.48              2   \n",
       "9985          659    France    Male   36     0.0  123841.49              2   \n",
       "9999          792    France  Female   28     0.0  130142.79              1   \n",
       "\n",
       "      hascrcard  isactivemember  estimatedsalary  exited  \n",
       "29            1               1         53483.21       0  \n",
       "30            1               0        140469.38       1  \n",
       "35            1               0         27822.99       1  \n",
       "48            0               1         90878.13       0  \n",
       "51            0               0         86424.57       0  \n",
       "...         ...             ...              ...     ...  \n",
       "9944          1               1        138361.48       0  \n",
       "9956          1               0        117369.52       1  \n",
       "9964          0               0        113308.29       0  \n",
       "9985          1               0         96833.00       0  \n",
       "9999          1               0         38190.78       0  \n",
       "\n",
       "[1291 rows x 11 columns]"
      ]
     },
     "metadata": {},
     "output_type": "display_data"
    },
    {
     "data": {
      "text/html": [
       "<div>\n",
       "<style scoped>\n",
       "    .dataframe tbody tr th:only-of-type {\n",
       "        vertical-align: middle;\n",
       "    }\n",
       "\n",
       "    .dataframe tbody tr th {\n",
       "        vertical-align: top;\n",
       "    }\n",
       "\n",
       "    .dataframe thead th {\n",
       "        text-align: right;\n",
       "    }\n",
       "</style>\n",
       "<table border=\"1\" class=\"dataframe\">\n",
       "  <thead>\n",
       "    <tr style=\"text-align: right;\">\n",
       "      <th></th>\n",
       "      <th>creditscore</th>\n",
       "      <th>geography</th>\n",
       "      <th>gender</th>\n",
       "      <th>age</th>\n",
       "      <th>tenure</th>\n",
       "      <th>balance</th>\n",
       "      <th>numofproducts</th>\n",
       "      <th>hascrcard</th>\n",
       "      <th>isactivemember</th>\n",
       "      <th>estimatedsalary</th>\n",
       "      <th>exited</th>\n",
       "    </tr>\n",
       "  </thead>\n",
       "  <tbody>\n",
       "  </tbody>\n",
       "</table>\n",
       "</div>"
      ],
      "text/plain": [
       "Empty DataFrame\n",
       "Columns: [creditscore, geography, gender, age, tenure, balance, numofproducts, hascrcard, isactivemember, estimatedsalary, exited]\n",
       "Index: []"
      ]
     },
     "execution_count": 5,
     "metadata": {},
     "output_type": "execute_result"
    }
   ],
   "source": [
    "#Заменяю пропуски в Tenure\n",
    "data[data['tenure'].isnull()]\n",
    "data['tenure'] = data['tenure'].fillna(value=0)\n",
    "display(data[data['tenure'] == 0])\n",
    "data[data['tenure'].isnull()]"
   ]
  },
  {
   "cell_type": "markdown",
   "metadata": {},
   "source": [
    "Пропусков в столбце с количеством лет клиента в банке много (10% от всей таблицы) - удалять их нельзя.\n",
    "Вычислить их из других данных невозможно, заменить средним тоже. Оставшееся решение - заменить их на нули"
   ]
  },
  {
   "cell_type": "code",
   "execution_count": 6,
   "metadata": {},
   "outputs": [
    {
     "data": {
      "text/html": [
       "<div>\n",
       "<style scoped>\n",
       "    .dataframe tbody tr th:only-of-type {\n",
       "        vertical-align: middle;\n",
       "    }\n",
       "\n",
       "    .dataframe tbody tr th {\n",
       "        vertical-align: top;\n",
       "    }\n",
       "\n",
       "    .dataframe thead th {\n",
       "        text-align: right;\n",
       "    }\n",
       "</style>\n",
       "<table border=\"1\" class=\"dataframe\">\n",
       "  <thead>\n",
       "    <tr style=\"text-align: right;\">\n",
       "      <th></th>\n",
       "      <th>creditscore</th>\n",
       "      <th>age</th>\n",
       "      <th>tenure</th>\n",
       "      <th>balance</th>\n",
       "      <th>numofproducts</th>\n",
       "      <th>hascrcard</th>\n",
       "      <th>isactivemember</th>\n",
       "      <th>estimatedsalary</th>\n",
       "      <th>exited</th>\n",
       "      <th>geography_Germany</th>\n",
       "      <th>geography_Spain</th>\n",
       "      <th>gender_Male</th>\n",
       "    </tr>\n",
       "  </thead>\n",
       "  <tbody>\n",
       "    <tr>\n",
       "      <td>0</td>\n",
       "      <td>619</td>\n",
       "      <td>42</td>\n",
       "      <td>2.0</td>\n",
       "      <td>0.00</td>\n",
       "      <td>1</td>\n",
       "      <td>1</td>\n",
       "      <td>1</td>\n",
       "      <td>101348.88</td>\n",
       "      <td>1</td>\n",
       "      <td>0</td>\n",
       "      <td>0</td>\n",
       "      <td>0</td>\n",
       "    </tr>\n",
       "    <tr>\n",
       "      <td>1</td>\n",
       "      <td>608</td>\n",
       "      <td>41</td>\n",
       "      <td>1.0</td>\n",
       "      <td>83807.86</td>\n",
       "      <td>1</td>\n",
       "      <td>0</td>\n",
       "      <td>1</td>\n",
       "      <td>112542.58</td>\n",
       "      <td>0</td>\n",
       "      <td>0</td>\n",
       "      <td>1</td>\n",
       "      <td>0</td>\n",
       "    </tr>\n",
       "    <tr>\n",
       "      <td>2</td>\n",
       "      <td>502</td>\n",
       "      <td>42</td>\n",
       "      <td>8.0</td>\n",
       "      <td>159660.80</td>\n",
       "      <td>3</td>\n",
       "      <td>1</td>\n",
       "      <td>0</td>\n",
       "      <td>113931.57</td>\n",
       "      <td>1</td>\n",
       "      <td>0</td>\n",
       "      <td>0</td>\n",
       "      <td>0</td>\n",
       "    </tr>\n",
       "    <tr>\n",
       "      <td>3</td>\n",
       "      <td>699</td>\n",
       "      <td>39</td>\n",
       "      <td>1.0</td>\n",
       "      <td>0.00</td>\n",
       "      <td>2</td>\n",
       "      <td>0</td>\n",
       "      <td>0</td>\n",
       "      <td>93826.63</td>\n",
       "      <td>0</td>\n",
       "      <td>0</td>\n",
       "      <td>0</td>\n",
       "      <td>0</td>\n",
       "    </tr>\n",
       "    <tr>\n",
       "      <td>4</td>\n",
       "      <td>850</td>\n",
       "      <td>43</td>\n",
       "      <td>2.0</td>\n",
       "      <td>125510.82</td>\n",
       "      <td>1</td>\n",
       "      <td>1</td>\n",
       "      <td>1</td>\n",
       "      <td>79084.10</td>\n",
       "      <td>0</td>\n",
       "      <td>0</td>\n",
       "      <td>1</td>\n",
       "      <td>0</td>\n",
       "    </tr>\n",
       "  </tbody>\n",
       "</table>\n",
       "</div>"
      ],
      "text/plain": [
       "   creditscore  age  tenure    balance  numofproducts  hascrcard  \\\n",
       "0          619   42     2.0       0.00              1          1   \n",
       "1          608   41     1.0   83807.86              1          0   \n",
       "2          502   42     8.0  159660.80              3          1   \n",
       "3          699   39     1.0       0.00              2          0   \n",
       "4          850   43     2.0  125510.82              1          1   \n",
       "\n",
       "   isactivemember  estimatedsalary  exited  geography_Germany  \\\n",
       "0               1        101348.88       1                  0   \n",
       "1               1        112542.58       0                  0   \n",
       "2               0        113931.57       1                  0   \n",
       "3               0         93826.63       0                  0   \n",
       "4               1         79084.10       0                  0   \n",
       "\n",
       "   geography_Spain  gender_Male  \n",
       "0                0            0  \n",
       "1                1            0  \n",
       "2                0            0  \n",
       "3                0            0  \n",
       "4                1            0  "
      ]
     },
     "execution_count": 6,
     "metadata": {},
     "output_type": "execute_result"
    }
   ],
   "source": [
    "#Перевожу Geography и Gender из категориальных в численные\n",
    "data = pd.get_dummies(data, drop_first=True)\n",
    "data.head()"
   ]
  },
  {
   "cell_type": "markdown",
   "metadata": {},
   "source": [
    "Я не стала сбрасывать первый столбец Geography, так как он несет в себе неповторимую информацию (в данных представлены всего 3 страны - Германия, Испания и Франция. При удалении первого столбца Франция исчезает).\n",
    "А из Gender удалила первый столбец вручную"
   ]
  },
  {
   "cell_type": "code",
   "execution_count": 7,
   "metadata": {},
   "outputs": [
    {
     "name": "stdout",
     "output_type": "stream",
     "text": [
      "(6000, 11) (6000,)\n",
      "(2000, 11) (2000,)\n",
      "(2000, 11) (2000,)\n"
     ]
    },
    {
     "data": {
      "text/html": [
       "<div>\n",
       "<style scoped>\n",
       "    .dataframe tbody tr th:only-of-type {\n",
       "        vertical-align: middle;\n",
       "    }\n",
       "\n",
       "    .dataframe tbody tr th {\n",
       "        vertical-align: top;\n",
       "    }\n",
       "\n",
       "    .dataframe thead th {\n",
       "        text-align: right;\n",
       "    }\n",
       "</style>\n",
       "<table border=\"1\" class=\"dataframe\">\n",
       "  <thead>\n",
       "    <tr style=\"text-align: right;\">\n",
       "      <th></th>\n",
       "      <th>creditscore</th>\n",
       "      <th>age</th>\n",
       "      <th>tenure</th>\n",
       "      <th>balance</th>\n",
       "      <th>numofproducts</th>\n",
       "      <th>hascrcard</th>\n",
       "      <th>isactivemember</th>\n",
       "      <th>estimatedsalary</th>\n",
       "      <th>geography_Germany</th>\n",
       "      <th>geography_Spain</th>\n",
       "      <th>gender_Male</th>\n",
       "    </tr>\n",
       "  </thead>\n",
       "  <tbody>\n",
       "    <tr>\n",
       "      <td>9761</td>\n",
       "      <td>807</td>\n",
       "      <td>60</td>\n",
       "      <td>0.0</td>\n",
       "      <td>72948.58</td>\n",
       "      <td>2</td>\n",
       "      <td>1</td>\n",
       "      <td>1</td>\n",
       "      <td>17355.36</td>\n",
       "      <td>1</td>\n",
       "      <td>0</td>\n",
       "      <td>0</td>\n",
       "    </tr>\n",
       "    <tr>\n",
       "      <td>3159</td>\n",
       "      <td>834</td>\n",
       "      <td>23</td>\n",
       "      <td>4.0</td>\n",
       "      <td>131254.81</td>\n",
       "      <td>1</td>\n",
       "      <td>1</td>\n",
       "      <td>0</td>\n",
       "      <td>20199.30</td>\n",
       "      <td>0</td>\n",
       "      <td>0</td>\n",
       "      <td>1</td>\n",
       "    </tr>\n",
       "    <tr>\n",
       "      <td>1489</td>\n",
       "      <td>609</td>\n",
       "      <td>39</td>\n",
       "      <td>8.0</td>\n",
       "      <td>141675.23</td>\n",
       "      <td>1</td>\n",
       "      <td>0</td>\n",
       "      <td>1</td>\n",
       "      <td>175664.25</td>\n",
       "      <td>0</td>\n",
       "      <td>0</td>\n",
       "      <td>0</td>\n",
       "    </tr>\n",
       "    <tr>\n",
       "      <td>2987</td>\n",
       "      <td>676</td>\n",
       "      <td>26</td>\n",
       "      <td>1.0</td>\n",
       "      <td>108348.66</td>\n",
       "      <td>1</td>\n",
       "      <td>0</td>\n",
       "      <td>0</td>\n",
       "      <td>60231.74</td>\n",
       "      <td>1</td>\n",
       "      <td>0</td>\n",
       "      <td>0</td>\n",
       "    </tr>\n",
       "    <tr>\n",
       "      <td>812</td>\n",
       "      <td>516</td>\n",
       "      <td>33</td>\n",
       "      <td>3.0</td>\n",
       "      <td>0.00</td>\n",
       "      <td>2</td>\n",
       "      <td>1</td>\n",
       "      <td>1</td>\n",
       "      <td>58685.59</td>\n",
       "      <td>0</td>\n",
       "      <td>1</td>\n",
       "      <td>0</td>\n",
       "    </tr>\n",
       "  </tbody>\n",
       "</table>\n",
       "</div>"
      ],
      "text/plain": [
       "      creditscore  age  tenure    balance  numofproducts  hascrcard  \\\n",
       "9761          807   60     0.0   72948.58              2          1   \n",
       "3159          834   23     4.0  131254.81              1          1   \n",
       "1489          609   39     8.0  141675.23              1          0   \n",
       "2987          676   26     1.0  108348.66              1          0   \n",
       "812           516   33     3.0       0.00              2          1   \n",
       "\n",
       "      isactivemember  estimatedsalary  geography_Germany  geography_Spain  \\\n",
       "9761               1         17355.36                  1                0   \n",
       "3159               0         20199.30                  0                0   \n",
       "1489               1        175664.25                  0                0   \n",
       "2987               0         60231.74                  1                0   \n",
       "812                1         58685.59                  0                1   \n",
       "\n",
       "      gender_Male  \n",
       "9761            0  \n",
       "3159            1  \n",
       "1489            0  \n",
       "2987            0  \n",
       "812             0  "
      ]
     },
     "execution_count": 7,
     "metadata": {},
     "output_type": "execute_result"
    }
   ],
   "source": [
    "#Отделяю целевой признак\n",
    "features = data.drop(['exited'], axis=1)\n",
    "target = data['exited']\n",
    "\n",
    "#Разделяю данные на три выборки\n",
    "\n",
    "\n",
    "features_train, features_, target_train, target_ = train_test_split(features,\n",
    "                                                                    target, test_size=0.4, random_state=42)\n",
    "features_valid, features_test, target_valid, target_test = train_test_split(features_,\n",
    "                                                                    target_, test_size=0.5, random_state=42)\n",
    "print(features_train.shape, target_train.shape)\n",
    "print(features_valid.shape, target_valid.shape)\n",
    "print(features_test.shape, target_test.shape)\n",
    "features_train.head()"
   ]
  },
  {
   "cell_type": "code",
   "execution_count": 8,
   "metadata": {},
   "outputs": [
    {
     "data": {
      "text/html": [
       "<div>\n",
       "<style scoped>\n",
       "    .dataframe tbody tr th:only-of-type {\n",
       "        vertical-align: middle;\n",
       "    }\n",
       "\n",
       "    .dataframe tbody tr th {\n",
       "        vertical-align: top;\n",
       "    }\n",
       "\n",
       "    .dataframe thead th {\n",
       "        text-align: right;\n",
       "    }\n",
       "</style>\n",
       "<table border=\"1\" class=\"dataframe\">\n",
       "  <thead>\n",
       "    <tr style=\"text-align: right;\">\n",
       "      <th></th>\n",
       "      <th>creditscore</th>\n",
       "      <th>age</th>\n",
       "      <th>tenure</th>\n",
       "      <th>balance</th>\n",
       "      <th>numofproducts</th>\n",
       "      <th>hascrcard</th>\n",
       "      <th>isactivemember</th>\n",
       "      <th>estimatedsalary</th>\n",
       "      <th>geography_Germany</th>\n",
       "      <th>geography_Spain</th>\n",
       "      <th>gender_Male</th>\n",
       "    </tr>\n",
       "  </thead>\n",
       "  <tbody>\n",
       "    <tr>\n",
       "      <td>9761</td>\n",
       "      <td>1.603068</td>\n",
       "      <td>2.027653</td>\n",
       "      <td>-1.457665</td>\n",
       "      <td>-0.048229</td>\n",
       "      <td>0.824078</td>\n",
       "      <td>0.645833</td>\n",
       "      <td>0.964303</td>\n",
       "      <td>-1.452982</td>\n",
       "      <td>1</td>\n",
       "      <td>0</td>\n",
       "      <td>0</td>\n",
       "    </tr>\n",
       "    <tr>\n",
       "      <td>3159</td>\n",
       "      <td>1.883194</td>\n",
       "      <td>-1.520072</td>\n",
       "      <td>-0.168647</td>\n",
       "      <td>0.884122</td>\n",
       "      <td>-0.905967</td>\n",
       "      <td>0.645833</td>\n",
       "      <td>-1.037018</td>\n",
       "      <td>-1.403696</td>\n",
       "      <td>0</td>\n",
       "      <td>0</td>\n",
       "      <td>1</td>\n",
       "    </tr>\n",
       "    <tr>\n",
       "      <td>1489</td>\n",
       "      <td>-0.451185</td>\n",
       "      <td>0.014079</td>\n",
       "      <td>1.120372</td>\n",
       "      <td>1.050751</td>\n",
       "      <td>-0.905967</td>\n",
       "      <td>-1.548389</td>\n",
       "      <td>0.964303</td>\n",
       "      <td>1.290549</td>\n",
       "      <td>0</td>\n",
       "      <td>0</td>\n",
       "      <td>0</td>\n",
       "    </tr>\n",
       "    <tr>\n",
       "      <td>2987</td>\n",
       "      <td>0.243941</td>\n",
       "      <td>-1.232419</td>\n",
       "      <td>-1.135410</td>\n",
       "      <td>0.517839</td>\n",
       "      <td>-0.905967</td>\n",
       "      <td>-1.548389</td>\n",
       "      <td>-1.037018</td>\n",
       "      <td>-0.709924</td>\n",
       "      <td>1</td>\n",
       "      <td>0</td>\n",
       "      <td>0</td>\n",
       "    </tr>\n",
       "    <tr>\n",
       "      <td>812</td>\n",
       "      <td>-1.416062</td>\n",
       "      <td>-0.561228</td>\n",
       "      <td>-0.490901</td>\n",
       "      <td>-1.214721</td>\n",
       "      <td>0.824078</td>\n",
       "      <td>0.645833</td>\n",
       "      <td>0.964303</td>\n",
       "      <td>-0.736719</td>\n",
       "      <td>0</td>\n",
       "      <td>1</td>\n",
       "      <td>0</td>\n",
       "    </tr>\n",
       "  </tbody>\n",
       "</table>\n",
       "</div>"
      ],
      "text/plain": [
       "      creditscore       age    tenure   balance  numofproducts  hascrcard  \\\n",
       "9761     1.603068  2.027653 -1.457665 -0.048229       0.824078   0.645833   \n",
       "3159     1.883194 -1.520072 -0.168647  0.884122      -0.905967   0.645833   \n",
       "1489    -0.451185  0.014079  1.120372  1.050751      -0.905967  -1.548389   \n",
       "2987     0.243941 -1.232419 -1.135410  0.517839      -0.905967  -1.548389   \n",
       "812     -1.416062 -0.561228 -0.490901 -1.214721       0.824078   0.645833   \n",
       "\n",
       "      isactivemember  estimatedsalary  geography_Germany  geography_Spain  \\\n",
       "9761        0.964303        -1.452982                  1                0   \n",
       "3159       -1.037018        -1.403696                  0                0   \n",
       "1489        0.964303         1.290549                  0                0   \n",
       "2987       -1.037018        -0.709924                  1                0   \n",
       "812         0.964303        -0.736719                  0                1   \n",
       "\n",
       "      gender_Male  \n",
       "9761            0  \n",
       "3159            1  \n",
       "1489            0  \n",
       "2987            0  \n",
       "812             0  "
      ]
     },
     "execution_count": 8,
     "metadata": {},
     "output_type": "execute_result"
    }
   ],
   "source": [
    "#Провожу масштабирование признаков\n",
    "\n",
    "num = ['creditscore', 'age', 'tenure', 'balance', 'numofproducts', 'hascrcard', 'isactivemember', 'estimatedsalary']\n",
    "scaler = StandardScaler()\n",
    "scaler.fit(features_train[num])\n",
    "features_train[num] = scaler.transform(features_train[num])\n",
    "features_valid[num] = scaler.transform(features_valid[num])\n",
    "features_test[num] = scaler.transform(features_test[num])\n",
    "features_train.head()"
   ]
  },
  {
   "cell_type": "markdown",
   "metadata": {},
   "source": [
    "В ходе подготовки данных были: удалены неинформативные столбцы, заполнены пропуски, категориальные переменные переведены в численные, проведено масштабирование остальных численных признаков. Так же данные были разделены на обучающую, валидационную и тестовую выборки"
   ]
  },
  {
   "cell_type": "markdown",
   "metadata": {},
   "source": [
    "## Исследование задачи"
   ]
  },
  {
   "cell_type": "markdown",
   "metadata": {},
   "source": [
    "Исследуйте баланс классов, обучите модель без учёта дисбаланса. Кратко опишите выводы."
   ]
  },
  {
   "cell_type": "code",
   "execution_count": 9,
   "metadata": {},
   "outputs": [
    {
     "name": "stdout",
     "output_type": "stream",
     "text": [
      "Положительных отметок 1227\n",
      "Отрицательных отметок 4773\n"
     ]
    },
    {
     "data": {
      "text/plain": [
       "3.8899755501222493"
      ]
     },
     "execution_count": 9,
     "metadata": {},
     "output_type": "execute_result"
    }
   ],
   "source": [
    "#Исследую баланс классов\n",
    "print('Положительных отметок', target_train.sum())\n",
    "print('Отрицательных отметок', len(target_train) - target_train.sum())\n",
    "(len(target_train) - target_train.sum()) / target_train.sum()"
   ]
  },
  {
   "cell_type": "markdown",
   "metadata": {},
   "source": [
    "Количество людей, ушедших из банка, почти в 4 раза меньше, чем количество оставшихся. Дисбаланс заметный"
   ]
  },
  {
   "cell_type": "code",
   "execution_count": 10,
   "metadata": {},
   "outputs": [
    {
     "name": "stdout",
     "output_type": "stream",
     "text": [
      "F1 0.2967244701348748\n",
      "F1 constant 0.0\n",
      "AUC-ROC 0.7532797270955165\n"
     ]
    },
    {
     "data": {
      "text/plain": [
       "array([0, 0, 0, ..., 0, 1, 0])"
      ]
     },
     "execution_count": 10,
     "metadata": {},
     "output_type": "execute_result"
    }
   ],
   "source": [
    "#Работа модели без учета дисбаланса (логистическая регрессия)\n",
    "model = LogisticRegression(random_state=42, solver='liblinear')\n",
    "model.fit(features_train, target_train)\n",
    "predictions_valid = model.predict(features_valid)\n",
    "proba = model.predict_proba(features_valid)\n",
    "predictions_const = np.zeros(len(target_valid)).astype('int')\n",
    "\n",
    "print('F1', f1_score(target_valid, predictions_valid))\n",
    "print('F1 constant', f1_score(target_valid, predictions_const))\n",
    "print('AUC-ROC', roc_auc_score(target_valid, proba[:, 1]))\n",
    "predictions_const\n",
    "predictions_valid"
   ]
  },
  {
   "cell_type": "code",
   "execution_count": 11,
   "metadata": {},
   "outputs": [
    {
     "name": "stdout",
     "output_type": "stream",
     "text": [
      "6 F1 0.527687296416938\n",
      "6 AUC-ROC 0.8073984730344379\n"
     ]
    }
   ],
   "source": [
    "#ДЕРЕВО\n",
    "\n",
    "f1_max = 0\n",
    "auc_max = 0\n",
    "\n",
    "for n in range(1, 20):\n",
    "    model = DecisionTreeClassifier(random_state=42, max_depth=n)\n",
    "    model.fit(features_train, target_train)\n",
    "    predictions_valid = model.predict(features_valid)\n",
    "    proba = model.predict_proba(features_valid)\n",
    "    f1 = f1_score(target_valid, predictions_valid)\n",
    "    auc_roc = roc_auc_score(target_valid, proba[:, 1])\n",
    "\n",
    "    \n",
    "    if f1 > f1_max:\n",
    "        f1_max = f1\n",
    "        n_f1 = n\n",
    "        \n",
    "    if auc_roc > auc_max:\n",
    "        auc_max = auc_roc\n",
    "        n_auc = n       \n",
    "\n",
    "print(n_f1, 'F1', f1_max)  \n",
    "print(n_auc, 'AUC-ROC', auc_max)"
   ]
  },
  {
   "cell_type": "code",
   "execution_count": 12,
   "metadata": {},
   "outputs": [
    {
     "name": "stdout",
     "output_type": "stream",
     "text": [
      "17 F1 0.5636070853462158\n",
      "7 AUC-ROC 0.8444720597790774\n",
      "\n",
      "70 F1 0.5742251223491027\n",
      "90 AUC-ROC 0.8336663417803769\n"
     ]
    }
   ],
   "source": [
    "#СЛУЧАЙНЫЙ ЛЕС\n",
    "\n",
    "n = 20\n",
    "f1_max = 0\n",
    "auc_max = 0\n",
    "f1_l = list()\n",
    "auc_l = list()\n",
    "d_l = list()\n",
    "\n",
    "for d in range(1, 20):\n",
    "    model = RandomForestClassifier(random_state=42, max_depth=d, n_estimators=n)\n",
    "    model.fit(features_train, target_train)\n",
    "    predictions_valid = model.predict(features_valid)\n",
    "    proba = model.predict_proba(features_valid)\n",
    "    f1 = f1_score(target_valid, predictions_valid)\n",
    "    auc_roc = roc_auc_score(target_valid, proba[:, 1])\n",
    "    \n",
    "    if f1 > f1_max:\n",
    "        f1_max = f1\n",
    "        d_f1 = d\n",
    "        \n",
    "    if auc_roc > auc_max:\n",
    "        auc_max = auc_roc\n",
    "        d_auc = d    \n",
    "\n",
    "print(d_f1, 'F1', f1_max)\n",
    "print(d_auc, 'AUC-ROC', auc_max)\n",
    "print()\n",
    "\n",
    "d = d_f1\n",
    "f1_max = 0\n",
    "auc_max = 0\n",
    "\n",
    "for n in range(10, 100, 10):\n",
    "    model = RandomForestClassifier(random_state=42, max_depth=d, n_estimators=n)\n",
    "    model.fit(features_train, target_train)\n",
    "    predictions_valid = model.predict(features_valid)\n",
    "    proba = model.predict_proba(features_valid)\n",
    "    f1 = f1_score(target_valid, predictions_valid)\n",
    "    auc_roc = roc_auc_score(target_valid, proba[:, 1])\n",
    "\n",
    "    if f1 > f1_max:\n",
    "        f1_max = f1\n",
    "        n_f1 = n\n",
    "        \n",
    "    if auc_roc > auc_max:\n",
    "        auc_max = auc_roc\n",
    "        n_auc = n    \n",
    "\n",
    "print(n_f1, 'F1', f1_max)\n",
    "print(n_auc, 'AUC-ROC', auc_max)"
   ]
  },
  {
   "cell_type": "markdown",
   "metadata": {},
   "source": [
    "При работе модели без учета дисбаланса классов были получены значения:\n",
    "- F1 0.296\n",
    "- AUC-ROC 0.753\n",
    "Значение AUC-ROC модели больше 0.5 (что соотвествует случайной модели), значит модель уже точнее предсказывает, чем случайная. Хотя положительного класса почти в 4 раза меньше, чем отрицательного.\n",
    "\n",
    "\n",
    "*Я пыталась для сравнения посчитать F1 константной модели (предсказывает только нули), но не смогла. Подскажите, пожалуйста, в чем проблема*"
   ]
  },
  {
   "cell_type": "markdown",
   "metadata": {},
   "source": [
    "## Борьба с дисбалансом"
   ]
  },
  {
   "cell_type": "markdown",
   "metadata": {},
   "source": [
    "Улучшите качество модели, учитывая дисбаланс классов. Обучите разные модели и найдите лучшую. Кратко опишите выводы."
   ]
  },
  {
   "cell_type": "code",
   "execution_count": 13,
   "metadata": {},
   "outputs": [
    {
     "name": "stdout",
     "output_type": "stream",
     "text": [
      "F1 0.4660869565217392\n",
      "AUC-ROC 0.7540432098765433\n"
     ]
    }
   ],
   "source": [
    "#Модель логистической регрессии со сбалансированными классами\n",
    "model = LogisticRegression(random_state=42, solver='liblinear', class_weight='balanced')\n",
    "model.fit(features_train, target_train)\n",
    "predictions_valid = model.predict(features_valid)\n",
    "proba = model.predict_proba(features_valid)\n",
    "\n",
    "print('F1', f1_score(target_valid, predictions_valid))\n",
    "print('AUC-ROC', roc_auc_score(target_valid, proba[:, 1]))"
   ]
  },
  {
   "cell_type": "markdown",
   "metadata": {},
   "source": [
    "В сравнении с несбалансированными классами модель показала улучшение F1 (с 0.296 до 0.466), тогда как AUC-ROC почти не изменилась"
   ]
  },
  {
   "cell_type": "code",
   "execution_count": 14,
   "metadata": {},
   "outputs": [
    {
     "name": "stdout",
     "output_type": "stream",
     "text": [
      "3 F1 0.46997929606625255\n",
      "4 AUC-ROC 0.7540302144249511\n"
     ]
    },
    {
     "data": {
      "image/png": "[encoded data removed]",
      "text/plain": [
       "<Figure size 432x288 with 1 Axes>"
      ]
     },
     "metadata": {
      "needs_background": "light"
     },
     "output_type": "display_data"
    },
    {
     "data": {
      "image/png": "[encoded data removed]",
      "text/plain": [
       "<Figure size 432x288 with 1 Axes>"
      ]
     },
     "metadata": {
      "needs_background": "light"
     },
     "output_type": "display_data"
    }
   ],
   "source": [
    "#Upsampling\n",
    "\n",
    "\n",
    "def upsampling(features, target, repeat):\n",
    "\n",
    "    features_zeros = features[target == 0]\n",
    "    features_ones = features[target == 1]\n",
    "    target_zeros = target[target == 0]\n",
    "    target_ones = target[target == 1]\n",
    "\n",
    "    features_up = pd.concat([features_zeros] + [features_ones] * repeat)\n",
    "    target_up = pd.concat([target_zeros] + [target_ones] * repeat)\n",
    "\n",
    "    features_up, target_up = shuffle(features_up, target_up, random_state=42)\n",
    "    return features_up, target_up\n",
    "\n",
    "#Подбираем во сколько раз увеличить количество положительного класса\n",
    "f1_max = 0\n",
    "auc_max = 0\n",
    "\n",
    "f1_l = list()\n",
    "auc_l = list()\n",
    "rep_l = list()\n",
    "\n",
    "for rep in range(1, 10):\n",
    "    features_up, target_up = upsampling(features_train, target_train, rep)\n",
    "\n",
    "    model = LogisticRegression(random_state=42, solver='liblinear')\n",
    "    model.fit(features_up, target_up)\n",
    "    predictions_valid = model.predict(features_valid)\n",
    "    proba = model.predict_proba(features_valid)\n",
    "    f1 = f1_score(target_valid, predictions_valid)\n",
    "    auc_roc = roc_auc_score(target_valid, proba[:, 1])\n",
    "    \n",
    "    f1_l.append(f1)\n",
    "    auc_l.append(auc_roc)\n",
    "    rep_l.append(rep)\n",
    "    \n",
    "    if f1 > f1_max:\n",
    "        f1_max = f1\n",
    "        rep_max = rep\n",
    "\n",
    "    if auc_roc > auc_max:\n",
    "        auc_max = auc_roc\n",
    "        rep_auc = rep \n",
    "       \n",
    "print(rep_max, 'F1', f1_max)  \n",
    "print(rep_auc, 'AUC-ROC', auc_max)\n",
    "\n",
    "#строим графики\n",
    "plt.axis([0, 10, 0, 1])\n",
    "plt.plot(rep_l, f1_l)\n",
    "plt.title('F1')\n",
    "plt.show() \n",
    "\n",
    "plt.axis([0, 10, 0.5, 1])\n",
    "plt.plot(rep_l, auc_l)\n",
    "plt.title('AUC-ROC')\n",
    "plt.show()"
   ]
  },
  {
   "cell_type": "markdown",
   "metadata": {},
   "source": [
    "Значение F1 было максимальным (0.469) при увеличении положительного класса в 3 раза. Такое F1 больше предыдущих (0.296 и 0.466).\n",
    "AUC-ROC изменилась незначительно"
   ]
  },
  {
   "cell_type": "code",
   "execution_count": 15,
   "metadata": {},
   "outputs": [
    {
     "name": "stdout",
     "output_type": "stream",
     "text": [
      "3 F1 0.5474613686534215\n",
      "6 AUC-ROC 0.8113897011046134\n"
     ]
    },
    {
     "data": {
      "image/png": "[encoded data removed]",
      "text/plain": [
       "<Figure size 432x288 with 1 Axes>"
      ]
     },
     "metadata": {
      "needs_background": "light"
     },
     "output_type": "display_data"
    },
    {
     "data": {
      "image/png": "[encoded data removed]",
      "text/plain": [
       "<Figure size 432x288 with 1 Axes>"
      ]
     },
     "metadata": {
      "needs_background": "light"
     },
     "output_type": "display_data"
    }
   ],
   "source": [
    "#Подбираем во сколько раз увеличить количество положительного класса ДЛЯ ДЕРЕВА\n",
    "f1_max = 0\n",
    "auc_max = 0\n",
    "\n",
    "f1_l = list()\n",
    "auc_l = list()\n",
    "rep_l = list()\n",
    "\n",
    "for rep in range(1, 10):\n",
    "    features_up, target_up = upsampling(features_train, target_train, rep)\n",
    "\n",
    "    model = DecisionTreeClassifier(random_state=42, max_depth=6)\n",
    "    model.fit(features_up, target_up)\n",
    "    predictions_valid = model.predict(features_valid)\n",
    "    proba = model.predict_proba(features_valid)\n",
    "    f1 = f1_score(target_valid, predictions_valid)\n",
    "    auc_roc = roc_auc_score(target_valid, proba[:, 1])\n",
    "    \n",
    "    f1_l.append(f1)\n",
    "    auc_l.append(auc_roc)\n",
    "    rep_l.append(rep)\n",
    "    \n",
    "    if f1 > f1_max:\n",
    "        f1_max = f1\n",
    "        rep_max = rep\n",
    "\n",
    "    if auc_roc > auc_max:\n",
    "        auc_max = auc_roc\n",
    "        rep_auc = rep \n",
    "       \n",
    "print(rep_max, 'F1', f1_max)  \n",
    "print(rep_auc, 'AUC-ROC', auc_max)\n",
    "\n",
    "#строим графики\n",
    "plt.axis([0, 10, 0, 1])\n",
    "plt.plot(rep_l, f1_l)\n",
    "plt.title('F1')\n",
    "plt.show() \n",
    "\n",
    "plt.axis([0, 10, 0.5, 1])\n",
    "plt.plot(rep_l, auc_l)\n",
    "plt.title('AUC-ROC')\n",
    "plt.show()"
   ]
  },
  {
   "cell_type": "code",
   "execution_count": 16,
   "metadata": {},
   "outputs": [
    {
     "name": "stdout",
     "output_type": "stream",
     "text": [
      "3 F1 0.5794655414908579\n",
      "2 AUC-ROC 0.8355133203378817\n"
     ]
    },
    {
     "data": {
      "image/png": "[encoded data removed]",
      "text/plain": [
       "<Figure size 432x288 with 1 Axes>"
      ]
     },
     "metadata": {
      "needs_background": "light"
     },
     "output_type": "display_data"
    },
    {
     "data": {
      "image/png": "[encoded data removed]",
      "text/plain": [
       "<Figure size 432x288 with 1 Axes>"
      ]
     },
     "metadata": {
      "needs_background": "light"
     },
     "output_type": "display_data"
    }
   ],
   "source": [
    "#Подбираем во сколько раз увеличить количество положительного класса ДЛЯ СЛУЧАЙНОГО ЛЕСА\n",
    "f1_max = 0\n",
    "auc_max = 0\n",
    "\n",
    "f1_l = list()\n",
    "auc_l = list()\n",
    "rep_l = list()\n",
    "\n",
    "for rep in range(1, 10):\n",
    "    features_up, target_up = upsampling(features_train, target_train, rep)\n",
    "\n",
    "    model = RandomForestClassifier(random_state=42, max_depth=17, n_estimators=70)\n",
    "    model.fit(features_up, target_up)\n",
    "    predictions_valid = model.predict(features_valid)\n",
    "    proba = model.predict_proba(features_valid)\n",
    "    f1 = f1_score(target_valid, predictions_valid)\n",
    "    auc_roc = roc_auc_score(target_valid, proba[:, 1])\n",
    "    \n",
    "    f1_l.append(f1)\n",
    "    auc_l.append(auc_roc)\n",
    "    rep_l.append(rep)\n",
    "    \n",
    "    if f1 > f1_max:\n",
    "        f1_max = f1\n",
    "        rep_max = rep\n",
    "\n",
    "    if auc_roc > auc_max:\n",
    "        auc_max = auc_roc\n",
    "        rep_auc = rep \n",
    "       \n",
    "print(rep_max, 'F1', f1_max)  \n",
    "print(rep_auc, 'AUC-ROC', auc_max)\n",
    "\n",
    "#строим графики\n",
    "plt.axis([0, 10, 0, 1])\n",
    "plt.plot(rep_l, f1_l)\n",
    "plt.title('F1')\n",
    "plt.show() \n",
    "\n",
    "plt.axis([0, 10, 0.5, 1])\n",
    "plt.plot(rep_l, auc_l)\n",
    "plt.title('AUC-ROC')\n",
    "plt.show()"
   ]
  },
  {
   "cell_type": "code",
   "execution_count": 17,
   "metadata": {},
   "outputs": [
    {
     "name": "stdout",
     "output_type": "stream",
     "text": [
      "0.4 F1 0.46712018140589573\n",
      "0.4 AUC-ROC 0.754343729694607\n"
     ]
    },
    {
     "data": {
      "image/png": "[encoded data removed]",
      "text/plain": [
       "<Figure size 432x288 with 1 Axes>"
      ]
     },
     "metadata": {
      "needs_background": "light"
     },
     "output_type": "display_data"
    },
    {
     "data": {
      "image/png": "[encoded data removed]",
      "text/plain": [
       "<Figure size 432x288 with 1 Axes>"
      ]
     },
     "metadata": {
      "needs_background": "light"
     },
     "output_type": "display_data"
    }
   ],
   "source": [
    "#Downsampling\n",
    "\n",
    "\n",
    "def downsampling(features, target, fraction):\n",
    "\n",
    "    features_zeros = features[target == 0]\n",
    "    features_ones = features[target == 1]\n",
    "    target_zeros = target[target == 0]\n",
    "    target_ones = target[target == 1]\n",
    "    \n",
    "    features_zeros = features_zeros.sample(frac=fraction, random_state=42)\n",
    "    target_zeros = target_zeros.sample(frac=fraction, random_state=42)\n",
    "    \n",
    "    features_down = pd.concat([features_zeros] + [features_ones])\n",
    "    target_down = pd.concat([target_zeros] + [target_ones])\n",
    "\n",
    "    features_down, target_down = shuffle(features_down, target_down, random_state=42)\n",
    "    return features_down, target_down\n",
    "\n",
    "#Подбираем во сколько раз уменьшить количество отрицательного класса\n",
    "f1_max = 0\n",
    "auc_max = 0\n",
    "f1_l = list()\n",
    "auc_l = list()\n",
    "fr_l = list()\n",
    "\n",
    "for fraction in np.arange(0.1, 1, 0.1):\n",
    "    features_down, target_down = downsampling(features_train, target_train, fraction)\n",
    "\n",
    "    model = LogisticRegression(random_state=42, solver='liblinear')\n",
    "    model.fit(features_down, target_down)\n",
    "    predictions_valid = model.predict(features_valid)\n",
    "    proba = model.predict_proba(features_valid)\n",
    "    f1 = f1_score(target_valid, predictions_valid)\n",
    "    auc_roc = roc_auc_score(target_valid, proba[:, 1])\n",
    "    \n",
    "    f1_l.append(f1)\n",
    "    auc_l.append(auc_roc)\n",
    "    fr_l.append(fraction)\n",
    "    \n",
    "    if f1 > f1_max:\n",
    "        f1_max = f1\n",
    "        fr_max = fraction\n",
    "\n",
    "    if auc_roc > auc_max:\n",
    "        auc_max = auc_roc\n",
    "        fr_auc = fraction \n",
    "        \n",
    "print(fr_max, 'F1', f1_max)  \n",
    "print(fr_auc, 'AUC-ROC', auc_max)\n",
    "\n",
    "#строим графики\n",
    "plt.axis([0, 1, 0, 1])\n",
    "plt.plot(fr_l, f1_l)\n",
    "plt.title('F1')\n",
    "plt.show() \n",
    "\n",
    "plt.axis([0, 1, 0.5, 1])\n",
    "plt.plot(fr_l, auc_l)\n",
    "plt.title('AUC-ROC')\n",
    "plt.show()"
   ]
  },
  {
   "cell_type": "code",
   "execution_count": 18,
   "metadata": {},
   "outputs": [
    {
     "name": "stdout",
     "output_type": "stream",
     "text": [
      "0.6 F1 0.5616045845272206\n",
      "0.6 AUC-ROC 0.8108512020792723\n"
     ]
    },
    {
     "data": {
      "image/png": "[encoded data removed]",
      "text/plain": [
       "<Figure size 432x288 with 1 Axes>"
      ]
     },
     "metadata": {
      "needs_background": "light"
     },
     "output_type": "display_data"
    },
    {
     "data": {
      "image/png": "[encoded data removed]",
      "text/plain": [
       "<Figure size 432x288 with 1 Axes>"
      ]
     },
     "metadata": {
      "needs_background": "light"
     },
     "output_type": "display_data"
    }
   ],
   "source": [
    "#Подбираем ДЛЯ ДЕРЕВА\n",
    "f1_max = 0\n",
    "auc_max = 0\n",
    "f1_l = list()\n",
    "auc_l = list()\n",
    "fr_l = list()\n",
    "\n",
    "for fraction in np.arange(0.1, 1, 0.1):\n",
    "    features_down, target_down = downsampling(features_train, target_train, fraction)\n",
    "\n",
    "    model = DecisionTreeClassifier(random_state=42, max_depth=6)\n",
    "    model.fit(features_down, target_down)\n",
    "    predictions_valid = model.predict(features_valid)\n",
    "    proba = model.predict_proba(features_valid)\n",
    "    f1 = f1_score(target_valid, predictions_valid)\n",
    "    auc_roc = roc_auc_score(target_valid, proba[:, 1])\n",
    "    \n",
    "    f1_l.append(f1)\n",
    "    auc_l.append(auc_roc)\n",
    "    fr_l.append(fraction)\n",
    "    \n",
    "    if f1 > f1_max:\n",
    "        f1_max = f1\n",
    "        fr_max = fraction\n",
    "\n",
    "    if auc_roc > auc_max:\n",
    "        auc_max = auc_roc\n",
    "        fr_auc = fraction \n",
    "        \n",
    "print(fr_max, 'F1', f1_max)  \n",
    "print(fr_auc, 'AUC-ROC', auc_max)\n",
    "\n",
    "#строим графики\n",
    "plt.axis([0, 1, 0, 1])\n",
    "plt.plot(fr_l, f1_l)\n",
    "plt.title('F1')\n",
    "plt.show() \n",
    "\n",
    "plt.axis([0, 1, 0.5, 1])\n",
    "plt.plot(fr_l, auc_l)\n",
    "plt.title('AUC-ROC')\n",
    "plt.show()"
   ]
  },
  {
   "cell_type": "code",
   "execution_count": 19,
   "metadata": {},
   "outputs": [
    {
     "name": "stdout",
     "output_type": "stream",
     "text": [
      "0.4 F1 0.5791962174940898\n",
      "0.7000000000000001 AUC-ROC 0.8333609486679661\n"
     ]
    },
    {
     "data": {
      "image/png": "[encoded data removed]",
      "text/plain": [
       "<Figure size 432x288 with 1 Axes>"
      ]
     },
     "metadata": {
      "needs_background": "light"
     },
     "output_type": "display_data"
    },
    {
     "data": {
      "image/png": "[encoded data removed]",
      "text/plain": [
       "<Figure size 432x288 with 1 Axes>"
      ]
     },
     "metadata": {
      "needs_background": "light"
     },
     "output_type": "display_data"
    }
   ],
   "source": [
    "#Подбираем ДЛЯ СЛУЧАЙНОГО ЛЕСА\n",
    "f1_max = 0\n",
    "auc_max = 0\n",
    "f1_l = list()\n",
    "auc_l = list()\n",
    "fr_l = list()\n",
    "\n",
    "for fraction in np.arange(0.1, 1, 0.1):\n",
    "    features_down, target_down = downsampling(features_train, target_train, fraction)\n",
    "\n",
    "    model = RandomForestClassifier(random_state=42, max_depth=17, n_estimators=70)\n",
    "    model.fit(features_down, target_down)\n",
    "    predictions_valid = model.predict(features_valid)\n",
    "    proba = model.predict_proba(features_valid)\n",
    "    f1 = f1_score(target_valid, predictions_valid)\n",
    "    auc_roc = roc_auc_score(target_valid, proba[:, 1])\n",
    "    \n",
    "    f1_l.append(f1)\n",
    "    auc_l.append(auc_roc)\n",
    "    fr_l.append(fraction)\n",
    "    \n",
    "    if f1 > f1_max:\n",
    "        f1_max = f1\n",
    "        fr_max = fraction\n",
    "\n",
    "    if auc_roc > auc_max:\n",
    "        auc_max = auc_roc\n",
    "        fr_auc = fraction \n",
    "        \n",
    "print(fr_max, 'F1', f1_max)  \n",
    "print(fr_auc, 'AUC-ROC', auc_max)\n",
    "\n",
    "#строим графики\n",
    "plt.axis([0, 1, 0, 1])\n",
    "plt.plot(fr_l, f1_l)\n",
    "plt.title('F1')\n",
    "plt.show() \n",
    "\n",
    "plt.axis([0, 1, 0.5, 1])\n",
    "plt.plot(fr_l, auc_l)\n",
    "plt.title('AUC-ROC')\n",
    "plt.show()"
   ]
  },
  {
   "cell_type": "markdown",
   "metadata": {},
   "source": [
    "Значение F1 было максимальным (0.467), когда в данных осталось 0.4 части отрицательного класса. Такое F1 меньше, чем при использовании upsampling. Я думаю, это связано с тем, что общее количество данных, используемых для обучения, уменьшилось.\n",
    "AUC-ROC изменилась незначительно.\n",
    "\n",
    "Для дальнейшей работы с данными я буду использовать обучающую выборку, обработанную upsampling"
   ]
  },
  {
   "cell_type": "code",
   "execution_count": 20,
   "metadata": {},
   "outputs": [
    {
     "name": "stdout",
     "output_type": "stream",
     "text": [
      "6 F1 0.5064102564102564\n",
      "6 AUC-ROC 0.8082813515269656\n"
     ]
    },
    {
     "data": {
      "image/png": "[encoded data removed]",
      "text/plain": [
       "<Figure size 432x288 with 1 Axes>"
      ]
     },
     "metadata": {
      "needs_background": "light"
     },
     "output_type": "display_data"
    },
    {
     "data": {
      "image/png": "[encoded data removed]",
      "text/plain": [
       "<Figure size 432x288 with 1 Axes>"
      ]
     },
     "metadata": {
      "needs_background": "light"
     },
     "output_type": "display_data"
    }
   ],
   "source": [
    "#Поиск лучшей модели\n",
    "#дерево\n",
    "\n",
    "\n",
    "f1_max = 0\n",
    "auc_max = 0\n",
    "f1_l = list()\n",
    "auc_l = list()\n",
    "n_l = list()\n",
    "\n",
    "for n in range(1, 20):\n",
    "    model = DecisionTreeClassifier(random_state=42, max_depth=n)\n",
    "    model.fit(features_up, target_up)\n",
    "    predictions_valid = model.predict(features_valid)\n",
    "    proba = model.predict_proba(features_valid)\n",
    "    f1 = f1_score(target_valid, predictions_valid)\n",
    "    auc_roc = roc_auc_score(target_valid, proba[:, 1])\n",
    "    \n",
    "    f1_l.append(f1)\n",
    "    auc_l.append(auc_roc)\n",
    "    n_l.append(n)\n",
    "    \n",
    "    if f1 > f1_max:\n",
    "        f1_max = f1\n",
    "        n_f1 = n\n",
    "        \n",
    "    if auc_roc > auc_max:\n",
    "        auc_max = auc_roc\n",
    "        n_auc = n       \n",
    "\n",
    "print(n_f1, 'F1', f1_max)  \n",
    "print(n_auc, 'AUC-ROC', auc_max)\n",
    "\n",
    "#строим графики\n",
    "plt.axis([0, 20, 0, 1])\n",
    "plt.plot(n_l, f1_l)\n",
    "plt.title('F1')\n",
    "plt.show() \n",
    "\n",
    "plt.axis([0, 20, 0.5, 1])\n",
    "plt.plot(n_l, auc_l)\n",
    "plt.title('AUC-ROC')\n",
    "plt.show()"
   ]
  },
  {
   "cell_type": "code",
   "execution_count": 24,
   "metadata": {},
   "outputs": [
    {
     "name": "stdout",
     "output_type": "stream",
     "text": [
      "18 F1 0.5683646112600536\n",
      "7 AUC-ROC 0.8353378817413905\n",
      "\n",
      "d=18, AUC-ROC 0.8152932098765433\n"
     ]
    },
    {
     "data": {
      "image/png": "[encoded data removed]",
      "text/plain": [
       "<Figure size 432x288 with 1 Axes>"
      ]
     },
     "metadata": {
      "needs_background": "light"
     },
     "output_type": "display_data"
    },
    {
     "data": {
      "image/png": "[encoded data removed]",
      "text/plain": [
       "<Figure size 432x288 with 1 Axes>"
      ]
     },
     "metadata": {
      "needs_background": "light"
     },
     "output_type": "display_data"
    }
   ],
   "source": [
    "#случайный лес\n",
    "\n",
    "\n",
    "#Ищем лучшую максимальную глубину дерева при фиксированном количестве деревьев (20)\n",
    "n = 20\n",
    "f1_max = 0\n",
    "auc_max = 0\n",
    "f1_l = list()\n",
    "auc_l = list()\n",
    "d_l = list()\n",
    "\n",
    "for d in range(1, 20):\n",
    "    model = RandomForestClassifier(random_state=42, max_depth=d, n_estimators=n)\n",
    "    model.fit(features_up, target_up)\n",
    "    predictions_valid = model.predict(features_valid)\n",
    "    proba = model.predict_proba(features_valid)\n",
    "    f1 = f1_score(target_valid, predictions_valid)\n",
    "    auc_roc = roc_auc_score(target_valid, proba[:, 1])\n",
    "    \n",
    "    f1_l.append(f1)\n",
    "    auc_l.append(auc_roc)\n",
    "    d_l.append(d)\n",
    "    \n",
    "    if f1 > f1_max:\n",
    "        f1_max = f1\n",
    "        d_f1 = d\n",
    "        \n",
    "    if auc_roc > auc_max:\n",
    "        auc_max = auc_roc\n",
    "        d_auc = d    \n",
    "        \n",
    "    if d == 17:\n",
    "        a = auc_roc\n",
    "\n",
    "print(d_f1, 'F1', f1_max)\n",
    "print(d_auc, 'AUC-ROC', auc_max)\n",
    "print()\n",
    "print('d=18, AUC-ROC', a)\n",
    "\n",
    "#строим графики\n",
    "plt.axis([0, 20, 0, 1])\n",
    "plt.plot(d_l, f1_l)\n",
    "plt.title('F1')\n",
    "plt.show() \n",
    "\n",
    "plt.axis([0, 20, 0.5, 1])\n",
    "plt.plot(d_l, auc_l)\n",
    "plt.title('AUC-ROC')\n",
    "plt.show()"
   ]
  },
  {
   "cell_type": "markdown",
   "metadata": {},
   "source": [
    "Наилучшее значение F1 для случайного леса соотвествует максимальной глубине 17, но значение AUC-ROC при этой глубине ниже, чем при глубине 9"
   ]
  },
  {
   "cell_type": "code",
   "execution_count": 22,
   "metadata": {},
   "outputs": [
    {
     "name": "stdout",
     "output_type": "stream",
     "text": [
      "90 F1 0.5740987983978638\n",
      "90 AUC-ROC 0.8252404158544508\n"
     ]
    },
    {
     "data": {
      "image/png": "[encoded data removed]",
      "text/plain": [
       "<Figure size 432x288 with 1 Axes>"
      ]
     },
     "metadata": {
      "needs_background": "light"
     },
     "output_type": "display_data"
    },
    {
     "data": {
      "image/png": "[encoded data removed]",
      "text/plain": [
       "<Figure size 432x288 with 1 Axes>"
      ]
     },
     "metadata": {
      "needs_background": "light"
     },
     "output_type": "display_data"
    }
   ],
   "source": [
    "#Ищем количество деревьев при максимальной глубине 17\n",
    "d = 17\n",
    "f1_max = 0\n",
    "auc_max = 0\n",
    "f1_l = list()\n",
    "auc_l = list()\n",
    "n_l = list()\n",
    "\n",
    "for n in range(10, 100, 10):\n",
    "    model = RandomForestClassifier(random_state=42, max_depth=d, n_estimators=n)\n",
    "    model.fit(features_up, target_up)\n",
    "    predictions_valid = model.predict(features_valid)\n",
    "    proba = model.predict_proba(features_valid)\n",
    "    f1 = f1_score(target_valid, predictions_valid)\n",
    "    auc_roc = roc_auc_score(target_valid, proba[:, 1])\n",
    "    \n",
    "    f1_l.append(f1)\n",
    "    auc_l.append(auc_roc)\n",
    "    n_l.append(n)\n",
    "    \n",
    "    if f1 > f1_max:\n",
    "        f1_max = f1\n",
    "        n_f1 = n\n",
    "        \n",
    "    if auc_roc > auc_max:\n",
    "        auc_max = auc_roc\n",
    "        n_auc = n    \n",
    "\n",
    "print(n_f1, 'F1', f1_max)\n",
    "print(n_auc, 'AUC-ROC', auc_max)\n",
    "\n",
    "#строим графики\n",
    "plt.axis([0, 100, 0, 1])\n",
    "plt.plot(n_l, f1_l)\n",
    "plt.title('F1')\n",
    "plt.show() \n",
    "\n",
    "plt.axis([0, 100, 0.5, 1])\n",
    "plt.plot(n_l, auc_l)\n",
    "plt.title('AUC-ROC')\n",
    "plt.show()"
   ]
  },
  {
   "cell_type": "markdown",
   "metadata": {},
   "source": [
    "Для различных моделей получены значения:\n",
    "1. Случайный лес: F1 0.5676, AUC-ROC 0.8184\n",
    "2. Дерево: F1 0.5039, AUC-ROC 0.8091\n",
    "3. Логистическая регрессия: F1 0.4694, AUC-ROC 0.7540\n",
    "\n",
    "Самая точная модель из указанных - случайный лес с параметрами: максимальная глубина 17, количество деревьев 80"
   ]
  },
  {
   "cell_type": "markdown",
   "metadata": {},
   "source": [
    "## Тестирование модели"
   ]
  },
  {
   "cell_type": "code",
   "execution_count": 26,
   "metadata": {},
   "outputs": [
    {
     "name": "stdout",
     "output_type": "stream",
     "text": [
      "F1 0.6242350061199511\n",
      "AUC-ROC 0.8539046067249295\n",
      "CPU times: user 1.51 s, sys: 0 ns, total: 1.51 s\n",
      "Wall time: 1.51 s\n"
     ]
    }
   ],
   "source": [
    "%%time\n",
    "model = RandomForestClassifier(random_state=42, max_depth=17, n_estimators=80)\n",
    "model.fit(features_up, target_up)\n",
    "predictions_test = model.predict(features_test)\n",
    "proba = model.predict_proba(features_test)\n",
    "f1 = f1_score(target_test, predictions_test)\n",
    "auc_roc = roc_auc_score(target_test, proba[:, 1])\n",
    "\n",
    "print('F1', f1)\n",
    "print('AUC-ROC', auc_roc)"
   ]
  },
  {
   "cell_type": "markdown",
   "metadata": {},
   "source": [
    "На тестовых данных метрика F1 для указанной модели составляет 0.6228, а метрика AUC-ROC 0.8570"
   ]
  },
  {
   "cell_type": "markdown",
   "metadata": {},
   "source": [
    "<b>Вывод:</b>\n",
    "    В данном задании требовалось спрогнозировать уход клиента из банка на основе исторических данных о поведении клиентов. Данные были подготовлены и прошли масштабирование, а после разделены на обучающую, валидационную и тестовую выборки.\n",
    "    Был найден существенный дисбаланс классов, и проверены три способа исправления дисбаланса (для различных моделей). Оптимальным оказалось сочетание учета дисбаланса с помощью upsampling и модели случайного леса. Далее были проверены указанные модели при различных гиперпараметрах на валидационной выборке. Лучшая модель (случайный лес с максимальной глубиной 17, количеством деревьев 80) была протестирована на тестовой выборке.\n",
    "    \n",
    "Полученные метрики модели: \n",
    "    F1 0.6242\n",
    "    AUC-ROC 0.8539\n",
    "    \n",
    "</div>"
   ]
  },
  {
   "cell_type": "code",
   "execution_count": null,
   "metadata": {},
   "outputs": [],
   "source": []
  }
 ],
 "metadata": {
  "kernelspec": {
   "display_name": "Python 3",
   "language": "python",
   "name": "python3"
  },
  "language_info": {
   "codemirror_mode": {
    "name": "ipython",
    "version": 3
   },
   "file_extension": ".py",
   "mimetype": "text/x-python",
   "name": "python",
   "nbconvert_exporter": "python",
   "pygments_lexer": "ipython3",
   "version": "3.7.8"
  },
  "toc": {
   "base_numbering": 1,
   "nav_menu": {},
   "number_sections": true,
   "sideBar": true,
   "skip_h1_title": true,
   "title_cell": "Содержание",
   "title_sidebar": "Contents",
   "toc_cell": true,
   "toc_position": {
    "height": "calc(100% - 180px)",
    "left": "10px",
    "top": "150px",
    "width": "165px"
   },
   "toc_section_display": true,
   "toc_window_display": true
  }
 },
 "nbformat": 4,
 "nbformat_minor": 2
}
