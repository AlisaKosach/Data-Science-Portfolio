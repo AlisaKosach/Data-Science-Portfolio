{
 "cells": [
  {
   "cell_type": "markdown",
   "metadata": {},
   "source": [
    "# Определение стоимости автомобилей"
   ]
  },
  {
   "cell_type": "markdown",
   "metadata": {},
   "source": [
    "Разработать модель машинного обучения для определения рыночной стоимости автомобиля. Модель обучается на исторических данных о характеристиках автомобиле и их стоимости. Важно учесть не только качество предсказания модели, но и скорость обучения и предсказания."
   ]
  },
  {
   "cell_type": "markdown",
   "metadata": {},
   "source": [
    "## Подготовка данных"
   ]
  },
  {
   "cell_type": "code",
   "execution_count": 1,
   "metadata": {},
   "outputs": [],
   "source": [
    "import pandas as pd\n",
    "import numpy as np\n",
    "import matplotlib.pyplot as plt\n",
    "import lightgbm as lgb\n",
    "from sklearn.preprocessing import StandardScaler\n",
    "from sklearn.model_selection import train_test_split\n",
    "from sklearn.ensemble import RandomForestRegressor\n",
    "from sklearn.linear_model import LinearRegression\n",
    "from sklearn.metrics import mean_squared_error\n",
    "from sklearn.preprocessing import LabelEncoder\n",
    "from sklearn.dummy import DummyRegressor\n",
    "import warnings\n",
    "warnings.filterwarnings('ignore')"
   ]
  },
  {
   "cell_type": "code",
   "execution_count": 2,
   "metadata": {},
   "outputs": [
    {
     "name": "stdout",
     "output_type": "stream",
     "text": [
      "<class 'pandas.core.frame.DataFrame'>\n",
      "RangeIndex: 354369 entries, 0 to 354368\n",
      "Data columns (total 16 columns):\n",
      "DateCrawled          354369 non-null object\n",
      "Price                354369 non-null int64\n",
      "VehicleType          316879 non-null object\n",
      "RegistrationYear     354369 non-null int64\n",
      "Gearbox              334536 non-null object\n",
      "Power                354369 non-null int64\n",
      "Model                334664 non-null object\n",
      "Kilometer            354369 non-null int64\n",
      "RegistrationMonth    354369 non-null int64\n",
      "FuelType             321474 non-null object\n",
      "Brand                354369 non-null object\n",
      "NotRepaired          283215 non-null object\n",
      "DateCreated          354369 non-null object\n",
      "NumberOfPictures     354369 non-null int64\n",
      "PostalCode           354369 non-null int64\n",
      "LastSeen             354369 non-null object\n",
      "dtypes: int64(7), object(9)\n",
      "memory usage: 43.3+ MB\n"
     ]
    },
    {
     "data": {
      "text/html": [
       "<div>\n",
       "<style scoped>\n",
       "    .dataframe tbody tr th:only-of-type {\n",
       "        vertical-align: middle;\n",
       "    }\n",
       "\n",
       "    .dataframe tbody tr th {\n",
       "        vertical-align: top;\n",
       "    }\n",
       "\n",
       "    .dataframe thead th {\n",
       "        text-align: right;\n",
       "    }\n",
       "</style>\n",
       "<table border=\"1\" class=\"dataframe\">\n",
       "  <thead>\n",
       "    <tr style=\"text-align: right;\">\n",
       "      <th></th>\n",
       "      <th>DateCrawled</th>\n",
       "      <th>Price</th>\n",
       "      <th>VehicleType</th>\n",
       "      <th>RegistrationYear</th>\n",
       "      <th>Gearbox</th>\n",
       "      <th>Power</th>\n",
       "      <th>Model</th>\n",
       "      <th>Kilometer</th>\n",
       "      <th>RegistrationMonth</th>\n",
       "      <th>FuelType</th>\n",
       "      <th>Brand</th>\n",
       "      <th>NotRepaired</th>\n",
       "      <th>DateCreated</th>\n",
       "      <th>NumberOfPictures</th>\n",
       "      <th>PostalCode</th>\n",
       "      <th>LastSeen</th>\n",
       "    </tr>\n",
       "  </thead>\n",
       "  <tbody>\n",
       "    <tr>\n",
       "      <td>0</td>\n",
       "      <td>2016-03-24 11:52:17</td>\n",
       "      <td>480</td>\n",
       "      <td>NaN</td>\n",
       "      <td>1993</td>\n",
       "      <td>manual</td>\n",
       "      <td>0</td>\n",
       "      <td>golf</td>\n",
       "      <td>150000</td>\n",
       "      <td>0</td>\n",
       "      <td>petrol</td>\n",
       "      <td>volkswagen</td>\n",
       "      <td>NaN</td>\n",
       "      <td>2016-03-24 00:00:00</td>\n",
       "      <td>0</td>\n",
       "      <td>70435</td>\n",
       "      <td>2016-04-07 03:16:57</td>\n",
       "    </tr>\n",
       "    <tr>\n",
       "      <td>1</td>\n",
       "      <td>2016-03-24 10:58:45</td>\n",
       "      <td>18300</td>\n",
       "      <td>coupe</td>\n",
       "      <td>2011</td>\n",
       "      <td>manual</td>\n",
       "      <td>190</td>\n",
       "      <td>NaN</td>\n",
       "      <td>125000</td>\n",
       "      <td>5</td>\n",
       "      <td>gasoline</td>\n",
       "      <td>audi</td>\n",
       "      <td>yes</td>\n",
       "      <td>2016-03-24 00:00:00</td>\n",
       "      <td>0</td>\n",
       "      <td>66954</td>\n",
       "      <td>2016-04-07 01:46:50</td>\n",
       "    </tr>\n",
       "    <tr>\n",
       "      <td>2</td>\n",
       "      <td>2016-03-14 12:52:21</td>\n",
       "      <td>9800</td>\n",
       "      <td>suv</td>\n",
       "      <td>2004</td>\n",
       "      <td>auto</td>\n",
       "      <td>163</td>\n",
       "      <td>grand</td>\n",
       "      <td>125000</td>\n",
       "      <td>8</td>\n",
       "      <td>gasoline</td>\n",
       "      <td>jeep</td>\n",
       "      <td>NaN</td>\n",
       "      <td>2016-03-14 00:00:00</td>\n",
       "      <td>0</td>\n",
       "      <td>90480</td>\n",
       "      <td>2016-04-05 12:47:46</td>\n",
       "    </tr>\n",
       "    <tr>\n",
       "      <td>3</td>\n",
       "      <td>2016-03-17 16:54:04</td>\n",
       "      <td>1500</td>\n",
       "      <td>small</td>\n",
       "      <td>2001</td>\n",
       "      <td>manual</td>\n",
       "      <td>75</td>\n",
       "      <td>golf</td>\n",
       "      <td>150000</td>\n",
       "      <td>6</td>\n",
       "      <td>petrol</td>\n",
       "      <td>volkswagen</td>\n",
       "      <td>no</td>\n",
       "      <td>2016-03-17 00:00:00</td>\n",
       "      <td>0</td>\n",
       "      <td>91074</td>\n",
       "      <td>2016-03-17 17:40:17</td>\n",
       "    </tr>\n",
       "    <tr>\n",
       "      <td>4</td>\n",
       "      <td>2016-03-31 17:25:20</td>\n",
       "      <td>3600</td>\n",
       "      <td>small</td>\n",
       "      <td>2008</td>\n",
       "      <td>manual</td>\n",
       "      <td>69</td>\n",
       "      <td>fabia</td>\n",
       "      <td>90000</td>\n",
       "      <td>7</td>\n",
       "      <td>gasoline</td>\n",
       "      <td>skoda</td>\n",
       "      <td>no</td>\n",
       "      <td>2016-03-31 00:00:00</td>\n",
       "      <td>0</td>\n",
       "      <td>60437</td>\n",
       "      <td>2016-04-06 10:17:21</td>\n",
       "    </tr>\n",
       "  </tbody>\n",
       "</table>\n",
       "</div>"
      ],
      "text/plain": [
       "           DateCrawled  Price VehicleType  RegistrationYear Gearbox  Power  \\\n",
       "0  2016-03-24 11:52:17    480         NaN              1993  manual      0   \n",
       "1  2016-03-24 10:58:45  18300       coupe              2011  manual    190   \n",
       "2  2016-03-14 12:52:21   9800         suv              2004    auto    163   \n",
       "3  2016-03-17 16:54:04   1500       small              2001  manual     75   \n",
       "4  2016-03-31 17:25:20   3600       small              2008  manual     69   \n",
       "\n",
       "   Model  Kilometer  RegistrationMonth  FuelType       Brand NotRepaired  \\\n",
       "0   golf     150000                  0    petrol  volkswagen         NaN   \n",
       "1    NaN     125000                  5  gasoline        audi         yes   \n",
       "2  grand     125000                  8  gasoline        jeep         NaN   \n",
       "3   golf     150000                  6    petrol  volkswagen          no   \n",
       "4  fabia      90000                  7  gasoline       skoda          no   \n",
       "\n",
       "           DateCreated  NumberOfPictures  PostalCode             LastSeen  \n",
       "0  2016-03-24 00:00:00                 0       70435  2016-04-07 03:16:57  \n",
       "1  2016-03-24 00:00:00                 0       66954  2016-04-07 01:46:50  \n",
       "2  2016-03-14 00:00:00                 0       90480  2016-04-05 12:47:46  \n",
       "3  2016-03-17 00:00:00                 0       91074  2016-03-17 17:40:17  \n",
       "4  2016-03-31 00:00:00                 0       60437  2016-04-06 10:17:21  "
      ]
     },
     "execution_count": 2,
     "metadata": {},
     "output_type": "execute_result"
    }
   ],
   "source": [
    "data = pd.read_csv('/datasets/autos.csv')\n",
    "data.info()\n",
    "data.head()"
   ]
  },
  {
   "cell_type": "markdown",
   "metadata": {},
   "source": [
    "Предварительные выводы по подготовке данных:\n",
    "1. Столбцы с пропусками: VehicleType, Gearbox, Model, FuelType, NotRepaired. Их следует рассмотреть подробнее, и, скорее всего, удалить пропуски, так как данные категориальные, и заменить их невозможно\n",
    "2. Столбец в булевыми значениями, представленными в форме да/нет: NotRepaired\n",
    "3. Категориальные признаки: VehicleType, Gearbox, Model, FuelType, Brand, NotRepaired. Потребуется применить кодирование для простых моделей\n",
    "4. Стоит посмотреть распределение численных признаков для выявления аномальных значений\n",
    "5. Нужно разделить данные на обучающую и валидационную выборки и отделить целевой признак\n",
    "6. Провести масштабирование признаков"
   ]
  },
  {
   "cell_type": "markdown",
   "metadata": {},
   "source": [
    "Данные не влияющие на стоимость автомобиля:\n",
    "1. DateCrawled — дата скачивания анкеты из базы\n",
    "2. DateCreated — дата создания анкеты\n",
    "3. PostalCode — почтовый индекс владельца анкеты (пользователя)\n",
    "4. LastSeen — дата последней активности пользователя\n",
    "5. RegistrationMonth\n",
    "\n",
    "Их следует удалить"
   ]
  },
  {
   "cell_type": "code",
   "execution_count": 3,
   "metadata": {},
   "outputs": [
    {
     "data": {
      "text/plain": [
       "10115    819\n",
       "65428    613\n",
       "66333    343\n",
       "44145    317\n",
       "32257    317\n",
       "        ... \n",
       "6725       1\n",
       "6922       1\n",
       "85071      1\n",
       "97528      1\n",
       "63931      1\n",
       "Name: PostalCode, Length: 8143, dtype: int64"
      ]
     },
     "execution_count": 3,
     "metadata": {},
     "output_type": "execute_result"
    },
    {
     "data": {
      "image/png": "[encoded data removed]",
      "text/plain": [
       "<Figure size 432x288 with 1 Axes>"
      ]
     },
     "metadata": {
      "needs_background": "light"
     },
     "output_type": "display_data"
    }
   ],
   "source": [
    "#Почтовый индекс\n",
    "data['PostalCode'].hist(bins=100)\n",
    "data['PostalCode'].value_counts()"
   ]
  },
  {
   "cell_type": "code",
   "execution_count": 4,
   "metadata": {},
   "outputs": [
    {
     "name": "stdout",
     "output_type": "stream",
     "text": [
      "<class 'pandas.core.frame.DataFrame'>\n",
      "RangeIndex: 354369 entries, 0 to 354368\n",
      "Data columns (total 16 columns):\n",
      "DateCrawled          354369 non-null object\n",
      "Price                354369 non-null int64\n",
      "VehicleType          354369 non-null object\n",
      "RegistrationYear     354369 non-null int64\n",
      "Gearbox              354369 non-null object\n",
      "Power                354369 non-null int64\n",
      "Model                354369 non-null object\n",
      "Kilometer            354369 non-null int64\n",
      "RegistrationMonth    354369 non-null int64\n",
      "FuelType             354369 non-null object\n",
      "Brand                354369 non-null object\n",
      "NotRepaired          354369 non-null object\n",
      "DateCreated          354369 non-null object\n",
      "NumberOfPictures     354369 non-null int64\n",
      "PostalCode           354369 non-null int64\n",
      "LastSeen             354369 non-null object\n",
      "dtypes: int64(7), object(9)\n",
      "memory usage: 43.3+ MB\n"
     ]
    }
   ],
   "source": [
    "#удаление пропущенных значений\n",
    "#VehicleType, Gearbox, Model, FuelType, NotRepaired\n",
    "data = data.fillna(value='not_listed')\n",
    "data.info()"
   ]
  },
  {
   "cell_type": "code",
   "execution_count": 5,
   "metadata": {},
   "outputs": [
    {
     "data": {
      "image/png": "[encoded data removed]",
      "text/plain": [
       "<Figure size 432x288 with 1 Axes>"
      ]
     },
     "metadata": {
      "needs_background": "light"
     },
     "output_type": "display_data"
    }
   ],
   "source": [
    "#price\n",
    "data.plot(title='Price', kind='hist', y='Price', bins=100, grid=True)\n",
    "data['Price'].value_counts()\n",
    "data = data.drop(data[data['Price'] < 2].index)"
   ]
  },
  {
   "cell_type": "code",
   "execution_count": 6,
   "metadata": {},
   "outputs": [
    {
     "data": {
      "text/plain": [
       "9999    18\n",
       "5000    15\n",
       "6000     5\n",
       "3000     5\n",
       "7000     4\n",
       "4000     3\n",
       "2500     3\n",
       "5555     2\n",
       "9000     2\n",
       "4500     2\n",
       "5911     2\n",
       "2200     1\n",
       "4800     1\n",
       "7800     1\n",
       "2222     1\n",
       "5900     1\n",
       "4100     1\n",
       "2066     1\n",
       "5300     1\n",
       "3700     1\n",
       "8888     1\n",
       "8500     1\n",
       "7100     1\n",
       "8000     1\n",
       "8200     1\n",
       "2800     1\n",
       "2900     1\n",
       "3800     1\n",
       "5600     1\n",
       "9450     1\n",
       "2290     1\n",
       "3200     1\n",
       "Name: RegistrationYear, dtype: int64"
      ]
     },
     "metadata": {},
     "output_type": "display_data"
    },
    {
     "data": {
      "text/plain": [
       "1000    28\n",
       "1234     4\n",
       "1800     4\n",
       "1500     3\n",
       "1300     2\n",
       "1600     2\n",
       "1400     1\n",
       "1001     1\n",
       "1255     1\n",
       "1111     1\n",
       "1039     1\n",
       "1602     1\n",
       "Name: RegistrationYear, dtype: int64"
      ]
     },
     "execution_count": 6,
     "metadata": {},
     "output_type": "execute_result"
    }
   ],
   "source": [
    "#Численные признаки\n",
    "#RegistrationYear\n",
    "data['RegistrationYear'].value_counts()\n",
    "display(data['RegistrationYear'].loc[data['RegistrationYear'] > 2020].value_counts())\n",
    "data['RegistrationYear'].loc[data['RegistrationYear'] < 1900].value_counts()"
   ]
  },
  {
   "cell_type": "code",
   "execution_count": 7,
   "metadata": {},
   "outputs": [
    {
     "data": {
      "text/plain": [
       "<matplotlib.axes._subplots.AxesSubplot at 0x7f8bafccd610>"
      ]
     },
     "execution_count": 7,
     "metadata": {},
     "output_type": "execute_result"
    },
    {
     "data": {
      "image/png": "[encoded data removed]",
      "text/plain": [
       "<Figure size 432x288 with 1 Axes>"
      ]
     },
     "metadata": {
      "needs_background": "light"
     },
     "output_type": "display_data"
    }
   ],
   "source": [
    "data = data.drop(data[data['RegistrationYear'] > 2020].index)\n",
    "data = data.drop(data[data['RegistrationYear'] < 1900].index)\n",
    "\n",
    "data.plot(title='RegistrationYear', kind='hist', y='RegistrationYear', bins=100, grid=True)"
   ]
  },
  {
   "cell_type": "markdown",
   "metadata": {},
   "source": [
    "В столбце с годом регистрации автомобиля было найдено много аномальных значений (видимо, опечаток), которые пришлось удалить"
   ]
  },
  {
   "cell_type": "code",
   "execution_count": 8,
   "metadata": {},
   "outputs": [
    {
     "data": {
      "text/plain": [
       "0       35778\n",
       "75      23251\n",
       "60      15435\n",
       "150     14118\n",
       "101     12936\n",
       "        ...  \n",
       "6226        1\n",
       "337         1\n",
       "1105        1\n",
       "1199        1\n",
       "1090        1\n",
       "Name: Power, Length: 697, dtype: int64"
      ]
     },
     "execution_count": 8,
     "metadata": {},
     "output_type": "execute_result"
    },
    {
     "data": {
      "image/png": "[encoded data removed]",
      "text/plain": [
       "<Figure size 432x288 with 1 Axes>"
      ]
     },
     "metadata": {
      "needs_background": "light"
     },
     "output_type": "display_data"
    }
   ],
   "source": [
    "#Power\n",
    "\n",
    "data.plot(title='Power', kind='hist', y='Power', bins=100, grid=True)\n",
    "data['Power'].value_counts()"
   ]
  },
  {
   "cell_type": "code",
   "execution_count": 9,
   "metadata": {},
   "outputs": [
    {
     "data": {
      "text/plain": [
       "150000    229733\n",
       "125000     35701\n",
       "100000     14397\n",
       "90000      11383\n",
       "80000       9884\n",
       "70000       8480\n",
       "60000       7362\n",
       "50000       6147\n",
       "5000        5102\n",
       "40000       4854\n",
       "30000       4323\n",
       "20000       3826\n",
       "10000       1085\n",
       "Name: Kilometer, dtype: int64"
      ]
     },
     "execution_count": 9,
     "metadata": {},
     "output_type": "execute_result"
    },
    {
     "data": {
      "image/png": "[encoded data removed]",
      "text/plain": [
       "<Figure size 432x288 with 1 Axes>"
      ]
     },
     "metadata": {
      "needs_background": "light"
     },
     "output_type": "display_data"
    }
   ],
   "source": [
    "#Kilometer\n",
    "data.plot(title='Kilometer', kind='hist', y='Kilometer', bins=100, grid=True)\n",
    "data['Kilometer'].value_counts()"
   ]
  },
  {
   "cell_type": "code",
   "execution_count": 10,
   "metadata": {},
   "outputs": [
    {
     "data": {
      "text/plain": [
       "0    342277\n",
       "Name: NumberOfPictures, dtype: int64"
      ]
     },
     "execution_count": 10,
     "metadata": {},
     "output_type": "execute_result"
    },
    {
     "data": {
      "image/png": "[encoded data removed]",
      "text/plain": [
       "<Figure size 432x288 with 1 Axes>"
      ]
     },
     "metadata": {
      "needs_background": "light"
     },
     "output_type": "display_data"
    }
   ],
   "source": [
    "#NumberOfPictures\n",
    "data.plot(title='NumberOfPictures', kind='hist', y='NumberOfPictures', bins=100, grid=True)\n",
    "data['NumberOfPictures'].value_counts()"
   ]
  },
  {
   "cell_type": "markdown",
   "metadata": {},
   "source": [
    "Пожалуй, удалю этот столбец"
   ]
  },
  {
   "cell_type": "code",
   "execution_count": 11,
   "metadata": {},
   "outputs": [
    {
     "data": {
      "text/plain": [
       "sedan          89208\n",
       "small          77847\n",
       "wagon          63552\n",
       "not_listed     33151\n",
       "bus            28283\n",
       "convertible    19828\n",
       "coupe          15578\n",
       "suv            11769\n",
       "other           3061\n",
       "Name: VehicleType, dtype: int64"
      ]
     },
     "execution_count": 11,
     "metadata": {},
     "output_type": "execute_result"
    }
   ],
   "source": [
    "#Категориальные признаки\n",
    "#VehicleType\n",
    "data['VehicleType'].value_counts()"
   ]
  },
  {
   "cell_type": "code",
   "execution_count": 12,
   "metadata": {},
   "outputs": [
    {
     "data": {
      "text/plain": [
       "manual        260689\n",
       "auto           64709\n",
       "not_listed     16879\n",
       "Name: Gearbox, dtype: int64"
      ]
     },
     "execution_count": 12,
     "metadata": {},
     "output_type": "execute_result"
    }
   ],
   "source": [
    "#Gearbox\n",
    "data['Gearbox'].value_counts()"
   ]
  },
  {
   "cell_type": "code",
   "execution_count": 13,
   "metadata": {},
   "outputs": [
    {
     "data": {
      "text/plain": [
       "golf                  28158\n",
       "other                 23588\n",
       "3er                   19102\n",
       "not_listed            17216\n",
       "polo                  12582\n",
       "                      ...  \n",
       "serie_2                   8\n",
       "rangerover                4\n",
       "serie_3                   3\n",
       "range_rover_evoque        2\n",
       "serie_1                   1\n",
       "Name: Model, Length: 251, dtype: int64"
      ]
     },
     "metadata": {},
     "output_type": "display_data"
    }
   ],
   "source": [
    "#Model\n",
    "display(data['Model'].value_counts())\n",
    "#sorted(data['Model'].unique())\n",
    "\n",
    "#Дубликаты в столбце\n",
    "#Заменю rangerover на range_rover\n",
    "data.loc[data['Model'] == 'rangerover', 'Model'] = 'range_rover'"
   ]
  },
  {
   "cell_type": "code",
   "execution_count": 14,
   "metadata": {},
   "outputs": [
    {
     "data": {
      "text/plain": [
       "petrol        210178\n",
       "gasoline       96997\n",
       "not_listed     28920\n",
       "lpg             5155\n",
       "cng              551\n",
       "hybrid           226\n",
       "other            163\n",
       "electric          87\n",
       "Name: FuelType, dtype: int64"
      ]
     },
     "execution_count": 14,
     "metadata": {},
     "output_type": "execute_result"
    }
   ],
   "source": [
    "#FuelType\n",
    "data['FuelType'].value_counts()"
   ]
  },
  {
   "cell_type": "code",
   "execution_count": 15,
   "metadata": {},
   "outputs": [
    {
     "data": {
      "text/plain": [
       "volkswagen        74145\n",
       "opel              38360\n",
       "bmw               35641\n",
       "mercedes_benz     31246\n",
       "audi              28483\n",
       "ford              24383\n",
       "renault           17331\n",
       "peugeot           10749\n",
       "fiat               9308\n",
       "seat               6701\n",
       "mazda              5447\n",
       "skoda              5431\n",
       "smart              5163\n",
       "citroen            5004\n",
       "nissan             4798\n",
       "toyota             4528\n",
       "hyundai            3526\n",
       "mini               3163\n",
       "volvo              3115\n",
       "mitsubishi         2915\n",
       "sonstige_autos     2733\n",
       "honda              2707\n",
       "kia                2404\n",
       "suzuki             2270\n",
       "alfa_romeo         2219\n",
       "chevrolet          1700\n",
       "chrysler           1360\n",
       "dacia               889\n",
       "daihatsu            774\n",
       "subaru              727\n",
       "porsche             724\n",
       "jeep                654\n",
       "land_rover          533\n",
       "daewoo              531\n",
       "saab                512\n",
       "trabant             489\n",
       "jaguar              488\n",
       "rover               458\n",
       "lancia              455\n",
       "lada                213\n",
       "Name: Brand, dtype: int64"
      ]
     },
     "execution_count": 15,
     "metadata": {},
     "output_type": "execute_result"
    }
   ],
   "source": [
    "#Brand\n",
    "data['Brand'].value_counts()"
   ]
  },
  {
   "cell_type": "code",
   "execution_count": 16,
   "metadata": {},
   "outputs": [
    {
     "data": {
      "text/plain": [
       "no            243363\n",
       "not_listed     65120\n",
       "yes            33794\n",
       "Name: NotRepaired, dtype: int64"
      ]
     },
     "execution_count": 16,
     "metadata": {},
     "output_type": "execute_result"
    }
   ],
   "source": [
    "#NotRepaired\n",
    "data['NotRepaired'].value_counts()"
   ]
  },
  {
   "cell_type": "code",
   "execution_count": 17,
   "metadata": {},
   "outputs": [
    {
     "name": "stdout",
     "output_type": "stream",
     "text": [
      "Kilometer RegistrationYear -0.1919698704821132\n",
      "RegistrationYear Kilometer -0.1919698704821132\n",
      "Price Kilometer -0.3548303002681913\n",
      "Price Power 0.16063683698047862\n",
      "Price RegistrationYear 0.3770580127460035\n"
     ]
    }
   ],
   "source": [
    "#data = data.drop(['NumberOfPictures', 'DateCrawled', 'DateCreated', 'LastSeen', 'RegistrationMonth'], axis=1)\n",
    "num_price = ['Kilometer', 'Power', 'RegistrationYear', 'PostalCode', 'Price']\n",
    "num = ['Kilometer', 'Power', 'RegistrationYear', 'PostalCode']\n",
    "\n",
    "for i in num_price:\n",
    "    for j in num:\n",
    "        if j != i:\n",
    "            corr = data[i].corr(data[j])\n",
    "            if (corr > 0.1) or (corr < -0.1):\n",
    "                print(i, j, corr)"
   ]
  },
  {
   "cell_type": "code",
   "execution_count": 18,
   "metadata": {},
   "outputs": [
    {
     "name": "stdout",
     "output_type": "stream",
     "text": [
      "(342277, 1) (342277, 10)\n"
     ]
    }
   ],
   "source": [
    "#Выделение целевого признака, удаление лишних признаков\n",
    "target = data[['Price']]\n",
    "features = data.drop(['Price'], axis=1)\n",
    "features = data[['Kilometer', 'Power', 'RegistrationYear', 'VehicleType', 'Gearbox', 'Model', 'FuelType', 'Brand', 'NotRepaired', 'PostalCode']]\n",
    "print(target.shape, features.shape)"
   ]
  },
  {
   "cell_type": "code",
   "execution_count": 19,
   "metadata": {},
   "outputs": [
    {
     "name": "stdout",
     "output_type": "stream",
     "text": [
      "(342277, 311)\n"
     ]
    },
    {
     "data": {
      "text/html": [
       "<div>\n",
       "<style scoped>\n",
       "    .dataframe tbody tr th:only-of-type {\n",
       "        vertical-align: middle;\n",
       "    }\n",
       "\n",
       "    .dataframe tbody tr th {\n",
       "        vertical-align: top;\n",
       "    }\n",
       "\n",
       "    .dataframe thead th {\n",
       "        text-align: right;\n",
       "    }\n",
       "</style>\n",
       "<table border=\"1\" class=\"dataframe\">\n",
       "  <thead>\n",
       "    <tr style=\"text-align: right;\">\n",
       "      <th></th>\n",
       "      <th>Kilometer</th>\n",
       "      <th>Power</th>\n",
       "      <th>RegistrationYear</th>\n",
       "      <th>PostalCode</th>\n",
       "      <th>VehicleType_convertible</th>\n",
       "      <th>VehicleType_coupe</th>\n",
       "      <th>VehicleType_not_listed</th>\n",
       "      <th>VehicleType_other</th>\n",
       "      <th>VehicleType_sedan</th>\n",
       "      <th>VehicleType_small</th>\n",
       "      <th>...</th>\n",
       "      <th>Brand_smart</th>\n",
       "      <th>Brand_sonstige_autos</th>\n",
       "      <th>Brand_subaru</th>\n",
       "      <th>Brand_suzuki</th>\n",
       "      <th>Brand_toyota</th>\n",
       "      <th>Brand_trabant</th>\n",
       "      <th>Brand_volkswagen</th>\n",
       "      <th>Brand_volvo</th>\n",
       "      <th>NotRepaired_not_listed</th>\n",
       "      <th>NotRepaired_yes</th>\n",
       "    </tr>\n",
       "  </thead>\n",
       "  <tbody>\n",
       "    <tr>\n",
       "      <td>0</td>\n",
       "      <td>150000</td>\n",
       "      <td>0</td>\n",
       "      <td>1993</td>\n",
       "      <td>70435</td>\n",
       "      <td>0</td>\n",
       "      <td>0</td>\n",
       "      <td>1</td>\n",
       "      <td>0</td>\n",
       "      <td>0</td>\n",
       "      <td>0</td>\n",
       "      <td>...</td>\n",
       "      <td>0</td>\n",
       "      <td>0</td>\n",
       "      <td>0</td>\n",
       "      <td>0</td>\n",
       "      <td>0</td>\n",
       "      <td>0</td>\n",
       "      <td>1</td>\n",
       "      <td>0</td>\n",
       "      <td>1</td>\n",
       "      <td>0</td>\n",
       "    </tr>\n",
       "    <tr>\n",
       "      <td>1</td>\n",
       "      <td>125000</td>\n",
       "      <td>190</td>\n",
       "      <td>2011</td>\n",
       "      <td>66954</td>\n",
       "      <td>0</td>\n",
       "      <td>1</td>\n",
       "      <td>0</td>\n",
       "      <td>0</td>\n",
       "      <td>0</td>\n",
       "      <td>0</td>\n",
       "      <td>...</td>\n",
       "      <td>0</td>\n",
       "      <td>0</td>\n",
       "      <td>0</td>\n",
       "      <td>0</td>\n",
       "      <td>0</td>\n",
       "      <td>0</td>\n",
       "      <td>0</td>\n",
       "      <td>0</td>\n",
       "      <td>0</td>\n",
       "      <td>1</td>\n",
       "    </tr>\n",
       "    <tr>\n",
       "      <td>2</td>\n",
       "      <td>125000</td>\n",
       "      <td>163</td>\n",
       "      <td>2004</td>\n",
       "      <td>90480</td>\n",
       "      <td>0</td>\n",
       "      <td>0</td>\n",
       "      <td>0</td>\n",
       "      <td>0</td>\n",
       "      <td>0</td>\n",
       "      <td>0</td>\n",
       "      <td>...</td>\n",
       "      <td>0</td>\n",
       "      <td>0</td>\n",
       "      <td>0</td>\n",
       "      <td>0</td>\n",
       "      <td>0</td>\n",
       "      <td>0</td>\n",
       "      <td>0</td>\n",
       "      <td>0</td>\n",
       "      <td>1</td>\n",
       "      <td>0</td>\n",
       "    </tr>\n",
       "    <tr>\n",
       "      <td>3</td>\n",
       "      <td>150000</td>\n",
       "      <td>75</td>\n",
       "      <td>2001</td>\n",
       "      <td>91074</td>\n",
       "      <td>0</td>\n",
       "      <td>0</td>\n",
       "      <td>0</td>\n",
       "      <td>0</td>\n",
       "      <td>0</td>\n",
       "      <td>1</td>\n",
       "      <td>...</td>\n",
       "      <td>0</td>\n",
       "      <td>0</td>\n",
       "      <td>0</td>\n",
       "      <td>0</td>\n",
       "      <td>0</td>\n",
       "      <td>0</td>\n",
       "      <td>1</td>\n",
       "      <td>0</td>\n",
       "      <td>0</td>\n",
       "      <td>0</td>\n",
       "    </tr>\n",
       "    <tr>\n",
       "      <td>4</td>\n",
       "      <td>90000</td>\n",
       "      <td>69</td>\n",
       "      <td>2008</td>\n",
       "      <td>60437</td>\n",
       "      <td>0</td>\n",
       "      <td>0</td>\n",
       "      <td>0</td>\n",
       "      <td>0</td>\n",
       "      <td>0</td>\n",
       "      <td>1</td>\n",
       "      <td>...</td>\n",
       "      <td>0</td>\n",
       "      <td>0</td>\n",
       "      <td>0</td>\n",
       "      <td>0</td>\n",
       "      <td>0</td>\n",
       "      <td>0</td>\n",
       "      <td>0</td>\n",
       "      <td>0</td>\n",
       "      <td>0</td>\n",
       "      <td>0</td>\n",
       "    </tr>\n",
       "  </tbody>\n",
       "</table>\n",
       "<p>5 rows × 311 columns</p>\n",
       "</div>"
      ],
      "text/plain": [
       "   Kilometer  Power  RegistrationYear  PostalCode  VehicleType_convertible  \\\n",
       "0     150000      0              1993       70435                        0   \n",
       "1     125000    190              2011       66954                        0   \n",
       "2     125000    163              2004       90480                        0   \n",
       "3     150000     75              2001       91074                        0   \n",
       "4      90000     69              2008       60437                        0   \n",
       "\n",
       "   VehicleType_coupe  VehicleType_not_listed  VehicleType_other  \\\n",
       "0                  0                       1                  0   \n",
       "1                  1                       0                  0   \n",
       "2                  0                       0                  0   \n",
       "3                  0                       0                  0   \n",
       "4                  0                       0                  0   \n",
       "\n",
       "   VehicleType_sedan  VehicleType_small  ...  Brand_smart  \\\n",
       "0                  0                  0  ...            0   \n",
       "1                  0                  0  ...            0   \n",
       "2                  0                  0  ...            0   \n",
       "3                  0                  1  ...            0   \n",
       "4                  0                  1  ...            0   \n",
       "\n",
       "   Brand_sonstige_autos  Brand_subaru  Brand_suzuki  Brand_toyota  \\\n",
       "0                     0             0             0             0   \n",
       "1                     0             0             0             0   \n",
       "2                     0             0             0             0   \n",
       "3                     0             0             0             0   \n",
       "4                     0             0             0             0   \n",
       "\n",
       "   Brand_trabant  Brand_volkswagen  Brand_volvo  NotRepaired_not_listed  \\\n",
       "0              0                 1            0                       1   \n",
       "1              0                 0            0                       0   \n",
       "2              0                 0            0                       1   \n",
       "3              0                 1            0                       0   \n",
       "4              0                 0            0                       0   \n",
       "\n",
       "   NotRepaired_yes  \n",
       "0                0  \n",
       "1                1  \n",
       "2                0  \n",
       "3                0  \n",
       "4                0  \n",
       "\n",
       "[5 rows x 311 columns]"
      ]
     },
     "execution_count": 19,
     "metadata": {},
     "output_type": "execute_result"
    }
   ],
   "source": [
    "#Кодирование категориальных признаков с использованием OHE\n",
    "features_ohe = pd.get_dummies(features, drop_first=True)\n",
    "\n",
    "print(features_ohe.shape)\n",
    "features_ohe.head()"
   ]
  },
  {
   "cell_type": "code",
   "execution_count": 20,
   "metadata": {},
   "outputs": [],
   "source": [
    "#Разделение на выборки\n",
    "#Для простых моделей\n",
    "features_ohe_train, features_ohe_, target_train, target_ = train_test_split(features_ohe, target, test_size=0.4, random_state=42)\n",
    "features_ohe_test, features_ohe_valid, target_test, target_valid = train_test_split(features_ohe_, target_, test_size=0.5, random_state=42)\n",
    "\n",
    "#Для градиентного бустинга\n",
    "features_train, features_, target_train, target_ = train_test_split(features, target, test_size=0.4, random_state=42)\n",
    "features_test, features_valid, target_test, target_valid = train_test_split(features_, target_, test_size=0.5, random_state=42)"
   ]
  },
  {
   "cell_type": "code",
   "execution_count": 21,
   "metadata": {},
   "outputs": [
    {
     "name": "stdout",
     "output_type": "stream",
     "text": [
      "(68455, 10)\n"
     ]
    },
    {
     "data": {
      "text/html": [
       "<div>\n",
       "<style scoped>\n",
       "    .dataframe tbody tr th:only-of-type {\n",
       "        vertical-align: middle;\n",
       "    }\n",
       "\n",
       "    .dataframe tbody tr th {\n",
       "        vertical-align: top;\n",
       "    }\n",
       "\n",
       "    .dataframe thead th {\n",
       "        text-align: right;\n",
       "    }\n",
       "</style>\n",
       "<table border=\"1\" class=\"dataframe\">\n",
       "  <thead>\n",
       "    <tr style=\"text-align: right;\">\n",
       "      <th></th>\n",
       "      <th>Kilometer</th>\n",
       "      <th>Power</th>\n",
       "      <th>RegistrationYear</th>\n",
       "      <th>VehicleType</th>\n",
       "      <th>Gearbox</th>\n",
       "      <th>Model</th>\n",
       "      <th>FuelType</th>\n",
       "      <th>Brand</th>\n",
       "      <th>NotRepaired</th>\n",
       "      <th>PostalCode</th>\n",
       "    </tr>\n",
       "  </thead>\n",
       "  <tbody>\n",
       "    <tr>\n",
       "      <td>136937</td>\n",
       "      <td>150000</td>\n",
       "      <td>105</td>\n",
       "      <td>2011</td>\n",
       "      <td>5</td>\n",
       "      <td>1</td>\n",
       "      <td>116</td>\n",
       "      <td>2</td>\n",
       "      <td>38</td>\n",
       "      <td>0</td>\n",
       "      <td>12045</td>\n",
       "    </tr>\n",
       "    <tr>\n",
       "      <td>70781</td>\n",
       "      <td>150000</td>\n",
       "      <td>101</td>\n",
       "      <td>2000</td>\n",
       "      <td>5</td>\n",
       "      <td>1</td>\n",
       "      <td>103</td>\n",
       "      <td>7</td>\n",
       "      <td>10</td>\n",
       "      <td>0</td>\n",
       "      <td>33332</td>\n",
       "    </tr>\n",
       "    <tr>\n",
       "      <td>19961</td>\n",
       "      <td>150000</td>\n",
       "      <td>86</td>\n",
       "      <td>2007</td>\n",
       "      <td>0</td>\n",
       "      <td>1</td>\n",
       "      <td>189</td>\n",
       "      <td>7</td>\n",
       "      <td>31</td>\n",
       "      <td>0</td>\n",
       "      <td>97720</td>\n",
       "    </tr>\n",
       "    <tr>\n",
       "      <td>110491</td>\n",
       "      <td>125000</td>\n",
       "      <td>58</td>\n",
       "      <td>2004</td>\n",
       "      <td>6</td>\n",
       "      <td>1</td>\n",
       "      <td>227</td>\n",
       "      <td>7</td>\n",
       "      <td>27</td>\n",
       "      <td>2</td>\n",
       "      <td>88213</td>\n",
       "    </tr>\n",
       "    <tr>\n",
       "      <td>15253</td>\n",
       "      <td>150000</td>\n",
       "      <td>190</td>\n",
       "      <td>1987</td>\n",
       "      <td>2</td>\n",
       "      <td>1</td>\n",
       "      <td>167</td>\n",
       "      <td>7</td>\n",
       "      <td>26</td>\n",
       "      <td>0</td>\n",
       "      <td>65594</td>\n",
       "    </tr>\n",
       "  </tbody>\n",
       "</table>\n",
       "</div>"
      ],
      "text/plain": [
       "        Kilometer  Power  RegistrationYear  VehicleType  Gearbox  Model  \\\n",
       "136937     150000    105              2011            5        1    116   \n",
       "70781      150000    101              2000            5        1    103   \n",
       "19961      150000     86              2007            0        1    189   \n",
       "110491     125000     58              2004            6        1    227   \n",
       "15253      150000    190              1987            2        1    167   \n",
       "\n",
       "        FuelType  Brand  NotRepaired  PostalCode  \n",
       "136937         2     38            0       12045  \n",
       "70781          7     10            0       33332  \n",
       "19961          7     31            0       97720  \n",
       "110491         7     27            2       88213  \n",
       "15253          7     26            0       65594  "
      ]
     },
     "execution_count": 21,
     "metadata": {},
     "output_type": "execute_result"
    }
   ],
   "source": [
    "#Кодирование категориальных признаков с использованием LE\n",
    "cat = ['VehicleType', 'Gearbox', 'Model', 'FuelType', 'Brand', 'NotRepaired']\n",
    "features_le_train = features_train\n",
    "features_le_valid = features_valid\n",
    "features_le_test = features_test\n",
    "\n",
    "for row in cat:\n",
    "    le = LabelEncoder()\n",
    "    le.fit(features_train[row])\n",
    "    features_le_train[row] = le.transform(features_train[row])\n",
    "    features_le_valid[row] = le.transform(features_valid[row])\n",
    "    features_le_test[row] = le.transform(features_test[row])\n",
    "    \n",
    "print(features_le_test.shape)\n",
    "features_le_test.head()"
   ]
  },
  {
   "cell_type": "markdown",
   "metadata": {},
   "source": [
    "Возможно, стоит отнести год выпуска машины к категориальным признакам, как минимум, потому что он дискретный. Но потому что он численный, он не обрабатывается OHE, а масштабируется. На сколько это критично?"
   ]
  },
  {
   "cell_type": "code",
   "execution_count": 22,
   "metadata": {},
   "outputs": [
    {
     "name": "stdout",
     "output_type": "stream",
     "text": [
      "OHE 2844.9419772508454\n"
     ]
    }
   ],
   "source": [
    "#Линейная регрессия обучение\n",
    "model_1 = LinearRegression()\n",
    "model_1.fit(features_ohe_train, target_train)\n",
    "#Линейная регрессия предсказание\n",
    "pred_1 = model_1.predict(features_ohe_valid)\n",
    "print('OHE', np.sqrt(mean_squared_error(target_valid, pred_1)))"
   ]
  },
  {
   "cell_type": "code",
   "execution_count": 23,
   "metadata": {},
   "outputs": [
    {
     "name": "stdout",
     "output_type": "stream",
     "text": [
      "LE 3480.75470403425\n"
     ]
    }
   ],
   "source": [
    "#Линейная регрессия обучение\n",
    "model_1 = LinearRegression()\n",
    "model_1.fit(features_le_train, target_train)\n",
    "#Линейная регрессия предсказание\n",
    "pred_1 = model_1.predict(features_le_valid)\n",
    "print('LE', np.sqrt(mean_squared_error(target_valid, pred_1)))"
   ]
  },
  {
   "cell_type": "markdown",
   "metadata": {},
   "source": [
    "Видно, что линейная регрессия на OHE дaeт меньшую ошибку, чем на LE. Поэтому я оставлю кодирование OHE"
   ]
  },
  {
   "cell_type": "code",
   "execution_count": 24,
   "metadata": {},
   "outputs": [
    {
     "data": {
      "text/html": [
       "<div>\n",
       "<style scoped>\n",
       "    .dataframe tbody tr th:only-of-type {\n",
       "        vertical-align: middle;\n",
       "    }\n",
       "\n",
       "    .dataframe tbody tr th {\n",
       "        vertical-align: top;\n",
       "    }\n",
       "\n",
       "    .dataframe thead th {\n",
       "        text-align: right;\n",
       "    }\n",
       "</style>\n",
       "<table border=\"1\" class=\"dataframe\">\n",
       "  <thead>\n",
       "    <tr style=\"text-align: right;\">\n",
       "      <th></th>\n",
       "      <th>Kilometer</th>\n",
       "      <th>Power</th>\n",
       "      <th>RegistrationYear</th>\n",
       "      <th>PostalCode</th>\n",
       "      <th>VehicleType_convertible</th>\n",
       "      <th>VehicleType_coupe</th>\n",
       "      <th>VehicleType_not_listed</th>\n",
       "      <th>VehicleType_other</th>\n",
       "      <th>VehicleType_sedan</th>\n",
       "      <th>VehicleType_small</th>\n",
       "      <th>...</th>\n",
       "      <th>Brand_smart</th>\n",
       "      <th>Brand_sonstige_autos</th>\n",
       "      <th>Brand_subaru</th>\n",
       "      <th>Brand_suzuki</th>\n",
       "      <th>Brand_toyota</th>\n",
       "      <th>Brand_trabant</th>\n",
       "      <th>Brand_volkswagen</th>\n",
       "      <th>Brand_volvo</th>\n",
       "      <th>NotRepaired_not_listed</th>\n",
       "      <th>NotRepaired_yes</th>\n",
       "    </tr>\n",
       "  </thead>\n",
       "  <tbody>\n",
       "    <tr>\n",
       "      <td>353593</td>\n",
       "      <td>-0.091703</td>\n",
       "      <td>-0.085034</td>\n",
       "      <td>0.518432</td>\n",
       "      <td>1.083154</td>\n",
       "      <td>0</td>\n",
       "      <td>0</td>\n",
       "      <td>0</td>\n",
       "      <td>0</td>\n",
       "      <td>1</td>\n",
       "      <td>0</td>\n",
       "      <td>...</td>\n",
       "      <td>0</td>\n",
       "      <td>0</td>\n",
       "      <td>0</td>\n",
       "      <td>0</td>\n",
       "      <td>0</td>\n",
       "      <td>0</td>\n",
       "      <td>0</td>\n",
       "      <td>0</td>\n",
       "      <td>0</td>\n",
       "      <td>0</td>\n",
       "    </tr>\n",
       "    <tr>\n",
       "      <td>28857</td>\n",
       "      <td>0.577696</td>\n",
       "      <td>0.123777</td>\n",
       "      <td>0.109133</td>\n",
       "      <td>-1.451408</td>\n",
       "      <td>0</td>\n",
       "      <td>0</td>\n",
       "      <td>0</td>\n",
       "      <td>0</td>\n",
       "      <td>1</td>\n",
       "      <td>0</td>\n",
       "      <td>...</td>\n",
       "      <td>0</td>\n",
       "      <td>0</td>\n",
       "      <td>0</td>\n",
       "      <td>0</td>\n",
       "      <td>0</td>\n",
       "      <td>0</td>\n",
       "      <td>0</td>\n",
       "      <td>0</td>\n",
       "      <td>0</td>\n",
       "      <td>0</td>\n",
       "    </tr>\n",
       "    <tr>\n",
       "      <td>5922</td>\n",
       "      <td>0.577696</td>\n",
       "      <td>-0.058932</td>\n",
       "      <td>1.746327</td>\n",
       "      <td>-0.248054</td>\n",
       "      <td>0</td>\n",
       "      <td>0</td>\n",
       "      <td>1</td>\n",
       "      <td>0</td>\n",
       "      <td>0</td>\n",
       "      <td>0</td>\n",
       "      <td>...</td>\n",
       "      <td>0</td>\n",
       "      <td>0</td>\n",
       "      <td>0</td>\n",
       "      <td>0</td>\n",
       "      <td>0</td>\n",
       "      <td>0</td>\n",
       "      <td>0</td>\n",
       "      <td>0</td>\n",
       "      <td>0</td>\n",
       "      <td>0</td>\n",
       "    </tr>\n",
       "    <tr>\n",
       "      <td>94678</td>\n",
       "      <td>0.577696</td>\n",
       "      <td>-0.048492</td>\n",
       "      <td>-0.436598</td>\n",
       "      <td>-0.760167</td>\n",
       "      <td>0</td>\n",
       "      <td>0</td>\n",
       "      <td>1</td>\n",
       "      <td>0</td>\n",
       "      <td>0</td>\n",
       "      <td>0</td>\n",
       "      <td>...</td>\n",
       "      <td>0</td>\n",
       "      <td>0</td>\n",
       "      <td>0</td>\n",
       "      <td>0</td>\n",
       "      <td>0</td>\n",
       "      <td>0</td>\n",
       "      <td>0</td>\n",
       "      <td>0</td>\n",
       "      <td>0</td>\n",
       "      <td>0</td>\n",
       "    </tr>\n",
       "    <tr>\n",
       "      <td>163026</td>\n",
       "      <td>0.577696</td>\n",
       "      <td>-0.267743</td>\n",
       "      <td>-0.982329</td>\n",
       "      <td>-0.954416</td>\n",
       "      <td>0</td>\n",
       "      <td>0</td>\n",
       "      <td>0</td>\n",
       "      <td>0</td>\n",
       "      <td>0</td>\n",
       "      <td>1</td>\n",
       "      <td>...</td>\n",
       "      <td>0</td>\n",
       "      <td>0</td>\n",
       "      <td>0</td>\n",
       "      <td>0</td>\n",
       "      <td>0</td>\n",
       "      <td>0</td>\n",
       "      <td>0</td>\n",
       "      <td>0</td>\n",
       "      <td>0</td>\n",
       "      <td>0</td>\n",
       "    </tr>\n",
       "  </tbody>\n",
       "</table>\n",
       "<p>5 rows × 311 columns</p>\n",
       "</div>"
      ],
      "text/plain": [
       "        Kilometer     Power  RegistrationYear  PostalCode  \\\n",
       "353593  -0.091703 -0.085034          0.518432    1.083154   \n",
       "28857    0.577696  0.123777          0.109133   -1.451408   \n",
       "5922     0.577696 -0.058932          1.746327   -0.248054   \n",
       "94678    0.577696 -0.048492         -0.436598   -0.760167   \n",
       "163026   0.577696 -0.267743         -0.982329   -0.954416   \n",
       "\n",
       "        VehicleType_convertible  VehicleType_coupe  VehicleType_not_listed  \\\n",
       "353593                        0                  0                       0   \n",
       "28857                         0                  0                       0   \n",
       "5922                          0                  0                       1   \n",
       "94678                         0                  0                       1   \n",
       "163026                        0                  0                       0   \n",
       "\n",
       "        VehicleType_other  VehicleType_sedan  VehicleType_small  ...  \\\n",
       "353593                  0                  1                  0  ...   \n",
       "28857                   0                  1                  0  ...   \n",
       "5922                    0                  0                  0  ...   \n",
       "94678                   0                  0                  0  ...   \n",
       "163026                  0                  0                  1  ...   \n",
       "\n",
       "        Brand_smart  Brand_sonstige_autos  Brand_subaru  Brand_suzuki  \\\n",
       "353593            0                     0             0             0   \n",
       "28857             0                     0             0             0   \n",
       "5922              0                     0             0             0   \n",
       "94678             0                     0             0             0   \n",
       "163026            0                     0             0             0   \n",
       "\n",
       "        Brand_toyota  Brand_trabant  Brand_volkswagen  Brand_volvo  \\\n",
       "353593             0              0                 0            0   \n",
       "28857              0              0                 0            0   \n",
       "5922               0              0                 0            0   \n",
       "94678              0              0                 0            0   \n",
       "163026             0              0                 0            0   \n",
       "\n",
       "        NotRepaired_not_listed  NotRepaired_yes  \n",
       "353593                       0                0  \n",
       "28857                        0                0  \n",
       "5922                         0                0  \n",
       "94678                        0                0  \n",
       "163026                       0                0  \n",
       "\n",
       "[5 rows x 311 columns]"
      ]
     },
     "metadata": {},
     "output_type": "display_data"
    },
    {
     "data": {
      "text/html": [
       "<div>\n",
       "<style scoped>\n",
       "    .dataframe tbody tr th:only-of-type {\n",
       "        vertical-align: middle;\n",
       "    }\n",
       "\n",
       "    .dataframe tbody tr th {\n",
       "        vertical-align: top;\n",
       "    }\n",
       "\n",
       "    .dataframe thead th {\n",
       "        text-align: right;\n",
       "    }\n",
       "</style>\n",
       "<table border=\"1\" class=\"dataframe\">\n",
       "  <thead>\n",
       "    <tr style=\"text-align: right;\">\n",
       "      <th></th>\n",
       "      <th>Kilometer</th>\n",
       "      <th>Power</th>\n",
       "      <th>RegistrationYear</th>\n",
       "      <th>VehicleType</th>\n",
       "      <th>Gearbox</th>\n",
       "      <th>Model</th>\n",
       "      <th>FuelType</th>\n",
       "      <th>Brand</th>\n",
       "      <th>NotRepaired</th>\n",
       "      <th>PostalCode</th>\n",
       "    </tr>\n",
       "  </thead>\n",
       "  <tbody>\n",
       "    <tr>\n",
       "      <td>77947</td>\n",
       "      <td>-1.296621</td>\n",
       "      <td>-0.299065</td>\n",
       "      <td>-0.163733</td>\n",
       "      <td>6</td>\n",
       "      <td>1</td>\n",
       "      <td>200</td>\n",
       "      <td>7</td>\n",
       "      <td>9</td>\n",
       "      <td>0</td>\n",
       "      <td>0.885717</td>\n",
       "    </tr>\n",
       "    <tr>\n",
       "      <td>293905</td>\n",
       "      <td>-0.091703</td>\n",
       "      <td>-0.346047</td>\n",
       "      <td>-1.118762</td>\n",
       "      <td>6</td>\n",
       "      <td>1</td>\n",
       "      <td>83</td>\n",
       "      <td>7</td>\n",
       "      <td>24</td>\n",
       "      <td>1</td>\n",
       "      <td>-0.788545</td>\n",
       "    </tr>\n",
       "    <tr>\n",
       "      <td>234560</td>\n",
       "      <td>0.577696</td>\n",
       "      <td>0.510076</td>\n",
       "      <td>-0.436598</td>\n",
       "      <td>3</td>\n",
       "      <td>1</td>\n",
       "      <td>167</td>\n",
       "      <td>7</td>\n",
       "      <td>1</td>\n",
       "      <td>1</td>\n",
       "      <td>-1.648222</td>\n",
       "    </tr>\n",
       "    <tr>\n",
       "      <td>234572</td>\n",
       "      <td>-0.091703</td>\n",
       "      <td>-0.111135</td>\n",
       "      <td>-0.982329</td>\n",
       "      <td>5</td>\n",
       "      <td>1</td>\n",
       "      <td>136</td>\n",
       "      <td>7</td>\n",
       "      <td>27</td>\n",
       "      <td>0</td>\n",
       "      <td>-0.645531</td>\n",
       "    </tr>\n",
       "    <tr>\n",
       "      <td>322074</td>\n",
       "      <td>0.577696</td>\n",
       "      <td>0.149878</td>\n",
       "      <td>1.200596</td>\n",
       "      <td>7</td>\n",
       "      <td>1</td>\n",
       "      <td>135</td>\n",
       "      <td>2</td>\n",
       "      <td>10</td>\n",
       "      <td>0</td>\n",
       "      <td>-1.898331</td>\n",
       "    </tr>\n",
       "  </tbody>\n",
       "</table>\n",
       "</div>"
      ],
      "text/plain": [
       "        Kilometer     Power  RegistrationYear  VehicleType  Gearbox  Model  \\\n",
       "77947   -1.296621 -0.299065         -0.163733            6        1    200   \n",
       "293905  -0.091703 -0.346047         -1.118762            6        1     83   \n",
       "234560   0.577696  0.510076         -0.436598            3        1    167   \n",
       "234572  -0.091703 -0.111135         -0.982329            5        1    136   \n",
       "322074   0.577696  0.149878          1.200596            7        1    135   \n",
       "\n",
       "        FuelType  Brand  NotRepaired  PostalCode  \n",
       "77947          7      9            0    0.885717  \n",
       "293905         7     24            1   -0.788545  \n",
       "234560         7      1            1   -1.648222  \n",
       "234572         7     27            0   -0.645531  \n",
       "322074         2     10            0   -1.898331  "
      ]
     },
     "metadata": {},
     "output_type": "display_data"
    }
   ],
   "source": [
    "#Масштабирование численных признаков\n",
    "pd.options.mode.chained_assignment = None\n",
    "num = ['Kilometer', 'Power', 'RegistrationYear', 'PostalCode']\n",
    "scaler = StandardScaler()\n",
    "scaler.fit(features_train[num])\n",
    "features_ohe_train[num] = scaler.transform(features_ohe_train[num])\n",
    "features_ohe_valid[num] = scaler.transform(features_ohe_valid[num])\n",
    "features_ohe_test[num] = scaler.transform(features_ohe_test[num])\n",
    "features_train[num] = scaler.transform(features_train[num])\n",
    "features_valid[num] = scaler.transform(features_valid[num])\n",
    "features_test[num] = scaler.transform(features_test[num])\n",
    "\n",
    "display(features_ohe_train.head())\n",
    "display(features_valid.head())"
   ]
  },
  {
   "cell_type": "markdown",
   "metadata": {},
   "source": [
    "В ходе подготовки данных были удалены пропуски, аномальные значения, признаки, не влияющие на целевой признак. Категориальные признаки были закодированы в численные для обработки простыми моделями. Численные признаки были отмасштабированы.\n",
    "Так же данные были разделены на обучающую и валидационную выборки"
   ]
  },
  {
   "cell_type": "markdown",
   "metadata": {},
   "source": [
    "## Обучение моделей"
   ]
  },
  {
   "cell_type": "markdown",
   "metadata": {},
   "source": [
    "В данном разделе я буду искать оптимальные модели среди простых (линейная регрессия и случайный лес) и градиентного бустинга. Затем я обучу их и засеку время, потраченное на обучение"
   ]
  },
  {
   "cell_type": "code",
   "execution_count": 25,
   "metadata": {},
   "outputs": [],
   "source": [
    "#Градиентный бустинг\n",
    "\n",
    "#меняю тип данных в столбцах на категориальные\n",
    "for col in ['VehicleType', 'Gearbox', 'Model', 'FuelType', 'Brand', 'NotRepaired']:\n",
    "        features_train[col] = features_train[col].astype('category')\n",
    "        features_valid[col] = features_valid[col].astype('category')\n",
    "        features_test[col] = features_test[col].astype('category')"
   ]
  },
  {
   "cell_type": "code",
   "execution_count": 26,
   "metadata": {},
   "outputs": [
    {
     "name": "stdout",
     "output_type": "stream",
     "text": [
      "[1]\tvalid_0's rmse: 4207.99\n",
      "[2]\tvalid_0's rmse: 3924.9\n",
      "[3]\tvalid_0's rmse: 3679.26\n",
      "[4]\tvalid_0's rmse: 3458.55\n",
      "[5]\tvalid_0's rmse: 3262.69\n",
      "CPU times: user 24.4 s, sys: 19.9 ms, total: 24.4 s\n",
      "Wall time: 24.6 s\n"
     ]
    },
    {
     "data": {
      "text/plain": [
       "3262.6854457860413"
      ]
     },
     "execution_count": 26,
     "metadata": {},
     "output_type": "execute_result"
    }
   ],
   "source": [
    "%%time\n",
    "train_data = lgb.Dataset(features_train, label=target_train)\n",
    "validation_data = lgb.Dataset(features_valid, label=target_valid)\n",
    "\n",
    "param = {'objective':'regression', 'metric':'rmse',  'num_iterations':5, 'max_depth':100}\n",
    "\n",
    "model_3 = lgb.train(param, train_data, valid_sets=[validation_data])\n",
    "pred_3 = model_3.predict(features_valid)\n",
    "\n",
    "np.sqrt(mean_squared_error(target_valid, pred_3))"
   ]
  },
  {
   "cell_type": "code",
   "execution_count": 27,
   "metadata": {},
   "outputs": [
    {
     "name": "stdout",
     "output_type": "stream",
     "text": [
      "20 2024.5131940128183\n",
      "40 1777.1582598944756\n",
      "60 1723.646847847273\n",
      "80 1698.3687626158905\n",
      "100 1680.6856892483406\n",
      "120 1669.9281279178988\n",
      "140 1662.621598093995\n",
      "160 1655.4930737263417\n",
      "180 1648.9898399609929\n",
      "200 1643.2897797743242\n",
      "200 1643.2897797743242\n"
     ]
    },
    {
     "data": {
      "text/plain": [
       "[<matplotlib.lines.Line2D at 0x7f8b99148a50>]"
      ]
     },
     "execution_count": 27,
     "metadata": {},
     "output_type": "execute_result"
    },
    {
     "data": {
      "image/png": "[encoded data removed]",
      "text/plain": [
       "<Figure size 432x288 with 1 Axes>"
      ]
     },
     "metadata": {
      "needs_background": "light"
     },
     "output_type": "display_data"
    }
   ],
   "source": [
    "#Изменение гиперпараметра: количество итераций\n",
    "rmse_list = []\n",
    "i_list = []\n",
    "rmse_min = 5000\n",
    "\n",
    "for i in range(20, 201, 20):    \n",
    "    param['num_iterations'] = i\n",
    "    model_3 = lgb.train(param, train_data, valid_sets=[validation_data], verbose_eval=0)\n",
    "    pred_3 = model_3.predict(features_valid)\n",
    "    rmse = np.sqrt(mean_squared_error(target_valid, pred_3))\n",
    "    rmse_list.append(rmse)\n",
    "    i_list.append(i)\n",
    "    print(i, rmse)\n",
    "    \n",
    "    if rmse < rmse_min:\n",
    "        rmse_min = rmse\n",
    "        i_min = i\n",
    "        \n",
    "print(i_min, rmse_min)\n",
    "\n",
    "plt.xlabel('num_round')\n",
    "plt.ylabel('RMSE')\n",
    "plt.plot(i_list, rmse_list, 'ro')"
   ]
  },
  {
   "cell_type": "code",
   "execution_count": 28,
   "metadata": {},
   "outputs": [
    {
     "name": "stdout",
     "output_type": "stream",
     "text": [
      "1 2216.3109845625295\n",
      "2 1897.193789817563\n",
      "3 1770.6602396351943\n",
      "4 1714.585292619152\n",
      "5 1668.982284137275\n",
      "6 1653.9691099590152\n",
      "7 1653.367689782767\n",
      "8 1648.1812941537814\n",
      "9 1645.2446155733965\n",
      "10 1645.530196073401\n",
      "11 1645.7686429904734\n",
      "12 1644.8909347509666\n",
      "13 1641.2819175508675\n",
      "14 1638.1039866163421\n",
      "15 1643.2897797743242\n",
      "14 1638.1039866163421\n"
     ]
    },
    {
     "data": {
      "text/plain": [
       "[<matplotlib.lines.Line2D at 0x7f8baed82450>]"
      ]
     },
     "execution_count": 28,
     "metadata": {},
     "output_type": "execute_result"
    },
    {
     "data": {
      "image/png": "[encoded data removed]",
      "text/plain": [
       "<Figure size 432x288 with 1 Axes>"
      ]
     },
     "metadata": {
      "needs_background": "light"
     },
     "output_type": "display_data"
    }
   ],
   "source": [
    "#Изменение максимальной глубины дерева\n",
    "rmse_list = []\n",
    "n_list = []\n",
    "rmse_min = 5000\n",
    "param['num_iterations'] = 200\n",
    "\n",
    "for n in range(1, 16):    \n",
    "    param['max_depth'] = n\n",
    "    model_3 = lgb.train(param, train_data, valid_sets=[validation_data], verbose_eval=0)\n",
    "    pred_3 = model_3.predict(features_valid)\n",
    "    rmse = np.sqrt(mean_squared_error(target_valid, pred_3))\n",
    "    rmse_list.append(rmse)\n",
    "    n_list.append(n)\n",
    "    print(n, rmse)\n",
    "    \n",
    "    if rmse < rmse_min:\n",
    "        rmse_min = rmse\n",
    "        n_min = n\n",
    "        \n",
    "print(n_min, rmse_min)\n",
    "\n",
    "plt.xlabel('num_round')\n",
    "plt.ylabel('RMSE')\n",
    "plt.plot(n_list, rmse_list, 'ro')"
   ]
  },
  {
   "cell_type": "markdown",
   "metadata": {},
   "source": [
    "Оптимальная модель была найдена при гиперпараметрах: максимальной глубине 12 и количестве итераций 200"
   ]
  },
  {
   "cell_type": "code",
   "execution_count": 29,
   "metadata": {},
   "outputs": [
    {
     "name": "stdout",
     "output_type": "stream",
     "text": [
      "26 1690.242487525774\n"
     ]
    },
    {
     "data": {
      "text/plain": [
       "[<matplotlib.lines.Line2D at 0x7f8baedb63d0>]"
      ]
     },
     "execution_count": 29,
     "metadata": {},
     "output_type": "execute_result"
    },
    {
     "data": {
      "image/png": "[encoded data removed]",
      "text/plain": [
       "<Figure size 432x288 with 1 Axes>"
      ]
     },
     "metadata": {
      "needs_background": "light"
     },
     "output_type": "display_data"
    }
   ],
   "source": [
    "#Лес\n",
    "\n",
    "#Ищу максимальную глубину деревьев\n",
    "rmse_list = []\n",
    "d_list = []\n",
    "rmse_min = 5000\n",
    "\n",
    "for d in range(1, 30, 5):    \n",
    "    model_2 = RandomForestRegressor(random_state=42, n_estimators=10, max_depth=d)\n",
    "    model_2.fit(features_ohe_train, target_train)\n",
    "    pred_2 = model_2.predict(features_ohe_valid)\n",
    "    rmse = np.sqrt(mean_squared_error(target_valid, pred_2))\n",
    "    rmse_list.append(rmse)\n",
    "    d_list.append(d)\n",
    "    \n",
    "    if rmse < rmse_min:\n",
    "        rmse_min = rmse\n",
    "        d_min = d\n",
    "        \n",
    "print(d_min, rmse_min)\n",
    "\n",
    "plt.xlabel('max_depth')\n",
    "plt.ylabel('RMSE')\n",
    "plt.plot(d_list, rmse_list, 'ro')"
   ]
  },
  {
   "cell_type": "code",
   "execution_count": 30,
   "metadata": {},
   "outputs": [
    {
     "name": "stdout",
     "output_type": "stream",
     "text": [
      "41 1643.5892167391214\n"
     ]
    },
    {
     "data": {
      "text/plain": [
       "[<matplotlib.lines.Line2D at 0x7f8bafa98c90>]"
      ]
     },
     "execution_count": 30,
     "metadata": {},
     "output_type": "execute_result"
    },
    {
     "data": {
      "image/png": "[encoded data removed]",
      "text/plain": [
       "<Figure size 432x288 with 1 Axes>"
      ]
     },
     "metadata": {
      "needs_background": "light"
     },
     "output_type": "display_data"
    }
   ],
   "source": [
    "#Ищу количество деревьев\n",
    "rmse_list = []\n",
    "n_list = []\n",
    "rmse_min = 5000\n",
    "\n",
    "for n in range(1, 50, 10):    \n",
    "    model_2 = RandomForestRegressor(random_state=42, n_estimators=n, max_depth=d_min)\n",
    "    model_2.fit(features_ohe_train, target_train)\n",
    "    pred_2 = model_2.predict(features_ohe_valid)\n",
    "    rmse = np.sqrt(mean_squared_error(target_valid, pred_2))\n",
    "    rmse_list.append(rmse)\n",
    "    n_list.append(n)\n",
    "    \n",
    "    if rmse < rmse_min:\n",
    "        rmse_min = rmse\n",
    "        n_min = n\n",
    "        \n",
    "print(n_min, rmse_min)\n",
    "\n",
    "plt.xlabel('n_estimators')\n",
    "plt.ylabel('RMSE')\n",
    "plt.plot(n_list, rmse_list, 'ro')"
   ]
  },
  {
   "cell_type": "markdown",
   "metadata": {},
   "source": [
    "Оптимальными гиперпараметрами случайного леса оказались: d=26, n=41.\n",
    "\n",
    "\n",
    "Но на обоих графиках значения снижаются очень медленно после 20 (примерно), поэтому стоит проверить несколько сочетаний значений для значения ошибки и времени, которое уходит на выполнение кода"
   ]
  },
  {
   "cell_type": "code",
   "execution_count": 31,
   "metadata": {},
   "outputs": [
    {
     "name": "stdout",
     "output_type": "stream",
     "text": [
      "CPU times: user 2min 35s, sys: 433 ms, total: 2min 35s\n",
      "Wall time: 2min 37s\n"
     ]
    },
    {
     "data": {
      "text/plain": [
       "1652.405272384675"
      ]
     },
     "execution_count": 31,
     "metadata": {},
     "output_type": "execute_result"
    }
   ],
   "source": [
    "%%time\n",
    "\n",
    "model_2 = RandomForestRegressor(random_state=42, n_estimators=25, max_depth=26)\n",
    "model_2.fit(features_ohe_train, target_train)\n",
    "pred_2 = model_2.predict(features_ohe_valid)\n",
    "np.sqrt(mean_squared_error(target_valid, pred_2))"
   ]
  },
  {
   "cell_type": "code",
   "execution_count": 32,
   "metadata": {},
   "outputs": [
    {
     "name": "stdout",
     "output_type": "stream",
     "text": [
      "CPU times: user 2min 4s, sys: 361 ms, total: 2min 5s\n",
      "Wall time: 2min 6s\n"
     ]
    },
    {
     "data": {
      "text/plain": [
       "1658.6306748493262"
      ]
     },
     "execution_count": 32,
     "metadata": {},
     "output_type": "execute_result"
    }
   ],
   "source": [
    "%%time\n",
    "\n",
    "model_2 = RandomForestRegressor(random_state=42, n_estimators=20, max_depth=26)\n",
    "model_2.fit(features_ohe_train, target_train)\n",
    "pred_2 = model_2.predict(features_ohe_valid)\n",
    "np.sqrt(mean_squared_error(target_valid, pred_2))"
   ]
  },
  {
   "cell_type": "code",
   "execution_count": 33,
   "metadata": {},
   "outputs": [
    {
     "name": "stdout",
     "output_type": "stream",
     "text": [
      "CPU times: user 2min 18s, sys: 349 ms, total: 2min 18s\n",
      "Wall time: 2min 20s\n"
     ]
    },
    {
     "data": {
      "text/plain": [
       "1673.6451738572312"
      ]
     },
     "execution_count": 33,
     "metadata": {},
     "output_type": "execute_result"
    }
   ],
   "source": [
    "%%time\n",
    "\n",
    "model_2 = RandomForestRegressor(random_state=42, n_estimators=25, max_depth=20)\n",
    "model_2.fit(features_ohe_train, target_train)\n",
    "pred_2 = model_2.predict(features_ohe_valid)\n",
    "np.sqrt(mean_squared_error(target_valid, pred_2))"
   ]
  },
  {
   "cell_type": "code",
   "execution_count": 34,
   "metadata": {},
   "outputs": [
    {
     "name": "stdout",
     "output_type": "stream",
     "text": [
      "CPU times: user 4min 11s, sys: 626 ms, total: 4min 12s\n",
      "Wall time: 4min 15s\n"
     ]
    },
    {
     "data": {
      "text/plain": [
       "1643.5892167391214"
      ]
     },
     "execution_count": 34,
     "metadata": {},
     "output_type": "execute_result"
    }
   ],
   "source": [
    "%%time\n",
    "\n",
    "model_2 = RandomForestRegressor(random_state=42, n_estimators=41, max_depth=26)\n",
    "model_2.fit(features_ohe_train, target_train)\n",
    "pred_2 = model_2.predict(features_ohe_valid)\n",
    "np.sqrt(mean_squared_error(target_valid, pred_2))"
   ]
  },
  {
   "cell_type": "markdown",
   "metadata": {},
   "source": [
    "Оптимальным сочетанием гиперпараметров с учетом времени выполнения (1min 27s) стали: d=26, n=25"
   ]
  },
  {
   "cell_type": "markdown",
   "metadata": {},
   "source": [
    "## Анализ моделей"
   ]
  },
  {
   "cell_type": "code",
   "execution_count": 35,
   "metadata": {},
   "outputs": [
    {
     "name": "stdout",
     "output_type": "stream",
     "text": [
      "CPU times: user 20.6 s, sys: 7.29 s, total: 27.9 s\n",
      "Wall time: 27.9 s\n"
     ]
    },
    {
     "data": {
      "text/plain": [
       "LinearRegression(copy_X=True, fit_intercept=True, n_jobs=None, normalize=False)"
      ]
     },
     "execution_count": 35,
     "metadata": {},
     "output_type": "execute_result"
    }
   ],
   "source": [
    "%%time\n",
    "#Простые модели\n",
    "#Линейная регрессия обучение\n",
    "model_1 = LinearRegression()\n",
    "model_1.fit(features_ohe_train, target_train)"
   ]
  },
  {
   "cell_type": "code",
   "execution_count": 36,
   "metadata": {},
   "outputs": [
    {
     "name": "stdout",
     "output_type": "stream",
     "text": [
      "CPU times: user 2min 30s, sys: 454 ms, total: 2min 30s\n",
      "Wall time: 2min 32s\n"
     ]
    },
    {
     "data": {
      "text/plain": [
       "RandomForestRegressor(bootstrap=True, criterion='mse', max_depth=26,\n",
       "                      max_features='auto', max_leaf_nodes=None,\n",
       "                      min_impurity_decrease=0.0, min_impurity_split=None,\n",
       "                      min_samples_leaf=1, min_samples_split=2,\n",
       "                      min_weight_fraction_leaf=0.0, n_estimators=25,\n",
       "                      n_jobs=None, oob_score=False, random_state=42, verbose=0,\n",
       "                      warm_start=False)"
      ]
     },
     "execution_count": 36,
     "metadata": {},
     "output_type": "execute_result"
    }
   ],
   "source": [
    "%%time\n",
    "#Случайный лес обучение\n",
    "model_2 = RandomForestRegressor(random_state=42, n_estimators=25, max_depth=26)\n",
    "model_2.fit(features_ohe_train, target_train)"
   ]
  },
  {
   "cell_type": "code",
   "execution_count": 37,
   "metadata": {},
   "outputs": [
    {
     "name": "stdout",
     "output_type": "stream",
     "text": [
      "CPU times: user 4min 53s, sys: 1.09 s, total: 4min 54s\n",
      "Wall time: 4min 57s\n"
     ]
    }
   ],
   "source": [
    "%%time\n",
    "#Градиентный бустинг обучение\n",
    "param['num_iterations'] = 200\n",
    "param['max_depth'] = 12\n",
    "model_3 = lgb.train(param, train_data, valid_sets=[validation_data], verbose_eval=0)"
   ]
  },
  {
   "cell_type": "code",
   "execution_count": 38,
   "metadata": {},
   "outputs": [
    {
     "name": "stdout",
     "output_type": "stream",
     "text": [
      "CPU times: user 93.4 ms, sys: 56.8 ms, total: 150 ms\n",
      "Wall time: 186 ms\n"
     ]
    }
   ],
   "source": [
    "%%time\n",
    "#Линейная регрессия предсказание\n",
    "rmse = [0, 0, 0, 0]\n",
    "pred_1 = model_1.predict(features_ohe_test)\n",
    "rmse[0] = np.sqrt(mean_squared_error(target_test, pred_1))"
   ]
  },
  {
   "cell_type": "code",
   "execution_count": 39,
   "metadata": {},
   "outputs": [
    {
     "name": "stdout",
     "output_type": "stream",
     "text": [
      "CPU times: user 944 ms, sys: 73 ms, total: 1.02 s\n",
      "Wall time: 1.07 s\n"
     ]
    }
   ],
   "source": [
    "%%time\n",
    "#Случайный лес предсказание\n",
    "pred_2 = model_2.predict(features_ohe_test)\n",
    "rmse[1] = np.sqrt(mean_squared_error(target_test, pred_2))"
   ]
  },
  {
   "cell_type": "code",
   "execution_count": 40,
   "metadata": {},
   "outputs": [
    {
     "name": "stdout",
     "output_type": "stream",
     "text": [
      "CPU times: user 2.41 s, sys: 3.93 ms, total: 2.41 s\n",
      "Wall time: 2.37 s\n"
     ]
    }
   ],
   "source": [
    "%%time\n",
    "#Градиентный бустинг предсказание\n",
    "pred_3 = model_3.predict(features_test)\n",
    "rmse[2] = np.sqrt(mean_squared_error(target_test, pred_3))"
   ]
  },
  {
   "cell_type": "code",
   "execution_count": 41,
   "metadata": {},
   "outputs": [],
   "source": [
    "#Dummy\n",
    "model_4 = DummyRegressor()\n",
    "model_4.fit(features_ohe_train, target_train)\n",
    "pred_4 = model_4.predict(features_ohe_test)\n",
    "rmse[3] = np.sqrt(mean_squared_error(target_test, pred_4))"
   ]
  },
  {
   "cell_type": "code",
   "execution_count": 42,
   "metadata": {},
   "outputs": [
    {
     "data": {
      "text/html": [
       "<div>\n",
       "<style scoped>\n",
       "    .dataframe tbody tr th:only-of-type {\n",
       "        vertical-align: middle;\n",
       "    }\n",
       "\n",
       "    .dataframe tbody tr th {\n",
       "        vertical-align: top;\n",
       "    }\n",
       "\n",
       "    .dataframe thead th {\n",
       "        text-align: right;\n",
       "    }\n",
       "</style>\n",
       "<table border=\"1\" class=\"dataframe\">\n",
       "  <thead>\n",
       "    <tr style=\"text-align: right;\">\n",
       "      <th></th>\n",
       "      <th>0</th>\n",
       "      <th>1</th>\n",
       "      <th>2</th>\n",
       "      <th>3</th>\n",
       "    </tr>\n",
       "  </thead>\n",
       "  <tbody>\n",
       "    <tr>\n",
       "      <td>Модель</td>\n",
       "      <td>Линейная регрессия</td>\n",
       "      <td>Случайный лес</td>\n",
       "      <td>Градиентный бустинг</td>\n",
       "      <td>Dummy</td>\n",
       "    </tr>\n",
       "    <tr>\n",
       "      <td>RMSE</td>\n",
       "      <td>2829.32</td>\n",
       "      <td>1660.8</td>\n",
       "      <td>1634.85</td>\n",
       "      <td>4502.71</td>\n",
       "    </tr>\n",
       "  </tbody>\n",
       "</table>\n",
       "</div>"
      ],
      "text/plain": [
       "                         0              1                    2        3\n",
       "Модель  Линейная регрессия  Случайный лес  Градиентный бустинг    Dummy\n",
       "RMSE               2829.32         1660.8              1634.85  4502.71"
      ]
     },
     "metadata": {},
     "output_type": "display_data"
    }
   ],
   "source": [
    "columns = ['Модель', 'RMSE']\n",
    "name = ['Линейная регрессия', 'Случайный лес', 'Градиентный бустинг', 'Dummy']\n",
    "results = pd.DataFrame([name, rmse], columns)\n",
    "display(results)"
   ]
  },
  {
   "cell_type": "markdown",
   "metadata": {},
   "source": [
    "**Вывод**\n",
    "В ходе данной работы были опробованы различные модели для определения стоимости автомобиля на основе его характеристик: линейная регрессия, случайный лес и градиентный бустинг. Для каждой модели были найдены оптимальные гиперпараметры на основе метрики RMSE.\n",
    "\n",
    "Полученные результаты:\n",
    "1. Наиболее точные предсказания имеет градиентный бустинг\n",
    "2. Быстрее всего обучается и предсказывает линейная регрессия\n",
    "3. Медленнее всего обучается случайный лес\n",
    "\n",
    "То есть оптимальной моделью является градиентный бустинг с гиперпараметрами количество итераций = 200\n",
    "максимальная глубина = 12, сочетающий в себе скорость работы и точность предсказаний. Так же градиентный бустинг не требует предварительной обработки категориальных данных, как более простые модели."
   ]
  },
  {
   "cell_type": "code",
   "execution_count": null,
   "metadata": {},
   "outputs": [],
   "source": []
  }
 ],
 "metadata": {
  "ExecuteTimeLog": [
   {
    "duration": 360,
    "start_time": "2021-07-05T09:41:26.976Z"
   },
   {
    "duration": 756,
    "start_time": "2021-07-05T09:41:34.114Z"
   },
   {
    "duration": 5358,
    "start_time": "2021-07-05T09:41:34.872Z"
   },
   {
    "duration": 661,
    "start_time": "2021-07-05T10:00:35.344Z"
   },
   {
    "duration": 13,
    "start_time": "2021-07-05T10:01:21.511Z"
   },
   {
    "duration": 603,
    "start_time": "2021-07-05T10:01:54.018Z"
   },
   {
    "duration": 301,
    "start_time": "2021-07-05T10:01:58.139Z"
   },
   {
    "duration": 3206,
    "start_time": "2021-07-05T10:02:05.061Z"
   },
   {
    "duration": 564,
    "start_time": "2021-07-05T10:02:33.453Z"
   },
   {
    "duration": 872,
    "start_time": "2021-07-05T10:03:12.540Z"
   },
   {
    "duration": 859,
    "start_time": "2021-07-05T10:03:47.941Z"
   },
   {
    "duration": 649,
    "start_time": "2021-07-05T10:04:51.277Z"
   },
   {
    "duration": 608,
    "start_time": "2021-07-05T10:05:02.922Z"
   },
   {
    "duration": 755,
    "start_time": "2021-07-05T10:05:15.620Z"
   },
   {
    "duration": 580,
    "start_time": "2021-07-05T10:05:35.013Z"
   },
   {
    "duration": 582,
    "start_time": "2021-07-05T10:06:21.381Z"
   },
   {
    "duration": 579,
    "start_time": "2021-07-05T10:07:08.218Z"
   },
   {
    "duration": 579,
    "start_time": "2021-07-05T10:07:21.138Z"
   },
   {
    "duration": 724,
    "start_time": "2021-07-05T10:07:49.907Z"
   },
   {
    "duration": 755,
    "start_time": "2021-07-05T10:12:15.864Z"
   },
   {
    "duration": 19,
    "start_time": "2021-07-05T10:12:33.871Z"
   },
   {
    "duration": 604,
    "start_time": "2021-07-05T10:13:18.067Z"
   },
   {
    "duration": 595,
    "start_time": "2021-07-05T10:14:01.009Z"
   },
   {
    "duration": 652,
    "start_time": "2021-07-05T10:15:57.686Z"
   },
   {
    "duration": 571,
    "start_time": "2021-07-05T10:16:48.482Z"
   },
   {
    "duration": 45,
    "start_time": "2021-07-05T10:21:38.609Z"
   },
   {
    "duration": 49,
    "start_time": "2021-07-05T10:22:13.808Z"
   },
   {
    "duration": 52,
    "start_time": "2021-07-05T10:22:39.888Z"
   },
   {
    "duration": 44,
    "start_time": "2021-07-05T10:23:27.957Z"
   },
   {
    "duration": 52,
    "start_time": "2021-07-05T10:23:28.809Z"
   },
   {
    "duration": 45,
    "start_time": "2021-07-05T10:23:29.310Z"
   },
   {
    "duration": 61,
    "start_time": "2021-07-05T10:25:17.918Z"
   },
   {
    "duration": 54,
    "start_time": "2021-07-05T10:26:33.467Z"
   },
   {
    "duration": 52,
    "start_time": "2021-07-05T10:26:40.990Z"
   },
   {
    "duration": 228,
    "start_time": "2021-07-05T10:26:51.718Z"
   },
   {
    "duration": 567,
    "start_time": "2021-07-05T10:27:48.783Z"
   },
   {
    "duration": 419,
    "start_time": "2021-07-05T10:28:04.503Z"
   },
   {
    "duration": 347,
    "start_time": "2021-07-05T10:28:35.143Z"
   },
   {
    "duration": 790,
    "start_time": "2021-07-06T09:16:00.419Z"
   },
   {
    "duration": 1261,
    "start_time": "2021-07-06T09:16:01.213Z"
   },
   {
    "duration": 347,
    "start_time": "2021-07-06T09:16:02.478Z"
   },
   {
    "duration": 36,
    "start_time": "2021-07-06T09:16:02.828Z"
   },
   {
    "duration": 872,
    "start_time": "2021-07-06T09:16:02.867Z"
   },
   {
    "duration": 605,
    "start_time": "2021-07-06T09:16:03.741Z"
   },
   {
    "duration": 570,
    "start_time": "2021-07-06T09:16:04.348Z"
   },
   {
    "duration": 538,
    "start_time": "2021-07-06T09:16:04.921Z"
   },
   {
    "duration": 33,
    "start_time": "2021-07-06T09:16:05.462Z"
   },
   {
    "duration": 40,
    "start_time": "2021-07-06T09:16:05.497Z"
   },
   {
    "duration": 34,
    "start_time": "2021-07-06T09:16:05.555Z"
   },
   {
    "duration": 39,
    "start_time": "2021-07-06T09:16:05.592Z"
   },
   {
    "duration": 35,
    "start_time": "2021-07-06T09:16:05.654Z"
   },
   {
    "duration": 33,
    "start_time": "2021-07-06T09:16:05.692Z"
   },
   {
    "duration": 489,
    "start_time": "2021-07-06T09:16:05.727Z"
   },
   {
    "duration": -201,
    "start_time": "2021-07-06T09:16:06.419Z"
   },
   {
    "duration": -206,
    "start_time": "2021-07-06T09:16:06.426Z"
   },
   {
    "duration": 376,
    "start_time": "2021-07-06T09:16:19.383Z"
   },
   {
    "duration": 122,
    "start_time": "2021-07-06T09:16:28.931Z"
   },
   {
    "duration": 32,
    "start_time": "2021-07-06T09:16:47.761Z"
   },
   {
    "duration": 480,
    "start_time": "2021-07-06T09:19:17.751Z"
   },
   {
    "duration": 472,
    "start_time": "2021-07-06T09:19:35.479Z"
   },
   {
    "duration": 509,
    "start_time": "2021-07-06T09:20:41.907Z"
   },
   {
    "duration": 452,
    "start_time": "2021-07-06T09:20:53.888Z"
   },
   {
    "duration": 51,
    "start_time": "2021-07-06T09:23:22.437Z"
   },
   {
    "duration": 38,
    "start_time": "2021-07-06T09:24:30.366Z"
   },
   {
    "duration": 1555,
    "start_time": "2021-07-06T10:52:13.087Z"
   },
   {
    "duration": 1934,
    "start_time": "2021-07-06T10:52:14.645Z"
   },
   {
    "duration": 373,
    "start_time": "2021-07-06T10:52:16.582Z"
   },
   {
    "duration": 18,
    "start_time": "2021-07-06T10:52:16.958Z"
   },
   {
    "duration": 926,
    "start_time": "2021-07-06T10:52:16.978Z"
   },
   {
    "duration": 798,
    "start_time": "2021-07-06T10:52:17.906Z"
   },
   {
    "duration": 692,
    "start_time": "2021-07-06T10:52:18.707Z"
   },
   {
    "duration": 562,
    "start_time": "2021-07-06T10:52:19.403Z"
   },
   {
    "duration": 34,
    "start_time": "2021-07-06T10:52:19.967Z"
   },
   {
    "duration": 53,
    "start_time": "2021-07-06T10:52:20.003Z"
   },
   {
    "duration": 50,
    "start_time": "2021-07-06T10:52:20.059Z"
   },
   {
    "duration": 52,
    "start_time": "2021-07-06T10:52:20.112Z"
   },
   {
    "duration": 37,
    "start_time": "2021-07-06T10:52:20.166Z"
   },
   {
    "duration": 64,
    "start_time": "2021-07-06T10:52:20.205Z"
   },
   {
    "duration": 36,
    "start_time": "2021-07-06T10:52:20.271Z"
   },
   {
    "duration": 568,
    "start_time": "2021-07-06T10:52:20.310Z"
   },
   {
    "duration": 3,
    "start_time": "2021-07-06T10:52:20.880Z"
   },
   {
    "duration": 46,
    "start_time": "2021-07-06T10:52:36.530Z"
   },
   {
    "duration": 47,
    "start_time": "2021-07-06T10:52:46.855Z"
   },
   {
    "duration": 53,
    "start_time": "2021-07-06T10:53:14.583Z"
   },
   {
    "duration": 115,
    "start_time": "2021-07-06T11:00:28.335Z"
   },
   {
    "duration": 453,
    "start_time": "2021-07-06T11:00:41.126Z"
   },
   {
    "duration": 648,
    "start_time": "2021-07-06T11:00:56.495Z"
   },
   {
    "duration": 348,
    "start_time": "2021-07-06T11:02:35.356Z"
   },
   {
    "duration": 112,
    "start_time": "2021-07-06T11:02:46.702Z"
   },
   {
    "duration": 216,
    "start_time": "2021-07-06T11:03:23.524Z"
   },
   {
    "duration": 6826,
    "start_time": "2021-07-06T11:04:13.413Z"
   },
   {
    "duration": 662,
    "start_time": "2021-07-06T11:04:27.283Z"
   },
   {
    "duration": 691,
    "start_time": "2021-07-06T11:04:53.996Z"
   },
   {
    "duration": 632,
    "start_time": "2021-07-06T11:07:08.477Z"
   },
   {
    "duration": 951,
    "start_time": "2021-07-06T11:07:20.789Z"
   },
   {
    "duration": 843,
    "start_time": "2021-07-06T11:07:38.478Z"
   },
   {
    "duration": 3,
    "start_time": "2021-07-06T11:07:51.947Z"
   },
   {
    "duration": 1262,
    "start_time": "2021-07-06T11:07:51.953Z"
   },
   {
    "duration": 372,
    "start_time": "2021-07-06T11:07:53.218Z"
   },
   {
    "duration": 732,
    "start_time": "2021-07-06T11:07:53.593Z"
   },
   {
    "duration": 17,
    "start_time": "2021-07-06T11:07:54.327Z"
   },
   {
    "duration": 894,
    "start_time": "2021-07-06T11:07:54.346Z"
   },
   {
    "duration": 627,
    "start_time": "2021-07-06T11:07:55.242Z"
   },
   {
    "duration": 599,
    "start_time": "2021-07-06T11:07:55.873Z"
   },
   {
    "duration": 545,
    "start_time": "2021-07-06T11:07:56.475Z"
   },
   {
    "duration": 42,
    "start_time": "2021-07-06T11:07:57.022Z"
   },
   {
    "duration": 35,
    "start_time": "2021-07-06T11:07:57.067Z"
   },
   {
    "duration": 236,
    "start_time": "2021-07-06T11:07:57.105Z"
   },
   {
    "duration": 32,
    "start_time": "2021-07-06T11:07:57.344Z"
   },
   {
    "duration": 37,
    "start_time": "2021-07-06T11:07:57.378Z"
   },
   {
    "duration": 56,
    "start_time": "2021-07-06T11:07:57.418Z"
   },
   {
    "duration": 31,
    "start_time": "2021-07-06T11:07:57.477Z"
   },
   {
    "duration": 466,
    "start_time": "2021-07-06T11:07:57.510Z"
   },
   {
    "duration": 3,
    "start_time": "2021-07-06T11:07:57.978Z"
   },
   {
    "duration": 214,
    "start_time": "2021-07-06T11:08:41.449Z"
   },
   {
    "duration": 721,
    "start_time": "2021-07-06T11:12:37.811Z"
   },
   {
    "duration": 822,
    "start_time": "2021-07-06T11:12:50.293Z"
   },
   {
    "duration": 722,
    "start_time": "2021-07-06T11:13:44.892Z"
   },
   {
    "duration": 18,
    "start_time": "2021-07-06T11:15:16.312Z"
   },
   {
    "duration": 717,
    "start_time": "2021-07-06T11:15:26.128Z"
   },
   {
    "duration": 1235,
    "start_time": "2021-07-06T11:15:42.108Z"
   },
   {
    "duration": 22,
    "start_time": "2021-07-06T11:15:47.048Z"
   },
   {
    "duration": 660,
    "start_time": "2021-07-06T11:15:55.553Z"
   },
   {
    "duration": 418,
    "start_time": "2021-07-06T14:53:25.760Z"
   },
   {
    "duration": 800,
    "start_time": "2021-07-06T14:53:35.633Z"
   },
   {
    "duration": 1349,
    "start_time": "2021-07-06T14:53:36.435Z"
   },
   {
    "duration": 386,
    "start_time": "2021-07-06T14:53:37.789Z"
   },
   {
    "duration": 774,
    "start_time": "2021-07-06T14:53:38.177Z"
   },
   {
    "duration": 19,
    "start_time": "2021-07-06T14:53:38.954Z"
   },
   {
    "duration": 873,
    "start_time": "2021-07-06T14:53:38.975Z"
   },
   {
    "duration": 578,
    "start_time": "2021-07-06T14:53:39.850Z"
   },
   {
    "duration": 600,
    "start_time": "2021-07-06T14:53:40.431Z"
   },
   {
    "duration": 557,
    "start_time": "2021-07-06T14:53:41.034Z"
   },
   {
    "duration": 37,
    "start_time": "2021-07-06T14:53:41.594Z"
   },
   {
    "duration": 75,
    "start_time": "2021-07-06T14:53:41.634Z"
   },
   {
    "duration": 104,
    "start_time": "2021-07-06T14:53:41.712Z"
   },
   {
    "duration": 62,
    "start_time": "2021-07-06T14:53:41.819Z"
   },
   {
    "duration": 65,
    "start_time": "2021-07-06T14:53:41.884Z"
   },
   {
    "duration": 53,
    "start_time": "2021-07-06T14:53:41.961Z"
   },
   {
    "duration": 49,
    "start_time": "2021-07-06T14:53:42.017Z"
   },
   {
    "duration": 847,
    "start_time": "2021-07-06T14:53:42.069Z"
   },
   {
    "duration": 3,
    "start_time": "2021-07-06T14:53:42.918Z"
   },
   {
    "duration": 1544,
    "start_time": "2021-07-06T14:55:12.354Z"
   },
   {
    "duration": 565,
    "start_time": "2021-07-06T14:55:18.670Z"
   },
   {
    "duration": 654,
    "start_time": "2021-07-06T14:55:28.194Z"
   },
   {
    "duration": 865,
    "start_time": "2021-07-06T14:55:32.486Z"
   },
   {
    "duration": 697,
    "start_time": "2021-07-06T14:56:00.193Z"
   },
   {
    "duration": 813,
    "start_time": "2021-07-06T14:56:03.966Z"
   },
   {
    "duration": 356,
    "start_time": "2021-07-06T14:56:13.090Z"
   },
   {
    "duration": 750,
    "start_time": "2021-07-06T14:56:16.577Z"
   },
   {
    "duration": 748,
    "start_time": "2021-07-06T14:57:04.401Z"
   },
   {
    "duration": 901,
    "start_time": "2021-07-06T14:57:12.101Z"
   },
   {
    "duration": 740,
    "start_time": "2021-07-06T14:57:16.714Z"
   },
   {
    "duration": 753,
    "start_time": "2021-07-06T14:57:23.270Z"
   },
   {
    "duration": 1096,
    "start_time": "2021-07-06T14:57:39.035Z"
   },
   {
    "duration": 1104,
    "start_time": "2021-07-06T14:57:43.287Z"
   },
   {
    "duration": 1100,
    "start_time": "2021-07-06T14:57:50.530Z"
   },
   {
    "duration": 1260,
    "start_time": "2021-07-06T14:57:54.720Z"
   },
   {
    "duration": 1111,
    "start_time": "2021-07-06T14:58:05.720Z"
   },
   {
    "duration": 1548,
    "start_time": "2021-07-06T14:58:16.818Z"
   },
   {
    "duration": 1013,
    "start_time": "2021-07-06T14:58:38.794Z"
   },
   {
    "duration": 1129,
    "start_time": "2021-07-06T14:59:02.218Z"
   },
   {
    "duration": 1031,
    "start_time": "2021-07-06T14:59:17.458Z"
   },
   {
    "duration": 1031,
    "start_time": "2021-07-06T14:59:33.251Z"
   },
   {
    "duration": 3,
    "start_time": "2021-07-06T15:01:30.718Z"
   },
   {
    "duration": 1245,
    "start_time": "2021-07-06T15:01:30.724Z"
   },
   {
    "duration": 355,
    "start_time": "2021-07-06T15:01:31.972Z"
   },
   {
    "duration": 670,
    "start_time": "2021-07-06T15:01:32.330Z"
   },
   {
    "duration": 19,
    "start_time": "2021-07-06T15:01:33.003Z"
   },
   {
    "duration": 873,
    "start_time": "2021-07-06T15:01:33.024Z"
   },
   {
    "duration": 582,
    "start_time": "2021-07-06T15:01:33.901Z"
   },
   {
    "duration": 598,
    "start_time": "2021-07-06T15:01:34.486Z"
   },
   {
    "duration": 553,
    "start_time": "2021-07-06T15:01:35.087Z"
   },
   {
    "duration": 42,
    "start_time": "2021-07-06T15:01:35.642Z"
   },
   {
    "duration": 34,
    "start_time": "2021-07-06T15:01:35.687Z"
   },
   {
    "duration": 77,
    "start_time": "2021-07-06T15:01:35.723Z"
   },
   {
    "duration": 35,
    "start_time": "2021-07-06T15:01:35.802Z"
   },
   {
    "duration": 56,
    "start_time": "2021-07-06T15:01:35.840Z"
   },
   {
    "duration": 34,
    "start_time": "2021-07-06T15:01:35.899Z"
   },
   {
    "duration": 55,
    "start_time": "2021-07-06T15:01:35.937Z"
   },
   {
    "duration": 478,
    "start_time": "2021-07-06T15:01:35.995Z"
   },
   {
    "duration": 2,
    "start_time": "2021-07-06T15:01:36.475Z"
   },
   {
    "duration": 3,
    "start_time": "2021-07-06T15:02:00.049Z"
   },
   {
    "duration": 1225,
    "start_time": "2021-07-06T15:02:00.054Z"
   },
   {
    "duration": 366,
    "start_time": "2021-07-06T15:02:01.282Z"
   },
   {
    "duration": 651,
    "start_time": "2021-07-06T15:02:01.651Z"
   },
   {
    "duration": 19,
    "start_time": "2021-07-06T15:02:02.305Z"
   },
   {
    "duration": 772,
    "start_time": "2021-07-06T15:02:02.326Z"
   },
   {
    "duration": 691,
    "start_time": "2021-07-06T15:02:03.102Z"
   },
   {
    "duration": 589,
    "start_time": "2021-07-06T15:02:03.796Z"
   },
   {
    "duration": 555,
    "start_time": "2021-07-06T15:02:04.387Z"
   },
   {
    "duration": 36,
    "start_time": "2021-07-06T15:02:04.945Z"
   },
   {
    "duration": 34,
    "start_time": "2021-07-06T15:02:04.984Z"
   },
   {
    "duration": 79,
    "start_time": "2021-07-06T15:02:05.020Z"
   },
   {
    "duration": 34,
    "start_time": "2021-07-06T15:02:05.101Z"
   },
   {
    "duration": 52,
    "start_time": "2021-07-06T15:02:05.137Z"
   },
   {
    "duration": 34,
    "start_time": "2021-07-06T15:02:05.191Z"
   },
   {
    "duration": 52,
    "start_time": "2021-07-06T15:02:05.227Z"
   },
   {
    "duration": 518,
    "start_time": "2021-07-06T15:02:05.281Z"
   },
   {
    "duration": 4,
    "start_time": "2021-07-06T15:02:05.802Z"
   },
   {
    "duration": 3,
    "start_time": "2021-07-06T15:02:33.538Z"
   },
   {
    "duration": 1408,
    "start_time": "2021-07-06T15:02:33.544Z"
   },
   {
    "duration": 347,
    "start_time": "2021-07-06T15:02:34.963Z"
   },
   {
    "duration": 651,
    "start_time": "2021-07-06T15:02:35.313Z"
   },
   {
    "duration": 20,
    "start_time": "2021-07-06T15:02:35.966Z"
   },
   {
    "duration": 785,
    "start_time": "2021-07-06T15:02:35.989Z"
   },
   {
    "duration": 676,
    "start_time": "2021-07-06T15:02:36.776Z"
   },
   {
    "duration": 582,
    "start_time": "2021-07-06T15:02:37.456Z"
   },
   {
    "duration": 542,
    "start_time": "2021-07-06T15:02:38.041Z"
   },
   {
    "duration": 33,
    "start_time": "2021-07-06T15:02:38.585Z"
   },
   {
    "duration": 55,
    "start_time": "2021-07-06T15:02:38.619Z"
   },
   {
    "duration": 58,
    "start_time": "2021-07-06T15:02:38.676Z"
   },
   {
    "duration": 45,
    "start_time": "2021-07-06T15:02:38.736Z"
   },
   {
    "duration": 38,
    "start_time": "2021-07-06T15:02:38.783Z"
   },
   {
    "duration": 48,
    "start_time": "2021-07-06T15:02:38.823Z"
   },
   {
    "duration": 42,
    "start_time": "2021-07-06T15:02:38.873Z"
   },
   {
    "duration": 490,
    "start_time": "2021-07-06T15:02:38.917Z"
   },
   {
    "duration": 3,
    "start_time": "2021-07-06T15:02:39.409Z"
   },
   {
    "duration": 60,
    "start_time": "2021-07-06T15:03:34.543Z"
   },
   {
    "duration": 19,
    "start_time": "2021-07-06T15:22:37.928Z"
   },
   {
    "duration": 109,
    "start_time": "2021-07-06T15:22:54.301Z"
   },
   {
    "duration": 745,
    "start_time": "2021-07-06T15:22:53.669Z"
   },
   {
    "duration": 742,
    "start_time": "2021-07-06T15:22:53.674Z"
   },
   {
    "duration": 724,
    "start_time": "2021-07-06T15:22:53.693Z"
   },
   {
    "duration": 721,
    "start_time": "2021-07-06T15:22:53.698Z"
   },
   {
    "duration": 718,
    "start_time": "2021-07-06T15:22:53.702Z"
   },
   {
    "duration": 713,
    "start_time": "2021-07-06T15:22:53.708Z"
   },
   {
    "duration": 712,
    "start_time": "2021-07-06T15:22:53.711Z"
   },
   {
    "duration": 710,
    "start_time": "2021-07-06T15:22:53.714Z"
   },
   {
    "duration": 710,
    "start_time": "2021-07-06T15:22:53.716Z"
   },
   {
    "duration": 708,
    "start_time": "2021-07-06T15:22:53.719Z"
   },
   {
    "duration": 705,
    "start_time": "2021-07-06T15:22:53.723Z"
   },
   {
    "duration": 705,
    "start_time": "2021-07-06T15:22:53.725Z"
   },
   {
    "duration": 696,
    "start_time": "2021-07-06T15:22:53.735Z"
   },
   {
    "duration": 693,
    "start_time": "2021-07-06T15:22:53.739Z"
   },
   {
    "duration": 692,
    "start_time": "2021-07-06T15:22:53.742Z"
   },
   {
    "duration": 690,
    "start_time": "2021-07-06T15:22:53.745Z"
   },
   {
    "duration": 691,
    "start_time": "2021-07-06T15:22:53.746Z"
   },
   {
    "duration": 690,
    "start_time": "2021-07-06T15:22:53.748Z"
   },
   {
    "duration": 689,
    "start_time": "2021-07-06T15:22:53.750Z"
   },
   {
    "duration": 705,
    "start_time": "2021-07-06T15:23:12.018Z"
   },
   {
    "duration": 1223,
    "start_time": "2021-07-06T15:23:12.726Z"
   },
   {
    "duration": 364,
    "start_time": "2021-07-06T15:23:13.963Z"
   },
   {
    "duration": 709,
    "start_time": "2021-07-06T15:23:14.330Z"
   },
   {
    "duration": 38,
    "start_time": "2021-07-06T15:23:15.041Z"
   },
   {
    "duration": 766,
    "start_time": "2021-07-06T15:23:15.082Z"
   },
   {
    "duration": 596,
    "start_time": "2021-07-06T15:23:15.852Z"
   },
   {
    "duration": 720,
    "start_time": "2021-07-06T15:23:16.451Z"
   },
   {
    "duration": 652,
    "start_time": "2021-07-06T15:23:17.175Z"
   },
   {
    "duration": 39,
    "start_time": "2021-07-06T15:23:17.830Z"
   },
   {
    "duration": 35,
    "start_time": "2021-07-06T15:23:17.872Z"
   },
   {
    "duration": 96,
    "start_time": "2021-07-06T15:23:17.910Z"
   },
   {
    "duration": 54,
    "start_time": "2021-07-06T15:23:18.009Z"
   },
   {
    "duration": 35,
    "start_time": "2021-07-06T15:23:18.066Z"
   },
   {
    "duration": 60,
    "start_time": "2021-07-06T15:23:18.103Z"
   },
   {
    "duration": 48,
    "start_time": "2021-07-06T15:23:18.166Z"
   },
   {
    "duration": 505,
    "start_time": "2021-07-06T15:23:18.216Z"
   },
   {
    "duration": 1516,
    "start_time": "2021-07-06T15:23:18.723Z"
   },
   {
    "duration": 400,
    "start_time": "2021-07-06T15:23:20.241Z"
   },
   {
    "duration": 110,
    "start_time": "2021-07-06T15:23:20.644Z"
   },
   {
    "duration": 259,
    "start_time": "2021-07-06T15:24:25.298Z"
   },
   {
    "duration": 288,
    "start_time": "2021-07-06T15:24:52.754Z"
   },
   {
    "duration": 300,
    "start_time": "2021-07-06T15:25:22.504Z"
   },
   {
    "duration": 519,
    "start_time": "2021-07-06T15:27:04.761Z"
   },
   {
    "duration": 838,
    "start_time": "2021-07-06T15:27:07.135Z"
   },
   {
    "duration": 295,
    "start_time": "2021-07-06T15:27:07.976Z"
   },
   {
    "duration": 174,
    "start_time": "2021-07-06T15:27:29.041Z"
   },
   {
    "duration": 4,
    "start_time": "2021-07-06T15:27:45.499Z"
   },
   {
    "duration": 1335,
    "start_time": "2021-07-06T15:27:45.505Z"
   },
   {
    "duration": 386,
    "start_time": "2021-07-06T15:27:46.843Z"
   },
   {
    "duration": 995,
    "start_time": "2021-07-06T15:27:47.232Z"
   },
   {
    "duration": 37,
    "start_time": "2021-07-06T15:27:48.230Z"
   },
   {
    "duration": 1119,
    "start_time": "2021-07-06T15:27:48.270Z"
   },
   {
    "duration": 856,
    "start_time": "2021-07-06T15:27:49.391Z"
   },
   {
    "duration": 574,
    "start_time": "2021-07-06T15:27:50.252Z"
   },
   {
    "duration": 533,
    "start_time": "2021-07-06T15:27:50.829Z"
   },
   {
    "duration": 32,
    "start_time": "2021-07-06T15:27:51.364Z"
   },
   {
    "duration": 34,
    "start_time": "2021-07-06T15:27:51.399Z"
   },
   {
    "duration": 83,
    "start_time": "2021-07-06T15:27:51.435Z"
   },
   {
    "duration": 53,
    "start_time": "2021-07-06T15:27:51.520Z"
   },
   {
    "duration": 54,
    "start_time": "2021-07-06T15:27:51.576Z"
   },
   {
    "duration": 71,
    "start_time": "2021-07-06T15:27:51.633Z"
   },
   {
    "duration": 77,
    "start_time": "2021-07-06T15:27:51.707Z"
   },
   {
    "duration": 1055,
    "start_time": "2021-07-06T15:27:51.787Z"
   },
   {
    "duration": 955,
    "start_time": "2021-07-06T15:27:52.846Z"
   },
   {
    "duration": 313,
    "start_time": "2021-07-06T15:27:53.803Z"
   },
   {
    "duration": 4,
    "start_time": "2021-07-06T15:27:54.118Z"
   },
   {
    "duration": 356,
    "start_time": "2021-07-06T15:28:41.194Z"
   },
   {
    "duration": 204,
    "start_time": "2021-07-06T15:28:53.729Z"
   },
   {
    "duration": 6,
    "start_time": "2021-07-06T15:39:07.964Z"
   },
   {
    "duration": 18107,
    "start_time": "2021-07-06T15:39:27.057Z"
   },
   {
    "duration": 85,
    "start_time": "2021-07-06T15:40:40.485Z"
   },
   {
    "duration": 201,
    "start_time": "2021-07-06T15:41:01.760Z"
   },
   {
    "duration": 352,
    "start_time": "2021-07-06T15:43:46.107Z"
   },
   {
    "duration": 26127,
    "start_time": "2021-07-06T15:44:05.540Z"
   },
   {
    "duration": 148,
    "start_time": "2021-07-06T15:44:47.517Z"
   },
   {
    "duration": 1032,
    "start_time": "2021-07-07T09:45:28.068Z"
   },
   {
    "duration": 776,
    "start_time": "2021-07-07T09:45:29.101Z"
   },
   {
    "duration": 242,
    "start_time": "2021-07-07T09:45:29.879Z"
   },
   {
    "duration": 417,
    "start_time": "2021-07-07T09:45:30.123Z"
   },
   {
    "duration": 11,
    "start_time": "2021-07-07T09:45:30.541Z"
   },
   {
    "duration": 454,
    "start_time": "2021-07-07T09:45:30.554Z"
   },
   {
    "duration": 288,
    "start_time": "2021-07-07T09:45:31.009Z"
   },
   {
    "duration": 357,
    "start_time": "2021-07-07T09:45:31.299Z"
   },
   {
    "duration": 278,
    "start_time": "2021-07-07T09:45:31.658Z"
   },
   {
    "duration": 23,
    "start_time": "2021-07-07T09:45:31.938Z"
   },
   {
    "duration": 34,
    "start_time": "2021-07-07T09:45:31.962Z"
   },
   {
    "duration": 48,
    "start_time": "2021-07-07T09:45:31.997Z"
   },
   {
    "duration": 22,
    "start_time": "2021-07-07T09:45:32.046Z"
   },
   {
    "duration": 36,
    "start_time": "2021-07-07T09:45:32.070Z"
   },
   {
    "duration": 40,
    "start_time": "2021-07-07T09:45:32.108Z"
   },
   {
    "duration": 32,
    "start_time": "2021-07-07T09:45:32.149Z"
   },
   {
    "duration": 402,
    "start_time": "2021-07-07T09:45:32.183Z"
   },
   {
    "duration": 574,
    "start_time": "2021-07-07T09:45:32.587Z"
   },
   {
    "duration": 184,
    "start_time": "2021-07-07T09:45:33.162Z"
   },
   {
    "duration": 15347,
    "start_time": "2021-07-07T09:45:33.347Z"
   },
   {
    "duration": 23949,
    "start_time": "2021-07-07T09:45:48.695Z"
   },
   {
    "duration": 148,
    "start_time": "2021-07-07T09:46:12.645Z"
   },
   {
    "duration": 25363,
    "start_time": "2021-07-07T09:49:20.645Z"
   },
   {
    "duration": 81,
    "start_time": "2021-07-07T09:50:01.020Z"
   },
   {
    "duration": 107,
    "start_time": "2021-07-07T09:52:45.786Z"
   },
   {
    "duration": 5,
    "start_time": "2021-07-07T09:52:58.714Z"
   },
   {
    "duration": 23461,
    "start_time": "2021-07-07T09:53:09.793Z"
   },
   {
    "duration": 111,
    "start_time": "2021-07-07T09:53:48.083Z"
   },
   {
    "duration": 13606,
    "start_time": "2021-07-07T10:01:38.552Z"
   },
   {
    "duration": 8825,
    "start_time": "2021-07-07T10:04:30.478Z"
   },
   {
    "duration": 517,
    "start_time": "2021-07-07T10:04:45.842Z"
   },
   {
    "duration": 24932,
    "start_time": "2021-07-07T10:05:02.424Z"
   },
   {
    "duration": 3,
    "start_time": "2021-07-07T10:05:38.071Z"
   },
   {
    "duration": 25109,
    "start_time": "2021-07-07T10:05:45.490Z"
   },
   {
    "duration": 25170,
    "start_time": "2021-07-07T10:07:43.321Z"
   },
   {
    "duration": 11526,
    "start_time": "2021-07-07T10:10:08.414Z"
   },
   {
    "duration": 11508,
    "start_time": "2021-07-07T10:10:56.185Z"
   },
   {
    "duration": 287799,
    "start_time": "2021-07-07T10:12:25.208Z"
   },
   {
    "duration": 830400,
    "start_time": "2021-07-07T10:17:13.009Z"
   },
   {
    "duration": 88522,
    "start_time": "2021-07-07T10:43:19.409Z"
   },
   {
    "duration": 72390,
    "start_time": "2021-07-07T10:44:47.933Z"
   },
   {
    "duration": 84660,
    "start_time": "2021-07-07T10:46:00.325Z"
   },
   {
    "duration": 124667,
    "start_time": "2021-07-07T10:47:24.986Z"
   },
   {
    "duration": 13,
    "start_time": "2021-07-07T14:05:42.596Z"
   },
   {
    "duration": 3,
    "start_time": "2021-07-07T14:07:00.040Z"
   },
   {
    "duration": 847,
    "start_time": "2021-07-07T14:07:00.045Z"
   },
   {
    "duration": 240,
    "start_time": "2021-07-07T14:07:00.893Z"
   },
   {
    "duration": 358,
    "start_time": "2021-07-07T14:07:01.135Z"
   },
   {
    "duration": 10,
    "start_time": "2021-07-07T14:07:01.495Z"
   },
   {
    "duration": 546,
    "start_time": "2021-07-07T14:07:01.507Z"
   },
   {
    "duration": 288,
    "start_time": "2021-07-07T14:07:02.055Z"
   },
   {
    "duration": 302,
    "start_time": "2021-07-07T14:07:02.345Z"
   },
   {
    "duration": 283,
    "start_time": "2021-07-07T14:07:02.648Z"
   },
   {
    "duration": 23,
    "start_time": "2021-07-07T14:07:02.932Z"
   },
   {
    "duration": 26,
    "start_time": "2021-07-07T14:07:02.957Z"
   },
   {
    "duration": 41,
    "start_time": "2021-07-07T14:07:02.991Z"
   },
   {
    "duration": 22,
    "start_time": "2021-07-07T14:07:03.033Z"
   },
   {
    "duration": 35,
    "start_time": "2021-07-07T14:07:03.056Z"
   },
   {
    "duration": 32,
    "start_time": "2021-07-07T14:07:03.092Z"
   },
   {
    "duration": 18,
    "start_time": "2021-07-07T14:07:03.126Z"
   },
   {
    "duration": 606,
    "start_time": "2021-07-07T14:07:03.145Z"
   },
   {
    "duration": 576,
    "start_time": "2021-07-07T14:07:03.752Z"
   },
   {
    "duration": 189,
    "start_time": "2021-07-07T14:07:04.330Z"
   },
   {
    "duration": 14650,
    "start_time": "2021-07-07T14:07:04.521Z"
   },
   {
    "duration": 479,
    "start_time": "2021-07-07T14:07:24.687Z"
   },
   {
    "duration": 470,
    "start_time": "2021-07-07T14:07:24.697Z"
   },
   {
    "duration": 464,
    "start_time": "2021-07-07T14:07:24.704Z"
   },
   {
    "duration": 458,
    "start_time": "2021-07-07T14:07:24.711Z"
   },
   {
    "duration": 453,
    "start_time": "2021-07-07T14:07:24.717Z"
   },
   {
    "duration": 447,
    "start_time": "2021-07-07T14:07:24.724Z"
   },
   {
    "duration": 442,
    "start_time": "2021-07-07T14:07:24.730Z"
   },
   {
    "duration": 438,
    "start_time": "2021-07-07T14:07:24.741Z"
   },
   {
    "duration": 158,
    "start_time": "2021-07-07T14:07:31.452Z"
   },
   {
    "duration": 187,
    "start_time": "2021-07-07T14:08:32.780Z"
   },
   {
    "duration": 159,
    "start_time": "2021-07-07T14:09:25.793Z"
   },
   {
    "duration": 242,
    "start_time": "2021-07-07T14:15:35.514Z"
   },
   {
    "duration": 246,
    "start_time": "2021-07-07T14:15:53.416Z"
   },
   {
    "duration": 248,
    "start_time": "2021-07-07T14:16:52.163Z"
   },
   {
    "duration": 2178,
    "start_time": "2021-07-07T14:17:41.913Z"
   },
   {
    "duration": 2311,
    "start_time": "2021-07-07T14:18:10.319Z"
   },
   {
    "duration": 2329,
    "start_time": "2021-07-07T14:18:25.168Z"
   },
   {
    "duration": 15288,
    "start_time": "2021-07-07T14:18:41.705Z"
   },
   {
    "duration": 2262,
    "start_time": "2021-07-07T14:19:08.343Z"
   },
   {
    "duration": 77,
    "start_time": "2021-07-07T14:21:10.016Z"
   },
   {
    "duration": 1675,
    "start_time": "2021-07-07T14:21:26.064Z"
   },
   {
    "duration": 1670,
    "start_time": "2021-07-07T14:21:44.570Z"
   },
   {
    "duration": 491,
    "start_time": "2021-07-07T14:22:04.354Z"
   },
   {
    "duration": 235,
    "start_time": "2021-07-07T14:22:55.319Z"
   },
   {
    "duration": 236,
    "start_time": "2021-07-07T14:23:31.253Z"
   },
   {
    "duration": 254,
    "start_time": "2021-07-07T14:25:16.942Z"
   },
   {
    "duration": 75,
    "start_time": "2021-07-07T14:26:08.831Z"
   },
   {
    "duration": 272,
    "start_time": "2021-07-07T14:26:16.159Z"
   },
   {
    "duration": 261,
    "start_time": "2021-07-07T14:30:29.973Z"
   },
   {
    "duration": 576,
    "start_time": "2021-07-07T14:30:41.228Z"
   },
   {
    "duration": 247,
    "start_time": "2021-07-07T14:30:50.673Z"
   },
   {
    "duration": 1524,
    "start_time": "2021-07-08T12:13:15.354Z"
   },
   {
    "duration": 1306,
    "start_time": "2021-07-08T12:13:16.881Z"
   },
   {
    "duration": 386,
    "start_time": "2021-07-08T12:13:18.190Z"
   },
   {
    "duration": 695,
    "start_time": "2021-07-08T12:13:18.578Z"
   },
   {
    "duration": 34,
    "start_time": "2021-07-08T12:13:19.275Z"
   },
   {
    "duration": 822,
    "start_time": "2021-07-08T12:13:19.311Z"
   },
   {
    "duration": 590,
    "start_time": "2021-07-08T12:13:20.135Z"
   },
   {
    "duration": 784,
    "start_time": "2021-07-08T12:13:20.727Z"
   },
   {
    "duration": 556,
    "start_time": "2021-07-08T12:13:21.515Z"
   },
   {
    "duration": 41,
    "start_time": "2021-07-08T12:13:22.074Z"
   },
   {
    "duration": 38,
    "start_time": "2021-07-08T12:13:22.118Z"
   },
   {
    "duration": 87,
    "start_time": "2021-07-08T12:13:22.160Z"
   },
   {
    "duration": 36,
    "start_time": "2021-07-08T12:13:22.250Z"
   },
   {
    "duration": 37,
    "start_time": "2021-07-08T12:13:22.309Z"
   },
   {
    "duration": 34,
    "start_time": "2021-07-08T12:13:22.349Z"
   },
   {
    "duration": 475,
    "start_time": "2021-07-08T12:13:22.410Z"
   },
   {
    "duration": -96,
    "start_time": "2021-07-08T12:13:22.984Z"
   },
   {
    "duration": -98,
    "start_time": "2021-07-08T12:13:22.988Z"
   },
   {
    "duration": -99,
    "start_time": "2021-07-08T12:13:22.992Z"
   },
   {
    "duration": -99,
    "start_time": "2021-07-08T12:13:22.994Z"
   },
   {
    "duration": -100,
    "start_time": "2021-07-08T12:13:22.997Z"
   },
   {
    "duration": -100,
    "start_time": "2021-07-08T12:13:23.000Z"
   },
   {
    "duration": -101,
    "start_time": "2021-07-08T12:13:23.003Z"
   },
   {
    "duration": -100,
    "start_time": "2021-07-08T12:13:23.005Z"
   },
   {
    "duration": -100,
    "start_time": "2021-07-08T12:13:23.007Z"
   },
   {
    "duration": -101,
    "start_time": "2021-07-08T12:13:23.010Z"
   },
   {
    "duration": -100,
    "start_time": "2021-07-08T12:13:23.012Z"
   },
   {
    "duration": -101,
    "start_time": "2021-07-08T12:13:23.015Z"
   },
   {
    "duration": -101,
    "start_time": "2021-07-08T12:13:23.017Z"
   },
   {
    "duration": 4,
    "start_time": "2021-07-08T12:13:42.760Z"
   },
   {
    "duration": 1291,
    "start_time": "2021-07-08T12:13:42.767Z"
   },
   {
    "duration": 362,
    "start_time": "2021-07-08T12:13:44.061Z"
   },
   {
    "duration": 671,
    "start_time": "2021-07-08T12:13:44.425Z"
   },
   {
    "duration": 26,
    "start_time": "2021-07-08T12:13:45.099Z"
   },
   {
    "duration": 770,
    "start_time": "2021-07-08T12:13:45.127Z"
   },
   {
    "duration": 584,
    "start_time": "2021-07-08T12:13:45.900Z"
   },
   {
    "duration": 735,
    "start_time": "2021-07-08T12:13:46.488Z"
   },
   {
    "duration": 571,
    "start_time": "2021-07-08T12:13:47.227Z"
   },
   {
    "duration": 39,
    "start_time": "2021-07-08T12:13:47.800Z"
   },
   {
    "duration": 46,
    "start_time": "2021-07-08T12:13:47.841Z"
   },
   {
    "duration": 78,
    "start_time": "2021-07-08T12:13:47.889Z"
   },
   {
    "duration": 48,
    "start_time": "2021-07-08T12:13:47.969Z"
   },
   {
    "duration": 38,
    "start_time": "2021-07-08T12:13:48.019Z"
   },
   {
    "duration": 53,
    "start_time": "2021-07-08T12:13:48.059Z"
   },
   {
    "duration": 33,
    "start_time": "2021-07-08T12:13:48.115Z"
   },
   {
    "duration": 466,
    "start_time": "2021-07-08T12:13:48.150Z"
   },
   {
    "duration": 943,
    "start_time": "2021-07-08T12:13:48.619Z"
   },
   {
    "duration": 318,
    "start_time": "2021-07-08T12:13:49.564Z"
   },
   {
    "duration": 19528,
    "start_time": "2021-07-08T12:13:49.884Z"
   },
   {
    "duration": 512,
    "start_time": "2021-07-08T12:14:09.416Z"
   },
   {
    "duration": 5725,
    "start_time": "2021-07-08T12:14:10.010Z"
   },
   {
    "duration": -9,
    "start_time": "2021-07-08T12:14:15.747Z"
   },
   {
    "duration": -11,
    "start_time": "2021-07-08T12:14:15.750Z"
   },
   {
    "duration": -12,
    "start_time": "2021-07-08T12:14:15.753Z"
   },
   {
    "duration": -13,
    "start_time": "2021-07-08T12:14:15.755Z"
   },
   {
    "duration": -14,
    "start_time": "2021-07-08T12:14:15.758Z"
   },
   {
    "duration": -16,
    "start_time": "2021-07-08T12:14:15.761Z"
   },
   {
    "duration": -16,
    "start_time": "2021-07-08T12:14:15.763Z"
   },
   {
    "duration": 4,
    "start_time": "2021-07-08T12:16:08.626Z"
   },
   {
    "duration": 1331,
    "start_time": "2021-07-08T12:16:08.633Z"
   },
   {
    "duration": 369,
    "start_time": "2021-07-08T12:16:09.967Z"
   },
   {
    "duration": 688,
    "start_time": "2021-07-08T12:16:10.339Z"
   },
   {
    "duration": 18,
    "start_time": "2021-07-08T12:16:11.030Z"
   },
   {
    "duration": 780,
    "start_time": "2021-07-08T12:16:11.050Z"
   },
   {
    "duration": 597,
    "start_time": "2021-07-08T12:16:11.832Z"
   },
   {
    "duration": 629,
    "start_time": "2021-07-08T12:16:12.431Z"
   },
   {
    "duration": 672,
    "start_time": "2021-07-08T12:16:13.064Z"
   },
   {
    "duration": 35,
    "start_time": "2021-07-08T12:16:13.739Z"
   },
   {
    "duration": 53,
    "start_time": "2021-07-08T12:16:13.777Z"
   },
   {
    "duration": 77,
    "start_time": "2021-07-08T12:16:13.832Z"
   },
   {
    "duration": 36,
    "start_time": "2021-07-08T12:16:13.911Z"
   },
   {
    "duration": 38,
    "start_time": "2021-07-08T12:16:13.949Z"
   },
   {
    "duration": 34,
    "start_time": "2021-07-08T12:16:14.010Z"
   },
   {
    "duration": 17,
    "start_time": "2021-07-08T12:16:14.048Z"
   },
   {
    "duration": 82,
    "start_time": "2021-07-08T12:16:14.068Z"
   },
   {
    "duration": 118,
    "start_time": "2021-07-08T12:16:14.152Z"
   },
   {
    "duration": 303,
    "start_time": "2021-07-08T12:16:14.272Z"
   },
   {
    "duration": 357,
    "start_time": "2021-07-08T12:16:14.578Z"
   },
   {
    "duration": -57,
    "start_time": "2021-07-08T12:16:14.995Z"
   },
   {
    "duration": -61,
    "start_time": "2021-07-08T12:16:15.000Z"
   },
   {
    "duration": -63,
    "start_time": "2021-07-08T12:16:15.003Z"
   },
   {
    "duration": -64,
    "start_time": "2021-07-08T12:16:15.006Z"
   },
   {
    "duration": -66,
    "start_time": "2021-07-08T12:16:15.009Z"
   },
   {
    "duration": -68,
    "start_time": "2021-07-08T12:16:15.012Z"
   },
   {
    "duration": -69,
    "start_time": "2021-07-08T12:16:15.015Z"
   },
   {
    "duration": -71,
    "start_time": "2021-07-08T12:16:15.018Z"
   },
   {
    "duration": -72,
    "start_time": "2021-07-08T12:16:15.021Z"
   },
   {
    "duration": 5,
    "start_time": "2021-07-08T12:23:46.460Z"
   },
   {
    "duration": 1341,
    "start_time": "2021-07-08T12:23:46.468Z"
   },
   {
    "duration": 369,
    "start_time": "2021-07-08T12:23:47.813Z"
   },
   {
    "duration": 699,
    "start_time": "2021-07-08T12:23:48.186Z"
   },
   {
    "duration": 33,
    "start_time": "2021-07-08T12:23:48.887Z"
   },
   {
    "duration": 781,
    "start_time": "2021-07-08T12:23:48.923Z"
   },
   {
    "duration": 590,
    "start_time": "2021-07-08T12:23:49.709Z"
   },
   {
    "duration": 610,
    "start_time": "2021-07-08T12:23:50.307Z"
   },
   {
    "duration": 672,
    "start_time": "2021-07-08T12:23:50.920Z"
   },
   {
    "duration": 39,
    "start_time": "2021-07-08T12:23:51.595Z"
   },
   {
    "duration": 42,
    "start_time": "2021-07-08T12:23:51.636Z"
   },
   {
    "duration": 84,
    "start_time": "2021-07-08T12:23:51.680Z"
   },
   {
    "duration": 44,
    "start_time": "2021-07-08T12:23:51.766Z"
   },
   {
    "duration": 42,
    "start_time": "2021-07-08T12:23:51.813Z"
   },
   {
    "duration": 53,
    "start_time": "2021-07-08T12:23:51.857Z"
   },
   {
    "duration": 25,
    "start_time": "2021-07-08T12:23:51.913Z"
   },
   {
    "duration": 738,
    "start_time": "2021-07-08T12:23:51.940Z"
   },
   {
    "duration": 1072,
    "start_time": "2021-07-08T12:23:52.681Z"
   },
   {
    "duration": 321,
    "start_time": "2021-07-08T12:23:53.755Z"
   },
   {
    "duration": 167,
    "start_time": "2021-07-08T12:23:54.078Z"
   },
   {
    "duration": 768,
    "start_time": "2021-07-08T12:23:54.248Z"
   },
   {
    "duration": 19236,
    "start_time": "2021-07-08T12:23:55.018Z"
   },
   {
    "duration": 150053,
    "start_time": "2021-07-08T12:24:14.259Z"
   },
   {
    "duration": -72,
    "start_time": "2021-07-08T12:26:44.387Z"
   },
   {
    "duration": -74,
    "start_time": "2021-07-08T12:26:44.391Z"
   },
   {
    "duration": -75,
    "start_time": "2021-07-08T12:26:44.393Z"
   },
   {
    "duration": -76,
    "start_time": "2021-07-08T12:26:44.396Z"
   },
   {
    "duration": -83,
    "start_time": "2021-07-08T12:26:44.404Z"
   },
   {
    "duration": -85,
    "start_time": "2021-07-08T12:26:44.408Z"
   },
   {
    "duration": -87,
    "start_time": "2021-07-08T12:26:44.411Z"
   },
   {
    "duration": -83,
    "start_time": "2021-07-08T12:26:44.416Z"
   },
   {
    "duration": 1018,
    "start_time": "2021-07-08T12:27:01.202Z"
   },
   {
    "duration": 775,
    "start_time": "2021-07-08T12:27:14.966Z"
   },
   {
    "duration": 853,
    "start_time": "2021-07-08T12:27:20.774Z"
   },
   {
    "duration": 797,
    "start_time": "2021-07-08T12:27:28.520Z"
   },
   {
    "duration": 772,
    "start_time": "2021-07-08T12:29:00.259Z"
   },
   {
    "duration": 884,
    "start_time": "2021-07-08T12:29:08.030Z"
   },
   {
    "duration": 744,
    "start_time": "2021-07-08T12:29:29.795Z"
   },
   {
    "duration": 2608,
    "start_time": "2021-07-08T12:30:48.908Z"
   },
   {
    "duration": 2219,
    "start_time": "2021-07-08T12:31:32.597Z"
   },
   {
    "duration": 14773,
    "start_time": "2021-07-08T12:43:14.569Z"
   },
   {
    "duration": 42546,
    "start_time": "2021-07-08T12:44:07.390Z"
   },
   {
    "duration": 326,
    "start_time": "2021-07-08T12:48:47.830Z"
   },
   {
    "duration": 207,
    "start_time": "2021-07-08T12:49:02.575Z"
   },
   {
    "duration": 237,
    "start_time": "2021-07-08T12:50:28.393Z"
   },
   {
    "duration": 239,
    "start_time": "2021-07-08T12:50:38.343Z"
   },
   {
    "duration": 11536,
    "start_time": "2021-07-08T12:53:43.877Z"
   },
   {
    "duration": 12650,
    "start_time": "2021-07-08T12:54:18.173Z"
   },
   {
    "duration": 17003,
    "start_time": "2021-07-08T12:56:11.688Z"
   },
   {
    "duration": 35437,
    "start_time": "2021-07-08T12:57:38.962Z"
   },
   {
    "duration": 23167,
    "start_time": "2021-07-08T12:58:31.203Z"
   },
   {
    "duration": 21976,
    "start_time": "2021-07-08T12:58:55.746Z"
   },
   {
    "duration": 74526,
    "start_time": "2021-07-08T13:00:26.407Z"
   },
   {
    "duration": 31896,
    "start_time": "2021-07-08T13:03:44.638Z"
   },
   {
    "duration": 739869,
    "start_time": "2021-07-08T13:05:37.643Z"
   },
   {
    "duration": 70823,
    "start_time": "2021-07-08T13:17:57.515Z"
   },
   {
    "duration": 278446,
    "start_time": "2021-07-08T13:21:16.704Z"
   },
   {
    "duration": 307169,
    "start_time": "2021-07-08T13:26:20.597Z"
   },
   {
    "duration": 863884,
    "start_time": "2021-07-08T13:37:43.032Z"
   },
   {
    "duration": 978,
    "start_time": "2021-07-08T16:04:50.087Z"
   },
   {
    "duration": 995,
    "start_time": "2021-07-08T16:06:13.814Z"
   },
   {
    "duration": 797,
    "start_time": "2021-07-08T16:06:14.811Z"
   },
   {
    "duration": 244,
    "start_time": "2021-07-08T16:06:15.610Z"
   },
   {
    "duration": 363,
    "start_time": "2021-07-08T16:06:15.856Z"
   },
   {
    "duration": 11,
    "start_time": "2021-07-08T16:06:16.220Z"
   },
   {
    "duration": 434,
    "start_time": "2021-07-08T16:06:16.232Z"
   },
   {
    "duration": 283,
    "start_time": "2021-07-08T16:06:16.667Z"
   },
   {
    "duration": 363,
    "start_time": "2021-07-08T16:06:16.952Z"
   },
   {
    "duration": 270,
    "start_time": "2021-07-08T16:06:17.317Z"
   },
   {
    "duration": 22,
    "start_time": "2021-07-08T16:06:17.588Z"
   },
   {
    "duration": 27,
    "start_time": "2021-07-08T16:06:17.612Z"
   },
   {
    "duration": 51,
    "start_time": "2021-07-08T16:06:17.641Z"
   },
   {
    "duration": 22,
    "start_time": "2021-07-08T16:06:17.694Z"
   },
   {
    "duration": 30,
    "start_time": "2021-07-08T16:06:17.718Z"
   },
   {
    "duration": 22,
    "start_time": "2021-07-08T16:06:17.750Z"
   },
   {
    "duration": 20,
    "start_time": "2021-07-08T16:06:17.790Z"
   },
   {
    "duration": 493,
    "start_time": "2021-07-08T16:06:17.811Z"
   },
   {
    "duration": 585,
    "start_time": "2021-07-08T16:06:18.306Z"
   },
   {
    "duration": 199,
    "start_time": "2021-07-08T16:06:18.893Z"
   },
   {
    "duration": 85,
    "start_time": "2021-07-08T16:06:19.093Z"
   },
   {
    "duration": 1033,
    "start_time": "2021-07-08T16:06:19.180Z"
   },
   {
    "duration": 24925,
    "start_time": "2021-07-08T16:06:20.214Z"
   },
   {
    "duration": 39987,
    "start_time": "2021-07-08T16:06:45.142Z"
   },
   {
    "duration": 38523,
    "start_time": "2021-07-08T16:07:25.130Z"
   },
   {
    "duration": -159,
    "start_time": "2021-07-08T16:08:03.814Z"
   },
   {
    "duration": -161,
    "start_time": "2021-07-08T16:08:03.818Z"
   },
   {
    "duration": -165,
    "start_time": "2021-07-08T16:08:03.823Z"
   },
   {
    "duration": -167,
    "start_time": "2021-07-08T16:08:03.826Z"
   },
   {
    "duration": -169,
    "start_time": "2021-07-08T16:08:03.830Z"
   },
   {
    "duration": -170,
    "start_time": "2021-07-08T16:08:03.832Z"
   },
   {
    "duration": -171,
    "start_time": "2021-07-08T16:08:03.835Z"
   },
   {
    "duration": -173,
    "start_time": "2021-07-08T16:08:03.838Z"
   },
   {
    "duration": -173,
    "start_time": "2021-07-08T16:08:03.840Z"
   },
   {
    "duration": -175,
    "start_time": "2021-07-08T16:08:03.843Z"
   },
   {
    "duration": -177,
    "start_time": "2021-07-08T16:08:03.846Z"
   },
   {
    "duration": 70,
    "start_time": "2021-07-08T16:09:16.569Z"
   },
   {
    "duration": 358962,
    "start_time": "2021-07-08T16:09:22.933Z"
   },
   {
    "duration": 91598,
    "start_time": "2021-07-08T16:16:30.444Z"
   },
   {
    "duration": 4,
    "start_time": "2021-07-08T16:32:08.036Z"
   },
   {
    "duration": 796,
    "start_time": "2021-07-08T16:32:08.043Z"
   },
   {
    "duration": 243,
    "start_time": "2021-07-08T16:32:08.842Z"
   },
   {
    "duration": 357,
    "start_time": "2021-07-08T16:32:09.087Z"
   },
   {
    "duration": 11,
    "start_time": "2021-07-08T16:32:09.445Z"
   },
   {
    "duration": 504,
    "start_time": "2021-07-08T16:32:09.458Z"
   },
   {
    "duration": 292,
    "start_time": "2021-07-08T16:32:09.964Z"
   },
   {
    "duration": 301,
    "start_time": "2021-07-08T16:32:10.259Z"
   },
   {
    "duration": 283,
    "start_time": "2021-07-08T16:32:10.562Z"
   },
   {
    "duration": 22,
    "start_time": "2021-07-08T16:32:10.847Z"
   },
   {
    "duration": 34,
    "start_time": "2021-07-08T16:32:10.871Z"
   },
   {
    "duration": 39,
    "start_time": "2021-07-08T16:32:10.906Z"
   },
   {
    "duration": 26,
    "start_time": "2021-07-08T16:32:10.947Z"
   },
   {
    "duration": 41,
    "start_time": "2021-07-08T16:32:10.974Z"
   },
   {
    "duration": 22,
    "start_time": "2021-07-08T16:32:11.017Z"
   },
   {
    "duration": 17,
    "start_time": "2021-07-08T16:32:11.040Z"
   },
   {
    "duration": 464,
    "start_time": "2021-07-08T16:32:11.059Z"
   },
   {
    "duration": 582,
    "start_time": "2021-07-08T16:32:11.525Z"
   },
   {
    "duration": 196,
    "start_time": "2021-07-08T16:32:12.110Z"
   },
   {
    "duration": 94,
    "start_time": "2021-07-08T16:32:12.308Z"
   },
   {
    "duration": 20993,
    "start_time": "2021-07-08T16:32:12.404Z"
   },
   {
    "duration": 487115,
    "start_time": "2021-07-08T16:32:33.399Z"
   },
   {
    "duration": 49308,
    "start_time": "2021-07-08T16:40:40.516Z"
   },
   {
    "duration": 156174,
    "start_time": "2021-07-08T16:41:29.825Z"
   },
   {
    "duration": 368194,
    "start_time": "2021-07-08T16:44:06.001Z"
   },
   {
    "duration": 87421,
    "start_time": "2021-07-08T16:50:14.197Z"
   },
   {
    "duration": 69511,
    "start_time": "2021-07-08T16:51:41.620Z"
   },
   {
    "duration": 81687,
    "start_time": "2021-07-08T16:52:51.133Z"
   },
   {
    "duration": 120838,
    "start_time": "2021-07-08T16:54:12.821Z"
   },
   {
    "duration": 14431,
    "start_time": "2021-07-08T16:56:13.661Z"
   },
   {
    "duration": 88098,
    "start_time": "2021-07-08T16:56:28.094Z"
   },
   {
    "duration": 5409,
    "start_time": "2021-07-08T16:57:56.194Z"
   },
   {
    "duration": 196,
    "start_time": "2021-07-08T16:58:01.604Z"
   },
   {
    "duration": 752,
    "start_time": "2021-07-08T16:58:01.892Z"
   },
   {
    "duration": 460,
    "start_time": "2021-07-08T16:58:02.645Z"
   },
   {
    "duration": 86081,
    "start_time": "2021-07-08T17:39:17.022Z"
   },
   {
    "duration": 15100,
    "start_time": "2021-07-08T17:43:16.999Z"
   },
   {
    "duration": 601,
    "start_time": "2021-07-08T17:43:32.101Z"
   },
   {
    "duration": 57304,
    "start_time": "2021-07-08T17:46:11.260Z"
   },
   {
    "duration": 6435,
    "start_time": "2021-07-08T17:47:08.566Z"
   },
   {
    "duration": 598,
    "start_time": "2021-07-08T17:47:15.004Z"
   },
   {
    "duration": 66285,
    "start_time": "2021-07-08T17:47:56.062Z"
   },
   {
    "duration": 155646,
    "start_time": "2021-07-08T17:50:47.551Z"
   },
   {
    "duration": 141871,
    "start_time": "2021-07-08T17:53:23.199Z"
   },
   {
    "duration": 9432,
    "start_time": "2021-07-08T18:04:22.473Z"
   },
   {
    "duration": 1096,
    "start_time": "2021-07-08T18:04:31.907Z"
   },
   {
    "duration": 3,
    "start_time": "2021-07-08T18:06:00.556Z"
   },
   {
    "duration": 834,
    "start_time": "2021-07-08T18:06:00.561Z"
   },
   {
    "duration": 234,
    "start_time": "2021-07-08T18:06:01.397Z"
   },
   {
    "duration": 357,
    "start_time": "2021-07-08T18:06:01.633Z"
   },
   {
    "duration": 11,
    "start_time": "2021-07-08T18:06:01.991Z"
   },
   {
    "duration": 398,
    "start_time": "2021-07-08T18:06:02.003Z"
   },
   {
    "duration": 371,
    "start_time": "2021-07-08T18:06:02.403Z"
   },
   {
    "duration": 293,
    "start_time": "2021-07-08T18:06:02.776Z"
   },
   {
    "duration": 276,
    "start_time": "2021-07-08T18:06:03.071Z"
   },
   {
    "duration": 22,
    "start_time": "2021-07-08T18:06:03.349Z"
   },
   {
    "duration": 32,
    "start_time": "2021-07-08T18:06:03.373Z"
   },
   {
    "duration": 41,
    "start_time": "2021-07-08T18:06:03.406Z"
   },
   {
    "duration": 23,
    "start_time": "2021-07-08T18:06:03.449Z"
   },
   {
    "duration": 36,
    "start_time": "2021-07-08T18:06:03.473Z"
   },
   {
    "duration": 22,
    "start_time": "2021-07-08T18:06:03.511Z"
   },
   {
    "duration": 16,
    "start_time": "2021-07-08T18:06:03.535Z"
   },
   {
    "duration": 514,
    "start_time": "2021-07-08T18:06:03.552Z"
   },
   {
    "duration": 674,
    "start_time": "2021-07-08T18:06:04.068Z"
   },
   {
    "duration": 207,
    "start_time": "2021-07-08T18:06:04.745Z"
   },
   {
    "duration": 108,
    "start_time": "2021-07-08T18:06:04.954Z"
   },
   {
    "duration": 833,
    "start_time": "2021-07-08T18:06:05.064Z"
   },
   {
    "duration": 92586,
    "start_time": "2021-07-08T18:06:05.899Z"
   },
   {
    "duration": 141915,
    "start_time": "2021-07-08T18:07:38.486Z"
   },
   {
    "duration": 141481,
    "start_time": "2021-07-08T18:10:00.402Z"
   },
   {
    "duration": 392991,
    "start_time": "2021-07-08T18:12:21.884Z"
   },
   {
    "duration": 93991,
    "start_time": "2021-07-08T18:18:54.877Z"
   },
   {
    "duration": 74787,
    "start_time": "2021-07-08T18:20:28.870Z"
   },
   {
    "duration": 92876,
    "start_time": "2021-07-08T18:21:43.658Z"
   },
   {
    "duration": 129575,
    "start_time": "2021-07-08T18:23:16.536Z"
   },
   {
    "duration": 18892,
    "start_time": "2021-07-08T18:25:26.113Z"
   },
   {
    "duration": 89719,
    "start_time": "2021-07-08T18:25:45.007Z"
   },
   {
    "duration": 35471,
    "start_time": "2021-07-08T18:27:14.727Z"
   },
   {
    "duration": 109,
    "start_time": "2021-07-08T18:27:50.205Z"
   },
   {
    "duration": 787,
    "start_time": "2021-07-08T18:27:50.393Z"
   },
   {
    "duration": 935,
    "start_time": "2021-07-08T18:27:51.182Z"
   },
   {
    "duration": 301,
    "start_time": "2021-07-10T14:16:24.904Z"
   },
   {
    "duration": 1025,
    "start_time": "2021-07-10T14:16:29.494Z"
   },
   {
    "duration": 820,
    "start_time": "2021-07-10T14:16:30.521Z"
   },
   {
    "duration": 10,
    "start_time": "2021-07-10T14:16:33.404Z"
   },
   {
    "duration": 288,
    "start_time": "2021-07-10T14:17:07.835Z"
   },
   {
    "duration": 297,
    "start_time": "2021-07-10T14:17:25.794Z"
   },
   {
    "duration": 348,
    "start_time": "2021-07-10T14:27:31.628Z"
   },
   {
    "duration": 1119,
    "start_time": "2021-07-10T14:30:58.390Z"
   },
   {
    "duration": 612,
    "start_time": "2021-07-10T14:31:09.969Z"
   },
   {
    "duration": 773,
    "start_time": "2021-07-10T14:31:29.599Z"
   },
   {
    "duration": 772,
    "start_time": "2021-07-10T14:31:48.780Z"
   },
   {
    "duration": 600,
    "start_time": "2021-07-10T14:39:06.250Z"
   },
   {
    "duration": 14,
    "start_time": "2021-07-10T14:39:07.180Z"
   },
   {
    "duration": 493,
    "start_time": "2021-07-10T14:39:07.340Z"
   },
   {
    "duration": 381,
    "start_time": "2021-07-10T14:39:08.000Z"
   },
   {
    "duration": 377,
    "start_time": "2021-07-10T14:39:08.382Z"
   },
   {
    "duration": 371,
    "start_time": "2021-07-10T14:39:08.760Z"
   },
   {
    "duration": 30,
    "start_time": "2021-07-10T14:39:09.132Z"
   },
   {
    "duration": 40,
    "start_time": "2021-07-10T14:39:09.163Z"
   },
   {
    "duration": 51,
    "start_time": "2021-07-10T14:39:09.205Z"
   },
   {
    "duration": 30,
    "start_time": "2021-07-10T14:39:09.350Z"
   },
   {
    "duration": 30,
    "start_time": "2021-07-10T14:39:09.530Z"
   },
   {
    "duration": 28,
    "start_time": "2021-07-10T14:39:09.710Z"
   },
   {
    "duration": 165229,
    "start_time": "2021-07-10T14:39:10.120Z"
   },
   {
    "duration": 79772,
    "start_time": "2021-07-10T14:49:26.178Z"
   },
   {
    "duration": 28,
    "start_time": "2021-07-10T14:51:58.058Z"
   },
   {
    "duration": 30,
    "start_time": "2021-07-10T15:03:16.658Z"
   },
   {
    "duration": 674,
    "start_time": "2021-07-10T15:03:16.707Z"
   },
   {
    "duration": 1117,
    "start_time": "2021-07-10T15:03:19.120Z"
   },
   {
    "duration": 281,
    "start_time": "2021-07-10T15:03:20.239Z"
   },
   {
    "duration": 4,
    "start_time": "2021-07-10T15:03:28.160Z"
   },
   {
    "duration": 754,
    "start_time": "2021-07-10T15:03:37.490Z"
   },
   {
    "duration": 1127,
    "start_time": "2021-07-10T15:03:38.590Z"
   },
   {
    "duration": 256,
    "start_time": "2021-07-10T15:03:40.161Z"
   },
   {
    "duration": 1389,
    "start_time": "2021-07-11T10:55:25.446Z"
   },
   {
    "duration": 1232,
    "start_time": "2021-07-11T10:55:26.838Z"
   },
   {
    "duration": 580,
    "start_time": "2021-07-11T10:55:28.073Z"
   },
   {
    "duration": 499,
    "start_time": "2021-07-11T10:55:28.656Z"
   },
   {
    "duration": 828,
    "start_time": "2021-07-11T10:55:29.158Z"
   },
   {
    "duration": 29,
    "start_time": "2021-07-11T10:55:29.989Z"
   },
   {
    "duration": 917,
    "start_time": "2021-07-11T10:55:30.020Z"
   },
   {
    "duration": 920,
    "start_time": "2021-07-11T10:55:30.939Z"
   },
   {
    "duration": 694,
    "start_time": "2021-07-11T10:55:31.863Z"
   },
   {
    "duration": 694,
    "start_time": "2021-07-11T10:55:32.560Z"
   },
   {
    "duration": 55,
    "start_time": "2021-07-11T10:55:33.256Z"
   },
   {
    "duration": 49,
    "start_time": "2021-07-11T10:55:33.313Z"
   },
   {
    "duration": 89,
    "start_time": "2021-07-11T10:55:33.365Z"
   },
   {
    "duration": 48,
    "start_time": "2021-07-11T10:55:33.457Z"
   },
   {
    "duration": 46,
    "start_time": "2021-07-11T10:55:33.508Z"
   },
   {
    "duration": 59,
    "start_time": "2021-07-11T10:55:33.556Z"
   },
   {
    "duration": 552,
    "start_time": "2021-07-11T10:55:33.618Z"
   },
   {
    "duration": 493,
    "start_time": "2021-07-11T10:55:33.680Z"
   },
   {
    "duration": 478,
    "start_time": "2021-07-11T10:55:33.696Z"
   },
   {
    "duration": 471,
    "start_time": "2021-07-11T10:55:33.704Z"
   },
   {
    "duration": 465,
    "start_time": "2021-07-11T10:55:33.712Z"
   },
   {
    "duration": 461,
    "start_time": "2021-07-11T10:55:33.717Z"
   },
   {
    "duration": 456,
    "start_time": "2021-07-11T10:55:33.724Z"
   },
   {
    "duration": 453,
    "start_time": "2021-07-11T10:55:33.728Z"
   },
   {
    "duration": 450,
    "start_time": "2021-07-11T10:55:33.733Z"
   },
   {
    "duration": 443,
    "start_time": "2021-07-11T10:55:33.741Z"
   },
   {
    "duration": 439,
    "start_time": "2021-07-11T10:55:33.747Z"
   },
   {
    "duration": 436,
    "start_time": "2021-07-11T10:55:33.751Z"
   },
   {
    "duration": 429,
    "start_time": "2021-07-11T10:55:33.759Z"
   },
   {
    "duration": 426,
    "start_time": "2021-07-11T10:55:33.764Z"
   },
   {
    "duration": 421,
    "start_time": "2021-07-11T10:55:33.770Z"
   },
   {
    "duration": 403,
    "start_time": "2021-07-11T10:55:33.790Z"
   },
   {
    "duration": 397,
    "start_time": "2021-07-11T10:55:33.797Z"
   },
   {
    "duration": 393,
    "start_time": "2021-07-11T10:55:33.802Z"
   },
   {
    "duration": 387,
    "start_time": "2021-07-11T10:55:33.810Z"
   },
   {
    "duration": 384,
    "start_time": "2021-07-11T10:55:33.815Z"
   },
   {
    "duration": 379,
    "start_time": "2021-07-11T10:55:33.821Z"
   },
   {
    "duration": 372,
    "start_time": "2021-07-11T10:55:33.829Z"
   },
   {
    "duration": 367,
    "start_time": "2021-07-11T10:55:33.836Z"
   },
   {
    "duration": 277,
    "start_time": "2021-07-11T10:56:43.190Z"
   },
   {
    "duration": 643,
    "start_time": "2021-07-11T10:57:00.070Z"
   },
   {
    "duration": 6713,
    "start_time": "2021-07-11T10:57:46.820Z"
   },
   {
    "duration": 15,
    "start_time": "2021-07-11T10:58:17.071Z"
   },
   {
    "duration": 22,
    "start_time": "2021-07-11T11:00:10.540Z"
   },
   {
    "duration": 141,
    "start_time": "2021-07-11T11:00:21.380Z"
   },
   {
    "duration": 21,
    "start_time": "2021-07-11T11:00:27.580Z"
   },
   {
    "duration": 20,
    "start_time": "2021-07-11T11:01:45.180Z"
   },
   {
    "duration": 297,
    "start_time": "2021-07-11T11:01:59.810Z"
   },
   {
    "duration": 16,
    "start_time": "2021-07-11T11:02:28.710Z"
   },
   {
    "duration": 21,
    "start_time": "2021-07-11T11:03:01.681Z"
   },
   {
    "duration": 284,
    "start_time": "2021-07-11T11:03:48.758Z"
   },
   {
    "duration": 300,
    "start_time": "2021-07-11T11:03:55.710Z"
   },
   {
    "duration": 332,
    "start_time": "2021-07-11T11:04:06.550Z"
   },
   {
    "duration": 276,
    "start_time": "2021-07-11T11:04:15.941Z"
   },
   {
    "duration": 290,
    "start_time": "2021-07-11T11:06:12.502Z"
   },
   {
    "duration": 14,
    "start_time": "2021-07-11T11:06:20.867Z"
   },
   {
    "duration": 20,
    "start_time": "2021-07-11T11:06:52.672Z"
   },
   {
    "duration": 19,
    "start_time": "2021-07-11T11:07:03.365Z"
   },
   {
    "duration": 20,
    "start_time": "2021-07-11T11:07:18.164Z"
   },
   {
    "duration": 276,
    "start_time": "2021-07-11T11:07:25.724Z"
   },
   {
    "duration": 5,
    "start_time": "2021-07-11T11:17:38.597Z"
   },
   {
    "duration": 1179,
    "start_time": "2021-07-11T11:17:38.605Z"
   },
   {
    "duration": 590,
    "start_time": "2021-07-11T11:17:39.788Z"
   },
   {
    "duration": 405,
    "start_time": "2021-07-11T11:17:40.382Z"
   },
   {
    "duration": 820,
    "start_time": "2021-07-11T11:17:40.789Z"
   },
   {
    "duration": 20,
    "start_time": "2021-07-11T11:17:41.612Z"
   },
   {
    "duration": 1103,
    "start_time": "2021-07-11T11:17:41.634Z"
   },
   {
    "duration": 724,
    "start_time": "2021-07-11T11:17:42.740Z"
   },
   {
    "duration": 682,
    "start_time": "2021-07-11T11:17:43.468Z"
   },
   {
    "duration": 729,
    "start_time": "2021-07-11T11:17:44.153Z"
   },
   {
    "duration": 53,
    "start_time": "2021-07-11T11:17:44.885Z"
   },
   {
    "duration": 62,
    "start_time": "2021-07-11T11:17:44.940Z"
   },
   {
    "duration": 96,
    "start_time": "2021-07-11T11:17:45.004Z"
   },
   {
    "duration": 43,
    "start_time": "2021-07-11T11:17:45.102Z"
   },
   {
    "duration": 61,
    "start_time": "2021-07-11T11:17:45.148Z"
   },
   {
    "duration": 49,
    "start_time": "2021-07-11T11:17:45.211Z"
   },
   {
    "duration": 57,
    "start_time": "2021-07-11T11:17:45.263Z"
   },
   {
    "duration": 29,
    "start_time": "2021-07-11T11:17:45.322Z"
   },
   {
    "duration": 1111,
    "start_time": "2021-07-11T11:17:45.354Z"
   },
   {
    "duration": 1733,
    "start_time": "2021-07-11T11:17:46.467Z"
   },
   {
    "duration": 283,
    "start_time": "2021-07-11T11:17:48.203Z"
   },
   {
    "duration": 502,
    "start_time": "2021-07-11T11:17:47.987Z"
   },
   {
    "duration": 487,
    "start_time": "2021-07-11T11:17:48.004Z"
   },
   {
    "duration": 486,
    "start_time": "2021-07-11T11:17:48.007Z"
   },
   {
    "duration": 483,
    "start_time": "2021-07-11T11:17:48.011Z"
   },
   {
    "duration": 482,
    "start_time": "2021-07-11T11:17:48.014Z"
   },
   {
    "duration": 478,
    "start_time": "2021-07-11T11:17:48.019Z"
   },
   {
    "duration": 477,
    "start_time": "2021-07-11T11:17:48.022Z"
   },
   {
    "duration": 475,
    "start_time": "2021-07-11T11:17:48.026Z"
   },
   {
    "duration": 473,
    "start_time": "2021-07-11T11:17:48.029Z"
   },
   {
    "duration": 471,
    "start_time": "2021-07-11T11:17:48.033Z"
   },
   {
    "duration": 469,
    "start_time": "2021-07-11T11:17:48.037Z"
   },
   {
    "duration": 466,
    "start_time": "2021-07-11T11:17:48.041Z"
   },
   {
    "duration": 464,
    "start_time": "2021-07-11T11:17:48.044Z"
   },
   {
    "duration": 462,
    "start_time": "2021-07-11T11:17:48.048Z"
   },
   {
    "duration": 460,
    "start_time": "2021-07-11T11:17:48.051Z"
   },
   {
    "duration": 458,
    "start_time": "2021-07-11T11:17:48.055Z"
   },
   {
    "duration": 457,
    "start_time": "2021-07-11T11:17:48.058Z"
   },
   {
    "duration": 455,
    "start_time": "2021-07-11T11:17:48.061Z"
   },
   {
    "duration": 294,
    "start_time": "2021-07-11T11:19:25.706Z"
   },
   {
    "duration": 337,
    "start_time": "2021-07-11T11:23:02.385Z"
   },
   {
    "duration": 487,
    "start_time": "2021-07-11T11:24:00.644Z"
   },
   {
    "duration": 22494,
    "start_time": "2021-07-11T11:28:49.120Z"
   },
   {
    "duration": 300,
    "start_time": "2021-07-11T11:29:11.703Z"
   },
   {
    "duration": 413,
    "start_time": "2021-07-11T11:31:14.840Z"
   },
   {
    "duration": 50,
    "start_time": "2021-07-11T11:32:48.657Z"
   },
   {
    "duration": 191,
    "start_time": "2021-07-11T11:32:49.330Z"
   },
   {
    "duration": 257,
    "start_time": "2021-07-11T11:33:01.840Z"
   },
   {
    "duration": 964,
    "start_time": "2021-07-11T11:35:03.308Z"
   },
   {
    "duration": 113,
    "start_time": "2021-07-11T11:35:08.417Z"
   },
   {
    "duration": 1405,
    "start_time": "2021-07-11T11:35:24.606Z"
   },
   {
    "duration": 23073,
    "start_time": "2021-07-11T11:40:28.538Z"
   },
   {
    "duration": 22876,
    "start_time": "2021-07-11T11:41:50.624Z"
   },
   {
    "duration": 197,
    "start_time": "2021-07-11T11:42:13.503Z"
   },
   {
    "duration": 194,
    "start_time": "2021-07-11T11:42:13.704Z"
   },
   {
    "duration": 191,
    "start_time": "2021-07-11T11:42:13.900Z"
   },
   {
    "duration": 291,
    "start_time": "2021-07-11T11:42:14.093Z"
   },
   {
    "duration": 22300,
    "start_time": "2021-07-11T11:49:27.907Z"
   },
   {
    "duration": 144506,
    "start_time": "2021-07-11T11:49:50.210Z"
   },
   {
    "duration": 14968,
    "start_time": "2021-07-11T11:52:14.719Z"
   },
   {
    "duration": 118,
    "start_time": "2021-07-11T11:52:29.690Z"
   },
   {
    "duration": 1332,
    "start_time": "2021-07-11T11:52:29.810Z"
   },
   {
    "duration": 207,
    "start_time": "2021-07-11T11:52:31.145Z"
   },
   {
    "duration": 268,
    "start_time": "2021-07-11T11:52:31.355Z"
   },
   {
    "duration": 290,
    "start_time": "2021-07-11T16:32:24.012Z"
   },
   {
    "duration": 2055,
    "start_time": "2021-07-11T16:32:30.014Z"
   },
   {
    "duration": 2105,
    "start_time": "2021-07-11T16:32:32.073Z"
   },
   {
    "duration": 736,
    "start_time": "2021-07-11T16:32:34.183Z"
   },
   {
    "duration": 836,
    "start_time": "2021-07-11T16:32:34.923Z"
   },
   {
    "duration": 1484,
    "start_time": "2021-07-11T16:32:35.762Z"
   },
   {
    "duration": 30,
    "start_time": "2021-07-11T16:32:37.249Z"
   },
   {
    "duration": 1703,
    "start_time": "2021-07-11T16:32:37.283Z"
   },
   {
    "duration": 1452,
    "start_time": "2021-07-11T16:32:39.010Z"
   },
   {
    "duration": 1257,
    "start_time": "2021-07-11T16:32:40.468Z"
   },
   {
    "duration": 1250,
    "start_time": "2021-07-11T16:32:41.730Z"
   },
   {
    "duration": 86,
    "start_time": "2021-07-11T16:32:42.983Z"
   },
   {
    "duration": 90,
    "start_time": "2021-07-11T16:32:43.072Z"
   },
   {
    "duration": 106,
    "start_time": "2021-07-11T16:32:43.164Z"
   },
   {
    "duration": 52,
    "start_time": "2021-07-11T16:32:43.272Z"
   },
   {
    "duration": 47,
    "start_time": "2021-07-11T16:32:43.327Z"
   },
   {
    "duration": 64,
    "start_time": "2021-07-11T16:32:43.377Z"
   },
   {
    "duration": 58,
    "start_time": "2021-07-11T16:32:43.443Z"
   },
   {
    "duration": 38,
    "start_time": "2021-07-11T16:32:43.503Z"
   },
   {
    "duration": 1439,
    "start_time": "2021-07-11T16:32:43.543Z"
   },
   {
    "duration": 1519,
    "start_time": "2021-07-11T16:36:50.142Z"
   },
   {
    "duration": 1366,
    "start_time": "2021-07-11T16:36:51.664Z"
   },
   {
    "duration": 621,
    "start_time": "2021-07-11T16:36:53.033Z"
   },
   {
    "duration": 528,
    "start_time": "2021-07-11T16:36:53.658Z"
   },
   {
    "duration": 979,
    "start_time": "2021-07-11T16:36:54.189Z"
   },
   {
    "duration": 41,
    "start_time": "2021-07-11T16:36:55.170Z"
   },
   {
    "duration": 965,
    "start_time": "2021-07-11T16:36:55.214Z"
   },
   {
    "duration": 860,
    "start_time": "2021-07-11T16:36:56.181Z"
   },
   {
    "duration": 727,
    "start_time": "2021-07-11T16:36:57.046Z"
   },
   {
    "duration": 718,
    "start_time": "2021-07-11T16:36:57.776Z"
   },
   {
    "duration": 51,
    "start_time": "2021-07-11T16:36:58.497Z"
   },
   {
    "duration": 60,
    "start_time": "2021-07-11T16:36:58.550Z"
   },
   {
    "duration": 96,
    "start_time": "2021-07-11T16:36:58.613Z"
   },
   {
    "duration": 45,
    "start_time": "2021-07-11T16:36:58.711Z"
   },
   {
    "duration": 64,
    "start_time": "2021-07-11T16:36:58.765Z"
   },
   {
    "duration": 46,
    "start_time": "2021-07-11T16:36:58.831Z"
   },
   {
    "duration": 52,
    "start_time": "2021-07-11T16:36:58.880Z"
   },
   {
    "duration": 37,
    "start_time": "2021-07-11T16:36:58.935Z"
   },
   {
    "duration": 1835,
    "start_time": "2021-07-11T16:36:58.975Z"
   },
   {
    "duration": 1772,
    "start_time": "2021-07-11T16:37:00.812Z"
   },
   {
    "duration": 556,
    "start_time": "2021-07-11T16:37:02.587Z"
   },
   {
    "duration": 26064,
    "start_time": "2021-07-11T16:37:03.146Z"
   },
   {
    "duration": 297,
    "start_time": "2021-07-11T16:37:29.214Z"
   },
   {
    "duration": 571,
    "start_time": "2021-07-11T16:37:29.514Z"
   },
   {
    "duration": 809,
    "start_time": "2021-07-11T16:37:29.279Z"
   },
   {
    "duration": 800,
    "start_time": "2021-07-11T16:37:29.289Z"
   },
   {
    "duration": 725,
    "start_time": "2021-07-11T16:37:29.366Z"
   },
   {
    "duration": 719,
    "start_time": "2021-07-11T16:37:29.373Z"
   },
   {
    "duration": 716,
    "start_time": "2021-07-11T16:37:29.377Z"
   },
   {
    "duration": 712,
    "start_time": "2021-07-11T16:37:29.382Z"
   },
   {
    "duration": 710,
    "start_time": "2021-07-11T16:37:29.386Z"
   },
   {
    "duration": 708,
    "start_time": "2021-07-11T16:37:29.389Z"
   },
   {
    "duration": 705,
    "start_time": "2021-07-11T16:37:29.394Z"
   },
   {
    "duration": 702,
    "start_time": "2021-07-11T16:37:29.398Z"
   },
   {
    "duration": 698,
    "start_time": "2021-07-11T16:37:29.403Z"
   },
   {
    "duration": 696,
    "start_time": "2021-07-11T16:37:29.407Z"
   },
   {
    "duration": 692,
    "start_time": "2021-07-11T16:37:29.412Z"
   },
   {
    "duration": 689,
    "start_time": "2021-07-11T16:37:29.416Z"
   },
   {
    "duration": 686,
    "start_time": "2021-07-11T16:37:29.420Z"
   },
   {
    "duration": 684,
    "start_time": "2021-07-11T16:37:29.424Z"
   },
   {
    "duration": 670,
    "start_time": "2021-07-11T16:37:29.439Z"
   },
   {
    "duration": 437,
    "start_time": "2021-07-11T16:37:39.941Z"
   },
   {
    "duration": 28991,
    "start_time": "2021-07-11T16:37:55.031Z"
   },
   {
    "duration": 149663,
    "start_time": "2021-07-11T16:38:24.025Z"
   },
   {
    "duration": 226,
    "start_time": "2021-07-11T16:40:53.690Z"
   },
   {
    "duration": 101,
    "start_time": "2021-07-11T16:40:53.918Z"
   },
   {
    "duration": 1323,
    "start_time": "2021-07-11T16:40:54.111Z"
   },
   {
    "duration": 211,
    "start_time": "2021-07-11T16:40:55.437Z"
   },
   {
    "duration": 10,
    "start_time": "2021-07-11T16:40:55.651Z"
   },
   {
    "duration": 18,
    "start_time": "2021-07-11T16:40:55.664Z"
   },
   {
    "duration": 54,
    "start_time": "2021-07-11T16:41:55.828Z"
   },
   {
    "duration": 23676,
    "start_time": "2021-07-11T16:41:56.148Z"
   },
   {
    "duration": 359515,
    "start_time": "2021-07-11T16:42:19.828Z"
   },
   {
    "duration": 1162,
    "start_time": "2021-07-11T16:48:19.347Z"
   },
   {
    "duration": 277,
    "start_time": "2021-07-11T16:48:20.512Z"
   },
   {
    "duration": 225,
    "start_time": "2021-07-11T16:48:20.792Z"
   },
   {
    "duration": 8,
    "start_time": "2021-07-11T16:48:21.019Z"
   },
   {
    "duration": 20,
    "start_time": "2021-07-11T16:48:21.109Z"
   },
   {
    "duration": 25,
    "start_time": "2021-07-11T16:49:10.336Z"
   },
   {
    "duration": 133,
    "start_time": "2021-07-11T16:49:24.786Z"
   },
   {
    "duration": 8,
    "start_time": "2021-07-11T16:49:31.775Z"
   },
   {
    "duration": 338,
    "start_time": "2021-07-11T16:49:32.054Z"
   },
   {
    "duration": 14,
    "start_time": "2021-07-11T16:49:52.206Z"
   },
   {
    "duration": 353,
    "start_time": "2021-07-11T16:51:06.768Z"
   },
   {
    "duration": 13,
    "start_time": "2021-07-11T16:51:40.767Z"
   },
   {
    "duration": 221221,
    "start_time": "2021-07-11T16:55:59.033Z"
   },
   {
    "duration": 558,
    "start_time": "2021-07-11T16:59:40.257Z"
   },
   {
    "duration": 556,
    "start_time": "2021-07-11T16:59:53.357Z"
   },
   {
    "duration": 364,
    "start_time": "2021-07-11T17:00:08.517Z"
   },
   {
    "duration": 369,
    "start_time": "2021-07-11T17:00:19.896Z"
   },
   {
    "duration": 335,
    "start_time": "2021-07-11T17:00:37.177Z"
   },
   {
    "duration": 395,
    "start_time": "2021-07-11T17:00:51.087Z"
   },
   {
    "duration": 119,
    "start_time": "2021-07-11T17:02:12.547Z"
   },
   {
    "duration": 110,
    "start_time": "2021-07-11T17:02:27.328Z"
   },
   {
    "duration": 208,
    "start_time": "2021-07-11T17:02:35.933Z"
   },
   {
    "duration": 114,
    "start_time": "2021-07-11T17:03:17.547Z"
   },
   {
    "duration": 114,
    "start_time": "2021-07-11T17:03:44.377Z"
   },
   {
    "duration": 37,
    "start_time": "2021-07-11T17:03:55.597Z"
   },
   {
    "duration": 131,
    "start_time": "2021-07-11T17:04:05.498Z"
   },
   {
    "duration": 112,
    "start_time": "2021-07-11T17:05:51.267Z"
   },
   {
    "duration": 101,
    "start_time": "2021-07-11T17:05:59.401Z"
   },
   {
    "duration": 99,
    "start_time": "2021-07-11T17:06:40.458Z"
   },
   {
    "duration": 64,
    "start_time": "2021-07-11T17:07:16.227Z"
   },
   {
    "duration": 84,
    "start_time": "2021-07-11T17:07:26.227Z"
   },
   {
    "duration": 88,
    "start_time": "2021-07-11T17:07:36.817Z"
   },
   {
    "duration": 89,
    "start_time": "2021-07-11T17:07:44.928Z"
   },
   {
    "duration": 777478,
    "start_time": "2021-07-11T17:12:15.755Z"
   },
   {
    "duration": 2077,
    "start_time": "2021-07-11T18:23:24.532Z"
   },
   {
    "duration": 14,
    "start_time": "2021-07-11T18:23:36.935Z"
   },
   {
    "duration": 1163,
    "start_time": "2021-07-11T18:23:43.634Z"
   },
   {
    "duration": 14,
    "start_time": "2021-07-11T18:23:47.874Z"
   },
   {
    "duration": 13,
    "start_time": "2021-07-11T18:47:38.148Z"
   },
   {
    "duration": 518711,
    "start_time": "2021-07-11T18:52:00.042Z"
   },
   {
    "duration": 13265,
    "start_time": "2021-07-11T19:01:51.395Z"
   },
   {
    "duration": 13789,
    "start_time": "2021-07-11T19:02:05.822Z"
   },
   {
    "duration": 64959,
    "start_time": "2021-07-11T19:03:22.763Z"
   },
   {
    "duration": 178144,
    "start_time": "2021-07-11T19:05:44.235Z"
   },
   {
    "duration": 153569,
    "start_time": "2021-07-11T19:08:46.764Z"
   },
   {
    "duration": 820456,
    "start_time": "2021-07-11T19:11:22.266Z"
   },
   {
    "duration": 1070,
    "start_time": "2021-07-12T06:38:33.441Z"
   },
   {
    "duration": 809,
    "start_time": "2021-07-12T06:38:34.513Z"
   },
   {
    "duration": 330,
    "start_time": "2021-07-12T06:38:35.324Z"
   },
   {
    "duration": 375,
    "start_time": "2021-07-12T06:38:35.655Z"
   },
   {
    "duration": 590,
    "start_time": "2021-07-12T06:38:36.032Z"
   },
   {
    "duration": 13,
    "start_time": "2021-07-12T06:38:36.624Z"
   },
   {
    "duration": 523,
    "start_time": "2021-07-12T06:38:36.638Z"
   },
   {
    "duration": 482,
    "start_time": "2021-07-12T06:38:37.163Z"
   },
   {
    "duration": 384,
    "start_time": "2021-07-12T06:38:37.647Z"
   },
   {
    "duration": 385,
    "start_time": "2021-07-12T06:38:38.033Z"
   },
   {
    "duration": 28,
    "start_time": "2021-07-12T06:38:38.420Z"
   },
   {
    "duration": 45,
    "start_time": "2021-07-12T06:38:38.449Z"
   },
   {
    "duration": 58,
    "start_time": "2021-07-12T06:38:38.496Z"
   },
   {
    "duration": 38,
    "start_time": "2021-07-12T06:38:38.556Z"
   },
   {
    "duration": 35,
    "start_time": "2021-07-12T06:38:38.595Z"
   },
   {
    "duration": 46,
    "start_time": "2021-07-12T06:38:38.631Z"
   },
   {
    "duration": 67,
    "start_time": "2021-07-12T06:38:38.678Z"
   },
   {
    "duration": 25,
    "start_time": "2021-07-12T06:38:56.995Z"
   },
   {
    "duration": 1540,
    "start_time": "2021-10-15T13:28:17.613Z"
   },
   {
    "duration": 1286,
    "start_time": "2021-10-15T13:28:19.155Z"
   },
   {
    "duration": 622,
    "start_time": "2021-10-15T13:28:20.444Z"
   },
   {
    "duration": 542,
    "start_time": "2021-10-15T13:28:21.070Z"
   },
   {
    "duration": 886,
    "start_time": "2021-10-15T13:28:21.614Z"
   },
   {
    "duration": 20,
    "start_time": "2021-10-15T13:28:22.503Z"
   },
   {
    "duration": 989,
    "start_time": "2021-10-15T13:28:22.526Z"
   },
   {
    "duration": 863,
    "start_time": "2021-10-15T13:28:23.518Z"
   },
   {
    "duration": 729,
    "start_time": "2021-10-15T13:28:24.385Z"
   },
   {
    "duration": 727,
    "start_time": "2021-10-15T13:28:25.117Z"
   },
   {
    "duration": 54,
    "start_time": "2021-10-15T13:28:25.846Z"
   },
   {
    "duration": 43,
    "start_time": "2021-10-15T13:28:25.903Z"
   },
   {
    "duration": 104,
    "start_time": "2021-10-15T13:28:25.948Z"
   },
   {
    "duration": 53,
    "start_time": "2021-10-15T13:28:26.055Z"
   },
   {
    "duration": 56,
    "start_time": "2021-10-15T13:28:26.111Z"
   },
   {
    "duration": 57,
    "start_time": "2021-10-15T13:28:26.169Z"
   },
   {
    "duration": 98,
    "start_time": "2021-10-15T13:28:26.228Z"
   },
   {
    "duration": 50,
    "start_time": "2021-10-15T13:28:26.328Z"
   },
   {
    "duration": 1788,
    "start_time": "2021-10-15T13:28:26.381Z"
   },
   {
    "duration": 627,
    "start_time": "2021-10-15T13:28:27.547Z"
   },
   {
    "duration": 626,
    "start_time": "2021-10-15T13:28:27.550Z"
   },
   {
    "duration": 623,
    "start_time": "2021-10-15T13:28:27.555Z"
   },
   {
    "duration": 621,
    "start_time": "2021-10-15T13:28:27.559Z"
   },
   {
    "duration": 628,
    "start_time": "2021-10-15T13:28:27.563Z"
   },
   {
    "duration": 628,
    "start_time": "2021-10-15T13:28:27.566Z"
   },
   {
    "duration": 626,
    "start_time": "2021-10-15T13:28:27.570Z"
   },
   {
    "duration": 625,
    "start_time": "2021-10-15T13:28:27.574Z"
   },
   {
    "duration": 623,
    "start_time": "2021-10-15T13:28:27.578Z"
   },
   {
    "duration": 616,
    "start_time": "2021-10-15T13:28:27.587Z"
   },
   {
    "duration": 613,
    "start_time": "2021-10-15T13:28:27.592Z"
   },
   {
    "duration": 613,
    "start_time": "2021-10-15T13:28:27.595Z"
   },
   {
    "duration": 613,
    "start_time": "2021-10-15T13:28:27.598Z"
   },
   {
    "duration": 612,
    "start_time": "2021-10-15T13:28:27.601Z"
   },
   {
    "duration": 609,
    "start_time": "2021-10-15T13:28:27.606Z"
   },
   {
    "duration": 608,
    "start_time": "2021-10-15T13:28:27.610Z"
   },
   {
    "duration": 606,
    "start_time": "2021-10-15T13:28:27.614Z"
   },
   {
    "duration": 605,
    "start_time": "2021-10-15T13:28:27.617Z"
   },
   {
    "duration": 604,
    "start_time": "2021-10-15T13:28:27.621Z"
   },
   {
    "duration": 603,
    "start_time": "2021-10-15T13:28:27.624Z"
   },
   {
    "duration": 596,
    "start_time": "2021-10-15T13:28:27.633Z"
   },
   {
    "duration": 593,
    "start_time": "2021-10-15T13:28:27.638Z"
   },
   {
    "duration": 591,
    "start_time": "2021-10-15T13:28:27.642Z"
   },
   {
    "duration": 322,
    "start_time": "2021-10-15T13:29:10.774Z"
   },
   {
    "duration": 1659,
    "start_time": "2021-10-15T13:30:08.854Z"
   },
   {
    "duration": 325,
    "start_time": "2021-10-15T13:31:48.175Z"
   },
   {
    "duration": 120,
    "start_time": "2021-10-15T13:31:58.151Z"
   },
   {
    "duration": 1533,
    "start_time": "2021-10-15T13:31:58.847Z"
   },
   {
    "duration": 1985,
    "start_time": "2021-10-15T13:32:03.579Z"
   },
   {
    "duration": 520,
    "start_time": "2021-10-15T13:32:07.967Z"
   },
   {
    "duration": 1615,
    "start_time": "2021-10-15T13:32:16.504Z"
   },
   {
    "duration": 1295,
    "start_time": "2021-10-15T13:32:18.122Z"
   },
   {
    "duration": 622,
    "start_time": "2021-10-15T13:32:19.423Z"
   },
   {
    "duration": 518,
    "start_time": "2021-10-15T13:32:20.048Z"
   },
   {
    "duration": 891,
    "start_time": "2021-10-15T13:32:20.569Z"
   },
   {
    "duration": 40,
    "start_time": "2021-10-15T13:32:21.462Z"
   },
   {
    "duration": 983,
    "start_time": "2021-10-15T13:32:21.504Z"
   },
   {
    "duration": 867,
    "start_time": "2021-10-15T13:32:22.491Z"
   },
   {
    "duration": 732,
    "start_time": "2021-10-15T13:32:23.362Z"
   },
   {
    "duration": 736,
    "start_time": "2021-10-15T13:32:24.097Z"
   },
   {
    "duration": 44,
    "start_time": "2021-10-15T13:32:24.836Z"
   },
   {
    "duration": 60,
    "start_time": "2021-10-15T13:32:24.883Z"
   },
   {
    "duration": 99,
    "start_time": "2021-10-15T13:32:24.946Z"
   },
   {
    "duration": 57,
    "start_time": "2021-10-15T13:32:25.048Z"
   },
   {
    "duration": 51,
    "start_time": "2021-10-15T13:32:25.108Z"
   },
   {
    "duration": 58,
    "start_time": "2021-10-15T13:32:25.161Z"
   },
   {
    "duration": 111,
    "start_time": "2021-10-15T13:32:25.221Z"
   },
   {
    "duration": 110,
    "start_time": "2021-10-15T13:32:25.335Z"
   },
   {
    "duration": 1445,
    "start_time": "2021-10-15T13:32:25.448Z"
   },
   {
    "duration": 1857,
    "start_time": "2021-10-15T13:32:26.901Z"
   },
   {
    "duration": 534,
    "start_time": "2021-10-15T13:32:28.760Z"
   },
   {
    "duration": 31313,
    "start_time": "2021-10-15T13:32:29.296Z"
   },
   {
    "duration": 199,
    "start_time": "2021-10-15T13:33:00.702Z"
   },
   {
    "duration": 713,
    "start_time": "2021-10-15T13:33:00.906Z"
   },
   {
    "duration": 82,
    "start_time": "2021-10-15T13:33:01.621Z"
   },
   {
    "duration": 24601,
    "start_time": "2021-10-15T13:33:01.710Z"
   },
   {
    "duration": 153920,
    "start_time": "2021-10-15T13:33:26.314Z"
   },
   {
    "duration": 285594,
    "start_time": "2021-10-15T13:36:00.237Z"
   },
   {
    "duration": 237261,
    "start_time": "2021-10-15T13:40:45.834Z"
   },
   {
    "duration": 654788,
    "start_time": "2021-10-15T13:44:43.100Z"
   },
   {
    "duration": 157330,
    "start_time": "2021-10-15T13:55:37.890Z"
   },
   {
    "duration": 126748,
    "start_time": "2021-10-15T13:58:15.222Z"
   },
   {
    "duration": 140484,
    "start_time": "2021-10-15T14:00:21.973Z"
   },
   {
    "duration": 255606,
    "start_time": "2021-10-15T14:02:42.459Z"
   },
   {
    "duration": 27944,
    "start_time": "2021-10-15T14:06:58.068Z"
   },
   {
    "duration": 152750,
    "start_time": "2021-10-15T14:07:26.015Z"
   },
   {
    "duration": 297140,
    "start_time": "2021-10-15T14:09:58.768Z"
   },
   {
    "duration": 192,
    "start_time": "2021-10-15T14:14:55.911Z"
   },
   {
    "duration": 1165,
    "start_time": "2021-10-15T14:14:56.107Z"
   },
   {
    "duration": 2376,
    "start_time": "2021-10-15T14:14:57.275Z"
   },
   {
    "duration": 53,
    "start_time": "2021-10-15T14:14:59.653Z"
   },
   {
    "duration": 13,
    "start_time": "2021-10-15T14:14:59.708Z"
   }
  ],
  "kernelspec": {
   "display_name": "Python 3",
   "language": "python",
   "name": "python3"
  },
  "language_info": {
   "codemirror_mode": {
    "name": "ipython",
    "version": 3
   },
   "file_extension": ".py",
   "mimetype": "text/x-python",
   "name": "python",
   "nbconvert_exporter": "python",
   "pygments_lexer": "ipython3",
   "version": "3.7.8"
  },
  "toc": {
   "base_numbering": 1,
   "nav_menu": {},
   "number_sections": true,
   "sideBar": true,
   "skip_h1_title": true,
   "title_cell": "Table of Contents",
   "title_sidebar": "Contents",
   "toc_cell": false,
   "toc_position": {
    "height": "calc(100% - 180px)",
    "left": "10px",
    "top": "150px",
    "width": "165px"
   },
   "toc_section_display": true,
   "toc_window_display": false
  }
 },
 "nbformat": 4,
 "nbformat_minor": 2
}
