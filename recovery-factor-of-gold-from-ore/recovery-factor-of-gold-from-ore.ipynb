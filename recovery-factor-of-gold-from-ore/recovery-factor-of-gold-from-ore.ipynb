{
 "cells": [
  {
   "cell_type": "markdown",
   "metadata": {
    "toc": true
   },
   "source": [
    "<h1>Содержание<span class=\"tocSkip\"></span></h1>\n",
    "<div class=\"toc\"><ul class=\"toc-item\"><li><span><a href=\"#Подготовка-данных\" data-toc-modified-id=\"Подготовка-данных-1\"><span class=\"toc-item-num\">1&nbsp;&nbsp;</span>Подготовка данных</a></span></li><li><span><a href=\"#Анализ-данных\" data-toc-modified-id=\"Анализ-данных-2\"><span class=\"toc-item-num\">2&nbsp;&nbsp;</span>Анализ данных</a></span></li><li><span><a href=\"#Модель\" data-toc-modified-id=\"Модель-3\"><span class=\"toc-item-num\">3&nbsp;&nbsp;</span>Модель</a></span></li></ul></div>"
   ]
  },
  {
   "cell_type": "markdown",
   "metadata": {},
   "source": [
    "# Восстановление золота из руды"
   ]
  },
  {
   "cell_type": "markdown",
   "metadata": {},
   "source": [
    "Модель должна предсказать коэффициент восстановления золота из золотосодержащей руды. Используйте данные с параметрами добычи и очистки. \n",
    "\n",
    "Модель поможет оптимизировать производство, чтобы не запускать предприятие с убыточными характеристиками."
   ]
  },
  {
   "cell_type": "markdown",
   "metadata": {},
   "source": [
    "## Подготовка данных"
   ]
  },
  {
   "cell_type": "markdown",
   "metadata": {},
   "source": [
    "Откройте файлы и изучите их"
   ]
  },
  {
   "cell_type": "code",
   "execution_count": 2,
   "metadata": {},
   "outputs": [],
   "source": [
    "import pandas as pd\n",
    "import numpy as np\n",
    "import matplotlib.pyplot as plt\n",
    "from sklearn.metrics import mean_absolute_error\n",
    "from sklearn.tree import DecisionTreeRegressor\n",
    "from sklearn.ensemble import RandomForestRegressor\n",
    "from sklearn.linear_model import LinearRegression\n",
    "from sklearn.model_selection import cross_val_score\n",
    "from sklearn.metrics import make_scorer\n",
    "from sklearn.dummy import DummyRegressor"
   ]
  },
  {
   "cell_type": "code",
   "execution_count": 3,
   "metadata": {},
   "outputs": [
    {
     "name": "stdout",
     "output_type": "stream",
     "text": [
      "<class 'pandas.core.frame.DataFrame'>\n",
      "RangeIndex: 16860 entries, 0 to 16859\n",
      "Data columns (total 87 columns):\n",
      "date                                                  16860 non-null object\n",
      "final.output.concentrate_ag                           16788 non-null float64\n",
      "final.output.concentrate_pb                           16788 non-null float64\n",
      "final.output.concentrate_sol                          16490 non-null float64\n",
      "final.output.concentrate_au                           16789 non-null float64\n",
      "final.output.recovery                                 15339 non-null float64\n",
      "final.output.tail_ag                                  16794 non-null float64\n",
      "final.output.tail_pb                                  16677 non-null float64\n",
      "final.output.tail_sol                                 16715 non-null float64\n",
      "final.output.tail_au                                  16794 non-null float64\n",
      "primary_cleaner.input.sulfate                         15553 non-null float64\n",
      "primary_cleaner.input.depressant                      15598 non-null float64\n",
      "primary_cleaner.input.feed_size                       16860 non-null float64\n",
      "primary_cleaner.input.xanthate                        15875 non-null float64\n",
      "primary_cleaner.output.concentrate_ag                 16778 non-null float64\n",
      "primary_cleaner.output.concentrate_pb                 16502 non-null float64\n",
      "primary_cleaner.output.concentrate_sol                16224 non-null float64\n",
      "primary_cleaner.output.concentrate_au                 16778 non-null float64\n",
      "primary_cleaner.output.tail_ag                        16777 non-null float64\n",
      "primary_cleaner.output.tail_pb                        16761 non-null float64\n",
      "primary_cleaner.output.tail_sol                       16579 non-null float64\n",
      "primary_cleaner.output.tail_au                        16777 non-null float64\n",
      "primary_cleaner.state.floatbank8_a_air                16820 non-null float64\n",
      "primary_cleaner.state.floatbank8_a_level              16827 non-null float64\n",
      "primary_cleaner.state.floatbank8_b_air                16820 non-null float64\n",
      "primary_cleaner.state.floatbank8_b_level              16833 non-null float64\n",
      "primary_cleaner.state.floatbank8_c_air                16822 non-null float64\n",
      "primary_cleaner.state.floatbank8_c_level              16833 non-null float64\n",
      "primary_cleaner.state.floatbank8_d_air                16821 non-null float64\n",
      "primary_cleaner.state.floatbank8_d_level              16833 non-null float64\n",
      "rougher.calculation.sulfate_to_au_concentrate         16833 non-null float64\n",
      "rougher.calculation.floatbank10_sulfate_to_au_feed    16833 non-null float64\n",
      "rougher.calculation.floatbank11_sulfate_to_au_feed    16833 non-null float64\n",
      "rougher.calculation.au_pb_ratio                       15618 non-null float64\n",
      "rougher.input.feed_ag                                 16778 non-null float64\n",
      "rougher.input.feed_pb                                 16632 non-null float64\n",
      "rougher.input.feed_rate                               16347 non-null float64\n",
      "rougher.input.feed_size                               16443 non-null float64\n",
      "rougher.input.feed_sol                                16568 non-null float64\n",
      "rougher.input.feed_au                                 16777 non-null float64\n",
      "rougher.input.floatbank10_sulfate                     15816 non-null float64\n",
      "rougher.input.floatbank10_xanthate                    16514 non-null float64\n",
      "rougher.input.floatbank11_sulfate                     16237 non-null float64\n",
      "rougher.input.floatbank11_xanthate                    14956 non-null float64\n",
      "rougher.output.concentrate_ag                         16778 non-null float64\n",
      "rougher.output.concentrate_pb                         16778 non-null float64\n",
      "rougher.output.concentrate_sol                        16698 non-null float64\n",
      "rougher.output.concentrate_au                         16778 non-null float64\n",
      "rougher.output.recovery                               14287 non-null float64\n",
      "rougher.output.tail_ag                                14610 non-null float64\n",
      "rougher.output.tail_pb                                16778 non-null float64\n",
      "rougher.output.tail_sol                               14611 non-null float64\n",
      "rougher.output.tail_au                                14611 non-null float64\n",
      "rougher.state.floatbank10_a_air                       16807 non-null float64\n",
      "rougher.state.floatbank10_a_level                     16807 non-null float64\n",
      "rougher.state.floatbank10_b_air                       16807 non-null float64\n",
      "rougher.state.floatbank10_b_level                     16807 non-null float64\n",
      "rougher.state.floatbank10_c_air                       16807 non-null float64\n",
      "rougher.state.floatbank10_c_level                     16814 non-null float64\n",
      "rougher.state.floatbank10_d_air                       16802 non-null float64\n",
      "rougher.state.floatbank10_d_level                     16809 non-null float64\n",
      "rougher.state.floatbank10_e_air                       16257 non-null float64\n",
      "rougher.state.floatbank10_e_level                     16809 non-null float64\n",
      "rougher.state.floatbank10_f_air                       16802 non-null float64\n",
      "rougher.state.floatbank10_f_level                     16802 non-null float64\n",
      "secondary_cleaner.output.tail_ag                      16776 non-null float64\n",
      "secondary_cleaner.output.tail_pb                      16764 non-null float64\n",
      "secondary_cleaner.output.tail_sol                     14874 non-null float64\n",
      "secondary_cleaner.output.tail_au                      16778 non-null float64\n",
      "secondary_cleaner.state.floatbank2_a_air              16497 non-null float64\n",
      "secondary_cleaner.state.floatbank2_a_level            16751 non-null float64\n",
      "secondary_cleaner.state.floatbank2_b_air              16705 non-null float64\n",
      "secondary_cleaner.state.floatbank2_b_level            16748 non-null float64\n",
      "secondary_cleaner.state.floatbank3_a_air              16763 non-null float64\n",
      "secondary_cleaner.state.floatbank3_a_level            16747 non-null float64\n",
      "secondary_cleaner.state.floatbank3_b_air              16752 non-null float64\n",
      "secondary_cleaner.state.floatbank3_b_level            16750 non-null float64\n",
      "secondary_cleaner.state.floatbank4_a_air              16731 non-null float64\n",
      "secondary_cleaner.state.floatbank4_a_level            16747 non-null float64\n",
      "secondary_cleaner.state.floatbank4_b_air              16768 non-null float64\n",
      "secondary_cleaner.state.floatbank4_b_level            16767 non-null float64\n",
      "secondary_cleaner.state.floatbank5_a_air              16775 non-null float64\n",
      "secondary_cleaner.state.floatbank5_a_level            16775 non-null float64\n",
      "secondary_cleaner.state.floatbank5_b_air              16775 non-null float64\n",
      "secondary_cleaner.state.floatbank5_b_level            16776 non-null float64\n",
      "secondary_cleaner.state.floatbank6_a_air              16757 non-null float64\n",
      "secondary_cleaner.state.floatbank6_a_level            16775 non-null float64\n",
      "dtypes: float64(86), object(1)\n",
      "memory usage: 11.2+ MB\n"
     ]
    },
    {
     "data": {
      "text/html": [
       "<div>\n",
       "<style scoped>\n",
       "    .dataframe tbody tr th:only-of-type {\n",
       "        vertical-align: middle;\n",
       "    }\n",
       "\n",
       "    .dataframe tbody tr th {\n",
       "        vertical-align: top;\n",
       "    }\n",
       "\n",
       "    .dataframe thead th {\n",
       "        text-align: right;\n",
       "    }\n",
       "</style>\n",
       "<table border=\"1\" class=\"dataframe\">\n",
       "  <thead>\n",
       "    <tr style=\"text-align: right;\">\n",
       "      <th></th>\n",
       "      <th>date</th>\n",
       "      <th>final.output.concentrate_ag</th>\n",
       "      <th>final.output.concentrate_pb</th>\n",
       "      <th>final.output.concentrate_sol</th>\n",
       "      <th>final.output.concentrate_au</th>\n",
       "      <th>final.output.recovery</th>\n",
       "      <th>final.output.tail_ag</th>\n",
       "      <th>final.output.tail_pb</th>\n",
       "      <th>final.output.tail_sol</th>\n",
       "      <th>final.output.tail_au</th>\n",
       "      <th>...</th>\n",
       "      <th>secondary_cleaner.state.floatbank4_a_air</th>\n",
       "      <th>secondary_cleaner.state.floatbank4_a_level</th>\n",
       "      <th>secondary_cleaner.state.floatbank4_b_air</th>\n",
       "      <th>secondary_cleaner.state.floatbank4_b_level</th>\n",
       "      <th>secondary_cleaner.state.floatbank5_a_air</th>\n",
       "      <th>secondary_cleaner.state.floatbank5_a_level</th>\n",
       "      <th>secondary_cleaner.state.floatbank5_b_air</th>\n",
       "      <th>secondary_cleaner.state.floatbank5_b_level</th>\n",
       "      <th>secondary_cleaner.state.floatbank6_a_air</th>\n",
       "      <th>secondary_cleaner.state.floatbank6_a_level</th>\n",
       "    </tr>\n",
       "  </thead>\n",
       "  <tbody>\n",
       "    <tr>\n",
       "      <td>0</td>\n",
       "      <td>2016-01-15 00:00:00</td>\n",
       "      <td>6.055403</td>\n",
       "      <td>9.889648</td>\n",
       "      <td>5.507324</td>\n",
       "      <td>42.192020</td>\n",
       "      <td>70.541216</td>\n",
       "      <td>10.411962</td>\n",
       "      <td>0.895447</td>\n",
       "      <td>16.904297</td>\n",
       "      <td>2.143149</td>\n",
       "      <td>...</td>\n",
       "      <td>14.016835</td>\n",
       "      <td>-502.488007</td>\n",
       "      <td>12.099931</td>\n",
       "      <td>-504.715942</td>\n",
       "      <td>9.925633</td>\n",
       "      <td>-498.310211</td>\n",
       "      <td>8.079666</td>\n",
       "      <td>-500.470978</td>\n",
       "      <td>14.151341</td>\n",
       "      <td>-605.841980</td>\n",
       "    </tr>\n",
       "    <tr>\n",
       "      <td>1</td>\n",
       "      <td>2016-01-15 01:00:00</td>\n",
       "      <td>6.029369</td>\n",
       "      <td>9.968944</td>\n",
       "      <td>5.257781</td>\n",
       "      <td>42.701629</td>\n",
       "      <td>69.266198</td>\n",
       "      <td>10.462676</td>\n",
       "      <td>0.927452</td>\n",
       "      <td>16.634514</td>\n",
       "      <td>2.224930</td>\n",
       "      <td>...</td>\n",
       "      <td>13.992281</td>\n",
       "      <td>-505.503262</td>\n",
       "      <td>11.950531</td>\n",
       "      <td>-501.331529</td>\n",
       "      <td>10.039245</td>\n",
       "      <td>-500.169983</td>\n",
       "      <td>7.984757</td>\n",
       "      <td>-500.582168</td>\n",
       "      <td>13.998353</td>\n",
       "      <td>-599.787184</td>\n",
       "    </tr>\n",
       "    <tr>\n",
       "      <td>2</td>\n",
       "      <td>2016-01-15 02:00:00</td>\n",
       "      <td>6.055926</td>\n",
       "      <td>10.213995</td>\n",
       "      <td>5.383759</td>\n",
       "      <td>42.657501</td>\n",
       "      <td>68.116445</td>\n",
       "      <td>10.507046</td>\n",
       "      <td>0.953716</td>\n",
       "      <td>16.208849</td>\n",
       "      <td>2.257889</td>\n",
       "      <td>...</td>\n",
       "      <td>14.015015</td>\n",
       "      <td>-502.520901</td>\n",
       "      <td>11.912783</td>\n",
       "      <td>-501.133383</td>\n",
       "      <td>10.070913</td>\n",
       "      <td>-500.129135</td>\n",
       "      <td>8.013877</td>\n",
       "      <td>-500.517572</td>\n",
       "      <td>14.028663</td>\n",
       "      <td>-601.427363</td>\n",
       "    </tr>\n",
       "    <tr>\n",
       "      <td>3</td>\n",
       "      <td>2016-01-15 03:00:00</td>\n",
       "      <td>6.047977</td>\n",
       "      <td>9.977019</td>\n",
       "      <td>4.858634</td>\n",
       "      <td>42.689819</td>\n",
       "      <td>68.347543</td>\n",
       "      <td>10.422762</td>\n",
       "      <td>0.883763</td>\n",
       "      <td>16.532835</td>\n",
       "      <td>2.146849</td>\n",
       "      <td>...</td>\n",
       "      <td>14.036510</td>\n",
       "      <td>-500.857308</td>\n",
       "      <td>11.999550</td>\n",
       "      <td>-501.193686</td>\n",
       "      <td>9.970366</td>\n",
       "      <td>-499.201640</td>\n",
       "      <td>7.977324</td>\n",
       "      <td>-500.255908</td>\n",
       "      <td>14.005551</td>\n",
       "      <td>-599.996129</td>\n",
       "    </tr>\n",
       "    <tr>\n",
       "      <td>4</td>\n",
       "      <td>2016-01-15 04:00:00</td>\n",
       "      <td>6.148599</td>\n",
       "      <td>10.142511</td>\n",
       "      <td>4.939416</td>\n",
       "      <td>42.774141</td>\n",
       "      <td>66.927016</td>\n",
       "      <td>10.360302</td>\n",
       "      <td>0.792826</td>\n",
       "      <td>16.525686</td>\n",
       "      <td>2.055292</td>\n",
       "      <td>...</td>\n",
       "      <td>14.027298</td>\n",
       "      <td>-499.838632</td>\n",
       "      <td>11.953070</td>\n",
       "      <td>-501.053894</td>\n",
       "      <td>9.925709</td>\n",
       "      <td>-501.686727</td>\n",
       "      <td>7.894242</td>\n",
       "      <td>-500.356035</td>\n",
       "      <td>13.996647</td>\n",
       "      <td>-601.496691</td>\n",
       "    </tr>\n",
       "  </tbody>\n",
       "</table>\n",
       "<p>5 rows × 87 columns</p>\n",
       "</div>"
      ],
      "text/plain": [
       "                  date  final.output.concentrate_ag  \\\n",
       "0  2016-01-15 00:00:00                     6.055403   \n",
       "1  2016-01-15 01:00:00                     6.029369   \n",
       "2  2016-01-15 02:00:00                     6.055926   \n",
       "3  2016-01-15 03:00:00                     6.047977   \n",
       "4  2016-01-15 04:00:00                     6.148599   \n",
       "\n",
       "   final.output.concentrate_pb  final.output.concentrate_sol  \\\n",
       "0                     9.889648                      5.507324   \n",
       "1                     9.968944                      5.257781   \n",
       "2                    10.213995                      5.383759   \n",
       "3                     9.977019                      4.858634   \n",
       "4                    10.142511                      4.939416   \n",
       "\n",
       "   final.output.concentrate_au  final.output.recovery  final.output.tail_ag  \\\n",
       "0                    42.192020              70.541216             10.411962   \n",
       "1                    42.701629              69.266198             10.462676   \n",
       "2                    42.657501              68.116445             10.507046   \n",
       "3                    42.689819              68.347543             10.422762   \n",
       "4                    42.774141              66.927016             10.360302   \n",
       "\n",
       "   final.output.tail_pb  final.output.tail_sol  final.output.tail_au  ...  \\\n",
       "0              0.895447              16.904297              2.143149  ...   \n",
       "1              0.927452              16.634514              2.224930  ...   \n",
       "2              0.953716              16.208849              2.257889  ...   \n",
       "3              0.883763              16.532835              2.146849  ...   \n",
       "4              0.792826              16.525686              2.055292  ...   \n",
       "\n",
       "   secondary_cleaner.state.floatbank4_a_air  \\\n",
       "0                                 14.016835   \n",
       "1                                 13.992281   \n",
       "2                                 14.015015   \n",
       "3                                 14.036510   \n",
       "4                                 14.027298   \n",
       "\n",
       "   secondary_cleaner.state.floatbank4_a_level  \\\n",
       "0                                 -502.488007   \n",
       "1                                 -505.503262   \n",
       "2                                 -502.520901   \n",
       "3                                 -500.857308   \n",
       "4                                 -499.838632   \n",
       "\n",
       "   secondary_cleaner.state.floatbank4_b_air  \\\n",
       "0                                 12.099931   \n",
       "1                                 11.950531   \n",
       "2                                 11.912783   \n",
       "3                                 11.999550   \n",
       "4                                 11.953070   \n",
       "\n",
       "   secondary_cleaner.state.floatbank4_b_level  \\\n",
       "0                                 -504.715942   \n",
       "1                                 -501.331529   \n",
       "2                                 -501.133383   \n",
       "3                                 -501.193686   \n",
       "4                                 -501.053894   \n",
       "\n",
       "   secondary_cleaner.state.floatbank5_a_air  \\\n",
       "0                                  9.925633   \n",
       "1                                 10.039245   \n",
       "2                                 10.070913   \n",
       "3                                  9.970366   \n",
       "4                                  9.925709   \n",
       "\n",
       "   secondary_cleaner.state.floatbank5_a_level  \\\n",
       "0                                 -498.310211   \n",
       "1                                 -500.169983   \n",
       "2                                 -500.129135   \n",
       "3                                 -499.201640   \n",
       "4                                 -501.686727   \n",
       "\n",
       "   secondary_cleaner.state.floatbank5_b_air  \\\n",
       "0                                  8.079666   \n",
       "1                                  7.984757   \n",
       "2                                  8.013877   \n",
       "3                                  7.977324   \n",
       "4                                  7.894242   \n",
       "\n",
       "   secondary_cleaner.state.floatbank5_b_level  \\\n",
       "0                                 -500.470978   \n",
       "1                                 -500.582168   \n",
       "2                                 -500.517572   \n",
       "3                                 -500.255908   \n",
       "4                                 -500.356035   \n",
       "\n",
       "   secondary_cleaner.state.floatbank6_a_air  \\\n",
       "0                                 14.151341   \n",
       "1                                 13.998353   \n",
       "2                                 14.028663   \n",
       "3                                 14.005551   \n",
       "4                                 13.996647   \n",
       "\n",
       "   secondary_cleaner.state.floatbank6_a_level  \n",
       "0                                 -605.841980  \n",
       "1                                 -599.787184  \n",
       "2                                 -601.427363  \n",
       "3                                 -599.996129  \n",
       "4                                 -601.496691  \n",
       "\n",
       "[5 rows x 87 columns]"
      ]
     },
     "execution_count": 3,
     "metadata": {},
     "output_type": "execute_result"
    }
   ],
   "source": [
    "data_train = pd.read_csv('/datasets/gold_recovery_train.csv')\n",
    "data_train.info()\n",
    "data_train.head()"
   ]
  },
  {
   "cell_type": "code",
   "execution_count": 4,
   "metadata": {
    "scrolled": true
   },
   "outputs": [
    {
     "name": "stdout",
     "output_type": "stream",
     "text": [
      "<class 'pandas.core.frame.DataFrame'>\n",
      "RangeIndex: 5856 entries, 0 to 5855\n",
      "Data columns (total 53 columns):\n",
      "date                                          5856 non-null object\n",
      "primary_cleaner.input.sulfate                 5554 non-null float64\n",
      "primary_cleaner.input.depressant              5572 non-null float64\n",
      "primary_cleaner.input.feed_size               5856 non-null float64\n",
      "primary_cleaner.input.xanthate                5690 non-null float64\n",
      "primary_cleaner.state.floatbank8_a_air        5840 non-null float64\n",
      "primary_cleaner.state.floatbank8_a_level      5840 non-null float64\n",
      "primary_cleaner.state.floatbank8_b_air        5840 non-null float64\n",
      "primary_cleaner.state.floatbank8_b_level      5840 non-null float64\n",
      "primary_cleaner.state.floatbank8_c_air        5840 non-null float64\n",
      "primary_cleaner.state.floatbank8_c_level      5840 non-null float64\n",
      "primary_cleaner.state.floatbank8_d_air        5840 non-null float64\n",
      "primary_cleaner.state.floatbank8_d_level      5840 non-null float64\n",
      "rougher.input.feed_ag                         5840 non-null float64\n",
      "rougher.input.feed_pb                         5840 non-null float64\n",
      "rougher.input.feed_rate                       5816 non-null float64\n",
      "rougher.input.feed_size                       5834 non-null float64\n",
      "rougher.input.feed_sol                        5789 non-null float64\n",
      "rougher.input.feed_au                         5840 non-null float64\n",
      "rougher.input.floatbank10_sulfate             5599 non-null float64\n",
      "rougher.input.floatbank10_xanthate            5733 non-null float64\n",
      "rougher.input.floatbank11_sulfate             5801 non-null float64\n",
      "rougher.input.floatbank11_xanthate            5503 non-null float64\n",
      "rougher.state.floatbank10_a_air               5839 non-null float64\n",
      "rougher.state.floatbank10_a_level             5840 non-null float64\n",
      "rougher.state.floatbank10_b_air               5839 non-null float64\n",
      "rougher.state.floatbank10_b_level             5840 non-null float64\n",
      "rougher.state.floatbank10_c_air               5839 non-null float64\n",
      "rougher.state.floatbank10_c_level             5840 non-null float64\n",
      "rougher.state.floatbank10_d_air               5839 non-null float64\n",
      "rougher.state.floatbank10_d_level             5840 non-null float64\n",
      "rougher.state.floatbank10_e_air               5839 non-null float64\n",
      "rougher.state.floatbank10_e_level             5840 non-null float64\n",
      "rougher.state.floatbank10_f_air               5839 non-null float64\n",
      "rougher.state.floatbank10_f_level             5840 non-null float64\n",
      "secondary_cleaner.state.floatbank2_a_air      5836 non-null float64\n",
      "secondary_cleaner.state.floatbank2_a_level    5840 non-null float64\n",
      "secondary_cleaner.state.floatbank2_b_air      5833 non-null float64\n",
      "secondary_cleaner.state.floatbank2_b_level    5840 non-null float64\n",
      "secondary_cleaner.state.floatbank3_a_air      5822 non-null float64\n",
      "secondary_cleaner.state.floatbank3_a_level    5840 non-null float64\n",
      "secondary_cleaner.state.floatbank3_b_air      5840 non-null float64\n",
      "secondary_cleaner.state.floatbank3_b_level    5840 non-null float64\n",
      "secondary_cleaner.state.floatbank4_a_air      5840 non-null float64\n",
      "secondary_cleaner.state.floatbank4_a_level    5840 non-null float64\n",
      "secondary_cleaner.state.floatbank4_b_air      5840 non-null float64\n",
      "secondary_cleaner.state.floatbank4_b_level    5840 non-null float64\n",
      "secondary_cleaner.state.floatbank5_a_air      5840 non-null float64\n",
      "secondary_cleaner.state.floatbank5_a_level    5840 non-null float64\n",
      "secondary_cleaner.state.floatbank5_b_air      5840 non-null float64\n",
      "secondary_cleaner.state.floatbank5_b_level    5840 non-null float64\n",
      "secondary_cleaner.state.floatbank6_a_air      5840 non-null float64\n",
      "secondary_cleaner.state.floatbank6_a_level    5840 non-null float64\n",
      "dtypes: float64(52), object(1)\n",
      "memory usage: 2.4+ MB\n"
     ]
    },
    {
     "data": {
      "text/html": [
       "<div>\n",
       "<style scoped>\n",
       "    .dataframe tbody tr th:only-of-type {\n",
       "        vertical-align: middle;\n",
       "    }\n",
       "\n",
       "    .dataframe tbody tr th {\n",
       "        vertical-align: top;\n",
       "    }\n",
       "\n",
       "    .dataframe thead th {\n",
       "        text-align: right;\n",
       "    }\n",
       "</style>\n",
       "<table border=\"1\" class=\"dataframe\">\n",
       "  <thead>\n",
       "    <tr style=\"text-align: right;\">\n",
       "      <th></th>\n",
       "      <th>date</th>\n",
       "      <th>primary_cleaner.input.sulfate</th>\n",
       "      <th>primary_cleaner.input.depressant</th>\n",
       "      <th>primary_cleaner.input.feed_size</th>\n",
       "      <th>primary_cleaner.input.xanthate</th>\n",
       "      <th>primary_cleaner.state.floatbank8_a_air</th>\n",
       "      <th>primary_cleaner.state.floatbank8_a_level</th>\n",
       "      <th>primary_cleaner.state.floatbank8_b_air</th>\n",
       "      <th>primary_cleaner.state.floatbank8_b_level</th>\n",
       "      <th>primary_cleaner.state.floatbank8_c_air</th>\n",
       "      <th>...</th>\n",
       "      <th>secondary_cleaner.state.floatbank4_a_air</th>\n",
       "      <th>secondary_cleaner.state.floatbank4_a_level</th>\n",
       "      <th>secondary_cleaner.state.floatbank4_b_air</th>\n",
       "      <th>secondary_cleaner.state.floatbank4_b_level</th>\n",
       "      <th>secondary_cleaner.state.floatbank5_a_air</th>\n",
       "      <th>secondary_cleaner.state.floatbank5_a_level</th>\n",
       "      <th>secondary_cleaner.state.floatbank5_b_air</th>\n",
       "      <th>secondary_cleaner.state.floatbank5_b_level</th>\n",
       "      <th>secondary_cleaner.state.floatbank6_a_air</th>\n",
       "      <th>secondary_cleaner.state.floatbank6_a_level</th>\n",
       "    </tr>\n",
       "  </thead>\n",
       "  <tbody>\n",
       "    <tr>\n",
       "      <td>0</td>\n",
       "      <td>2016-09-01 00:59:59</td>\n",
       "      <td>210.800909</td>\n",
       "      <td>14.993118</td>\n",
       "      <td>8.080000</td>\n",
       "      <td>1.005021</td>\n",
       "      <td>1398.981301</td>\n",
       "      <td>-500.225577</td>\n",
       "      <td>1399.144926</td>\n",
       "      <td>-499.919735</td>\n",
       "      <td>1400.102998</td>\n",
       "      <td>...</td>\n",
       "      <td>12.023554</td>\n",
       "      <td>-497.795834</td>\n",
       "      <td>8.016656</td>\n",
       "      <td>-501.289139</td>\n",
       "      <td>7.946562</td>\n",
       "      <td>-432.317850</td>\n",
       "      <td>4.872511</td>\n",
       "      <td>-500.037437</td>\n",
       "      <td>26.705889</td>\n",
       "      <td>-499.709414</td>\n",
       "    </tr>\n",
       "    <tr>\n",
       "      <td>1</td>\n",
       "      <td>2016-09-01 01:59:59</td>\n",
       "      <td>215.392455</td>\n",
       "      <td>14.987471</td>\n",
       "      <td>8.080000</td>\n",
       "      <td>0.990469</td>\n",
       "      <td>1398.777912</td>\n",
       "      <td>-500.057435</td>\n",
       "      <td>1398.055362</td>\n",
       "      <td>-499.778182</td>\n",
       "      <td>1396.151033</td>\n",
       "      <td>...</td>\n",
       "      <td>12.058140</td>\n",
       "      <td>-498.695773</td>\n",
       "      <td>8.130979</td>\n",
       "      <td>-499.634209</td>\n",
       "      <td>7.958270</td>\n",
       "      <td>-525.839648</td>\n",
       "      <td>4.878850</td>\n",
       "      <td>-500.162375</td>\n",
       "      <td>25.019940</td>\n",
       "      <td>-499.819438</td>\n",
       "    </tr>\n",
       "    <tr>\n",
       "      <td>2</td>\n",
       "      <td>2016-09-01 02:59:59</td>\n",
       "      <td>215.259946</td>\n",
       "      <td>12.884934</td>\n",
       "      <td>7.786667</td>\n",
       "      <td>0.996043</td>\n",
       "      <td>1398.493666</td>\n",
       "      <td>-500.868360</td>\n",
       "      <td>1398.860436</td>\n",
       "      <td>-499.764529</td>\n",
       "      <td>1398.075709</td>\n",
       "      <td>...</td>\n",
       "      <td>11.962366</td>\n",
       "      <td>-498.767484</td>\n",
       "      <td>8.096893</td>\n",
       "      <td>-500.827423</td>\n",
       "      <td>8.071056</td>\n",
       "      <td>-500.801673</td>\n",
       "      <td>4.905125</td>\n",
       "      <td>-499.828510</td>\n",
       "      <td>24.994862</td>\n",
       "      <td>-500.622559</td>\n",
       "    </tr>\n",
       "    <tr>\n",
       "      <td>3</td>\n",
       "      <td>2016-09-01 03:59:59</td>\n",
       "      <td>215.336236</td>\n",
       "      <td>12.006805</td>\n",
       "      <td>7.640000</td>\n",
       "      <td>0.863514</td>\n",
       "      <td>1399.618111</td>\n",
       "      <td>-498.863574</td>\n",
       "      <td>1397.440120</td>\n",
       "      <td>-499.211024</td>\n",
       "      <td>1400.129303</td>\n",
       "      <td>...</td>\n",
       "      <td>12.033091</td>\n",
       "      <td>-498.350935</td>\n",
       "      <td>8.074946</td>\n",
       "      <td>-499.474407</td>\n",
       "      <td>7.897085</td>\n",
       "      <td>-500.868509</td>\n",
       "      <td>4.931400</td>\n",
       "      <td>-499.963623</td>\n",
       "      <td>24.948919</td>\n",
       "      <td>-498.709987</td>\n",
       "    </tr>\n",
       "    <tr>\n",
       "      <td>4</td>\n",
       "      <td>2016-09-01 04:59:59</td>\n",
       "      <td>199.099327</td>\n",
       "      <td>10.682530</td>\n",
       "      <td>7.530000</td>\n",
       "      <td>0.805575</td>\n",
       "      <td>1401.268123</td>\n",
       "      <td>-500.808305</td>\n",
       "      <td>1398.128818</td>\n",
       "      <td>-499.504543</td>\n",
       "      <td>1402.172226</td>\n",
       "      <td>...</td>\n",
       "      <td>12.025367</td>\n",
       "      <td>-500.786497</td>\n",
       "      <td>8.054678</td>\n",
       "      <td>-500.397500</td>\n",
       "      <td>8.107890</td>\n",
       "      <td>-509.526725</td>\n",
       "      <td>4.957674</td>\n",
       "      <td>-500.360026</td>\n",
       "      <td>25.003331</td>\n",
       "      <td>-500.856333</td>\n",
       "    </tr>\n",
       "  </tbody>\n",
       "</table>\n",
       "<p>5 rows × 53 columns</p>\n",
       "</div>"
      ],
      "text/plain": [
       "                  date  primary_cleaner.input.sulfate  \\\n",
       "0  2016-09-01 00:59:59                     210.800909   \n",
       "1  2016-09-01 01:59:59                     215.392455   \n",
       "2  2016-09-01 02:59:59                     215.259946   \n",
       "3  2016-09-01 03:59:59                     215.336236   \n",
       "4  2016-09-01 04:59:59                     199.099327   \n",
       "\n",
       "   primary_cleaner.input.depressant  primary_cleaner.input.feed_size  \\\n",
       "0                         14.993118                         8.080000   \n",
       "1                         14.987471                         8.080000   \n",
       "2                         12.884934                         7.786667   \n",
       "3                         12.006805                         7.640000   \n",
       "4                         10.682530                         7.530000   \n",
       "\n",
       "   primary_cleaner.input.xanthate  primary_cleaner.state.floatbank8_a_air  \\\n",
       "0                        1.005021                             1398.981301   \n",
       "1                        0.990469                             1398.777912   \n",
       "2                        0.996043                             1398.493666   \n",
       "3                        0.863514                             1399.618111   \n",
       "4                        0.805575                             1401.268123   \n",
       "\n",
       "   primary_cleaner.state.floatbank8_a_level  \\\n",
       "0                               -500.225577   \n",
       "1                               -500.057435   \n",
       "2                               -500.868360   \n",
       "3                               -498.863574   \n",
       "4                               -500.808305   \n",
       "\n",
       "   primary_cleaner.state.floatbank8_b_air  \\\n",
       "0                             1399.144926   \n",
       "1                             1398.055362   \n",
       "2                             1398.860436   \n",
       "3                             1397.440120   \n",
       "4                             1398.128818   \n",
       "\n",
       "   primary_cleaner.state.floatbank8_b_level  \\\n",
       "0                               -499.919735   \n",
       "1                               -499.778182   \n",
       "2                               -499.764529   \n",
       "3                               -499.211024   \n",
       "4                               -499.504543   \n",
       "\n",
       "   primary_cleaner.state.floatbank8_c_air  ...  \\\n",
       "0                             1400.102998  ...   \n",
       "1                             1396.151033  ...   \n",
       "2                             1398.075709  ...   \n",
       "3                             1400.129303  ...   \n",
       "4                             1402.172226  ...   \n",
       "\n",
       "   secondary_cleaner.state.floatbank4_a_air  \\\n",
       "0                                 12.023554   \n",
       "1                                 12.058140   \n",
       "2                                 11.962366   \n",
       "3                                 12.033091   \n",
       "4                                 12.025367   \n",
       "\n",
       "   secondary_cleaner.state.floatbank4_a_level  \\\n",
       "0                                 -497.795834   \n",
       "1                                 -498.695773   \n",
       "2                                 -498.767484   \n",
       "3                                 -498.350935   \n",
       "4                                 -500.786497   \n",
       "\n",
       "   secondary_cleaner.state.floatbank4_b_air  \\\n",
       "0                                  8.016656   \n",
       "1                                  8.130979   \n",
       "2                                  8.096893   \n",
       "3                                  8.074946   \n",
       "4                                  8.054678   \n",
       "\n",
       "   secondary_cleaner.state.floatbank4_b_level  \\\n",
       "0                                 -501.289139   \n",
       "1                                 -499.634209   \n",
       "2                                 -500.827423   \n",
       "3                                 -499.474407   \n",
       "4                                 -500.397500   \n",
       "\n",
       "   secondary_cleaner.state.floatbank5_a_air  \\\n",
       "0                                  7.946562   \n",
       "1                                  7.958270   \n",
       "2                                  8.071056   \n",
       "3                                  7.897085   \n",
       "4                                  8.107890   \n",
       "\n",
       "   secondary_cleaner.state.floatbank5_a_level  \\\n",
       "0                                 -432.317850   \n",
       "1                                 -525.839648   \n",
       "2                                 -500.801673   \n",
       "3                                 -500.868509   \n",
       "4                                 -509.526725   \n",
       "\n",
       "   secondary_cleaner.state.floatbank5_b_air  \\\n",
       "0                                  4.872511   \n",
       "1                                  4.878850   \n",
       "2                                  4.905125   \n",
       "3                                  4.931400   \n",
       "4                                  4.957674   \n",
       "\n",
       "   secondary_cleaner.state.floatbank5_b_level  \\\n",
       "0                                 -500.037437   \n",
       "1                                 -500.162375   \n",
       "2                                 -499.828510   \n",
       "3                                 -499.963623   \n",
       "4                                 -500.360026   \n",
       "\n",
       "   secondary_cleaner.state.floatbank6_a_air  \\\n",
       "0                                 26.705889   \n",
       "1                                 25.019940   \n",
       "2                                 24.994862   \n",
       "3                                 24.948919   \n",
       "4                                 25.003331   \n",
       "\n",
       "   secondary_cleaner.state.floatbank6_a_level  \n",
       "0                                 -499.709414  \n",
       "1                                 -499.819438  \n",
       "2                                 -500.622559  \n",
       "3                                 -498.709987  \n",
       "4                                 -500.856333  \n",
       "\n",
       "[5 rows x 53 columns]"
      ]
     },
     "execution_count": 4,
     "metadata": {},
     "output_type": "execute_result"
    }
   ],
   "source": [
    "data_test = pd.read_csv('/datasets/gold_recovery_test.csv')\n",
    "data_test.info()\n",
    "data_test.head()"
   ]
  },
  {
   "cell_type": "code",
   "execution_count": 5,
   "metadata": {},
   "outputs": [
    {
     "name": "stdout",
     "output_type": "stream",
     "text": [
      "<class 'pandas.core.frame.DataFrame'>\n",
      "RangeIndex: 22716 entries, 0 to 22715\n",
      "Data columns (total 87 columns):\n",
      "date                                                  22716 non-null object\n",
      "final.output.concentrate_ag                           22627 non-null float64\n",
      "final.output.concentrate_pb                           22629 non-null float64\n",
      "final.output.concentrate_sol                          22331 non-null float64\n",
      "final.output.concentrate_au                           22630 non-null float64\n",
      "final.output.recovery                                 20753 non-null float64\n",
      "final.output.tail_ag                                  22633 non-null float64\n",
      "final.output.tail_pb                                  22516 non-null float64\n",
      "final.output.tail_sol                                 22445 non-null float64\n",
      "final.output.tail_au                                  22635 non-null float64\n",
      "primary_cleaner.input.sulfate                         21107 non-null float64\n",
      "primary_cleaner.input.depressant                      21170 non-null float64\n",
      "primary_cleaner.input.feed_size                       22716 non-null float64\n",
      "primary_cleaner.input.xanthate                        21565 non-null float64\n",
      "primary_cleaner.output.concentrate_ag                 22618 non-null float64\n",
      "primary_cleaner.output.concentrate_pb                 22268 non-null float64\n",
      "primary_cleaner.output.concentrate_sol                21918 non-null float64\n",
      "primary_cleaner.output.concentrate_au                 22618 non-null float64\n",
      "primary_cleaner.output.tail_ag                        22614 non-null float64\n",
      "primary_cleaner.output.tail_pb                        22594 non-null float64\n",
      "primary_cleaner.output.tail_sol                       22365 non-null float64\n",
      "primary_cleaner.output.tail_au                        22617 non-null float64\n",
      "primary_cleaner.state.floatbank8_a_air                22660 non-null float64\n",
      "primary_cleaner.state.floatbank8_a_level              22667 non-null float64\n",
      "primary_cleaner.state.floatbank8_b_air                22660 non-null float64\n",
      "primary_cleaner.state.floatbank8_b_level              22673 non-null float64\n",
      "primary_cleaner.state.floatbank8_c_air                22662 non-null float64\n",
      "primary_cleaner.state.floatbank8_c_level              22673 non-null float64\n",
      "primary_cleaner.state.floatbank8_d_air                22661 non-null float64\n",
      "primary_cleaner.state.floatbank8_d_level              22673 non-null float64\n",
      "rougher.calculation.sulfate_to_au_concentrate         22672 non-null float64\n",
      "rougher.calculation.floatbank10_sulfate_to_au_feed    22672 non-null float64\n",
      "rougher.calculation.floatbank11_sulfate_to_au_feed    22672 non-null float64\n",
      "rougher.calculation.au_pb_ratio                       21089 non-null float64\n",
      "rougher.input.feed_ag                                 22618 non-null float64\n",
      "rougher.input.feed_pb                                 22472 non-null float64\n",
      "rougher.input.feed_rate                               22163 non-null float64\n",
      "rougher.input.feed_size                               22277 non-null float64\n",
      "rougher.input.feed_sol                                22357 non-null float64\n",
      "rougher.input.feed_au                                 22617 non-null float64\n",
      "rougher.input.floatbank10_sulfate                     21415 non-null float64\n",
      "rougher.input.floatbank10_xanthate                    22247 non-null float64\n",
      "rougher.input.floatbank11_sulfate                     22038 non-null float64\n",
      "rougher.input.floatbank11_xanthate                    20459 non-null float64\n",
      "rougher.output.concentrate_ag                         22618 non-null float64\n",
      "rougher.output.concentrate_pb                         22618 non-null float64\n",
      "rougher.output.concentrate_sol                        22526 non-null float64\n",
      "rougher.output.concentrate_au                         22618 non-null float64\n",
      "rougher.output.recovery                               19597 non-null float64\n",
      "rougher.output.tail_ag                                19979 non-null float64\n",
      "rougher.output.tail_pb                                22618 non-null float64\n",
      "rougher.output.tail_sol                               19980 non-null float64\n",
      "rougher.output.tail_au                                19980 non-null float64\n",
      "rougher.state.floatbank10_a_air                       22646 non-null float64\n",
      "rougher.state.floatbank10_a_level                     22647 non-null float64\n",
      "rougher.state.floatbank10_b_air                       22646 non-null float64\n",
      "rougher.state.floatbank10_b_level                     22647 non-null float64\n",
      "rougher.state.floatbank10_c_air                       22646 non-null float64\n",
      "rougher.state.floatbank10_c_level                     22654 non-null float64\n",
      "rougher.state.floatbank10_d_air                       22641 non-null float64\n",
      "rougher.state.floatbank10_d_level                     22649 non-null float64\n",
      "rougher.state.floatbank10_e_air                       22096 non-null float64\n",
      "rougher.state.floatbank10_e_level                     22649 non-null float64\n",
      "rougher.state.floatbank10_f_air                       22641 non-null float64\n",
      "rougher.state.floatbank10_f_level                     22642 non-null float64\n",
      "secondary_cleaner.output.tail_ag                      22616 non-null float64\n",
      "secondary_cleaner.output.tail_pb                      22600 non-null float64\n",
      "secondary_cleaner.output.tail_sol                     20501 non-null float64\n",
      "secondary_cleaner.output.tail_au                      22618 non-null float64\n",
      "secondary_cleaner.state.floatbank2_a_air              22333 non-null float64\n",
      "secondary_cleaner.state.floatbank2_a_level            22591 non-null float64\n",
      "secondary_cleaner.state.floatbank2_b_air              22538 non-null float64\n",
      "secondary_cleaner.state.floatbank2_b_level            22588 non-null float64\n",
      "secondary_cleaner.state.floatbank3_a_air              22585 non-null float64\n",
      "secondary_cleaner.state.floatbank3_a_level            22587 non-null float64\n",
      "secondary_cleaner.state.floatbank3_b_air              22592 non-null float64\n",
      "secondary_cleaner.state.floatbank3_b_level            22590 non-null float64\n",
      "secondary_cleaner.state.floatbank4_a_air              22571 non-null float64\n",
      "secondary_cleaner.state.floatbank4_a_level            22587 non-null float64\n",
      "secondary_cleaner.state.floatbank4_b_air              22608 non-null float64\n",
      "secondary_cleaner.state.floatbank4_b_level            22607 non-null float64\n",
      "secondary_cleaner.state.floatbank5_a_air              22615 non-null float64\n",
      "secondary_cleaner.state.floatbank5_a_level            22615 non-null float64\n",
      "secondary_cleaner.state.floatbank5_b_air              22615 non-null float64\n",
      "secondary_cleaner.state.floatbank5_b_level            22616 non-null float64\n",
      "secondary_cleaner.state.floatbank6_a_air              22597 non-null float64\n",
      "secondary_cleaner.state.floatbank6_a_level            22615 non-null float64\n",
      "dtypes: float64(86), object(1)\n",
      "memory usage: 15.1+ MB\n"
     ]
    },
    {
     "data": {
      "text/html": [
       "<div>\n",
       "<style scoped>\n",
       "    .dataframe tbody tr th:only-of-type {\n",
       "        vertical-align: middle;\n",
       "    }\n",
       "\n",
       "    .dataframe tbody tr th {\n",
       "        vertical-align: top;\n",
       "    }\n",
       "\n",
       "    .dataframe thead th {\n",
       "        text-align: right;\n",
       "    }\n",
       "</style>\n",
       "<table border=\"1\" class=\"dataframe\">\n",
       "  <thead>\n",
       "    <tr style=\"text-align: right;\">\n",
       "      <th></th>\n",
       "      <th>date</th>\n",
       "      <th>final.output.concentrate_ag</th>\n",
       "      <th>final.output.concentrate_pb</th>\n",
       "      <th>final.output.concentrate_sol</th>\n",
       "      <th>final.output.concentrate_au</th>\n",
       "      <th>final.output.recovery</th>\n",
       "      <th>final.output.tail_ag</th>\n",
       "      <th>final.output.tail_pb</th>\n",
       "      <th>final.output.tail_sol</th>\n",
       "      <th>final.output.tail_au</th>\n",
       "      <th>...</th>\n",
       "      <th>secondary_cleaner.state.floatbank4_a_air</th>\n",
       "      <th>secondary_cleaner.state.floatbank4_a_level</th>\n",
       "      <th>secondary_cleaner.state.floatbank4_b_air</th>\n",
       "      <th>secondary_cleaner.state.floatbank4_b_level</th>\n",
       "      <th>secondary_cleaner.state.floatbank5_a_air</th>\n",
       "      <th>secondary_cleaner.state.floatbank5_a_level</th>\n",
       "      <th>secondary_cleaner.state.floatbank5_b_air</th>\n",
       "      <th>secondary_cleaner.state.floatbank5_b_level</th>\n",
       "      <th>secondary_cleaner.state.floatbank6_a_air</th>\n",
       "      <th>secondary_cleaner.state.floatbank6_a_level</th>\n",
       "    </tr>\n",
       "  </thead>\n",
       "  <tbody>\n",
       "    <tr>\n",
       "      <td>0</td>\n",
       "      <td>2016-01-15 00:00:00</td>\n",
       "      <td>6.055403</td>\n",
       "      <td>9.889648</td>\n",
       "      <td>5.507324</td>\n",
       "      <td>42.192020</td>\n",
       "      <td>70.541216</td>\n",
       "      <td>10.411962</td>\n",
       "      <td>0.895447</td>\n",
       "      <td>16.904297</td>\n",
       "      <td>2.143149</td>\n",
       "      <td>...</td>\n",
       "      <td>14.016835</td>\n",
       "      <td>-502.488007</td>\n",
       "      <td>12.099931</td>\n",
       "      <td>-504.715942</td>\n",
       "      <td>9.925633</td>\n",
       "      <td>-498.310211</td>\n",
       "      <td>8.079666</td>\n",
       "      <td>-500.470978</td>\n",
       "      <td>14.151341</td>\n",
       "      <td>-605.841980</td>\n",
       "    </tr>\n",
       "    <tr>\n",
       "      <td>1</td>\n",
       "      <td>2016-01-15 01:00:00</td>\n",
       "      <td>6.029369</td>\n",
       "      <td>9.968944</td>\n",
       "      <td>5.257781</td>\n",
       "      <td>42.701629</td>\n",
       "      <td>69.266198</td>\n",
       "      <td>10.462676</td>\n",
       "      <td>0.927452</td>\n",
       "      <td>16.634514</td>\n",
       "      <td>2.224930</td>\n",
       "      <td>...</td>\n",
       "      <td>13.992281</td>\n",
       "      <td>-505.503262</td>\n",
       "      <td>11.950531</td>\n",
       "      <td>-501.331529</td>\n",
       "      <td>10.039245</td>\n",
       "      <td>-500.169983</td>\n",
       "      <td>7.984757</td>\n",
       "      <td>-500.582168</td>\n",
       "      <td>13.998353</td>\n",
       "      <td>-599.787184</td>\n",
       "    </tr>\n",
       "    <tr>\n",
       "      <td>2</td>\n",
       "      <td>2016-01-15 02:00:00</td>\n",
       "      <td>6.055926</td>\n",
       "      <td>10.213995</td>\n",
       "      <td>5.383759</td>\n",
       "      <td>42.657501</td>\n",
       "      <td>68.116445</td>\n",
       "      <td>10.507046</td>\n",
       "      <td>0.953716</td>\n",
       "      <td>16.208849</td>\n",
       "      <td>2.257889</td>\n",
       "      <td>...</td>\n",
       "      <td>14.015015</td>\n",
       "      <td>-502.520901</td>\n",
       "      <td>11.912783</td>\n",
       "      <td>-501.133383</td>\n",
       "      <td>10.070913</td>\n",
       "      <td>-500.129135</td>\n",
       "      <td>8.013877</td>\n",
       "      <td>-500.517572</td>\n",
       "      <td>14.028663</td>\n",
       "      <td>-601.427363</td>\n",
       "    </tr>\n",
       "    <tr>\n",
       "      <td>3</td>\n",
       "      <td>2016-01-15 03:00:00</td>\n",
       "      <td>6.047977</td>\n",
       "      <td>9.977019</td>\n",
       "      <td>4.858634</td>\n",
       "      <td>42.689819</td>\n",
       "      <td>68.347543</td>\n",
       "      <td>10.422762</td>\n",
       "      <td>0.883763</td>\n",
       "      <td>16.532835</td>\n",
       "      <td>2.146849</td>\n",
       "      <td>...</td>\n",
       "      <td>14.036510</td>\n",
       "      <td>-500.857308</td>\n",
       "      <td>11.999550</td>\n",
       "      <td>-501.193686</td>\n",
       "      <td>9.970366</td>\n",
       "      <td>-499.201640</td>\n",
       "      <td>7.977324</td>\n",
       "      <td>-500.255908</td>\n",
       "      <td>14.005551</td>\n",
       "      <td>-599.996129</td>\n",
       "    </tr>\n",
       "    <tr>\n",
       "      <td>4</td>\n",
       "      <td>2016-01-15 04:00:00</td>\n",
       "      <td>6.148599</td>\n",
       "      <td>10.142511</td>\n",
       "      <td>4.939416</td>\n",
       "      <td>42.774141</td>\n",
       "      <td>66.927016</td>\n",
       "      <td>10.360302</td>\n",
       "      <td>0.792826</td>\n",
       "      <td>16.525686</td>\n",
       "      <td>2.055292</td>\n",
       "      <td>...</td>\n",
       "      <td>14.027298</td>\n",
       "      <td>-499.838632</td>\n",
       "      <td>11.953070</td>\n",
       "      <td>-501.053894</td>\n",
       "      <td>9.925709</td>\n",
       "      <td>-501.686727</td>\n",
       "      <td>7.894242</td>\n",
       "      <td>-500.356035</td>\n",
       "      <td>13.996647</td>\n",
       "      <td>-601.496691</td>\n",
       "    </tr>\n",
       "  </tbody>\n",
       "</table>\n",
       "<p>5 rows × 87 columns</p>\n",
       "</div>"
      ],
      "text/plain": [
       "                  date  final.output.concentrate_ag  \\\n",
       "0  2016-01-15 00:00:00                     6.055403   \n",
       "1  2016-01-15 01:00:00                     6.029369   \n",
       "2  2016-01-15 02:00:00                     6.055926   \n",
       "3  2016-01-15 03:00:00                     6.047977   \n",
       "4  2016-01-15 04:00:00                     6.148599   \n",
       "\n",
       "   final.output.concentrate_pb  final.output.concentrate_sol  \\\n",
       "0                     9.889648                      5.507324   \n",
       "1                     9.968944                      5.257781   \n",
       "2                    10.213995                      5.383759   \n",
       "3                     9.977019                      4.858634   \n",
       "4                    10.142511                      4.939416   \n",
       "\n",
       "   final.output.concentrate_au  final.output.recovery  final.output.tail_ag  \\\n",
       "0                    42.192020              70.541216             10.411962   \n",
       "1                    42.701629              69.266198             10.462676   \n",
       "2                    42.657501              68.116445             10.507046   \n",
       "3                    42.689819              68.347543             10.422762   \n",
       "4                    42.774141              66.927016             10.360302   \n",
       "\n",
       "   final.output.tail_pb  final.output.tail_sol  final.output.tail_au  ...  \\\n",
       "0              0.895447              16.904297              2.143149  ...   \n",
       "1              0.927452              16.634514              2.224930  ...   \n",
       "2              0.953716              16.208849              2.257889  ...   \n",
       "3              0.883763              16.532835              2.146849  ...   \n",
       "4              0.792826              16.525686              2.055292  ...   \n",
       "\n",
       "   secondary_cleaner.state.floatbank4_a_air  \\\n",
       "0                                 14.016835   \n",
       "1                                 13.992281   \n",
       "2                                 14.015015   \n",
       "3                                 14.036510   \n",
       "4                                 14.027298   \n",
       "\n",
       "   secondary_cleaner.state.floatbank4_a_level  \\\n",
       "0                                 -502.488007   \n",
       "1                                 -505.503262   \n",
       "2                                 -502.520901   \n",
       "3                                 -500.857308   \n",
       "4                                 -499.838632   \n",
       "\n",
       "   secondary_cleaner.state.floatbank4_b_air  \\\n",
       "0                                 12.099931   \n",
       "1                                 11.950531   \n",
       "2                                 11.912783   \n",
       "3                                 11.999550   \n",
       "4                                 11.953070   \n",
       "\n",
       "   secondary_cleaner.state.floatbank4_b_level  \\\n",
       "0                                 -504.715942   \n",
       "1                                 -501.331529   \n",
       "2                                 -501.133383   \n",
       "3                                 -501.193686   \n",
       "4                                 -501.053894   \n",
       "\n",
       "   secondary_cleaner.state.floatbank5_a_air  \\\n",
       "0                                  9.925633   \n",
       "1                                 10.039245   \n",
       "2                                 10.070913   \n",
       "3                                  9.970366   \n",
       "4                                  9.925709   \n",
       "\n",
       "   secondary_cleaner.state.floatbank5_a_level  \\\n",
       "0                                 -498.310211   \n",
       "1                                 -500.169983   \n",
       "2                                 -500.129135   \n",
       "3                                 -499.201640   \n",
       "4                                 -501.686727   \n",
       "\n",
       "   secondary_cleaner.state.floatbank5_b_air  \\\n",
       "0                                  8.079666   \n",
       "1                                  7.984757   \n",
       "2                                  8.013877   \n",
       "3                                  7.977324   \n",
       "4                                  7.894242   \n",
       "\n",
       "   secondary_cleaner.state.floatbank5_b_level  \\\n",
       "0                                 -500.470978   \n",
       "1                                 -500.582168   \n",
       "2                                 -500.517572   \n",
       "3                                 -500.255908   \n",
       "4                                 -500.356035   \n",
       "\n",
       "   secondary_cleaner.state.floatbank6_a_air  \\\n",
       "0                                 14.151341   \n",
       "1                                 13.998353   \n",
       "2                                 14.028663   \n",
       "3                                 14.005551   \n",
       "4                                 13.996647   \n",
       "\n",
       "   secondary_cleaner.state.floatbank6_a_level  \n",
       "0                                 -605.841980  \n",
       "1                                 -599.787184  \n",
       "2                                 -601.427363  \n",
       "3                                 -599.996129  \n",
       "4                                 -601.496691  \n",
       "\n",
       "[5 rows x 87 columns]"
      ]
     },
     "execution_count": 5,
     "metadata": {},
     "output_type": "execute_result"
    }
   ],
   "source": [
    "data_full = pd.read_csv('/datasets/gold_recovery_full.csv')\n",
    "data_full.info()\n",
    "data_full.head()"
   ]
  },
  {
   "cell_type": "markdown",
   "metadata": {},
   "source": [
    "Я думаю, стоит удалить пропуски из целевого признака в обучающей выборке. Так же столбец с датой, он не понадобится для обучения. И удалить из обучающей выборки столбцы, отсутствующие в тестовой выборке.\n",
    "\n",
    "\n",
    "Аномальные значения исследуются в пункте 2, и пока это не требуется"
   ]
  },
  {
   "cell_type": "code",
   "execution_count": 6,
   "metadata": {},
   "outputs": [
    {
     "data": {
      "text/plain": [
       "9.444891926100695e-15"
      ]
     },
     "execution_count": 6,
     "metadata": {},
     "output_type": "execute_result"
    }
   ],
   "source": [
    "#Найдите MAE между вашими расчётами и значением признака\n",
    "def my_recovery(c, f, t):\n",
    "    rec = (c * (f - t)) / (f * (c - t)) * 100    \n",
    "    return rec\n",
    "\n",
    "data_rec = data_train[['rougher.output.concentrate_au', 'rougher.input.feed_au', 'rougher.output.tail_au', 'rougher.output.recovery']]\n",
    "data_rec = data_rec.dropna()\n",
    "data_rec['calc_rec'] = my_recovery(data_rec['rougher.output.concentrate_au'], data_rec['rougher.input.feed_au'], data_rec['rougher.output.tail_au'])\n",
    "data_rec.head()\n",
    "\n",
    "mae = mean_absolute_error(data_rec['rougher.output.recovery'], data_rec['calc_rec'])\n",
    "mae"
   ]
  },
  {
   "cell_type": "markdown",
   "metadata": {},
   "source": [
    "Полученное значение МАЕ (в %) порядка 10 в степени -15. Это очень мало, можно сказать, что эффективность обогащения в таблице с обучающей выборкой рассчитана правильно"
   ]
  },
  {
   "cell_type": "code",
   "execution_count": 7,
   "metadata": {},
   "outputs": [
    {
     "data": {
      "text/plain": [
       "{'final.output.concentrate_ag',\n",
       " 'final.output.concentrate_au',\n",
       " 'final.output.concentrate_pb',\n",
       " 'final.output.concentrate_sol',\n",
       " 'final.output.recovery',\n",
       " 'final.output.tail_ag',\n",
       " 'final.output.tail_au',\n",
       " 'final.output.tail_pb',\n",
       " 'final.output.tail_sol',\n",
       " 'primary_cleaner.output.concentrate_ag',\n",
       " 'primary_cleaner.output.concentrate_au',\n",
       " 'primary_cleaner.output.concentrate_pb',\n",
       " 'primary_cleaner.output.concentrate_sol',\n",
       " 'primary_cleaner.output.tail_ag',\n",
       " 'primary_cleaner.output.tail_au',\n",
       " 'primary_cleaner.output.tail_pb',\n",
       " 'primary_cleaner.output.tail_sol',\n",
       " 'rougher.calculation.au_pb_ratio',\n",
       " 'rougher.calculation.floatbank10_sulfate_to_au_feed',\n",
       " 'rougher.calculation.floatbank11_sulfate_to_au_feed',\n",
       " 'rougher.calculation.sulfate_to_au_concentrate',\n",
       " 'rougher.output.concentrate_ag',\n",
       " 'rougher.output.concentrate_au',\n",
       " 'rougher.output.concentrate_pb',\n",
       " 'rougher.output.concentrate_sol',\n",
       " 'rougher.output.recovery',\n",
       " 'rougher.output.tail_ag',\n",
       " 'rougher.output.tail_au',\n",
       " 'rougher.output.tail_pb',\n",
       " 'rougher.output.tail_sol',\n",
       " 'secondary_cleaner.output.tail_ag',\n",
       " 'secondary_cleaner.output.tail_au',\n",
       " 'secondary_cleaner.output.tail_pb',\n",
       " 'secondary_cleaner.output.tail_sol'}"
      ]
     },
     "execution_count": 7,
     "metadata": {},
     "output_type": "execute_result"
    }
   ],
   "source": [
    "#Проанализируйте признаки, недоступные в тестовой выборке\n",
    "train_columns = data_train.columns\n",
    "test_columns = data_test.columns\n",
    "columns_only_train = set(train_columns) - set(test_columns)\n",
    "columns_only_train"
   ]
  },
  {
   "cell_type": "markdown",
   "metadata": {},
   "source": [
    "Признаки, отсутсвующие в тестовой выборке, в основном представляют собой параметры продукта (output) для всех стадий, которые проходит руда: флотация, первичная очистка, вторичная очистка и финальные характеристики. Это логично, так как эти данные оцениваются после обработки руды. Так же для флотации отсутствуют все расчетные характеристики."
   ]
  },
  {
   "cell_type": "markdown",
   "metadata": {},
   "source": [
    "Из обучающей выборки нужно выделить целевые признаки и удалить некоторые столбцы. Я это сделаю после пункта 2, так как обучающая выборка там меняется."
   ]
  },
  {
   "cell_type": "markdown",
   "metadata": {},
   "source": [
    "## Анализ данных"
   ]
  },
  {
   "cell_type": "code",
   "execution_count": 8,
   "metadata": {},
   "outputs": [
    {
     "name": "stdout",
     "output_type": "stream",
     "text": [
      "Concentrate_ag\n",
      "median\n",
      "rougher: 11.79\n",
      "primary_cleaner: 8.27\n",
      "final: 4.95\n",
      "mean\n",
      "rougher: 10.87\n",
      "primary_cleaner: 7.69\n",
      "final: 4.78\n"
     ]
    },
    {
     "data": {
      "image/png": "[encoded data removed]",
      "text/plain": [
       "<Figure size 432x288 with 1 Axes>"
      ]
     },
     "metadata": {
      "needs_background": "light"
     },
     "output_type": "display_data"
    },
    {
     "name": "stdout",
     "output_type": "stream",
     "text": [
      "Concentrate_au\n",
      "median\n",
      "rougher: 20.00\n",
      "primary_cleaner: 32.36\n",
      "final: 44.65\n",
      "mean\n",
      "rougher: 17.88\n",
      "primary_cleaner: 29.21\n",
      "final: 40.00\n"
     ]
    },
    {
     "data": {
      "image/png": "[encoded data removed]",
      "text/plain": [
       "<Figure size 432x288 with 1 Axes>"
      ]
     },
     "metadata": {
      "needs_background": "light"
     },
     "output_type": "display_data"
    },
    {
     "name": "stdout",
     "output_type": "stream",
     "text": [
      "Concentrate_pb\n",
      "median\n",
      "rougher: 7.57\n",
      "primary_cleaner: 9.92\n",
      "final: 9.91\n",
      "mean\n",
      "rougher: 6.90\n",
      "primary_cleaner: 8.92\n",
      "final: 9.10\n"
     ]
    },
    {
     "data": {
      "image/png": "[encoded data removed]",
      "text/plain": [
       "<Figure size 432x288 with 1 Axes>"
      ]
     },
     "metadata": {
      "needs_background": "light"
     },
     "output_type": "display_data"
    }
   ],
   "source": [
    "#Посмотрите, как меняется концентрация металлов (Au, Ag, Pb) на различных этапах очистки.\n",
    "def plot_median3(r, p, f):\n",
    "    print('median')\n",
    "    print('rougher: {:.2f}'.format(r.median()))\n",
    "    print('primary_cleaner: {:.2f}'.format(p.median()))\n",
    "    print('final: {:.2f}'.format(f.median()))\n",
    "    print('mean')\n",
    "    print('rougher: {:.2f}'.format(r.mean()))\n",
    "    print('primary_cleaner: {:.2f}'.format(p.mean()))\n",
    "    print('final: {:.2f}'.format(f.mean()))\n",
    "    \n",
    "    #plt.plot(r, linestyle='None', marker='.')\n",
    "    r.hist(bins=100, alpha=0.5)\n",
    "    p.hist(bins=100, alpha=0.5)\n",
    "    f.hist(bins=100, alpha=0.5)\n",
    "    #plt.plot(p, linestyle='None', marker='.')\n",
    "    #plt.plot(f, linestyle='None', marker='.')\n",
    "    plt.legend(['rougher', 'primary_cleaner', 'final'], loc=1)\n",
    "    plt.show()\n",
    "    return\n",
    " \n",
    "print('Concentrate_ag')\n",
    "plot_median3(data_full['rougher.output.concentrate_ag'], data_full['primary_cleaner.output.concentrate_ag'], data_full['final.output.concentrate_ag'])\n",
    "print('Concentrate_au')\n",
    "plot_median3(data_full['rougher.output.concentrate_au'], data_full['primary_cleaner.output.concentrate_au'], data_full['final.output.concentrate_au'])\n",
    "print('Concentrate_pb')\n",
    "plot_median3(data_full['rougher.output.concentrate_pb'], data_full['primary_cleaner.output.concentrate_pb'], data_full['final.output.concentrate_pb'])"
   ]
  },
  {
   "cell_type": "markdown",
   "metadata": {},
   "source": [
    "По средним значениям и полученным графикам концентрации веществ на трех этапах (флотация, вторичная очистка и финальная концентрация) видно:\n",
    "- концентрация серебра в ходе обработки руды снижалась\n",
    "- концентрация золота увеличивалась\n",
    "- концентрация свинца практически не изменилась"
   ]
  },
  {
   "cell_type": "code",
   "execution_count": 9,
   "metadata": {},
   "outputs": [
    {
     "name": "stdout",
     "output_type": "stream",
     "text": [
      "Rougher\n",
      "median\n",
      "train: 54.10\n",
      "test: 50.00\n",
      "mean\n",
      "train: 58.68\n",
      "test: 55.94\n"
     ]
    },
    {
     "data": {
      "image/png": "[encoded data removed]",
      "text/plain": [
       "<Figure size 720x432 with 1 Axes>"
      ]
     },
     "metadata": {
      "needs_background": "light"
     },
     "output_type": "display_data"
    },
    {
     "name": "stdout",
     "output_type": "stream",
     "text": [
      "Primary cleaner\n",
      "median\n",
      "train: 7.29\n",
      "test: 7.26\n",
      "mean\n",
      "train: 7.30\n",
      "test: 7.26\n"
     ]
    },
    {
     "data": {
      "image/png": "[encoded data removed]",
      "text/plain": [
       "<Figure size 720x432 with 1 Axes>"
      ]
     },
     "metadata": {
      "needs_background": "light"
     },
     "output_type": "display_data"
    }
   ],
   "source": [
    "#Сравните распределения размеров гранул сырья на обучающей и тестовой выборках\n",
    "def plot_median2(r, p):\n",
    "    print('median')\n",
    "    print('train: {:.2f}'.format(r.median()))\n",
    "    print('test: {:.2f}'.format(p.median()))    \n",
    "    print('mean')\n",
    "    print('train: {:.2f}'.format(r.mean()))\n",
    "    print('test: {:.2f}'.format(p.mean()))\n",
    "    \n",
    "    r.plot(alpha=0.7, kind='hist', bins=100, figsize=(10,6))\n",
    "    p.plot(alpha=0.7, kind='hist', bins=100)\n",
    "    plt.legend(['train', 'test'], loc=1)\n",
    "    plt.show()\n",
    "    return\n",
    "\n",
    "print('Rougher')\n",
    "plot_median2(data_train['rougher.input.feed_size'], data_test['rougher.input.feed_size'])\n",
    "print('Primary cleaner')\n",
    "plot_median2(data_train['primary_cleaner.input.feed_size'], data_test['primary_cleaner.input.feed_size'])                                                                  "
   ]
  },
  {
   "cell_type": "markdown",
   "metadata": {},
   "source": [
    "Данные о размере гранул представлены для процесса флотации и первичной очистки. Распределение рамеров гранул для первичной очистки в обучающей и тестовой выборках похожи, средние и медиана так же похожи. Для флотации распределение тестовой выборки скошено влево, относительно распределения обучающей выборки, соответственно, значения медианы и среднего меньше у тестовой выборки (но не более, чем на 10%). \n",
    "\n",
    "\n",
    "Хотя, для флотации выборки отличаются, по гистограмме видно, что в тестовую выборку входят те же значения размеров гранул, что и в обучающую. Я думаю, за счет этого модель, научившись на обучающих данных, не будет значительно ошибаться на тестовых (если это вызвано размером гранул, конечно)."
   ]
  },
  {
   "cell_type": "code",
   "execution_count": 10,
   "metadata": {},
   "outputs": [
    {
     "name": "stdout",
     "output_type": "stream",
     "text": [
      "rougher\n"
     ]
    },
    {
     "data": {
      "image/png": "[encoded data removed]",
      "text/plain": [
       "<Figure size 432x288 with 1 Axes>"
      ]
     },
     "metadata": {
      "needs_background": "light"
     },
     "output_type": "display_data"
    },
    {
     "name": "stdout",
     "output_type": "stream",
     "text": [
      "primary_cleaner\n"
     ]
    },
    {
     "data": {
      "image/png": "[encoded data removed]",
      "text/plain": [
       "<Figure size 432x288 with 1 Axes>"
      ]
     },
     "metadata": {
      "needs_background": "light"
     },
     "output_type": "display_data"
    },
    {
     "name": "stdout",
     "output_type": "stream",
     "text": [
      "final\n"
     ]
    },
    {
     "data": {
      "image/png": "[encoded data removed]",
      "text/plain": [
       "<Figure size 432x288 with 1 Axes>"
      ]
     },
     "metadata": {
      "needs_background": "light"
     },
     "output_type": "display_data"
    }
   ],
   "source": [
    "#Исследуйте суммарную концентрацию всех веществ на разных стадиях\n",
    "def concentrate_sum(ag, pb, sol, au):\n",
    "    conc_sum = ag + pb + sol + au\n",
    "    conc_sum.hist(bins=100)\n",
    "    plt.show()\n",
    "    return\n",
    "\n",
    "print('rougher')\n",
    "concentrate_sum(data_train['rougher.output.concentrate_ag'], data_train['rougher.output.concentrate_pb'], data_train['rougher.output.concentrate_sol'], data_train['rougher.output.concentrate_au'])\n",
    "print('primary_cleaner')\n",
    "concentrate_sum(data_train['primary_cleaner.output.concentrate_ag'], data_train['primary_cleaner.output.concentrate_pb'], data_train['primary_cleaner.output.concentrate_sol'], data_train['primary_cleaner.output.concentrate_au'])\n",
    "print('final')\n",
    "concentrate_sum(data_train['final.output.concentrate_ag'], data_train['final.output.concentrate_pb'], data_train['final.output.concentrate_sol'], data_train['final.output.concentrate_au'])"
   ]
  },
  {
   "cell_type": "code",
   "execution_count": 11,
   "metadata": {},
   "outputs": [
    {
     "data": {
      "text/html": [
       "<div>\n",
       "<style scoped>\n",
       "    .dataframe tbody tr th:only-of-type {\n",
       "        vertical-align: middle;\n",
       "    }\n",
       "\n",
       "    .dataframe tbody tr th {\n",
       "        vertical-align: top;\n",
       "    }\n",
       "\n",
       "    .dataframe thead th {\n",
       "        text-align: right;\n",
       "    }\n",
       "</style>\n",
       "<table border=\"1\" class=\"dataframe\">\n",
       "  <thead>\n",
       "    <tr style=\"text-align: right;\">\n",
       "      <th></th>\n",
       "      <th>rougher.output.concentrate_ag</th>\n",
       "      <th>rougher.output.concentrate_pb</th>\n",
       "      <th>rougher.output.concentrate_sol</th>\n",
       "      <th>rougher.output.concentrate_au</th>\n",
       "    </tr>\n",
       "  </thead>\n",
       "  <tbody>\n",
       "    <tr>\n",
       "      <td>45</td>\n",
       "      <td>0.0</td>\n",
       "      <td>0.0</td>\n",
       "      <td>0.0</td>\n",
       "      <td>0.0</td>\n",
       "    </tr>\n",
       "    <tr>\n",
       "      <td>46</td>\n",
       "      <td>0.0</td>\n",
       "      <td>0.0</td>\n",
       "      <td>0.0</td>\n",
       "      <td>0.0</td>\n",
       "    </tr>\n",
       "    <tr>\n",
       "      <td>47</td>\n",
       "      <td>0.0</td>\n",
       "      <td>0.0</td>\n",
       "      <td>0.0</td>\n",
       "      <td>0.0</td>\n",
       "    </tr>\n",
       "    <tr>\n",
       "      <td>48</td>\n",
       "      <td>0.0</td>\n",
       "      <td>0.0</td>\n",
       "      <td>0.0</td>\n",
       "      <td>0.0</td>\n",
       "    </tr>\n",
       "    <tr>\n",
       "      <td>49</td>\n",
       "      <td>0.0</td>\n",
       "      <td>0.0</td>\n",
       "      <td>0.0</td>\n",
       "      <td>0.0</td>\n",
       "    </tr>\n",
       "    <tr>\n",
       "      <td>...</td>\n",
       "      <td>...</td>\n",
       "      <td>...</td>\n",
       "      <td>...</td>\n",
       "      <td>...</td>\n",
       "    </tr>\n",
       "    <tr>\n",
       "      <td>12360</td>\n",
       "      <td>0.0</td>\n",
       "      <td>0.0</td>\n",
       "      <td>0.0</td>\n",
       "      <td>0.0</td>\n",
       "    </tr>\n",
       "    <tr>\n",
       "      <td>12361</td>\n",
       "      <td>0.0</td>\n",
       "      <td>0.0</td>\n",
       "      <td>0.0</td>\n",
       "      <td>0.0</td>\n",
       "    </tr>\n",
       "    <tr>\n",
       "      <td>12362</td>\n",
       "      <td>0.0</td>\n",
       "      <td>0.0</td>\n",
       "      <td>0.0</td>\n",
       "      <td>0.0</td>\n",
       "    </tr>\n",
       "    <tr>\n",
       "      <td>12363</td>\n",
       "      <td>0.0</td>\n",
       "      <td>0.0</td>\n",
       "      <td>0.0</td>\n",
       "      <td>0.0</td>\n",
       "    </tr>\n",
       "    <tr>\n",
       "      <td>12364</td>\n",
       "      <td>0.0</td>\n",
       "      <td>0.0</td>\n",
       "      <td>0.0</td>\n",
       "      <td>0.0</td>\n",
       "    </tr>\n",
       "  </tbody>\n",
       "</table>\n",
       "<p>1493 rows × 4 columns</p>\n",
       "</div>"
      ],
      "text/plain": [
       "       rougher.output.concentrate_ag  rougher.output.concentrate_pb  \\\n",
       "45                               0.0                            0.0   \n",
       "46                               0.0                            0.0   \n",
       "47                               0.0                            0.0   \n",
       "48                               0.0                            0.0   \n",
       "49                               0.0                            0.0   \n",
       "...                              ...                            ...   \n",
       "12360                            0.0                            0.0   \n",
       "12361                            0.0                            0.0   \n",
       "12362                            0.0                            0.0   \n",
       "12363                            0.0                            0.0   \n",
       "12364                            0.0                            0.0   \n",
       "\n",
       "       rougher.output.concentrate_sol  rougher.output.concentrate_au  \n",
       "45                                0.0                            0.0  \n",
       "46                                0.0                            0.0  \n",
       "47                                0.0                            0.0  \n",
       "48                                0.0                            0.0  \n",
       "49                                0.0                            0.0  \n",
       "...                               ...                            ...  \n",
       "12360                             0.0                            0.0  \n",
       "12361                             0.0                            0.0  \n",
       "12362                             0.0                            0.0  \n",
       "12363                             0.0                            0.0  \n",
       "12364                             0.0                            0.0  \n",
       "\n",
       "[1493 rows x 4 columns]"
      ]
     },
     "metadata": {},
     "output_type": "display_data"
    }
   ],
   "source": [
    "#посмотрю столбцы с нулевой суммой концентраций\n",
    "display(data_train.loc[(data_train['rougher.output.concentrate_ag'] == 0) & (data_train['rougher.output.concentrate_pb'] == 0) & (data_train['rougher.output.concentrate_sol'] == 0) & (data_train['rougher.output.concentrate_au'] == 0), 'rougher.output.concentrate_ag':'rougher.output.concentrate_au'])\n"
   ]
  },
  {
   "cell_type": "code",
   "execution_count": 12,
   "metadata": {},
   "outputs": [
    {
     "data": {
      "text/html": [
       "<div>\n",
       "<style scoped>\n",
       "    .dataframe tbody tr th:only-of-type {\n",
       "        vertical-align: middle;\n",
       "    }\n",
       "\n",
       "    .dataframe tbody tr th {\n",
       "        vertical-align: top;\n",
       "    }\n",
       "\n",
       "    .dataframe thead th {\n",
       "        text-align: right;\n",
       "    }\n",
       "</style>\n",
       "<table border=\"1\" class=\"dataframe\">\n",
       "  <thead>\n",
       "    <tr style=\"text-align: right;\">\n",
       "      <th></th>\n",
       "      <th>primary_cleaner.output.concentrate_ag</th>\n",
       "      <th>primary_cleaner.output.concentrate_pb</th>\n",
       "      <th>primary_cleaner.output.concentrate_sol</th>\n",
       "      <th>primary_cleaner.output.concentrate_au</th>\n",
       "    </tr>\n",
       "  </thead>\n",
       "  <tbody>\n",
       "    <tr>\n",
       "      <td>19</td>\n",
       "      <td>0.0</td>\n",
       "      <td>0.0</td>\n",
       "      <td>0.0</td>\n",
       "      <td>0.0</td>\n",
       "    </tr>\n",
       "    <tr>\n",
       "      <td>22</td>\n",
       "      <td>0.0</td>\n",
       "      <td>0.0</td>\n",
       "      <td>0.0</td>\n",
       "      <td>0.0</td>\n",
       "    </tr>\n",
       "    <tr>\n",
       "      <td>30</td>\n",
       "      <td>0.0</td>\n",
       "      <td>0.0</td>\n",
       "      <td>0.0</td>\n",
       "      <td>0.0</td>\n",
       "    </tr>\n",
       "    <tr>\n",
       "      <td>73</td>\n",
       "      <td>0.0</td>\n",
       "      <td>0.0</td>\n",
       "      <td>0.0</td>\n",
       "      <td>0.0</td>\n",
       "    </tr>\n",
       "    <tr>\n",
       "      <td>76</td>\n",
       "      <td>0.0</td>\n",
       "      <td>0.0</td>\n",
       "      <td>0.0</td>\n",
       "      <td>0.0</td>\n",
       "    </tr>\n",
       "  </tbody>\n",
       "</table>\n",
       "</div>"
      ],
      "text/plain": [
       "    primary_cleaner.output.concentrate_ag  \\\n",
       "19                                    0.0   \n",
       "22                                    0.0   \n",
       "30                                    0.0   \n",
       "73                                    0.0   \n",
       "76                                    0.0   \n",
       "\n",
       "    primary_cleaner.output.concentrate_pb  \\\n",
       "19                                    0.0   \n",
       "22                                    0.0   \n",
       "30                                    0.0   \n",
       "73                                    0.0   \n",
       "76                                    0.0   \n",
       "\n",
       "    primary_cleaner.output.concentrate_sol  \\\n",
       "19                                     0.0   \n",
       "22                                     0.0   \n",
       "30                                     0.0   \n",
       "73                                     0.0   \n",
       "76                                     0.0   \n",
       "\n",
       "    primary_cleaner.output.concentrate_au  \n",
       "19                                    0.0  \n",
       "22                                    0.0  \n",
       "30                                    0.0  \n",
       "73                                    0.0  \n",
       "76                                    0.0  "
      ]
     },
     "metadata": {},
     "output_type": "display_data"
    }
   ],
   "source": [
    "display(data_train.loc[(data_train['primary_cleaner.output.concentrate_ag'] == 0) & (data_train['primary_cleaner.output.concentrate_pb'] == 0) & (data_train['primary_cleaner.output.concentrate_sol'] == 0) & (data_train['primary_cleaner.output.concentrate_au'] == 0), 'primary_cleaner.output.concentrate_ag':'primary_cleaner.output.concentrate_au'].head())\n"
   ]
  },
  {
   "cell_type": "code",
   "execution_count": 13,
   "metadata": {
    "scrolled": true
   },
   "outputs": [
    {
     "data": {
      "text/html": [
       "<div>\n",
       "<style scoped>\n",
       "    .dataframe tbody tr th:only-of-type {\n",
       "        vertical-align: middle;\n",
       "    }\n",
       "\n",
       "    .dataframe tbody tr th {\n",
       "        vertical-align: top;\n",
       "    }\n",
       "\n",
       "    .dataframe thead th {\n",
       "        text-align: right;\n",
       "    }\n",
       "</style>\n",
       "<table border=\"1\" class=\"dataframe\">\n",
       "  <thead>\n",
       "    <tr style=\"text-align: right;\">\n",
       "      <th></th>\n",
       "      <th>final.output.concentrate_ag</th>\n",
       "      <th>final.output.concentrate_pb</th>\n",
       "      <th>final.output.concentrate_sol</th>\n",
       "      <th>final.output.concentrate_au</th>\n",
       "    </tr>\n",
       "  </thead>\n",
       "  <tbody>\n",
       "    <tr>\n",
       "      <td>99</td>\n",
       "      <td>0.0</td>\n",
       "      <td>0.0</td>\n",
       "      <td>0.0</td>\n",
       "      <td>0.0</td>\n",
       "    </tr>\n",
       "    <tr>\n",
       "      <td>100</td>\n",
       "      <td>0.0</td>\n",
       "      <td>0.0</td>\n",
       "      <td>0.0</td>\n",
       "      <td>0.0</td>\n",
       "    </tr>\n",
       "    <tr>\n",
       "      <td>101</td>\n",
       "      <td>0.0</td>\n",
       "      <td>0.0</td>\n",
       "      <td>0.0</td>\n",
       "      <td>0.0</td>\n",
       "    </tr>\n",
       "    <tr>\n",
       "      <td>102</td>\n",
       "      <td>0.0</td>\n",
       "      <td>0.0</td>\n",
       "      <td>0.0</td>\n",
       "      <td>0.0</td>\n",
       "    </tr>\n",
       "    <tr>\n",
       "      <td>103</td>\n",
       "      <td>0.0</td>\n",
       "      <td>0.0</td>\n",
       "      <td>0.0</td>\n",
       "      <td>0.0</td>\n",
       "    </tr>\n",
       "  </tbody>\n",
       "</table>\n",
       "</div>"
      ],
      "text/plain": [
       "     final.output.concentrate_ag  final.output.concentrate_pb  \\\n",
       "99                           0.0                          0.0   \n",
       "100                          0.0                          0.0   \n",
       "101                          0.0                          0.0   \n",
       "102                          0.0                          0.0   \n",
       "103                          0.0                          0.0   \n",
       "\n",
       "     final.output.concentrate_sol  final.output.concentrate_au  \n",
       "99                            0.0                          0.0  \n",
       "100                           0.0                          0.0  \n",
       "101                           0.0                          0.0  \n",
       "102                           0.0                          0.0  \n",
       "103                           0.0                          0.0  "
      ]
     },
     "metadata": {},
     "output_type": "display_data"
    }
   ],
   "source": [
    "display(data_train.loc[(data_train['final.output.concentrate_ag'] == 0) & (data_train['final.output.concentrate_pb'] == 0) & (data_train['final.output.concentrate_sol'] == 0) & (data_train['final.output.concentrate_au'] == 0), 'final.output.concentrate_ag':'final.output.concentrate_au'].head())\n"
   ]
  },
  {
   "cell_type": "markdown",
   "metadata": {},
   "source": [
    "На мой взгляд, аномалиями в значениях суммарной концентрации являются нулевые значения. Больше всего их представлено для процесса флотации. Скорее всего, эти данные появились в результате ошибки, так как нулевая концентрация всех веществ, особенно золота, невозможна. Их нужно удалить.\n",
    "\n",
    "\n",
    "Я рассматривала только обучающую выборку, так как данных по концентрациям веществ в тестовой выборке нет"
   ]
  },
  {
   "cell_type": "code",
   "execution_count": 14,
   "metadata": {},
   "outputs": [],
   "source": [
    "#удаление строк с суммарной концентрацией равной нулю\n",
    "data_train = data_train.drop(data_train.loc[(data_train['rougher.output.concentrate_ag'] == 0) & (data_train['rougher.output.concentrate_pb'] == 0) & (data_train['rougher.output.concentrate_sol'] == 0) & (data_train['rougher.output.concentrate_au'] == 0)].index)\n",
    "data_train = data_train.drop(data_train.loc[(data_train['primary_cleaner.output.concentrate_ag'] == 0) & (data_train['primary_cleaner.output.concentrate_pb'] == 0) & (data_train['primary_cleaner.output.concentrate_sol'] == 0) & (data_train['primary_cleaner.output.concentrate_au'] == 0)].index)\n",
    "data_train = data_train.drop(data_train.loc[(data_train['final.output.concentrate_ag'] == 0) & (data_train['final.output.concentrate_pb'] == 0) & (data_train['final.output.concentrate_sol'] == 0) & (data_train['final.output.concentrate_au'] == 0)].index)"
   ]
  },
  {
   "cell_type": "code",
   "execution_count": 15,
   "metadata": {},
   "outputs": [],
   "source": [
    "data_train['rougher.output.recovery'] = data_train['rougher.output.recovery'].fillna(value=0)\n",
    "data_train['final.output.recovery'] = data_train['final.output.recovery'].fillna(value=0)\n",
    "data_train = data_train.drop(data_train.loc[data_train['rougher.output.recovery'] == 0].index)\n",
    "data_train = data_train.drop(data_train.loc[data_train['final.output.recovery'] == 0].index)\n",
    "\n",
    "data_train.fillna(method='ffill', inplace=True)\n",
    "data_test.fillna(method='ffill', inplace=True)"
   ]
  },
  {
   "cell_type": "code",
   "execution_count": 16,
   "metadata": {},
   "outputs": [],
   "source": [
    "#Предобработка данных\n",
    "#Удаляю строки с нулями и пропусками\n",
    "data_train = data_train.dropna()"
   ]
  },
  {
   "cell_type": "code",
   "execution_count": 17,
   "metadata": {},
   "outputs": [
    {
     "name": "stdout",
     "output_type": "stream",
     "text": [
      "(5154, 1) (5154, 1)\n"
     ]
    }
   ],
   "source": [
    "#попробую найти (по дате) в общем датасете целевые признаки для тестовой выборки для проверки модели\n",
    "date_test = data_test['date']\n",
    "data_full_test = data_full.query('date in @date_test')\n",
    "target_test = data_full_test[['date', 'rougher.output.recovery', 'final.output.recovery']]\n",
    "\n",
    "#придется их объединить с тестовой выборкой, удалить пропуски и нули, и снова разъединить.\n",
    "#Не знаю, как иначе удалить пропуски и не перепутать последовательность\n",
    "data_test_all = data_test.merge(target_test, on='date', how='outer')\n",
    "data_test_all = data_test_all.dropna()\n",
    "data_test_all = data_test_all.drop(data_test_all.loc[data_test_all['rougher.output.recovery'] == 0].index)\n",
    "data_test_all = data_test_all.drop(data_test_all.loc[data_test_all['final.output.recovery'] == 0].index)\n",
    "\n",
    "data_test = data_test_all.drop(['rougher.output.recovery', 'final.output.recovery'], axis=1)\n",
    "target_r_test = data_test_all[['rougher.output.recovery']]\n",
    "target_f_test = data_test_all[['final.output.recovery']]\n",
    "print(target_r_test.shape, target_f_test.shape)"
   ]
  },
  {
   "cell_type": "code",
   "execution_count": 18,
   "metadata": {},
   "outputs": [
    {
     "name": "stdout",
     "output_type": "stream",
     "text": [
      "(13725, 52) (5154, 52) (13725, 1) (13725, 1)\n"
     ]
    }
   ],
   "source": [
    "#отделение целевых признаков от обучающей выборки\n",
    "\n",
    "target_r_train = data_train[['rougher.output.recovery']]\n",
    "target_f_train = data_train[['final.output.recovery']]\n",
    "\n",
    "features_1 = data_test.columns.values\n",
    "features_train = data_train[features_1].reset_index(drop=True)\n",
    "\n",
    "features_train = features_train.drop(['date'], axis=1)\n",
    "features_test = data_test.drop(['date'], axis=1)\n",
    "print(features_train.shape, features_test.shape, target_r_train.shape, target_f_train.shape)"
   ]
  },
  {
   "cell_type": "markdown",
   "metadata": {},
   "source": [
    "## Модель"
   ]
  },
  {
   "cell_type": "code",
   "execution_count": 19,
   "metadata": {},
   "outputs": [],
   "source": [
    "#Напишите функцию для вычисления итоговой sMAPE\n",
    "def smape(t1, p1):\n",
    "    t1 = np.array(t1)\n",
    "    summ1 = 0\n",
    "    for i in range(len(t1)):\n",
    "        summ1 += 200 * abs(t1[i] - p1[i]) / (abs(t1[i]) + abs(p1[i]))\n",
    "    smape = summ1 / len(t1)\n",
    "    return smape"
   ]
  },
  {
   "cell_type": "raw",
   "metadata": {},
   "source": [
    "def smape(target_1, predictions): \n",
    "#    target_1=pd.Series(target_1)\n",
    "    predictions= pd.Series(predictions)\n",
    "    a = abs(target_1 - predictions)\n",
    "    b = (abs(target_1) + abs(predictions)) / 2\n",
    "    errors = a / b\n",
    "    return errors.sum()/ errors.shape[0] * 100\n",
    "\n",
    "def ismape(smape_rougher, smape_final):\n",
    "    result = 0.25*smape_rougher + 0.75*smape_final\n",
    "    return result"
   ]
  },
  {
   "cell_type": "code",
   "execution_count": 20,
   "metadata": {},
   "outputs": [],
   "source": [
    "my_scorer = make_scorer(smape, greater_is_better=False)"
   ]
  },
  {
   "cell_type": "code",
   "execution_count": 21,
   "metadata": {},
   "outputs": [
    {
     "name": "stdout",
     "output_type": "stream",
     "text": [
      "1 9.318746549677623\n"
     ]
    },
    {
     "data": {
      "text/plain": [
       "Text(0, 0.5, 'sMAPE')"
      ]
     },
     "execution_count": 21,
     "metadata": {},
     "output_type": "execute_result"
    },
    {
     "data": {
      "image/png": "[encoded data removed]",
      "text/plain": [
       "<Figure size 432x288 with 1 Axes>"
      ]
     },
     "metadata": {
      "needs_background": "light"
     },
     "output_type": "display_data"
    }
   ],
   "source": [
    "#Обучите разные модели и оцените их качество кросс-валидацией\n",
    "\n",
    "#дерево\n",
    "max_result = 100\n",
    "max_d = 0\n",
    "res_list = list()\n",
    "n_list = list()\n",
    "for d in range(1, 32, 10):\n",
    "    model = DecisionTreeRegressor(random_state=42, max_depth=d)\n",
    "    result1 = abs(cross_val_score(model, features_train, target_r_train, cv=5, scoring=my_scorer).mean())\n",
    "    result2 = abs(cross_val_score(model, features_train, target_f_train, cv=5, scoring=my_scorer).mean())\n",
    "    result = 0.25 * result1 + 0.75 * result2\n",
    "    res_list.append(result)\n",
    "    n_list.append(d)\n",
    "    \n",
    "    if result < max_result:\n",
    "        max_result = result\n",
    "        max_d = d\n",
    "print(max_d, max_result)\n",
    "plt.plot(n_list, res_list)\n",
    "plt.xlabel('max_depth')\n",
    "plt.ylabel('sMAPE')"
   ]
  },
  {
   "cell_type": "code",
   "execution_count": 22,
   "metadata": {},
   "outputs": [
    {
     "data": {
      "text/plain": [
       "10.077499650845468"
      ]
     },
     "execution_count": 22,
     "metadata": {},
     "output_type": "execute_result"
    }
   ],
   "source": [
    "#регрессия\n",
    "model = LinearRegression()\n",
    "result1 = abs(cross_val_score(model, features_train, target_r_train, cv=5, scoring=my_scorer).mean())\n",
    "result2 = abs(cross_val_score(model, features_train, target_f_train, cv=5, scoring=my_scorer).mean())\n",
    "result = 0.25 * result1 + 0.75 * result2\n",
    "result"
   ]
  },
  {
   "cell_type": "code",
   "execution_count": 23,
   "metadata": {},
   "outputs": [
    {
     "name": "stdout",
     "output_type": "stream",
     "text": [
      "1 9.116445253533167\n",
      "3 8.52981611868338\n",
      "5 8.470907889199543\n",
      "7 8.645633752586269\n",
      "9 8.756422025894796\n",
      "5 8.470907889199543\n"
     ]
    },
    {
     "data": {
      "image/png": "[encoded data removed]",
      "text/plain": [
       "<Figure size 432x288 with 1 Axes>"
      ]
     },
     "metadata": {
      "needs_background": "light"
     },
     "output_type": "display_data"
    },
    {
     "name": "stdout",
     "output_type": "stream",
     "text": [
      "CPU times: user 3 µs, sys: 0 ns, total: 3 µs\n",
      "Wall time: 6.68 µs\n"
     ]
    }
   ],
   "source": [
    "#случайный лес\n",
    "import warnings\n",
    "warnings.filterwarnings('ignore')\n",
    "\n",
    "max_d = 0\n",
    "max_n = 0\n",
    "res_list = list()\n",
    "n_list = list()\n",
    "max_result = 100\n",
    "n = 20\n",
    "for d in range(1, 10, 2):\n",
    "    model = RandomForestRegressor(random_state=42, max_depth=d, n_estimators=n)\n",
    "    result1 = abs(cross_val_score(model, features_train, target_r_train, cv=5, scoring=my_scorer).mean())\n",
    "    result2 = abs(cross_val_score(model, features_train, target_f_train, cv=5, scoring=my_scorer).mean())\n",
    "    result = 0.25 * result1 + 0.75 * result2\n",
    "    res_list.append(result)\n",
    "    n_list.append(d)\n",
    "    print(d, result)\n",
    "    if result < max_result:\n",
    "        max_result = result\n",
    "        max_d = d\n",
    "print(max_d, max_result)\n",
    "plt.plot(n_list, res_list)\n",
    "plt.xlabel('max_depth')\n",
    "plt.ylabel('sMAPE')\n",
    "plt.show()\n",
    "%time"
   ]
  },
  {
   "cell_type": "code",
   "execution_count": 24,
   "metadata": {},
   "outputs": [
    {
     "name": "stdout",
     "output_type": "stream",
     "text": [
      "1 9.540865486896747\n",
      "11 8.519419228026143\n",
      "21 8.463645959368145\n",
      "31 8.53322811589578\n",
      "21 8.463645959368145\n"
     ]
    },
    {
     "data": {
      "text/plain": [
       "Text(0, 0.5, 'sMAPE')"
      ]
     },
     "execution_count": 24,
     "metadata": {},
     "output_type": "execute_result"
    },
    {
     "data": {
      "image/png": "[encoded data removed]",
      "text/plain": [
       "<Figure size 432x288 with 1 Axes>"
      ]
     },
     "metadata": {
      "needs_background": "light"
     },
     "output_type": "display_data"
    }
   ],
   "source": [
    "max_n = 0\n",
    "res_list = list()\n",
    "n_list = list()\n",
    "max_result = 100\n",
    "for n in range(1, 32, 10):\n",
    "    model = RandomForestRegressor(random_state=42, max_depth=5, n_estimators=n)\n",
    "    result1 = abs(cross_val_score(model, features_train, target_r_train, cv=5, scoring=my_scorer).mean())\n",
    "    result2 = abs(cross_val_score(model, features_train, target_f_train, cv=5, scoring=my_scorer).mean())\n",
    "    result = 0.25 * result1 + 0.75 * result2\n",
    "    print(n, result)\n",
    "    res_list.append(result)\n",
    "    n_list.append(n)\n",
    "    if result < max_result:\n",
    "        max_result = result\n",
    "        max_n = n\n",
    "print(max_n, max_result)\n",
    "plt.plot(n_list, res_list)\n",
    "plt.xlabel('n_estimators')\n",
    "plt.ylabel('sMAPE')"
   ]
  },
  {
   "cell_type": "markdown",
   "metadata": {},
   "source": [
    "Для предсказания целевого признака оптимальной моделью оказался случайный лес с гиперпараметрами: n(число деревьев) 20, d(максимальная глубина) 5."
   ]
  },
  {
   "cell_type": "code",
   "execution_count": 25,
   "metadata": {},
   "outputs": [
    {
     "name": "stdout",
     "output_type": "stream",
     "text": [
      "[7.37819804]\n"
     ]
    }
   ],
   "source": [
    "#Выберите лучшую модель и проверьте её на тестовой выборке\n",
    "model = RandomForestRegressor(random_state=42, max_depth=5, n_estimators=20)\n",
    "\n",
    "model.fit(features_train, target_r_train)\n",
    "pr1 = model.predict(features_test)\n",
    "\n",
    "model.fit(features_train, target_f_train)\n",
    "pr2 = model.predict(features_test)\n",
    "\n",
    "print(0.25*smape(target_r_test, pr1) + 0.75*smape(target_f_test, pr2))"
   ]
  },
  {
   "cell_type": "code",
   "execution_count": 26,
   "metadata": {},
   "outputs": [
    {
     "name": "stdout",
     "output_type": "stream",
     "text": [
      "[12.43498387]\n"
     ]
    }
   ],
   "source": [
    "dummy = DummyRegressor(strategy='mean')\n",
    "\n",
    "dummy.fit(features_train, target_r_train)\n",
    "pr1 = model.predict(features_test)\n",
    "\n",
    "dummy.fit(features_train, target_f_train)\n",
    "pr2 = model.predict(features_test)\n",
    "\n",
    "print(0.25*smape(target_r_test, pr1) + 0.75*smape(target_f_test, pr2))"
   ]
  },
  {
   "cell_type": "markdown",
   "metadata": {},
   "source": [
    "<div style=\"background: #cccccc;\">\n",
    "Лучшая модель (случайный лес с гиперпараметрами n=5, d=20) показала на тестовой выборке sMAPE 7.4%, тогда как константная модель на этой же выборке показала 12.4%. Модель прошла проверку на адекватность."
   ]
  },
  {
   "cell_type": "markdown",
   "metadata": {},
   "source": [
    "<b> Вывод </b>\n",
    "\n",
    "В ходе данной работы была подготовлена модель машинного обучения для предсказания коэффициента восстановления золота из золотосодержащей руды.\n",
    "\n",
    "Для обучения и тестирования модели были использованы данные с параметрами добычи и очистки руды, которые были предварительно подготовлены, проанализированы и очищены от аномальных значений.\n",
    "\n",
    "На указанных данных были обучены (с применением кросс-валидвции) и проверены различные модели с изменяемыми гиперпараметрами. Наиболее точной оказалась модель случайного леса с максимальной глубиной 5 и количеством деревьев 20. Модель показала на тестовой выборке значение sMAPE 7.3%"
   ]
  }
 ],
 "metadata": {
  "ExecuteTimeLog": [
   {
    "duration": 326,
    "start_time": "2021-06-08T12:30:20.899Z"
   },
   {
    "duration": 1523,
    "start_time": "2021-06-08T12:30:26.816Z"
   },
   {
    "duration": 381,
    "start_time": "2021-06-08T12:30:36.668Z"
   },
   {
    "duration": 364,
    "start_time": "2021-06-08T12:30:39.290Z"
   },
   {
    "duration": 102,
    "start_time": "2021-06-08T12:31:02.638Z"
   },
   {
    "duration": 7388,
    "start_time": "2021-06-08T12:36:48.825Z"
   },
   {
    "duration": 7078,
    "start_time": "2021-06-08T12:38:04.978Z"
   },
   {
    "duration": 5,
    "start_time": "2021-06-08T12:41:16.237Z"
   },
   {
    "duration": 428,
    "start_time": "2021-06-08T12:41:16.245Z"
   },
   {
    "duration": 140,
    "start_time": "2021-06-08T12:41:16.676Z"
   },
   {
    "duration": 536,
    "start_time": "2021-06-08T12:41:16.818Z"
   },
   {
    "duration": 23,
    "start_time": "2021-06-08T12:41:17.356Z"
   },
   {
    "duration": 7,
    "start_time": "2021-06-08T12:41:17.382Z"
   },
   {
    "duration": 1492,
    "start_time": "2021-06-08T12:41:17.392Z"
   },
   {
    "duration": 1901,
    "start_time": "2021-06-08T12:41:18.889Z"
   },
   {
    "duration": 1642,
    "start_time": "2021-06-08T12:41:20.793Z"
   },
   {
    "duration": 25,
    "start_time": "2021-06-08T12:41:22.437Z"
   },
   {
    "duration": 19,
    "start_time": "2021-06-08T12:41:22.464Z"
   },
   {
    "duration": 51,
    "start_time": "2021-06-08T12:41:22.485Z"
   },
   {
    "duration": 12,
    "start_time": "2021-06-08T12:41:22.538Z"
   },
   {
    "duration": 45,
    "start_time": "2021-06-08T12:41:22.553Z"
   },
   {
    "duration": 55,
    "start_time": "2021-06-08T12:41:22.600Z"
   },
   {
    "duration": 21,
    "start_time": "2021-06-08T12:41:22.657Z"
   },
   {
    "duration": 16,
    "start_time": "2021-06-08T12:41:22.681Z"
   },
   {
    "duration": 12,
    "start_time": "2021-06-08T12:41:22.725Z"
   },
   {
    "duration": 8,
    "start_time": "2021-06-08T12:41:22.739Z"
   },
   {
    "duration": 2264,
    "start_time": "2021-06-08T12:41:22.749Z"
   },
   {
    "duration": 2853,
    "start_time": "2021-06-08T12:41:25.016Z"
   },
   {
    "duration": 3,
    "start_time": "2021-06-08T12:41:27.872Z"
   },
   {
    "duration": 10,
    "start_time": "2021-06-08T12:41:27.879Z"
   },
   {
    "duration": 14,
    "start_time": "2021-06-08T12:41:27.891Z"
   },
   {
    "duration": 2245,
    "start_time": "2021-06-08T12:47:38.302Z"
   },
   {
    "duration": 2303,
    "start_time": "2021-06-08T12:47:58.125Z"
   },
   {
    "duration": 5,
    "start_time": "2021-06-08T12:56:23.068Z"
   },
   {
    "duration": 450,
    "start_time": "2021-06-08T12:56:23.076Z"
   },
   {
    "duration": 146,
    "start_time": "2021-06-08T12:56:23.529Z"
   },
   {
    "duration": 630,
    "start_time": "2021-06-08T12:56:23.677Z"
   },
   {
    "duration": 25,
    "start_time": "2021-06-08T12:56:24.309Z"
   },
   {
    "duration": 9,
    "start_time": "2021-06-08T12:56:24.336Z"
   },
   {
    "duration": 1447,
    "start_time": "2021-06-08T12:56:24.347Z"
   },
   {
    "duration": 1808,
    "start_time": "2021-06-08T12:56:25.798Z"
   },
   {
    "duration": 1756,
    "start_time": "2021-06-08T12:56:27.609Z"
   },
   {
    "duration": 23,
    "start_time": "2021-06-08T12:56:29.368Z"
   },
   {
    "duration": 42,
    "start_time": "2021-06-08T12:56:29.394Z"
   },
   {
    "duration": 20,
    "start_time": "2021-06-08T12:56:29.438Z"
   },
   {
    "duration": 4,
    "start_time": "2021-06-08T12:56:29.461Z"
   },
   {
    "duration": 70,
    "start_time": "2021-06-08T12:56:29.468Z"
   },
   {
    "duration": 33,
    "start_time": "2021-06-08T12:56:29.541Z"
   },
   {
    "duration": 21,
    "start_time": "2021-06-08T12:56:29.577Z"
   },
   {
    "duration": 37,
    "start_time": "2021-06-08T12:56:29.600Z"
   },
   {
    "duration": 16,
    "start_time": "2021-06-08T12:56:29.640Z"
   },
   {
    "duration": 9,
    "start_time": "2021-06-08T12:56:29.658Z"
   },
   {
    "duration": 280,
    "start_time": "2021-06-08T12:56:29.669Z"
   },
   {
    "duration": -1461,
    "start_time": "2021-06-08T12:56:31.413Z"
   },
   {
    "duration": -1464,
    "start_time": "2021-06-08T12:56:31.417Z"
   },
   {
    "duration": -1464,
    "start_time": "2021-06-08T12:56:31.419Z"
   },
   {
    "duration": -1466,
    "start_time": "2021-06-08T12:56:31.422Z"
   },
   {
    "duration": 616,
    "start_time": "2021-06-08T12:56:43.813Z"
   },
   {
    "duration": 608,
    "start_time": "2021-06-08T12:57:00.934Z"
   },
   {
    "duration": 602,
    "start_time": "2021-06-08T12:57:16.406Z"
   },
   {
    "duration": 610,
    "start_time": "2021-06-08T12:57:37.760Z"
   },
   {
    "duration": 13542,
    "start_time": "2021-06-08T12:57:48.781Z"
   },
   {
    "duration": 13507,
    "start_time": "2021-06-08T12:58:21.899Z"
   },
   {
    "duration": 13746,
    "start_time": "2021-06-08T12:58:53.669Z"
   },
   {
    "duration": 7776,
    "start_time": "2021-06-08T12:59:16.450Z"
   },
   {
    "duration": 7995,
    "start_time": "2021-06-08T13:00:13.545Z"
   },
   {
    "duration": 6714,
    "start_time": "2021-06-08T13:00:36.603Z"
   },
   {
    "duration": 11682,
    "start_time": "2021-06-08T13:00:51.716Z"
   },
   {
    "duration": 5,
    "start_time": "2021-06-08T14:04:13.810Z"
   },
   {
    "duration": 459,
    "start_time": "2021-06-08T14:04:13.817Z"
   },
   {
    "duration": 145,
    "start_time": "2021-06-08T14:04:14.279Z"
   },
   {
    "duration": 598,
    "start_time": "2021-06-08T14:04:14.427Z"
   },
   {
    "duration": 17,
    "start_time": "2021-06-08T14:04:15.028Z"
   },
   {
    "duration": 7,
    "start_time": "2021-06-08T14:04:15.048Z"
   },
   {
    "duration": 1567,
    "start_time": "2021-06-08T14:04:15.057Z"
   },
   {
    "duration": 1849,
    "start_time": "2021-06-08T14:04:16.627Z"
   },
   {
    "duration": 1845,
    "start_time": "2021-06-08T14:04:18.479Z"
   },
   {
    "duration": 26,
    "start_time": "2021-06-08T14:04:20.327Z"
   },
   {
    "duration": 21,
    "start_time": "2021-06-08T14:04:20.356Z"
   },
   {
    "duration": 61,
    "start_time": "2021-06-08T14:04:20.380Z"
   },
   {
    "duration": 4,
    "start_time": "2021-06-08T14:04:20.443Z"
   },
   {
    "duration": 47,
    "start_time": "2021-06-08T14:04:20.449Z"
   },
   {
    "duration": 54,
    "start_time": "2021-06-08T14:04:20.498Z"
   },
   {
    "duration": 20,
    "start_time": "2021-06-08T14:04:20.554Z"
   },
   {
    "duration": 18,
    "start_time": "2021-06-08T14:04:20.577Z"
   },
   {
    "duration": 39,
    "start_time": "2021-06-08T14:04:20.597Z"
   },
   {
    "duration": 22,
    "start_time": "2021-06-08T14:04:20.638Z"
   },
   {
    "duration": 11562,
    "start_time": "2021-06-08T14:04:20.662Z"
   },
   {
    "duration": 1600,
    "start_time": "2021-06-08T14:04:32.226Z"
   },
   {
    "duration": 2799,
    "start_time": "2021-06-08T14:04:33.829Z"
   },
   {
    "duration": 3,
    "start_time": "2021-06-08T14:04:36.632Z"
   },
   {
    "duration": 2896,
    "start_time": "2021-06-08T14:04:36.638Z"
   },
   {
    "duration": 2583,
    "start_time": "2021-06-08T14:06:37.196Z"
   },
   {
    "duration": 2612,
    "start_time": "2021-06-08T14:06:59.527Z"
   },
   {
    "duration": 25492,
    "start_time": "2021-06-08T14:07:42.544Z"
   },
   {
    "duration": 87413,
    "start_time": "2021-06-08T14:08:33.576Z"
   },
   {
    "duration": -1229,
    "start_time": "2021-06-08T14:29:32.502Z"
   },
   {
    "duration": 19023,
    "start_time": "2021-06-08T14:29:33.189Z"
   },
   {
    "duration": 1590888,
    "start_time": "2021-06-08T14:29:54.656Z"
   },
   {
    "duration": 12048,
    "start_time": "2021-06-08T14:58:44.420Z"
   },
   {
    "duration": 1454,
    "start_time": "2021-06-08T14:58:56.471Z"
   },
   {
    "duration": 20898,
    "start_time": "2021-06-08T14:59:45.800Z"
   },
   {
    "duration": 11897,
    "start_time": "2021-06-08T15:01:05.800Z"
   },
   {
    "duration": 267838,
    "start_time": "2021-06-08T15:01:18.953Z"
   },
   {
    "duration": 9794,
    "start_time": "2021-06-08T15:13:03.531Z"
   },
   {
    "duration": 9573,
    "start_time": "2021-06-08T15:14:01.727Z"
   },
   {
    "duration": 2647,
    "start_time": "2021-06-08T15:14:20.429Z"
   },
   {
    "duration": 9630,
    "start_time": "2021-06-08T15:14:44.478Z"
   },
   {
    "duration": 9452,
    "start_time": "2021-06-08T15:15:04.852Z"
   },
   {
    "duration": 5688,
    "start_time": "2021-06-08T15:15:28.022Z"
   },
   {
    "duration": 9603,
    "start_time": "2021-06-08T15:15:34.857Z"
   },
   {
    "duration": 8750,
    "start_time": "2021-06-08T15:15:50.132Z"
   },
   {
    "duration": 8689,
    "start_time": "2021-06-08T15:16:16.677Z"
   },
   {
    "duration": 8721,
    "start_time": "2021-06-08T15:16:36.415Z"
   },
   {
    "duration": 8753,
    "start_time": "2021-06-08T15:17:38.622Z"
   },
   {
    "duration": 8597,
    "start_time": "2021-06-08T15:18:04.099Z"
   },
   {
    "duration": 8667,
    "start_time": "2021-06-08T15:18:17.543Z"
   },
   {
    "duration": 12,
    "start_time": "2021-06-08T15:18:31.275Z"
   },
   {
    "duration": 8731,
    "start_time": "2021-06-08T15:19:04.871Z"
   },
   {
    "duration": 8,
    "start_time": "2021-06-08T15:19:19.086Z"
   },
   {
    "duration": 316,
    "start_time": "2021-06-08T15:20:39.801Z"
   },
   {
    "duration": 8,
    "start_time": "2021-06-08T15:21:48.700Z"
   },
   {
    "duration": 7,
    "start_time": "2021-06-08T15:21:56.072Z"
   },
   {
    "duration": 15,
    "start_time": "2021-06-08T15:22:57.185Z"
   },
   {
    "duration": 279,
    "start_time": "2021-06-08T15:24:05.432Z"
   },
   {
    "duration": 61,
    "start_time": "2021-06-08T15:27:47.013Z"
   },
   {
    "duration": 60,
    "start_time": "2021-06-08T15:28:21.141Z"
   },
   {
    "duration": 306,
    "start_time": "2021-06-08T15:30:02.214Z"
   },
   {
    "duration": 454,
    "start_time": "2021-06-08T15:30:36.018Z"
   },
   {
    "duration": 7,
    "start_time": "2021-06-08T15:30:39.057Z"
   },
   {
    "duration": 442,
    "start_time": "2021-06-08T15:30:49.160Z"
   },
   {
    "duration": 136,
    "start_time": "2021-06-08T15:30:51.535Z"
   },
   {
    "duration": 563,
    "start_time": "2021-06-08T15:30:51.815Z"
   },
   {
    "duration": 347,
    "start_time": "2021-06-08T15:31:02.416Z"
   },
   {
    "duration": 63,
    "start_time": "2021-06-08T15:31:29.907Z"
   },
   {
    "duration": 44,
    "start_time": "2021-06-08T15:32:35.805Z"
   },
   {
    "duration": 285,
    "start_time": "2021-06-08T15:33:14.411Z"
   },
   {
    "duration": 7709,
    "start_time": "2021-06-08T15:34:27.470Z"
   },
   {
    "duration": 7648,
    "start_time": "2021-06-08T15:34:44.187Z"
   },
   {
    "duration": 433,
    "start_time": "2021-06-08T15:36:44.249Z"
   },
   {
    "duration": 313,
    "start_time": "2021-06-08T15:37:01.716Z"
   },
   {
    "duration": 8952,
    "start_time": "2021-06-08T15:37:35.226Z"
   },
   {
    "duration": 51,
    "start_time": "2021-06-08T15:38:41.698Z"
   },
   {
    "duration": 45,
    "start_time": "2021-06-08T15:38:51.045Z"
   },
   {
    "duration": 45,
    "start_time": "2021-06-08T15:38:58.797Z"
   },
   {
    "duration": 64,
    "start_time": "2021-06-08T15:39:30.746Z"
   },
   {
    "duration": 72,
    "start_time": "2021-06-08T15:39:44.572Z"
   },
   {
    "duration": 301,
    "start_time": "2021-06-08T15:39:59.367Z"
   },
   {
    "duration": 87,
    "start_time": "2021-06-08T15:40:13.881Z"
   },
   {
    "duration": 34,
    "start_time": "2021-06-08T15:40:30.238Z"
   },
   {
    "duration": 16,
    "start_time": "2021-06-08T15:40:33.732Z"
   },
   {
    "duration": 5,
    "start_time": "2021-06-08T15:40:53.639Z"
   },
   {
    "duration": 423,
    "start_time": "2021-06-08T15:40:53.646Z"
   },
   {
    "duration": 138,
    "start_time": "2021-06-08T15:40:54.072Z"
   },
   {
    "duration": 531,
    "start_time": "2021-06-08T15:40:54.213Z"
   },
   {
    "duration": 23,
    "start_time": "2021-06-08T15:40:54.747Z"
   },
   {
    "duration": 7,
    "start_time": "2021-06-08T15:40:54.773Z"
   },
   {
    "duration": 1400,
    "start_time": "2021-06-08T15:40:54.783Z"
   },
   {
    "duration": 1923,
    "start_time": "2021-06-08T15:40:56.187Z"
   },
   {
    "duration": 1694,
    "start_time": "2021-06-08T15:40:58.113Z"
   },
   {
    "duration": 33,
    "start_time": "2021-06-08T15:40:59.810Z"
   },
   {
    "duration": 26,
    "start_time": "2021-06-08T15:40:59.846Z"
   },
   {
    "duration": 51,
    "start_time": "2021-06-08T15:40:59.875Z"
   },
   {
    "duration": 181,
    "start_time": "2021-06-08T15:40:59.929Z"
   },
   {
    "duration": 13,
    "start_time": "2021-06-08T15:41:00.112Z"
   },
   {
    "duration": 47,
    "start_time": "2021-06-08T15:41:00.127Z"
   },
   {
    "duration": 8,
    "start_time": "2021-06-08T15:41:00.177Z"
   },
   {
    "duration": 46,
    "start_time": "2021-06-08T15:41:00.187Z"
   },
   {
    "duration": 12,
    "start_time": "2021-06-08T15:41:00.235Z"
   },
   {
    "duration": 13,
    "start_time": "2021-06-08T15:41:00.249Z"
   },
   {
    "duration": 11571,
    "start_time": "2021-06-08T15:41:00.265Z"
   },
   {
    "duration": 1286,
    "start_time": "2021-06-08T15:41:11.838Z"
   },
   {
    "duration": 8610,
    "start_time": "2021-06-08T15:41:33.549Z"
   },
   {
    "duration": 7,
    "start_time": "2021-06-08T15:41:42.161Z"
   },
   {
    "duration": 1808,
    "start_time": "2021-06-08T15:42:17.965Z"
   },
   {
    "duration": 8545,
    "start_time": "2021-06-08T15:42:38.374Z"
   },
   {
    "duration": 8683,
    "start_time": "2021-06-08T15:42:58.066Z"
   },
   {
    "duration": 7,
    "start_time": "2021-06-08T15:43:12.497Z"
   },
   {
    "duration": 1409,
    "start_time": "2021-06-09T09:50:22.332Z"
   },
   {
    "duration": 416,
    "start_time": "2021-06-09T09:50:23.744Z"
   },
   {
    "duration": 141,
    "start_time": "2021-06-09T09:50:24.162Z"
   },
   {
    "duration": 528,
    "start_time": "2021-06-09T09:50:24.306Z"
   },
   {
    "duration": 21,
    "start_time": "2021-06-09T09:50:24.836Z"
   },
   {
    "duration": 6,
    "start_time": "2021-06-09T09:50:24.860Z"
   },
   {
    "duration": 1396,
    "start_time": "2021-06-09T09:50:24.868Z"
   },
   {
    "duration": 1900,
    "start_time": "2021-06-09T09:50:26.267Z"
   },
   {
    "duration": 1645,
    "start_time": "2021-06-09T09:50:28.172Z"
   },
   {
    "duration": 24,
    "start_time": "2021-06-09T09:50:29.819Z"
   },
   {
    "duration": 22,
    "start_time": "2021-06-09T09:50:29.845Z"
   },
   {
    "duration": 54,
    "start_time": "2021-06-09T09:50:29.870Z"
   },
   {
    "duration": 44,
    "start_time": "2021-06-09T09:50:29.926Z"
   },
   {
    "duration": 3,
    "start_time": "2021-06-09T09:50:29.972Z"
   },
   {
    "duration": 57,
    "start_time": "2021-06-09T09:50:29.977Z"
   },
   {
    "duration": 8,
    "start_time": "2021-06-09T09:50:30.036Z"
   },
   {
    "duration": 76,
    "start_time": "2021-06-09T09:50:30.047Z"
   },
   {
    "duration": 26,
    "start_time": "2021-06-09T09:50:30.126Z"
   },
   {
    "duration": 28,
    "start_time": "2021-06-09T09:50:30.155Z"
   },
   {
    "duration": 11419,
    "start_time": "2021-06-09T09:50:30.185Z"
   },
   {
    "duration": 1320,
    "start_time": "2021-06-09T09:50:41.606Z"
   },
   {
    "duration": 312117,
    "start_time": "2021-06-09T09:50:42.928Z"
   },
   {
    "duration": -945,
    "start_time": "2021-06-09T09:55:55.993Z"
   },
   {
    "duration": -947,
    "start_time": "2021-06-09T09:55:55.997Z"
   },
   {
    "duration": -948,
    "start_time": "2021-06-09T09:55:55.999Z"
   },
   {
    "duration": -952,
    "start_time": "2021-06-09T09:55:56.004Z"
   },
   {
    "duration": -953,
    "start_time": "2021-06-09T09:55:56.006Z"
   },
   {
    "duration": 8596,
    "start_time": "2021-06-09T09:56:05.679Z"
   },
   {
    "duration": 10791,
    "start_time": "2021-06-09T09:56:14.278Z"
   },
   {
    "duration": 8106,
    "start_time": "2021-06-09T09:56:56.777Z"
   },
   {
    "duration": 896,
    "start_time": "2021-06-09T09:57:31.617Z"
   },
   {
    "duration": 279,
    "start_time": "2021-06-09T09:59:28.237Z"
   },
   {
    "duration": 7,
    "start_time": "2021-06-09T10:00:30.730Z"
   },
   {
    "duration": 7,
    "start_time": "2021-06-09T10:01:20.175Z"
   },
   {
    "duration": 7,
    "start_time": "2021-06-09T10:02:27.917Z"
   },
   {
    "duration": 9,
    "start_time": "2021-06-09T10:02:52.801Z"
   },
   {
    "duration": 1326,
    "start_time": "2021-06-09T10:04:20.902Z"
   },
   {
    "duration": 8672,
    "start_time": "2021-06-09T10:04:56.296Z"
   },
   {
    "duration": 775,
    "start_time": "2021-06-09T10:05:06.613Z"
   },
   {
    "duration": 12,
    "start_time": "2021-06-09T10:05:11.296Z"
   },
   {
    "duration": 319,
    "start_time": "2021-06-09T10:05:50.110Z"
   },
   {
    "duration": 276,
    "start_time": "2021-06-09T10:06:37.218Z"
   },
   {
    "duration": 6,
    "start_time": "2021-06-09T10:06:49.994Z"
   },
   {
    "duration": 4,
    "start_time": "2021-06-09T10:07:15.374Z"
   },
   {
    "duration": 7,
    "start_time": "2021-06-09T10:07:20.799Z"
   },
   {
    "duration": 774,
    "start_time": "2021-06-09T10:07:41.486Z"
   },
   {
    "duration": 769,
    "start_time": "2021-06-09T10:08:06.979Z"
   },
   {
    "duration": 383,
    "start_time": "2021-06-09T10:09:02.071Z"
   },
   {
    "duration": 387,
    "start_time": "2021-06-09T10:09:26.213Z"
   },
   {
    "duration": 388,
    "start_time": "2021-06-09T10:09:34.590Z"
   },
   {
    "duration": 7,
    "start_time": "2021-06-09T10:09:46.687Z"
   },
   {
    "duration": 389,
    "start_time": "2021-06-09T10:09:50.501Z"
   },
   {
    "duration": 1094,
    "start_time": "2021-06-09T10:12:24.572Z"
   },
   {
    "duration": 312,
    "start_time": "2021-06-09T10:15:51.837Z"
   },
   {
    "duration": 5,
    "start_time": "2021-06-09T10:15:57.333Z"
   },
   {
    "duration": 450,
    "start_time": "2021-06-09T10:15:57.341Z"
   },
   {
    "duration": 145,
    "start_time": "2021-06-09T10:15:57.795Z"
   },
   {
    "duration": 544,
    "start_time": "2021-06-09T10:15:57.944Z"
   },
   {
    "duration": 40,
    "start_time": "2021-06-09T10:15:58.491Z"
   },
   {
    "duration": 7,
    "start_time": "2021-06-09T10:15:58.534Z"
   },
   {
    "duration": 1413,
    "start_time": "2021-06-09T10:15:58.546Z"
   },
   {
    "duration": 1945,
    "start_time": "2021-06-09T10:15:59.963Z"
   },
   {
    "duration": 1675,
    "start_time": "2021-06-09T10:16:01.911Z"
   },
   {
    "duration": 37,
    "start_time": "2021-06-09T10:16:03.588Z"
   },
   {
    "duration": 20,
    "start_time": "2021-06-09T10:16:03.628Z"
   },
   {
    "duration": 20,
    "start_time": "2021-06-09T10:16:03.651Z"
   },
   {
    "duration": 70,
    "start_time": "2021-06-09T10:16:03.673Z"
   },
   {
    "duration": 23,
    "start_time": "2021-06-09T10:16:03.746Z"
   },
   {
    "duration": 16,
    "start_time": "2021-06-09T10:16:03.772Z"
   },
   {
    "duration": 33,
    "start_time": "2021-06-09T10:16:03.790Z"
   },
   {
    "duration": 296,
    "start_time": "2021-06-09T10:16:03.826Z"
   },
   {
    "duration": -1038,
    "start_time": "2021-06-09T10:16:05.163Z"
   },
   {
    "duration": -1074,
    "start_time": "2021-06-09T10:16:05.201Z"
   },
   {
    "duration": -1091,
    "start_time": "2021-06-09T10:16:05.219Z"
   },
   {
    "duration": -1094,
    "start_time": "2021-06-09T10:16:05.223Z"
   },
   {
    "duration": -1099,
    "start_time": "2021-06-09T10:16:05.229Z"
   },
   {
    "duration": -1100,
    "start_time": "2021-06-09T10:16:05.232Z"
   },
   {
    "duration": -1102,
    "start_time": "2021-06-09T10:16:05.235Z"
   },
   {
    "duration": -1104,
    "start_time": "2021-06-09T10:16:05.238Z"
   },
   {
    "duration": -1107,
    "start_time": "2021-06-09T10:16:05.243Z"
   },
   {
    "duration": -1109,
    "start_time": "2021-06-09T10:16:05.246Z"
   },
   {
    "duration": -1111,
    "start_time": "2021-06-09T10:16:05.249Z"
   },
   {
    "duration": -1113,
    "start_time": "2021-06-09T10:16:05.252Z"
   },
   {
    "duration": 38,
    "start_time": "2021-06-09T10:16:33.234Z"
   },
   {
    "duration": 14,
    "start_time": "2021-06-09T10:16:39.293Z"
   },
   {
    "duration": 6,
    "start_time": "2021-06-09T10:16:48.794Z"
   },
   {
    "duration": 8560,
    "start_time": "2021-06-09T10:16:56.748Z"
   },
   {
    "duration": 271,
    "start_time": "2021-06-09T10:17:12.902Z"
   },
   {
    "duration": 1210,
    "start_time": "2021-06-09T10:18:00.155Z"
   },
   {
    "duration": 363,
    "start_time": "2021-06-09T10:18:10.610Z"
   },
   {
    "duration": 279,
    "start_time": "2021-06-09T10:19:22.888Z"
   },
   {
    "duration": 302,
    "start_time": "2021-06-09T10:19:50.401Z"
   },
   {
    "duration": 364,
    "start_time": "2021-06-09T10:19:55.349Z"
   },
   {
    "duration": 889,
    "start_time": "2021-06-09T10:20:17.961Z"
   },
   {
    "duration": 293,
    "start_time": "2021-06-09T10:20:22.836Z"
   },
   {
    "duration": 38,
    "start_time": "2021-06-09T10:20:50.414Z"
   },
   {
    "duration": 13,
    "start_time": "2021-06-09T10:20:52.306Z"
   },
   {
    "duration": 1119,
    "start_time": "2021-06-09T10:21:01.605Z"
   },
   {
    "duration": 9,
    "start_time": "2021-06-09T10:21:25.536Z"
   },
   {
    "duration": 1068,
    "start_time": "2021-06-09T10:22:22.202Z"
   },
   {
    "duration": 46,
    "start_time": "2021-06-09T10:23:14.819Z"
   },
   {
    "duration": 13,
    "start_time": "2021-06-09T10:23:19.707Z"
   },
   {
    "duration": 1180,
    "start_time": "2021-06-09T10:23:25.665Z"
   },
   {
    "duration": 355,
    "start_time": "2021-06-09T10:23:41.098Z"
   },
   {
    "duration": 8749,
    "start_time": "2021-06-09T10:23:54.441Z"
   },
   {
    "duration": 1108,
    "start_time": "2021-06-09T10:25:00.073Z"
   },
   {
    "duration": 51,
    "start_time": "2021-06-09T10:25:22.717Z"
   },
   {
    "duration": 13,
    "start_time": "2021-06-09T10:25:25.942Z"
   },
   {
    "duration": 1068,
    "start_time": "2021-06-09T10:25:40.673Z"
   },
   {
    "duration": 244,
    "start_time": "2021-06-09T10:25:57.976Z"
   },
   {
    "duration": 267,
    "start_time": "2021-06-09T10:26:15.297Z"
   },
   {
    "duration": 244,
    "start_time": "2021-06-09T10:26:21.829Z"
   },
   {
    "duration": 1089,
    "start_time": "2021-06-09T10:29:41.263Z"
   },
   {
    "duration": 69,
    "start_time": "2021-06-09T10:29:58.365Z"
   },
   {
    "duration": 13,
    "start_time": "2021-06-09T10:30:00.121Z"
   },
   {
    "duration": 4,
    "start_time": "2021-06-09T10:32:39.733Z"
   },
   {
    "duration": 8413,
    "start_time": "2021-06-09T10:32:41.080Z"
   },
   {
    "duration": 299766,
    "start_time": "2021-06-09T10:32:55.982Z"
   },
   {
    "duration": 5,
    "start_time": "2021-06-09T10:37:59.657Z"
   },
   {
    "duration": 120750,
    "start_time": "2021-06-09T10:38:03.325Z"
   },
   {
    "duration": 5,
    "start_time": "2021-06-09T10:40:05.495Z"
   },
   {
    "duration": 7101,
    "start_time": "2021-06-09T10:40:09.667Z"
   },
   {
    "duration": -944,
    "start_time": "2021-06-09T10:40:17.716Z"
   },
   {
    "duration": 7,
    "start_time": "2021-06-09T10:40:18.799Z"
   },
   {
    "duration": 5,
    "start_time": "2021-06-09T10:40:21.517Z"
   },
   {
    "duration": 8124,
    "start_time": "2021-06-09T10:40:22.801Z"
   },
   {
    "duration": 6,
    "start_time": "2021-06-09T10:43:04.073Z"
   },
   {
    "duration": 6,
    "start_time": "2021-06-09T11:30:34.249Z"
   },
   {
    "duration": 3057,
    "start_time": "2021-06-09T11:30:35.909Z"
   },
   {
    "duration": 8177,
    "start_time": "2021-06-09T11:30:54.071Z"
   },
   {
    "duration": 8105,
    "start_time": "2021-06-09T11:31:20.330Z"
   },
   {
    "duration": 6,
    "start_time": "2021-06-09T11:31:35.187Z"
   },
   {
    "duration": 14696,
    "start_time": "2021-06-09T11:31:37.796Z"
   },
   {
    "duration": 8,
    "start_time": "2021-06-09T11:32:23.946Z"
   },
   {
    "duration": 8042,
    "start_time": "2021-06-09T11:32:25.373Z"
   },
   {
    "duration": 38,
    "start_time": "2021-06-09T11:33:54.999Z"
   },
   {
    "duration": 14,
    "start_time": "2021-06-09T11:33:56.990Z"
   },
   {
    "duration": 8,
    "start_time": "2021-06-09T11:34:04.511Z"
   },
   {
    "duration": 7935,
    "start_time": "2021-06-09T11:34:06.104Z"
   },
   {
    "duration": 1259,
    "start_time": "2021-06-09T11:40:13.848Z"
   },
   {
    "duration": 6,
    "start_time": "2021-06-09T11:40:22.188Z"
   },
   {
    "duration": 993,
    "start_time": "2021-06-09T11:40:26.676Z"
   },
   {
    "duration": 11862,
    "start_time": "2021-06-09T11:47:18.554Z"
   },
   {
    "duration": 1505,
    "start_time": "2021-06-09T11:47:30.424Z"
   },
   {
    "duration": 46980,
    "start_time": "2021-06-09T11:47:31.932Z"
   },
   {
    "duration": 406938,
    "start_time": "2021-06-09T11:48:29.004Z"
   },
   {
    "duration": 6,
    "start_time": "2021-06-09T12:02:11.162Z"
   },
   {
    "duration": 490,
    "start_time": "2021-06-09T12:02:11.171Z"
   },
   {
    "duration": 143,
    "start_time": "2021-06-09T12:02:11.664Z"
   },
   {
    "duration": 560,
    "start_time": "2021-06-09T12:02:11.824Z"
   },
   {
    "duration": 39,
    "start_time": "2021-06-09T12:02:12.387Z"
   },
   {
    "duration": 8,
    "start_time": "2021-06-09T12:02:12.429Z"
   },
   {
    "duration": 1447,
    "start_time": "2021-06-09T12:02:12.440Z"
   },
   {
    "duration": 2170,
    "start_time": "2021-06-09T12:02:13.890Z"
   },
   {
    "duration": 1663,
    "start_time": "2021-06-09T12:02:16.064Z"
   },
   {
    "duration": 23,
    "start_time": "2021-06-09T12:02:17.729Z"
   },
   {
    "duration": 34,
    "start_time": "2021-06-09T12:02:17.755Z"
   },
   {
    "duration": 35,
    "start_time": "2021-06-09T12:02:17.792Z"
   },
   {
    "duration": 44,
    "start_time": "2021-06-09T12:02:17.829Z"
   },
   {
    "duration": 21,
    "start_time": "2021-06-09T12:02:17.876Z"
   },
   {
    "duration": 36,
    "start_time": "2021-06-09T12:02:17.900Z"
   },
   {
    "duration": 14,
    "start_time": "2021-06-09T12:02:17.938Z"
   },
   {
    "duration": 66,
    "start_time": "2021-06-09T12:02:17.955Z"
   },
   {
    "duration": 16,
    "start_time": "2021-06-09T12:02:18.023Z"
   },
   {
    "duration": 15,
    "start_time": "2021-06-09T12:02:18.041Z"
   },
   {
    "duration": 11517,
    "start_time": "2021-06-09T12:02:18.058Z"
   },
   {
    "duration": 1448,
    "start_time": "2021-06-09T12:02:29.578Z"
   },
   {
    "duration": 15,
    "start_time": "2021-06-09T12:02:31.029Z"
   },
   {
    "duration": -1304,
    "start_time": "2021-06-09T12:02:32.351Z"
   },
   {
    "duration": -1333,
    "start_time": "2021-06-09T12:02:32.382Z"
   },
   {
    "duration": -1336,
    "start_time": "2021-06-09T12:02:32.387Z"
   },
   {
    "duration": -1339,
    "start_time": "2021-06-09T12:02:32.392Z"
   },
   {
    "duration": -1341,
    "start_time": "2021-06-09T12:02:32.396Z"
   },
   {
    "duration": 20,
    "start_time": "2021-06-09T12:03:03.732Z"
   },
   {
    "duration": 11792,
    "start_time": "2021-06-09T12:03:58.109Z"
   },
   {
    "duration": 5,
    "start_time": "2021-06-09T12:04:35.382Z"
   },
   {
    "duration": 457,
    "start_time": "2021-06-09T12:04:35.391Z"
   },
   {
    "duration": 142,
    "start_time": "2021-06-09T12:04:35.852Z"
   },
   {
    "duration": 553,
    "start_time": "2021-06-09T12:04:35.998Z"
   },
   {
    "duration": 17,
    "start_time": "2021-06-09T12:04:36.553Z"
   },
   {
    "duration": 7,
    "start_time": "2021-06-09T12:04:36.573Z"
   },
   {
    "duration": 1409,
    "start_time": "2021-06-09T12:04:36.583Z"
   },
   {
    "duration": 2000,
    "start_time": "2021-06-09T12:04:37.997Z"
   },
   {
    "duration": 1837,
    "start_time": "2021-06-09T12:04:40.000Z"
   },
   {
    "duration": 23,
    "start_time": "2021-06-09T12:04:41.839Z"
   },
   {
    "duration": 73,
    "start_time": "2021-06-09T12:04:41.865Z"
   },
   {
    "duration": 32,
    "start_time": "2021-06-09T12:04:41.940Z"
   },
   {
    "duration": 375,
    "start_time": "2021-06-09T12:04:41.975Z"
   },
   {
    "duration": 22,
    "start_time": "2021-06-09T12:04:42.352Z"
   },
   {
    "duration": 13,
    "start_time": "2021-06-09T12:04:42.376Z"
   },
   {
    "duration": 33,
    "start_time": "2021-06-09T12:04:42.391Z"
   },
   {
    "duration": 40,
    "start_time": "2021-06-09T12:04:42.426Z"
   },
   {
    "duration": 12,
    "start_time": "2021-06-09T12:04:42.468Z"
   },
   {
    "duration": 8,
    "start_time": "2021-06-09T12:04:42.482Z"
   },
   {
    "duration": 11823,
    "start_time": "2021-06-09T12:04:42.524Z"
   },
   {
    "duration": 1377,
    "start_time": "2021-06-09T12:04:54.349Z"
   },
   {
    "duration": 253899,
    "start_time": "2021-06-09T12:04:55.728Z"
   },
   {
    "duration": 11975,
    "start_time": "2021-06-09T12:09:09.631Z"
   },
   {
    "duration": 1217,
    "start_time": "2021-06-09T12:09:21.609Z"
   },
   {
    "duration": 225223,
    "start_time": "2021-06-09T12:09:22.828Z"
   },
   {
    "duration": 1095,
    "start_time": "2021-06-09T12:13:08.053Z"
   },
   {
    "duration": 160287,
    "start_time": "2021-06-09T12:13:09.150Z"
   },
   {
    "duration": -1280,
    "start_time": "2021-06-09T12:15:50.720Z"
   },
   {
    "duration": 671,
    "start_time": "2021-06-09T12:15:51.626Z"
   },
   {
    "duration": 3489,
    "start_time": "2021-06-09T12:16:34.254Z"
   },
   {
    "duration": 2092,
    "start_time": "2021-06-09T12:16:58.788Z"
   },
   {
    "duration": 691,
    "start_time": "2021-06-09T12:17:10.263Z"
   },
   {
    "duration": 142663,
    "start_time": "2021-06-09T13:04:01.995Z"
   },
   {
    "duration": 229566,
    "start_time": "2021-06-09T13:06:25.781Z"
   },
   {
    "duration": 15244,
    "start_time": "2021-06-09T13:11:57.028Z"
   },
   {
    "duration": 32783,
    "start_time": "2021-06-09T13:12:23.512Z"
   },
   {
    "duration": 39692,
    "start_time": "2021-06-09T13:13:53.017Z"
   },
   {
    "duration": 2157,
    "start_time": "2021-06-09T13:17:30.844Z"
   },
   {
    "duration": 6573,
    "start_time": "2021-06-09T13:17:38.882Z"
   },
   {
    "duration": 21380,
    "start_time": "2021-06-09T13:17:51.677Z"
   },
   {
    "duration": 6705,
    "start_time": "2021-06-09T13:18:48.059Z"
   },
   {
    "duration": 2136,
    "start_time": "2021-06-09T13:19:33.999Z"
   },
   {
    "duration": 5,
    "start_time": "2021-06-09T13:19:54.776Z"
   },
   {
    "duration": 434,
    "start_time": "2021-06-09T13:19:54.785Z"
   },
   {
    "duration": 137,
    "start_time": "2021-06-09T13:19:55.224Z"
   },
   {
    "duration": 534,
    "start_time": "2021-06-09T13:19:55.365Z"
   },
   {
    "duration": 29,
    "start_time": "2021-06-09T13:19:55.902Z"
   },
   {
    "duration": 6,
    "start_time": "2021-06-09T13:19:55.934Z"
   },
   {
    "duration": 1405,
    "start_time": "2021-06-09T13:19:55.943Z"
   },
   {
    "duration": 2184,
    "start_time": "2021-06-09T13:19:57.350Z"
   },
   {
    "duration": 1697,
    "start_time": "2021-06-09T13:19:59.537Z"
   },
   {
    "duration": 24,
    "start_time": "2021-06-09T13:20:01.237Z"
   },
   {
    "duration": 29,
    "start_time": "2021-06-09T13:20:01.263Z"
   },
   {
    "duration": 45,
    "start_time": "2021-06-09T13:20:01.294Z"
   },
   {
    "duration": 41,
    "start_time": "2021-06-09T13:20:01.341Z"
   },
   {
    "duration": 47,
    "start_time": "2021-06-09T13:20:01.384Z"
   },
   {
    "duration": 13,
    "start_time": "2021-06-09T13:20:01.433Z"
   },
   {
    "duration": 15,
    "start_time": "2021-06-09T13:20:01.449Z"
   },
   {
    "duration": 64,
    "start_time": "2021-06-09T13:20:01.466Z"
   },
   {
    "duration": 13,
    "start_time": "2021-06-09T13:20:01.532Z"
   },
   {
    "duration": 30,
    "start_time": "2021-06-09T13:20:01.547Z"
   },
   {
    "duration": 11696,
    "start_time": "2021-06-09T13:20:01.579Z"
   },
   {
    "duration": 1654,
    "start_time": "2021-06-09T13:20:13.277Z"
   },
   {
    "duration": 797149,
    "start_time": "2021-06-09T13:20:14.933Z"
   },
   {
    "duration": 12283,
    "start_time": "2021-06-09T13:33:32.085Z"
   },
   {
    "duration": 1971,
    "start_time": "2021-06-09T13:33:44.374Z"
   },
   {
    "duration": 588006,
    "start_time": "2021-06-09T13:33:46.348Z"
   },
   {
    "duration": 1945,
    "start_time": "2021-06-09T13:43:34.356Z"
   },
   {
    "duration": 937,
    "start_time": "2021-06-09T13:50:12.220Z"
   },
   {
    "duration": 3014,
    "start_time": "2021-06-09T13:50:18.650Z"
   },
   {
    "duration": 6523,
    "start_time": "2021-06-09T13:50:30.268Z"
   },
   {
    "duration": 1931,
    "start_time": "2021-06-09T13:50:40.213Z"
   },
   {
    "duration": 932,
    "start_time": "2021-06-09T13:50:50.592Z"
   },
   {
    "duration": 5,
    "start_time": "2021-06-09T13:51:14.086Z"
   },
   {
    "duration": 422,
    "start_time": "2021-06-09T13:51:14.093Z"
   },
   {
    "duration": 132,
    "start_time": "2021-06-09T13:51:14.525Z"
   },
   {
    "duration": 531,
    "start_time": "2021-06-09T13:51:14.660Z"
   },
   {
    "duration": 31,
    "start_time": "2021-06-09T13:51:15.194Z"
   },
   {
    "duration": 7,
    "start_time": "2021-06-09T13:51:15.227Z"
   },
   {
    "duration": 1397,
    "start_time": "2021-06-09T13:51:15.236Z"
   },
   {
    "duration": 1964,
    "start_time": "2021-06-09T13:51:16.636Z"
   },
   {
    "duration": 1689,
    "start_time": "2021-06-09T13:51:18.603Z"
   },
   {
    "duration": 36,
    "start_time": "2021-06-09T13:51:20.294Z"
   },
   {
    "duration": 19,
    "start_time": "2021-06-09T13:51:20.332Z"
   },
   {
    "duration": 19,
    "start_time": "2021-06-09T13:51:20.353Z"
   },
   {
    "duration": 74,
    "start_time": "2021-06-09T13:51:20.374Z"
   },
   {
    "duration": 21,
    "start_time": "2021-06-09T13:51:20.450Z"
   },
   {
    "duration": 13,
    "start_time": "2021-06-09T13:51:20.473Z"
   },
   {
    "duration": 8,
    "start_time": "2021-06-09T13:51:20.488Z"
   },
   {
    "duration": 61,
    "start_time": "2021-06-09T13:51:20.499Z"
   },
   {
    "duration": 13,
    "start_time": "2021-06-09T13:51:20.562Z"
   },
   {
    "duration": 9,
    "start_time": "2021-06-09T13:51:20.578Z"
   },
   {
    "duration": 11475,
    "start_time": "2021-06-09T13:51:20.625Z"
   },
   {
    "duration": 1329,
    "start_time": "2021-06-09T13:51:32.102Z"
   },
   {
    "duration": 59620,
    "start_time": "2021-06-09T13:51:33.434Z"
   },
   {
    "duration": -1242,
    "start_time": "2021-06-09T13:52:34.299Z"
   },
   {
    "duration": -1246,
    "start_time": "2021-06-09T13:52:34.304Z"
   },
   {
    "duration": -1251,
    "start_time": "2021-06-09T13:52:34.311Z"
   },
   {
    "duration": -1256,
    "start_time": "2021-06-09T13:52:34.317Z"
   },
   {
    "duration": 140105,
    "start_time": "2021-06-09T13:53:02.443Z"
   },
   {
    "duration": 106154,
    "start_time": "2021-06-09T13:55:23.444Z"
   },
   {
    "duration": 179196,
    "start_time": "2021-06-09T13:57:10.513Z"
   },
   {
    "duration": 944,
    "start_time": "2021-06-09T14:00:24.930Z"
   },
   {
    "duration": 3070,
    "start_time": "2021-06-09T14:00:31.991Z"
   },
   {
    "duration": 949,
    "start_time": "2021-06-09T14:00:39.424Z"
   },
   {
    "duration": 1498,
    "start_time": "2021-06-10T03:51:49.967Z"
   },
   {
    "duration": 458,
    "start_time": "2021-06-10T03:51:51.468Z"
   },
   {
    "duration": 146,
    "start_time": "2021-06-10T03:51:51.929Z"
   },
   {
    "duration": 596,
    "start_time": "2021-06-10T03:51:52.808Z"
   },
   {
    "duration": 24,
    "start_time": "2021-06-10T03:51:54.169Z"
   },
   {
    "duration": 7,
    "start_time": "2021-06-10T03:59:17.727Z"
   },
   {
    "duration": 1430,
    "start_time": "2021-06-10T03:59:53.937Z"
   },
   {
    "duration": 2470,
    "start_time": "2021-06-10T03:59:56.490Z"
   },
   {
    "duration": 2472,
    "start_time": "2021-06-10T03:59:58.963Z"
   },
   {
    "duration": 33,
    "start_time": "2021-06-10T04:00:01.439Z"
   },
   {
    "duration": 47,
    "start_time": "2021-06-10T04:00:01.474Z"
   },
   {
    "duration": 25,
    "start_time": "2021-06-10T04:00:01.526Z"
   },
   {
    "duration": 83,
    "start_time": "2021-06-10T04:00:01.554Z"
   },
   {
    "duration": 29,
    "start_time": "2021-06-10T04:00:01.641Z"
   },
   {
    "duration": 15,
    "start_time": "2021-06-10T04:00:01.785Z"
   },
   {
    "duration": 10,
    "start_time": "2021-06-10T04:00:01.960Z"
   },
   {
    "duration": 55,
    "start_time": "2021-06-10T04:00:13.958Z"
   },
   {
    "duration": 15,
    "start_time": "2021-06-10T04:00:14.729Z"
   },
   {
    "duration": 6,
    "start_time": "2021-06-10T04:13:58.540Z"
   },
   {
    "duration": 11820,
    "start_time": "2021-06-10T04:13:59.515Z"
   },
   {
    "duration": 1389,
    "start_time": "2021-06-10T04:14:11.338Z"
   },
   {
    "duration": 182964,
    "start_time": "2021-06-10T04:14:12.731Z"
   },
   {
    "duration": 12010,
    "start_time": "2021-06-10T04:17:15.698Z"
   },
   {
    "duration": 1425,
    "start_time": "2021-06-10T04:17:27.710Z"
   },
   {
    "duration": 139,
    "start_time": "2021-06-10T04:17:29.225Z"
   },
   {
    "duration": 1765,
    "start_time": "2021-06-10T04:17:27.601Z"
   },
   {
    "duration": 188554,
    "start_time": "2021-06-10T04:18:35.874Z"
   },
   {
    "duration": 1015,
    "start_time": "2021-06-10T04:21:44.431Z"
   },
   {
    "duration": 1400,
    "start_time": "2021-06-10T10:17:23.416Z"
   },
   {
    "duration": 433,
    "start_time": "2021-06-10T10:17:24.819Z"
   },
   {
    "duration": 139,
    "start_time": "2021-06-10T10:17:25.256Z"
   },
   {
    "duration": 537,
    "start_time": "2021-06-10T10:17:25.401Z"
   },
   {
    "duration": 22,
    "start_time": "2021-06-10T10:17:25.940Z"
   },
   {
    "duration": 6,
    "start_time": "2021-06-10T10:17:25.965Z"
   },
   {
    "duration": 1690,
    "start_time": "2021-06-10T10:17:25.974Z"
   },
   {
    "duration": 3622,
    "start_time": "2021-06-10T10:17:55.243Z"
   },
   {
    "duration": 4,
    "start_time": "2021-06-10T10:23:47.636Z"
   },
   {
    "duration": 451,
    "start_time": "2021-06-10T10:23:47.643Z"
   },
   {
    "duration": 139,
    "start_time": "2021-06-10T10:23:48.101Z"
   },
   {
    "duration": 552,
    "start_time": "2021-06-10T10:23:48.243Z"
   },
   {
    "duration": 15,
    "start_time": "2021-06-10T10:23:48.801Z"
   },
   {
    "duration": 8,
    "start_time": "2021-06-10T10:23:48.819Z"
   },
   {
    "duration": 3511,
    "start_time": "2021-06-10T10:23:48.830Z"
   },
   {
    "duration": 1882,
    "start_time": "2021-06-10T10:23:52.344Z"
   },
   {
    "duration": 1994,
    "start_time": "2021-06-10T10:23:54.229Z"
   },
   {
    "duration": 26,
    "start_time": "2021-06-10T10:23:56.226Z"
   },
   {
    "duration": 47,
    "start_time": "2021-06-10T10:23:56.255Z"
   },
   {
    "duration": 21,
    "start_time": "2021-06-10T10:23:56.306Z"
   },
   {
    "duration": 79,
    "start_time": "2021-06-10T10:23:56.330Z"
   },
   {
    "duration": 26,
    "start_time": "2021-06-10T10:23:56.413Z"
   },
   {
    "duration": 14,
    "start_time": "2021-06-10T10:23:56.442Z"
   },
   {
    "duration": 9,
    "start_time": "2021-06-10T10:23:56.458Z"
   },
   {
    "duration": 44,
    "start_time": "2021-06-10T10:23:56.502Z"
   },
   {
    "duration": 14,
    "start_time": "2021-06-10T10:23:56.549Z"
   },
   {
    "duration": 38,
    "start_time": "2021-06-10T10:23:56.567Z"
   },
   {
    "duration": 11266,
    "start_time": "2021-06-10T10:23:56.608Z"
   },
   {
    "duration": 1528,
    "start_time": "2021-06-10T10:24:07.877Z"
   },
   {
    "duration": 399,
    "start_time": "2021-06-10T10:28:28.796Z"
   },
   {
    "duration": 6,
    "start_time": "2021-06-10T10:28:54.517Z"
   },
   {
    "duration": 300,
    "start_time": "2021-06-10T10:29:21.776Z"
   },
   {
    "duration": 16091,
    "start_time": "2021-06-10T10:29:57.913Z"
   },
   {
    "duration": 161001,
    "start_time": "2021-06-10T10:30:29.672Z"
   },
   {
    "duration": 4,
    "start_time": "2021-06-10T10:33:10.676Z"
   },
   {
    "duration": 462,
    "start_time": "2021-06-10T10:33:10.683Z"
   },
   {
    "duration": 142,
    "start_time": "2021-06-10T10:33:11.148Z"
   },
   {
    "duration": 548,
    "start_time": "2021-06-10T10:33:11.292Z"
   },
   {
    "duration": 17,
    "start_time": "2021-06-10T10:33:11.842Z"
   },
   {
    "duration": 15,
    "start_time": "2021-06-10T10:33:11.862Z"
   },
   {
    "duration": 3545,
    "start_time": "2021-06-10T10:33:11.902Z"
   },
   {
    "duration": 2018,
    "start_time": "2021-06-10T10:33:15.449Z"
   },
   {
    "duration": 1702,
    "start_time": "2021-06-10T10:33:17.470Z"
   },
   {
    "duration": 32,
    "start_time": "2021-06-10T10:33:19.174Z"
   },
   {
    "duration": 20,
    "start_time": "2021-06-10T10:33:19.209Z"
   },
   {
    "duration": 20,
    "start_time": "2021-06-10T10:33:19.231Z"
   },
   {
    "duration": 79,
    "start_time": "2021-06-10T10:33:19.254Z"
   },
   {
    "duration": 21,
    "start_time": "2021-06-10T10:33:19.336Z"
   },
   {
    "duration": 40,
    "start_time": "2021-06-10T10:33:19.360Z"
   },
   {
    "duration": 8,
    "start_time": "2021-06-10T10:33:19.403Z"
   },
   {
    "duration": 304,
    "start_time": "2021-06-10T10:33:19.413Z"
   },
   {
    "duration": 4,
    "start_time": "2021-06-10T10:34:56.494Z"
   },
   {
    "duration": 450,
    "start_time": "2021-06-10T10:34:56.501Z"
   },
   {
    "duration": 140,
    "start_time": "2021-06-10T10:34:56.955Z"
   },
   {
    "duration": 574,
    "start_time": "2021-06-10T10:34:57.100Z"
   },
   {
    "duration": 28,
    "start_time": "2021-06-10T10:34:57.676Z"
   },
   {
    "duration": 6,
    "start_time": "2021-06-10T10:34:57.706Z"
   },
   {
    "duration": 3634,
    "start_time": "2021-06-10T10:34:57.714Z"
   },
   {
    "duration": 2000,
    "start_time": "2021-06-10T10:35:01.351Z"
   },
   {
    "duration": 1692,
    "start_time": "2021-06-10T10:35:03.357Z"
   },
   {
    "duration": 23,
    "start_time": "2021-06-10T10:35:05.052Z"
   },
   {
    "duration": 50,
    "start_time": "2021-06-10T10:35:05.077Z"
   },
   {
    "duration": 19,
    "start_time": "2021-06-10T10:35:05.130Z"
   },
   {
    "duration": 55,
    "start_time": "2021-06-10T10:35:05.152Z"
   },
   {
    "duration": 21,
    "start_time": "2021-06-10T10:35:05.210Z"
   },
   {
    "duration": 13,
    "start_time": "2021-06-10T10:35:05.234Z"
   },
   {
    "duration": 8,
    "start_time": "2021-06-10T10:35:05.250Z"
   },
   {
    "duration": 1063,
    "start_time": "2021-06-10T10:35:05.261Z"
   },
   {
    "duration": -1606,
    "start_time": "2021-06-10T10:35:07.933Z"
   },
   {
    "duration": -1632,
    "start_time": "2021-06-10T10:35:07.961Z"
   },
   {
    "duration": -1635,
    "start_time": "2021-06-10T10:35:07.965Z"
   },
   {
    "duration": -1637,
    "start_time": "2021-06-10T10:35:07.969Z"
   },
   {
    "duration": -1643,
    "start_time": "2021-06-10T10:35:07.976Z"
   },
   {
    "duration": -1645,
    "start_time": "2021-06-10T10:35:07.980Z"
   },
   {
    "duration": -1649,
    "start_time": "2021-06-10T10:35:07.985Z"
   },
   {
    "duration": -1655,
    "start_time": "2021-06-10T10:35:07.993Z"
   },
   {
    "duration": -1658,
    "start_time": "2021-06-10T10:35:07.997Z"
   },
   {
    "duration": -1661,
    "start_time": "2021-06-10T10:35:08.001Z"
   },
   {
    "duration": 4,
    "start_time": "2021-06-10T10:35:41.687Z"
   },
   {
    "duration": 548,
    "start_time": "2021-06-10T10:35:41.694Z"
   },
   {
    "duration": 139,
    "start_time": "2021-06-10T10:35:42.244Z"
   },
   {
    "duration": 604,
    "start_time": "2021-06-10T10:35:42.386Z"
   },
   {
    "duration": 17,
    "start_time": "2021-06-10T10:35:43.000Z"
   },
   {
    "duration": 7,
    "start_time": "2021-06-10T10:35:43.019Z"
   },
   {
    "duration": 3504,
    "start_time": "2021-06-10T10:35:43.030Z"
   },
   {
    "duration": 1912,
    "start_time": "2021-06-10T10:35:46.537Z"
   },
   {
    "duration": 1813,
    "start_time": "2021-06-10T10:35:48.452Z"
   },
   {
    "duration": 34,
    "start_time": "2021-06-10T10:35:50.268Z"
   },
   {
    "duration": 20,
    "start_time": "2021-06-10T10:35:50.305Z"
   },
   {
    "duration": 18,
    "start_time": "2021-06-10T10:35:50.328Z"
   },
   {
    "duration": 76,
    "start_time": "2021-06-10T10:35:50.349Z"
   },
   {
    "duration": 21,
    "start_time": "2021-06-10T10:35:50.428Z"
   },
   {
    "duration": 13,
    "start_time": "2021-06-10T10:35:50.451Z"
   },
   {
    "duration": 70,
    "start_time": "2021-06-10T10:35:50.466Z"
   },
   {
    "duration": 13,
    "start_time": "2021-06-10T10:35:50.539Z"
   },
   {
    "duration": 59,
    "start_time": "2021-06-10T10:35:50.556Z"
   },
   {
    "duration": 12,
    "start_time": "2021-06-10T10:35:50.619Z"
   },
   {
    "duration": 9,
    "start_time": "2021-06-10T10:35:50.634Z"
   },
   {
    "duration": 11500,
    "start_time": "2021-06-10T10:35:50.646Z"
   },
   {
    "duration": 1257,
    "start_time": "2021-06-10T10:36:02.149Z"
   },
   {
    "duration": 88832,
    "start_time": "2021-06-10T10:36:03.409Z"
   },
   {
    "duration": -1673,
    "start_time": "2021-06-10T10:37:33.917Z"
   },
   {
    "duration": -1676,
    "start_time": "2021-06-10T10:37:33.922Z"
   },
   {
    "duration": -1678,
    "start_time": "2021-06-10T10:37:33.926Z"
   },
   {
    "duration": -1679,
    "start_time": "2021-06-10T10:37:33.929Z"
   },
   {
    "duration": 93888,
    "start_time": "2021-06-10T10:37:40.080Z"
   },
   {
    "duration": 1618,
    "start_time": "2021-06-10T17:30:03.398Z"
   },
   {
    "duration": 503,
    "start_time": "2021-06-10T17:30:05.019Z"
   },
   {
    "duration": 227,
    "start_time": "2021-06-10T17:30:05.527Z"
   },
   {
    "duration": 891,
    "start_time": "2021-06-10T17:30:05.756Z"
   },
   {
    "duration": 34,
    "start_time": "2021-06-10T17:30:06.650Z"
   },
   {
    "duration": 9,
    "start_time": "2021-06-10T17:30:06.701Z"
   },
   {
    "duration": 4372,
    "start_time": "2021-06-10T17:30:06.713Z"
   },
   {
    "duration": 2188,
    "start_time": "2021-06-10T17:30:11.090Z"
   },
   {
    "duration": 1882,
    "start_time": "2021-06-10T17:30:13.282Z"
   },
   {
    "duration": 45,
    "start_time": "2021-06-10T17:30:15.167Z"
   },
   {
    "duration": 25,
    "start_time": "2021-06-10T17:30:15.214Z"
   },
   {
    "duration": 25,
    "start_time": "2021-06-10T17:30:15.242Z"
   },
   {
    "duration": 74,
    "start_time": "2021-06-10T17:30:15.270Z"
   },
   {
    "duration": 428,
    "start_time": "2021-06-10T17:30:15.347Z"
   },
   {
    "duration": -1353,
    "start_time": "2021-06-10T17:30:17.132Z"
   },
   {
    "duration": -1356,
    "start_time": "2021-06-10T17:30:17.137Z"
   },
   {
    "duration": -1361,
    "start_time": "2021-06-10T17:30:17.144Z"
   },
   {
    "duration": -1365,
    "start_time": "2021-06-10T17:30:17.150Z"
   },
   {
    "duration": -1382,
    "start_time": "2021-06-10T17:30:17.168Z"
   },
   {
    "duration": -1399,
    "start_time": "2021-06-10T17:30:17.187Z"
   },
   {
    "duration": -1415,
    "start_time": "2021-06-10T17:30:17.205Z"
   },
   {
    "duration": -1431,
    "start_time": "2021-06-10T17:30:17.223Z"
   },
   {
    "duration": -1447,
    "start_time": "2021-06-10T17:30:17.240Z"
   },
   {
    "duration": -1466,
    "start_time": "2021-06-10T17:30:17.261Z"
   },
   {
    "duration": -1483,
    "start_time": "2021-06-10T17:30:17.279Z"
   },
   {
    "duration": -1504,
    "start_time": "2021-06-10T17:30:17.301Z"
   },
   {
    "duration": -1521,
    "start_time": "2021-06-10T17:30:17.319Z"
   },
   {
    "duration": 27,
    "start_time": "2021-06-10T17:30:27.058Z"
   },
   {
    "duration": 5,
    "start_time": "2021-06-10T17:39:32.274Z"
   },
   {
    "duration": 435,
    "start_time": "2021-06-10T17:39:32.282Z"
   },
   {
    "duration": 139,
    "start_time": "2021-06-10T17:39:32.720Z"
   },
   {
    "duration": 527,
    "start_time": "2021-06-10T17:39:32.862Z"
   },
   {
    "duration": 20,
    "start_time": "2021-06-10T17:39:33.392Z"
   },
   {
    "duration": 6,
    "start_time": "2021-06-10T17:39:33.414Z"
   },
   {
    "duration": 3637,
    "start_time": "2021-06-10T17:39:33.424Z"
   },
   {
    "duration": 1898,
    "start_time": "2021-06-10T17:39:37.064Z"
   },
   {
    "duration": 1713,
    "start_time": "2021-06-10T17:39:38.965Z"
   },
   {
    "duration": 32,
    "start_time": "2021-06-10T17:39:40.680Z"
   },
   {
    "duration": 20,
    "start_time": "2021-06-10T17:39:40.715Z"
   },
   {
    "duration": 18,
    "start_time": "2021-06-10T17:39:40.737Z"
   },
   {
    "duration": 73,
    "start_time": "2021-06-10T17:39:40.758Z"
   },
   {
    "duration": 29,
    "start_time": "2021-06-10T17:39:40.834Z"
   },
   {
    "duration": 42,
    "start_time": "2021-06-10T17:39:40.865Z"
   },
   {
    "duration": 35,
    "start_time": "2021-06-10T17:39:40.910Z"
   },
   {
    "duration": 60,
    "start_time": "2021-06-10T17:39:40.948Z"
   },
   {
    "duration": 16,
    "start_time": "2021-06-10T17:39:41.010Z"
   },
   {
    "duration": 8,
    "start_time": "2021-06-10T17:39:41.030Z"
   },
   {
    "duration": 92,
    "start_time": "2021-06-10T17:39:41.040Z"
   },
   {
    "duration": -1340,
    "start_time": "2021-06-10T17:39:42.474Z"
   },
   {
    "duration": 6,
    "start_time": "2021-06-10T17:40:27.127Z"
   },
   {
    "duration": 3,
    "start_time": "2021-06-10T17:40:29.433Z"
   },
   {
    "duration": 401,
    "start_time": "2021-06-10T17:40:37.291Z"
   },
   {
    "duration": 18,
    "start_time": "2021-06-10T17:42:36.080Z"
   },
   {
    "duration": 260,
    "start_time": "2021-06-10T17:42:39.269Z"
   },
   {
    "duration": 56,
    "start_time": "2021-06-10T17:42:40.144Z"
   },
   {
    "duration": 7,
    "start_time": "2021-06-10T17:43:09.222Z"
   },
   {
    "duration": 628,
    "start_time": "2021-06-10T17:43:09.232Z"
   },
   {
    "duration": 139,
    "start_time": "2021-06-10T17:43:09.863Z"
   },
   {
    "duration": 544,
    "start_time": "2021-06-10T17:43:10.005Z"
   },
   {
    "duration": 17,
    "start_time": "2021-06-10T17:43:10.551Z"
   },
   {
    "duration": 32,
    "start_time": "2021-06-10T17:43:10.570Z"
   },
   {
    "duration": 3626,
    "start_time": "2021-06-10T17:43:10.605Z"
   },
   {
    "duration": 1831,
    "start_time": "2021-06-10T17:43:14.235Z"
   },
   {
    "duration": 1812,
    "start_time": "2021-06-10T17:43:16.071Z"
   },
   {
    "duration": 30,
    "start_time": "2021-06-10T17:43:17.885Z"
   },
   {
    "duration": 21,
    "start_time": "2021-06-10T17:43:17.917Z"
   },
   {
    "duration": 18,
    "start_time": "2021-06-10T17:43:17.940Z"
   },
   {
    "duration": 72,
    "start_time": "2021-06-10T17:43:17.961Z"
   },
   {
    "duration": 27,
    "start_time": "2021-06-10T17:43:18.035Z"
   },
   {
    "duration": 13,
    "start_time": "2021-06-10T17:43:18.064Z"
   },
   {
    "duration": 57,
    "start_time": "2021-06-10T17:43:18.079Z"
   },
   {
    "duration": 67,
    "start_time": "2021-06-10T17:43:18.139Z"
   },
   {
    "duration": 21,
    "start_time": "2021-06-10T17:43:18.209Z"
   },
   {
    "duration": 25,
    "start_time": "2021-06-10T17:43:18.232Z"
   },
   {
    "duration": 11,
    "start_time": "2021-06-10T17:43:18.259Z"
   },
   {
    "duration": 10,
    "start_time": "2021-06-10T17:43:18.273Z"
   },
   {
    "duration": 7300,
    "start_time": "2021-06-10T17:43:18.285Z"
   },
   {
    "duration": -1321,
    "start_time": "2021-06-10T17:43:26.909Z"
   },
   {
    "duration": -1325,
    "start_time": "2021-06-10T17:43:26.914Z"
   },
   {
    "duration": -1327,
    "start_time": "2021-06-10T17:43:26.918Z"
   },
   {
    "duration": -1330,
    "start_time": "2021-06-10T17:43:26.922Z"
   },
   {
    "duration": -1368,
    "start_time": "2021-06-10T17:43:26.962Z"
   },
   {
    "duration": -1375,
    "start_time": "2021-06-10T17:43:26.970Z"
   },
   {
    "duration": -1377,
    "start_time": "2021-06-10T17:43:26.974Z"
   },
   {
    "duration": 702,
    "start_time": "2021-06-10T17:43:29.544Z"
   },
   {
    "duration": 823,
    "start_time": "2021-06-10T17:44:46.424Z"
   },
   {
    "duration": 12506,
    "start_time": "2021-06-10T17:45:27.128Z"
   },
   {
    "duration": 701,
    "start_time": "2021-06-10T17:45:50.799Z"
   },
   {
    "duration": 4,
    "start_time": "2021-06-10T17:46:26.916Z"
   },
   {
    "duration": 433,
    "start_time": "2021-06-10T17:46:48.813Z"
   },
   {
    "duration": 280,
    "start_time": "2021-06-10T17:50:01.900Z"
   },
   {
    "duration": 4,
    "start_time": "2021-06-10T17:50:07.476Z"
   },
   {
    "duration": 269,
    "start_time": "2021-06-10T17:50:09.724Z"
   },
   {
    "duration": 255,
    "start_time": "2021-06-10T17:50:25.270Z"
   },
   {
    "duration": 5,
    "start_time": "2021-06-10T17:54:46.475Z"
   },
   {
    "duration": 3,
    "start_time": "2021-06-10T17:54:47.685Z"
   },
   {
    "duration": 700,
    "start_time": "2021-06-10T17:54:57.833Z"
   },
   {
    "duration": 5,
    "start_time": "2021-06-10T17:56:56.368Z"
   },
   {
    "duration": 4,
    "start_time": "2021-06-10T17:56:57.326Z"
   },
   {
    "duration": 24156,
    "start_time": "2021-06-10T17:56:58.295Z"
   },
   {
    "duration": 22809,
    "start_time": "2021-06-10T17:57:23.781Z"
   },
   {
    "duration": 5,
    "start_time": "2021-06-10T17:58:53.794Z"
   },
   {
    "duration": 4,
    "start_time": "2021-06-10T17:58:54.207Z"
   },
   {
    "duration": 23657,
    "start_time": "2021-06-10T17:58:56.966Z"
   },
   {
    "duration": 24809,
    "start_time": "2021-06-10T18:01:22.458Z"
   },
   {
    "duration": 3,
    "start_time": "2021-06-10T18:03:46.429Z"
   },
   {
    "duration": 5,
    "start_time": "2021-06-10T18:03:50.741Z"
   },
   {
    "duration": 4,
    "start_time": "2021-06-10T18:03:51.126Z"
   },
   {
    "duration": 25318,
    "start_time": "2021-06-10T18:03:54.838Z"
   },
   {
    "duration": 6,
    "start_time": "2021-06-10T18:06:17.184Z"
   },
   {
    "duration": 4,
    "start_time": "2021-06-10T18:06:17.201Z"
   },
   {
    "duration": 24595,
    "start_time": "2021-06-10T18:06:17.208Z"
   },
   {
    "duration": 5,
    "start_time": "2021-06-10T18:07:04.728Z"
   },
   {
    "duration": 3,
    "start_time": "2021-06-10T18:07:04.978Z"
   },
   {
    "duration": 23916,
    "start_time": "2021-06-10T18:07:05.219Z"
   },
   {
    "duration": 5,
    "start_time": "2021-06-10T18:07:54.184Z"
   },
   {
    "duration": 4,
    "start_time": "2021-06-10T18:07:54.444Z"
   },
   {
    "duration": 5,
    "start_time": "2021-06-10T18:08:18.830Z"
   },
   {
    "duration": 12,
    "start_time": "2021-06-10T18:08:18.838Z"
   },
   {
    "duration": 24360,
    "start_time": "2021-06-10T18:08:18.852Z"
   },
   {
    "duration": 5,
    "start_time": "2021-06-10T18:08:46.182Z"
   },
   {
    "duration": 3,
    "start_time": "2021-06-10T18:08:46.527Z"
   },
   {
    "duration": 25286,
    "start_time": "2021-06-10T18:08:46.861Z"
   },
   {
    "duration": 24936,
    "start_time": "2021-06-10T18:09:34.007Z"
   },
   {
    "duration": 25141,
    "start_time": "2021-06-10T18:10:56.196Z"
   },
   {
    "duration": 24348,
    "start_time": "2021-06-10T18:11:41.365Z"
   },
   {
    "duration": 29030,
    "start_time": "2021-06-10T18:12:18.464Z"
   },
   {
    "duration": 3608,
    "start_time": "2021-06-10T18:13:05.141Z"
   },
   {
    "duration": 55055,
    "start_time": "2021-06-10T18:13:13.144Z"
   },
   {
    "duration": 9673,
    "start_time": "2021-06-10T18:22:05.336Z"
   },
   {
    "duration": 56568,
    "start_time": "2021-06-10T18:22:20.170Z"
   },
   {
    "duration": 15164,
    "start_time": "2021-06-10T18:26:39.880Z"
   },
   {
    "duration": 5,
    "start_time": "2021-06-10T18:27:31.837Z"
   },
   {
    "duration": 435,
    "start_time": "2021-06-10T18:27:31.844Z"
   },
   {
    "duration": 156,
    "start_time": "2021-06-10T18:27:32.283Z"
   },
   {
    "duration": 596,
    "start_time": "2021-06-10T18:27:32.442Z"
   },
   {
    "duration": 16,
    "start_time": "2021-06-10T18:27:33.041Z"
   },
   {
    "duration": 6,
    "start_time": "2021-06-10T18:27:33.060Z"
   },
   {
    "duration": 3405,
    "start_time": "2021-06-10T18:27:33.100Z"
   },
   {
    "duration": 1922,
    "start_time": "2021-06-10T18:27:36.508Z"
   },
   {
    "duration": 1725,
    "start_time": "2021-06-10T18:27:38.432Z"
   },
   {
    "duration": 23,
    "start_time": "2021-06-10T18:27:40.159Z"
   },
   {
    "duration": 32,
    "start_time": "2021-06-10T18:27:40.185Z"
   },
   {
    "duration": 17,
    "start_time": "2021-06-10T18:27:40.219Z"
   },
   {
    "duration": 62,
    "start_time": "2021-06-10T18:27:40.238Z"
   },
   {
    "duration": 28,
    "start_time": "2021-06-10T18:27:40.303Z"
   },
   {
    "duration": 15,
    "start_time": "2021-06-10T18:27:40.334Z"
   },
   {
    "duration": 73,
    "start_time": "2021-06-10T18:27:40.352Z"
   },
   {
    "duration": 41,
    "start_time": "2021-06-10T18:27:40.428Z"
   },
   {
    "duration": 39,
    "start_time": "2021-06-10T18:27:40.472Z"
   },
   {
    "duration": 6,
    "start_time": "2021-06-10T18:27:40.517Z"
   },
   {
    "duration": 4,
    "start_time": "2021-06-10T18:27:40.527Z"
   },
   {
    "duration": 57966,
    "start_time": "2021-06-10T18:27:40.534Z"
   },
   {
    "duration": 5609,
    "start_time": "2021-06-10T18:28:38.503Z"
   },
   {
    "duration": 1503345,
    "start_time": "2021-06-10T18:28:44.115Z"
   },
   {
    "duration": -838,
    "start_time": "2021-06-10T18:53:48.301Z"
   },
   {
    "duration": -841,
    "start_time": "2021-06-10T18:53:48.305Z"
   },
   {
    "duration": -843,
    "start_time": "2021-06-10T18:53:48.309Z"
   },
   {
    "duration": 1138717,
    "start_time": "2021-06-10T18:53:52.128Z"
   },
   {
    "duration": 442136,
    "start_time": "2021-06-10T19:12:52.285Z"
   },
   {
    "duration": 788945,
    "start_time": "2021-06-10T19:20:39.186Z"
   },
   {
    "duration": 76294,
    "start_time": "2021-06-10T19:35:52.133Z"
   },
   {
    "duration": -802,
    "start_time": "2021-06-10T19:37:09.231Z"
   },
   {
    "duration": -804,
    "start_time": "2021-06-10T19:37:09.235Z"
   },
   {
    "duration": -808,
    "start_time": "2021-06-10T19:37:09.240Z"
   },
   {
    "duration": 18363,
    "start_time": "2021-06-10T19:37:47.051Z"
   },
   {
    "duration": -712,
    "start_time": "2021-06-10T19:38:06.129Z"
   },
   {
    "duration": 439,
    "start_time": "2021-06-10T19:40:34.956Z"
   },
   {
    "duration": 4,
    "start_time": "2021-06-10T19:40:38.546Z"
   },
   {
    "duration": 449,
    "start_time": "2021-06-10T19:40:38.553Z"
   },
   {
    "duration": 134,
    "start_time": "2021-06-10T19:40:39.005Z"
   },
   {
    "duration": 520,
    "start_time": "2021-06-10T19:40:39.142Z"
   },
   {
    "duration": 17,
    "start_time": "2021-06-10T19:40:39.664Z"
   },
   {
    "duration": 6,
    "start_time": "2021-06-10T19:40:39.701Z"
   },
   {
    "duration": 3480,
    "start_time": "2021-06-10T19:40:39.710Z"
   },
   {
    "duration": 1910,
    "start_time": "2021-06-10T19:40:43.193Z"
   },
   {
    "duration": 1632,
    "start_time": "2021-06-10T19:40:45.106Z"
   },
   {
    "duration": 23,
    "start_time": "2021-06-10T19:40:46.741Z"
   },
   {
    "duration": 42,
    "start_time": "2021-06-10T19:40:46.766Z"
   },
   {
    "duration": 18,
    "start_time": "2021-06-10T19:40:46.810Z"
   },
   {
    "duration": 33,
    "start_time": "2021-06-10T19:40:46.830Z"
   },
   {
    "duration": 58,
    "start_time": "2021-06-10T19:40:46.865Z"
   },
   {
    "duration": 15,
    "start_time": "2021-06-10T19:40:46.926Z"
   },
   {
    "duration": 64,
    "start_time": "2021-06-10T19:40:46.944Z"
   },
   {
    "duration": 40,
    "start_time": "2021-06-10T19:40:47.010Z"
   },
   {
    "duration": 301,
    "start_time": "2021-06-10T19:40:47.053Z"
   },
   {
    "duration": -746,
    "start_time": "2021-06-10T19:40:48.103Z"
   },
   {
    "duration": -751,
    "start_time": "2021-06-10T19:40:48.109Z"
   },
   {
    "duration": -788,
    "start_time": "2021-06-10T19:40:48.148Z"
   },
   {
    "duration": -794,
    "start_time": "2021-06-10T19:40:48.155Z"
   },
   {
    "duration": -798,
    "start_time": "2021-06-10T19:40:48.161Z"
   },
   {
    "duration": -803,
    "start_time": "2021-06-10T19:40:48.168Z"
   },
   {
    "duration": -805,
    "start_time": "2021-06-10T19:40:48.172Z"
   },
   {
    "duration": -809,
    "start_time": "2021-06-10T19:40:48.177Z"
   },
   {
    "duration": 5,
    "start_time": "2021-06-10T19:42:22.067Z"
   },
   {
    "duration": 409,
    "start_time": "2021-06-10T19:42:22.075Z"
   },
   {
    "duration": 133,
    "start_time": "2021-06-10T19:42:22.487Z"
   },
   {
    "duration": 542,
    "start_time": "2021-06-10T19:42:22.622Z"
   },
   {
    "duration": 41,
    "start_time": "2021-06-10T19:42:23.167Z"
   },
   {
    "duration": 7,
    "start_time": "2021-06-10T19:42:23.211Z"
   },
   {
    "duration": 3465,
    "start_time": "2021-06-10T19:42:23.222Z"
   },
   {
    "duration": 1958,
    "start_time": "2021-06-10T19:42:26.690Z"
   },
   {
    "duration": 1809,
    "start_time": "2021-06-10T19:42:28.650Z"
   },
   {
    "duration": 22,
    "start_time": "2021-06-10T19:42:30.461Z"
   },
   {
    "duration": 20,
    "start_time": "2021-06-10T19:42:30.500Z"
   },
   {
    "duration": 17,
    "start_time": "2021-06-10T19:42:30.522Z"
   },
   {
    "duration": 61,
    "start_time": "2021-06-10T19:42:30.542Z"
   },
   {
    "duration": 26,
    "start_time": "2021-06-10T19:42:30.605Z"
   },
   {
    "duration": 12,
    "start_time": "2021-06-10T19:42:30.633Z"
   },
   {
    "duration": 63,
    "start_time": "2021-06-10T19:42:30.648Z"
   },
   {
    "duration": 284,
    "start_time": "2021-06-10T19:42:30.714Z"
   },
   {
    "duration": -799,
    "start_time": "2021-06-10T19:42:31.800Z"
   },
   {
    "duration": -802,
    "start_time": "2021-06-10T19:42:31.804Z"
   },
   {
    "duration": -806,
    "start_time": "2021-06-10T19:42:31.810Z"
   },
   {
    "duration": -819,
    "start_time": "2021-06-10T19:42:31.824Z"
   },
   {
    "duration": -838,
    "start_time": "2021-06-10T19:42:31.845Z"
   },
   {
    "duration": -854,
    "start_time": "2021-06-10T19:42:31.862Z"
   },
   {
    "duration": -871,
    "start_time": "2021-06-10T19:42:31.880Z"
   },
   {
    "duration": -885,
    "start_time": "2021-06-10T19:42:31.896Z"
   },
   {
    "duration": 265,
    "start_time": "2021-06-10T19:43:21.068Z"
   },
   {
    "duration": 5,
    "start_time": "2021-06-10T19:43:28.297Z"
   },
   {
    "duration": 413,
    "start_time": "2021-06-10T19:43:28.305Z"
   },
   {
    "duration": 130,
    "start_time": "2021-06-10T19:43:28.721Z"
   },
   {
    "duration": 494,
    "start_time": "2021-06-10T19:43:28.854Z"
   },
   {
    "duration": 16,
    "start_time": "2021-06-10T19:43:29.350Z"
   },
   {
    "duration": 6,
    "start_time": "2021-06-10T19:43:29.368Z"
   },
   {
    "duration": 3497,
    "start_time": "2021-06-10T19:43:29.377Z"
   },
   {
    "duration": 1929,
    "start_time": "2021-06-10T19:43:32.877Z"
   },
   {
    "duration": 1773,
    "start_time": "2021-06-10T19:43:34.809Z"
   },
   {
    "duration": 32,
    "start_time": "2021-06-10T19:43:36.584Z"
   },
   {
    "duration": 19,
    "start_time": "2021-06-10T19:43:36.618Z"
   },
   {
    "duration": 18,
    "start_time": "2021-06-10T19:43:36.639Z"
   },
   {
    "duration": 69,
    "start_time": "2021-06-10T19:43:36.660Z"
   },
   {
    "duration": 24,
    "start_time": "2021-06-10T19:43:36.732Z"
   },
   {
    "duration": 12,
    "start_time": "2021-06-10T19:43:36.759Z"
   },
   {
    "duration": 64,
    "start_time": "2021-06-10T19:43:36.774Z"
   },
   {
    "duration": 18,
    "start_time": "2021-06-10T19:43:36.840Z"
   },
   {
    "duration": 5,
    "start_time": "2021-06-10T19:43:36.860Z"
   },
   {
    "duration": 33,
    "start_time": "2021-06-10T19:43:36.869Z"
   },
   {
    "duration": 9444,
    "start_time": "2021-06-10T19:43:36.905Z"
   },
   {
    "duration": -804,
    "start_time": "2021-06-10T19:43:47.156Z"
   },
   {
    "duration": -807,
    "start_time": "2021-06-10T19:43:47.160Z"
   },
   {
    "duration": -809,
    "start_time": "2021-06-10T19:43:47.164Z"
   },
   {
    "duration": -812,
    "start_time": "2021-06-10T19:43:47.168Z"
   },
   {
    "duration": -813,
    "start_time": "2021-06-10T19:43:47.171Z"
   },
   {
    "duration": 7614,
    "start_time": "2021-06-10T19:43:51.190Z"
   },
   {
    "duration": -882,
    "start_time": "2021-06-10T19:43:59.689Z"
   },
   {
    "duration": 572,
    "start_time": "2021-06-10T19:44:04.466Z"
   },
   {
    "duration": 120,
    "start_time": "2021-06-10T19:44:06.917Z"
   },
   {
    "duration": 29243,
    "start_time": "2021-06-10T19:44:16.900Z"
   },
   {
    "duration": 5,
    "start_time": "2021-06-10T19:46:19.270Z"
   },
   {
    "duration": 150,
    "start_time": "2021-06-10T19:46:25.461Z"
   },
   {
    "duration": 154,
    "start_time": "2021-06-10T19:46:45.160Z"
   },
   {
    "duration": 194,
    "start_time": "2021-06-10T19:46:54.274Z"
   },
   {
    "duration": 45012,
    "start_time": "2021-06-10T19:49:40.793Z"
   },
   {
    "duration": 5,
    "start_time": "2021-06-10T19:51:09.773Z"
   },
   {
    "duration": 465,
    "start_time": "2021-06-10T19:51:09.781Z"
   },
   {
    "duration": 143,
    "start_time": "2021-06-10T19:51:10.249Z"
   },
   {
    "duration": 555,
    "start_time": "2021-06-10T19:51:10.402Z"
   },
   {
    "duration": 19,
    "start_time": "2021-06-10T19:51:10.960Z"
   },
   {
    "duration": 7,
    "start_time": "2021-06-10T19:51:11.001Z"
   },
   {
    "duration": 3572,
    "start_time": "2021-06-10T19:51:11.011Z"
   },
   {
    "duration": 1849,
    "start_time": "2021-06-10T19:51:14.586Z"
   },
   {
    "duration": 1865,
    "start_time": "2021-06-10T19:51:16.438Z"
   },
   {
    "duration": 22,
    "start_time": "2021-06-10T19:51:18.305Z"
   },
   {
    "duration": 18,
    "start_time": "2021-06-10T19:51:18.330Z"
   },
   {
    "duration": 59,
    "start_time": "2021-06-10T19:51:18.351Z"
   },
   {
    "duration": 43,
    "start_time": "2021-06-10T19:51:18.412Z"
   },
   {
    "duration": 52,
    "start_time": "2021-06-10T19:51:18.458Z"
   },
   {
    "duration": 17,
    "start_time": "2021-06-10T19:51:18.512Z"
   },
   {
    "duration": 42,
    "start_time": "2021-06-10T19:51:18.531Z"
   },
   {
    "duration": 20,
    "start_time": "2021-06-10T19:51:18.601Z"
   },
   {
    "duration": 7,
    "start_time": "2021-06-10T19:51:18.624Z"
   },
   {
    "duration": 5,
    "start_time": "2021-06-10T19:51:18.637Z"
   },
   {
    "duration": 29199,
    "start_time": "2021-06-10T19:51:18.645Z"
   },
   {
    "duration": 3275,
    "start_time": "2021-06-10T19:51:47.846Z"
   },
   {
    "duration": 578219,
    "start_time": "2021-06-10T19:51:51.124Z"
   },
   {
    "duration": 634607,
    "start_time": "2021-06-10T20:01:29.346Z"
   },
   {
    "duration": 46583,
    "start_time": "2021-06-10T20:12:03.956Z"
   },
   {
    "duration": 193,
    "start_time": "2021-06-10T20:12:50.541Z"
   },
   {
    "duration": 10670,
    "start_time": "2021-06-10T20:14:31.754Z"
   },
   {
    "duration": 350012,
    "start_time": "2021-06-10T20:14:55.031Z"
   },
   {
    "duration": 128042,
    "start_time": "2021-06-10T20:20:45.046Z"
   },
   {
    "duration": 8358,
    "start_time": "2021-06-10T20:26:25.250Z"
   },
   {
    "duration": 9929,
    "start_time": "2021-06-10T20:26:43.928Z"
   },
   {
    "duration": 1506,
    "start_time": "2021-06-11T10:44:57.720Z"
   },
   {
    "duration": 461,
    "start_time": "2021-06-11T10:44:59.229Z"
   },
   {
    "duration": 146,
    "start_time": "2021-06-11T10:45:01.846Z"
   },
   {
    "duration": 582,
    "start_time": "2021-06-11T10:45:01.994Z"
   },
   {
    "duration": 18,
    "start_time": "2021-06-11T10:45:02.579Z"
   },
   {
    "duration": 7,
    "start_time": "2021-06-11T10:45:03.466Z"
   },
   {
    "duration": 3849,
    "start_time": "2021-06-11T10:45:04.377Z"
   },
   {
    "duration": 2165,
    "start_time": "2021-06-11T10:45:08.229Z"
   },
   {
    "duration": 1849,
    "start_time": "2021-06-11T10:45:10.398Z"
   },
   {
    "duration": 26,
    "start_time": "2021-06-11T10:45:12.251Z"
   },
   {
    "duration": 56,
    "start_time": "2021-06-11T10:45:12.280Z"
   },
   {
    "duration": 25,
    "start_time": "2021-06-11T10:45:12.339Z"
   },
   {
    "duration": 78,
    "start_time": "2021-06-11T10:45:12.368Z"
   },
   {
    "duration": 32,
    "start_time": "2021-06-11T10:45:12.452Z"
   },
   {
    "duration": 12,
    "start_time": "2021-06-11T10:45:12.487Z"
   },
   {
    "duration": 68,
    "start_time": "2021-06-11T10:45:12.502Z"
   },
   {
    "duration": 18,
    "start_time": "2021-06-11T10:45:12.572Z"
   },
   {
    "duration": 5,
    "start_time": "2021-06-11T10:45:12.593Z"
   },
   {
    "duration": 6,
    "start_time": "2021-06-11T10:45:12.627Z"
   },
   {
    "duration": 528,
    "start_time": "2021-06-11T10:45:52.092Z"
   },
   {
    "duration": 135,
    "start_time": "2021-06-11T10:46:49.290Z"
   },
   {
    "duration": 7,
    "start_time": "2021-06-11T10:56:33.123Z"
   },
   {
    "duration": 12023,
    "start_time": "2021-06-11T10:56:39.454Z"
   },
   {
    "duration": 4866,
    "start_time": "2021-06-11T10:56:59.581Z"
   },
   {
    "duration": 1473,
    "start_time": "2021-10-14T17:25:16.182Z"
   },
   {
    "duration": 4252,
    "start_time": "2021-10-14T17:25:17.658Z"
   },
   {
    "duration": 2055,
    "start_time": "2021-10-14T17:25:21.912Z"
   },
   {
    "duration": 7916,
    "start_time": "2021-10-14T17:25:23.969Z"
   },
   {
    "duration": 22,
    "start_time": "2021-10-14T17:25:31.888Z"
   },
   {
    "duration": 15,
    "start_time": "2021-10-14T17:25:31.913Z"
   },
   {
    "duration": 3601,
    "start_time": "2021-10-14T17:25:31.930Z"
   },
   {
    "duration": 2008,
    "start_time": "2021-10-14T17:25:35.535Z"
   },
   {
    "duration": 1764,
    "start_time": "2021-10-14T17:25:37.547Z"
   },
   {
    "duration": 25,
    "start_time": "2021-10-14T17:25:39.314Z"
   },
   {
    "duration": 38,
    "start_time": "2021-10-14T17:25:39.341Z"
   },
   {
    "duration": 18,
    "start_time": "2021-10-14T17:25:39.382Z"
   },
   {
    "duration": 76,
    "start_time": "2021-10-14T17:25:39.403Z"
   },
   {
    "duration": 31,
    "start_time": "2021-10-14T17:25:39.481Z"
   },
   {
    "duration": 14,
    "start_time": "2021-10-14T17:25:39.514Z"
   },
   {
    "duration": 68,
    "start_time": "2021-10-14T17:25:39.531Z"
   },
   {
    "duration": 21,
    "start_time": "2021-10-14T17:25:39.601Z"
   },
   {
    "duration": 407,
    "start_time": "2021-10-14T17:25:39.624Z"
   },
   {
    "duration": -311,
    "start_time": "2021-10-14T17:25:40.344Z"
   },
   {
    "duration": -315,
    "start_time": "2021-10-14T17:25:40.349Z"
   },
   {
    "duration": -317,
    "start_time": "2021-10-14T17:25:40.353Z"
   },
   {
    "duration": -319,
    "start_time": "2021-10-14T17:25:40.356Z"
   },
   {
    "duration": -320,
    "start_time": "2021-10-14T17:25:40.359Z"
   },
   {
    "duration": -321,
    "start_time": "2021-10-14T17:25:40.361Z"
   },
   {
    "duration": -323,
    "start_time": "2021-10-14T17:25:40.364Z"
   },
   {
    "duration": 6,
    "start_time": "2021-10-14T17:29:16.628Z"
   },
   {
    "duration": 4,
    "start_time": "2021-10-14T17:29:17.016Z"
   },
   {
    "duration": 611,
    "start_time": "2021-10-14T17:29:17.376Z"
   },
   {
    "duration": 730,
    "start_time": "2021-10-14T17:29:49.449Z"
   },
   {
    "duration": 11312,
    "start_time": "2021-10-14T17:30:06.968Z"
   },
   {
    "duration": -188,
    "start_time": "2021-10-14T17:30:18.472Z"
   },
   {
    "duration": 709,
    "start_time": "2021-10-14T17:30:24.256Z"
   },
   {
    "duration": 5,
    "start_time": "2021-10-14T17:31:17.266Z"
   },
   {
    "duration": 4,
    "start_time": "2021-10-14T17:31:17.624Z"
   },
   {
    "duration": 3667,
    "start_time": "2021-10-14T17:31:18.076Z"
   },
   {
    "duration": 4,
    "start_time": "2021-10-16T09:42:22.509Z"
   },
   {
    "duration": 1141,
    "start_time": "2021-10-16T09:42:46.577Z"
   },
   {
    "duration": 372,
    "start_time": "2021-10-16T09:42:47.720Z"
   },
   {
    "duration": 114,
    "start_time": "2021-10-16T09:42:48.094Z"
   },
   {
    "duration": 486,
    "start_time": "2021-10-16T09:42:48.210Z"
   },
   {
    "duration": 13,
    "start_time": "2021-10-16T09:42:48.698Z"
   },
   {
    "duration": 5,
    "start_time": "2021-10-16T09:42:48.712Z"
   },
   {
    "duration": 2245,
    "start_time": "2021-10-16T09:42:48.719Z"
   },
   {
    "duration": 1210,
    "start_time": "2021-10-16T09:42:50.967Z"
   },
   {
    "duration": 996,
    "start_time": "2021-10-16T09:42:52.180Z"
   },
   {
    "duration": 20,
    "start_time": "2021-10-16T09:42:53.177Z"
   },
   {
    "duration": 11,
    "start_time": "2021-10-16T09:42:53.199Z"
   },
   {
    "duration": 12,
    "start_time": "2021-10-16T09:42:53.212Z"
   },
   {
    "duration": 30,
    "start_time": "2021-10-16T09:42:53.225Z"
   },
   {
    "duration": 52,
    "start_time": "2021-10-16T09:42:53.257Z"
   },
   {
    "duration": 8,
    "start_time": "2021-10-16T09:42:53.311Z"
   },
   {
    "duration": 27,
    "start_time": "2021-10-16T09:42:53.321Z"
   },
   {
    "duration": 15,
    "start_time": "2021-10-16T09:42:53.349Z"
   },
   {
    "duration": 27,
    "start_time": "2021-10-16T09:42:53.366Z"
   },
   {
    "duration": 6,
    "start_time": "2021-10-16T09:42:53.394Z"
   },
   {
    "duration": 21681,
    "start_time": "2021-10-16T09:42:53.401Z"
   },
   {
    "duration": 2921,
    "start_time": "2021-10-16T09:43:15.084Z"
   },
   {
    "duration": 148333,
    "start_time": "2021-10-16T09:43:18.007Z"
   },
   {
    "duration": 97889,
    "start_time": "2021-10-16T09:45:46.343Z"
   },
   {
    "duration": 7757,
    "start_time": "2021-10-16T09:47:24.234Z"
   },
   {
    "duration": 84,
    "start_time": "2021-10-16T09:47:31.993Z"
   }
  ],
  "kernelspec": {
   "display_name": "Python 3",
   "language": "python",
   "name": "python3"
  },
  "language_info": {
   "codemirror_mode": {
    "name": "ipython",
    "version": 3
   },
   "file_extension": ".py",
   "mimetype": "text/x-python",
   "name": "python",
   "nbconvert_exporter": "python",
   "pygments_lexer": "ipython3",
   "version": "3.7.8"
  },
  "toc": {
   "base_numbering": 1,
   "nav_menu": {},
   "number_sections": true,
   "sideBar": true,
   "skip_h1_title": true,
   "title_cell": "Содержание",
   "title_sidebar": "Contents",
   "toc_cell": true,
   "toc_position": {
    "height": "calc(100% - 180px)",
    "left": "10px",
    "top": "150px",
    "width": "165px"
   },
   "toc_section_display": true,
   "toc_window_display": true
  }
 },
 "nbformat": 4,
 "nbformat_minor": 2
}
