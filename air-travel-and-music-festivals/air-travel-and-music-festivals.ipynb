{
 "cells": [
  {
   "cell_type": "markdown",
   "metadata": {
    "toc": true
   },
   "source": [
    "<h1>Содержание<span class=\"tocSkip\"></span></h1>\n",
    "<div class=\"toc\"><ul class=\"toc-item\"><li><span><a href=\"#SQL\" data-toc-modified-id=\"SQL-1\"><span class=\"toc-item-num\">1&nbsp;&nbsp;</span>SQL</a></span></li><li><span><a href=\"#Аналитика\" data-toc-modified-id=\"Аналитика-2\"><span class=\"toc-item-num\">2&nbsp;&nbsp;</span>Аналитика</a></span></li></ul></div>"
   ]
  },
  {
   "cell_type": "markdown",
   "metadata": {},
   "source": [
    "# Спрос на рейсы авиакомпании"
   ]
  },
  {
   "cell_type": "markdown",
   "metadata": {},
   "source": [
    "Изучить базу данных авиакомпаний и проанализировать спрос пассажиров на рейсы в города, где проходят крупнейшие культурные фестивали."
   ]
  },
  {
   "cell_type": "markdown",
   "metadata": {},
   "source": [
    "## SQL"
   ]
  },
  {
   "cell_type": "markdown",
   "metadata": {},
   "source": [
    "query_1.csv — результат первого запроса. В нём содержится такая информация:\n",
    "model — модель самолета;\n",
    "flights_amount — количество рейсов для каждой модели самолетов model в сентябре 2018 года."
   ]
  },
  {
   "cell_type": "raw",
   "metadata": {},
   "source": [
    "SELECT\n",
    "    aircrafts.model as model,\n",
    "    COUNT (flights.flight_id) as flights_amount\n",
    "FROM    \n",
    "    aircrafts\n",
    "    INNER JOIN flights ON aircrafts.aircraft_code=flights.aircraft_code\n",
    "WHERE\n",
    "    flights.departure_time::date > '2018-08-31'\n",
    "    AND flights.departure_time::date <= '2018-09-30'\n",
    "GROUP BY\n",
    "    aircrafts.model"
   ]
  },
  {
   "cell_type": "markdown",
   "metadata": {},
   "source": [
    "query_3.csv — результат третьего запроса. В нём содержится такая информация:\n",
    "city — город;\n",
    "average_flights — среднее количество рейсов, прибывающих в город (city) за день в сентябре 2018 года."
   ]
  },
  {
   "cell_type": "raw",
   "metadata": {},
   "source": [
    "SELECT\n",
    "    sub.ci as city,\n",
    "    AVG(sub.cnt) AS average_flights\n",
    "FROM    \n",
    "    (SELECT\n",
    "        airports.city AS ci,\n",
    "        EXTRACT(day from arrival_time::date) As daay,\n",
    "        COUNT(flight_id) as cnt\n",
    "    FROM    \n",
    "        flights\n",
    "        INNER JOIN airports ON flights.arrival_airport=airports.airport_code\n",
    "    WHERE    \n",
    "        flights.arrival_time::date >= '2018-08-01'\n",
    "        AND flights.arrival_time::date <= '2018-08-31'\n",
    "    GROUP BY daay, ci) AS sub\n",
    "GROUP BY city"
   ]
  },
  {
   "cell_type": "markdown",
   "metadata": {},
   "source": [
    "## Аналитика"
   ]
  },
  {
   "cell_type": "markdown",
   "metadata": {},
   "source": [
    "**импортировать файлы**"
   ]
  },
  {
   "cell_type": "code",
   "execution_count": 1,
   "metadata": {},
   "outputs": [],
   "source": [
    "import pandas as pd\n",
    "import numpy as np\n",
    "import matplotlib.pyplot as plt"
   ]
  },
  {
   "cell_type": "code",
   "execution_count": 2,
   "metadata": {},
   "outputs": [
    {
     "name": "stdout",
     "output_type": "stream",
     "text": [
      "<class 'pandas.core.frame.DataFrame'>\n",
      "RangeIndex: 8 entries, 0 to 7\n",
      "Data columns (total 2 columns):\n",
      "model             8 non-null object\n",
      "flights_amount    8 non-null int64\n",
      "dtypes: int64(1), object(1)\n",
      "memory usage: 256.0+ bytes\n"
     ]
    },
    {
     "data": {
      "text/html": [
       "<div>\n",
       "<style scoped>\n",
       "    .dataframe tbody tr th:only-of-type {\n",
       "        vertical-align: middle;\n",
       "    }\n",
       "\n",
       "    .dataframe tbody tr th {\n",
       "        vertical-align: top;\n",
       "    }\n",
       "\n",
       "    .dataframe thead th {\n",
       "        text-align: right;\n",
       "    }\n",
       "</style>\n",
       "<table border=\"1\" class=\"dataframe\">\n",
       "  <thead>\n",
       "    <tr style=\"text-align: right;\">\n",
       "      <th></th>\n",
       "      <th>model</th>\n",
       "      <th>flights_amount</th>\n",
       "    </tr>\n",
       "  </thead>\n",
       "  <tbody>\n",
       "    <tr>\n",
       "      <td>0</td>\n",
       "      <td>Airbus A319-100</td>\n",
       "      <td>607</td>\n",
       "    </tr>\n",
       "    <tr>\n",
       "      <td>1</td>\n",
       "      <td>Airbus A321-200</td>\n",
       "      <td>960</td>\n",
       "    </tr>\n",
       "    <tr>\n",
       "      <td>2</td>\n",
       "      <td>Boeing 737-300</td>\n",
       "      <td>630</td>\n",
       "    </tr>\n",
       "    <tr>\n",
       "      <td>3</td>\n",
       "      <td>Boeing 767-300</td>\n",
       "      <td>600</td>\n",
       "    </tr>\n",
       "    <tr>\n",
       "      <td>4</td>\n",
       "      <td>Boeing 777-300</td>\n",
       "      <td>300</td>\n",
       "    </tr>\n",
       "    <tr>\n",
       "      <td>5</td>\n",
       "      <td>Bombardier CRJ-200</td>\n",
       "      <td>4446</td>\n",
       "    </tr>\n",
       "    <tr>\n",
       "      <td>6</td>\n",
       "      <td>Cessna 208 Caravan</td>\n",
       "      <td>4557</td>\n",
       "    </tr>\n",
       "    <tr>\n",
       "      <td>7</td>\n",
       "      <td>Sukhoi SuperJet-100</td>\n",
       "      <td>4185</td>\n",
       "    </tr>\n",
       "  </tbody>\n",
       "</table>\n",
       "</div>"
      ],
      "text/plain": [
       "                 model  flights_amount\n",
       "0      Airbus A319-100             607\n",
       "1      Airbus A321-200             960\n",
       "2       Boeing 737-300             630\n",
       "3       Boeing 767-300             600\n",
       "4       Boeing 777-300             300\n",
       "5   Bombardier CRJ-200            4446\n",
       "6   Cessna 208 Caravan            4557\n",
       "7  Sukhoi SuperJet-100            4185"
      ]
     },
     "execution_count": 2,
     "metadata": {},
     "output_type": "execute_result"
    }
   ],
   "source": [
    "data1 = pd.read_csv('/datasets/query_1.csv')\n",
    "data1.info()\n",
    "data1.head(10)"
   ]
  },
  {
   "cell_type": "code",
   "execution_count": 3,
   "metadata": {},
   "outputs": [
    {
     "name": "stdout",
     "output_type": "stream",
     "text": [
      "<class 'pandas.core.frame.DataFrame'>\n",
      "RangeIndex: 101 entries, 0 to 100\n",
      "Data columns (total 2 columns):\n",
      "city               101 non-null object\n",
      "average_flights    101 non-null float64\n",
      "dtypes: float64(1), object(1)\n",
      "memory usage: 1.7+ KB\n",
      "\n",
      "дубликаты 0\n"
     ]
    },
    {
     "data": {
      "text/html": [
       "<div>\n",
       "<style scoped>\n",
       "    .dataframe tbody tr th:only-of-type {\n",
       "        vertical-align: middle;\n",
       "    }\n",
       "\n",
       "    .dataframe tbody tr th {\n",
       "        vertical-align: top;\n",
       "    }\n",
       "\n",
       "    .dataframe thead th {\n",
       "        text-align: right;\n",
       "    }\n",
       "</style>\n",
       "<table border=\"1\" class=\"dataframe\">\n",
       "  <thead>\n",
       "    <tr style=\"text-align: right;\">\n",
       "      <th></th>\n",
       "      <th>city</th>\n",
       "      <th>average_flights</th>\n",
       "    </tr>\n",
       "  </thead>\n",
       "  <tbody>\n",
       "    <tr>\n",
       "      <td>0</td>\n",
       "      <td>Абакан</td>\n",
       "      <td>3.870968</td>\n",
       "    </tr>\n",
       "    <tr>\n",
       "      <td>1</td>\n",
       "      <td>Анадырь</td>\n",
       "      <td>1.000000</td>\n",
       "    </tr>\n",
       "    <tr>\n",
       "      <td>2</td>\n",
       "      <td>Анапа</td>\n",
       "      <td>2.161290</td>\n",
       "    </tr>\n",
       "    <tr>\n",
       "      <td>3</td>\n",
       "      <td>Архангельск</td>\n",
       "      <td>5.354839</td>\n",
       "    </tr>\n",
       "    <tr>\n",
       "      <td>4</td>\n",
       "      <td>Астрахань</td>\n",
       "      <td>2.451613</td>\n",
       "    </tr>\n",
       "    <tr>\n",
       "      <td>5</td>\n",
       "      <td>Барнаул</td>\n",
       "      <td>2.612903</td>\n",
       "    </tr>\n",
       "    <tr>\n",
       "      <td>6</td>\n",
       "      <td>Белгород</td>\n",
       "      <td>6.000000</td>\n",
       "    </tr>\n",
       "    <tr>\n",
       "      <td>7</td>\n",
       "      <td>Белоярский</td>\n",
       "      <td>2.000000</td>\n",
       "    </tr>\n",
       "    <tr>\n",
       "      <td>8</td>\n",
       "      <td>Благовещенск</td>\n",
       "      <td>1.000000</td>\n",
       "    </tr>\n",
       "    <tr>\n",
       "      <td>9</td>\n",
       "      <td>Братск</td>\n",
       "      <td>1.000000</td>\n",
       "    </tr>\n",
       "  </tbody>\n",
       "</table>\n",
       "</div>"
      ],
      "text/plain": [
       "           city  average_flights\n",
       "0        Абакан         3.870968\n",
       "1       Анадырь         1.000000\n",
       "2         Анапа         2.161290\n",
       "3   Архангельск         5.354839\n",
       "4     Астрахань         2.451613\n",
       "5       Барнаул         2.612903\n",
       "6      Белгород         6.000000\n",
       "7    Белоярский         2.000000\n",
       "8  Благовещенск         1.000000\n",
       "9        Братск         1.000000"
      ]
     },
     "execution_count": 3,
     "metadata": {},
     "output_type": "execute_result"
    }
   ],
   "source": [
    "data2 = pd.read_csv('/datasets/query_3.csv')\n",
    "data2.info()\n",
    "print()\n",
    "print('дубликаты', data2.city.duplicated().sum())\n",
    "data2.head(10)"
   ]
  },
  {
   "cell_type": "markdown",
   "metadata": {},
   "source": [
    "В данных нет пропусков, нет дубликатов."
   ]
  },
  {
   "cell_type": "markdown",
   "metadata": {},
   "source": [
    "**изучить данные в них**"
   ]
  },
  {
   "cell_type": "code",
   "execution_count": 4,
   "metadata": {},
   "outputs": [
    {
     "data": {
      "text/html": [
       "<div>\n",
       "<style scoped>\n",
       "    .dataframe tbody tr th:only-of-type {\n",
       "        vertical-align: middle;\n",
       "    }\n",
       "\n",
       "    .dataframe tbody tr th {\n",
       "        vertical-align: top;\n",
       "    }\n",
       "\n",
       "    .dataframe thead th {\n",
       "        text-align: right;\n",
       "    }\n",
       "</style>\n",
       "<table border=\"1\" class=\"dataframe\">\n",
       "  <thead>\n",
       "    <tr style=\"text-align: right;\">\n",
       "      <th></th>\n",
       "      <th>model</th>\n",
       "      <th>flights_amount</th>\n",
       "    </tr>\n",
       "  </thead>\n",
       "  <tbody>\n",
       "    <tr>\n",
       "      <td>0</td>\n",
       "      <td>Airbus A319-100</td>\n",
       "      <td>607</td>\n",
       "    </tr>\n",
       "    <tr>\n",
       "      <td>1</td>\n",
       "      <td>Airbus A321-200</td>\n",
       "      <td>960</td>\n",
       "    </tr>\n",
       "    <tr>\n",
       "      <td>2</td>\n",
       "      <td>Boeing 737-300</td>\n",
       "      <td>630</td>\n",
       "    </tr>\n",
       "    <tr>\n",
       "      <td>3</td>\n",
       "      <td>Boeing 767-300</td>\n",
       "      <td>600</td>\n",
       "    </tr>\n",
       "    <tr>\n",
       "      <td>4</td>\n",
       "      <td>Boeing 777-300</td>\n",
       "      <td>300</td>\n",
       "    </tr>\n",
       "    <tr>\n",
       "      <td>5</td>\n",
       "      <td>Bombardier CRJ-200</td>\n",
       "      <td>4446</td>\n",
       "    </tr>\n",
       "    <tr>\n",
       "      <td>6</td>\n",
       "      <td>Cessna 208 Caravan</td>\n",
       "      <td>4557</td>\n",
       "    </tr>\n",
       "    <tr>\n",
       "      <td>7</td>\n",
       "      <td>Sukhoi SuperJet-100</td>\n",
       "      <td>4185</td>\n",
       "    </tr>\n",
       "  </tbody>\n",
       "</table>\n",
       "</div>"
      ],
      "text/plain": [
       "                 model  flights_amount\n",
       "0      Airbus A319-100             607\n",
       "1      Airbus A321-200             960\n",
       "2       Boeing 737-300             630\n",
       "3       Boeing 767-300             600\n",
       "4       Boeing 777-300             300\n",
       "5   Bombardier CRJ-200            4446\n",
       "6   Cessna 208 Caravan            4557\n",
       "7  Sukhoi SuperJet-100            4185"
      ]
     },
     "execution_count": 4,
     "metadata": {},
     "output_type": "execute_result"
    }
   ],
   "source": [
    "data1.head(10)"
   ]
  },
  {
   "cell_type": "markdown",
   "metadata": {},
   "source": [
    "В указанной таблице действительно мало данных. Они выглядят корректными. Можно заметить, что больше всего рейсов было совершено на модели Cessna 208 Caravan, а меньше всего на Boeing 777-300."
   ]
  },
  {
   "cell_type": "code",
   "execution_count": 5,
   "metadata": {},
   "outputs": [
    {
     "data": {
      "text/plain": [
       "<matplotlib.axes._subplots.AxesSubplot at 0x7f89ed4b89d0>"
      ]
     },
     "execution_count": 5,
     "metadata": {},
     "output_type": "execute_result"
    },
    {
     "data": {
      "image/png": "[encoded data removed]",
      "text/plain": [
       "<Figure size 432x288 with 1 Axes>"
      ]
     },
     "metadata": {
      "needs_background": "light"
     },
     "output_type": "display_data"
    }
   ],
   "source": [
    "data2.average_flights.hist(bins=100)"
   ]
  },
  {
   "cell_type": "code",
   "execution_count": 6,
   "metadata": {},
   "outputs": [
    {
     "data": {
      "text/html": [
       "<div>\n",
       "<style scoped>\n",
       "    .dataframe tbody tr th:only-of-type {\n",
       "        vertical-align: middle;\n",
       "    }\n",
       "\n",
       "    .dataframe tbody tr th {\n",
       "        vertical-align: top;\n",
       "    }\n",
       "\n",
       "    .dataframe thead th {\n",
       "        text-align: right;\n",
       "    }\n",
       "</style>\n",
       "<table border=\"1\" class=\"dataframe\">\n",
       "  <thead>\n",
       "    <tr style=\"text-align: right;\">\n",
       "      <th></th>\n",
       "      <th>city</th>\n",
       "      <th>average_flights</th>\n",
       "    </tr>\n",
       "  </thead>\n",
       "  <tbody>\n",
       "    <tr>\n",
       "      <td>43</td>\n",
       "      <td>Москва</td>\n",
       "      <td>129.774194</td>\n",
       "    </tr>\n",
       "  </tbody>\n",
       "</table>\n",
       "</div>"
      ],
      "text/plain": [
       "      city  average_flights\n",
       "43  Москва       129.774194"
      ]
     },
     "execution_count": 6,
     "metadata": {},
     "output_type": "execute_result"
    }
   ],
   "source": [
    "data2.loc[data2['average_flights']>120]"
   ]
  },
  {
   "cell_type": "markdown",
   "metadata": {},
   "source": [
    "Данные тоже выглядят корректными. Есть один город с аномально высоким средним значением рейсов в день, но это Москва. Так что я думаю, это не ошибка. Так же большинство городов со средним значением рейсов около 1."
   ]
  },
  {
   "cell_type": "markdown",
   "metadata": {},
   "source": [
    "**проверить типы данных на корректность**"
   ]
  },
  {
   "cell_type": "code",
   "execution_count": 7,
   "metadata": {},
   "outputs": [
    {
     "name": "stdout",
     "output_type": "stream",
     "text": [
      "<class 'pandas.core.frame.DataFrame'>\n",
      "RangeIndex: 8 entries, 0 to 7\n",
      "Data columns (total 2 columns):\n",
      "model             8 non-null object\n",
      "flights_amount    8 non-null int64\n",
      "dtypes: int64(1), object(1)\n",
      "memory usage: 256.0+ bytes\n",
      "<class 'pandas.core.frame.DataFrame'>\n",
      "RangeIndex: 101 entries, 0 to 100\n",
      "Data columns (total 2 columns):\n",
      "city               101 non-null object\n",
      "average_flights    101 non-null float64\n",
      "dtypes: float64(1), object(1)\n",
      "memory usage: 1.7+ KB\n"
     ]
    }
   ],
   "source": [
    "data1.info()\n",
    "data2.info()"
   ]
  },
  {
   "cell_type": "markdown",
   "metadata": {},
   "source": [
    "Типы данных указаны правильно"
   ]
  },
  {
   "cell_type": "markdown",
   "metadata": {},
   "source": [
    "**выбрать топ-10 городов по количеству рейсов**"
   ]
  },
  {
   "cell_type": "code",
   "execution_count": 8,
   "metadata": {},
   "outputs": [
    {
     "data": {
      "text/html": [
       "<div>\n",
       "<style scoped>\n",
       "    .dataframe tbody tr th:only-of-type {\n",
       "        vertical-align: middle;\n",
       "    }\n",
       "\n",
       "    .dataframe tbody tr th {\n",
       "        vertical-align: top;\n",
       "    }\n",
       "\n",
       "    .dataframe thead th {\n",
       "        text-align: right;\n",
       "    }\n",
       "</style>\n",
       "<table border=\"1\" class=\"dataframe\">\n",
       "  <thead>\n",
       "    <tr style=\"text-align: right;\">\n",
       "      <th></th>\n",
       "      <th>city</th>\n",
       "      <th>average_flights</th>\n",
       "    </tr>\n",
       "  </thead>\n",
       "  <tbody>\n",
       "    <tr>\n",
       "      <td>43</td>\n",
       "      <td>Москва</td>\n",
       "      <td>129.774194</td>\n",
       "    </tr>\n",
       "    <tr>\n",
       "      <td>70</td>\n",
       "      <td>Санкт-Петербург</td>\n",
       "      <td>31.161290</td>\n",
       "    </tr>\n",
       "    <tr>\n",
       "      <td>54</td>\n",
       "      <td>Новосибирск</td>\n",
       "      <td>17.322581</td>\n",
       "    </tr>\n",
       "    <tr>\n",
       "      <td>33</td>\n",
       "      <td>Красноярск</td>\n",
       "      <td>11.580645</td>\n",
       "    </tr>\n",
       "    <tr>\n",
       "      <td>20</td>\n",
       "      <td>Екатеринбург</td>\n",
       "      <td>11.322581</td>\n",
       "    </tr>\n",
       "    <tr>\n",
       "      <td>67</td>\n",
       "      <td>Ростов-на-Дону</td>\n",
       "      <td>10.193548</td>\n",
       "    </tr>\n",
       "    <tr>\n",
       "      <td>63</td>\n",
       "      <td>Пермь</td>\n",
       "      <td>10.129032</td>\n",
       "    </tr>\n",
       "    <tr>\n",
       "      <td>10</td>\n",
       "      <td>Брянск</td>\n",
       "      <td>10.000000</td>\n",
       "    </tr>\n",
       "    <tr>\n",
       "      <td>74</td>\n",
       "      <td>Сочи</td>\n",
       "      <td>9.612903</td>\n",
       "    </tr>\n",
       "    <tr>\n",
       "      <td>84</td>\n",
       "      <td>Ульяновск</td>\n",
       "      <td>9.580645</td>\n",
       "    </tr>\n",
       "  </tbody>\n",
       "</table>\n",
       "</div>"
      ],
      "text/plain": [
       "               city  average_flights\n",
       "43           Москва       129.774194\n",
       "70  Санкт-Петербург        31.161290\n",
       "54      Новосибирск        17.322581\n",
       "33       Красноярск        11.580645\n",
       "20     Екатеринбург        11.322581\n",
       "67   Ростов-на-Дону        10.193548\n",
       "63            Пермь        10.129032\n",
       "10           Брянск        10.000000\n",
       "74             Сочи         9.612903\n",
       "84        Ульяновск         9.580645"
      ]
     },
     "execution_count": 8,
     "metadata": {},
     "output_type": "execute_result"
    }
   ],
   "source": [
    "data2_top=data2.sort_values(by='average_flights', ascending=False).head(10)\n",
    "data2_top"
   ]
  },
  {
   "cell_type": "markdown",
   "metadata": {},
   "source": [
    "**построить графики: модели самолётов и количество рейсов, города и количество рейсов, топ-10 городов и количество рейсов**"
   ]
  },
  {
   "cell_type": "code",
   "execution_count": 9,
   "metadata": {},
   "outputs": [
    {
     "data": {
      "image/png": "[encoded data removed]",
      "text/plain": [
       "<Figure size 720x360 with 1 Axes>"
      ]
     },
     "metadata": {
      "needs_background": "light"
     },
     "output_type": "display_data"
    }
   ],
   "source": [
    "plt.figure(figsize=(10, 5))\n",
    "plt.xlabel('модели самолётов')\n",
    "plt.ylabel('количество рейсов')\n",
    "plt.title('модели самолётов и количество рейсов')\n",
    "plt.xticks(rotation=90)\n",
    "plt.bar(data1.model, data1.flights_amount)\n",
    "plt.show()"
   ]
  },
  {
   "cell_type": "markdown",
   "metadata": {},
   "source": [
    "По графику видно, что на более известных моделях Airbus и Boeing летают значительно реже, чем на других моделях самолетов, которые в предыдущем задании были отнесены к категории other"
   ]
  },
  {
   "cell_type": "markdown",
   "metadata": {},
   "source": [
    "**Исправление**\n",
    "\n",
    "Самолеты Airbus и Boeing имеют большую вместимость пассажиров (от 300 до 500 человек) и предназначены для длительных перелетов. Тогда как остальные модели относятся к самолетам для более коротких расстояний и с меньшей вместимостью (от 20 до 100 человек).\n",
    "\n",
    "Видимо, большие самолеты летают в крупные города из крупных городов с большим пассажиропотоком. А маленькие самолеты используются для меньших городов, которых в России больше."
   ]
  },
  {
   "cell_type": "code",
   "execution_count": 10,
   "metadata": {},
   "outputs": [
    {
     "data": {
      "image/png": "[encoded data removed]",
      "text/plain": [
       "<Figure size 720x1440 with 1 Axes>"
      ]
     },
     "metadata": {
      "needs_background": "light"
     },
     "output_type": "display_data"
    }
   ],
   "source": [
    "import seaborn as sns\n",
    "\n",
    "plt.figure(figsize=(10, 20))\n",
    "plt.ylabel('города')\n",
    "plt.xlabel('количество рейсов')\n",
    "plt.title('города и количество рейсов')\n",
    "sns.barplot(y=data2.city, x=data2.average_flights)\n",
    "plt.show()"
   ]
  },
  {
   "cell_type": "markdown",
   "metadata": {},
   "source": [
    "Самый популярный город для полетов - Москва - значительно превышает среднее значение авиарейсов за день для других городов. Санкт-Петербург тоже выделяется на графике. Остальные города находятся в промежутке между 0 и 20 полетами в день."
   ]
  },
  {
   "cell_type": "code",
   "execution_count": 11,
   "metadata": {},
   "outputs": [
    {
     "data": {
      "image/png": "[encoded data removed]",
      "text/plain": [
       "<Figure size 720x360 with 1 Axes>"
      ]
     },
     "metadata": {
      "needs_background": "light"
     },
     "output_type": "display_data"
    }
   ],
   "source": [
    "plt.figure(figsize=(10, 5))\n",
    "plt.xlabel('города')\n",
    "plt.ylabel('количество рейсов')\n",
    "plt.title('топ-10 городов и количество рейсов')\n",
    "#plt.xticks(rotation=90)\n",
    "plt.barh(data2_top.city, data2_top.average_flights)\n",
    "plt.show()"
   ]
  },
  {
   "cell_type": "markdown",
   "metadata": {},
   "source": [
    "Аналогично предыдущему графику: полетов в Москву в 4 раза больше, чем в Санкт-Петербург, и в 6 раз больше, чем в остальные города топ-10"
   ]
  },
  {
   "cell_type": "markdown",
   "metadata": {},
   "source": [
    "Новосибирск находится в середине России, то есть связывает крупные города на востоке страны (Питер и Москву) с Сибирью и западной частью России."
   ]
  },
  {
   "cell_type": "markdown",
   "metadata": {},
   "source": [
    "**Общий вывод**"
   ]
  },
  {
   "cell_type": "markdown",
   "metadata": {},
   "source": [
    "В ходе данной работы был проанализирован спрос на авиабилеты в города России за сентябрь и его связь с проведением фестивалей в этих городах.\n",
    "\n",
    "Самое большое количество авиарейсов в день было сделано в Москву (примерно в 6 раз больше, чем в другие города). \n",
    "\n",
    "Такой аномально высокий спрос связан скорее не с проведением фестивалей в Москве, а с тем, что она является крупнейшим транспортным узлом в России, имеет 3 крупных аэропорта, и многие рейсы проходят транзитом через Москву.\n",
    "\n",
    "Результаты предыдущего задания подтверждают, что спрос на авиабилеты слабо связан с проведением фестивалей."
   ]
  },
  {
   "cell_type": "code",
   "execution_count": null,
   "metadata": {},
   "outputs": [],
   "source": []
  }
 ],
 "metadata": {
  "ExecuteTimeLog": [
   {
    "duration": 1031,
    "start_time": "2021-08-29T08:19:26.699Z"
   },
   {
    "duration": 2079,
    "start_time": "2021-08-29T08:21:04.534Z"
   },
   {
    "duration": 32,
    "start_time": "2021-08-29T08:22:12.304Z"
   },
   {
    "duration": 27,
    "start_time": "2021-08-29T08:35:32.880Z"
   },
   {
    "duration": 29,
    "start_time": "2021-08-29T08:36:04.046Z"
   },
   {
    "duration": 33,
    "start_time": "2021-08-29T08:40:03.309Z"
   },
   {
    "duration": 30,
    "start_time": "2021-08-29T08:40:47.053Z"
   },
   {
    "duration": 30,
    "start_time": "2021-08-29T08:41:01.795Z"
   },
   {
    "duration": 29,
    "start_time": "2021-08-29T08:41:27.757Z"
   },
   {
    "duration": 10,
    "start_time": "2021-08-29T08:41:51.738Z"
   },
   {
    "duration": 488,
    "start_time": "2021-08-29T08:44:41.832Z"
   },
   {
    "duration": 224,
    "start_time": "2021-08-29T08:45:02.458Z"
   },
   {
    "duration": 190,
    "start_time": "2021-08-29T08:45:28.019Z"
   },
   {
    "duration": 506,
    "start_time": "2021-08-29T08:45:59.251Z"
   },
   {
    "duration": 337,
    "start_time": "2021-08-29T08:47:06.171Z"
   },
   {
    "duration": 218,
    "start_time": "2021-08-29T08:47:33.297Z"
   },
   {
    "duration": 370,
    "start_time": "2021-08-29T08:47:48.873Z"
   },
   {
    "duration": 9,
    "start_time": "2021-08-29T08:48:07.566Z"
   },
   {
    "duration": 292,
    "start_time": "2021-08-29T08:50:07.214Z"
   },
   {
    "duration": 10,
    "start_time": "2021-08-29T08:50:13.063Z"
   },
   {
    "duration": 13,
    "start_time": "2021-08-29T08:56:43.081Z"
   },
   {
    "duration": 13,
    "start_time": "2021-08-29T08:56:50.961Z"
   },
   {
    "duration": 14,
    "start_time": "2021-08-29T08:56:59.679Z"
   },
   {
    "duration": 17,
    "start_time": "2021-08-29T08:57:13.962Z"
   },
   {
    "duration": 12,
    "start_time": "2021-08-29T08:57:26.487Z"
   },
   {
    "duration": 3,
    "start_time": "2021-08-29T08:57:51.458Z"
   },
   {
    "duration": 34,
    "start_time": "2021-08-29T08:57:51.464Z"
   },
   {
    "duration": 31,
    "start_time": "2021-08-29T08:57:51.502Z"
   },
   {
    "duration": 9,
    "start_time": "2021-08-29T08:57:51.542Z"
   },
   {
    "duration": 382,
    "start_time": "2021-08-29T08:57:51.602Z"
   },
   {
    "duration": 12,
    "start_time": "2021-08-29T08:57:51.987Z"
   },
   {
    "duration": 15,
    "start_time": "2021-08-29T08:57:52.002Z"
   },
   {
    "duration": 33,
    "start_time": "2021-08-29T08:57:52.019Z"
   },
   {
    "duration": 342,
    "start_time": "2021-08-29T09:02:26.402Z"
   },
   {
    "duration": 201,
    "start_time": "2021-08-29T09:02:41.914Z"
   },
   {
    "duration": 296,
    "start_time": "2021-08-29T09:03:14.011Z"
   },
   {
    "duration": 1686,
    "start_time": "2021-08-29T09:03:20.122Z"
   },
   {
    "duration": 1668,
    "start_time": "2021-08-29T09:03:34.383Z"
   },
   {
    "duration": 1911,
    "start_time": "2021-08-29T09:06:44.360Z"
   },
   {
    "duration": 618,
    "start_time": "2021-08-29T09:07:02.497Z"
   },
   {
    "duration": 748,
    "start_time": "2021-08-29T09:07:09.152Z"
   },
   {
    "duration": 1756,
    "start_time": "2021-08-29T09:07:16.952Z"
   },
   {
    "duration": 1379,
    "start_time": "2021-08-29T09:08:20.357Z"
   },
   {
    "duration": 228,
    "start_time": "2021-08-29T09:09:35.857Z"
   },
   {
    "duration": 1825,
    "start_time": "2021-08-29T09:14:22.343Z"
   },
   {
    "duration": 1748,
    "start_time": "2021-08-29T09:15:07.769Z"
   },
   {
    "duration": 249,
    "start_time": "2021-08-29T09:16:26.590Z"
   },
   {
    "duration": 245,
    "start_time": "2021-08-29T09:16:32.259Z"
   },
   {
    "duration": 11,
    "start_time": "2021-08-29T09:18:12.241Z"
   },
   {
    "duration": 473,
    "start_time": "2021-08-29T09:18:25.205Z"
   },
   {
    "duration": 261,
    "start_time": "2021-08-29T09:18:31.792Z"
   },
   {
    "duration": 4,
    "start_time": "2021-08-29T09:56:44.108Z"
   },
   {
    "duration": 31,
    "start_time": "2021-08-29T09:56:44.114Z"
   },
   {
    "duration": 32,
    "start_time": "2021-08-29T09:56:44.149Z"
   },
   {
    "duration": 12,
    "start_time": "2021-08-29T09:56:44.184Z"
   },
   {
    "duration": 674,
    "start_time": "2021-08-29T09:56:44.199Z"
   },
   {
    "duration": 14,
    "start_time": "2021-08-29T09:56:44.876Z"
   },
   {
    "duration": 16,
    "start_time": "2021-08-29T09:56:44.894Z"
   },
   {
    "duration": 41,
    "start_time": "2021-08-29T09:56:44.914Z"
   },
   {
    "duration": 264,
    "start_time": "2021-08-29T09:56:44.958Z"
   },
   {
    "duration": 1868,
    "start_time": "2021-08-29T09:56:45.225Z"
   },
   {
    "duration": 280,
    "start_time": "2021-08-29T09:56:47.095Z"
   },
   {
    "duration": 844,
    "start_time": "2021-08-29T14:05:09.839Z"
   },
   {
    "duration": 34,
    "start_time": "2021-08-29T14:05:10.687Z"
   },
   {
    "duration": 39,
    "start_time": "2021-08-29T14:05:10.725Z"
   },
   {
    "duration": 16,
    "start_time": "2021-08-29T14:05:10.768Z"
   },
   {
    "duration": 548,
    "start_time": "2021-08-29T14:05:10.786Z"
   },
   {
    "duration": 10,
    "start_time": "2021-08-29T14:05:11.336Z"
   },
   {
    "duration": 35,
    "start_time": "2021-08-29T14:05:11.348Z"
   },
   {
    "duration": 14,
    "start_time": "2021-08-29T14:05:11.386Z"
   },
   {
    "duration": 318,
    "start_time": "2021-08-29T14:05:11.403Z"
   },
   {
    "duration": 2241,
    "start_time": "2021-08-29T14:05:11.723Z"
   },
   {
    "duration": 335,
    "start_time": "2021-08-29T14:05:13.966Z"
   },
   {
    "duration": 360,
    "start_time": "2021-09-01T08:23:52.694Z"
   },
   {
    "duration": 828,
    "start_time": "2021-09-01T08:23:55.741Z"
   },
   {
    "duration": 34,
    "start_time": "2021-09-01T08:23:56.572Z"
   },
   {
    "duration": 32,
    "start_time": "2021-09-01T08:23:56.609Z"
   },
   {
    "duration": 14,
    "start_time": "2021-09-01T08:23:56.645Z"
   },
   {
    "duration": 462,
    "start_time": "2021-09-01T08:23:56.662Z"
   },
   {
    "duration": 21,
    "start_time": "2021-09-01T08:23:57.127Z"
   },
   {
    "duration": 20,
    "start_time": "2021-09-01T08:23:57.151Z"
   },
   {
    "duration": 14,
    "start_time": "2021-09-01T08:23:57.175Z"
   },
   {
    "duration": 294,
    "start_time": "2021-09-01T08:23:57.192Z"
   },
   {
    "duration": 1969,
    "start_time": "2021-09-01T08:23:57.488Z"
   },
   {
    "duration": 409,
    "start_time": "2021-09-01T08:23:59.460Z"
   },
   {
    "duration": 1842,
    "start_time": "2021-09-01T08:25:02.553Z"
   },
   {
    "duration": 1846,
    "start_time": "2021-09-01T08:25:27.110Z"
   },
   {
    "duration": 1949,
    "start_time": "2021-09-01T08:25:40.653Z"
   },
   {
    "duration": 35,
    "start_time": "2021-09-01T08:26:15.822Z"
   },
   {
    "duration": 1986,
    "start_time": "2021-09-01T08:26:19.774Z"
   },
   {
    "duration": 1844,
    "start_time": "2021-09-01T08:26:36.126Z"
   },
   {
    "duration": 1805,
    "start_time": "2021-09-01T08:27:04.584Z"
   },
   {
    "duration": 811,
    "start_time": "2021-09-01T08:31:43.453Z"
   },
   {
    "duration": 516,
    "start_time": "2021-09-01T08:32:01.651Z"
   },
   {
    "duration": 3626,
    "start_time": "2021-09-01T08:32:13.410Z"
   },
   {
    "duration": 1784,
    "start_time": "2021-09-01T08:33:02.670Z"
   },
   {
    "duration": 1808,
    "start_time": "2021-09-01T08:36:07.297Z"
   },
   {
    "duration": 2833,
    "start_time": "2021-09-01T08:37:37.362Z"
   },
   {
    "duration": 3311,
    "start_time": "2021-09-01T08:37:53.747Z"
   },
   {
    "duration": 1145,
    "start_time": "2021-09-01T08:39:04.851Z"
   },
   {
    "duration": 2978,
    "start_time": "2021-09-01T08:39:16.227Z"
   },
   {
    "duration": 1740,
    "start_time": "2021-09-01T08:39:37.339Z"
   },
   {
    "duration": 3179,
    "start_time": "2021-09-01T08:39:49.451Z"
   },
   {
    "duration": 434,
    "start_time": "2021-09-01T08:40:08.288Z"
   },
   {
    "duration": 1864,
    "start_time": "2021-09-01T08:40:24.094Z"
   },
   {
    "duration": 264,
    "start_time": "2021-09-01T08:42:03.355Z"
   },
   {
    "duration": 4,
    "start_time": "2021-09-01T08:46:09.867Z"
   },
   {
    "duration": 41,
    "start_time": "2021-09-01T08:46:09.874Z"
   },
   {
    "duration": 30,
    "start_time": "2021-09-01T08:46:09.918Z"
   },
   {
    "duration": 9,
    "start_time": "2021-09-01T08:46:09.951Z"
   },
   {
    "duration": 406,
    "start_time": "2021-09-01T08:46:09.963Z"
   },
   {
    "duration": 12,
    "start_time": "2021-09-01T08:46:10.372Z"
   },
   {
    "duration": 18,
    "start_time": "2021-09-01T08:46:10.387Z"
   },
   {
    "duration": 40,
    "start_time": "2021-09-01T08:46:10.408Z"
   },
   {
    "duration": 259,
    "start_time": "2021-09-01T08:46:10.452Z"
   },
   {
    "duration": 2002,
    "start_time": "2021-09-01T08:46:10.714Z"
   },
   {
    "duration": 273,
    "start_time": "2021-09-01T08:46:12.719Z"
   },
   {
    "duration": 724,
    "start_time": "2021-09-01T10:56:20.385Z"
   },
   {
    "duration": 32,
    "start_time": "2021-09-01T10:56:21.111Z"
   },
   {
    "duration": 29,
    "start_time": "2021-09-01T10:56:21.146Z"
   },
   {
    "duration": 8,
    "start_time": "2021-09-01T10:56:21.178Z"
   },
   {
    "duration": 367,
    "start_time": "2021-09-01T10:56:21.188Z"
   },
   {
    "duration": 9,
    "start_time": "2021-09-01T10:56:21.557Z"
   },
   {
    "duration": 15,
    "start_time": "2021-09-01T10:56:21.568Z"
   },
   {
    "duration": 13,
    "start_time": "2021-09-01T10:56:21.585Z"
   },
   {
    "duration": 241,
    "start_time": "2021-09-01T10:56:21.600Z"
   },
   {
    "duration": 1706,
    "start_time": "2021-09-01T10:56:21.843Z"
   },
   {
    "duration": 244,
    "start_time": "2021-09-01T10:56:23.551Z"
   },
   {
    "duration": 108,
    "start_time": "2021-09-01T10:56:50.349Z"
   },
   {
    "duration": 845,
    "start_time": "2021-09-01T10:56:54.239Z"
   },
   {
    "duration": 1691,
    "start_time": "2021-09-01T10:57:02.608Z"
   },
   {
    "duration": 1734,
    "start_time": "2021-09-01T10:57:09.153Z"
   },
   {
    "duration": 1552,
    "start_time": "2021-09-01T10:57:17.775Z"
   },
   {
    "duration": 1490,
    "start_time": "2021-09-01T10:57:27.305Z"
   },
   {
    "duration": 1936,
    "start_time": "2021-09-01T10:57:39.153Z"
   },
   {
    "duration": 1885,
    "start_time": "2021-09-01T10:57:50.695Z"
   },
   {
    "duration": 2328,
    "start_time": "2021-09-01T10:58:46.363Z"
   },
   {
    "duration": 1705,
    "start_time": "2021-09-01T10:59:12.038Z"
   },
   {
    "duration": 1851,
    "start_time": "2021-09-01T10:59:26.105Z"
   },
   {
    "duration": 690,
    "start_time": "2021-10-15T17:14:48.385Z"
   },
   {
    "duration": 29,
    "start_time": "2021-10-15T17:14:49.077Z"
   },
   {
    "duration": 27,
    "start_time": "2021-10-15T17:14:49.110Z"
   },
   {
    "duration": 8,
    "start_time": "2021-10-15T17:14:49.139Z"
   },
   {
    "duration": 328,
    "start_time": "2021-10-15T17:14:49.149Z"
   },
   {
    "duration": 8,
    "start_time": "2021-10-15T17:14:49.479Z"
   },
   {
    "duration": 9,
    "start_time": "2021-10-15T17:14:49.489Z"
   },
   {
    "duration": 20,
    "start_time": "2021-10-15T17:14:49.500Z"
   },
   {
    "duration": 217,
    "start_time": "2021-10-15T17:14:49.521Z"
   },
   {
    "duration": 1533,
    "start_time": "2021-10-15T17:14:49.740Z"
   },
   {
    "duration": 2064,
    "start_time": "2021-10-15T17:14:51.275Z"
   },
   {
    "duration": 212,
    "start_time": "2021-10-15T17:14:53.341Z"
   },
   {
    "duration": 701,
    "start_time": "2021-10-15T17:16:23.179Z"
   },
   {
    "duration": 29,
    "start_time": "2021-10-15T17:16:23.883Z"
   },
   {
    "duration": 26,
    "start_time": "2021-10-15T17:16:23.914Z"
   },
   {
    "duration": 6,
    "start_time": "2021-10-15T17:16:23.942Z"
   },
   {
    "duration": 327,
    "start_time": "2021-10-15T17:16:23.950Z"
   },
   {
    "duration": 8,
    "start_time": "2021-10-15T17:16:24.278Z"
   },
   {
    "duration": 14,
    "start_time": "2021-10-15T17:16:24.287Z"
   },
   {
    "duration": 11,
    "start_time": "2021-10-15T17:16:24.304Z"
   },
   {
    "duration": 224,
    "start_time": "2021-10-15T17:16:24.317Z"
   },
   {
    "duration": 2121,
    "start_time": "2021-10-15T17:16:24.543Z"
   },
   {
    "duration": 291,
    "start_time": "2021-10-15T17:16:26.665Z"
   }
  ],
  "kernelspec": {
   "display_name": "Python 3",
   "language": "python",
   "name": "python3"
  },
  "language_info": {
   "codemirror_mode": {
    "name": "ipython",
    "version": 3
   },
   "file_extension": ".py",
   "mimetype": "text/x-python",
   "name": "python",
   "nbconvert_exporter": "python",
   "pygments_lexer": "ipython3",
   "version": "3.7.8"
  },
  "toc": {
   "base_numbering": 1,
   "nav_menu": {},
   "number_sections": true,
   "sideBar": true,
   "skip_h1_title": true,
   "title_cell": "Содержание",
   "title_sidebar": "Contents",
   "toc_cell": true,
   "toc_position": {
    "height": "calc(100% - 180px)",
    "left": "10px",
    "top": "150px",
    "width": "165px"
   },
   "toc_section_display": true,
   "toc_window_display": false
  }
 },
 "nbformat": 4,
 "nbformat_minor": 2
}
