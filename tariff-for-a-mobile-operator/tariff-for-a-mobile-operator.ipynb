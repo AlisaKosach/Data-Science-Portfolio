{
 "cells": [
  {
   "cell_type": "markdown",
   "metadata": {},
   "source": [
    "Вы аналитик компании «Мегалайн» — федерального оператора сотовой связи. Клиентам предлагают два тарифных плана: «Смарт» и «Ультра». Чтобы скорректировать рекламный бюджет, коммерческий департамент хочет понять, какой тариф приносит больше денег.\n",
    "Вам предстоит сделать предварительный анализ тарифов на небольшой выборке клиентов. В вашем распоряжении данные 500 пользователей «Мегалайна»: кто они, откуда, каким тарифом пользуются, сколько звонков и сообщений каждый отправил за 2018 год. Нужно проанализировать поведение клиентов и сделать вывод — какой тариф лучше."
   ]
  },
  {
   "cell_type": "markdown",
   "metadata": {},
   "source": [
    "<b> Шаг 1. Откройте файл с данными и изучите общую информацию </b>"
   ]
  },
  {
   "cell_type": "code",
   "execution_count": 1,
   "metadata": {},
   "outputs": [
    {
     "data": {
      "text/html": [
       "<div>\n",
       "<style scoped>\n",
       "    .dataframe tbody tr th:only-of-type {\n",
       "        vertical-align: middle;\n",
       "    }\n",
       "\n",
       "    .dataframe tbody tr th {\n",
       "        vertical-align: top;\n",
       "    }\n",
       "\n",
       "    .dataframe thead th {\n",
       "        text-align: right;\n",
       "    }\n",
       "</style>\n",
       "<table border=\"1\" class=\"dataframe\">\n",
       "  <thead>\n",
       "    <tr style=\"text-align: right;\">\n",
       "      <th></th>\n",
       "      <th>id</th>\n",
       "      <th>call_date</th>\n",
       "      <th>duration</th>\n",
       "      <th>user_id</th>\n",
       "    </tr>\n",
       "  </thead>\n",
       "  <tbody>\n",
       "    <tr>\n",
       "      <td>0</td>\n",
       "      <td>1000_0</td>\n",
       "      <td>2018-07-25</td>\n",
       "      <td>0.00</td>\n",
       "      <td>1000</td>\n",
       "    </tr>\n",
       "    <tr>\n",
       "      <td>1</td>\n",
       "      <td>1000_1</td>\n",
       "      <td>2018-08-17</td>\n",
       "      <td>0.00</td>\n",
       "      <td>1000</td>\n",
       "    </tr>\n",
       "    <tr>\n",
       "      <td>2</td>\n",
       "      <td>1000_2</td>\n",
       "      <td>2018-06-11</td>\n",
       "      <td>2.85</td>\n",
       "      <td>1000</td>\n",
       "    </tr>\n",
       "    <tr>\n",
       "      <td>3</td>\n",
       "      <td>1000_3</td>\n",
       "      <td>2018-09-21</td>\n",
       "      <td>13.80</td>\n",
       "      <td>1000</td>\n",
       "    </tr>\n",
       "    <tr>\n",
       "      <td>4</td>\n",
       "      <td>1000_4</td>\n",
       "      <td>2018-12-15</td>\n",
       "      <td>5.18</td>\n",
       "      <td>1000</td>\n",
       "    </tr>\n",
       "  </tbody>\n",
       "</table>\n",
       "</div>"
      ],
      "text/plain": [
       "       id   call_date  duration  user_id\n",
       "0  1000_0  2018-07-25      0.00     1000\n",
       "1  1000_1  2018-08-17      0.00     1000\n",
       "2  1000_2  2018-06-11      2.85     1000\n",
       "3  1000_3  2018-09-21     13.80     1000\n",
       "4  1000_4  2018-12-15      5.18     1000"
      ]
     },
     "metadata": {},
     "output_type": "display_data"
    },
    {
     "name": "stdout",
     "output_type": "stream",
     "text": [
      "<class 'pandas.core.frame.DataFrame'>\n",
      "RangeIndex: 202607 entries, 0 to 202606\n",
      "Data columns (total 4 columns):\n",
      "id           202607 non-null object\n",
      "call_date    202607 non-null object\n",
      "duration     202607 non-null float64\n",
      "user_id      202607 non-null int64\n",
      "dtypes: float64(1), int64(1), object(2)\n",
      "memory usage: 6.2+ MB\n"
     ]
    },
    {
     "data": {
      "image/png": "[encoded data removed]",
      "text/plain": [
       "<Figure size 432x288 with 1 Axes>"
      ]
     },
     "metadata": {
      "needs_background": "light"
     },
     "output_type": "display_data"
    }
   ],
   "source": [
    "import pandas as pd\n",
    "\n",
    "df_calls = pd.read_csv('/datasets/calls.csv')\n",
    "display(df_calls.head())\n",
    "df_calls.duration.hist(bins=100)\n",
    "df_calls.info()"
   ]
  },
  {
   "cell_type": "markdown",
   "metadata": {},
   "source": [
    "Таблица со звонками:\n",
    "- есть нулевая длительность звонка\n",
    "- дату нужно перевести в тип дата-время\n",
    "- округлить длительность звонков до целых в большую сторону\n",
    "<div class=\"alert alert-info\">\n",
    "Нулевых значений в длительности звонков много (более 40 тысяч). Они могут соотвествовать сброшенным вызовам, или ситуациям, когда абонент не дозвонился. Поэтому я их не буду удалять, в расчет суммы длительности звонков по месяцам они не внесут вклад, а при общем подсчете звонков пусть останутся, это же тоже были звонки."
   ]
  },
  {
   "cell_type": "code",
   "execution_count": 2,
   "metadata": {},
   "outputs": [
    {
     "data": {
      "text/html": [
       "<div>\n",
       "<style scoped>\n",
       "    .dataframe tbody tr th:only-of-type {\n",
       "        vertical-align: middle;\n",
       "    }\n",
       "\n",
       "    .dataframe tbody tr th {\n",
       "        vertical-align: top;\n",
       "    }\n",
       "\n",
       "    .dataframe thead th {\n",
       "        text-align: right;\n",
       "    }\n",
       "</style>\n",
       "<table border=\"1\" class=\"dataframe\">\n",
       "  <thead>\n",
       "    <tr style=\"text-align: right;\">\n",
       "      <th></th>\n",
       "      <th>id</th>\n",
       "      <th>mb_used</th>\n",
       "      <th>session_date</th>\n",
       "      <th>user_id</th>\n",
       "    </tr>\n",
       "  </thead>\n",
       "  <tbody>\n",
       "    <tr>\n",
       "      <td>0</td>\n",
       "      <td>1000_0</td>\n",
       "      <td>112.95</td>\n",
       "      <td>2018-11-25</td>\n",
       "      <td>1000</td>\n",
       "    </tr>\n",
       "    <tr>\n",
       "      <td>1</td>\n",
       "      <td>1000_1</td>\n",
       "      <td>1052.81</td>\n",
       "      <td>2018-09-07</td>\n",
       "      <td>1000</td>\n",
       "    </tr>\n",
       "    <tr>\n",
       "      <td>2</td>\n",
       "      <td>1000_2</td>\n",
       "      <td>1197.26</td>\n",
       "      <td>2018-06-25</td>\n",
       "      <td>1000</td>\n",
       "    </tr>\n",
       "    <tr>\n",
       "      <td>3</td>\n",
       "      <td>1000_3</td>\n",
       "      <td>550.27</td>\n",
       "      <td>2018-08-22</td>\n",
       "      <td>1000</td>\n",
       "    </tr>\n",
       "    <tr>\n",
       "      <td>4</td>\n",
       "      <td>1000_4</td>\n",
       "      <td>302.56</td>\n",
       "      <td>2018-09-24</td>\n",
       "      <td>1000</td>\n",
       "    </tr>\n",
       "  </tbody>\n",
       "</table>\n",
       "</div>"
      ],
      "text/plain": [
       "       id  mb_used session_date  user_id\n",
       "0  1000_0   112.95   2018-11-25     1000\n",
       "1  1000_1  1052.81   2018-09-07     1000\n",
       "2  1000_2  1197.26   2018-06-25     1000\n",
       "3  1000_3   550.27   2018-08-22     1000\n",
       "4  1000_4   302.56   2018-09-24     1000"
      ]
     },
     "metadata": {},
     "output_type": "display_data"
    },
    {
     "name": "stdout",
     "output_type": "stream",
     "text": [
      "<class 'pandas.core.frame.DataFrame'>\n",
      "Int64Index: 149396 entries, 0 to 149395\n",
      "Data columns (total 4 columns):\n",
      "id              149396 non-null object\n",
      "mb_used         149396 non-null float64\n",
      "session_date    149396 non-null object\n",
      "user_id         149396 non-null int64\n",
      "dtypes: float64(1), int64(1), object(2)\n",
      "memory usage: 5.7+ MB\n"
     ]
    },
    {
     "data": {
      "text/plain": [
       "0.00      19598\n",
       "197.56        9\n",
       "447.30        9\n",
       "335.91        9\n",
       "108.95        8\n",
       "          ...  \n",
       "72.49         1\n",
       "846.22        1\n",
       "429.17        1\n",
       "899.03        1\n",
       "483.87        1\n",
       "Name: mb_used, Length: 70003, dtype: int64"
      ]
     },
     "execution_count": 2,
     "metadata": {},
     "output_type": "execute_result"
    }
   ],
   "source": [
    "df_inter = pd.read_csv('/datasets/internet.csv', index_col=0)\n",
    "display(df_inter.head())\n",
    "df_inter.info()\n",
    "df_inter.mb_used.value_counts()"
   ]
  },
  {
   "cell_type": "markdown",
   "metadata": {},
   "source": [
    "Таблица  интернетом:\n",
    "- дату перевести в тип дата-время\n",
    "- в столбце с мб есть нули\n",
    "- округлить мегабайты до целых значений в большую сторону"
   ]
  },
  {
   "cell_type": "code",
   "execution_count": 3,
   "metadata": {},
   "outputs": [
    {
     "data": {
      "text/plain": [
       "<matplotlib.axes._subplots.AxesSubplot at 0x7f70f9ab9f10>"
      ]
     },
     "execution_count": 3,
     "metadata": {},
     "output_type": "execute_result"
    },
    {
     "data": {
      "image/png": "[encoded data removed]",
      "text/plain": [
       "<Figure size 432x288 with 1 Axes>"
      ]
     },
     "metadata": {
      "needs_background": "light"
     },
     "output_type": "display_data"
    }
   ],
   "source": [
    "df_inter.mb_used.hist(bins=100)"
   ]
  },
  {
   "cell_type": "code",
   "execution_count": 4,
   "metadata": {},
   "outputs": [
    {
     "data": {
      "text/html": [
       "<div>\n",
       "<style scoped>\n",
       "    .dataframe tbody tr th:only-of-type {\n",
       "        vertical-align: middle;\n",
       "    }\n",
       "\n",
       "    .dataframe tbody tr th {\n",
       "        vertical-align: top;\n",
       "    }\n",
       "\n",
       "    .dataframe thead th {\n",
       "        text-align: right;\n",
       "    }\n",
       "</style>\n",
       "<table border=\"1\" class=\"dataframe\">\n",
       "  <thead>\n",
       "    <tr style=\"text-align: right;\">\n",
       "      <th></th>\n",
       "      <th>id</th>\n",
       "      <th>message_date</th>\n",
       "      <th>user_id</th>\n",
       "    </tr>\n",
       "  </thead>\n",
       "  <tbody>\n",
       "    <tr>\n",
       "      <td>0</td>\n",
       "      <td>1000_0</td>\n",
       "      <td>2018-06-27</td>\n",
       "      <td>1000</td>\n",
       "    </tr>\n",
       "    <tr>\n",
       "      <td>1</td>\n",
       "      <td>1000_1</td>\n",
       "      <td>2018-10-08</td>\n",
       "      <td>1000</td>\n",
       "    </tr>\n",
       "    <tr>\n",
       "      <td>2</td>\n",
       "      <td>1000_2</td>\n",
       "      <td>2018-08-04</td>\n",
       "      <td>1000</td>\n",
       "    </tr>\n",
       "    <tr>\n",
       "      <td>3</td>\n",
       "      <td>1000_3</td>\n",
       "      <td>2018-06-16</td>\n",
       "      <td>1000</td>\n",
       "    </tr>\n",
       "    <tr>\n",
       "      <td>4</td>\n",
       "      <td>1000_4</td>\n",
       "      <td>2018-12-05</td>\n",
       "      <td>1000</td>\n",
       "    </tr>\n",
       "  </tbody>\n",
       "</table>\n",
       "</div>"
      ],
      "text/plain": [
       "       id message_date  user_id\n",
       "0  1000_0   2018-06-27     1000\n",
       "1  1000_1   2018-10-08     1000\n",
       "2  1000_2   2018-08-04     1000\n",
       "3  1000_3   2018-06-16     1000\n",
       "4  1000_4   2018-12-05     1000"
      ]
     },
     "metadata": {},
     "output_type": "display_data"
    },
    {
     "name": "stdout",
     "output_type": "stream",
     "text": [
      "<class 'pandas.core.frame.DataFrame'>\n",
      "RangeIndex: 123036 entries, 0 to 123035\n",
      "Data columns (total 3 columns):\n",
      "id              123036 non-null object\n",
      "message_date    123036 non-null object\n",
      "user_id         123036 non-null int64\n",
      "dtypes: int64(1), object(2)\n",
      "memory usage: 2.8+ MB\n"
     ]
    }
   ],
   "source": [
    "df_mess = pd.read_csv('/datasets/messages.csv')\n",
    "display(df_mess.head())\n",
    "df_mess.info()"
   ]
  },
  {
   "cell_type": "markdown",
   "metadata": {},
   "source": [
    "Таблица с сообщениями\n",
    "- дату перевести в тип дата-время\n",
    "- пропусков нет"
   ]
  },
  {
   "cell_type": "code",
   "execution_count": 5,
   "metadata": {},
   "outputs": [
    {
     "data": {
      "text/html": [
       "<div>\n",
       "<style scoped>\n",
       "    .dataframe tbody tr th:only-of-type {\n",
       "        vertical-align: middle;\n",
       "    }\n",
       "\n",
       "    .dataframe tbody tr th {\n",
       "        vertical-align: top;\n",
       "    }\n",
       "\n",
       "    .dataframe thead th {\n",
       "        text-align: right;\n",
       "    }\n",
       "</style>\n",
       "<table border=\"1\" class=\"dataframe\">\n",
       "  <thead>\n",
       "    <tr style=\"text-align: right;\">\n",
       "      <th></th>\n",
       "      <th>messages_included</th>\n",
       "      <th>mb_per_month_included</th>\n",
       "      <th>minutes_included</th>\n",
       "      <th>rub_monthly_fee</th>\n",
       "      <th>rub_per_gb</th>\n",
       "      <th>rub_per_message</th>\n",
       "      <th>rub_per_minute</th>\n",
       "      <th>tariff_name</th>\n",
       "    </tr>\n",
       "  </thead>\n",
       "  <tbody>\n",
       "    <tr>\n",
       "      <td>0</td>\n",
       "      <td>50</td>\n",
       "      <td>15360</td>\n",
       "      <td>500</td>\n",
       "      <td>550</td>\n",
       "      <td>200</td>\n",
       "      <td>3</td>\n",
       "      <td>3</td>\n",
       "      <td>smart</td>\n",
       "    </tr>\n",
       "    <tr>\n",
       "      <td>1</td>\n",
       "      <td>1000</td>\n",
       "      <td>30720</td>\n",
       "      <td>3000</td>\n",
       "      <td>1950</td>\n",
       "      <td>150</td>\n",
       "      <td>1</td>\n",
       "      <td>1</td>\n",
       "      <td>ultra</td>\n",
       "    </tr>\n",
       "  </tbody>\n",
       "</table>\n",
       "</div>"
      ],
      "text/plain": [
       "   messages_included  mb_per_month_included  minutes_included  \\\n",
       "0                 50                  15360               500   \n",
       "1               1000                  30720              3000   \n",
       "\n",
       "   rub_monthly_fee  rub_per_gb  rub_per_message  rub_per_minute tariff_name  \n",
       "0              550         200                3               3       smart  \n",
       "1             1950         150                1               1       ultra  "
      ]
     },
     "metadata": {},
     "output_type": "display_data"
    },
    {
     "name": "stdout",
     "output_type": "stream",
     "text": [
      "<class 'pandas.core.frame.DataFrame'>\n",
      "RangeIndex: 2 entries, 0 to 1\n",
      "Data columns (total 8 columns):\n",
      "messages_included        2 non-null int64\n",
      "mb_per_month_included    2 non-null int64\n",
      "minutes_included         2 non-null int64\n",
      "rub_monthly_fee          2 non-null int64\n",
      "rub_per_gb               2 non-null int64\n",
      "rub_per_message          2 non-null int64\n",
      "rub_per_minute           2 non-null int64\n",
      "tariff_name              2 non-null object\n",
      "dtypes: int64(7), object(1)\n",
      "memory usage: 256.0+ bytes\n"
     ]
    }
   ],
   "source": [
    "df_tar = pd.read_csv('/datasets/tariffs.csv')\n",
    "display(df_tar.head())\n",
    "df_tar.info()"
   ]
  },
  {
   "cell_type": "markdown",
   "metadata": {},
   "source": [
    "Описание тарифов\n",
    "- все нормально"
   ]
  },
  {
   "cell_type": "code",
   "execution_count": 6,
   "metadata": {},
   "outputs": [
    {
     "data": {
      "text/html": [
       "<div>\n",
       "<style scoped>\n",
       "    .dataframe tbody tr th:only-of-type {\n",
       "        vertical-align: middle;\n",
       "    }\n",
       "\n",
       "    .dataframe tbody tr th {\n",
       "        vertical-align: top;\n",
       "    }\n",
       "\n",
       "    .dataframe thead th {\n",
       "        text-align: right;\n",
       "    }\n",
       "</style>\n",
       "<table border=\"1\" class=\"dataframe\">\n",
       "  <thead>\n",
       "    <tr style=\"text-align: right;\">\n",
       "      <th></th>\n",
       "      <th>user_id</th>\n",
       "      <th>age</th>\n",
       "      <th>churn_date</th>\n",
       "      <th>city</th>\n",
       "      <th>first_name</th>\n",
       "      <th>last_name</th>\n",
       "      <th>reg_date</th>\n",
       "      <th>tariff</th>\n",
       "    </tr>\n",
       "  </thead>\n",
       "  <tbody>\n",
       "    <tr>\n",
       "      <td>0</td>\n",
       "      <td>1000</td>\n",
       "      <td>52</td>\n",
       "      <td>NaN</td>\n",
       "      <td>Краснодар</td>\n",
       "      <td>Рафаил</td>\n",
       "      <td>Верещагин</td>\n",
       "      <td>2018-05-25</td>\n",
       "      <td>ultra</td>\n",
       "    </tr>\n",
       "    <tr>\n",
       "      <td>1</td>\n",
       "      <td>1001</td>\n",
       "      <td>41</td>\n",
       "      <td>NaN</td>\n",
       "      <td>Москва</td>\n",
       "      <td>Иван</td>\n",
       "      <td>Ежов</td>\n",
       "      <td>2018-11-01</td>\n",
       "      <td>smart</td>\n",
       "    </tr>\n",
       "    <tr>\n",
       "      <td>2</td>\n",
       "      <td>1002</td>\n",
       "      <td>59</td>\n",
       "      <td>NaN</td>\n",
       "      <td>Стерлитамак</td>\n",
       "      <td>Евгений</td>\n",
       "      <td>Абрамович</td>\n",
       "      <td>2018-06-17</td>\n",
       "      <td>smart</td>\n",
       "    </tr>\n",
       "    <tr>\n",
       "      <td>3</td>\n",
       "      <td>1003</td>\n",
       "      <td>23</td>\n",
       "      <td>NaN</td>\n",
       "      <td>Москва</td>\n",
       "      <td>Белла</td>\n",
       "      <td>Белякова</td>\n",
       "      <td>2018-08-17</td>\n",
       "      <td>ultra</td>\n",
       "    </tr>\n",
       "    <tr>\n",
       "      <td>4</td>\n",
       "      <td>1004</td>\n",
       "      <td>68</td>\n",
       "      <td>NaN</td>\n",
       "      <td>Новокузнецк</td>\n",
       "      <td>Татьяна</td>\n",
       "      <td>Авдеенко</td>\n",
       "      <td>2018-05-14</td>\n",
       "      <td>ultra</td>\n",
       "    </tr>\n",
       "  </tbody>\n",
       "</table>\n",
       "</div>"
      ],
      "text/plain": [
       "   user_id  age churn_date         city first_name  last_name    reg_date  \\\n",
       "0     1000   52        NaN    Краснодар     Рафаил  Верещагин  2018-05-25   \n",
       "1     1001   41        NaN       Москва       Иван       Ежов  2018-11-01   \n",
       "2     1002   59        NaN  Стерлитамак    Евгений  Абрамович  2018-06-17   \n",
       "3     1003   23        NaN       Москва      Белла   Белякова  2018-08-17   \n",
       "4     1004   68        NaN  Новокузнецк    Татьяна   Авдеенко  2018-05-14   \n",
       "\n",
       "  tariff  \n",
       "0  ultra  \n",
       "1  smart  \n",
       "2  smart  \n",
       "3  ultra  \n",
       "4  ultra  "
      ]
     },
     "metadata": {},
     "output_type": "display_data"
    },
    {
     "name": "stdout",
     "output_type": "stream",
     "text": [
      "<class 'pandas.core.frame.DataFrame'>\n",
      "RangeIndex: 500 entries, 0 to 499\n",
      "Data columns (total 8 columns):\n",
      "user_id       500 non-null int64\n",
      "age           500 non-null int64\n",
      "churn_date    38 non-null object\n",
      "city          500 non-null object\n",
      "first_name    500 non-null object\n",
      "last_name     500 non-null object\n",
      "reg_date      500 non-null object\n",
      "tariff        500 non-null object\n",
      "dtypes: int64(2), object(6)\n",
      "memory usage: 31.4+ KB\n"
     ]
    }
   ],
   "source": [
    "df_users = pd.read_csv('/datasets/users.csv')\n",
    "display(df_users.head())\n",
    "df_users.info()"
   ]
  },
  {
   "cell_type": "markdown",
   "metadata": {},
   "source": [
    "Пользователи\n",
    "- даты прекращения и подключения перевести в тип дата-время\n",
    "- столбцы с именем, фамилией, возрастом в  исследовании не участвуют - их не буду рассматривать\n",
    "<div class=\"alert alert-info\">\n",
    "Пропуски есть только в таблице с прекращением использования тарифа. Они есть у пользователей, которые не заканчивали пользоваться тарифом - это оправдано. Я не буду их заполнять или удалять, тем более, этот столбец мне не понадобится."
   ]
  },
  {
   "cell_type": "code",
   "execution_count": 7,
   "metadata": {},
   "outputs": [
    {
     "data": {
      "text/plain": [
       "['Архангельск',\n",
       " 'Астрахань',\n",
       " 'Балашиха',\n",
       " 'Барнаул',\n",
       " 'Белгород',\n",
       " 'Брянск',\n",
       " 'Владивосток',\n",
       " 'Владикавказ',\n",
       " 'Владимир',\n",
       " 'Волгоград',\n",
       " 'Волжский',\n",
       " 'Вологда',\n",
       " 'Воронеж',\n",
       " 'Грозный',\n",
       " 'Екатеринбург',\n",
       " 'Иваново',\n",
       " 'Ижевск',\n",
       " 'Иркутск',\n",
       " 'Казань',\n",
       " 'Калининград',\n",
       " 'Калуга',\n",
       " 'Кемерово',\n",
       " 'Киров',\n",
       " 'Кострома',\n",
       " 'Краснодар',\n",
       " 'Красноярск',\n",
       " 'Курган',\n",
       " 'Курск',\n",
       " 'Липецк',\n",
       " 'Магнитогорск',\n",
       " 'Махачкала',\n",
       " 'Москва',\n",
       " 'Мурманск',\n",
       " 'Набережные Челны',\n",
       " 'Нижневартовск',\n",
       " 'Нижний Новгород',\n",
       " 'Нижний Тагил',\n",
       " 'Новокузнецк',\n",
       " 'Новороссийск',\n",
       " 'Новосибирск',\n",
       " 'Омск',\n",
       " 'Оренбург',\n",
       " 'Орёл',\n",
       " 'Пенза',\n",
       " 'Пермь',\n",
       " 'Петрозаводск',\n",
       " 'Подольск',\n",
       " 'Ростов-на-Дону',\n",
       " 'Рязань',\n",
       " 'Самара',\n",
       " 'Санкт-Петербург',\n",
       " 'Саранск',\n",
       " 'Саратов',\n",
       " 'Севастополь',\n",
       " 'Смоленск',\n",
       " 'Сочи',\n",
       " 'Ставрополь',\n",
       " 'Стерлитамак',\n",
       " 'Сургут',\n",
       " 'Тамбов',\n",
       " 'Тверь',\n",
       " 'Тольятти',\n",
       " 'Томск',\n",
       " 'Тула',\n",
       " 'Тюмень',\n",
       " 'Улан-Удэ',\n",
       " 'Ульяновск',\n",
       " 'Уфа',\n",
       " 'Хабаровск',\n",
       " 'Химки',\n",
       " 'Чебоксары',\n",
       " 'Челябинск',\n",
       " 'Череповец',\n",
       " 'Чита',\n",
       " 'Якутск',\n",
       " 'Ярославль']"
      ]
     },
     "execution_count": 7,
     "metadata": {},
     "output_type": "execute_result"
    }
   ],
   "source": [
    "df_users = pd.read_csv('/datasets/users.csv')\n",
    "sorted(df_users.city.unique())"
   ]
  },
  {
   "cell_type": "markdown",
   "metadata": {},
   "source": [
    "<div class=\"alert alert-info\">\n",
    "Дубликатов в столбце с названиями городов нет. Столбцы с именем, фамилией и возрастом я не рассматривала, так как они в дальнейшем не понадобятся"
   ]
  },
  {
   "cell_type": "markdown",
   "metadata": {},
   "source": [
    "<b>Шаг 2. Подготовьте данные</b>\n",
    "Приведите данные к нужным типам;\n",
    "Найдите и исправьте ошибки в данных.\n",
    "Поясните, какие ошибки вы нашли и как их исправили. Обратите внимание, что длительность многих звонков — 0.0 минут. Это могут быть пропущенные звонки. Обрабатывать ли эти нулевые значения, решать вам — оцените, как их отсутствие повлияет на результаты анализа.\n",
    "\n"
   ]
  },
  {
   "cell_type": "code",
   "execution_count": 8,
   "metadata": {},
   "outputs": [
    {
     "name": "stdout",
     "output_type": "stream",
     "text": [
      "<class 'pandas.core.frame.DataFrame'>\n",
      "RangeIndex: 202607 entries, 0 to 202606\n",
      "Data columns (total 4 columns):\n",
      "id           202607 non-null object\n",
      "call_date    202607 non-null datetime64[ns]\n",
      "duration     202607 non-null int64\n",
      "user_id      202607 non-null int64\n",
      "dtypes: datetime64[ns](1), int64(2), object(1)\n",
      "memory usage: 6.2+ MB\n"
     ]
    }
   ],
   "source": [
    "import math\n",
    "import numpy as np\n",
    "\n",
    "df_calls['call_date'] = pd.to_datetime(df_calls['call_date'], format='%Y-%m-%d')\n",
    "df_calls['duration'] = np.ceil(df_calls['duration']).astype('int')\n",
    "df_calls.info()"
   ]
  },
  {
   "cell_type": "code",
   "execution_count": 9,
   "metadata": {},
   "outputs": [
    {
     "name": "stdout",
     "output_type": "stream",
     "text": [
      "<class 'pandas.core.frame.DataFrame'>\n",
      "Int64Index: 149396 entries, 0 to 149395\n",
      "Data columns (total 4 columns):\n",
      "id              149396 non-null object\n",
      "mb_used         149396 non-null int64\n",
      "session_date    149396 non-null datetime64[ns]\n",
      "user_id         149396 non-null int64\n",
      "dtypes: datetime64[ns](1), int64(2), object(1)\n",
      "memory usage: 5.7+ MB\n"
     ]
    }
   ],
   "source": [
    "df_inter['session_date'] = pd.to_datetime(df_inter['session_date'], format='%Y-%m-%d')\n",
    "df_inter['mb_used'] = np.ceil(df_inter['mb_used']).astype('int')\n",
    "df_inter.info()"
   ]
  },
  {
   "cell_type": "code",
   "execution_count": 10,
   "metadata": {},
   "outputs": [
    {
     "name": "stdout",
     "output_type": "stream",
     "text": [
      "<class 'pandas.core.frame.DataFrame'>\n",
      "RangeIndex: 500 entries, 0 to 499\n",
      "Data columns (total 8 columns):\n",
      "user_id       500 non-null int64\n",
      "age           500 non-null int64\n",
      "churn_date    38 non-null datetime64[ns]\n",
      "city          500 non-null object\n",
      "first_name    500 non-null object\n",
      "last_name     500 non-null object\n",
      "reg_date      500 non-null datetime64[ns]\n",
      "tariff        500 non-null object\n",
      "dtypes: datetime64[ns](2), int64(2), object(4)\n",
      "memory usage: 31.4+ KB\n"
     ]
    }
   ],
   "source": [
    "df_users['churn_date'] = pd.to_datetime(df_users['churn_date'], format='%Y-%m-%d')\n",
    "df_users['reg_date'] = pd.to_datetime(df_users['reg_date'], format='%Y-%m-%d')\n",
    "df_users.info()"
   ]
  },
  {
   "cell_type": "markdown",
   "metadata": {},
   "source": [
    "В указанных столбцах я заменила тип на дату-время и округлила в большему значения длительности звонков и мегабайтов"
   ]
  },
  {
   "cell_type": "code",
   "execution_count": 11,
   "metadata": {},
   "outputs": [
    {
     "data": {
      "text/plain": [
       "333     231\n",
       "382     228\n",
       "377     224\n",
       "253     222\n",
       "334     222\n",
       "       ... \n",
       "1324      1\n",
       "1230      1\n",
       "1624      1\n",
       "1222      1\n",
       "1279      1\n",
       "Name: mb_used, Length: 1423, dtype: int64"
      ]
     },
     "execution_count": 11,
     "metadata": {},
     "output_type": "execute_result"
    }
   ],
   "source": [
    "#df_inter mb_used\n",
    "#df_inter = df_inter.drop(df_inter[df_inter['mb_used'] == 0].index)\n",
    "df_inter = df_inter.drop(df_inter.query('mb_used == 0').index)\n",
    "df_inter.mb_used.value_counts()"
   ]
  },
  {
   "cell_type": "markdown",
   "metadata": {},
   "source": [
    "Строки с нулями в столбце с количеством мегабайтов я удаляю, потому что они в расчетах будут давать ноль и не повлияют на результат.\n",
    "Строки с нулевым временем звонка я оставлю, так как они влияют на количество звонков"
   ]
  },
  {
   "cell_type": "markdown",
   "metadata": {},
   "source": [
    "<b>Посчитайте для каждого пользователя:</b>\n",
    "- количество сделанных звонков и израсходованных минут разговора по месяцам;\n",
    "- количество отправленных сообщений по месяцам;\n",
    "- объем израсходованного интернет-трафика по месяцам;\n",
    "- помесячную выручку с каждого пользователя (вычтите бесплатный лимит из суммарного количества звонков, сообщений и интернет-трафика; остаток умножьте на значение из тарифного плана; прибавьте абонентскую плату, соответствующую тарифному плану)."
   ]
  },
  {
   "cell_type": "code",
   "execution_count": 12,
   "metadata": {},
   "outputs": [
    {
     "data": {
      "text/html": [
       "<div>\n",
       "<style scoped>\n",
       "    .dataframe tbody tr th:only-of-type {\n",
       "        vertical-align: middle;\n",
       "    }\n",
       "\n",
       "    .dataframe tbody tr th {\n",
       "        vertical-align: top;\n",
       "    }\n",
       "\n",
       "    .dataframe thead th {\n",
       "        text-align: right;\n",
       "    }\n",
       "</style>\n",
       "<table border=\"1\" class=\"dataframe\">\n",
       "  <thead>\n",
       "    <tr style=\"text-align: right;\">\n",
       "      <th></th>\n",
       "      <th>user_id</th>\n",
       "      <th>month</th>\n",
       "      <th>calls_min</th>\n",
       "      <th>calls_count</th>\n",
       "      <th>messages</th>\n",
       "      <th>mb_used</th>\n",
       "      <th>tariff</th>\n",
       "      <th>city</th>\n",
       "    </tr>\n",
       "  </thead>\n",
       "  <tbody>\n",
       "    <tr>\n",
       "      <td>0</td>\n",
       "      <td>1000</td>\n",
       "      <td>5.0</td>\n",
       "      <td>159.0</td>\n",
       "      <td>22.0</td>\n",
       "      <td>22.0</td>\n",
       "      <td>2256.0</td>\n",
       "      <td>ultra</td>\n",
       "      <td>Краснодар</td>\n",
       "    </tr>\n",
       "    <tr>\n",
       "      <td>1</td>\n",
       "      <td>1000</td>\n",
       "      <td>6.0</td>\n",
       "      <td>172.0</td>\n",
       "      <td>43.0</td>\n",
       "      <td>60.0</td>\n",
       "      <td>23257.0</td>\n",
       "      <td>ultra</td>\n",
       "      <td>Краснодар</td>\n",
       "    </tr>\n",
       "    <tr>\n",
       "      <td>2</td>\n",
       "      <td>1000</td>\n",
       "      <td>7.0</td>\n",
       "      <td>340.0</td>\n",
       "      <td>47.0</td>\n",
       "      <td>75.0</td>\n",
       "      <td>14016.0</td>\n",
       "      <td>ultra</td>\n",
       "      <td>Краснодар</td>\n",
       "    </tr>\n",
       "    <tr>\n",
       "      <td>3</td>\n",
       "      <td>1000</td>\n",
       "      <td>8.0</td>\n",
       "      <td>408.0</td>\n",
       "      <td>52.0</td>\n",
       "      <td>81.0</td>\n",
       "      <td>14070.0</td>\n",
       "      <td>ultra</td>\n",
       "      <td>Краснодар</td>\n",
       "    </tr>\n",
       "    <tr>\n",
       "      <td>4</td>\n",
       "      <td>1000</td>\n",
       "      <td>9.0</td>\n",
       "      <td>466.0</td>\n",
       "      <td>58.0</td>\n",
       "      <td>57.0</td>\n",
       "      <td>14581.0</td>\n",
       "      <td>ultra</td>\n",
       "      <td>Краснодар</td>\n",
       "    </tr>\n",
       "  </tbody>\n",
       "</table>\n",
       "</div>"
      ],
      "text/plain": [
       "   user_id  month  calls_min  calls_count  messages  mb_used tariff       city\n",
       "0     1000    5.0      159.0         22.0      22.0   2256.0  ultra  Краснодар\n",
       "1     1000    6.0      172.0         43.0      60.0  23257.0  ultra  Краснодар\n",
       "2     1000    7.0      340.0         47.0      75.0  14016.0  ultra  Краснодар\n",
       "3     1000    8.0      408.0         52.0      81.0  14070.0  ultra  Краснодар\n",
       "4     1000    9.0      466.0         58.0      57.0  14581.0  ultra  Краснодар"
      ]
     },
     "metadata": {},
     "output_type": "display_data"
    },
    {
     "name": "stdout",
     "output_type": "stream",
     "text": [
      "<class 'pandas.core.frame.DataFrame'>\n",
      "Int64Index: 3216 entries, 0 to 3215\n",
      "Data columns (total 8 columns):\n",
      "user_id        3216 non-null int64\n",
      "month          3216 non-null float64\n",
      "calls_min      3216 non-null float64\n",
      "calls_count    3216 non-null float64\n",
      "messages       3216 non-null float64\n",
      "mb_used        3216 non-null float64\n",
      "tariff         3216 non-null object\n",
      "city           3216 non-null object\n",
      "dtypes: float64(5), int64(1), object(2)\n",
      "memory usage: 226.1+ KB\n"
     ]
    }
   ],
   "source": [
    "df_calls['month'] = pd.DatetimeIndex(df_calls['call_date']).month\n",
    "df_calls_id = df_calls.pivot_table(index=['user_id', 'month'], values='duration',\n",
    "                                   aggfunc=['sum', 'count'])\n",
    "\n",
    "df_mess['month'] = pd.DatetimeIndex(df_mess['message_date']).month\n",
    "df_mess_id = df_mess.pivot_table(index=['user_id', 'month'], values='id',\n",
    "                                   aggfunc='count')\n",
    "\n",
    "df_inter['month'] = pd.DatetimeIndex(df_inter['session_date']).month\n",
    "df_inter_id = df_inter.pivot_table(index=['user_id', 'month'], values='mb_used',\n",
    "                                   aggfunc='sum')\n",
    "df_pivot = df_calls_id.join([df_mess_id, df_inter_id], how='outer').reset_index()\n",
    "df_pivot.columns = ['user_id', 'month', 'calls_min', 'calls_count', 'messages', 'mb_used']\n",
    "\n",
    "df_users = df_users[['user_id', 'tariff', 'city']]\n",
    "df_pivot = df_pivot.merge(df_users, on='user_id', how='outer')\n",
    "\n",
    "df_pivot = df_pivot.fillna(value=0)\n",
    "display(df_pivot.head())\n",
    "df_pivot.info()"
   ]
  },
  {
   "cell_type": "markdown",
   "metadata": {},
   "source": [
    "Для каждой из таблиц (по звонкам, сообщениям и интернету) я добавила столбец с месяцем и сделала сводные таблицы для каждого пользователя по месяцам. Затем объединила их в одну, добавив название тарифа и города проживания для пользователей"
   ]
  },
  {
   "cell_type": "code",
   "execution_count": 13,
   "metadata": {},
   "outputs": [
    {
     "data": {
      "text/html": [
       "<div>\n",
       "<style scoped>\n",
       "    .dataframe tbody tr th:only-of-type {\n",
       "        vertical-align: middle;\n",
       "    }\n",
       "\n",
       "    .dataframe tbody tr th {\n",
       "        vertical-align: top;\n",
       "    }\n",
       "\n",
       "    .dataframe thead th {\n",
       "        text-align: right;\n",
       "    }\n",
       "</style>\n",
       "<table border=\"1\" class=\"dataframe\">\n",
       "  <thead>\n",
       "    <tr style=\"text-align: right;\">\n",
       "      <th></th>\n",
       "      <th>user_id</th>\n",
       "      <th>month</th>\n",
       "      <th>calls_min</th>\n",
       "      <th>calls_count</th>\n",
       "      <th>messages</th>\n",
       "      <th>mb_used</th>\n",
       "      <th>tariff</th>\n",
       "      <th>city</th>\n",
       "      <th>proceeds</th>\n",
       "    </tr>\n",
       "  </thead>\n",
       "  <tbody>\n",
       "    <tr>\n",
       "      <td>0</td>\n",
       "      <td>1000</td>\n",
       "      <td>5.0</td>\n",
       "      <td>159.0</td>\n",
       "      <td>22.0</td>\n",
       "      <td>22.0</td>\n",
       "      <td>2256.0</td>\n",
       "      <td>ultra</td>\n",
       "      <td>Краснодар</td>\n",
       "      <td>1950.0</td>\n",
       "    </tr>\n",
       "    <tr>\n",
       "      <td>1</td>\n",
       "      <td>1000</td>\n",
       "      <td>6.0</td>\n",
       "      <td>172.0</td>\n",
       "      <td>43.0</td>\n",
       "      <td>60.0</td>\n",
       "      <td>23257.0</td>\n",
       "      <td>ultra</td>\n",
       "      <td>Краснодар</td>\n",
       "      <td>1950.0</td>\n",
       "    </tr>\n",
       "    <tr>\n",
       "      <td>2</td>\n",
       "      <td>1000</td>\n",
       "      <td>7.0</td>\n",
       "      <td>340.0</td>\n",
       "      <td>47.0</td>\n",
       "      <td>75.0</td>\n",
       "      <td>14016.0</td>\n",
       "      <td>ultra</td>\n",
       "      <td>Краснодар</td>\n",
       "      <td>1950.0</td>\n",
       "    </tr>\n",
       "    <tr>\n",
       "      <td>3</td>\n",
       "      <td>1000</td>\n",
       "      <td>8.0</td>\n",
       "      <td>408.0</td>\n",
       "      <td>52.0</td>\n",
       "      <td>81.0</td>\n",
       "      <td>14070.0</td>\n",
       "      <td>ultra</td>\n",
       "      <td>Краснодар</td>\n",
       "      <td>1950.0</td>\n",
       "    </tr>\n",
       "    <tr>\n",
       "      <td>4</td>\n",
       "      <td>1000</td>\n",
       "      <td>9.0</td>\n",
       "      <td>466.0</td>\n",
       "      <td>58.0</td>\n",
       "      <td>57.0</td>\n",
       "      <td>14581.0</td>\n",
       "      <td>ultra</td>\n",
       "      <td>Краснодар</td>\n",
       "      <td>1950.0</td>\n",
       "    </tr>\n",
       "  </tbody>\n",
       "</table>\n",
       "</div>"
      ],
      "text/plain": [
       "   user_id  month  calls_min  calls_count  messages  mb_used tariff  \\\n",
       "0     1000    5.0      159.0         22.0      22.0   2256.0  ultra   \n",
       "1     1000    6.0      172.0         43.0      60.0  23257.0  ultra   \n",
       "2     1000    7.0      340.0         47.0      75.0  14016.0  ultra   \n",
       "3     1000    8.0      408.0         52.0      81.0  14070.0  ultra   \n",
       "4     1000    9.0      466.0         58.0      57.0  14581.0  ultra   \n",
       "\n",
       "        city  proceeds  \n",
       "0  Краснодар    1950.0  \n",
       "1  Краснодар    1950.0  \n",
       "2  Краснодар    1950.0  \n",
       "3  Краснодар    1950.0  \n",
       "4  Краснодар    1950.0  "
      ]
     },
     "metadata": {},
     "output_type": "display_data"
    }
   ],
   "source": [
    "def proceed_func(row):\n",
    "    result = 0\n",
    "    \n",
    "    if row['tariff'] == 'smart':\n",
    "        minutes_included = df_tar.loc[0, 'minutes_included']\n",
    "        rub_per_minute = df_tar.loc[0, 'rub_per_minute']\n",
    "        mb_per_month_included = df_tar.loc[0, 'mb_per_month_included']\n",
    "        rub_per_gb = df_tar.loc[0, 'rub_per_gb']\n",
    "        messages_included = df_tar.loc[0, 'messages_included']\n",
    "        rub_per_message = df_tar.loc[0, 'rub_per_message']\n",
    "        rub_monthly_fee = df_tar.loc[0, 'rub_monthly_fee']\n",
    "        \n",
    "    elif row['tariff'] == 'ultra':\n",
    "        minutes_included = df_tar.loc[1, 'minutes_included']\n",
    "        rub_per_minute = df_tar.loc[1, 'rub_per_minute']\n",
    "        mb_per_month_included = df_tar.loc[1, 'mb_per_month_included']\n",
    "        rub_per_gb = df_tar.loc[1, 'rub_per_gb']\n",
    "        messages_included = df_tar.loc[1, 'messages_included']\n",
    "        rub_per_message = df_tar.loc[1, 'rub_per_message']\n",
    "        rub_monthly_fee = df_tar.loc[1, 'rub_monthly_fee']\n",
    "    \n",
    "    if row['calls_min'] > minutes_included:\n",
    "        result += (row['calls_min'] - minutes_included) * rub_per_minute\n",
    "    \n",
    "    if row['messages'] > messages_included:\n",
    "        result += (row['messages'] - messages_included) * rub_per_message\n",
    "        \n",
    "    if row['mb_used'] > mb_per_month_included:\n",
    "        result += math.ceil((row['mb_used'] - mb_per_month_included) / 1024) * rub_per_gb\n",
    "        \n",
    "    result += rub_monthly_fee\n",
    "    return result\n",
    "\n",
    "df_pivot['proceeds'] = df_pivot.apply(proceed_func, axis=1)\n",
    "display(df_pivot.head())"
   ]
  },
  {
   "cell_type": "markdown",
   "metadata": {},
   "source": [
    "Я нашла помесячную выручку для каждого пользователя, создав функцию и применив ее к сводной таблице с пользователями и их данными по месяцам"
   ]
  },
  {
   "cell_type": "markdown",
   "metadata": {},
   "source": [
    "<b>Шаг 3. Проанализируйте данные</b>\n",
    "Опишите поведение клиентов оператора, исходя из выборки. Сколько минут разговора, сколько сообщений и какой объём интернет-трафика требуется пользователям каждого тарифа в месяц? Посчитайте среднее количество, дисперсию и стандартное отклонение. Постройте гистограммы. Опишите распределения."
   ]
  },
  {
   "cell_type": "code",
   "execution_count": 14,
   "metadata": {},
   "outputs": [
    {
     "name": "stdout",
     "output_type": "stream",
     "text": [
      "Минуты разговора\n"
     ]
    },
    {
     "data": {
      "text/html": [
       "<div>\n",
       "<style scoped>\n",
       "    .dataframe tbody tr th:only-of-type {\n",
       "        vertical-align: middle;\n",
       "    }\n",
       "\n",
       "    .dataframe tbody tr th {\n",
       "        vertical-align: top;\n",
       "    }\n",
       "\n",
       "    .dataframe thead th {\n",
       "        text-align: right;\n",
       "    }\n",
       "</style>\n",
       "<table border=\"1\" class=\"dataframe\">\n",
       "  <thead>\n",
       "    <tr style=\"text-align: right;\">\n",
       "      <th></th>\n",
       "      <th>тариф</th>\n",
       "      <th>среднее</th>\n",
       "      <th>дисперсия</th>\n",
       "      <th>стандарное отклонение</th>\n",
       "    </tr>\n",
       "  </thead>\n",
       "  <tbody>\n",
       "    <tr>\n",
       "      <td>0</td>\n",
       "      <td>smart</td>\n",
       "      <td>417</td>\n",
       "      <td>36281</td>\n",
       "      <td>190</td>\n",
       "    </tr>\n",
       "    <tr>\n",
       "      <td>1</td>\n",
       "      <td>ultra</td>\n",
       "      <td>526</td>\n",
       "      <td>101052</td>\n",
       "      <td>317</td>\n",
       "    </tr>\n",
       "  </tbody>\n",
       "</table>\n",
       "</div>"
      ],
      "text/plain": [
       "   тариф  среднее  дисперсия  стандарное отклонение\n",
       "0  smart      417      36281                    190\n",
       "1  ultra      526     101052                    317"
      ]
     },
     "execution_count": 14,
     "metadata": {},
     "output_type": "execute_result"
    },
    {
     "data": {
      "image/png": "[encoded data removed]",
      "text/plain": [
       "<Figure size 432x288 with 1 Axes>"
      ]
     },
     "metadata": {
      "needs_background": "light"
     },
     "output_type": "display_data"
    }
   ],
   "source": [
    "#calls_min\n",
    "import matplotlib.pyplot as plt\n",
    "\n",
    "df_pivot.query('tariff == \"smart\"')['calls_min'].plot(kind='hist', alpha=0.5)\n",
    "df_pivot.query('tariff == \"ultra\"')['calls_min'].plot(kind='hist', title='Минуты разговора в месяц', alpha=0.5)\n",
    "plt.legend(['smart', 'ultra'])\n",
    "\n",
    "print('Минуты разговора')\n",
    "d1 = np.var(df_pivot.query('tariff == \"smart\"')['calls_min'], ddof=1)\n",
    "d2 = np.var(df_pivot.query('tariff == \"ultra\"')['calls_min'], ddof=1)\n",
    "s1 = np.sqrt(d1)\n",
    "s2 = np.sqrt(d2)\n",
    "data = [{\"тариф\":'smart', \"среднее\":int(df_pivot.query('tariff == \"smart\"')['calls_min'].mean()),\n",
    "         \"дисперсия\":int(d1), \"стандарное отклонение\":int(s1)},\n",
    "        {\"тариф\":'ultra', \"среднее\":int(df_pivot.query('tariff == \"ultra\"')['calls_min'].mean()),\n",
    "         \"дисперсия\":int(d2), \"стандарное отклонение\":int(s2)}]\n",
    "calls = pd.DataFrame(data)\n",
    "calls"
   ]
  },
  {
   "cell_type": "markdown",
   "metadata": {},
   "source": [
    "На тарифе Ультра пользователи в среднем больше времени разговаривают по телефону, чем на тарифе Смарт. Гистограмма для Ультра без выраженного пика, возможно, из-за небольшого размера выборки"
   ]
  },
  {
   "cell_type": "code",
   "execution_count": 15,
   "metadata": {},
   "outputs": [
    {
     "name": "stdout",
     "output_type": "stream",
     "text": [
      "Количество сообщений\n"
     ]
    },
    {
     "data": {
      "text/html": [
       "<div>\n",
       "<style scoped>\n",
       "    .dataframe tbody tr th:only-of-type {\n",
       "        vertical-align: middle;\n",
       "    }\n",
       "\n",
       "    .dataframe tbody tr th {\n",
       "        vertical-align: top;\n",
       "    }\n",
       "\n",
       "    .dataframe thead th {\n",
       "        text-align: right;\n",
       "    }\n",
       "</style>\n",
       "<table border=\"1\" class=\"dataframe\">\n",
       "  <thead>\n",
       "    <tr style=\"text-align: right;\">\n",
       "      <th></th>\n",
       "      <th>тариф</th>\n",
       "      <th>среднее</th>\n",
       "      <th>дисперсия</th>\n",
       "      <th>стандарное отклонение</th>\n",
       "    </tr>\n",
       "  </thead>\n",
       "  <tbody>\n",
       "    <tr>\n",
       "      <td>0</td>\n",
       "      <td>smart</td>\n",
       "      <td>33</td>\n",
       "      <td>796</td>\n",
       "      <td>28</td>\n",
       "    </tr>\n",
       "    <tr>\n",
       "      <td>1</td>\n",
       "      <td>ultra</td>\n",
       "      <td>49</td>\n",
       "      <td>2285</td>\n",
       "      <td>47</td>\n",
       "    </tr>\n",
       "  </tbody>\n",
       "</table>\n",
       "</div>"
      ],
      "text/plain": [
       "   тариф  среднее  дисперсия  стандарное отклонение\n",
       "0  smart       33        796                     28\n",
       "1  ultra       49       2285                     47"
      ]
     },
     "execution_count": 15,
     "metadata": {},
     "output_type": "execute_result"
    },
    {
     "data": {
      "image/png": "[encoded data removed]",
      "text/plain": [
       "<Figure size 432x288 with 1 Axes>"
      ]
     },
     "metadata": {
      "needs_background": "light"
     },
     "output_type": "display_data"
    }
   ],
   "source": [
    "#messages\n",
    "df_pivot.query('tariff == \"smart\"')['messages'].plot(kind='hist', alpha=0.5)\n",
    "df_pivot.query('tariff == \"ultra\"')['messages'].plot(kind='hist', title='Количество сообщений в месяц', alpha=0.5)\n",
    "plt.legend(['smart', 'ultra'])\n",
    "\n",
    "print('Количество сообщений')\n",
    "d1 = np.var(df_pivot.query('tariff == \"smart\"')['messages'], ddof=1)\n",
    "d2 = np.var(df_pivot.query('tariff == \"ultra\"')['messages'], ddof=1)\n",
    "s1 = np.sqrt(d1)\n",
    "s2 = np.sqrt(d2)\n",
    "data = [{\"тариф\":'smart', \"среднее\":int(df_pivot.query('tariff == \"smart\"')['messages'].mean()),\n",
    "         \"дисперсия\":int(d1), \"стандарное отклонение\":int(s1)},\n",
    "        {\"тариф\":'ultra', \"среднее\":int(df_pivot.query('tariff == \"ultra\"')['messages'].mean()),\n",
    "         \"дисперсия\":int(d2), \"стандарное отклонение\":int(s2)}]\n",
    "messages = pd.DataFrame(data)\n",
    "messages"
   ]
  },
  {
   "cell_type": "markdown",
   "metadata": {},
   "source": [
    "На тарифе Ультра пользователи в среднем используют больше смс-сообщений, но и стандартное отклонение больше, чем на тарифе Смарт"
   ]
  },
  {
   "cell_type": "code",
   "execution_count": 16,
   "metadata": {},
   "outputs": [
    {
     "name": "stdout",
     "output_type": "stream",
     "text": [
      "Интернет-трафик(мб)\n"
     ]
    },
    {
     "data": {
      "text/html": [
       "<div>\n",
       "<style scoped>\n",
       "    .dataframe tbody tr th:only-of-type {\n",
       "        vertical-align: middle;\n",
       "    }\n",
       "\n",
       "    .dataframe tbody tr th {\n",
       "        vertical-align: top;\n",
       "    }\n",
       "\n",
       "    .dataframe thead th {\n",
       "        text-align: right;\n",
       "    }\n",
       "</style>\n",
       "<table border=\"1\" class=\"dataframe\">\n",
       "  <thead>\n",
       "    <tr style=\"text-align: right;\">\n",
       "      <th></th>\n",
       "      <th>тариф</th>\n",
       "      <th>среднее</th>\n",
       "      <th>дисперсия</th>\n",
       "      <th>стандарное отклонение</th>\n",
       "    </tr>\n",
       "  </thead>\n",
       "  <tbody>\n",
       "    <tr>\n",
       "      <td>0</td>\n",
       "      <td>smart</td>\n",
       "      <td>16221</td>\n",
       "      <td>34648523</td>\n",
       "      <td>5886</td>\n",
       "    </tr>\n",
       "    <tr>\n",
       "      <td>1</td>\n",
       "      <td>ultra</td>\n",
       "      <td>19467</td>\n",
       "      <td>102217264</td>\n",
       "      <td>10110</td>\n",
       "    </tr>\n",
       "  </tbody>\n",
       "</table>\n",
       "</div>"
      ],
      "text/plain": [
       "   тариф  среднее  дисперсия  стандарное отклонение\n",
       "0  smart    16221   34648523                   5886\n",
       "1  ultra    19467  102217264                  10110"
      ]
     },
     "execution_count": 16,
     "metadata": {},
     "output_type": "execute_result"
    },
    {
     "data": {
      "image/png": "[encoded data removed]",
      "text/plain": [
       "<Figure size 432x288 with 1 Axes>"
      ]
     },
     "metadata": {
      "needs_background": "light"
     },
     "output_type": "display_data"
    }
   ],
   "source": [
    "#mb_used\n",
    "df_pivot.query('tariff == \"smart\"')['mb_used'].plot(kind='hist', alpha=0.5)\n",
    "df_pivot.query('tariff == \"ultra\"')['mb_used'].plot(kind='hist', title='Интернет-трафик (мб/месяц)', alpha=0.5)\n",
    "plt.legend(['smart', 'ultra'])\n",
    "\n",
    "print('Интернет-трафик(мб)')\n",
    "d1 = np.var(df_pivot.query('tariff == \"smart\"')['mb_used'], ddof=1)\n",
    "d2 = np.var(df_pivot.query('tariff == \"ultra\"')['mb_used'], ddof=1)\n",
    "s1 = np.sqrt(d1)\n",
    "s2 = np.sqrt(d2)\n",
    "data = [{\"тариф\":'smart', \"среднее\":int(df_pivot.query('tariff == \"smart\"')['mb_used'].mean()),\n",
    "         \"дисперсия\":int(d1), \"стандарное отклонение\":int(s1)},\n",
    "        {\"тариф\":'ultra', \"среднее\":int(df_pivot.query('tariff == \"ultra\"')['mb_used'].mean()),\n",
    "         \"дисперсия\":int(d2), \"стандарное отклонение\":int(s2)}]\n",
    "internet = pd.DataFrame(data)\n",
    "internet"
   ]
  },
  {
   "cell_type": "markdown",
   "metadata": {},
   "source": [
    "На тарифе Ультра пользователи в среднем используют больше интернет-трафика, но и стандартное отклонение больше, чем на тарифе Смарт."
   ]
  },
  {
   "cell_type": "markdown",
   "metadata": {},
   "source": [
    "<div class=\"alert alert-info\">\n",
    "Так же я заметила, что ни звонки, ни смс для тарифа Ультра даже не доходят до лимита, установленного по тарифу (звонки максимально за месяц около 1600 при лимите 3000, а смс чуть больше 200 при лимите 1000)"
   ]
  },
  {
   "cell_type": "code",
   "execution_count": 17,
   "metadata": {},
   "outputs": [
    {
     "name": "stdout",
     "output_type": "stream",
     "text": [
      "Отношение количества пользователей Смарт к Ультра: 2.261663286004057\n",
      "Отношение всей выручки от Смарт к Ультра: 1.4135022894781948\n",
      "Выручка\n"
     ]
    },
    {
     "data": {
      "text/html": [
       "<div>\n",
       "<style scoped>\n",
       "    .dataframe tbody tr th:only-of-type {\n",
       "        vertical-align: middle;\n",
       "    }\n",
       "\n",
       "    .dataframe tbody tr th {\n",
       "        vertical-align: top;\n",
       "    }\n",
       "\n",
       "    .dataframe thead th {\n",
       "        text-align: right;\n",
       "    }\n",
       "</style>\n",
       "<table border=\"1\" class=\"dataframe\">\n",
       "  <thead>\n",
       "    <tr style=\"text-align: right;\">\n",
       "      <th></th>\n",
       "      <th>тариф</th>\n",
       "      <th>среднее</th>\n",
       "      <th>дисперсия</th>\n",
       "      <th>стандарное отклонение</th>\n",
       "    </tr>\n",
       "  </thead>\n",
       "  <tbody>\n",
       "    <tr>\n",
       "      <td>0</td>\n",
       "      <td>smart</td>\n",
       "      <td>1294</td>\n",
       "      <td>673877</td>\n",
       "      <td>820</td>\n",
       "    </tr>\n",
       "    <tr>\n",
       "      <td>1</td>\n",
       "      <td>ultra</td>\n",
       "      <td>2070</td>\n",
       "      <td>143360</td>\n",
       "      <td>378</td>\n",
       "    </tr>\n",
       "  </tbody>\n",
       "</table>\n",
       "</div>"
      ],
      "text/plain": [
       "   тариф  среднее  дисперсия  стандарное отклонение\n",
       "0  smart     1294     673877                    820\n",
       "1  ultra     2070     143360                    378"
      ]
     },
     "execution_count": 17,
     "metadata": {},
     "output_type": "execute_result"
    },
    {
     "data": {
      "image/png": "[encoded data removed]",
      "text/plain": [
       "<Figure size 432x288 with 1 Axes>"
      ]
     },
     "metadata": {
      "needs_background": "light"
     },
     "output_type": "display_data"
    }
   ],
   "source": [
    "#proceeds\n",
    "df_pivot.query('tariff == \"smart\"')['proceeds'].plot(kind='hist', alpha=0.5)\n",
    "df_pivot.query('tariff == \"ultra\"')['proceeds'].plot(kind='hist', title='Выручка', alpha=0.5)\n",
    "plt.legend(['smart', 'ultra'])\n",
    "\n",
    "print('Отношение количества пользователей Смарт к Ультра:', \n",
    "      df_pivot.query('tariff == \"smart\"')['user_id'].count() / df_pivot.query('tariff == \"ultra\"')['user_id'].count())\n",
    "print('Отношение всей выручки от Смарт к Ультра:', \n",
    "      sum(df_pivot.query('tariff == \"smart\"')['proceeds']) / sum(df_pivot.query('tariff == \"ultra\"')['proceeds']))\n",
    "\n",
    "print('Выручка')\n",
    "d1 = np.var(df_pivot.query('tariff == \"smart\"')['proceeds'], ddof=1)\n",
    "d2 = np.var(df_pivot.query('tariff == \"ultra\"')['proceeds'], ddof=1)\n",
    "s1 = np.sqrt(d1)\n",
    "s2 = np.sqrt(d2)\n",
    "data = [{\"тариф\":'smart', \"среднее\":int(df_pivot.query('tariff == \"smart\"')['proceeds'].mean()),\n",
    "         \"дисперсия\":int(d1), \"стандарное отклонение\":int(s1)},\n",
    "        {\"тариф\":'ultra', \"среднее\":int(df_pivot.query('tariff == \"ultra\"')['proceeds'].mean()),\n",
    "         \"дисперсия\":int(d2), \"стандарное отклонение\":int(s2)}]\n",
    "proceeds = pd.DataFrame(data)\n",
    "proceeds"
   ]
  },
  {
   "cell_type": "markdown",
   "metadata": {},
   "source": [
    "<div class=\"alert alert-info\">\n",
    "\n",
    "- Количество пользователей тарифа Смарт в 2.3 раза больше, чем пользователей тарифа Ультра. Поэтому, я думаю, во всех приведенных расчетах (кроме выручки) дисперсия и стандартное отклонение для тарифа Ультра больше.\n",
    "- Вся выручка по тарифу Смарт за 2018 год в 1.4 раза больше, чем по тарифу Ультра\n",
    "- В то же время, средняя выручка по Ультра больше, чем по Смарт (потому что пользователей на Ультра меньше). А вот дисперсия и стандартное отклонение для Смарт больше, потому что разброс значений выручки гораздо шире - от цены самого тарифа в 550 рублей до примерно 6000"
   ]
  },
  {
   "cell_type": "code",
   "execution_count": 18,
   "metadata": {},
   "outputs": [
    {
     "data": {
      "text/html": [
       "<div>\n",
       "<style scoped>\n",
       "    .dataframe tbody tr th:only-of-type {\n",
       "        vertical-align: middle;\n",
       "    }\n",
       "\n",
       "    .dataframe tbody tr th {\n",
       "        vertical-align: top;\n",
       "    }\n",
       "\n",
       "    .dataframe thead th {\n",
       "        text-align: right;\n",
       "    }\n",
       "</style>\n",
       "<table border=\"1\" class=\"dataframe\">\n",
       "  <thead>\n",
       "    <tr style=\"text-align: right;\">\n",
       "      <th></th>\n",
       "      <th>город</th>\n",
       "      <th>среднее</th>\n",
       "      <th>дисперсия</th>\n",
       "      <th>стандарное отклонение</th>\n",
       "    </tr>\n",
       "  </thead>\n",
       "  <tbody>\n",
       "    <tr>\n",
       "      <td>0</td>\n",
       "      <td>москва</td>\n",
       "      <td>1550</td>\n",
       "      <td>566183</td>\n",
       "      <td>752</td>\n",
       "    </tr>\n",
       "    <tr>\n",
       "      <td>1</td>\n",
       "      <td>другие</td>\n",
       "      <td>1528</td>\n",
       "      <td>656697</td>\n",
       "      <td>810</td>\n",
       "    </tr>\n",
       "  </tbody>\n",
       "</table>\n",
       "</div>"
      ],
      "text/plain": [
       "    город  среднее  дисперсия  стандарное отклонение\n",
       "0  москва     1550     566183                    752\n",
       "1  другие     1528     656697                    810"
      ]
     },
     "execution_count": 18,
     "metadata": {},
     "output_type": "execute_result"
    },
    {
     "data": {
      "image/png": "[encoded data removed]",
      "text/plain": [
       "<Figure size 432x288 with 1 Axes>"
      ]
     },
     "metadata": {
      "needs_background": "light"
     },
     "output_type": "display_data"
    }
   ],
   "source": [
    "df_pivot.query('city == \"Москва\"')['proceeds'].plot(kind='hist', alpha=0.5)\n",
    "df_pivot.query('city != \"Москва\"')['proceeds'].plot(kind='hist', title='Выручка', alpha=0.5)\n",
    "plt.legend(['Москва', 'Другие города'])\n",
    "\n",
    "d1 = np.var(df_pivot.query('city == \"Москва\"')['proceeds'], ddof=1)\n",
    "d2 = np.var(df_pivot.query('city != \"Москва\"')['proceeds'], ddof=1)\n",
    "s1 = np.sqrt(d1)\n",
    "s2 = np.sqrt(d2)\n",
    "data = [{\"город\":'москва', \"среднее\":int(df_pivot.query('city == \"Москва\"')['proceeds'].mean()),\n",
    "         \"дисперсия\":int(d1), \"стандарное отклонение\":int(s1)},\n",
    "        {\"город\":'другие', \"среднее\":int(df_pivot.query('city != \"Москва\"')['proceeds'].mean()),\n",
    "         \"дисперсия\":int(d2), \"стандарное отклонение\":int(s2)}]\n",
    "proceeds = pd.DataFrame(data)\n",
    "proceeds"
   ]
  },
  {
   "cell_type": "markdown",
   "metadata": {},
   "source": [
    "<div class=\"alert alert-info\">\n",
    "\n",
    "Можно сказать, что выборки, стратифицированные по городам (Москва и остальные города), похожи. Дисперсия, среднее и стандарное отклонение для двух выборок тоже мало различаются. Выборка для Москвы меньше, чем для других городов, этим можно объяснить небольшие отличия."
   ]
  },
  {
   "cell_type": "markdown",
   "metadata": {},
   "source": [
    "<b>Шаг 4. Проверьте гипотезы</b>\n",
    "средняя выручка пользователей тарифов «Ультра» и «Смарт» различается;\n",
    "средняя выручка пользователей из Москвы отличается от выручки пользователей из других регионов;"
   ]
  },
  {
   "cell_type": "markdown",
   "metadata": {},
   "source": [
    "<div class=\"alert alert-info\">\n",
    "<b>Гипотеза: средняя выручка пользователей тарифов «Ультра» и «Смарт» различается</b>\n",
    "- В качестве нулевой гипотезы была выбрана: средние выручки пользователей Смарт и Ультра равны\n",
    "- Альтернативная гипотеза: средние выручки отличаются\n",
    "- Тест двухсторонний, так как значения могут отличаться и в большую, и в меньшую сторону\n",
    "- equal_var=False, так как выборки отличаются *я сужу по гистограммам, среднему и дисперсии - это все разное*"
   ]
  },
  {
   "cell_type": "code",
   "execution_count": 25,
   "metadata": {},
   "outputs": [
    {
     "name": "stdout",
     "output_type": "stream",
     "text": [
      "8       1350.0\n",
      "9        550.0\n",
      "10       550.0\n",
      "11      1150.0\n",
      "12      1550.0\n",
      "         ...  \n",
      "3210     550.0\n",
      "3211    1150.0\n",
      "3212    1513.0\n",
      "3213     598.0\n",
      "3215     550.0\n",
      "Name: proceeds, Length: 2230, dtype: float64\n",
      "Ttest_indResult(statistic=-36.70976682067519, pvalue=1.2414049931248708e-246)\n"
     ]
    }
   ],
   "source": [
    "from math import factorial\n",
    "from scipy import stats as st\n",
    "\n",
    "alpha1 = 0.05\n",
    "r1 = st.ttest_ind(df_pivot.query('tariff == \"smart\"')['proceeds'],\n",
    "                 df_pivot.query('tariff == \"ultra\"')['proceeds'], equal_var=False)\n",
    "print(df_pivot.query('tariff == \"smart\"')['proceeds'])\n",
    "print(r1)"
   ]
  },
  {
   "cell_type": "markdown",
   "metadata": {},
   "source": [
    "<div class=\"alert alert-info\">\n",
    "<b>Средняя выручка пользователей тарифов «Ультра» и «Смарт» различается</b>\n",
    "- Отклоняем нулевую гипотезу - выручки отличаются"
   ]
  },
  {
   "cell_type": "markdown",
   "metadata": {},
   "source": [
    "<div class=\"alert alert-info\">\n",
    "<b>Гипотеза: средняя выручка пользователей из Москвы отличается от выручки пользователей из других регионов</b>\n",
    "- В качестве нулевой гипотезы была выбрана: средние выручки пользователей из разных городов равны\n",
    "- Альтернативная гипотеза: средние выручки отличаются для Москвы и других городов\n",
    "- Тест двухсторонний, так как значения могут отличаться и в большую, и в меньшую сторону\n",
    "- equal_var=True, так как выборки похожи"
   ]
  },
  {
   "cell_type": "code",
   "execution_count": 22,
   "metadata": {},
   "outputs": [
    {
     "name": "stdout",
     "output_type": "stream",
     "text": [
      "Ttest_indResult(statistic=0.631543763165892, pvalue=0.5277299573181309)\n"
     ]
    }
   ],
   "source": [
    "alpha2 = 0.05\n",
    "r2 = st.ttest_ind(df_pivot.query('city == \"Москва\"')['proceeds'],\n",
    "                 df_pivot.query('city != \"Москва\"')['proceeds'])\n",
    "#if r2.pvalue < alpha2:\n",
    "#    print('Средняя выручка пользователей из Москвы отличается от выручки из других регионов')\n",
    "#else:\n",
    "#    print('Средняя выручка пользователей из Москвы не отличается от выручки из других регионов {:.5f}'.format(r2.pvalue))\n",
    "print(r2)"
   ]
  },
  {
   "cell_type": "markdown",
   "metadata": {},
   "source": [
    "<div class=\"alert alert-info\">\n",
    "<b>Средняя выручка пользователей из Москвы не отличается от выручки пользователей из других регионов</b>\n",
    "- Нет оснований отклонить нулевую гипотезу - выручки не отличаются"
   ]
  },
  {
   "cell_type": "markdown",
   "metadata": {},
   "source": [
    "<b>Шаг 5. Напишите общий вывод</b>\n",
    "\n",
    "Было проанализировано поведение клиентов на тарифных планах: «Смарт» и «Ультра» на небольшой выборке.\n",
    "Полученные выводы:\n",
    "- Пользователи тарифа Ультра в среднем больше говорят по телефону, больше используют смс и интернет\n",
    "- Средняя выручка пользователей тарифов «Ультра» и «Смарт» различается\n",
    "- Средняя выручка пользователей из Москвы не отличается от выручки пользователей из других регионов\n",
    "\n",
    "Тариф Ультра приносит больше выручки на одного пользователя в среднем, чем тариф Смарт. Но тарифом Смарт пользуются в два раза больше клиентов, поэтому суммарная выручка от тарифа Смарт превышает выручку от Ультра почти в полтора раза (на небольшой выборке). Так же у тарифа Ультра установлены очень большие лимиты, в разы превышающие используемое количество минут и смс.\n",
    "Поэтому я предлагаю вкладываться в развитие тарифа Смарт, как более популярного."
   ]
  }
 ],
 "metadata": {
  "kernelspec": {
   "display_name": "Python 3",
   "language": "python",
   "name": "python3"
  },
  "language_info": {
   "codemirror_mode": {
    "name": "ipython",
    "version": 3
   },
   "file_extension": ".py",
   "mimetype": "text/x-python",
   "name": "python",
   "nbconvert_exporter": "python",
   "pygments_lexer": "ipython3",
   "version": "3.7.8"
  },
  "toc": {
   "base_numbering": 1,
   "nav_menu": {},
   "number_sections": true,
   "sideBar": true,
   "skip_h1_title": true,
   "title_cell": "Table of Contents",
   "title_sidebar": "Contents",
   "toc_cell": false,
   "toc_position": {},
   "toc_section_display": true,
   "toc_window_display": false
  }
 },
 "nbformat": 4,
 "nbformat_minor": 2
}
