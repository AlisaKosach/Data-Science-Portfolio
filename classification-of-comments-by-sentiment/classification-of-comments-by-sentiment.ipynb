{
 "cells": [
  {
   "cell_type": "markdown",
   "metadata": {
    "toc": true
   },
   "source": [
    "<h1>Содержание<span class=\"tocSkip\"></span></h1>\n",
    "<div class=\"toc\"><ul class=\"toc-item\"><li><span><a href=\"#Подготовка\" data-toc-modified-id=\"Подготовка-1\"><span class=\"toc-item-num\">1&nbsp;&nbsp;</span>Подготовка</a></span></li><li><span><a href=\"#Обучение\" data-toc-modified-id=\"Обучение-2\"><span class=\"toc-item-num\">2&nbsp;&nbsp;</span>Обучение</a></span></li><li><span><a href=\"#Выводы\" data-toc-modified-id=\"Выводы-3\"><span class=\"toc-item-num\">3&nbsp;&nbsp;</span>Выводы</a></span></li></ul></div>"
   ]
  },
  {
   "cell_type": "markdown",
   "metadata": {},
   "source": [
    "# Проект для «Викишоп»"
   ]
  },
  {
   "cell_type": "markdown",
   "metadata": {},
   "source": [
    "Обучите модель классифицировать комментарии на позитивные и негативные. В вашем распоряжении набор данных с разметкой о токсичности правок.\n",
    "\n",
    "Постройте модель со значением метрики качества *F1* не меньше 0.75. \n",
    "\n",
    "Столбец *text* в нём содержит текст комментария, а *toxic* — целевой признак."
   ]
  },
  {
   "cell_type": "markdown",
   "metadata": {},
   "source": [
    "## Подготовка"
   ]
  },
  {
   "cell_type": "code",
   "execution_count": 1,
   "metadata": {},
   "outputs": [],
   "source": [
    "import pandas as pd\n",
    "import numpy as np\n",
    "from pymystem3 import Mystem\n",
    "import nltk\n",
    "import re\n",
    "from nltk.corpus import stopwords as nltk_stopwords\n",
    "from sklearn.feature_extraction.text import TfidfVectorizer\n",
    "import matplotlib.pyplot as plt\n",
    "from sklearn.model_selection import train_test_split\n",
    "\n",
    "from sklearn.linear_model import LogisticRegression\n",
    "from sklearn.metrics import f1_score\n",
    "from sklearn.ensemble import RandomForestClassifier\n",
    "from sklearn.tree import DecisionTreeClassifier\n",
    "\n",
    "import warnings\n",
    "warnings.filterwarnings('ignore')"
   ]
  },
  {
   "cell_type": "code",
   "execution_count": 2,
   "metadata": {},
   "outputs": [
    {
     "name": "stdout",
     "output_type": "stream",
     "text": [
      "<class 'pandas.core.frame.DataFrame'>\n",
      "RangeIndex: 159571 entries, 0 to 159570\n",
      "Data columns (total 2 columns):\n",
      "text     159571 non-null object\n",
      "toxic    159571 non-null int64\n",
      "dtypes: int64(1), object(1)\n",
      "memory usage: 2.4+ MB\n"
     ]
    },
    {
     "data": {
      "text/html": [
       "<div>\n",
       "<style scoped>\n",
       "    .dataframe tbody tr th:only-of-type {\n",
       "        vertical-align: middle;\n",
       "    }\n",
       "\n",
       "    .dataframe tbody tr th {\n",
       "        vertical-align: top;\n",
       "    }\n",
       "\n",
       "    .dataframe thead th {\n",
       "        text-align: right;\n",
       "    }\n",
       "</style>\n",
       "<table border=\"1\" class=\"dataframe\">\n",
       "  <thead>\n",
       "    <tr style=\"text-align: right;\">\n",
       "      <th></th>\n",
       "      <th>text</th>\n",
       "      <th>toxic</th>\n",
       "    </tr>\n",
       "  </thead>\n",
       "  <tbody>\n",
       "    <tr>\n",
       "      <td>0</td>\n",
       "      <td>Explanation\\nWhy the edits made under my usern...</td>\n",
       "      <td>0</td>\n",
       "    </tr>\n",
       "    <tr>\n",
       "      <td>1</td>\n",
       "      <td>D'aww! He matches this background colour I'm s...</td>\n",
       "      <td>0</td>\n",
       "    </tr>\n",
       "    <tr>\n",
       "      <td>2</td>\n",
       "      <td>Hey man, I'm really not trying to edit war. It...</td>\n",
       "      <td>0</td>\n",
       "    </tr>\n",
       "    <tr>\n",
       "      <td>3</td>\n",
       "      <td>\"\\nMore\\nI can't make any real suggestions on ...</td>\n",
       "      <td>0</td>\n",
       "    </tr>\n",
       "    <tr>\n",
       "      <td>4</td>\n",
       "      <td>You, sir, are my hero. Any chance you remember...</td>\n",
       "      <td>0</td>\n",
       "    </tr>\n",
       "  </tbody>\n",
       "</table>\n",
       "</div>"
      ],
      "text/plain": [
       "                                                text  toxic\n",
       "0  Explanation\\nWhy the edits made under my usern...      0\n",
       "1  D'aww! He matches this background colour I'm s...      0\n",
       "2  Hey man, I'm really not trying to edit war. It...      0\n",
       "3  \"\\nMore\\nI can't make any real suggestions on ...      0\n",
       "4  You, sir, are my hero. Any chance you remember...      0"
      ]
     },
     "execution_count": 2,
     "metadata": {},
     "output_type": "execute_result"
    }
   ],
   "source": [
    "data = pd.read_csv('/datasets/toxic_comments.csv')\n",
    "#data = data.drop(data.index[110000:119999])\n",
    "#data = data.loc[0:50000]\n",
    "data.info()\n",
    "data.head()"
   ]
  },
  {
   "cell_type": "code",
   "execution_count": 3,
   "metadata": {},
   "outputs": [
    {
     "data": {
      "text/plain": [
       "0    143346\n",
       "1     16225\n",
       "Name: toxic, dtype: int64"
      ]
     },
     "metadata": {},
     "output_type": "display_data"
    },
    {
     "data": {
      "text/plain": [
       "8.834884437596301"
      ]
     },
     "execution_count": 3,
     "metadata": {},
     "output_type": "execute_result"
    }
   ],
   "source": [
    "cl = data.toxic.value_counts()\n",
    "display(cl)\n",
    "cl[0] / cl[1]"
   ]
  },
  {
   "cell_type": "markdown",
   "metadata": {},
   "source": [
    "Результаты предварительного анализа данных: \n",
    "- пропущенных данных нет\n",
    "- соотношение классов неравномерное - почти 1 к 9\n",
    "- текст следует лемматизировать \n",
    "- данные нужно разделить на выборки и выделить целевой признак\n",
    "- получить матрицу TF-IDF"
   ]
  },
  {
   "cell_type": "markdown",
   "metadata": {},
   "source": [
    "В процессе подготовки данных оказалось, что при запуске всего набора данных ядро уничтожается. В slack был совет удалить середину из набора данных. Я решила попутно сбалансировать классы: взять из второй половины данных только комменты с целевым признаком 1 и перемешать с первой половиной, взятой полностью.\n",
    "\n",
    "Соотношение классов теперь почти 1:4. Ядро перестало вылетать, и метрика F1 улучшилась."
   ]
  },
  {
   "cell_type": "code",
   "execution_count": 4,
   "metadata": {},
   "outputs": [
    {
     "name": "stdout",
     "output_type": "stream",
     "text": [
      "<class 'pandas.core.frame.DataFrame'>\n",
      "RangeIndex: 70001 entries, 0 to 70000\n",
      "Data columns (total 2 columns):\n",
      "text     70001 non-null object\n",
      "toxic    70001 non-null int64\n",
      "dtypes: int64(1), object(1)\n",
      "memory usage: 1.1+ MB\n"
     ]
    },
    {
     "data": {
      "text/plain": [
       "0    62834\n",
       "1     7167\n",
       "Name: toxic, dtype: int64"
      ]
     },
     "metadata": {},
     "output_type": "display_data"
    },
    {
     "data": {
      "text/plain": [
       "8.76712711036696"
      ]
     },
     "execution_count": 4,
     "metadata": {},
     "output_type": "execute_result"
    }
   ],
   "source": [
    "n = 70000\n",
    "data = data.loc[0:n]\n",
    "data.info()\n",
    "cl = data.toxic.value_counts()\n",
    "display(cl)\n",
    "cl[0] / cl[1]"
   ]
  },
  {
   "cell_type": "markdown",
   "metadata": {},
   "source": [
    "Я попробовала осуществить лемматизацию (при помощи WordNetLemmatizer), но ее качество оставило желать лучшего. Поэтому я применила известный мне стемминг и регулярные выражения для очистки текста."
   ]
  },
  {
   "cell_type": "code",
   "execution_count": 5,
   "metadata": {},
   "outputs": [
    {
     "name": "stdout",
     "output_type": "stream",
     "text": [
      "CPU times: user 1min 41s, sys: 156 ms, total: 1min 41s\n",
      "Wall time: 1min 42s\n"
     ]
    },
    {
     "data": {
      "text/html": [
       "<div>\n",
       "<style scoped>\n",
       "    .dataframe tbody tr th:only-of-type {\n",
       "        vertical-align: middle;\n",
       "    }\n",
       "\n",
       "    .dataframe tbody tr th {\n",
       "        vertical-align: top;\n",
       "    }\n",
       "\n",
       "    .dataframe thead th {\n",
       "        text-align: right;\n",
       "    }\n",
       "</style>\n",
       "<table border=\"1\" class=\"dataframe\">\n",
       "  <thead>\n",
       "    <tr style=\"text-align: right;\">\n",
       "      <th></th>\n",
       "      <th>text</th>\n",
       "      <th>toxic</th>\n",
       "      <th>stemm</th>\n",
       "    </tr>\n",
       "  </thead>\n",
       "  <tbody>\n",
       "    <tr>\n",
       "      <td>0</td>\n",
       "      <td>Explanation\\nWhy the edits made under my usern...</td>\n",
       "      <td>0</td>\n",
       "      <td>explan whi the edit made under my usernam hard...</td>\n",
       "    </tr>\n",
       "    <tr>\n",
       "      <td>1</td>\n",
       "      <td>D'aww! He matches this background colour I'm s...</td>\n",
       "      <td>0</td>\n",
       "      <td>d aww he match this background colour i m seem...</td>\n",
       "    </tr>\n",
       "    <tr>\n",
       "      <td>2</td>\n",
       "      <td>Hey man, I'm really not trying to edit war. It...</td>\n",
       "      <td>0</td>\n",
       "      <td>hey man i m realli not tri to edit war it s ju...</td>\n",
       "    </tr>\n",
       "    <tr>\n",
       "      <td>3</td>\n",
       "      <td>\"\\nMore\\nI can't make any real suggestions on ...</td>\n",
       "      <td>0</td>\n",
       "      <td>more i can t make ani real suggest on improv i...</td>\n",
       "    </tr>\n",
       "    <tr>\n",
       "      <td>4</td>\n",
       "      <td>You, sir, are my hero. Any chance you remember...</td>\n",
       "      <td>0</td>\n",
       "      <td>you sir are my hero ani chanc you rememb what ...</td>\n",
       "    </tr>\n",
       "  </tbody>\n",
       "</table>\n",
       "</div>"
      ],
      "text/plain": [
       "                                                text  toxic  \\\n",
       "0  Explanation\\nWhy the edits made under my usern...      0   \n",
       "1  D'aww! He matches this background colour I'm s...      0   \n",
       "2  Hey man, I'm really not trying to edit war. It...      0   \n",
       "3  \"\\nMore\\nI can't make any real suggestions on ...      0   \n",
       "4  You, sir, are my hero. Any chance you remember...      0   \n",
       "\n",
       "                                               stemm  \n",
       "0  explan whi the edit made under my usernam hard...  \n",
       "1  d aww he match this background colour i m seem...  \n",
       "2  hey man i m realli not tri to edit war it s ju...  \n",
       "3  more i can t make ani real suggest on improv i...  \n",
       "4  you sir are my hero ani chanc you rememb what ...  "
      ]
     },
     "execution_count": 5,
     "metadata": {},
     "output_type": "execute_result"
    }
   ],
   "source": [
    "%%time\n",
    "#стёмминг\n",
    "from nltk.stem import SnowballStemmer\n",
    "def stem(row):\n",
    "    st = SnowballStemmer('english')\n",
    "    text_list = re.sub(r'[^a-zA-Z ]', ' ', row['text'])\n",
    "    clear_text = \" \".join(text_list.split())\n",
    "    return ' '.join([st.stem(w) for w in nltk.word_tokenize(clear_text)])\n",
    "\n",
    "data['stemm'] = data.apply(stem, axis=1)\n",
    "data.head()"
   ]
  },
  {
   "cell_type": "code",
   "execution_count": 6,
   "metadata": {},
   "outputs": [],
   "source": [
    "#разделение на выборки и отделение целевого признака\n",
    "target = data['toxic']\n",
    "corpus = data['stemm'].values.astype('U')\n",
    "\n",
    "corpus_train, corpus_, target_train, target_ = train_test_split(corpus, target, test_size=0.4, random_state=42)\n",
    "corpus_valid, corpus_test, target_valid, target_test = train_test_split(corpus_, target_, test_size=0.5, random_state=42)"
   ]
  },
  {
   "cell_type": "code",
   "execution_count": 7,
   "metadata": {},
   "outputs": [
    {
     "name": "stderr",
     "output_type": "stream",
     "text": [
      "[nltk_data] Downloading package stopwords to /home/jovyan/nltk_data...\n",
      "[nltk_data]   Package stopwords is already up-to-date!\n"
     ]
    }
   ],
   "source": [
    "#TF-IDF\n",
    "nltk.download('stopwords')\n",
    "stopwords = set(nltk_stopwords.words('english'))\n",
    "count_tf_idf = TfidfVectorizer(stop_words=stopwords)\n",
    "\n",
    "tfidf_train = count_tf_idf.fit_transform(corpus_train)\n",
    "\n",
    "tfidf_valid = count_tf_idf.transform(corpus_valid)\n",
    "tfidf_test = count_tf_idf.transform(corpus_test)"
   ]
  },
  {
   "cell_type": "markdown",
   "metadata": {},
   "source": [
    "## Обучение"
   ]
  },
  {
   "cell_type": "code",
   "execution_count": 8,
   "metadata": {},
   "outputs": [
    {
     "data": {
      "text/plain": [
       "0.6805125939019002"
      ]
     },
     "execution_count": 8,
     "metadata": {},
     "output_type": "execute_result"
    }
   ],
   "source": [
    "#Логистическая регрессия\n",
    "model1 = LogisticRegression(random_state=42)\n",
    "model1.fit(tfidf_train, target_train)\n",
    "pred1 = model1.predict(tfidf_valid)\n",
    "f1_score(target_valid, pred1)"
   ]
  },
  {
   "cell_type": "code",
   "execution_count": 9,
   "metadata": {},
   "outputs": [
    {
     "name": "stdout",
     "output_type": "stream",
     "text": [
      "0.7458766035430666\n",
      "0.7525935240490412\n",
      "0.7557692307692307\n",
      "0.7554259799157758\n",
      "0.7571801566579635\n",
      "0.7552356020942409\n",
      "0.7558330594807756\n",
      "9 0.7571801566579635\n"
     ]
    },
    {
     "data": {
      "text/plain": [
       "Text(0, 0.5, 'f1')"
      ]
     },
     "execution_count": 9,
     "metadata": {},
     "output_type": "execute_result"
    },
    {
     "data": {
      "image/png": "[encoded data removed]",
      "text/plain": [
       "<Figure size 432x288 with 1 Axes>"
      ]
     },
     "metadata": {
      "needs_background": "light"
     },
     "output_type": "display_data"
    }
   ],
   "source": [
    "#Балансировка классов\n",
    "c_list = []\n",
    "f1_list = []\n",
    "f1_min = 0\n",
    "for c in range(1, 17, 2):\n",
    "    \n",
    "    model = LogisticRegression(random_state=42, class_weight='balanced', C=c)\n",
    "    model.fit(tfidf_train, target_train)\n",
    "    f1 = f1_score(target_valid, model.predict(tfidf_valid))\n",
    "    \n",
    "    c_list.append(c)\n",
    "    f1_list.append(f1)\n",
    "\n",
    "    if f1 > f1_min:\n",
    "        f1_min = f1\n",
    "        c_min = c\n",
    "        \n",
    "print(c_min, f1_min)    \n",
    "plt.plot(c_list, f1_list)\n",
    "plt.xlabel('инверсия силы регуляризации')\n",
    "plt.ylabel('f1')"
   ]
  },
  {
   "cell_type": "code",
   "execution_count": 10,
   "metadata": {},
   "outputs": [
    {
     "name": "stdout",
     "output_type": "stream",
     "text": [
      "91 0.714231785579464\n"
     ]
    },
    {
     "data": {
      "text/plain": [
       "Text(0, 0.5, 'f1')"
      ]
     },
     "execution_count": 10,
     "metadata": {},
     "output_type": "execute_result"
    },
    {
     "data": {
      "image/png": "[encoded data removed]",
      "text/plain": [
       "<Figure size 432x288 with 1 Axes>"
      ]
     },
     "metadata": {
      "needs_background": "light"
     },
     "output_type": "display_data"
    }
   ],
   "source": [
    "#Дерево\n",
    "n_list = []\n",
    "f1_list = []\n",
    "f1_min = 0\n",
    "for n in range(1, 100, 10):\n",
    "    \n",
    "    model = DecisionTreeClassifier(random_state=42, max_depth=n)\n",
    "    model.fit(tfidf_train, target_train)\n",
    "    f1 = f1_score(target_valid, model.predict(tfidf_valid))\n",
    "    \n",
    "    n_list.append(n)\n",
    "    f1_list.append(f1)\n",
    "\n",
    "    if f1 > f1_min:\n",
    "        f1_min = f1\n",
    "        n_min = n\n",
    "        \n",
    "print(n_min, f1_min)    \n",
    "plt.plot(n_list, f1_list)\n",
    "plt.xlabel('max_depth')\n",
    "plt.ylabel('f1')"
   ]
  },
  {
   "cell_type": "code",
   "execution_count": 11,
   "metadata": {},
   "outputs": [
    {
     "name": "stdout",
     "output_type": "stream",
     "text": [
      "1 0.21961244862008222\n"
     ]
    },
    {
     "data": {
      "text/plain": [
       "Text(0, 0.5, 'f1')"
      ]
     },
     "execution_count": 11,
     "metadata": {},
     "output_type": "execute_result"
    },
    {
     "data": {
      "image/png": "[encoded data removed]",
      "text/plain": [
       "<Figure size 432x288 with 1 Axes>"
      ]
     },
     "metadata": {
      "needs_background": "light"
     },
     "output_type": "display_data"
    }
   ],
   "source": [
    "#Случайный лес\n",
    "n_list = []\n",
    "f1_list = []\n",
    "f1_min = 0\n",
    "for n in range(1, 50, 5):\n",
    "    \n",
    "    model = RandomForestClassifier(random_state=42, n_estimators=n, max_depth=20)\n",
    "    model.fit(tfidf_train, target_train)\n",
    "    f1 = f1_score(target_valid, model.predict(tfidf_valid))\n",
    "    \n",
    "    n_list.append(n)\n",
    "    f1_list.append(f1)\n",
    "\n",
    "    if f1 > f1_min:\n",
    "        f1_min = f1\n",
    "        n_min = n\n",
    "        \n",
    "print(n_min, f1_min)    \n",
    "plt.plot(n_list, f1_list)\n",
    "plt.xlabel('n_estimators')\n",
    "plt.ylabel('f1')"
   ]
  },
  {
   "cell_type": "code",
   "execution_count": 12,
   "metadata": {},
   "outputs": [
    {
     "name": "stdout",
     "output_type": "stream",
     "text": [
      "91 0.4274120829576195\n"
     ]
    },
    {
     "data": {
      "text/plain": [
       "Text(0, 0.5, 'f1')"
      ]
     },
     "execution_count": 12,
     "metadata": {},
     "output_type": "execute_result"
    },
    {
     "data": {
      "image/png": "[encoded data removed]",
      "text/plain": [
       "<Figure size 432x288 with 1 Axes>"
      ]
     },
     "metadata": {
      "needs_background": "light"
     },
     "output_type": "display_data"
    }
   ],
   "source": [
    "n_list = []\n",
    "f1_list = []\n",
    "f1_min = 0\n",
    "for n in range(1, 100, 10):\n",
    "    \n",
    "    model = RandomForestClassifier(random_state=42, n_estimators=1, max_depth=n)\n",
    "    model.fit(tfidf_train, target_train)\n",
    "    f1 = f1_score(target_valid, model.predict(tfidf_valid))\n",
    "    n_list.append(n)\n",
    "    f1_list.append(f1)\n",
    "\n",
    "    if f1 > f1_min:\n",
    "        f1_min = f1\n",
    "        n_min = n\n",
    "        \n",
    "print(n_min, f1_min)            \n",
    "plt.plot(n_list, f1_list)\n",
    "plt.xlabel('max_depth')\n",
    "plt.ylabel('f1')"
   ]
  },
  {
   "cell_type": "markdown",
   "metadata": {},
   "source": [
    "Были проверены следующие модели с различными гиперпараметрами: логистическая регрессия (с балансировкой классов и без), дерево и случайный лес.\n",
    "\n",
    "На валидационном наборе лучше всего показала себя регрессия с балансировкой."
   ]
  },
  {
   "cell_type": "markdown",
   "metadata": {},
   "source": [
    "## Выводы"
   ]
  },
  {
   "cell_type": "code",
   "execution_count": 13,
   "metadata": {},
   "outputs": [],
   "source": [
    "const = pd.Series([1]*len(target_test))\n",
    "f1_0 = f1_score(target_test, const)"
   ]
  },
  {
   "cell_type": "markdown",
   "metadata": {},
   "source": [
    "Так как для метрики нужный ответы 1, я построила константную модель из 1, а не 0 (хотя 0 чаще встречаются в данных). Есть ли еще способы заполнить такую модель?"
   ]
  },
  {
   "cell_type": "code",
   "execution_count": 14,
   "metadata": {},
   "outputs": [],
   "source": [
    "model1 = LogisticRegression(random_state=42, class_weight='balanced', C=9.0)\n",
    "model1.fit(tfidf_train, target_train)\n",
    "pred1 = model1.predict(tfidf_test)\n",
    "f1_1 = f1_score(target_test, pred1)\n",
    "\n",
    "model2 = DecisionTreeClassifier(random_state=42, max_depth=50)\n",
    "model2.fit(tfidf_train, target_train)\n",
    "pred2 = model2.predict(tfidf_test)\n",
    "f1_2 = f1_score(target_test, pred2)\n",
    "\n",
    "model3 = RandomForestClassifier(random_state=42, n_estimators=1, max_depth=70)\n",
    "model3.fit(tfidf_train, target_train)\n",
    "pred3 = model3.predict(tfidf_test)\n",
    "f1_3 = f1_score(target_test, pred3)"
   ]
  },
  {
   "cell_type": "code",
   "execution_count": 15,
   "metadata": {},
   "outputs": [
    {
     "data": {
      "text/html": [
       "<div>\n",
       "<style scoped>\n",
       "    .dataframe tbody tr th:only-of-type {\n",
       "        vertical-align: middle;\n",
       "    }\n",
       "\n",
       "    .dataframe tbody tr th {\n",
       "        vertical-align: top;\n",
       "    }\n",
       "\n",
       "    .dataframe thead th {\n",
       "        text-align: right;\n",
       "    }\n",
       "</style>\n",
       "<table border=\"1\" class=\"dataframe\">\n",
       "  <thead>\n",
       "    <tr style=\"text-align: right;\">\n",
       "      <th></th>\n",
       "      <th>0</th>\n",
       "      <th>1</th>\n",
       "      <th>2</th>\n",
       "      <th>3</th>\n",
       "    </tr>\n",
       "  </thead>\n",
       "  <tbody>\n",
       "    <tr>\n",
       "      <td>Модель</td>\n",
       "      <td>Константная модель</td>\n",
       "      <td>Линейная регрессия</td>\n",
       "      <td>Дерево</td>\n",
       "      <td>Случайный лес</td>\n",
       "    </tr>\n",
       "    <tr>\n",
       "      <td>f1</td>\n",
       "      <td>0.188979</td>\n",
       "      <td>0.77258</td>\n",
       "      <td>0.719782</td>\n",
       "      <td>0.392892</td>\n",
       "    </tr>\n",
       "  </tbody>\n",
       "</table>\n",
       "</div>"
      ],
      "text/plain": [
       "                         0                   1         2              3\n",
       "Модель  Константная модель  Линейная регрессия    Дерево  Случайный лес\n",
       "f1                0.188979             0.77258  0.719782       0.392892"
      ]
     },
     "metadata": {},
     "output_type": "display_data"
    }
   ],
   "source": [
    "columns = ['Модель', 'f1']\n",
    "name = ['Константная модель', 'Линейная регрессия', 'Дерево', 'Случайный лес']\n",
    "f1 = [f1_0, f1_1, f1_2, f1_3]\n",
    "results = pd.DataFrame([name, f1], columns)\n",
    "display(results)"
   ]
  },
  {
   "cell_type": "markdown",
   "metadata": {},
   "source": [
    "Такие значения метрики получились для первой половины датасета (с 0 до 70000) без изменений в соотношении классов. Если я брала больше 80000, ядро каждый раз умирало.\n",
    "\n",
    "    \tКонстантная модель\tЛинейная регрессия\tДерево\tСлучайный лес\n",
    "\n",
    "    f1  0.188979\t          0.754648\t          0.71978   0.392892\n",
    "    \n",
    "    "
   ]
  },
  {
   "cell_type": "markdown",
   "metadata": {},
   "source": [
    "**Вывод**\n",
    "\n",
    "В ходе данной работы была решена задача классификации комментариев на позитивные и негативные. Модели были обучены на наборе данных с разметкой о токсичности правок.\n",
    "\n",
    "Данные были подготовлены при помощи стёмминга и регулярных выражений. Классы, изначальное соотношение которых было около 1 к 9, были сбалансированы за счет того, что от второй половины данных были оставлены только представители положительного класса. Далее была получена матрица TF-IDF для сбалансированного набора данных.\n",
    "\n",
    "Были обучены и протестированы следующие модели с различными гиперпараметрами: логистическая регрессия (с балансировкой классов и без), дерево и случайный лес. Сравнение проводилось по метрике F1. Полученные результаты для всех моделей превышают значение метрики константной модели. Лучшей моделью оказалась логистическая регрессия с балансировкой классов, показавшая значение метрики "
   ]
  }
 ],
 "metadata": {
  "ExecuteTimeLog": [
   {
    "duration": 213,
    "start_time": "2021-07-31T09:33:47.197Z"
   },
   {
    "duration": 549,
    "start_time": "2021-07-31T09:33:51.082Z"
   },
   {
    "duration": 1307,
    "start_time": "2021-07-31T09:33:51.633Z"
   },
   {
    "duration": 1224,
    "start_time": "2021-07-31T09:34:08.207Z"
   },
   {
    "duration": 1345,
    "start_time": "2021-07-31T09:36:48.520Z"
   },
   {
    "duration": 6,
    "start_time": "2021-07-31T10:26:56.117Z"
   },
   {
    "duration": 7,
    "start_time": "2021-07-31T10:27:43.177Z"
   },
   {
    "duration": 6,
    "start_time": "2021-07-31T10:27:51.603Z"
   },
   {
    "duration": 8,
    "start_time": "2021-07-31T10:28:07.114Z"
   },
   {
    "duration": 677,
    "start_time": "2021-07-31T10:43:54.826Z"
   },
   {
    "duration": 613,
    "start_time": "2021-07-31T10:43:55.884Z"
   },
   {
    "duration": 9,
    "start_time": "2021-07-31T10:43:56.603Z"
   },
   {
    "duration": 225,
    "start_time": "2021-07-31T10:43:58.120Z"
   },
   {
    "duration": 189,
    "start_time": "2021-07-31T10:44:27.277Z"
   },
   {
    "duration": 4,
    "start_time": "2021-07-31T11:22:41.893Z"
   },
   {
    "duration": 624,
    "start_time": "2021-07-31T11:22:41.899Z"
   },
   {
    "duration": 7,
    "start_time": "2021-07-31T11:22:42.525Z"
   },
   {
    "duration": 286,
    "start_time": "2021-07-31T11:22:42.533Z"
   },
   {
    "duration": 281,
    "start_time": "2021-07-31T11:22:42.539Z"
   },
   {
    "duration": 16418,
    "start_time": "2021-07-31T11:25:24.031Z"
   },
   {
    "duration": 27671,
    "start_time": "2021-07-31T11:25:46.685Z"
   },
   {
    "duration": 867245,
    "start_time": "2021-07-31T11:26:15.634Z"
   },
   {
    "duration": 92552,
    "start_time": "2021-07-31T11:40:45.316Z"
   },
   {
    "duration": 662,
    "start_time": "2021-07-31T11:42:17.870Z"
   },
   {
    "duration": 8,
    "start_time": "2021-07-31T11:42:26.430Z"
   },
   {
    "duration": 7935,
    "start_time": "2021-07-31T11:42:28.740Z"
   },
   {
    "duration": 1691,
    "start_time": "2021-07-31T13:23:42.062Z"
   },
   {
    "duration": 352,
    "start_time": "2021-07-31T13:23:45.409Z"
   },
   {
    "duration": 5,
    "start_time": "2021-07-31T13:23:55.058Z"
   },
   {
    "duration": 822,
    "start_time": "2021-07-31T13:23:55.066Z"
   },
   {
    "duration": 21,
    "start_time": "2021-07-31T13:23:55.891Z"
   },
   {
    "duration": 2311,
    "start_time": "2021-07-31T13:23:55.915Z"
   },
   {
    "duration": 288,
    "start_time": "2021-07-31T13:23:58.229Z"
   },
   {
    "duration": 817,
    "start_time": "2021-07-31T13:23:57.703Z"
   },
   {
    "duration": 6,
    "start_time": "2021-07-31T13:27:16.114Z"
   },
   {
    "duration": 828,
    "start_time": "2021-07-31T13:27:18.909Z"
   },
   {
    "duration": 906,
    "start_time": "2021-07-31T13:28:24.658Z"
   },
   {
    "duration": 943,
    "start_time": "2021-07-31T13:35:01.235Z"
   },
   {
    "duration": 620,
    "start_time": "2021-07-31T13:35:27.992Z"
   },
   {
    "duration": 91,
    "start_time": "2021-07-31T13:38:04.342Z"
   },
   {
    "duration": 48,
    "start_time": "2021-07-31T13:38:54.894Z"
   },
   {
    "duration": 6,
    "start_time": "2021-07-31T13:40:07.325Z"
   },
   {
    "duration": 783,
    "start_time": "2021-07-31T13:40:07.334Z"
   },
   {
    "duration": 11,
    "start_time": "2021-07-31T13:40:08.120Z"
   },
   {
    "duration": 88,
    "start_time": "2021-07-31T13:40:08.135Z"
   },
   {
    "duration": 9,
    "start_time": "2021-07-31T13:40:08.227Z"
   },
   {
    "duration": 870,
    "start_time": "2021-07-31T13:40:08.238Z"
   },
   {
    "duration": 283,
    "start_time": "2021-07-31T13:40:09.111Z"
   },
   {
    "duration": 10,
    "start_time": "2021-07-31T13:40:51.421Z"
   },
   {
    "duration": 875,
    "start_time": "2021-07-31T13:40:51.435Z"
   },
   {
    "duration": 17,
    "start_time": "2021-07-31T13:40:52.314Z"
   },
   {
    "duration": 16388,
    "start_time": "2021-07-31T13:40:52.334Z"
   },
   {
    "duration": 7,
    "start_time": "2021-07-31T13:41:08.725Z"
   },
   {
    "duration": 1000,
    "start_time": "2021-07-31T13:41:08.735Z"
   },
   {
    "duration": 285,
    "start_time": "2021-07-31T13:41:09.737Z"
   },
   {
    "duration": 337628,
    "start_time": "2021-07-31T13:41:15.619Z"
   },
   {
    "duration": 1720,
    "start_time": "2021-07-31T17:02:43.515Z"
   },
   {
    "duration": 902,
    "start_time": "2021-07-31T17:02:45.238Z"
   },
   {
    "duration": 12,
    "start_time": "2021-07-31T17:02:46.143Z"
   },
   {
    "duration": 123214,
    "start_time": "2021-07-31T17:02:46.158Z"
   },
   {
    "duration": 281,
    "start_time": "2021-07-31T17:04:49.374Z"
   },
   {
    "duration": 6,
    "start_time": "2021-07-31T17:08:09.368Z"
   },
   {
    "duration": 763,
    "start_time": "2021-07-31T17:08:09.377Z"
   },
   {
    "duration": 10,
    "start_time": "2021-07-31T17:08:10.143Z"
   },
   {
    "duration": 68,
    "start_time": "2021-07-31T17:08:10.155Z"
   },
   {
    "duration": 269,
    "start_time": "2021-07-31T17:08:10.227Z"
   },
   {
    "duration": 789,
    "start_time": "2021-07-31T17:12:14.291Z"
   },
   {
    "duration": 11,
    "start_time": "2021-07-31T17:12:16.049Z"
   },
   {
    "duration": 257852,
    "start_time": "2021-07-31T17:12:17.933Z"
   },
   {
    "duration": 314,
    "start_time": "2021-07-31T17:24:38.241Z"
   },
   {
    "duration": 1738,
    "start_time": "2021-07-31T17:24:47.580Z"
   },
   {
    "duration": 869,
    "start_time": "2021-07-31T17:24:49.321Z"
   },
   {
    "duration": 21,
    "start_time": "2021-07-31T17:24:50.192Z"
   },
   {
    "duration": 251362,
    "start_time": "2021-07-31T17:24:51.759Z"
   },
   {
    "duration": 329,
    "start_time": "2021-07-31T17:29:21.517Z"
   },
   {
    "duration": 1622,
    "start_time": "2021-07-31T17:29:48.162Z"
   },
   {
    "duration": 816,
    "start_time": "2021-07-31T17:29:49.787Z"
   },
   {
    "duration": 16,
    "start_time": "2021-07-31T17:29:50.607Z"
   },
   {
    "duration": 252123,
    "start_time": "2021-07-31T17:29:50.625Z"
   },
   {
    "duration": 1661,
    "start_time": "2021-07-31T17:34:46.527Z"
   },
   {
    "duration": 810,
    "start_time": "2021-07-31T17:34:48.190Z"
   },
   {
    "duration": 13,
    "start_time": "2021-07-31T17:34:49.003Z"
   },
   {
    "duration": 62,
    "start_time": "2021-07-31T17:34:49.019Z"
   },
   {
    "duration": 14,
    "start_time": "2021-07-31T17:34:51.496Z"
   },
   {
    "duration": 728,
    "start_time": "2021-07-31T17:34:54.401Z"
   },
   {
    "duration": 12,
    "start_time": "2021-07-31T17:35:34.519Z"
   },
   {
    "duration": 12,
    "start_time": "2021-07-31T17:35:40.112Z"
   },
   {
    "duration": 44,
    "start_time": "2021-07-31T17:35:42.764Z"
   },
   {
    "duration": 14,
    "start_time": "2021-07-31T17:35:43.606Z"
   },
   {
    "duration": 14,
    "start_time": "2021-07-31T17:36:03.802Z"
   },
   {
    "duration": 16,
    "start_time": "2021-07-31T17:36:29.143Z"
   },
   {
    "duration": 14,
    "start_time": "2021-07-31T17:36:43.540Z"
   },
   {
    "duration": 297,
    "start_time": "2021-07-31T17:37:01.827Z"
   },
   {
    "duration": 12,
    "start_time": "2021-07-31T17:37:10.924Z"
   },
   {
    "duration": 12,
    "start_time": "2021-07-31T17:37:43.484Z"
   },
   {
    "duration": 6,
    "start_time": "2021-07-31T17:38:23.511Z"
   },
   {
    "duration": 788,
    "start_time": "2021-07-31T17:38:27.672Z"
   },
   {
    "duration": 11,
    "start_time": "2021-07-31T17:38:28.463Z"
   },
   {
    "duration": 251792,
    "start_time": "2021-07-31T17:38:29.765Z"
   },
   {
    "duration": 1940,
    "start_time": "2021-07-31T17:43:40.669Z"
   },
   {
    "duration": 819,
    "start_time": "2021-07-31T17:43:42.612Z"
   },
   {
    "duration": 11,
    "start_time": "2021-07-31T17:43:43.433Z"
   },
   {
    "duration": 250297,
    "start_time": "2021-07-31T17:43:43.446Z"
   },
   {
    "duration": 96,
    "start_time": "2021-07-31T17:47:53.746Z"
   },
   {
    "duration": 5,
    "start_time": "2021-07-31T17:47:53.845Z"
   },
   {
    "duration": 96,
    "start_time": "2021-07-31T17:47:53.853Z"
   },
   {
    "duration": 1187,
    "start_time": "2021-07-31T17:48:06.409Z"
   },
   {
    "duration": 102,
    "start_time": "2021-07-31T17:49:04.298Z"
   },
   {
    "duration": 90,
    "start_time": "2021-07-31T17:49:19.817Z"
   },
   {
    "duration": 838,
    "start_time": "2021-07-31T17:52:08.484Z"
   },
   {
    "duration": 12,
    "start_time": "2021-07-31T17:52:16.744Z"
   },
   {
    "duration": 19494,
    "start_time": "2021-07-31T17:52:18.139Z"
   },
   {
    "duration": 303,
    "start_time": "2021-07-31T17:52:37.637Z"
   },
   {
    "duration": 6,
    "start_time": "2021-07-31T17:52:41.898Z"
   },
   {
    "duration": 831,
    "start_time": "2021-07-31T17:52:41.907Z"
   },
   {
    "duration": 11,
    "start_time": "2021-07-31T17:52:42.741Z"
   },
   {
    "duration": 236702,
    "start_time": "2021-07-31T17:52:42.754Z"
   },
   {
    "duration": 1734,
    "start_time": "2021-08-01T08:22:16.023Z"
   },
   {
    "duration": 842,
    "start_time": "2021-08-01T08:22:17.760Z"
   },
   {
    "duration": 17,
    "start_time": "2021-08-01T08:22:18.606Z"
   },
   {
    "duration": 248477,
    "start_time": "2021-08-01T08:22:18.626Z"
   },
   {
    "duration": 81,
    "start_time": "2021-08-01T08:26:27.106Z"
   },
   {
    "duration": 2375,
    "start_time": "2021-08-01T08:26:27.189Z"
   },
   {
    "duration": 833,
    "start_time": "2021-08-01T08:26:28.734Z"
   },
   {
    "duration": 827,
    "start_time": "2021-08-01T08:26:28.741Z"
   },
   {
    "duration": 823,
    "start_time": "2021-08-01T08:26:28.747Z"
   },
   {
    "duration": 816,
    "start_time": "2021-08-01T08:26:28.755Z"
   },
   {
    "duration": 16,
    "start_time": "2021-08-01T08:29:35.060Z"
   },
   {
    "duration": 1748,
    "start_time": "2021-08-01T08:29:47.517Z"
   },
   {
    "duration": 44,
    "start_time": "2021-08-01T08:33:19.894Z"
   },
   {
    "duration": 407,
    "start_time": "2021-08-01T08:33:33.981Z"
   },
   {
    "duration": 1718,
    "start_time": "2021-08-01T08:34:29.449Z"
   },
   {
    "duration": 1313,
    "start_time": "2021-08-01T08:34:31.169Z"
   },
   {
    "duration": 776,
    "start_time": "2021-08-01T08:34:31.709Z"
   },
   {
    "duration": 760,
    "start_time": "2021-08-01T08:34:31.730Z"
   },
   {
    "duration": 765,
    "start_time": "2021-08-01T08:34:31.732Z"
   },
   {
    "duration": 763,
    "start_time": "2021-08-01T08:34:31.735Z"
   },
   {
    "duration": 754,
    "start_time": "2021-08-01T08:34:31.746Z"
   },
   {
    "duration": 753,
    "start_time": "2021-08-01T08:34:31.748Z"
   },
   {
    "duration": 752,
    "start_time": "2021-08-01T08:34:31.750Z"
   },
   {
    "duration": 743,
    "start_time": "2021-08-01T08:34:31.761Z"
   },
   {
    "duration": 740,
    "start_time": "2021-08-01T08:34:31.765Z"
   },
   {
    "duration": 725,
    "start_time": "2021-08-01T08:34:31.781Z"
   },
   {
    "duration": 724,
    "start_time": "2021-08-01T08:34:31.784Z"
   },
   {
    "duration": 6,
    "start_time": "2021-08-01T08:35:04.529Z"
   },
   {
    "duration": 769,
    "start_time": "2021-08-01T08:35:04.538Z"
   },
   {
    "duration": 10,
    "start_time": "2021-08-01T08:35:05.310Z"
   },
   {
    "duration": 16079,
    "start_time": "2021-08-01T08:35:05.324Z"
   },
   {
    "duration": 478,
    "start_time": "2021-08-01T08:35:21.406Z"
   },
   {
    "duration": 438,
    "start_time": "2021-08-01T08:35:21.887Z"
   },
   {
    "duration": 880,
    "start_time": "2021-08-01T08:35:21.448Z"
   },
   {
    "duration": 857,
    "start_time": "2021-08-01T08:35:21.472Z"
   },
   {
    "duration": 856,
    "start_time": "2021-08-01T08:35:21.475Z"
   },
   {
    "duration": 855,
    "start_time": "2021-08-01T08:35:21.477Z"
   },
   {
    "duration": 853,
    "start_time": "2021-08-01T08:35:21.481Z"
   },
   {
    "duration": 851,
    "start_time": "2021-08-01T08:35:21.484Z"
   },
   {
    "duration": 851,
    "start_time": "2021-08-01T08:35:21.486Z"
   },
   {
    "duration": 3,
    "start_time": "2021-08-01T08:35:30.542Z"
   },
   {
    "duration": 1993,
    "start_time": "2021-08-01T08:35:31.199Z"
   },
   {
    "duration": 5,
    "start_time": "2021-08-01T08:35:50.966Z"
   },
   {
    "duration": 1089,
    "start_time": "2021-08-01T08:36:04.198Z"
   },
   {
    "duration": 1054,
    "start_time": "2021-08-01T08:36:21.045Z"
   },
   {
    "duration": 6,
    "start_time": "2021-08-01T08:36:44.977Z"
   },
   {
    "duration": 1072,
    "start_time": "2021-08-01T08:36:44.986Z"
   },
   {
    "duration": 21,
    "start_time": "2021-08-01T08:36:46.061Z"
   },
   {
    "duration": 159949,
    "start_time": "2021-08-01T08:36:46.085Z"
   },
   {
    "duration": 427,
    "start_time": "2021-08-01T08:40:28.637Z"
   },
   {
    "duration": 1919,
    "start_time": "2021-08-01T08:40:39.439Z"
   },
   {
    "duration": 797,
    "start_time": "2021-08-01T08:40:41.361Z"
   },
   {
    "duration": 30,
    "start_time": "2021-08-01T08:40:42.161Z"
   },
   {
    "duration": 81472,
    "start_time": "2021-08-01T08:40:42.194Z"
   },
   {
    "duration": 2101,
    "start_time": "2021-08-01T08:42:03.668Z"
   },
   {
    "duration": 9090,
    "start_time": "2021-08-01T08:42:05.772Z"
   },
   {
    "duration": 5432,
    "start_time": "2021-08-01T08:42:14.864Z"
   },
   {
    "duration": 5704,
    "start_time": "2021-08-01T08:42:20.298Z"
   },
   {
    "duration": 163,
    "start_time": "2021-08-01T08:42:26.005Z"
   },
   {
    "duration": 924,
    "start_time": "2021-08-01T08:42:25.247Z"
   },
   {
    "duration": 924,
    "start_time": "2021-08-01T08:42:25.249Z"
   },
   {
    "duration": 920,
    "start_time": "2021-08-01T08:42:25.255Z"
   },
   {
    "duration": 1726,
    "start_time": "2021-08-01T13:31:10.408Z"
   },
   {
    "duration": 737,
    "start_time": "2021-08-01T13:31:12.137Z"
   },
   {
    "duration": 12,
    "start_time": "2021-08-01T13:31:12.881Z"
   },
   {
    "duration": 146415,
    "start_time": "2021-08-01T13:31:12.895Z"
   },
   {
    "duration": 388,
    "start_time": "2021-08-01T13:34:50.799Z"
   },
   {
    "duration": 1643,
    "start_time": "2021-08-01T13:34:53.467Z"
   },
   {
    "duration": 759,
    "start_time": "2021-08-01T13:34:55.492Z"
   },
   {
    "duration": 12,
    "start_time": "2021-08-01T13:35:31.039Z"
   },
   {
    "duration": 27,
    "start_time": "2021-08-01T13:37:38.408Z"
   },
   {
    "duration": 21,
    "start_time": "2021-08-01T13:38:40.183Z"
   },
   {
    "duration": 36,
    "start_time": "2021-08-01T13:58:09.137Z"
   },
   {
    "duration": 4620,
    "start_time": "2021-08-01T13:59:01.699Z"
   },
   {
    "duration": 3875,
    "start_time": "2021-08-01T13:59:13.644Z"
   },
   {
    "duration": 4977,
    "start_time": "2021-08-01T13:59:42.745Z"
   },
   {
    "duration": 4337,
    "start_time": "2021-08-01T14:02:34.339Z"
   },
   {
    "duration": 4486,
    "start_time": "2021-08-01T14:02:47.201Z"
   },
   {
    "duration": 768,
    "start_time": "2021-08-01T14:03:05.369Z"
   },
   {
    "duration": 74,
    "start_time": "2021-08-01T14:03:06.140Z"
   },
   {
    "duration": 10,
    "start_time": "2021-08-01T14:03:13.736Z"
   },
   {
    "duration": 5,
    "start_time": "2021-08-01T14:07:01.430Z"
   },
   {
    "duration": 787,
    "start_time": "2021-08-01T14:07:01.439Z"
   },
   {
    "duration": 12,
    "start_time": "2021-08-01T14:07:02.229Z"
   },
   {
    "duration": 81,
    "start_time": "2021-08-01T14:07:02.244Z"
   },
   {
    "duration": 137294,
    "start_time": "2021-08-01T14:07:02.328Z"
   },
   {
    "duration": 1641,
    "start_time": "2021-08-01T14:10:07.079Z"
   },
   {
    "duration": 766,
    "start_time": "2021-08-01T14:10:08.723Z"
   },
   {
    "duration": 13,
    "start_time": "2021-08-01T14:10:09.492Z"
   },
   {
    "duration": 76,
    "start_time": "2021-08-01T14:10:09.508Z"
   },
   {
    "duration": 102207,
    "start_time": "2021-08-01T14:10:09.586Z"
   },
   {
    "duration": 2841,
    "start_time": "2021-08-01T14:11:51.795Z"
   },
   {
    "duration": 12161,
    "start_time": "2021-08-01T14:11:54.639Z"
   },
   {
    "duration": 5393,
    "start_time": "2021-08-01T14:12:06.804Z"
   },
   {
    "duration": 8907,
    "start_time": "2021-08-01T14:12:12.200Z"
   },
   {
    "duration": 4,
    "start_time": "2021-08-01T14:12:21.109Z"
   },
   {
    "duration": 24606,
    "start_time": "2021-08-01T14:12:21.115Z"
   },
   {
    "duration": 3,
    "start_time": "2021-08-01T14:12:45.724Z"
   },
   {
    "duration": 25071,
    "start_time": "2021-08-01T14:12:45.729Z"
   },
   {
    "duration": 16405,
    "start_time": "2021-08-01T14:13:10.803Z"
   },
   {
    "duration": 715,
    "start_time": "2021-08-01T14:13:27.211Z"
   },
   {
    "duration": 516,
    "start_time": "2021-08-01T14:13:27.413Z"
   },
   {
    "duration": 515,
    "start_time": "2021-08-01T14:13:27.416Z"
   },
   {
    "duration": 6,
    "start_time": "2021-08-01T14:16:36.495Z"
   },
   {
    "duration": 784,
    "start_time": "2021-08-01T14:16:36.504Z"
   },
   {
    "duration": 14,
    "start_time": "2021-08-01T14:16:37.292Z"
   },
   {
    "duration": 84,
    "start_time": "2021-08-01T14:16:37.309Z"
   },
   {
    "duration": 130795,
    "start_time": "2021-08-01T14:16:37.396Z"
   },
   {
    "duration": 1717,
    "start_time": "2021-08-01T14:27:22.233Z"
   },
   {
    "duration": 767,
    "start_time": "2021-08-01T14:27:23.952Z"
   },
   {
    "duration": 12,
    "start_time": "2021-08-01T14:27:24.722Z"
   },
   {
    "duration": 77,
    "start_time": "2021-08-01T14:27:24.737Z"
   },
   {
    "duration": 117290,
    "start_time": "2021-08-01T14:27:24.817Z"
   },
   {
    "duration": 381,
    "start_time": "2021-08-01T14:30:44.853Z"
   },
   {
    "duration": 1684,
    "start_time": "2021-08-01T14:31:20.374Z"
   },
   {
    "duration": 764,
    "start_time": "2021-08-01T14:31:22.061Z"
   },
   {
    "duration": 12,
    "start_time": "2021-08-01T14:31:22.828Z"
   },
   {
    "duration": 68,
    "start_time": "2021-08-01T14:31:22.843Z"
   },
   {
    "duration": 23353,
    "start_time": "2021-08-01T14:31:22.913Z"
   },
   {
    "duration": 428,
    "start_time": "2021-08-01T14:31:45.841Z"
   },
   {
    "duration": 422,
    "start_time": "2021-08-01T14:31:45.848Z"
   },
   {
    "duration": 420,
    "start_time": "2021-08-01T14:31:45.851Z"
   },
   {
    "duration": 416,
    "start_time": "2021-08-01T14:31:45.856Z"
   },
   {
    "duration": 410,
    "start_time": "2021-08-01T14:31:45.864Z"
   },
   {
    "duration": 408,
    "start_time": "2021-08-01T14:31:45.867Z"
   },
   {
    "duration": 405,
    "start_time": "2021-08-01T14:31:45.872Z"
   },
   {
    "duration": 402,
    "start_time": "2021-08-01T14:31:45.876Z"
   },
   {
    "duration": 399,
    "start_time": "2021-08-01T14:31:45.881Z"
   },
   {
    "duration": 397,
    "start_time": "2021-08-01T14:31:45.884Z"
   },
   {
    "duration": 394,
    "start_time": "2021-08-01T14:31:45.888Z"
   },
   {
    "duration": 393,
    "start_time": "2021-08-01T14:31:45.891Z"
   },
   {
    "duration": 6,
    "start_time": "2021-08-01T14:32:02.653Z"
   },
   {
    "duration": 760,
    "start_time": "2021-08-01T14:32:02.662Z"
   },
   {
    "duration": 11,
    "start_time": "2021-08-01T14:32:03.425Z"
   },
   {
    "duration": 68,
    "start_time": "2021-08-01T14:32:03.439Z"
   },
   {
    "duration": 1706,
    "start_time": "2021-08-02T08:20:54.845Z"
   },
   {
    "duration": 839,
    "start_time": "2021-08-02T08:20:56.554Z"
   },
   {
    "duration": 11,
    "start_time": "2021-08-02T08:20:57.396Z"
   },
   {
    "duration": 45,
    "start_time": "2021-08-02T08:20:57.409Z"
   },
   {
    "duration": 106631,
    "start_time": "2021-08-02T08:20:57.456Z"
   },
   {
    "duration": 3046,
    "start_time": "2021-08-02T08:22:44.089Z"
   },
   {
    "duration": 5917,
    "start_time": "2021-08-02T08:22:47.138Z"
   },
   {
    "duration": 6134,
    "start_time": "2021-08-02T08:22:53.058Z"
   },
   {
    "duration": 6793,
    "start_time": "2021-08-02T08:22:59.197Z"
   },
   {
    "duration": 106139,
    "start_time": "2021-08-02T08:23:05.993Z"
   },
   {
    "duration": 854,
    "start_time": "2021-08-02T08:24:51.280Z"
   },
   {
    "duration": 847,
    "start_time": "2021-08-02T08:24:51.289Z"
   },
   {
    "duration": 840,
    "start_time": "2021-08-02T08:24:51.297Z"
   },
   {
    "duration": 834,
    "start_time": "2021-08-02T08:24:51.305Z"
   },
   {
    "duration": 828,
    "start_time": "2021-08-02T08:24:51.312Z"
   },
   {
    "duration": 105843,
    "start_time": "2021-08-02T08:25:20.130Z"
   },
   {
    "duration": 27701,
    "start_time": "2021-08-02T08:27:05.976Z"
   },
   {
    "duration": 77503,
    "start_time": "2021-08-02T08:27:33.680Z"
   },
   {
    "duration": 239721,
    "start_time": "2021-08-02T08:29:18.926Z"
   },
   {
    "duration": 121955,
    "start_time": "2021-08-02T08:33:18.649Z"
   },
   {
    "duration": 14306,
    "start_time": "2021-08-02T08:35:24.355Z"
   },
   {
    "duration": 32212,
    "start_time": "2021-08-02T08:35:38.667Z"
   },
   {
    "duration": 356,
    "start_time": "2021-08-02T08:36:27.913Z"
   },
   {
    "duration": 324,
    "start_time": "2021-08-02T08:37:20.170Z"
   },
   {
    "duration": 372,
    "start_time": "2021-08-02T08:37:24.786Z"
   },
   {
    "duration": 5362,
    "start_time": "2021-08-02T08:37:45.508Z"
   },
   {
    "duration": 358,
    "start_time": "2021-08-02T08:38:30.708Z"
   },
   {
    "duration": 6684,
    "start_time": "2021-08-02T08:38:43.798Z"
   },
   {
    "duration": 6898,
    "start_time": "2021-08-02T08:39:07.596Z"
   },
   {
    "duration": 16,
    "start_time": "2021-08-02T08:40:42.117Z"
   },
   {
    "duration": 17,
    "start_time": "2021-08-02T08:40:52.188Z"
   },
   {
    "duration": 18,
    "start_time": "2021-08-02T08:41:07.144Z"
   },
   {
    "duration": 21,
    "start_time": "2021-08-02T08:41:15.019Z"
   },
   {
    "duration": 16,
    "start_time": "2021-08-02T08:41:21.909Z"
   },
   {
    "duration": 29933,
    "start_time": "2021-08-02T08:41:37.038Z"
   },
   {
    "duration": 16,
    "start_time": "2021-08-02T08:43:09.393Z"
   },
   {
    "duration": 21203,
    "start_time": "2021-08-02T08:43:13.250Z"
   },
   {
    "duration": 23,
    "start_time": "2021-08-02T08:43:34.455Z"
   },
   {
    "duration": 352,
    "start_time": "2021-08-02T08:46:32.580Z"
   },
   {
    "duration": 1794,
    "start_time": "2021-08-02T08:47:23.302Z"
   },
   {
    "duration": 1159,
    "start_time": "2021-08-02T08:47:25.098Z"
   },
   {
    "duration": 15,
    "start_time": "2021-08-02T08:47:26.269Z"
   },
   {
    "duration": 86,
    "start_time": "2021-08-02T08:47:26.287Z"
   },
   {
    "duration": 146008,
    "start_time": "2021-08-02T08:47:26.376Z"
   },
   {
    "duration": 3002,
    "start_time": "2021-08-02T08:49:52.386Z"
   },
   {
    "duration": 5823,
    "start_time": "2021-08-02T08:49:55.391Z"
   },
   {
    "duration": 5166,
    "start_time": "2021-08-02T08:50:01.217Z"
   },
   {
    "duration": 7505,
    "start_time": "2021-08-02T08:50:06.385Z"
   },
   {
    "duration": 116774,
    "start_time": "2021-08-02T08:50:13.893Z"
   },
   {
    "duration": 14590,
    "start_time": "2021-08-02T08:52:10.669Z"
   },
   {
    "duration": 29923,
    "start_time": "2021-08-02T08:52:25.266Z"
   },
   {
    "duration": 18,
    "start_time": "2021-08-02T08:52:55.191Z"
   },
   {
    "duration": 22679,
    "start_time": "2021-08-02T08:52:55.211Z"
   },
   {
    "duration": 12,
    "start_time": "2021-08-02T08:53:17.892Z"
   },
   {
    "duration": 518,
    "start_time": "2021-08-02T08:53:17.907Z"
   },
   {
    "duration": 537,
    "start_time": "2021-08-02T08:54:11.408Z"
   },
   {
    "duration": 2979,
    "start_time": "2021-08-02T08:54:32.254Z"
   },
   {
    "duration": 385,
    "start_time": "2021-08-02T09:48:03.206Z"
   },
   {
    "duration": 1746,
    "start_time": "2021-08-02T09:48:10.109Z"
   },
   {
    "duration": 839,
    "start_time": "2021-08-02T09:48:11.858Z"
   },
   {
    "duration": 11,
    "start_time": "2021-08-02T09:48:12.700Z"
   },
   {
    "duration": 78,
    "start_time": "2021-08-02T09:48:12.713Z"
   },
   {
    "duration": 118336,
    "start_time": "2021-08-02T09:48:12.794Z"
   },
   {
    "duration": 3050,
    "start_time": "2021-08-02T09:50:11.132Z"
   },
   {
    "duration": 6498,
    "start_time": "2021-08-02T09:50:14.185Z"
   },
   {
    "duration": 5403,
    "start_time": "2021-08-02T09:50:20.687Z"
   },
   {
    "duration": 7094,
    "start_time": "2021-08-02T09:50:26.093Z"
   },
   {
    "duration": 118540,
    "start_time": "2021-08-02T09:50:33.190Z"
   },
   {
    "duration": 16063,
    "start_time": "2021-08-02T09:52:31.733Z"
   },
   {
    "duration": 14858,
    "start_time": "2021-08-02T09:52:47.799Z"
   },
   {
    "duration": 26,
    "start_time": "2021-08-02T09:53:02.667Z"
   },
   {
    "duration": 20769,
    "start_time": "2021-08-02T09:53:02.695Z"
   },
   {
    "duration": 18,
    "start_time": "2021-08-02T09:53:23.467Z"
   },
   {
    "duration": 595,
    "start_time": "2021-08-02T09:53:23.487Z"
   },
   {
    "duration": 437,
    "start_time": "2021-08-02T09:53:24.085Z"
   },
   {
    "duration": 22773,
    "start_time": "2021-08-02T09:53:44.483Z"
   },
   {
    "duration": 14,
    "start_time": "2021-08-02T09:54:13.475Z"
   },
   {
    "duration": 561,
    "start_time": "2021-08-02T09:54:54.725Z"
   },
   {
    "duration": 21,
    "start_time": "2021-08-02T09:55:28.815Z"
   },
   {
    "duration": 18,
    "start_time": "2021-08-02T09:55:41.277Z"
   },
   {
    "duration": 7,
    "start_time": "2021-08-02T09:57:00.571Z"
   },
   {
    "duration": 834,
    "start_time": "2021-08-02T09:57:00.580Z"
   },
   {
    "duration": 11,
    "start_time": "2021-08-02T09:57:01.417Z"
   },
   {
    "duration": 79,
    "start_time": "2021-08-02T09:57:01.431Z"
   },
   {
    "duration": 149486,
    "start_time": "2021-08-02T09:57:01.513Z"
   },
   {
    "duration": 1681,
    "start_time": "2021-08-02T10:02:44.167Z"
   },
   {
    "duration": 817,
    "start_time": "2021-08-02T10:02:45.850Z"
   },
   {
    "duration": 13,
    "start_time": "2021-08-02T10:02:46.671Z"
   },
   {
    "duration": 80,
    "start_time": "2021-08-02T10:02:46.687Z"
   },
   {
    "duration": 121856,
    "start_time": "2021-08-02T10:02:46.770Z"
   },
   {
    "duration": 3299,
    "start_time": "2021-08-02T10:04:48.629Z"
   },
   {
    "duration": 6827,
    "start_time": "2021-08-02T10:04:51.931Z"
   },
   {
    "duration": 7936,
    "start_time": "2021-08-02T10:04:58.760Z"
   },
   {
    "duration": 9188,
    "start_time": "2021-08-02T10:05:06.700Z"
   },
   {
    "duration": 138842,
    "start_time": "2021-08-02T10:05:15.890Z"
   },
   {
    "duration": 15074,
    "start_time": "2021-08-02T10:07:34.735Z"
   },
   {
    "duration": 14265,
    "start_time": "2021-08-02T10:07:49.812Z"
   },
   {
    "duration": 19,
    "start_time": "2021-08-02T10:08:04.080Z"
   },
   {
    "duration": 26575,
    "start_time": "2021-08-02T10:08:04.102Z"
   },
   {
    "duration": 14,
    "start_time": "2021-08-02T10:08:30.680Z"
   },
   {
    "duration": 3200,
    "start_time": "2021-08-02T10:12:53.626Z"
   },
   {
    "duration": 20,
    "start_time": "2021-08-02T10:12:56.829Z"
   },
   {
    "duration": 23276,
    "start_time": "2021-08-02T10:12:56.873Z"
   },
   {
    "duration": 23,
    "start_time": "2021-08-02T10:13:20.151Z"
   },
   {
    "duration": 23087,
    "start_time": "2021-08-02T10:15:02.758Z"
   },
   {
    "duration": 23,
    "start_time": "2021-08-02T10:15:25.848Z"
   },
   {
    "duration": 5,
    "start_time": "2021-08-02T10:22:51.024Z"
   },
   {
    "duration": 1819,
    "start_time": "2021-08-02T10:23:06.508Z"
   },
   {
    "duration": 830,
    "start_time": "2021-08-02T10:23:08.330Z"
   },
   {
    "duration": 15,
    "start_time": "2021-08-02T10:23:09.168Z"
   },
   {
    "duration": 41,
    "start_time": "2021-08-02T10:23:09.188Z"
   },
   {
    "duration": 19126,
    "start_time": "2021-08-02T10:23:09.232Z"
   },
   {
    "duration": 131,
    "start_time": "2021-08-02T10:23:37.059Z"
   },
   {
    "duration": 129,
    "start_time": "2021-08-02T10:23:37.062Z"
   },
   {
    "duration": 129,
    "start_time": "2021-08-02T10:23:37.064Z"
   },
   {
    "duration": 127,
    "start_time": "2021-08-02T10:23:37.067Z"
   },
   {
    "duration": 125,
    "start_time": "2021-08-02T10:23:37.070Z"
   },
   {
    "duration": 124,
    "start_time": "2021-08-02T10:23:37.073Z"
   },
   {
    "duration": 123,
    "start_time": "2021-08-02T10:23:37.075Z"
   },
   {
    "duration": 122,
    "start_time": "2021-08-02T10:23:37.077Z"
   },
   {
    "duration": 122,
    "start_time": "2021-08-02T10:23:37.079Z"
   },
   {
    "duration": 121,
    "start_time": "2021-08-02T10:23:37.081Z"
   },
   {
    "duration": 120,
    "start_time": "2021-08-02T10:23:37.083Z"
   },
   {
    "duration": 121,
    "start_time": "2021-08-02T10:23:37.084Z"
   },
   {
    "duration": 120,
    "start_time": "2021-08-02T10:23:37.086Z"
   },
   {
    "duration": 118,
    "start_time": "2021-08-02T10:23:37.089Z"
   },
   {
    "duration": 117,
    "start_time": "2021-08-02T10:23:37.091Z"
   },
   {
    "duration": 7,
    "start_time": "2021-08-02T10:25:49.669Z"
   },
   {
    "duration": 941,
    "start_time": "2021-08-02T10:25:49.679Z"
   },
   {
    "duration": 12,
    "start_time": "2021-08-02T10:25:50.623Z"
   },
   {
    "duration": 51,
    "start_time": "2021-08-02T10:25:50.637Z"
   },
   {
    "duration": 116917,
    "start_time": "2021-08-02T10:25:50.691Z"
   },
   {
    "duration": 3024,
    "start_time": "2021-08-02T10:27:47.610Z"
   },
   {
    "duration": 6337,
    "start_time": "2021-08-02T10:27:50.637Z"
   },
   {
    "duration": 5002,
    "start_time": "2021-08-02T10:27:56.978Z"
   },
   {
    "duration": 6798,
    "start_time": "2021-08-02T10:28:01.983Z"
   },
   {
    "duration": 115149,
    "start_time": "2021-08-02T10:28:08.784Z"
   },
   {
    "duration": 12689,
    "start_time": "2021-08-02T10:30:03.935Z"
   },
   {
    "duration": 2423,
    "start_time": "2021-08-02T10:30:16.627Z"
   },
   {
    "duration": 31,
    "start_time": "2021-08-02T10:30:19.054Z"
   },
   {
    "duration": 19896,
    "start_time": "2021-08-02T10:30:19.087Z"
   },
   {
    "duration": 14,
    "start_time": "2021-08-02T10:30:38.985Z"
   },
   {
    "duration": 16,
    "start_time": "2021-08-02T10:35:32.019Z"
   },
   {
    "duration": 23,
    "start_time": "2021-08-02T10:35:43.859Z"
   },
   {
    "duration": 14,
    "start_time": "2021-08-02T10:40:07.867Z"
   },
   {
    "duration": 6,
    "start_time": "2021-08-02T10:41:31.545Z"
   },
   {
    "duration": 891,
    "start_time": "2021-08-02T10:41:31.554Z"
   },
   {
    "duration": 22,
    "start_time": "2021-08-02T10:41:32.449Z"
   },
   {
    "duration": 51,
    "start_time": "2021-08-02T10:41:32.475Z"
   },
   {
    "duration": 128250,
    "start_time": "2021-08-02T10:41:32.528Z"
   },
   {
    "duration": 1721,
    "start_time": "2021-08-02T10:44:04.637Z"
   },
   {
    "duration": 828,
    "start_time": "2021-08-02T10:44:06.360Z"
   },
   {
    "duration": 13,
    "start_time": "2021-08-02T10:44:07.191Z"
   },
   {
    "duration": 75,
    "start_time": "2021-08-02T10:44:07.207Z"
   },
   {
    "duration": 131096,
    "start_time": "2021-08-02T10:44:07.285Z"
   },
   {
    "duration": 3279,
    "start_time": "2021-08-02T10:46:18.383Z"
   },
   {
    "duration": 6926,
    "start_time": "2021-08-02T10:46:21.667Z"
   },
   {
    "duration": 7396,
    "start_time": "2021-08-02T10:46:28.595Z"
   },
   {
    "duration": 8306,
    "start_time": "2021-08-02T10:46:35.995Z"
   },
   {
    "duration": 133592,
    "start_time": "2021-08-02T10:46:44.303Z"
   },
   {
    "duration": 15151,
    "start_time": "2021-08-02T10:48:57.898Z"
   },
   {
    "duration": 3494,
    "start_time": "2021-08-02T10:49:13.052Z"
   },
   {
    "duration": 30,
    "start_time": "2021-08-02T10:49:16.548Z"
   },
   {
    "duration": 22867,
    "start_time": "2021-08-02T10:49:16.580Z"
   },
   {
    "duration": 20,
    "start_time": "2021-08-02T10:49:39.450Z"
   },
   {
    "duration": 7,
    "start_time": "2021-08-02T10:52:31.587Z"
   },
   {
    "duration": 1722,
    "start_time": "2021-08-02T10:54:57.021Z"
   },
   {
    "duration": 782,
    "start_time": "2021-08-02T10:54:58.746Z"
   },
   {
    "duration": 13,
    "start_time": "2021-08-02T10:54:59.532Z"
   },
   {
    "duration": 75,
    "start_time": "2021-08-02T10:54:59.547Z"
   },
   {
    "duration": 160951,
    "start_time": "2021-08-02T10:54:59.625Z"
   },
   {
    "duration": 1698,
    "start_time": "2021-08-02T10:58:09.514Z"
   },
   {
    "duration": 822,
    "start_time": "2021-08-02T10:58:11.215Z"
   },
   {
    "duration": 29,
    "start_time": "2021-08-02T10:58:12.041Z"
   },
   {
    "duration": 100,
    "start_time": "2021-08-02T10:58:12.073Z"
   },
   {
    "duration": -3104,
    "start_time": "2021-08-02T11:00:09.866Z"
   },
   {
    "duration": -3111,
    "start_time": "2021-08-02T11:00:09.874Z"
   },
   {
    "duration": -3117,
    "start_time": "2021-08-02T11:00:09.882Z"
   },
   {
    "duration": -3125,
    "start_time": "2021-08-02T11:00:09.891Z"
   },
   {
    "duration": -3132,
    "start_time": "2021-08-02T11:00:09.899Z"
   },
   {
    "duration": -3137,
    "start_time": "2021-08-02T11:00:09.906Z"
   },
   {
    "duration": -3142,
    "start_time": "2021-08-02T11:00:09.912Z"
   },
   {
    "duration": -3146,
    "start_time": "2021-08-02T11:00:09.917Z"
   },
   {
    "duration": -3151,
    "start_time": "2021-08-02T11:00:09.924Z"
   },
   {
    "duration": -3154,
    "start_time": "2021-08-02T11:00:09.929Z"
   },
   {
    "duration": -3159,
    "start_time": "2021-08-02T11:00:09.935Z"
   },
   {
    "duration": -3161,
    "start_time": "2021-08-02T11:00:09.939Z"
   },
   {
    "duration": -3163,
    "start_time": "2021-08-02T11:00:09.943Z"
   },
   {
    "duration": -3166,
    "start_time": "2021-08-02T11:00:09.947Z"
   },
   {
    "duration": -3176,
    "start_time": "2021-08-02T11:00:09.959Z"
   },
   {
    "duration": -3180,
    "start_time": "2021-08-02T11:00:09.964Z"
   },
   {
    "duration": -3184,
    "start_time": "2021-08-02T11:00:09.969Z"
   },
   {
    "duration": 6,
    "start_time": "2021-08-02T11:00:13.994Z"
   },
   {
    "duration": 795,
    "start_time": "2021-08-02T11:00:14.003Z"
   },
   {
    "duration": 13,
    "start_time": "2021-08-02T11:00:14.802Z"
   },
   {
    "duration": 91,
    "start_time": "2021-08-02T11:00:14.819Z"
   },
   {
    "duration": 152358,
    "start_time": "2021-08-02T11:00:14.913Z"
   },
   {
    "duration": 1729,
    "start_time": "2021-08-02T11:03:10.348Z"
   },
   {
    "duration": 840,
    "start_time": "2021-08-02T11:03:12.081Z"
   },
   {
    "duration": 12,
    "start_time": "2021-08-02T11:03:12.924Z"
   },
   {
    "duration": 79,
    "start_time": "2021-08-02T11:03:12.939Z"
   },
   {
    "duration": 130139,
    "start_time": "2021-08-02T11:03:13.020Z"
   },
   {
    "duration": 1734,
    "start_time": "2021-08-02T11:05:43.752Z"
   },
   {
    "duration": 823,
    "start_time": "2021-08-02T11:05:45.489Z"
   },
   {
    "duration": 13,
    "start_time": "2021-08-02T11:05:46.315Z"
   },
   {
    "duration": 75,
    "start_time": "2021-08-02T11:05:46.331Z"
   },
   {
    "duration": 109368,
    "start_time": "2021-08-02T11:05:46.409Z"
   },
   {
    "duration": 3224,
    "start_time": "2021-08-02T11:07:35.781Z"
   },
   {
    "duration": 5873,
    "start_time": "2021-08-02T11:07:39.008Z"
   },
   {
    "duration": 19268,
    "start_time": "2021-08-02T11:07:44.885Z"
   },
   {
    "duration": 548,
    "start_time": "2021-08-02T11:08:04.155Z"
   },
   {
    "duration": 116,
    "start_time": "2021-08-02T11:08:04.590Z"
   },
   {
    "duration": 102,
    "start_time": "2021-08-02T11:08:04.606Z"
   },
   {
    "duration": 103,
    "start_time": "2021-08-02T11:08:04.608Z"
   },
   {
    "duration": 103,
    "start_time": "2021-08-02T11:08:04.610Z"
   },
   {
    "duration": 99,
    "start_time": "2021-08-02T11:08:04.616Z"
   },
   {
    "duration": 92,
    "start_time": "2021-08-02T11:08:04.625Z"
   },
   {
    "duration": 88,
    "start_time": "2021-08-02T11:08:04.631Z"
   },
   {
    "duration": 79,
    "start_time": "2021-08-02T11:08:04.642Z"
   },
   {
    "duration": 16,
    "start_time": "2021-08-02T11:08:18.916Z"
   },
   {
    "duration": 13,
    "start_time": "2021-08-02T11:08:30.018Z"
   },
   {
    "duration": 5,
    "start_time": "2021-08-02T11:10:12.397Z"
   },
   {
    "duration": 814,
    "start_time": "2021-08-02T11:10:12.405Z"
   },
   {
    "duration": 11,
    "start_time": "2021-08-02T11:10:13.222Z"
   },
   {
    "duration": 69,
    "start_time": "2021-08-02T11:10:13.236Z"
   },
   {
    "duration": 121948,
    "start_time": "2021-08-02T11:10:13.308Z"
   },
   {
    "duration": 1756,
    "start_time": "2021-08-02T11:48:37.554Z"
   },
   {
    "duration": 847,
    "start_time": "2021-08-02T11:48:39.313Z"
   },
   {
    "duration": 20,
    "start_time": "2021-08-02T11:48:40.164Z"
   },
   {
    "duration": 103,
    "start_time": "2021-08-02T11:48:40.188Z"
   },
   {
    "duration": 123960,
    "start_time": "2021-08-02T11:48:40.293Z"
   },
   {
    "duration": 3225,
    "start_time": "2021-08-02T11:50:44.256Z"
   },
   {
    "duration": 6794,
    "start_time": "2021-08-02T11:50:47.483Z"
   },
   {
    "duration": 6409,
    "start_time": "2021-08-02T11:50:54.279Z"
   },
   {
    "duration": 9900,
    "start_time": "2021-08-02T11:51:00.692Z"
   },
   {
    "duration": 132004,
    "start_time": "2021-08-02T11:51:10.595Z"
   },
   {
    "duration": 15231,
    "start_time": "2021-08-02T11:53:22.601Z"
   },
   {
    "duration": 3361,
    "start_time": "2021-08-02T11:53:37.834Z"
   },
   {
    "duration": 17,
    "start_time": "2021-08-02T11:53:41.197Z"
   },
   {
    "duration": 24456,
    "start_time": "2021-08-02T11:53:41.216Z"
   },
   {
    "duration": 14,
    "start_time": "2021-08-02T11:54:05.674Z"
   },
   {
    "duration": 89,
    "start_time": "2021-08-05T07:53:14.496Z"
   },
   {
    "duration": 1622,
    "start_time": "2021-08-05T07:57:22.937Z"
   },
   {
    "duration": 745,
    "start_time": "2021-08-05T07:57:24.561Z"
   },
   {
    "duration": 11,
    "start_time": "2021-08-05T07:57:25.309Z"
   },
   {
    "duration": 45,
    "start_time": "2021-08-05T07:57:25.323Z"
   },
   {
    "duration": 104173,
    "start_time": "2021-08-05T07:57:25.371Z"
   },
   {
    "duration": 2992,
    "start_time": "2021-08-05T07:59:09.555Z"
   },
   {
    "duration": 5825,
    "start_time": "2021-08-05T07:59:12.549Z"
   },
   {
    "duration": 5395,
    "start_time": "2021-08-05T07:59:18.377Z"
   },
   {
    "duration": 8411,
    "start_time": "2021-08-05T07:59:23.774Z"
   },
   {
    "duration": 103710,
    "start_time": "2021-08-05T07:59:32.188Z"
   },
   {
    "duration": 11558,
    "start_time": "2021-08-05T08:01:15.901Z"
   },
   {
    "duration": 2191,
    "start_time": "2021-08-05T08:01:27.461Z"
   },
   {
    "duration": 14,
    "start_time": "2021-08-05T08:01:29.654Z"
   },
   {
    "duration": 20077,
    "start_time": "2021-08-05T08:01:29.670Z"
   },
   {
    "duration": 15,
    "start_time": "2021-08-05T08:01:49.749Z"
   },
   {
    "duration": 120779,
    "start_time": "2021-08-05T08:09:27.763Z"
   },
   {
    "duration": 161663,
    "start_time": "2021-08-05T08:12:10.793Z"
   },
   {
    "duration": 105491,
    "start_time": "2021-08-05T08:16:06.991Z"
   },
   {
    "duration": 208980,
    "start_time": "2021-08-05T08:18:36.264Z"
   },
   {
    "duration": 28779,
    "start_time": "2021-08-05T08:22:58.533Z"
   },
   {
    "duration": 13,
    "start_time": "2021-08-05T08:23:27.314Z"
   },
   {
    "duration": 6,
    "start_time": "2021-08-05T08:26:42.706Z"
   },
   {
    "duration": 806,
    "start_time": "2021-08-05T08:26:42.715Z"
   },
   {
    "duration": 32,
    "start_time": "2021-08-05T08:26:43.524Z"
   },
   {
    "duration": 27,
    "start_time": "2021-08-05T08:26:43.558Z"
   },
   {
    "duration": 103523,
    "start_time": "2021-08-05T08:26:43.588Z"
   },
   {
    "duration": 1683,
    "start_time": "2021-08-05T08:28:45.031Z"
   },
   {
    "duration": 778,
    "start_time": "2021-08-05T08:28:46.717Z"
   },
   {
    "duration": 11,
    "start_time": "2021-08-05T08:28:47.498Z"
   },
   {
    "duration": 51,
    "start_time": "2021-08-05T08:28:47.512Z"
   },
   {
    "duration": 102068,
    "start_time": "2021-08-05T08:28:47.565Z"
   },
   {
    "duration": 2905,
    "start_time": "2021-08-05T08:30:29.636Z"
   },
   {
    "duration": 7000,
    "start_time": "2021-08-05T08:30:32.543Z"
   },
   {
    "duration": 5528,
    "start_time": "2021-08-05T08:30:39.546Z"
   },
   {
    "duration": 102654,
    "start_time": "2021-08-05T08:30:45.079Z"
   },
   {
    "duration": 102429,
    "start_time": "2021-08-05T08:32:27.737Z"
   },
   {
    "duration": 11675,
    "start_time": "2021-08-05T08:34:10.168Z"
   },
   {
    "duration": 2246,
    "start_time": "2021-08-05T08:34:21.845Z"
   },
   {
    "duration": 15,
    "start_time": "2021-08-05T08:34:24.095Z"
   },
   {
    "duration": 29737,
    "start_time": "2021-08-05T08:34:24.113Z"
   },
   {
    "duration": 13,
    "start_time": "2021-08-05T08:34:53.853Z"
   }
  ],
  "kernelspec": {
   "display_name": "Python 3",
   "language": "python",
   "name": "python3"
  },
  "language_info": {
   "codemirror_mode": {
    "name": "ipython",
    "version": 3
   },
   "file_extension": ".py",
   "mimetype": "text/x-python",
   "name": "python",
   "nbconvert_exporter": "python",
   "pygments_lexer": "ipython3",
   "version": "3.7.8"
  },
  "toc": {
   "base_numbering": 1,
   "nav_menu": {},
   "number_sections": true,
   "sideBar": true,
   "skip_h1_title": true,
   "title_cell": "Содержание",
   "title_sidebar": "Contents",
   "toc_cell": true,
   "toc_position": {
    "height": "calc(100% - 180px)",
    "left": "10px",
    "top": "150px",
    "width": "165px"
   },
   "toc_section_display": true,
   "toc_window_display": false
  }
 },
 "nbformat": 4,
 "nbformat_minor": 2
}
