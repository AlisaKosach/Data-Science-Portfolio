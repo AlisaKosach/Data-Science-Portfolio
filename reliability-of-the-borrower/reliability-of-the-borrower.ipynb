{
 "cells": [
  {
   "cell_type": "markdown",
   "metadata": {},
   "source": [
    "# Исследование надёжности заёмщиков\n",
    "\n",
    "Цель проекта: определить есть ли зависимость между различными характеристиками заёмщиков (семейным положением, количеством детей, доходом и целью кредита) и возвращением кредита в срок."
   ]
  },
  {
   "cell_type": "markdown",
   "metadata": {},
   "source": [
    "## Шаг 1. Откройте файл с данными и изучите общую информацию"
   ]
  },
  {
   "cell_type": "code",
   "execution_count": 1,
   "metadata": {},
   "outputs": [
    {
     "name": "stdout",
     "output_type": "stream",
     "text": [
      "<class 'pandas.core.frame.DataFrame'>\n",
      "RangeIndex: 21525 entries, 0 to 21524\n",
      "Data columns (total 12 columns):\n",
      "children            21525 non-null int64\n",
      "days_employed       19351 non-null float64\n",
      "dob_years           21525 non-null int64\n",
      "education           21525 non-null object\n",
      "education_id        21525 non-null int64\n",
      "family_status       21525 non-null object\n",
      "family_status_id    21525 non-null int64\n",
      "gender              21525 non-null object\n",
      "income_type         21525 non-null object\n",
      "debt                21525 non-null int64\n",
      "total_income        19351 non-null float64\n",
      "purpose             21525 non-null object\n",
      "dtypes: float64(2), int64(5), object(5)\n",
      "memory usage: 2.0+ MB\n"
     ]
    },
    {
     "data": {
      "text/html": [
       "<div>\n",
       "<style scoped>\n",
       "    .dataframe tbody tr th:only-of-type {\n",
       "        vertical-align: middle;\n",
       "    }\n",
       "\n",
       "    .dataframe tbody tr th {\n",
       "        vertical-align: top;\n",
       "    }\n",
       "\n",
       "    .dataframe thead th {\n",
       "        text-align: right;\n",
       "    }\n",
       "</style>\n",
       "<table border=\"1\" class=\"dataframe\">\n",
       "  <thead>\n",
       "    <tr style=\"text-align: right;\">\n",
       "      <th></th>\n",
       "      <th>children</th>\n",
       "      <th>days_employed</th>\n",
       "      <th>dob_years</th>\n",
       "      <th>education</th>\n",
       "      <th>education_id</th>\n",
       "      <th>family_status</th>\n",
       "      <th>family_status_id</th>\n",
       "      <th>gender</th>\n",
       "      <th>income_type</th>\n",
       "      <th>debt</th>\n",
       "      <th>total_income</th>\n",
       "      <th>purpose</th>\n",
       "    </tr>\n",
       "  </thead>\n",
       "  <tbody>\n",
       "    <tr>\n",
       "      <td>0</td>\n",
       "      <td>1</td>\n",
       "      <td>-8437.673028</td>\n",
       "      <td>42</td>\n",
       "      <td>высшее</td>\n",
       "      <td>0</td>\n",
       "      <td>женат / замужем</td>\n",
       "      <td>0</td>\n",
       "      <td>F</td>\n",
       "      <td>сотрудник</td>\n",
       "      <td>0</td>\n",
       "      <td>253875.639453</td>\n",
       "      <td>покупка жилья</td>\n",
       "    </tr>\n",
       "    <tr>\n",
       "      <td>1</td>\n",
       "      <td>1</td>\n",
       "      <td>-4024.803754</td>\n",
       "      <td>36</td>\n",
       "      <td>среднее</td>\n",
       "      <td>1</td>\n",
       "      <td>женат / замужем</td>\n",
       "      <td>0</td>\n",
       "      <td>F</td>\n",
       "      <td>сотрудник</td>\n",
       "      <td>0</td>\n",
       "      <td>112080.014102</td>\n",
       "      <td>приобретение автомобиля</td>\n",
       "    </tr>\n",
       "    <tr>\n",
       "      <td>2</td>\n",
       "      <td>0</td>\n",
       "      <td>-5623.422610</td>\n",
       "      <td>33</td>\n",
       "      <td>Среднее</td>\n",
       "      <td>1</td>\n",
       "      <td>женат / замужем</td>\n",
       "      <td>0</td>\n",
       "      <td>M</td>\n",
       "      <td>сотрудник</td>\n",
       "      <td>0</td>\n",
       "      <td>145885.952297</td>\n",
       "      <td>покупка жилья</td>\n",
       "    </tr>\n",
       "    <tr>\n",
       "      <td>3</td>\n",
       "      <td>3</td>\n",
       "      <td>-4124.747207</td>\n",
       "      <td>32</td>\n",
       "      <td>среднее</td>\n",
       "      <td>1</td>\n",
       "      <td>женат / замужем</td>\n",
       "      <td>0</td>\n",
       "      <td>M</td>\n",
       "      <td>сотрудник</td>\n",
       "      <td>0</td>\n",
       "      <td>267628.550329</td>\n",
       "      <td>дополнительное образование</td>\n",
       "    </tr>\n",
       "    <tr>\n",
       "      <td>4</td>\n",
       "      <td>0</td>\n",
       "      <td>340266.072047</td>\n",
       "      <td>53</td>\n",
       "      <td>среднее</td>\n",
       "      <td>1</td>\n",
       "      <td>гражданский брак</td>\n",
       "      <td>1</td>\n",
       "      <td>F</td>\n",
       "      <td>пенсионер</td>\n",
       "      <td>0</td>\n",
       "      <td>158616.077870</td>\n",
       "      <td>сыграть свадьбу</td>\n",
       "    </tr>\n",
       "  </tbody>\n",
       "</table>\n",
       "</div>"
      ],
      "text/plain": [
       "   children  days_employed  dob_years education  education_id  \\\n",
       "0         1   -8437.673028         42    высшее             0   \n",
       "1         1   -4024.803754         36   среднее             1   \n",
       "2         0   -5623.422610         33   Среднее             1   \n",
       "3         3   -4124.747207         32   среднее             1   \n",
       "4         0  340266.072047         53   среднее             1   \n",
       "\n",
       "      family_status  family_status_id gender income_type  debt   total_income  \\\n",
       "0   женат / замужем                 0      F   сотрудник     0  253875.639453   \n",
       "1   женат / замужем                 0      F   сотрудник     0  112080.014102   \n",
       "2   женат / замужем                 0      M   сотрудник     0  145885.952297   \n",
       "3   женат / замужем                 0      M   сотрудник     0  267628.550329   \n",
       "4  гражданский брак                 1      F   пенсионер     0  158616.077870   \n",
       "\n",
       "                      purpose  \n",
       "0               покупка жилья  \n",
       "1     приобретение автомобиля  \n",
       "2               покупка жилья  \n",
       "3  дополнительное образование  \n",
       "4             сыграть свадьбу  "
      ]
     },
     "execution_count": 1,
     "metadata": {},
     "output_type": "execute_result"
    }
   ],
   "source": [
    "import pandas as pd \n",
    "import numpy as np\n",
    "data = pd.read_csv('/datasets/data.csv')\n",
    "data.info() #общая информация о таблице\n",
    "data.head() #пять первых строк таблицы"
   ]
  },
  {
   "cell_type": "markdown",
   "metadata": {},
   "source": [
    "**Вывод**"
   ]
  },
  {
   "cell_type": "markdown",
   "metadata": {},
   "source": [
    "В столбцах \"days_employed\" и \"total_income\" есть пропуски, столбец \"days_employed\" имеет некорректные значения (отрицательные или очень большие). В каких единицах представлен ежемесячный доход? Столбец \"education\" нужно привести к нижнему регистру"
   ]
  },
  {
   "cell_type": "markdown",
   "metadata": {},
   "source": [
    "## Шаг 2. Предобработка данных"
   ]
  },
  {
   "cell_type": "markdown",
   "metadata": {},
   "source": [
    "### Обработка пропусков"
   ]
  },
  {
   "cell_type": "code",
   "execution_count": 2,
   "metadata": {},
   "outputs": [
    {
     "name": "stdout",
     "output_type": "stream",
     "text": [
      "<class 'pandas.core.frame.DataFrame'>\n",
      "RangeIndex: 21525 entries, 0 to 21524\n",
      "Data columns (total 12 columns):\n",
      "children            21525 non-null int64\n",
      "days_employed       21525 non-null object\n",
      "dob_years           21525 non-null int64\n",
      "education           21525 non-null object\n",
      "education_id        21525 non-null int64\n",
      "family_status       21525 non-null object\n",
      "family_status_id    21525 non-null int64\n",
      "gender              21525 non-null object\n",
      "income_type         21525 non-null object\n",
      "debt                21525 non-null int64\n",
      "total_income        21522 non-null object\n",
      "purpose             21525 non-null object\n",
      "dtypes: int64(5), object(7)\n",
      "memory usage: 2.0+ MB\n"
     ]
    }
   ],
   "source": [
    "#заменяю пропуски в столбце со стажем на основе средних данных с учетом типа занятости\n",
    "#data['days_employed'] = data['days_employed'].astype('int')\n",
    "#data['days_employed'] = abs(data['days_employed']) #преобразую отрицательные значения в положительные\n",
    "\n",
    "data.loc[(data['income_type'] == 'пенсионер') & (data['dob_years'] < 30)] #встречается\n",
    "#много пенсионеров младше 30 лет\n",
    "data['days_employed'] = data['days_employed'].fillna(value = ' ') #заменяю пропуски из-за описанной ниже пробелемы\n",
    "\n",
    "for i in range(len(data)): #в цикле перебираю все значения из столбца со стажем\n",
    "    if data.loc[i, 'days_employed'] != ' ': #из непропущенных значений считаю средний коэффициент\n",
    "        \n",
    "        if data.loc[i, 'dob_years'] > 50 and data.loc[i, 'income_type'] == 'пенсионер':\n",
    "        #для пенсионеров отдельно, так как они какое-то время уже не работают\n",
    "            x = data.loc[i, 'days_employed']\n",
    "            y = data.loc[i, 'dob_years']\n",
    "            k_old = abs(x) / (y - 18)\n",
    "            k_old = k_old.mean()\n",
    "    \n",
    "        elif 30 > data.loc[i, 'dob_years'] > 18 and data.loc[i, 'income_type'] != 'пенсионер':\n",
    "        #для людей младше 30, так как если их объединить со старшими, будет явно неправильный стаж\n",
    "            x = data.loc[i, 'days_employed']\n",
    "            y = data.loc[i, 'dob_years']\n",
    "            k_young = abs(x) / (y - 18)\n",
    "            k_young = k_young.mean()\n",
    "            \n",
    "        elif data.loc[i, 'dob_years'] >= 30 and data.loc[i, 'income_type'] != 'пенсионер':\n",
    "        #для людей среднего возраста: не на пенсии, но старше 30\n",
    "            x = data.loc[i, 'days_employed']\n",
    "            y = data.loc[i, 'dob_years']\n",
    "            k_else = abs(x) / (y - 18)\n",
    "            k_else = k_else.mean()\n",
    "            \n",
    "    else: #считаю значения, чтобы заполнить пропуски\n",
    "        \n",
    "        if data.loc[i, 'income_type'] == 'пенсионер': #для пенсионеров\n",
    "            data.loc[i, 'days_employed'] = k_old * (data.loc[i, 'dob_years'] - 18)\n",
    "            \n",
    "        else:\n",
    "            \n",
    "            if data.loc[i, 'dob_years'] >= 30: #для среднего возраста\n",
    "                data.loc[i, 'days_employed'] = k_else * (data.loc[i, 'dob_years'] - 18)\n",
    "                \n",
    "            else: #для молодых\n",
    "                data.loc[i, 'days_employed'] = k_young * (data.loc[i, 'dob_years'] - 18)\n",
    "                \n",
    "data.loc[data['days_employed'] == ' '] #проверяю, не осталось ли пропусков в столбце\n",
    "            \n",
    "#заменяю пропуски в столбце с заработком, но сначала убираю дубликаты в образовании\n",
    "data['education'].value_counts() #дубликаты в разном регистре\n",
    "data['education'] = data['education'].str.lower() #перевод в нижний регистр\n",
    "\n",
    "data['total_income'] = data['total_income'].fillna(value = ' ')\n",
    "\n",
    "for i in range(len(data)): #перебираю все значения в цикле\n",
    "\n",
    "    if data.loc[i, 'total_income'] == ' ': #если есть пропуск, записываю значения в других столбцах\n",
    "        ed = data.loc[i, 'education']\n",
    "        ink = data.loc[i, 'income_type']\n",
    "        fam = data.loc[i, 'family_status']\n",
    "        gen = data.loc[i, 'gender']\n",
    "        #ищу людей с такими же значениями в ключевых столбцах, для них считаю среднее по доходу\n",
    "        data_mean = data.loc[(data['education'] == ed) & (data['income_type'] == ink) & (data['family_status'] == fam) & (data['gender'] == gen)]['total_income']\n",
    "        data_mean = pd.to_numeric(data_mean, errors = 'coerce')\n",
    "        mean = data_mean.mean()\n",
    "        data.loc[i, 'total_income'] = mean #подставляю средний доход вместо пропуска\n",
    "        \n",
    "data.loc[data['total_income'] == ' ']\n",
    "data.info()"
   ]
  },
  {
   "cell_type": "code",
   "execution_count": 12,
   "metadata": {},
   "outputs": [
    {
     "data": {
      "text/html": [
       "<div>\n",
       "<style scoped>\n",
       "    .dataframe tbody tr th:only-of-type {\n",
       "        vertical-align: middle;\n",
       "    }\n",
       "\n",
       "    .dataframe tbody tr th {\n",
       "        vertical-align: top;\n",
       "    }\n",
       "\n",
       "    .dataframe thead th {\n",
       "        text-align: right;\n",
       "    }\n",
       "</style>\n",
       "<table border=\"1\" class=\"dataframe\">\n",
       "  <thead>\n",
       "    <tr style=\"text-align: right;\">\n",
       "      <th></th>\n",
       "      <th>0</th>\n",
       "      <th>1</th>\n",
       "    </tr>\n",
       "  </thead>\n",
       "  <tbody>\n",
       "    <tr>\n",
       "      <td>0</td>\n",
       "      <td>1.0</td>\n",
       "      <td>NaN</td>\n",
       "    </tr>\n",
       "    <tr>\n",
       "      <td>1</td>\n",
       "      <td>1.0</td>\n",
       "      <td>NaN</td>\n",
       "    </tr>\n",
       "    <tr>\n",
       "      <td>2</td>\n",
       "      <td>1.0</td>\n",
       "      <td>1.0</td>\n",
       "    </tr>\n",
       "    <tr>\n",
       "      <td>3</td>\n",
       "      <td>NaN</td>\n",
       "      <td>1.0</td>\n",
       "    </tr>\n",
       "    <tr>\n",
       "      <td>4</td>\n",
       "      <td>NaN</td>\n",
       "      <td>NaN</td>\n",
       "    </tr>\n",
       "    <tr>\n",
       "      <td>5</td>\n",
       "      <td>NaN</td>\n",
       "      <td>NaN</td>\n",
       "    </tr>\n",
       "    <tr>\n",
       "      <td>6</td>\n",
       "      <td>1.0</td>\n",
       "      <td>NaN</td>\n",
       "    </tr>\n",
       "    <tr>\n",
       "      <td>7</td>\n",
       "      <td>NaN</td>\n",
       "      <td>1.0</td>\n",
       "    </tr>\n",
       "    <tr>\n",
       "      <td>8</td>\n",
       "      <td>NaN</td>\n",
       "      <td>1.0</td>\n",
       "    </tr>\n",
       "    <tr>\n",
       "      <td>9</td>\n",
       "      <td>1.0</td>\n",
       "      <td>1.0</td>\n",
       "    </tr>\n",
       "  </tbody>\n",
       "</table>\n",
       "</div>"
      ],
      "text/plain": [
       "     0    1\n",
       "0  1.0  NaN\n",
       "1  1.0  NaN\n",
       "2  1.0  1.0\n",
       "3  NaN  1.0\n",
       "4  NaN  NaN\n",
       "5  NaN  NaN\n",
       "6  1.0  NaN\n",
       "7  NaN  1.0\n",
       "8  NaN  1.0\n",
       "9  1.0  1.0"
      ]
     },
     "execution_count": 12,
     "metadata": {},
     "output_type": "execute_result"
    }
   ],
   "source": [
    "np.random.seed([3,1415])\n",
    "df = pd.DataFrame(np.random.choice((1, np.nan), (10, 2)))\n",
    "df"
   ]
  },
  {
   "cell_type": "code",
   "execution_count": 13,
   "metadata": {},
   "outputs": [
    {
     "data": {
      "text/plain": [
       "0     True\n",
       "1     True\n",
       "2    False\n",
       "3     True\n",
       "4     True\n",
       "5     True\n",
       "6     True\n",
       "7     True\n",
       "8     True\n",
       "9    False\n",
       "dtype: bool"
      ]
     },
     "execution_count": 13,
     "metadata": {},
     "output_type": "execute_result"
    }
   ],
   "source": [
    "df.isna().any(axis=1)"
   ]
  },
  {
   "cell_type": "code",
   "execution_count": 14,
   "metadata": {},
   "outputs": [
    {
     "data": {
      "text/html": [
       "<div>\n",
       "<style scoped>\n",
       "    .dataframe tbody tr th:only-of-type {\n",
       "        vertical-align: middle;\n",
       "    }\n",
       "\n",
       "    .dataframe tbody tr th {\n",
       "        vertical-align: top;\n",
       "    }\n",
       "\n",
       "    .dataframe thead th {\n",
       "        text-align: right;\n",
       "    }\n",
       "</style>\n",
       "<table border=\"1\" class=\"dataframe\">\n",
       "  <thead>\n",
       "    <tr style=\"text-align: right;\">\n",
       "      <th></th>\n",
       "      <th>0</th>\n",
       "      <th>1</th>\n",
       "    </tr>\n",
       "  </thead>\n",
       "  <tbody>\n",
       "    <tr>\n",
       "      <td>0</td>\n",
       "      <td>1.0</td>\n",
       "      <td>NaN</td>\n",
       "    </tr>\n",
       "    <tr>\n",
       "      <td>1</td>\n",
       "      <td>1.0</td>\n",
       "      <td>NaN</td>\n",
       "    </tr>\n",
       "    <tr>\n",
       "      <td>3</td>\n",
       "      <td>NaN</td>\n",
       "      <td>1.0</td>\n",
       "    </tr>\n",
       "    <tr>\n",
       "      <td>4</td>\n",
       "      <td>NaN</td>\n",
       "      <td>NaN</td>\n",
       "    </tr>\n",
       "    <tr>\n",
       "      <td>5</td>\n",
       "      <td>NaN</td>\n",
       "      <td>NaN</td>\n",
       "    </tr>\n",
       "    <tr>\n",
       "      <td>6</td>\n",
       "      <td>1.0</td>\n",
       "      <td>NaN</td>\n",
       "    </tr>\n",
       "    <tr>\n",
       "      <td>7</td>\n",
       "      <td>NaN</td>\n",
       "      <td>1.0</td>\n",
       "    </tr>\n",
       "    <tr>\n",
       "      <td>8</td>\n",
       "      <td>NaN</td>\n",
       "      <td>1.0</td>\n",
       "    </tr>\n",
       "  </tbody>\n",
       "</table>\n",
       "</div>"
      ],
      "text/plain": [
       "     0    1\n",
       "0  1.0  NaN\n",
       "1  1.0  NaN\n",
       "3  NaN  1.0\n",
       "4  NaN  NaN\n",
       "5  NaN  NaN\n",
       "6  1.0  NaN\n",
       "7  NaN  1.0\n",
       "8  NaN  1.0"
      ]
     },
     "execution_count": 14,
     "metadata": {},
     "output_type": "execute_result"
    }
   ],
   "source": [
    "df1 = df[df.isna().any(axis=1)]\n",
    "df1"
   ]
  },
  {
   "cell_type": "markdown",
   "metadata": {},
   "source": [
    "**Вывод**"
   ]
  },
  {
   "cell_type": "markdown",
   "metadata": {},
   "source": [
    "Я провела замену пропусков в двух столбцах.\n",
    "В столбце со стажем работы я заменила их на средний показатель стажа в зависимости от группы занятости и возраста человека. Среди пенсионеров встретились люди младше 30 лет, их я не учитывала в расчете среднего. Во всех возрастных группах были люди с возрастом 0, их я тоже не учитывала при расчете. Для вычисления стажа я не стала брать среднее значение, так как он линейно зависит от возраста, по моему мнению.\n",
    "Для вычисления зависимости стажа от возраста я написала уравнение x=k(y-18), где х - стаж в днях, y - возраст в годах, k - некоторый коэффициент, который я сначала нахожу для пенсионеров отдельно, для всех остальных отдельно. Потом возраст человека, стаж которого неизвестен, подставляю в это уравнение и нахожу стаж.\n",
    "\n",
    "В столбце с доходом я расчитала средний доход для человека с пропуском как среднее из дохода людей, совпадающих с ним по четырём группам: образование, занятость, пол и семейное положение. Так как все эти характеристики влияют на уровень дохода.\n",
    "Из-за сложного перебора значений для вычисления среднего эта часть работает очень медленно, но у меня нет идей по улучшению."
   ]
  },
  {
   "cell_type": "markdown",
   "metadata": {},
   "source": [
    "### Замена типа данных"
   ]
  },
  {
   "cell_type": "code",
   "execution_count": 3,
   "metadata": {},
   "outputs": [
    {
     "name": "stderr",
     "output_type": "stream",
     "text": [
      "/opt/conda/lib/python3.7/site-packages/pandas/core/ops/__init__.py:1115: FutureWarning: elementwise comparison failed; returning scalar instead, but in the future will perform elementwise comparison\n",
      "  result = method(y)\n"
     ]
    },
    {
     "data": {
      "text/html": [
       "<div>\n",
       "<style scoped>\n",
       "    .dataframe tbody tr th:only-of-type {\n",
       "        vertical-align: middle;\n",
       "    }\n",
       "\n",
       "    .dataframe tbody tr th {\n",
       "        vertical-align: top;\n",
       "    }\n",
       "\n",
       "    .dataframe thead th {\n",
       "        text-align: right;\n",
       "    }\n",
       "</style>\n",
       "<table border=\"1\" class=\"dataframe\">\n",
       "  <thead>\n",
       "    <tr style=\"text-align: right;\">\n",
       "      <th></th>\n",
       "      <th>children</th>\n",
       "      <th>days_employed</th>\n",
       "      <th>dob_years</th>\n",
       "      <th>education</th>\n",
       "      <th>education_id</th>\n",
       "      <th>family_status</th>\n",
       "      <th>family_status_id</th>\n",
       "      <th>gender</th>\n",
       "      <th>income_type</th>\n",
       "      <th>debt</th>\n",
       "      <th>total_income</th>\n",
       "      <th>purpose</th>\n",
       "    </tr>\n",
       "  </thead>\n",
       "  <tbody>\n",
       "  </tbody>\n",
       "</table>\n",
       "</div>"
      ],
      "text/plain": [
       "Empty DataFrame\n",
       "Columns: [children, days_employed, dob_years, education, education_id, family_status, family_status_id, gender, income_type, debt, total_income, purpose]\n",
       "Index: []"
      ]
     },
     "execution_count": 3,
     "metadata": {},
     "output_type": "execute_result"
    }
   ],
   "source": [
    "data['days_employed'] = data['days_employed'].astype('int') #преобразовываю в целочисленный тип\n",
    "data['days_employed'] = abs(data['days_employed']) #преобразую отрицательные значения в положительные\n",
    "data.head()\n",
    "\n",
    "\n",
    "data['income_type'].value_counts() #объединяю малочисленные группы\n",
    "data.loc[data['income_type'] == 'предприниматель', 'income_type'] = 'сотрудник'\n",
    "data.loc[data['income_type'] == 'в декрете', 'income_type'] = 'безработный'\n",
    "data.loc[data['income_type'] == 'студент', 'income_type'] = 'безработный'\n",
    "data['income_type'].value_counts() #проверка\n",
    "\n",
    "days_sotr = data[data['income_type'] == 'сотрудник']['days_employed'].mean() #считаю средний стаж\n",
    "days_komp = data[data['income_type'] == 'компаньон']['days_employed'].mean() #для разных групп\n",
    "days_pens = data[data['income_type'] == 'пенсионер']['days_employed'].mean() #по типу занятости\n",
    "days_goss = data[data['income_type'] == 'госслужащий']['days_employed'].mean()\n",
    "#data['days_employed'] = data['days_employed'].fillna(value = ' ') #заменяю пропуски на среднее значение\n",
    "data.loc[(data['days_employed'] == ' ') & (data['income_type'] == 'сотрудник'), 'days_employed'] = days_sotr\n",
    "data.loc[(data['days_employed'] == ' ') & (data['income_type'] == 'компаньон'), 'days_employed'] = days_komp\n",
    "data.loc[(data['days_employed'] == ' ') & (data['income_type'] == 'пенсионер'), 'days_employed'] = days_pens\n",
    "data.loc[(data['days_employed'] == ' ') & (data['income_type'] == 'госслужащий'), 'days_employed'] = days_goss\n",
    "data.loc[data['days_employed'] == ' ']"
   ]
  },
  {
   "cell_type": "markdown",
   "metadata": {},
   "source": [
    "**Вывод**"
   ]
  },
  {
   "cell_type": "markdown",
   "metadata": {},
   "source": [
    "Дни являются целочисленными, поэтому я заменила их тип на integer. Хотя, их значения остались некорректными, у меня нет идей, как их исправить, и значит ли они что-то. Они не нужны для выводов по таблице, поэтому дальше преобразовывать я их не буду.\n",
    "Данные по ежемесячнму доходу я оставила вещественными, так как доход вополне может быть не целочисленным"
   ]
  },
  {
   "cell_type": "markdown",
   "metadata": {},
   "source": [
    "### Обработка дубликатов"
   ]
  },
  {
   "cell_type": "markdown",
   "metadata": {},
   "source": [
    "**Вывод**"
   ]
  },
  {
   "cell_type": "code",
   "execution_count": 4,
   "metadata": {},
   "outputs": [
    {
     "name": "stdout",
     "output_type": "stream",
     "text": [
      "0    14149\n",
      "1     4865\n",
      "2     2131\n",
      "3      330\n",
      "4       41\n",
      "5        9\n",
      "Name: children, dtype: int64\n",
      "\n",
      "среднее                15233\n",
      "высшее                  5260\n",
      "неоконченное высшее      744\n",
      "начальное                282\n",
      "ученая степень             6\n",
      "Name: education, dtype: int64\n",
      "\n"
     ]
    }
   ],
   "source": [
    "#проверка столбцов по очереди на наличие дубликатов\n",
    "data['children'].value_counts() #смотрю, какие есть значения в столбце\n",
    "data[data['children'] == 20] #проверяю подозрительные 20 и -1, исправляю как опечатки\n",
    "data.loc[data['children'] == 20, 'children'] = 2\n",
    "data.loc[data['children'] == -1, 'children'] = 1\n",
    "print(data['children'].value_counts()) #проверка\n",
    "print()\n",
    "\n",
    "data['education'].value_counts() #дубликаты в разном регистре\n",
    "data['education'] = data['education'].str.lower() #перевод в нижний регистр\n",
    "print(data['education'].value_counts()) #проверка\n",
    "print()"
   ]
  },
  {
   "cell_type": "markdown",
   "metadata": {},
   "source": [
    "Были исправлены дубликаты в разных регистрах и опечатки. Причиной их появления считаю человеческий фактор. Так же я объединила малочисленные группы в столбцах 'income_type' и 'children'"
   ]
  },
  {
   "cell_type": "markdown",
   "metadata": {},
   "source": [
    "### Лемматизация"
   ]
  },
  {
   "cell_type": "code",
   "execution_count": 5,
   "metadata": {},
   "outputs": [
    {
     "data": {
      "text/html": [
       "<div>\n",
       "<style scoped>\n",
       "    .dataframe tbody tr th:only-of-type {\n",
       "        vertical-align: middle;\n",
       "    }\n",
       "\n",
       "    .dataframe tbody tr th {\n",
       "        vertical-align: top;\n",
       "    }\n",
       "\n",
       "    .dataframe thead th {\n",
       "        text-align: right;\n",
       "    }\n",
       "</style>\n",
       "<table border=\"1\" class=\"dataframe\">\n",
       "  <thead>\n",
       "    <tr style=\"text-align: right;\">\n",
       "      <th></th>\n",
       "      <th>children</th>\n",
       "      <th>days_employed</th>\n",
       "      <th>dob_years</th>\n",
       "      <th>education</th>\n",
       "      <th>education_id</th>\n",
       "      <th>family_status</th>\n",
       "      <th>family_status_id</th>\n",
       "      <th>gender</th>\n",
       "      <th>income_type</th>\n",
       "      <th>debt</th>\n",
       "      <th>total_income</th>\n",
       "      <th>purpose</th>\n",
       "      <th>purpose_tag</th>\n",
       "    </tr>\n",
       "  </thead>\n",
       "  <tbody>\n",
       "    <tr>\n",
       "      <td>0</td>\n",
       "      <td>1</td>\n",
       "      <td>8437.0</td>\n",
       "      <td>42</td>\n",
       "      <td>высшее</td>\n",
       "      <td>0</td>\n",
       "      <td>женат / замужем</td>\n",
       "      <td>0</td>\n",
       "      <td>F</td>\n",
       "      <td>сотрудник</td>\n",
       "      <td>0</td>\n",
       "      <td>253876</td>\n",
       "      <td>покупка жилья</td>\n",
       "      <td>недвижимость</td>\n",
       "    </tr>\n",
       "    <tr>\n",
       "      <td>1</td>\n",
       "      <td>1</td>\n",
       "      <td>4024.0</td>\n",
       "      <td>36</td>\n",
       "      <td>среднее</td>\n",
       "      <td>1</td>\n",
       "      <td>женат / замужем</td>\n",
       "      <td>0</td>\n",
       "      <td>F</td>\n",
       "      <td>сотрудник</td>\n",
       "      <td>0</td>\n",
       "      <td>112080</td>\n",
       "      <td>приобретение автомобиля</td>\n",
       "      <td>автомобиль</td>\n",
       "    </tr>\n",
       "    <tr>\n",
       "      <td>2</td>\n",
       "      <td>0</td>\n",
       "      <td>5623.0</td>\n",
       "      <td>33</td>\n",
       "      <td>среднее</td>\n",
       "      <td>1</td>\n",
       "      <td>женат / замужем</td>\n",
       "      <td>0</td>\n",
       "      <td>M</td>\n",
       "      <td>сотрудник</td>\n",
       "      <td>0</td>\n",
       "      <td>145886</td>\n",
       "      <td>покупка жилья</td>\n",
       "      <td>недвижимость</td>\n",
       "    </tr>\n",
       "    <tr>\n",
       "      <td>3</td>\n",
       "      <td>3</td>\n",
       "      <td>4124.0</td>\n",
       "      <td>32</td>\n",
       "      <td>среднее</td>\n",
       "      <td>1</td>\n",
       "      <td>женат / замужем</td>\n",
       "      <td>0</td>\n",
       "      <td>M</td>\n",
       "      <td>сотрудник</td>\n",
       "      <td>0</td>\n",
       "      <td>267629</td>\n",
       "      <td>дополнительное образование</td>\n",
       "      <td>образование</td>\n",
       "    </tr>\n",
       "    <tr>\n",
       "      <td>4</td>\n",
       "      <td>0</td>\n",
       "      <td>340266.0</td>\n",
       "      <td>53</td>\n",
       "      <td>среднее</td>\n",
       "      <td>1</td>\n",
       "      <td>гражданский брак</td>\n",
       "      <td>1</td>\n",
       "      <td>F</td>\n",
       "      <td>пенсионер</td>\n",
       "      <td>0</td>\n",
       "      <td>158616</td>\n",
       "      <td>сыграть свадьбу</td>\n",
       "      <td>свадьба</td>\n",
       "    </tr>\n",
       "  </tbody>\n",
       "</table>\n",
       "</div>"
      ],
      "text/plain": [
       "   children  days_employed  dob_years education  education_id  \\\n",
       "0         1         8437.0         42    высшее             0   \n",
       "1         1         4024.0         36   среднее             1   \n",
       "2         0         5623.0         33   среднее             1   \n",
       "3         3         4124.0         32   среднее             1   \n",
       "4         0       340266.0         53   среднее             1   \n",
       "\n",
       "      family_status  family_status_id gender income_type  debt total_income  \\\n",
       "0   женат / замужем                 0      F   сотрудник     0       253876   \n",
       "1   женат / замужем                 0      F   сотрудник     0       112080   \n",
       "2   женат / замужем                 0      M   сотрудник     0       145886   \n",
       "3   женат / замужем                 0      M   сотрудник     0       267629   \n",
       "4  гражданский брак                 1      F   пенсионер     0       158616   \n",
       "\n",
       "                      purpose   purpose_tag  \n",
       "0               покупка жилья  недвижимость  \n",
       "1     приобретение автомобиля    автомобиль  \n",
       "2               покупка жилья  недвижимость  \n",
       "3  дополнительное образование   образование  \n",
       "4             сыграть свадьбу       свадьба  "
      ]
     },
     "execution_count": 5,
     "metadata": {},
     "output_type": "execute_result"
    }
   ],
   "source": [
    "from pymystem3 import Mystem\n",
    "m = Mystem()\n",
    "purpose = data['purpose'].unique() #создаю список из уникальных значений цели получения кредита\n",
    "columns = ['purpose']\n",
    "purpose_data = pd.DataFrame(data = purpose, columns = columns) #создаю таблицу из списка\n",
    "purpose_data['purpose_tag'] = '0' #прибавляю к таблице столбец с тегами целей кредита\n",
    "\n",
    "#в цикле перебираю строки с целями кредита, получаю от них леммы и ключевые леммы записываю в теги\n",
    "for i in range(len(purpose_data)): \n",
    "    lemm = m.lemmatize(purpose_data['purpose'][i])\n",
    "    #print(lemm)\n",
    "    \n",
    "    if ('жилье' in lemm) or ('недвижимость' in lemm):\n",
    "        purpose_data['purpose_tag'][i] = 'недвижимость'\n",
    "    \n",
    "    if 'автомобиль' in lemm:\n",
    "        purpose_data['purpose_tag'][i] = 'автомобиль'\n",
    "        \n",
    "    if 'образование' in lemm:\n",
    "        purpose_data['purpose_tag'][i] = 'образование'\n",
    "        \n",
    "    if 'свадьба' in lemm:\n",
    "        purpose_data['purpose_tag'][i] = 'свадьба'\n",
    "        \n",
    "purpose_data[purpose_data['purpose_tag'] == '0'] #проверяю не осталось ли строчек без тега\n",
    "data = data.merge(purpose_data, on='purpose', how='left') #объединяю общую таблицу и таблицу с тегами\n",
    "data.head()"
   ]
  },
  {
   "cell_type": "markdown",
   "metadata": {},
   "source": [
    "**Вывод**"
   ]
  },
  {
   "cell_type": "markdown",
   "metadata": {},
   "source": [
    "В столбце с целями получения кредита были выделены ключевые слова (теги), по которым теперь можно объядинять получателей в группы"
   ]
  },
  {
   "cell_type": "markdown",
   "metadata": {},
   "source": [
    "### Категоризация данных"
   ]
  },
  {
   "cell_type": "code",
   "execution_count": 6,
   "metadata": {},
   "outputs": [
    {
     "data": {
      "text/plain": [
       "низкий     8103\n",
       "средний    7945\n",
       "высокий    5474\n",
       "Name: income_group, dtype: int64"
      ]
     },
     "execution_count": 6,
     "metadata": {},
     "output_type": "execute_result"
    }
   ],
   "source": [
    "def income_group(income): #функция категоризации по уровню дохода\n",
    "    \n",
    "    if income <= 130000: #присваивается низкий уровень\n",
    "        return 'низкий'\n",
    "    \n",
    "    if 130000 < income <= 200000: #присваивается средний уровень\n",
    "        return 'средний'\n",
    "    \n",
    "    if income > 200000: #присваивается высокий уровень\n",
    "        return 'высокий'\n",
    "    \n",
    "data['income_group'] = data['total_income'].apply(income_group) #применяем функцию к столбцу\n",
    "#с уровнем дохода, собираем новый столбец с группами по уровню дохода\n",
    "data['income_group'].value_counts()"
   ]
  },
  {
   "cell_type": "markdown",
   "metadata": {},
   "source": [
    "**Вывод**"
   ]
  },
  {
   "cell_type": "markdown",
   "metadata": {},
   "source": [
    "Для ответа на вопросы достаточно разбить на категории столбец с уровнем дохода, хотя, мне не известно, в каких денежных единицах он указан. Границы групп выбраны так, чтобы количество людей в группах было примерно одинаковым"
   ]
  },
  {
   "cell_type": "markdown",
   "metadata": {},
   "source": [
    "## Шаг 3. Ответьте на вопросы"
   ]
  },
  {
   "cell_type": "markdown",
   "metadata": {},
   "source": [
    "- Есть ли зависимость между наличием детей и возвратом кредита в срок?"
   ]
  },
  {
   "cell_type": "code",
   "execution_count": 7,
   "metadata": {},
   "outputs": [
    {
     "data": {
      "text/plain": [
       "children\n",
       "0      0.075129\n",
       ">=3    0.081579\n",
       "1      0.091470\n",
       "2      0.094791\n",
       "dtype: float64"
      ]
     },
     "execution_count": 7,
     "metadata": {},
     "output_type": "execute_result"
    }
   ],
   "source": [
    "#объединяю группы с 3 и более детми в группу '>=3', так как они малочисленные\n",
    "data.loc[data['children'] == 3, 'children'] = '>=3'\n",
    "data.loc[data['children'] == 4, 'children'] = '>=3'\n",
    "data.loc[data['children'] == 5, 'children'] = '>=3'\n",
    "data['children'].value_counts() #проверяю результат\n",
    "children_debt = data.groupby('children')['debt'].sum() #количество должников по кредиту в зависимости \n",
    "#от кол-ва детей. На мой взгляд не показательно, так как людей с более чем 3 детьми очень мало\n",
    "total = data['children'].value_counts() #всего людей с определенным количеством детей в таблице\n",
    "children_part = children_debt / total #отношение имевших кредит к общему количеству\n",
    "children_part.sort_values()"
   ]
  },
  {
   "cell_type": "markdown",
   "metadata": {},
   "source": [
    "**Вывод**"
   ]
  },
  {
   "cell_type": "markdown",
   "metadata": {},
   "source": [
    "Заёмщики без детей или с количеством детей 3 и более реже не возвращают кредиты, в отличии от заёмщиков с 1 или 2мя детьми"
   ]
  },
  {
   "cell_type": "markdown",
   "metadata": {},
   "source": [
    "- Есть ли зависимость между семейным положением и возвратом кредита в срок?"
   ]
  },
  {
   "cell_type": "code",
   "execution_count": 8,
   "metadata": {},
   "outputs": [
    {
     "data": {
      "text/plain": [
       "вдовец / вдова           0.065625\n",
       "в разводе                0.071130\n",
       "женат / замужем          0.075202\n",
       "гражданский брак         0.092890\n",
       "Не женат / не замужем    0.097405\n",
       "dtype: float64"
      ]
     },
     "execution_count": 8,
     "metadata": {},
     "output_type": "execute_result"
    }
   ],
   "source": [
    "total = data['family_status'].value_counts() #всего людей в группах по семейному положению\n",
    "family_debt = data.groupby('family_status')['debt'].sum() #кол-во должников в этих группах\n",
    "family_part = family_debt / total #отношение, показывающее процент должников в каждой группе\n",
    "family_part.sort_values()"
   ]
  },
  {
   "cell_type": "markdown",
   "metadata": {},
   "source": [
    "**Вывод**"
   ]
  },
  {
   "cell_type": "markdown",
   "metadata": {},
   "source": [
    "Холостяки и люди, состоящие в гражданском браке, чаще имеют задолженность по кредиту, чем женатые, разведенные или вдовцы. Это может быть связано с тем, что люди, побывавшие в браке более отвественные и финансово стабильные"
   ]
  },
  {
   "cell_type": "markdown",
   "metadata": {},
   "source": [
    "- Есть ли зависимость между уровнем дохода и возвратом кредита в срок?"
   ]
  },
  {
   "cell_type": "code",
   "execution_count": 9,
   "metadata": {},
   "outputs": [
    {
     "name": "stdout",
     "output_type": "stream",
     "text": [
      "высокий    0.069967\n",
      "низкий     0.081081\n",
      "средний    0.088232\n",
      "dtype: float64\n"
     ]
    },
    {
     "data": {
      "text/plain": [
       "0.08089396896199239"
      ]
     },
     "execution_count": 9,
     "metadata": {},
     "output_type": "execute_result"
    }
   ],
   "source": [
    "total = data['income_group'].value_counts() #всего людей в группах по семейному положению\n",
    "income_debt = data.groupby('income_group')['debt'].sum() #кол-во должников в этих группах\n",
    "income_part = income_debt / total #отношение, показывающее процент должников в каждой группе\n",
    "print(income_part.sort_values())\n",
    "data['debt'].sum() / data['income_group'].count() #отношение должников к общему количеству\n",
    "#среди всех заемщиков таблицы"
   ]
  },
  {
   "cell_type": "markdown",
   "metadata": {},
   "source": [
    "**Вывод**"
   ]
  },
  {
   "cell_type": "markdown",
   "metadata": {},
   "source": [
    "Результаты напрямую зависят от выбора границ, по которым доходы делятся на высокие, средние и низкие. От уровня дохода задержка выплаты не зависит.\n",
    "\n",
    "Забавно, что после замены пропусков в столбце с доходом, стало заметно, что люди с высоким уровнем дохода выплачивают кредиты лучше, чем все остальные. Но, опять же, я думаю, что изменилось соотношение в группах по доходам."
   ]
  },
  {
   "cell_type": "markdown",
   "metadata": {},
   "source": [
    "- Как разные цели кредита влияют на его возврат в срок?"
   ]
  },
  {
   "cell_type": "code",
   "execution_count": 10,
   "metadata": {},
   "outputs": [
    {
     "data": {
      "text/plain": [
       "недвижимость    0.072140\n",
       "свадьба         0.079216\n",
       "образование     0.091994\n",
       "автомобиль      0.093395\n",
       "dtype: float64"
      ]
     },
     "execution_count": 10,
     "metadata": {},
     "output_type": "execute_result"
    }
   ],
   "source": [
    "total = data['purpose_tag'].value_counts() #всего людей в группах по целям\n",
    "purpose_debt = data.groupby('purpose_tag')['debt'].sum() #кол-во должников в этих группах\n",
    "purpose_part = purpose_debt / total #отношение, показывающее процент должников в каждой группе\n",
    "purpose_part.sort_values()"
   ]
  },
  {
   "cell_type": "markdown",
   "metadata": {},
   "source": [
    "**Вывод**"
   ]
  },
  {
   "cell_type": "markdown",
   "metadata": {},
   "source": [
    "Меньше всего должников, среди бравших кредит на покупку недвижимости и на свадьбу. Больше среди тех, кто брал кредит на образование и покупку автомобиля. Возможно, потому что кредит на свадьбу обычно сравнительно небольшой, а из-за невыплаты по кредиту за недвижимость (которую многие покупают как жилье), человек может лишиться основного жилья, и отвественность очень высокая"
   ]
  },
  {
   "cell_type": "markdown",
   "metadata": {},
   "source": [
    "## Шаг 4. Общий вывод"
   ]
  },
  {
   "cell_type": "markdown",
   "metadata": {},
   "source": [
    "Анализ проведен на основе статистики о платёжеспособности клиентов, предоставленной банком.\n",
    "В данных были обнаружены следующие аномалии: пропуски, дубликаты, неправильный тип данных, случайные опечатки.\n",
    "В предобработку данных входило: заполнение пропущенных значений, замена вещественного типа данных на целочисленный, удаление дубликатов, лемматизация строковых данных и разбиение на категории.\n",
    "Количество детей и семейное положение влияют на факт погашения кредита в срок: люди без детей и с тремя и более детьм возвращают кредиты чаще, чем люди с одним и двумя детьми. Так же люди в браке, разведенные и вдовцы чаще возвращают кредиты.\n",
    "Уровень дохода на задержку выплаты кредит в значительной степени не влияет.\n",
    "А цели кредита влияют: взявшие кредит на покупку недвижимости или садьбу, возвращают его чаще, чем купившие на него автмобиль или получившие образование."
   ]
  }
 ],
 "metadata": {
  "kernelspec": {
   "display_name": "Python 3",
   "language": "python",
   "name": "python3"
  },
  "language_info": {
   "codemirror_mode": {
    "name": "ipython",
    "version": 3
   },
   "file_extension": ".py",
   "mimetype": "text/x-python",
   "name": "python",
   "nbconvert_exporter": "python",
   "pygments_lexer": "ipython3",
   "version": "3.7.8"
  },
  "toc": {
   "base_numbering": 1,
   "nav_menu": {},
   "number_sections": true,
   "sideBar": true,
   "skip_h1_title": true,
   "title_cell": "Table of Contents",
   "title_sidebar": "Contents",
   "toc_cell": false,
   "toc_position": {},
   "toc_section_display": true,
   "toc_window_display": false
  }
 },
 "nbformat": 4,
 "nbformat_minor": 2
}
