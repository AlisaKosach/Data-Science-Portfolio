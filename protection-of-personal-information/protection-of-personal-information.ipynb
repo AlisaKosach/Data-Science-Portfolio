{
 "cells": [
  {
   "cell_type": "markdown",
   "metadata": {
    "toc": true
   },
   "source": [
    "<h1>Содержание<span class=\"tocSkip\"></span></h1>\n",
    "<div class=\"toc\"><ul class=\"toc-item\"><li><span><a href=\"#Загрузка-данных\" data-toc-modified-id=\"Загрузка-данных-1\"><span class=\"toc-item-num\">1&nbsp;&nbsp;</span>Загрузка данных</a></span></li><li><span><a href=\"#Умножение-матриц\" data-toc-modified-id=\"Умножение-матриц-2\"><span class=\"toc-item-num\">2&nbsp;&nbsp;</span>Умножение матриц</a></span></li><li><span><a href=\"#Алгоритм-преобразования\" data-toc-modified-id=\"Алгоритм-преобразования-3\"><span class=\"toc-item-num\">3&nbsp;&nbsp;</span>Алгоритм преобразования</a></span></li><li><span><a href=\"#Проверка-алгоритма\" data-toc-modified-id=\"Проверка-алгоритма-4\"><span class=\"toc-item-num\">4&nbsp;&nbsp;</span>Проверка алгоритма</a></span></li></ul></div>"
   ]
  },
  {
   "cell_type": "markdown",
   "metadata": {},
   "source": [
    "# Защита персональных данных клиентов"
   ]
  },
  {
   "cell_type": "markdown",
   "metadata": {},
   "source": [
    "Разработайте такой метод преобразования данных,  чтобы при преобразовании качество моделей машинного обучения не ухудшилось."
   ]
  },
  {
   "cell_type": "markdown",
   "metadata": {},
   "source": [
    "## Загрузка данных"
   ]
  },
  {
   "cell_type": "code",
   "execution_count": 1,
   "metadata": {},
   "outputs": [],
   "source": [
    "import pandas as pd\n",
    "import numpy as np\n",
    "from sklearn.linear_model import LinearRegression\n",
    "from sklearn.metrics import r2_score\n",
    "from sklearn.model_selection import train_test_split"
   ]
  },
  {
   "cell_type": "code",
   "execution_count": 2,
   "metadata": {},
   "outputs": [
    {
     "name": "stdout",
     "output_type": "stream",
     "text": [
      "<class 'pandas.core.frame.DataFrame'>\n",
      "RangeIndex: 5000 entries, 0 to 4999\n",
      "Data columns (total 5 columns):\n",
      "Пол                  5000 non-null int64\n",
      "Возраст              5000 non-null float64\n",
      "Зарплата             5000 non-null float64\n",
      "Члены семьи          5000 non-null int64\n",
      "Страховые выплаты    5000 non-null int64\n",
      "dtypes: float64(2), int64(3)\n",
      "memory usage: 195.4 KB\n"
     ]
    },
    {
     "data": {
      "text/html": [
       "<div>\n",
       "<style scoped>\n",
       "    .dataframe tbody tr th:only-of-type {\n",
       "        vertical-align: middle;\n",
       "    }\n",
       "\n",
       "    .dataframe tbody tr th {\n",
       "        vertical-align: top;\n",
       "    }\n",
       "\n",
       "    .dataframe thead th {\n",
       "        text-align: right;\n",
       "    }\n",
       "</style>\n",
       "<table border=\"1\" class=\"dataframe\">\n",
       "  <thead>\n",
       "    <tr style=\"text-align: right;\">\n",
       "      <th></th>\n",
       "      <th>Пол</th>\n",
       "      <th>Возраст</th>\n",
       "      <th>Зарплата</th>\n",
       "      <th>Члены семьи</th>\n",
       "      <th>Страховые выплаты</th>\n",
       "    </tr>\n",
       "  </thead>\n",
       "  <tbody>\n",
       "    <tr>\n",
       "      <td>0</td>\n",
       "      <td>1</td>\n",
       "      <td>41.0</td>\n",
       "      <td>49600.0</td>\n",
       "      <td>1</td>\n",
       "      <td>0</td>\n",
       "    </tr>\n",
       "    <tr>\n",
       "      <td>1</td>\n",
       "      <td>0</td>\n",
       "      <td>46.0</td>\n",
       "      <td>38000.0</td>\n",
       "      <td>1</td>\n",
       "      <td>1</td>\n",
       "    </tr>\n",
       "    <tr>\n",
       "      <td>2</td>\n",
       "      <td>0</td>\n",
       "      <td>29.0</td>\n",
       "      <td>21000.0</td>\n",
       "      <td>0</td>\n",
       "      <td>0</td>\n",
       "    </tr>\n",
       "    <tr>\n",
       "      <td>3</td>\n",
       "      <td>0</td>\n",
       "      <td>21.0</td>\n",
       "      <td>41700.0</td>\n",
       "      <td>2</td>\n",
       "      <td>0</td>\n",
       "    </tr>\n",
       "    <tr>\n",
       "      <td>4</td>\n",
       "      <td>1</td>\n",
       "      <td>28.0</td>\n",
       "      <td>26100.0</td>\n",
       "      <td>0</td>\n",
       "      <td>0</td>\n",
       "    </tr>\n",
       "  </tbody>\n",
       "</table>\n",
       "</div>"
      ],
      "text/plain": [
       "   Пол  Возраст  Зарплата  Члены семьи  Страховые выплаты\n",
       "0    1     41.0   49600.0            1                  0\n",
       "1    0     46.0   38000.0            1                  1\n",
       "2    0     29.0   21000.0            0                  0\n",
       "3    0     21.0   41700.0            2                  0\n",
       "4    1     28.0   26100.0            0                  0"
      ]
     },
     "execution_count": 2,
     "metadata": {},
     "output_type": "execute_result"
    }
   ],
   "source": [
    "data = pd.read_csv('/datasets/insurance.csv')\n",
    "data.info()\n",
    "data.head()"
   ]
  },
  {
   "cell_type": "markdown",
   "metadata": {},
   "source": [
    "На первый взгляд, данные не требуют предобработки - нет пропусков, типы данных в порядке. Столбцы названы по-русски, но, наверное, это не помешает\n",
    "\n",
    "Посмотрю, нет ли аномалий"
   ]
  },
  {
   "cell_type": "code",
   "execution_count": 3,
   "metadata": {},
   "outputs": [
    {
     "data": {
      "text/plain": [
       "0    2505\n",
       "1    2495\n",
       "Name: Пол, dtype: int64"
      ]
     },
     "execution_count": 3,
     "metadata": {},
     "output_type": "execute_result"
    }
   ],
   "source": [
    "data['Пол'].value_counts()"
   ]
  },
  {
   "cell_type": "code",
   "execution_count": 4,
   "metadata": {},
   "outputs": [
    {
     "data": {
      "text/plain": [
       "1    1814\n",
       "0    1513\n",
       "2    1071\n",
       "3     439\n",
       "4     124\n",
       "5      32\n",
       "6       7\n",
       "Name: Члены семьи, dtype: int64"
      ]
     },
     "execution_count": 4,
     "metadata": {},
     "output_type": "execute_result"
    }
   ],
   "source": [
    "data['Члены семьи'].value_counts()"
   ]
  },
  {
   "cell_type": "code",
   "execution_count": 5,
   "metadata": {},
   "outputs": [
    {
     "data": {
      "text/plain": [
       "0    4436\n",
       "1     423\n",
       "2     115\n",
       "3      18\n",
       "4       7\n",
       "5       1\n",
       "Name: Страховые выплаты, dtype: int64"
      ]
     },
     "execution_count": 5,
     "metadata": {},
     "output_type": "execute_result"
    }
   ],
   "source": [
    "data['Страховые выплаты'].value_counts()"
   ]
  },
  {
   "cell_type": "code",
   "execution_count": 6,
   "metadata": {},
   "outputs": [
    {
     "name": "stdout",
     "output_type": "stream",
     "text": [
      "18.0 65.0\n"
     ]
    },
    {
     "data": {
      "image/png": "[encoded data removed]",
      "text/plain": [
       "<Figure size 432x288 with 1 Axes>"
      ]
     },
     "metadata": {
      "needs_background": "light"
     },
     "output_type": "display_data"
    }
   ],
   "source": [
    "data['Возраст'].hist(bins=100)\n",
    "print(data['Возраст'].min(), data['Возраст'].max())"
   ]
  },
  {
   "cell_type": "code",
   "execution_count": 7,
   "metadata": {},
   "outputs": [
    {
     "name": "stdout",
     "output_type": "stream",
     "text": [
      "5300.0 79000.0\n"
     ]
    },
    {
     "data": {
      "image/png": "[encoded data removed]",
      "text/plain": [
       "<Figure size 432x288 with 1 Axes>"
      ]
     },
     "metadata": {
      "needs_background": "light"
     },
     "output_type": "display_data"
    }
   ],
   "source": [
    "data['Зарплата'].hist(bins=100)\n",
    "print(data['Зарплата'].min(), data['Зарплата'].max())"
   ]
  },
  {
   "cell_type": "markdown",
   "metadata": {},
   "source": [
    "Аномальных значений нет\n",
    "\n",
    "Разделю данные на признаки и целевой признак для дальнейшего обучения"
   ]
  },
  {
   "cell_type": "code",
   "execution_count": 8,
   "metadata": {},
   "outputs": [
    {
     "data": {
      "text/plain": [
       "((5000, 4), (5000, 1))"
      ]
     },
     "execution_count": 8,
     "metadata": {},
     "output_type": "execute_result"
    }
   ],
   "source": [
    "features = data.drop(['Страховые выплаты'], axis=1)\n",
    "target = data[['Страховые выплаты']]\n",
    "features.shape, target.shape"
   ]
  },
  {
   "cell_type": "markdown",
   "metadata": {},
   "source": [
    "## Умножение матриц"
   ]
  },
  {
   "cell_type": "markdown",
   "metadata": {},
   "source": [
    "В этом задании вы можете записывать формулы в *Jupyter Notebook.*\n",
    "\n",
    "Чтобы записать формулу внутри текста, окружите её символами доллара \\\\$; если снаружи —  двойными символами \\\\$\\\\$. Эти формулы записываются на языке вёрстки *LaTeX.* \n",
    "\n",
    "Для примера мы записали формулы линейной регрессии. Можете их скопировать и отредактировать, чтобы решить задачу.\n",
    "\n",
    "Работать в *LaTeX* необязательно."
   ]
  },
  {
   "cell_type": "markdown",
   "metadata": {},
   "source": [
    "Обозначения:\n",
    "\n",
    "- $X$ — матрица признаков (нулевой столбец состоит из единиц)\n",
    "\n",
    "- $y$ — вектор целевого признака\n",
    "\n",
    "- $P$ — матрица, на которую умножаются признаки\n",
    "\n",
    "- $w$ — вектор весов линейной регрессии (нулевой элемент равен сдвигу)"
   ]
  },
  {
   "cell_type": "markdown",
   "metadata": {},
   "source": [
    "Предсказания:\n",
    "\n",
    "$$\n",
    "a = Xw\n",
    "$$\n",
    "\n",
    "Задача обучения:\n",
    "\n",
    "$$\n",
    "w = \\arg\\min_w MSE(Xw, y)\n",
    "$$\n",
    "\n",
    "Формула обучения:\n",
    "\n",
    "$$\n",
    "w = (X^T X)^{-1} X^T y\n",
    "$$"
   ]
  },
  {
   "cell_type": "markdown",
   "metadata": {},
   "source": [
    "**Ответ:** Качество линейной регрессии не изменится. Для умножения подойдет любая квадратная обратимая матрица (для данной задачи размером 4х4)\n",
    "\n",
    "**Обоснование:** \n",
    "$$\n",
    "a = Xw = (X^T X)^{-1} X^T y\n",
    "$$\n",
    "\n",
    "$$\n",
    "w' = ((XP)^T (XP))^{-1} (XP)^T y\n",
    "$$\n",
    "\n",
    "$$\n",
    "a' = (XP) w' = (XP)((XP)^T (XP))^{-1} (XP)^T y = (XP) (P^T X^T X P)^{-1} (XP)^T y = \n",
    "$$\n",
    "\n",
    "$$\n",
    "= X P P^{-1} (P^T X^T X)^{-1} (XP)^T y = X P P^{-1} (X^T X)^{-1} (P^T)^{-1} P^T X^T y\n",
    "$$\n",
    "\n",
    "\n",
    "$$\n",
    "(P^{-1})^T P^T = (P P^{-1})^T = E\n",
    "$$\n",
    "\n",
    "$$\n",
    "P P^{-1} = E\n",
    "$$\n",
    "\n",
    "$$\n",
    "a' = X (X^T X)^{-1} (X^T) y = X w = a\n",
    "$$"
   ]
  },
  {
   "cell_type": "markdown",
   "metadata": {},
   "source": [
    "## Алгоритм преобразования"
   ]
  },
  {
   "cell_type": "markdown",
   "metadata": {},
   "source": [
    "**Алгоритм**\n",
    "\n",
    "1. Сгененрировать случайную обратимую матрица 4х4\n",
    "2. Матрицу признаков умножить на эту случайную обратимую матрицу\n",
    "3. Определить метрику R2 для модели линейной регрессии на исходных данных\n",
    "4. Определить метрику R2 для модели линейной регрессии на измененных данных\n",
    "5. Сравнить две полученные метрики"
   ]
  },
  {
   "cell_type": "markdown",
   "metadata": {},
   "source": [
    "**Обоснование**\n",
    "\n",
    "См. предыдущее обоснование - оно подойдет для любой обратимой матрицы"
   ]
  },
  {
   "cell_type": "markdown",
   "metadata": {},
   "source": [
    "## Проверка алгоритма"
   ]
  },
  {
   "cell_type": "code",
   "execution_count": 9,
   "metadata": {},
   "outputs": [],
   "source": [
    "def transformation(features):\n",
    "    a = np.random.randint(100, size=(4, 4))\n",
    "    try:\n",
    "        b = np.linalg.inv(a)\n",
    "    except:\n",
    "        print('Матрица не обратима')\n",
    "        a = np.random.randint(100, size=(4, 4))\n",
    "    print('Обратимая матрица')\n",
    "    print(a)\n",
    "    features_trans = features.values @ a\n",
    "    return features_trans, a"
   ]
  },
  {
   "cell_type": "code",
   "execution_count": 10,
   "metadata": {},
   "outputs": [
    {
     "name": "stdout",
     "output_type": "stream",
     "text": [
      "(3750, 4) (1250, 4)\n",
      "Метрика R2 до преобразования: 0.42547785406963123\n"
     ]
    }
   ],
   "source": [
    "features_train, features_test, target_train, target_test = train_test_split(features, target, test_size=0.25, random_state=42)\n",
    "print(features_train.shape, features_test.shape)\n",
    "\n",
    "model = LinearRegression()\n",
    "model.fit(features_train, target_train)\n",
    "predictions = model.predict(features_test)\n",
    "print('Метрика R2 до преобразования:', r2_score(target_test, predictions))"
   ]
  },
  {
   "cell_type": "code",
   "execution_count": 11,
   "metadata": {},
   "outputs": [
    {
     "name": "stdout",
     "output_type": "stream",
     "text": [
      "Обратимая матрица\n",
      "[[65 36 62 83]\n",
      " [28 94 39 53]\n",
      " [77 48 18  1]\n",
      " [19 32 49 24]]\n",
      "Метрика R2 после преобразования: 0.4254778540696288\n"
     ]
    }
   ],
   "source": [
    "features_new, a = transformation(features)\n",
    "\n",
    "features_train, features_test, target_train, target_test = train_test_split(features_new, target, test_size=0.25, random_state=42)\n",
    "\n",
    "model = LinearRegression()\n",
    "model.fit(features_train, target_train)\n",
    "predictions = model.predict(features_test)\n",
    "print('Метрика R2 после преобразования:', r2_score(target_test, predictions))"
   ]
  },
  {
   "cell_type": "markdown",
   "metadata": {},
   "source": [
    "<b>Сравнение моделей</b>\n",
    "\n",
    "Модели линейной регрессии до и после преобразования имеют практически одинаковые значения метрики R2, так что можно сказать, что они не отличаются"
   ]
  }
 ],
 "metadata": {
  "ExecuteTimeLog": [
   {
    "duration": 696,
    "start_time": "2021-06-24T10:58:31.514Z"
   },
   {
    "duration": 44,
    "start_time": "2021-06-24T10:58:33.010Z"
   },
   {
    "duration": 360,
    "start_time": "2021-06-24T11:01:16.104Z"
   },
   {
    "duration": 8,
    "start_time": "2021-06-24T11:01:38.460Z"
   },
   {
    "duration": 9,
    "start_time": "2021-06-24T11:02:48.332Z"
   },
   {
    "duration": 9,
    "start_time": "2021-06-24T11:02:49.282Z"
   },
   {
    "duration": 584,
    "start_time": "2021-06-24T11:03:58.652Z"
   },
   {
    "duration": 579,
    "start_time": "2021-06-24T11:04:03.553Z"
   },
   {
    "duration": 502,
    "start_time": "2021-06-24T11:05:13.536Z"
   },
   {
    "duration": 583,
    "start_time": "2021-06-24T11:05:37.791Z"
   },
   {
    "duration": 9,
    "start_time": "2021-06-24T11:09:14.881Z"
   },
   {
    "duration": 9,
    "start_time": "2021-06-24T11:09:19.168Z"
   },
   {
    "duration": 1955,
    "start_time": "2021-06-26T12:20:18.502Z"
   },
   {
    "duration": 41,
    "start_time": "2021-06-26T12:20:20.460Z"
   },
   {
    "duration": 8,
    "start_time": "2021-06-26T12:20:20.504Z"
   },
   {
    "duration": 9,
    "start_time": "2021-06-26T12:20:20.515Z"
   },
   {
    "duration": 40,
    "start_time": "2021-06-26T12:20:20.526Z"
   },
   {
    "duration": 631,
    "start_time": "2021-06-26T12:20:20.569Z"
   },
   {
    "duration": 611,
    "start_time": "2021-06-26T12:20:21.202Z"
   },
   {
    "duration": 9,
    "start_time": "2021-06-26T12:20:21.816Z"
   },
   {
    "duration": 12,
    "start_time": "2021-06-26T12:20:21.827Z"
   },
   {
    "duration": 36,
    "start_time": "2021-06-26T12:20:21.842Z"
   },
   {
    "duration": 1000,
    "start_time": "2021-06-26T12:20:21.880Z"
   },
   {
    "duration": 6,
    "start_time": "2021-06-26T12:21:07.638Z"
   },
   {
    "duration": 20,
    "start_time": "2021-06-26T12:21:09.559Z"
   },
   {
    "duration": 803,
    "start_time": "2021-06-26T12:21:10.267Z"
   },
   {
    "duration": 5,
    "start_time": "2021-06-26T12:22:11.555Z"
   },
   {
    "duration": 19,
    "start_time": "2021-06-26T12:22:11.987Z"
   },
   {
    "duration": 618,
    "start_time": "2021-06-26T12:22:12.380Z"
   },
   {
    "duration": 5,
    "start_time": "2021-06-26T12:22:57.572Z"
   },
   {
    "duration": 18,
    "start_time": "2021-06-26T12:22:57.741Z"
   },
   {
    "duration": 647,
    "start_time": "2021-06-26T12:22:57.939Z"
   },
   {
    "duration": 5,
    "start_time": "2021-06-26T12:23:25.733Z"
   },
   {
    "duration": 18,
    "start_time": "2021-06-26T12:23:31.623Z"
   },
   {
    "duration": 16,
    "start_time": "2021-06-26T12:23:31.787Z"
   },
   {
    "duration": 6,
    "start_time": "2021-06-26T12:23:49.628Z"
   },
   {
    "duration": 16,
    "start_time": "2021-06-26T12:23:49.908Z"
   },
   {
    "duration": 698,
    "start_time": "2021-06-26T12:23:50.191Z"
   },
   {
    "duration": 4,
    "start_time": "2021-06-26T12:24:47.199Z"
   },
   {
    "duration": 34,
    "start_time": "2021-06-26T12:24:47.206Z"
   },
   {
    "duration": 8,
    "start_time": "2021-06-26T12:24:47.244Z"
   },
   {
    "duration": 13,
    "start_time": "2021-06-26T12:24:47.256Z"
   },
   {
    "duration": 9,
    "start_time": "2021-06-26T12:24:47.271Z"
   },
   {
    "duration": 551,
    "start_time": "2021-06-26T12:24:47.283Z"
   },
   {
    "duration": 660,
    "start_time": "2021-06-26T12:24:47.837Z"
   },
   {
    "duration": 8,
    "start_time": "2021-06-26T12:24:48.500Z"
   },
   {
    "duration": 5,
    "start_time": "2021-06-26T12:24:48.511Z"
   },
   {
    "duration": 18,
    "start_time": "2021-06-26T12:24:48.518Z"
   },
   {
    "duration": 19,
    "start_time": "2021-06-26T12:24:48.567Z"
   },
   {
    "duration": 4,
    "start_time": "2021-06-26T12:26:09.103Z"
   },
   {
    "duration": 17,
    "start_time": "2021-06-26T12:26:09.696Z"
   },
   {
    "duration": 619,
    "start_time": "2021-06-26T12:26:09.997Z"
   },
   {
    "duration": 16,
    "start_time": "2021-06-26T12:29:30.332Z"
   },
   {
    "duration": 17,
    "start_time": "2021-06-26T12:29:30.891Z"
   },
   {
    "duration": 14,
    "start_time": "2021-06-26T12:30:01.107Z"
   },
   {
    "duration": 15,
    "start_time": "2021-06-26T12:30:05.546Z"
   },
   {
    "duration": 15,
    "start_time": "2021-06-26T12:30:10.586Z"
   },
   {
    "duration": 15,
    "start_time": "2021-06-26T12:30:14.549Z"
   },
   {
    "duration": 18,
    "start_time": "2021-06-26T12:31:08.148Z"
   },
   {
    "duration": 7,
    "start_time": "2021-06-26T12:31:17.332Z"
   },
   {
    "duration": 13,
    "start_time": "2021-06-26T12:31:21.979Z"
   },
   {
    "duration": 18,
    "start_time": "2021-06-26T12:31:26.131Z"
   },
   {
    "duration": 13,
    "start_time": "2021-06-26T12:31:30.436Z"
   },
   {
    "duration": 14,
    "start_time": "2021-06-26T12:31:33.059Z"
   },
   {
    "duration": 14,
    "start_time": "2021-06-26T12:32:05.098Z"
   },
   {
    "duration": 6,
    "start_time": "2021-06-26T12:33:46.728Z"
   },
   {
    "duration": 17,
    "start_time": "2021-06-26T12:33:47.312Z"
   },
   {
    "duration": 17,
    "start_time": "2021-06-26T12:33:47.824Z"
   },
   {
    "duration": 19,
    "start_time": "2021-06-26T12:34:29.952Z"
   },
   {
    "duration": 16,
    "start_time": "2021-06-26T12:34:37.593Z"
   },
   {
    "duration": 114,
    "start_time": "2021-06-26T12:37:16.691Z"
   },
   {
    "duration": 9,
    "start_time": "2021-06-26T12:37:33.763Z"
   },
   {
    "duration": 17,
    "start_time": "2021-06-26T12:37:35.817Z"
   },
   {
    "duration": 16,
    "start_time": "2021-06-26T12:37:36.321Z"
   },
   {
    "duration": 10,
    "start_time": "2021-06-26T12:38:45.520Z"
   },
   {
    "duration": 17,
    "start_time": "2021-06-26T12:38:45.923Z"
   },
   {
    "duration": 17,
    "start_time": "2021-06-26T12:38:46.374Z"
   },
   {
    "duration": 12,
    "start_time": "2021-06-26T12:42:03.050Z"
   },
   {
    "duration": 17,
    "start_time": "2021-06-26T12:42:03.480Z"
   },
   {
    "duration": 18,
    "start_time": "2021-06-26T12:42:04.008Z"
   },
   {
    "duration": 4,
    "start_time": "2021-06-26T12:42:53.603Z"
   },
   {
    "duration": 40,
    "start_time": "2021-06-26T12:42:53.609Z"
   },
   {
    "duration": 7,
    "start_time": "2021-06-26T12:42:53.652Z"
   },
   {
    "duration": 8,
    "start_time": "2021-06-26T12:42:53.662Z"
   },
   {
    "duration": 9,
    "start_time": "2021-06-26T12:42:53.672Z"
   },
   {
    "duration": 635,
    "start_time": "2021-06-26T12:42:53.683Z"
   },
   {
    "duration": 582,
    "start_time": "2021-06-26T12:42:54.321Z"
   },
   {
    "duration": 9,
    "start_time": "2021-06-26T12:42:54.906Z"
   },
   {
    "duration": 12,
    "start_time": "2021-06-26T12:42:54.917Z"
   },
   {
    "duration": 49,
    "start_time": "2021-06-26T12:42:54.932Z"
   },
   {
    "duration": 17,
    "start_time": "2021-06-26T12:42:54.983Z"
   },
   {
    "duration": 4,
    "start_time": "2021-06-26T12:45:42.783Z"
   },
   {
    "duration": 37,
    "start_time": "2021-06-26T12:45:42.789Z"
   },
   {
    "duration": 7,
    "start_time": "2021-06-26T12:45:42.828Z"
   },
   {
    "duration": 8,
    "start_time": "2021-06-26T12:45:42.838Z"
   },
   {
    "duration": 20,
    "start_time": "2021-06-26T12:45:42.848Z"
   },
   {
    "duration": 549,
    "start_time": "2021-06-26T12:45:42.870Z"
   },
   {
    "duration": 590,
    "start_time": "2021-06-26T12:45:43.421Z"
   },
   {
    "duration": 9,
    "start_time": "2021-06-26T12:45:44.016Z"
   },
   {
    "duration": 11,
    "start_time": "2021-06-26T12:45:44.028Z"
   },
   {
    "duration": 40,
    "start_time": "2021-06-26T12:45:44.042Z"
   },
   {
    "duration": 84,
    "start_time": "2021-06-26T12:45:44.085Z"
   },
   {
    "duration": 1385,
    "start_time": "2021-06-26T20:03:52.997Z"
   },
   {
    "duration": 42,
    "start_time": "2021-06-26T20:03:54.384Z"
   },
   {
    "duration": 8,
    "start_time": "2021-06-26T20:03:54.429Z"
   },
   {
    "duration": 23,
    "start_time": "2021-06-26T20:03:54.440Z"
   },
   {
    "duration": 20,
    "start_time": "2021-06-26T20:03:54.465Z"
   },
   {
    "duration": 645,
    "start_time": "2021-06-26T20:03:54.488Z"
   },
   {
    "duration": 592,
    "start_time": "2021-06-26T20:03:55.135Z"
   },
   {
    "duration": 10,
    "start_time": "2021-06-26T20:03:55.729Z"
   },
   {
    "duration": 27,
    "start_time": "2021-06-26T20:03:55.742Z"
   },
   {
    "duration": 18,
    "start_time": "2021-06-26T20:03:55.771Z"
   },
   {
    "duration": 70,
    "start_time": "2021-06-26T20:03:55.792Z"
   },
   {
    "duration": 1450,
    "start_time": "2021-06-29T16:20:04.970Z"
   },
   {
    "duration": 82,
    "start_time": "2021-06-29T16:20:06.422Z"
   },
   {
    "duration": 11,
    "start_time": "2021-06-29T16:20:06.508Z"
   },
   {
    "duration": 17,
    "start_time": "2021-06-29T16:20:06.523Z"
   },
   {
    "duration": 13,
    "start_time": "2021-06-29T16:20:06.543Z"
   },
   {
    "duration": 642,
    "start_time": "2021-06-29T16:20:06.559Z"
   },
   {
    "duration": 570,
    "start_time": "2021-06-29T16:20:07.204Z"
   },
   {
    "duration": 8,
    "start_time": "2021-06-29T16:20:07.779Z"
   },
   {
    "duration": 105,
    "start_time": "2021-06-29T16:20:07.801Z"
   },
   {
    "duration": -354,
    "start_time": "2021-06-29T16:20:08.263Z"
   },
   {
    "duration": -364,
    "start_time": "2021-06-29T16:20:08.274Z"
   },
   {
    "duration": 8,
    "start_time": "2021-06-29T16:20:20.658Z"
   },
   {
    "duration": 17,
    "start_time": "2021-06-29T16:20:25.563Z"
   },
   {
    "duration": 15,
    "start_time": "2021-06-29T16:20:25.747Z"
   },
   {
    "duration": 7,
    "start_time": "2021-06-29T16:25:01.062Z"
   },
   {
    "duration": 16,
    "start_time": "2021-06-29T16:25:03.134Z"
   },
   {
    "duration": 697,
    "start_time": "2021-06-29T16:25:03.987Z"
   },
   {
    "duration": 8,
    "start_time": "2021-06-29T16:27:01.186Z"
   },
   {
    "duration": 18,
    "start_time": "2021-06-29T16:27:02.339Z"
   },
   {
    "duration": 16,
    "start_time": "2021-06-29T16:27:03.130Z"
   },
   {
    "duration": 5,
    "start_time": "2021-06-29T16:41:31.983Z"
   },
   {
    "duration": 62,
    "start_time": "2021-06-29T16:41:31.990Z"
   },
   {
    "duration": 9,
    "start_time": "2021-06-29T16:41:32.055Z"
   },
   {
    "duration": 14,
    "start_time": "2021-06-29T16:41:32.068Z"
   },
   {
    "duration": 11,
    "start_time": "2021-06-29T16:41:32.085Z"
   },
   {
    "duration": 502,
    "start_time": "2021-06-29T16:41:32.098Z"
   },
   {
    "duration": 642,
    "start_time": "2021-06-29T16:41:32.603Z"
   },
   {
    "duration": 9,
    "start_time": "2021-06-29T16:41:33.249Z"
   },
   {
    "duration": 7,
    "start_time": "2021-06-29T16:41:33.261Z"
   },
   {
    "duration": 37,
    "start_time": "2021-06-29T16:41:33.271Z"
   },
   {
    "duration": 18,
    "start_time": "2021-06-29T16:41:33.311Z"
   },
   {
    "duration": 1399,
    "start_time": "2021-06-30T09:15:56.490Z"
   },
   {
    "duration": 44,
    "start_time": "2021-06-30T09:15:57.891Z"
   },
   {
    "duration": 8,
    "start_time": "2021-06-30T09:15:57.938Z"
   },
   {
    "duration": 12,
    "start_time": "2021-06-30T09:15:57.949Z"
   },
   {
    "duration": 15,
    "start_time": "2021-06-30T09:15:57.963Z"
   },
   {
    "duration": 650,
    "start_time": "2021-06-30T09:15:57.980Z"
   },
   {
    "duration": 598,
    "start_time": "2021-06-30T09:15:58.632Z"
   },
   {
    "duration": 9,
    "start_time": "2021-06-30T09:15:59.233Z"
   },
   {
    "duration": 6,
    "start_time": "2021-06-30T09:15:59.244Z"
   },
   {
    "duration": 18,
    "start_time": "2021-06-30T09:15:59.252Z"
   },
   {
    "duration": 61,
    "start_time": "2021-06-30T09:15:59.272Z"
   },
   {
    "duration": 242,
    "start_time": "2021-06-30T11:10:30.788Z"
   },
   {
    "duration": 945,
    "start_time": "2021-06-30T11:10:35.750Z"
   },
   {
    "duration": 32,
    "start_time": "2021-06-30T11:10:36.697Z"
   },
   {
    "duration": 5,
    "start_time": "2021-06-30T11:10:36.731Z"
   },
   {
    "duration": 10,
    "start_time": "2021-06-30T11:10:36.738Z"
   },
   {
    "duration": 10,
    "start_time": "2021-06-30T11:10:36.749Z"
   },
   {
    "duration": 392,
    "start_time": "2021-06-30T11:10:36.760Z"
   },
   {
    "duration": 352,
    "start_time": "2021-06-30T11:10:37.154Z"
   },
   {
    "duration": 6,
    "start_time": "2021-06-30T11:10:37.508Z"
   },
   {
    "duration": 5,
    "start_time": "2021-06-30T11:10:37.516Z"
   },
   {
    "duration": 275,
    "start_time": "2021-06-30T11:10:37.522Z"
   },
   {
    "duration": 55,
    "start_time": "2021-06-30T11:10:37.744Z"
   },
   {
    "duration": 54,
    "start_time": "2021-06-30T11:10:37.746Z"
   },
   {
    "duration": 5,
    "start_time": "2021-06-30T11:10:52.867Z"
   },
   {
    "duration": 5,
    "start_time": "2021-06-30T11:11:00.793Z"
   },
   {
    "duration": 5,
    "start_time": "2021-06-30T11:11:12.925Z"
   },
   {
    "duration": 5,
    "start_time": "2021-06-30T11:11:21.047Z"
   },
   {
    "duration": 4,
    "start_time": "2021-06-30T11:11:21.780Z"
   },
   {
    "duration": 4,
    "start_time": "2021-06-30T11:11:22.334Z"
   },
   {
    "duration": 5,
    "start_time": "2021-06-30T11:11:24.273Z"
   },
   {
    "duration": 4,
    "start_time": "2021-06-30T11:11:24.713Z"
   },
   {
    "duration": 4,
    "start_time": "2021-06-30T11:11:25.160Z"
   },
   {
    "duration": 5,
    "start_time": "2021-06-30T11:11:28.678Z"
   },
   {
    "duration": 4,
    "start_time": "2021-06-30T11:11:32.592Z"
   },
   {
    "duration": 1012,
    "start_time": "2021-06-30T11:11:40.674Z"
   },
   {
    "duration": 31,
    "start_time": "2021-06-30T11:11:41.688Z"
   },
   {
    "duration": 5,
    "start_time": "2021-06-30T11:11:41.721Z"
   },
   {
    "duration": 5,
    "start_time": "2021-06-30T11:11:41.728Z"
   },
   {
    "duration": 6,
    "start_time": "2021-06-30T11:11:41.735Z"
   },
   {
    "duration": 398,
    "start_time": "2021-06-30T11:11:41.742Z"
   },
   {
    "duration": 362,
    "start_time": "2021-06-30T11:11:42.142Z"
   },
   {
    "duration": 6,
    "start_time": "2021-06-30T11:11:42.506Z"
   },
   {
    "duration": 5,
    "start_time": "2021-06-30T11:11:42.514Z"
   },
   {
    "duration": 7,
    "start_time": "2021-06-30T11:11:42.520Z"
   },
   {
    "duration": 5,
    "start_time": "2021-06-30T11:11:42.528Z"
   },
   {
    "duration": 5,
    "start_time": "2021-06-30T11:11:42.534Z"
   },
   {
    "duration": 13,
    "start_time": "2021-06-30T11:11:42.540Z"
   },
   {
    "duration": 44,
    "start_time": "2021-06-30T11:11:42.554Z"
   },
   {
    "duration": 1021,
    "start_time": "2021-06-30T11:12:39.376Z"
   },
   {
    "duration": 33,
    "start_time": "2021-06-30T11:12:40.399Z"
   },
   {
    "duration": 6,
    "start_time": "2021-06-30T11:12:40.434Z"
   },
   {
    "duration": 8,
    "start_time": "2021-06-30T11:12:40.442Z"
   },
   {
    "duration": 7,
    "start_time": "2021-06-30T11:12:40.451Z"
   },
   {
    "duration": 396,
    "start_time": "2021-06-30T11:12:40.459Z"
   },
   {
    "duration": 369,
    "start_time": "2021-06-30T11:12:40.856Z"
   },
   {
    "duration": 6,
    "start_time": "2021-06-30T11:12:41.227Z"
   },
   {
    "duration": 4,
    "start_time": "2021-06-30T11:12:41.236Z"
   },
   {
    "duration": 6,
    "start_time": "2021-06-30T11:12:41.241Z"
   },
   {
    "duration": 5,
    "start_time": "2021-06-30T11:12:41.248Z"
   },
   {
    "duration": 5,
    "start_time": "2021-06-30T11:12:41.255Z"
   },
   {
    "duration": 11,
    "start_time": "2021-06-30T11:12:41.285Z"
   },
   {
    "duration": 12,
    "start_time": "2021-06-30T11:12:41.298Z"
   },
   {
    "duration": 60,
    "start_time": "2021-06-30T11:14:44.329Z"
   },
   {
    "duration": 1768,
    "start_time": "2021-06-30T11:14:53.329Z"
   },
   {
    "duration": 1847,
    "start_time": "2021-06-30T11:15:02.657Z"
   },
   {
    "duration": 63,
    "start_time": "2021-06-30T11:17:28.793Z"
   },
   {
    "duration": 5,
    "start_time": "2021-06-30T11:17:35.197Z"
   },
   {
    "duration": 1034,
    "start_time": "2021-06-30T11:17:49.457Z"
   },
   {
    "duration": 32,
    "start_time": "2021-06-30T11:17:50.493Z"
   },
   {
    "duration": 5,
    "start_time": "2021-06-30T11:17:50.527Z"
   },
   {
    "duration": 10,
    "start_time": "2021-06-30T11:17:50.534Z"
   },
   {
    "duration": 13,
    "start_time": "2021-06-30T11:17:50.546Z"
   },
   {
    "duration": 388,
    "start_time": "2021-06-30T11:17:50.560Z"
   },
   {
    "duration": 365,
    "start_time": "2021-06-30T11:17:50.950Z"
   },
   {
    "duration": 7,
    "start_time": "2021-06-30T11:17:51.318Z"
   },
   {
    "duration": 6,
    "start_time": "2021-06-30T11:17:51.327Z"
   },
   {
    "duration": 16,
    "start_time": "2021-06-30T11:17:51.335Z"
   },
   {
    "duration": 9,
    "start_time": "2021-06-30T11:17:51.352Z"
   },
   {
    "duration": 21,
    "start_time": "2021-06-30T11:17:51.363Z"
   },
   {
    "duration": 10,
    "start_time": "2021-06-30T11:17:51.386Z"
   },
   {
    "duration": 9,
    "start_time": "2021-06-30T11:17:51.398Z"
   },
   {
    "duration": 5,
    "start_time": "2021-06-30T11:18:11.852Z"
   },
   {
    "duration": 1002,
    "start_time": "2021-06-30T11:18:30.682Z"
   },
   {
    "duration": 32,
    "start_time": "2021-06-30T11:18:31.686Z"
   },
   {
    "duration": 5,
    "start_time": "2021-06-30T11:18:31.720Z"
   },
   {
    "duration": 8,
    "start_time": "2021-06-30T11:18:31.727Z"
   },
   {
    "duration": 10,
    "start_time": "2021-06-30T11:18:31.737Z"
   },
   {
    "duration": 386,
    "start_time": "2021-06-30T11:18:31.748Z"
   },
   {
    "duration": 353,
    "start_time": "2021-06-30T11:18:32.136Z"
   },
   {
    "duration": 7,
    "start_time": "2021-06-30T11:18:32.491Z"
   },
   {
    "duration": 5,
    "start_time": "2021-06-30T11:18:32.499Z"
   },
   {
    "duration": 6,
    "start_time": "2021-06-30T11:18:32.505Z"
   },
   {
    "duration": 4,
    "start_time": "2021-06-30T11:18:32.513Z"
   },
   {
    "duration": 5,
    "start_time": "2021-06-30T11:18:32.519Z"
   },
   {
    "duration": 11,
    "start_time": "2021-06-30T11:18:32.525Z"
   },
   {
    "duration": 13,
    "start_time": "2021-06-30T11:18:32.537Z"
   },
   {
    "duration": 43,
    "start_time": "2021-06-30T11:18:32.551Z"
   },
   {
    "duration": 1293,
    "start_time": "2021-10-15T13:16:41.634Z"
   },
   {
    "duration": 45,
    "start_time": "2021-10-15T13:16:42.930Z"
   },
   {
    "duration": 9,
    "start_time": "2021-10-15T13:16:42.979Z"
   },
   {
    "duration": 11,
    "start_time": "2021-10-15T13:16:43.002Z"
   },
   {
    "duration": 8,
    "start_time": "2021-10-15T13:16:43.016Z"
   },
   {
    "duration": 783,
    "start_time": "2021-10-15T13:16:43.026Z"
   },
   {
    "duration": 691,
    "start_time": "2021-10-15T13:16:43.812Z"
   },
   {
    "duration": 10,
    "start_time": "2021-10-15T13:16:44.507Z"
   },
   {
    "duration": 7,
    "start_time": "2021-10-15T13:16:44.520Z"
   },
   {
    "duration": 18,
    "start_time": "2021-10-15T13:16:44.530Z"
   },
   {
    "duration": 60,
    "start_time": "2021-10-15T13:16:44.551Z"
   }
  ],
  "kernelspec": {
   "display_name": "Python 3",
   "language": "python",
   "name": "python3"
  },
  "language_info": {
   "codemirror_mode": {
    "name": "ipython",
    "version": 3
   },
   "file_extension": ".py",
   "mimetype": "text/x-python",
   "name": "python",
   "nbconvert_exporter": "python",
   "pygments_lexer": "ipython3",
   "version": "3.7.8"
  },
  "toc": {
   "base_numbering": 1,
   "nav_menu": {},
   "number_sections": true,
   "sideBar": true,
   "skip_h1_title": true,
   "title_cell": "Содержание",
   "title_sidebar": "Contents",
   "toc_cell": true,
   "toc_position": {
    "height": "calc(100% - 180px)",
    "left": "10px",
    "top": "150px",
    "width": "165px"
   },
   "toc_section_display": true,
   "toc_window_display": false
  }
 },
 "nbformat": 4,
 "nbformat_minor": 2
}
