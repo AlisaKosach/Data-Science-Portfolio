{
 "cells": [
  {
   "cell_type": "markdown",
   "metadata": {},
   "source": [
    "# Задача"
   ]
  },
  {
   "cell_type": "markdown",
   "metadata": {},
   "source": [
    "Чтобы оптимизировать производственные расходы, металлургический комбинат решил уменьшить потребление электроэнергии на этапе обработки стали. Нужно построить модель, которая предскажет температуру стали."
   ]
  },
  {
   "cell_type": "markdown",
   "metadata": {},
   "source": [
    "# Предобработка данных"
   ]
  },
  {
   "cell_type": "code",
   "execution_count": 1,
   "metadata": {},
   "outputs": [],
   "source": [
    "import pandas as pd\n",
    "import numpy as np\n",
    "import matplotlib.pyplot as plt\n",
    "\n",
    "from sklearn.model_selection import train_test_split\n",
    "from sklearn.preprocessing import StandardScaler\n",
    "from sklearn.metrics import mean_absolute_error\n",
    "from sklearn.tree import DecisionTreeRegressor\n",
    "from sklearn.ensemble import RandomForestRegressor\n",
    "from sklearn.linear_model import LinearRegression\n",
    "from sklearn.metrics import make_scorer\n",
    "from sklearn.dummy import DummyRegressor\n",
    "\n",
    "import warnings\n",
    "warnings.filterwarnings('ignore')"
   ]
  },
  {
   "cell_type": "markdown",
   "metadata": {},
   "source": [
    "##  data_arc"
   ]
  },
  {
   "cell_type": "markdown",
   "metadata": {},
   "source": [
    "Таблица data_arc результаты предобработки:\n",
    "- пропусков нет, к надлежащему типу данные приведены\n",
    "- нужно агрегировать данные по каждой партии: суммировать мощности и найти общее время нагрева. Или посчитать работу. Можно попробовать оба варианта, и посмотреть как они влияют на обучение модели.\n",
    "- есть выбросы (по результатам построения boxplot): в столбце Время нагрева (больше 4 минут), Активной мощности (больше 1.5) и Реактивной мощности (больше 1.2). Я их оставлю, так как значений сравнительно мало и они менее чем в 2 раза отличаются от верхнего квартиля данных. То есть, на мой взгляд, они и выглядят правдиво, и модель не запутают."
   ]
  },
  {
   "cell_type": "code",
   "execution_count": 2,
   "metadata": {},
   "outputs": [
    {
     "name": "stdout",
     "output_type": "stream",
     "text": [
      "<class 'pandas.core.frame.DataFrame'>\n",
      "RangeIndex: 14876 entries, 0 to 14875\n",
      "Data columns (total 5 columns):\n",
      "key                     14876 non-null int64\n",
      "Начало нагрева дугой    14876 non-null object\n",
      "Конец нагрева дугой     14876 non-null object\n",
      "Активная мощность       14876 non-null float64\n",
      "Реактивная мощность     14876 non-null float64\n",
      "dtypes: float64(2), int64(1), object(2)\n",
      "memory usage: 581.2+ KB\n"
     ]
    },
    {
     "data": {
      "text/html": [
       "<div>\n",
       "<style scoped>\n",
       "    .dataframe tbody tr th:only-of-type {\n",
       "        vertical-align: middle;\n",
       "    }\n",
       "\n",
       "    .dataframe tbody tr th {\n",
       "        vertical-align: top;\n",
       "    }\n",
       "\n",
       "    .dataframe thead th {\n",
       "        text-align: right;\n",
       "    }\n",
       "</style>\n",
       "<table border=\"1\" class=\"dataframe\">\n",
       "  <thead>\n",
       "    <tr style=\"text-align: right;\">\n",
       "      <th></th>\n",
       "      <th>key</th>\n",
       "      <th>Начало нагрева дугой</th>\n",
       "      <th>Конец нагрева дугой</th>\n",
       "      <th>Активная мощность</th>\n",
       "      <th>Реактивная мощность</th>\n",
       "    </tr>\n",
       "  </thead>\n",
       "  <tbody>\n",
       "    <tr>\n",
       "      <td>0</td>\n",
       "      <td>1</td>\n",
       "      <td>2019-05-03 11:02:14</td>\n",
       "      <td>2019-05-03 11:06:02</td>\n",
       "      <td>0.976059</td>\n",
       "      <td>0.687084</td>\n",
       "    </tr>\n",
       "    <tr>\n",
       "      <td>1</td>\n",
       "      <td>1</td>\n",
       "      <td>2019-05-03 11:07:28</td>\n",
       "      <td>2019-05-03 11:10:33</td>\n",
       "      <td>0.805607</td>\n",
       "      <td>0.520285</td>\n",
       "    </tr>\n",
       "    <tr>\n",
       "      <td>2</td>\n",
       "      <td>1</td>\n",
       "      <td>2019-05-03 11:11:44</td>\n",
       "      <td>2019-05-03 11:14:36</td>\n",
       "      <td>0.744363</td>\n",
       "      <td>0.498805</td>\n",
       "    </tr>\n",
       "    <tr>\n",
       "      <td>3</td>\n",
       "      <td>1</td>\n",
       "      <td>2019-05-03 11:18:14</td>\n",
       "      <td>2019-05-03 11:24:19</td>\n",
       "      <td>1.659363</td>\n",
       "      <td>1.062669</td>\n",
       "    </tr>\n",
       "    <tr>\n",
       "      <td>4</td>\n",
       "      <td>1</td>\n",
       "      <td>2019-05-03 11:26:09</td>\n",
       "      <td>2019-05-03 11:28:37</td>\n",
       "      <td>0.692755</td>\n",
       "      <td>0.414397</td>\n",
       "    </tr>\n",
       "  </tbody>\n",
       "</table>\n",
       "</div>"
      ],
      "text/plain": [
       "   key Начало нагрева дугой  Конец нагрева дугой  Активная мощность  \\\n",
       "0    1  2019-05-03 11:02:14  2019-05-03 11:06:02           0.976059   \n",
       "1    1  2019-05-03 11:07:28  2019-05-03 11:10:33           0.805607   \n",
       "2    1  2019-05-03 11:11:44  2019-05-03 11:14:36           0.744363   \n",
       "3    1  2019-05-03 11:18:14  2019-05-03 11:24:19           1.659363   \n",
       "4    1  2019-05-03 11:26:09  2019-05-03 11:28:37           0.692755   \n",
       "\n",
       "   Реактивная мощность  \n",
       "0             0.687084  \n",
       "1             0.520285  \n",
       "2             0.498805  \n",
       "3             1.062669  \n",
       "4             0.414397  "
      ]
     },
     "execution_count": 2,
     "metadata": {},
     "output_type": "execute_result"
    }
   ],
   "source": [
    "data_arc = pd.read_csv('/datasets/final_steel/data_arc.csv')\n",
    "data_arc.info()\n",
    "data_arc.head()"
   ]
  },
  {
   "cell_type": "code",
   "execution_count": 3,
   "metadata": {},
   "outputs": [
    {
     "name": "stdout",
     "output_type": "stream",
     "text": [
      "<class 'pandas.core.frame.DataFrame'>\n",
      "RangeIndex: 14876 entries, 0 to 14875\n",
      "Data columns (total 5 columns):\n",
      "key                     14876 non-null int64\n",
      "Начало нагрева дугой    14876 non-null datetime64[ns]\n",
      "Конец нагрева дугой     14876 non-null datetime64[ns]\n",
      "Активная мощность       14876 non-null float64\n",
      "Реактивная мощность     14876 non-null float64\n",
      "dtypes: datetime64[ns](2), float64(2), int64(1)\n",
      "memory usage: 581.2 KB\n"
     ]
    },
    {
     "data": {
      "text/plain": [
       "False"
      ]
     },
     "execution_count": 3,
     "metadata": {},
     "output_type": "execute_result"
    }
   ],
   "source": [
    "#Перевожу данные 2х столбцов в тип дата-время\n",
    "data_arc['Начало нагрева дугой'] = pd.to_datetime(data_arc['Начало нагрева дугой'])\n",
    "data_arc['Конец нагрева дугой'] = pd.to_datetime(data_arc['Конец нагрева дугой'])\n",
    "data_arc.info()\n",
    "data_arc.head()\n",
    "data_arc['Начало нагрева дугой'].is_monotonic"
   ]
  },
  {
   "cell_type": "code",
   "execution_count": 4,
   "metadata": {},
   "outputs": [
    {
     "data": {
      "image/png": "[encoded data removed]",
      "text/plain": [
       "<Figure size 1440x360 with 1 Axes>"
      ]
     },
     "metadata": {
      "needs_background": "light"
     },
     "output_type": "display_data"
    },
    {
     "data": {
      "image/png": "[encoded data removed]",
      "text/plain": [
       "<Figure size 432x288 with 1 Axes>"
      ]
     },
     "metadata": {
      "needs_background": "light"
     },
     "output_type": "display_data"
    },
    {
     "data": {
      "text/html": [
       "<div>\n",
       "<style scoped>\n",
       "    .dataframe tbody tr th:only-of-type {\n",
       "        vertical-align: middle;\n",
       "    }\n",
       "\n",
       "    .dataframe tbody tr th {\n",
       "        vertical-align: top;\n",
       "    }\n",
       "\n",
       "    .dataframe thead th {\n",
       "        text-align: right;\n",
       "    }\n",
       "</style>\n",
       "<table border=\"1\" class=\"dataframe\">\n",
       "  <thead>\n",
       "    <tr style=\"text-align: right;\">\n",
       "      <th></th>\n",
       "      <th>key</th>\n",
       "      <th>Начало нагрева дугой</th>\n",
       "      <th>Конец нагрева дугой</th>\n",
       "      <th>Активная мощность</th>\n",
       "      <th>Реактивная мощность</th>\n",
       "      <th>Время нагрева</th>\n",
       "    </tr>\n",
       "  </thead>\n",
       "  <tbody>\n",
       "    <tr>\n",
       "      <td>0</td>\n",
       "      <td>1</td>\n",
       "      <td>2019-05-03 11:02:14</td>\n",
       "      <td>2019-05-03 11:06:02</td>\n",
       "      <td>0.976059</td>\n",
       "      <td>0.687084</td>\n",
       "      <td>00:03:48</td>\n",
       "    </tr>\n",
       "    <tr>\n",
       "      <td>1</td>\n",
       "      <td>1</td>\n",
       "      <td>2019-05-03 11:07:28</td>\n",
       "      <td>2019-05-03 11:10:33</td>\n",
       "      <td>0.805607</td>\n",
       "      <td>0.520285</td>\n",
       "      <td>00:03:05</td>\n",
       "    </tr>\n",
       "    <tr>\n",
       "      <td>2</td>\n",
       "      <td>1</td>\n",
       "      <td>2019-05-03 11:11:44</td>\n",
       "      <td>2019-05-03 11:14:36</td>\n",
       "      <td>0.744363</td>\n",
       "      <td>0.498805</td>\n",
       "      <td>00:02:52</td>\n",
       "    </tr>\n",
       "    <tr>\n",
       "      <td>3</td>\n",
       "      <td>1</td>\n",
       "      <td>2019-05-03 11:18:14</td>\n",
       "      <td>2019-05-03 11:24:19</td>\n",
       "      <td>1.659363</td>\n",
       "      <td>1.062669</td>\n",
       "      <td>00:06:05</td>\n",
       "    </tr>\n",
       "    <tr>\n",
       "      <td>4</td>\n",
       "      <td>1</td>\n",
       "      <td>2019-05-03 11:26:09</td>\n",
       "      <td>2019-05-03 11:28:37</td>\n",
       "      <td>0.692755</td>\n",
       "      <td>0.414397</td>\n",
       "      <td>00:02:28</td>\n",
       "    </tr>\n",
       "  </tbody>\n",
       "</table>\n",
       "</div>"
      ],
      "text/plain": [
       "   key Начало нагрева дугой Конец нагрева дугой  Активная мощность  \\\n",
       "0    1  2019-05-03 11:02:14 2019-05-03 11:06:02           0.976059   \n",
       "1    1  2019-05-03 11:07:28 2019-05-03 11:10:33           0.805607   \n",
       "2    1  2019-05-03 11:11:44 2019-05-03 11:14:36           0.744363   \n",
       "3    1  2019-05-03 11:18:14 2019-05-03 11:24:19           1.659363   \n",
       "4    1  2019-05-03 11:26:09 2019-05-03 11:28:37           0.692755   \n",
       "\n",
       "   Реактивная мощность Время нагрева  \n",
       "0             0.687084      00:03:48  \n",
       "1             0.520285      00:03:05  \n",
       "2             0.498805      00:02:52  \n",
       "3             1.062669      00:06:05  \n",
       "4             0.414397      00:02:28  "
      ]
     },
     "execution_count": 4,
     "metadata": {},
     "output_type": "execute_result"
    }
   ],
   "source": [
    "#Создаю и проверяю значения из столбца Время нагрева\n",
    "plt.figure(figsize=(20, 5))\n",
    "data_arc['Время нагрева'] = data_arc['Конец нагрева дугой'] - data_arc['Начало нагрева дугой']\n",
    "plt.plot(data_arc['Время нагрева'], 'ro')\n",
    "plt.title('Время нагрева')\n",
    "plt.show()\n",
    "plt.boxplot(data_arc['Время нагрева'].values)\n",
    "plt.title('Время нагрева')\n",
    "plt.show()\n",
    "\n",
    "data_arc.head()"
   ]
  },
  {
   "cell_type": "code",
   "execution_count": 5,
   "metadata": {},
   "outputs": [
    {
     "data": {
      "image/png": "[encoded data removed]",
      "text/plain": [
       "<Figure size 432x288 with 1 Axes>"
      ]
     },
     "metadata": {
      "needs_background": "light"
     },
     "output_type": "display_data"
    },
    {
     "data": {
      "image/png": "[encoded data removed]",
      "text/plain": [
       "<Figure size 432x288 with 1 Axes>"
      ]
     },
     "metadata": {
      "needs_background": "light"
     },
     "output_type": "display_data"
    }
   ],
   "source": [
    "#Смотрю значения из столбца Активная мощность\n",
    "data_arc['Активная мощность'].hist(bins=100)\n",
    "plt.title('Активная мощность')\n",
    "plt.show()\n",
    "plt.boxplot(data_arc['Активная мощность'].values)\n",
    "plt.title('Активная мощность')\n",
    "plt.show()"
   ]
  },
  {
   "cell_type": "code",
   "execution_count": 6,
   "metadata": {},
   "outputs": [
    {
     "data": {
      "image/png": "[encoded data removed]",
      "text/plain": [
       "<Figure size 432x288 with 1 Axes>"
      ]
     },
     "metadata": {
      "needs_background": "light"
     },
     "output_type": "display_data"
    },
    {
     "data": {
      "image/png": "[encoded data removed]",
      "text/plain": [
       "<Figure size 432x288 with 1 Axes>"
      ]
     },
     "metadata": {
      "needs_background": "light"
     },
     "output_type": "display_data"
    },
    {
     "data": {
      "image/png": "[encoded data removed]",
      "text/plain": [
       "<Figure size 432x288 with 1 Axes>"
      ]
     },
     "metadata": {
      "needs_background": "light"
     },
     "output_type": "display_data"
    }
   ],
   "source": [
    "#Смотрю значения из столбца Реактивная мощность\n",
    "\n",
    "plt.boxplot(data_arc['Реактивная мощность'].values)\n",
    "plt.title('Реактивная мощность')\n",
    "plt.show()\n",
    "#Удаляю явный выброс со значением мощности -700\n",
    "data_arc = data_arc.drop(data_arc[data_arc['Реактивная мощность'] < -100].index)\n",
    "\n",
    "data_arc['Реактивная мощность'].hist(bins=100)\n",
    "plt.title('Реактивная мощность')\n",
    "plt.show()\n",
    "plt.boxplot(data_arc['Реактивная мощность'].values)\n",
    "plt.title('Реактивная мощность')\n",
    "plt.show()"
   ]
  },
  {
   "cell_type": "markdown",
   "metadata": {},
   "source": [
    "## data_bulk"
   ]
  },
  {
   "cell_type": "markdown",
   "metadata": {},
   "source": [
    "Таблица data_bulk результаты предобработки:\n",
    "- пропуски занимают большую часть таблицы. Столбцы с количеством значений менее 20 были удалены, в остальных пропуски заменены на 0\n",
    "- удалена 1 строка с аномально большими значениями bulk в нескольких столбцах"
   ]
  },
  {
   "cell_type": "code",
   "execution_count": 7,
   "metadata": {},
   "outputs": [
    {
     "name": "stdout",
     "output_type": "stream",
     "text": [
      "<class 'pandas.core.frame.DataFrame'>\n",
      "RangeIndex: 3129 entries, 0 to 3128\n",
      "Data columns (total 16 columns):\n",
      "key        3129 non-null int64\n",
      "Bulk 1     252 non-null float64\n",
      "Bulk 2     22 non-null float64\n",
      "Bulk 3     1298 non-null float64\n",
      "Bulk 4     1014 non-null float64\n",
      "Bulk 5     77 non-null float64\n",
      "Bulk 6     576 non-null float64\n",
      "Bulk 7     25 non-null float64\n",
      "Bulk 8     1 non-null float64\n",
      "Bulk 9     19 non-null float64\n",
      "Bulk 10    176 non-null float64\n",
      "Bulk 11    177 non-null float64\n",
      "Bulk 12    2450 non-null float64\n",
      "Bulk 13    18 non-null float64\n",
      "Bulk 14    2806 non-null float64\n",
      "Bulk 15    2248 non-null float64\n",
      "dtypes: float64(15), int64(1)\n",
      "memory usage: 391.2 KB\n"
     ]
    },
    {
     "data": {
      "text/html": [
       "<div>\n",
       "<style scoped>\n",
       "    .dataframe tbody tr th:only-of-type {\n",
       "        vertical-align: middle;\n",
       "    }\n",
       "\n",
       "    .dataframe tbody tr th {\n",
       "        vertical-align: top;\n",
       "    }\n",
       "\n",
       "    .dataframe thead th {\n",
       "        text-align: right;\n",
       "    }\n",
       "</style>\n",
       "<table border=\"1\" class=\"dataframe\">\n",
       "  <thead>\n",
       "    <tr style=\"text-align: right;\">\n",
       "      <th></th>\n",
       "      <th>key</th>\n",
       "      <th>Bulk 1</th>\n",
       "      <th>Bulk 2</th>\n",
       "      <th>Bulk 3</th>\n",
       "      <th>Bulk 4</th>\n",
       "      <th>Bulk 5</th>\n",
       "      <th>Bulk 6</th>\n",
       "      <th>Bulk 7</th>\n",
       "      <th>Bulk 8</th>\n",
       "      <th>Bulk 9</th>\n",
       "      <th>Bulk 10</th>\n",
       "      <th>Bulk 11</th>\n",
       "      <th>Bulk 12</th>\n",
       "      <th>Bulk 13</th>\n",
       "      <th>Bulk 14</th>\n",
       "      <th>Bulk 15</th>\n",
       "    </tr>\n",
       "  </thead>\n",
       "  <tbody>\n",
       "    <tr>\n",
       "      <td>0</td>\n",
       "      <td>1</td>\n",
       "      <td>NaN</td>\n",
       "      <td>NaN</td>\n",
       "      <td>NaN</td>\n",
       "      <td>43.0</td>\n",
       "      <td>NaN</td>\n",
       "      <td>NaN</td>\n",
       "      <td>NaN</td>\n",
       "      <td>NaN</td>\n",
       "      <td>NaN</td>\n",
       "      <td>NaN</td>\n",
       "      <td>NaN</td>\n",
       "      <td>206.0</td>\n",
       "      <td>NaN</td>\n",
       "      <td>150.0</td>\n",
       "      <td>154.0</td>\n",
       "    </tr>\n",
       "    <tr>\n",
       "      <td>1</td>\n",
       "      <td>2</td>\n",
       "      <td>NaN</td>\n",
       "      <td>NaN</td>\n",
       "      <td>NaN</td>\n",
       "      <td>73.0</td>\n",
       "      <td>NaN</td>\n",
       "      <td>NaN</td>\n",
       "      <td>NaN</td>\n",
       "      <td>NaN</td>\n",
       "      <td>NaN</td>\n",
       "      <td>NaN</td>\n",
       "      <td>NaN</td>\n",
       "      <td>206.0</td>\n",
       "      <td>NaN</td>\n",
       "      <td>149.0</td>\n",
       "      <td>154.0</td>\n",
       "    </tr>\n",
       "    <tr>\n",
       "      <td>2</td>\n",
       "      <td>3</td>\n",
       "      <td>NaN</td>\n",
       "      <td>NaN</td>\n",
       "      <td>NaN</td>\n",
       "      <td>34.0</td>\n",
       "      <td>NaN</td>\n",
       "      <td>NaN</td>\n",
       "      <td>NaN</td>\n",
       "      <td>NaN</td>\n",
       "      <td>NaN</td>\n",
       "      <td>NaN</td>\n",
       "      <td>NaN</td>\n",
       "      <td>205.0</td>\n",
       "      <td>NaN</td>\n",
       "      <td>152.0</td>\n",
       "      <td>153.0</td>\n",
       "    </tr>\n",
       "    <tr>\n",
       "      <td>3</td>\n",
       "      <td>4</td>\n",
       "      <td>NaN</td>\n",
       "      <td>NaN</td>\n",
       "      <td>NaN</td>\n",
       "      <td>81.0</td>\n",
       "      <td>NaN</td>\n",
       "      <td>NaN</td>\n",
       "      <td>NaN</td>\n",
       "      <td>NaN</td>\n",
       "      <td>NaN</td>\n",
       "      <td>NaN</td>\n",
       "      <td>NaN</td>\n",
       "      <td>207.0</td>\n",
       "      <td>NaN</td>\n",
       "      <td>153.0</td>\n",
       "      <td>154.0</td>\n",
       "    </tr>\n",
       "    <tr>\n",
       "      <td>4</td>\n",
       "      <td>5</td>\n",
       "      <td>NaN</td>\n",
       "      <td>NaN</td>\n",
       "      <td>NaN</td>\n",
       "      <td>78.0</td>\n",
       "      <td>NaN</td>\n",
       "      <td>NaN</td>\n",
       "      <td>NaN</td>\n",
       "      <td>NaN</td>\n",
       "      <td>NaN</td>\n",
       "      <td>NaN</td>\n",
       "      <td>NaN</td>\n",
       "      <td>203.0</td>\n",
       "      <td>NaN</td>\n",
       "      <td>151.0</td>\n",
       "      <td>152.0</td>\n",
       "    </tr>\n",
       "  </tbody>\n",
       "</table>\n",
       "</div>"
      ],
      "text/plain": [
       "   key  Bulk 1  Bulk 2  Bulk 3  Bulk 4  Bulk 5  Bulk 6  Bulk 7  Bulk 8  \\\n",
       "0    1     NaN     NaN     NaN    43.0     NaN     NaN     NaN     NaN   \n",
       "1    2     NaN     NaN     NaN    73.0     NaN     NaN     NaN     NaN   \n",
       "2    3     NaN     NaN     NaN    34.0     NaN     NaN     NaN     NaN   \n",
       "3    4     NaN     NaN     NaN    81.0     NaN     NaN     NaN     NaN   \n",
       "4    5     NaN     NaN     NaN    78.0     NaN     NaN     NaN     NaN   \n",
       "\n",
       "   Bulk 9  Bulk 10  Bulk 11  Bulk 12  Bulk 13  Bulk 14  Bulk 15  \n",
       "0     NaN      NaN      NaN    206.0      NaN    150.0    154.0  \n",
       "1     NaN      NaN      NaN    206.0      NaN    149.0    154.0  \n",
       "2     NaN      NaN      NaN    205.0      NaN    152.0    153.0  \n",
       "3     NaN      NaN      NaN    207.0      NaN    153.0    154.0  \n",
       "4     NaN      NaN      NaN    203.0      NaN    151.0    152.0  "
      ]
     },
     "execution_count": 7,
     "metadata": {},
     "output_type": "execute_result"
    }
   ],
   "source": [
    "data_bulk = pd.read_csv('/datasets/final_steel/data_bulk.csv')\n",
    "data_bulk.info()\n",
    "data_bulk.head()"
   ]
  },
  {
   "cell_type": "code",
   "execution_count": 8,
   "metadata": {},
   "outputs": [
    {
     "name": "stdout",
     "output_type": "stream",
     "text": [
      "Bulk 1\n"
     ]
    },
    {
     "data": {
      "image/png": "[encoded data removed]",
      "text/plain": [
       "<Figure size 432x288 with 1 Axes>"
      ]
     },
     "metadata": {
      "needs_background": "light"
     },
     "output_type": "display_data"
    },
    {
     "name": "stdout",
     "output_type": "stream",
     "text": [
      "Bulk 2\n"
     ]
    },
    {
     "data": {
      "image/png": "[encoded data removed]",
      "text/plain": [
       "<Figure size 432x288 with 1 Axes>"
      ]
     },
     "metadata": {
      "needs_background": "light"
     },
     "output_type": "display_data"
    },
    {
     "name": "stdout",
     "output_type": "stream",
     "text": [
      "Bulk 3\n"
     ]
    },
    {
     "data": {
      "image/png": "[encoded data removed]",
      "text/plain": [
       "<Figure size 432x288 with 1 Axes>"
      ]
     },
     "metadata": {
      "needs_background": "light"
     },
     "output_type": "display_data"
    },
    {
     "name": "stdout",
     "output_type": "stream",
     "text": [
      "Bulk 4\n"
     ]
    },
    {
     "data": {
      "image/png": "[encoded data removed]",
      "text/plain": [
       "<Figure size 432x288 with 1 Axes>"
      ]
     },
     "metadata": {
      "needs_background": "light"
     },
     "output_type": "display_data"
    },
    {
     "name": "stdout",
     "output_type": "stream",
     "text": [
      "Bulk 5\n"
     ]
    },
    {
     "data": {
      "image/png": "[encoded data removed]",
      "text/plain": [
       "<Figure size 432x288 with 1 Axes>"
      ]
     },
     "metadata": {
      "needs_background": "light"
     },
     "output_type": "display_data"
    },
    {
     "name": "stdout",
     "output_type": "stream",
     "text": [
      "Bulk 6\n"
     ]
    },
    {
     "data": {
      "image/png": "[encoded data removed]",
      "text/plain": [
       "<Figure size 432x288 with 1 Axes>"
      ]
     },
     "metadata": {
      "needs_background": "light"
     },
     "output_type": "display_data"
    },
    {
     "name": "stdout",
     "output_type": "stream",
     "text": [
      "Bulk 7\n"
     ]
    },
    {
     "data": {
      "image/png": "[encoded data removed]",
      "text/plain": [
       "<Figure size 432x288 with 1 Axes>"
      ]
     },
     "metadata": {
      "needs_background": "light"
     },
     "output_type": "display_data"
    },
    {
     "name": "stdout",
     "output_type": "stream",
     "text": [
      "Bulk 8\n"
     ]
    },
    {
     "data": {
      "image/png": "[encoded data removed]",
      "text/plain": [
       "<Figure size 432x288 with 1 Axes>"
      ]
     },
     "metadata": {
      "needs_background": "light"
     },
     "output_type": "display_data"
    },
    {
     "name": "stdout",
     "output_type": "stream",
     "text": [
      "Bulk 9\n"
     ]
    },
    {
     "data": {
      "image/png": "[encoded data removed]",
      "text/plain": [
       "<Figure size 432x288 with 1 Axes>"
      ]
     },
     "metadata": {
      "needs_background": "light"
     },
     "output_type": "display_data"
    },
    {
     "name": "stdout",
     "output_type": "stream",
     "text": [
      "Bulk 10\n"
     ]
    },
    {
     "data": {
      "image/png": "[encoded data removed]",
      "text/plain": [
       "<Figure size 432x288 with 1 Axes>"
      ]
     },
     "metadata": {
      "needs_background": "light"
     },
     "output_type": "display_data"
    },
    {
     "name": "stdout",
     "output_type": "stream",
     "text": [
      "Bulk 11\n"
     ]
    },
    {
     "data": {
      "image/png": "[encoded data removed]",
      "text/plain": [
       "<Figure size 432x288 with 1 Axes>"
      ]
     },
     "metadata": {
      "needs_background": "light"
     },
     "output_type": "display_data"
    },
    {
     "name": "stdout",
     "output_type": "stream",
     "text": [
      "Bulk 12\n"
     ]
    },
    {
     "data": {
      "image/png": "[encoded data removed]",
      "text/plain": [
       "<Figure size 432x288 with 1 Axes>"
      ]
     },
     "metadata": {
      "needs_background": "light"
     },
     "output_type": "display_data"
    },
    {
     "name": "stdout",
     "output_type": "stream",
     "text": [
      "Bulk 13\n"
     ]
    },
    {
     "data": {
      "image/png": "[encoded data removed]",
      "text/plain": [
       "<Figure size 432x288 with 1 Axes>"
      ]
     },
     "metadata": {
      "needs_background": "light"
     },
     "output_type": "display_data"
    },
    {
     "name": "stdout",
     "output_type": "stream",
     "text": [
      "Bulk 14\n"
     ]
    },
    {
     "data": {
      "image/png": "[encoded data removed]",
      "text/plain": [
       "<Figure size 432x288 with 1 Axes>"
      ]
     },
     "metadata": {
      "needs_background": "light"
     },
     "output_type": "display_data"
    },
    {
     "name": "stdout",
     "output_type": "stream",
     "text": [
      "Bulk 15\n"
     ]
    },
    {
     "data": {
      "image/png": "[encoded data removed]",
      "text/plain": [
       "<Figure size 432x288 with 1 Axes>"
      ]
     },
     "metadata": {
      "needs_background": "light"
     },
     "output_type": "display_data"
    }
   ],
   "source": [
    "for i in range(1, 16):\n",
    "    print('Bulk {}'.format(i))\n",
    "    data_bulk['Bulk {}'.format(i)].hist(bins=100)\n",
    "    plt.show()"
   ]
  },
  {
   "cell_type": "code",
   "execution_count": 9,
   "metadata": {},
   "outputs": [
    {
     "data": {
      "text/html": [
       "<div>\n",
       "<style scoped>\n",
       "    .dataframe tbody tr th:only-of-type {\n",
       "        vertical-align: middle;\n",
       "    }\n",
       "\n",
       "    .dataframe tbody tr th {\n",
       "        vertical-align: top;\n",
       "    }\n",
       "\n",
       "    .dataframe thead th {\n",
       "        text-align: right;\n",
       "    }\n",
       "</style>\n",
       "<table border=\"1\" class=\"dataframe\">\n",
       "  <thead>\n",
       "    <tr style=\"text-align: right;\">\n",
       "      <th></th>\n",
       "      <th>key</th>\n",
       "      <th>Bulk 1</th>\n",
       "      <th>Bulk 2</th>\n",
       "      <th>Bulk 3</th>\n",
       "      <th>Bulk 4</th>\n",
       "      <th>Bulk 5</th>\n",
       "      <th>Bulk 6</th>\n",
       "      <th>Bulk 7</th>\n",
       "      <th>Bulk 8</th>\n",
       "      <th>Bulk 9</th>\n",
       "      <th>Bulk 10</th>\n",
       "      <th>Bulk 11</th>\n",
       "      <th>Bulk 12</th>\n",
       "      <th>Bulk 13</th>\n",
       "      <th>Bulk 14</th>\n",
       "      <th>Bulk 15</th>\n",
       "    </tr>\n",
       "  </thead>\n",
       "  <tbody>\n",
       "    <tr>\n",
       "      <td>303</td>\n",
       "      <td>322</td>\n",
       "      <td>185.0</td>\n",
       "      <td>NaN</td>\n",
       "      <td>101.0</td>\n",
       "      <td>58.0</td>\n",
       "      <td>NaN</td>\n",
       "      <td>NaN</td>\n",
       "      <td>406.0</td>\n",
       "      <td>NaN</td>\n",
       "      <td>NaN</td>\n",
       "      <td>NaN</td>\n",
       "      <td>NaN</td>\n",
       "      <td>1849.0</td>\n",
       "      <td>NaN</td>\n",
       "      <td>636.0</td>\n",
       "      <td>NaN</td>\n",
       "    </tr>\n",
       "  </tbody>\n",
       "</table>\n",
       "</div>"
      ],
      "text/plain": [
       "     key  Bulk 1  Bulk 2  Bulk 3  Bulk 4  Bulk 5  Bulk 6  Bulk 7  Bulk 8  \\\n",
       "303  322   185.0     NaN   101.0    58.0     NaN     NaN   406.0     NaN   \n",
       "\n",
       "     Bulk 9  Bulk 10  Bulk 11  Bulk 12  Bulk 13  Bulk 14  Bulk 15  \n",
       "303     NaN      NaN      NaN   1849.0      NaN    636.0      NaN  "
      ]
     },
     "metadata": {},
     "output_type": "display_data"
    },
    {
     "data": {
      "text/html": [
       "<div>\n",
       "<style scoped>\n",
       "    .dataframe tbody tr th:only-of-type {\n",
       "        vertical-align: middle;\n",
       "    }\n",
       "\n",
       "    .dataframe tbody tr th {\n",
       "        vertical-align: top;\n",
       "    }\n",
       "\n",
       "    .dataframe thead th {\n",
       "        text-align: right;\n",
       "    }\n",
       "</style>\n",
       "<table border=\"1\" class=\"dataframe\">\n",
       "  <thead>\n",
       "    <tr style=\"text-align: right;\">\n",
       "      <th></th>\n",
       "      <th>key</th>\n",
       "      <th>Bulk 1</th>\n",
       "      <th>Bulk 2</th>\n",
       "      <th>Bulk 3</th>\n",
       "      <th>Bulk 4</th>\n",
       "      <th>Bulk 5</th>\n",
       "      <th>Bulk 6</th>\n",
       "      <th>Bulk 7</th>\n",
       "      <th>Bulk 8</th>\n",
       "      <th>Bulk 9</th>\n",
       "      <th>Bulk 10</th>\n",
       "      <th>Bulk 11</th>\n",
       "      <th>Bulk 12</th>\n",
       "      <th>Bulk 13</th>\n",
       "      <th>Bulk 14</th>\n",
       "      <th>Bulk 15</th>\n",
       "    </tr>\n",
       "  </thead>\n",
       "  <tbody>\n",
       "    <tr>\n",
       "      <td>303</td>\n",
       "      <td>322</td>\n",
       "      <td>185.0</td>\n",
       "      <td>NaN</td>\n",
       "      <td>101.0</td>\n",
       "      <td>58.0</td>\n",
       "      <td>NaN</td>\n",
       "      <td>NaN</td>\n",
       "      <td>406.0</td>\n",
       "      <td>NaN</td>\n",
       "      <td>NaN</td>\n",
       "      <td>NaN</td>\n",
       "      <td>NaN</td>\n",
       "      <td>1849.0</td>\n",
       "      <td>NaN</td>\n",
       "      <td>636.0</td>\n",
       "      <td>NaN</td>\n",
       "    </tr>\n",
       "  </tbody>\n",
       "</table>\n",
       "</div>"
      ],
      "text/plain": [
       "     key  Bulk 1  Bulk 2  Bulk 3  Bulk 4  Bulk 5  Bulk 6  Bulk 7  Bulk 8  \\\n",
       "303  322   185.0     NaN   101.0    58.0     NaN     NaN   406.0     NaN   \n",
       "\n",
       "     Bulk 9  Bulk 10  Bulk 11  Bulk 12  Bulk 13  Bulk 14  Bulk 15  \n",
       "303     NaN      NaN      NaN   1849.0      NaN    636.0      NaN  "
      ]
     },
     "metadata": {},
     "output_type": "display_data"
    }
   ],
   "source": [
    "#Найдены несколько аномально боьших значений, и все в одной строке\n",
    "display(data_bulk.loc[data_bulk['Bulk 1'] > 150])\n",
    "display(data_bulk.loc[data_bulk['Bulk 12'] > 1000])"
   ]
  },
  {
   "cell_type": "code",
   "execution_count": 10,
   "metadata": {},
   "outputs": [
    {
     "name": "stdout",
     "output_type": "stream",
     "text": [
      "<class 'pandas.core.frame.DataFrame'>\n",
      "RangeIndex: 3129 entries, 0 to 3128\n",
      "Data columns (total 13 columns):\n",
      "key        3129 non-null int64\n",
      "Bulk 1     3129 non-null float64\n",
      "Bulk 2     3129 non-null float64\n",
      "Bulk 3     3129 non-null float64\n",
      "Bulk 4     3129 non-null float64\n",
      "Bulk 5     3129 non-null float64\n",
      "Bulk 6     3129 non-null float64\n",
      "Bulk 7     3129 non-null float64\n",
      "Bulk 10    3129 non-null float64\n",
      "Bulk 11    3129 non-null float64\n",
      "Bulk 12    3129 non-null float64\n",
      "Bulk 14    3129 non-null float64\n",
      "Bulk 15    3129 non-null float64\n",
      "dtypes: float64(12), int64(1)\n",
      "memory usage: 317.9 KB\n"
     ]
    },
    {
     "data": {
      "text/html": [
       "<div>\n",
       "<style scoped>\n",
       "    .dataframe tbody tr th:only-of-type {\n",
       "        vertical-align: middle;\n",
       "    }\n",
       "\n",
       "    .dataframe tbody tr th {\n",
       "        vertical-align: top;\n",
       "    }\n",
       "\n",
       "    .dataframe thead th {\n",
       "        text-align: right;\n",
       "    }\n",
       "</style>\n",
       "<table border=\"1\" class=\"dataframe\">\n",
       "  <thead>\n",
       "    <tr style=\"text-align: right;\">\n",
       "      <th></th>\n",
       "      <th>key</th>\n",
       "      <th>Bulk 1</th>\n",
       "      <th>Bulk 2</th>\n",
       "      <th>Bulk 3</th>\n",
       "      <th>Bulk 4</th>\n",
       "      <th>Bulk 5</th>\n",
       "      <th>Bulk 6</th>\n",
       "      <th>Bulk 7</th>\n",
       "      <th>Bulk 10</th>\n",
       "      <th>Bulk 11</th>\n",
       "      <th>Bulk 12</th>\n",
       "      <th>Bulk 14</th>\n",
       "      <th>Bulk 15</th>\n",
       "    </tr>\n",
       "  </thead>\n",
       "  <tbody>\n",
       "    <tr>\n",
       "      <td>0</td>\n",
       "      <td>1</td>\n",
       "      <td>0.0</td>\n",
       "      <td>0.0</td>\n",
       "      <td>0.0</td>\n",
       "      <td>43.0</td>\n",
       "      <td>0.0</td>\n",
       "      <td>0.0</td>\n",
       "      <td>0.0</td>\n",
       "      <td>0.0</td>\n",
       "      <td>0.0</td>\n",
       "      <td>206.0</td>\n",
       "      <td>150.0</td>\n",
       "      <td>154.0</td>\n",
       "    </tr>\n",
       "    <tr>\n",
       "      <td>1</td>\n",
       "      <td>2</td>\n",
       "      <td>0.0</td>\n",
       "      <td>0.0</td>\n",
       "      <td>0.0</td>\n",
       "      <td>73.0</td>\n",
       "      <td>0.0</td>\n",
       "      <td>0.0</td>\n",
       "      <td>0.0</td>\n",
       "      <td>0.0</td>\n",
       "      <td>0.0</td>\n",
       "      <td>206.0</td>\n",
       "      <td>149.0</td>\n",
       "      <td>154.0</td>\n",
       "    </tr>\n",
       "    <tr>\n",
       "      <td>2</td>\n",
       "      <td>3</td>\n",
       "      <td>0.0</td>\n",
       "      <td>0.0</td>\n",
       "      <td>0.0</td>\n",
       "      <td>34.0</td>\n",
       "      <td>0.0</td>\n",
       "      <td>0.0</td>\n",
       "      <td>0.0</td>\n",
       "      <td>0.0</td>\n",
       "      <td>0.0</td>\n",
       "      <td>205.0</td>\n",
       "      <td>152.0</td>\n",
       "      <td>153.0</td>\n",
       "    </tr>\n",
       "    <tr>\n",
       "      <td>3</td>\n",
       "      <td>4</td>\n",
       "      <td>0.0</td>\n",
       "      <td>0.0</td>\n",
       "      <td>0.0</td>\n",
       "      <td>81.0</td>\n",
       "      <td>0.0</td>\n",
       "      <td>0.0</td>\n",
       "      <td>0.0</td>\n",
       "      <td>0.0</td>\n",
       "      <td>0.0</td>\n",
       "      <td>207.0</td>\n",
       "      <td>153.0</td>\n",
       "      <td>154.0</td>\n",
       "    </tr>\n",
       "    <tr>\n",
       "      <td>4</td>\n",
       "      <td>5</td>\n",
       "      <td>0.0</td>\n",
       "      <td>0.0</td>\n",
       "      <td>0.0</td>\n",
       "      <td>78.0</td>\n",
       "      <td>0.0</td>\n",
       "      <td>0.0</td>\n",
       "      <td>0.0</td>\n",
       "      <td>0.0</td>\n",
       "      <td>0.0</td>\n",
       "      <td>203.0</td>\n",
       "      <td>151.0</td>\n",
       "      <td>152.0</td>\n",
       "    </tr>\n",
       "  </tbody>\n",
       "</table>\n",
       "</div>"
      ],
      "text/plain": [
       "   key  Bulk 1  Bulk 2  Bulk 3  Bulk 4  Bulk 5  Bulk 6  Bulk 7  Bulk 10  \\\n",
       "0    1     0.0     0.0     0.0    43.0     0.0     0.0     0.0      0.0   \n",
       "1    2     0.0     0.0     0.0    73.0     0.0     0.0     0.0      0.0   \n",
       "2    3     0.0     0.0     0.0    34.0     0.0     0.0     0.0      0.0   \n",
       "3    4     0.0     0.0     0.0    81.0     0.0     0.0     0.0      0.0   \n",
       "4    5     0.0     0.0     0.0    78.0     0.0     0.0     0.0      0.0   \n",
       "\n",
       "   Bulk 11  Bulk 12  Bulk 14  Bulk 15  \n",
       "0      0.0    206.0    150.0    154.0  \n",
       "1      0.0    206.0    149.0    154.0  \n",
       "2      0.0    205.0    152.0    153.0  \n",
       "3      0.0    207.0    153.0    154.0  \n",
       "4      0.0    203.0    151.0    152.0  "
      ]
     },
     "execution_count": 10,
     "metadata": {},
     "output_type": "execute_result"
    }
   ],
   "source": [
    "#Удаляю столбцы с наибольшим количеством пропусков. Заменяю пропуски на 0\n",
    "data_bulk = data_bulk.drop(['Bulk 8', 'Bulk 9', 'Bulk 13'], axis=1)\n",
    "data_bulk = data_bulk.fillna(value=0)\n",
    "data_bulk.info()\n",
    "data_bulk.head()"
   ]
  },
  {
   "cell_type": "markdown",
   "metadata": {},
   "source": [
    "## data_gas"
   ]
  },
  {
   "cell_type": "markdown",
   "metadata": {},
   "source": [
    "Таблица data_gas результаты предобработки:\n",
    "- пропусков нет, тип данных адекватный\n",
    "- удалены аномальные значения более 50, так как они заметно превышают верхний квартиль boxplot"
   ]
  },
  {
   "cell_type": "code",
   "execution_count": 11,
   "metadata": {},
   "outputs": [
    {
     "name": "stdout",
     "output_type": "stream",
     "text": [
      "<class 'pandas.core.frame.DataFrame'>\n",
      "RangeIndex: 3239 entries, 0 to 3238\n",
      "Data columns (total 2 columns):\n",
      "key      3239 non-null int64\n",
      "Газ 1    3239 non-null float64\n",
      "dtypes: float64(1), int64(1)\n",
      "memory usage: 50.7 KB\n"
     ]
    },
    {
     "data": {
      "text/html": [
       "<div>\n",
       "<style scoped>\n",
       "    .dataframe tbody tr th:only-of-type {\n",
       "        vertical-align: middle;\n",
       "    }\n",
       "\n",
       "    .dataframe tbody tr th {\n",
       "        vertical-align: top;\n",
       "    }\n",
       "\n",
       "    .dataframe thead th {\n",
       "        text-align: right;\n",
       "    }\n",
       "</style>\n",
       "<table border=\"1\" class=\"dataframe\">\n",
       "  <thead>\n",
       "    <tr style=\"text-align: right;\">\n",
       "      <th></th>\n",
       "      <th>key</th>\n",
       "      <th>Газ 1</th>\n",
       "    </tr>\n",
       "  </thead>\n",
       "  <tbody>\n",
       "    <tr>\n",
       "      <td>0</td>\n",
       "      <td>1</td>\n",
       "      <td>29.749986</td>\n",
       "    </tr>\n",
       "    <tr>\n",
       "      <td>1</td>\n",
       "      <td>2</td>\n",
       "      <td>12.555561</td>\n",
       "    </tr>\n",
       "    <tr>\n",
       "      <td>2</td>\n",
       "      <td>3</td>\n",
       "      <td>28.554793</td>\n",
       "    </tr>\n",
       "    <tr>\n",
       "      <td>3</td>\n",
       "      <td>4</td>\n",
       "      <td>18.841219</td>\n",
       "    </tr>\n",
       "    <tr>\n",
       "      <td>4</td>\n",
       "      <td>5</td>\n",
       "      <td>5.413692</td>\n",
       "    </tr>\n",
       "  </tbody>\n",
       "</table>\n",
       "</div>"
      ],
      "text/plain": [
       "   key      Газ 1\n",
       "0    1  29.749986\n",
       "1    2  12.555561\n",
       "2    3  28.554793\n",
       "3    4  18.841219\n",
       "4    5   5.413692"
      ]
     },
     "execution_count": 11,
     "metadata": {},
     "output_type": "execute_result"
    }
   ],
   "source": [
    "data_gas = pd.read_csv('/datasets/final_steel/data_gas.csv')\n",
    "data_gas.info()\n",
    "data_gas.head()"
   ]
  },
  {
   "cell_type": "code",
   "execution_count": 12,
   "metadata": {},
   "outputs": [
    {
     "data": {
      "image/png": "[encoded data removed]",
      "text/plain": [
       "<Figure size 432x288 with 1 Axes>"
      ]
     },
     "metadata": {
      "needs_background": "light"
     },
     "output_type": "display_data"
    }
   ],
   "source": [
    "plt.boxplot(data_gas['Газ 1'].values)\n",
    "plt.title('Газ 1')\n",
    "plt.show()"
   ]
  },
  {
   "cell_type": "code",
   "execution_count": 13,
   "metadata": {},
   "outputs": [
    {
     "data": {
      "image/png": "[encoded data removed]",
      "text/plain": [
       "<Figure size 432x288 with 1 Axes>"
      ]
     },
     "metadata": {
      "needs_background": "light"
     },
     "output_type": "display_data"
    },
    {
     "data": {
      "image/png": "[encoded data removed]",
      "text/plain": [
       "<Figure size 432x288 with 1 Axes>"
      ]
     },
     "metadata": {
      "needs_background": "light"
     },
     "output_type": "display_data"
    }
   ],
   "source": [
    "data_gas = data_gas[data_gas['Газ 1'] < 50]\n",
    "\n",
    "data_gas['Газ 1'].hist(bins=100)\n",
    "plt.title('Газ 1')\n",
    "plt.show()\n",
    "\n",
    "plt.boxplot(data_gas['Газ 1'].values)\n",
    "plt.title('Газ 1')\n",
    "plt.show()"
   ]
  },
  {
   "cell_type": "markdown",
   "metadata": {},
   "source": [
    "## data_temp"
   ]
  },
  {
   "cell_type": "markdown",
   "metadata": {},
   "source": [
    "Таблица data_temp результаты предобработки:\n",
    "- строки с пропусками в значении температуры удалены\n",
    "- в таблице data_temp_last оставлены только окончательные измерения температуры - это целевой признак\n",
    "- в таблице data_temp_first первые замеры температуры\n",
    "- из обеих таблиц были удалены несколько аномальных значений (первая температура - до 1300 градусов, последняя температура - более 1680 градусов)\n",
    "- примерно в трети случаев температура после обработки стала ниже, чем была. Распределение разницы температур похоже на нормальное (и оно симметрично относительно нуля), то есть, видимо, это вписывется в физику процесса"
   ]
  },
  {
   "cell_type": "code",
   "execution_count": 14,
   "metadata": {},
   "outputs": [
    {
     "name": "stdout",
     "output_type": "stream",
     "text": [
      "<class 'pandas.core.frame.DataFrame'>\n",
      "RangeIndex: 15907 entries, 0 to 15906\n",
      "Data columns (total 3 columns):\n",
      "key             15907 non-null int64\n",
      "Время замера    15907 non-null datetime64[ns]\n",
      "Температура     13006 non-null float64\n",
      "dtypes: datetime64[ns](1), float64(1), int64(1)\n",
      "memory usage: 372.9 KB\n"
     ]
    },
    {
     "data": {
      "text/html": [
       "<div>\n",
       "<style scoped>\n",
       "    .dataframe tbody tr th:only-of-type {\n",
       "        vertical-align: middle;\n",
       "    }\n",
       "\n",
       "    .dataframe tbody tr th {\n",
       "        vertical-align: top;\n",
       "    }\n",
       "\n",
       "    .dataframe thead th {\n",
       "        text-align: right;\n",
       "    }\n",
       "</style>\n",
       "<table border=\"1\" class=\"dataframe\">\n",
       "  <thead>\n",
       "    <tr style=\"text-align: right;\">\n",
       "      <th></th>\n",
       "      <th>key</th>\n",
       "      <th>Время замера</th>\n",
       "      <th>Температура</th>\n",
       "    </tr>\n",
       "  </thead>\n",
       "  <tbody>\n",
       "    <tr>\n",
       "      <td>0</td>\n",
       "      <td>1</td>\n",
       "      <td>2019-05-03 11:16:18</td>\n",
       "      <td>1571.0</td>\n",
       "    </tr>\n",
       "    <tr>\n",
       "      <td>1</td>\n",
       "      <td>1</td>\n",
       "      <td>2019-05-03 11:25:53</td>\n",
       "      <td>1604.0</td>\n",
       "    </tr>\n",
       "    <tr>\n",
       "      <td>2</td>\n",
       "      <td>1</td>\n",
       "      <td>2019-05-03 11:29:11</td>\n",
       "      <td>1618.0</td>\n",
       "    </tr>\n",
       "    <tr>\n",
       "      <td>3</td>\n",
       "      <td>1</td>\n",
       "      <td>2019-05-03 11:30:01</td>\n",
       "      <td>1601.0</td>\n",
       "    </tr>\n",
       "    <tr>\n",
       "      <td>4</td>\n",
       "      <td>1</td>\n",
       "      <td>2019-05-03 11:30:39</td>\n",
       "      <td>1613.0</td>\n",
       "    </tr>\n",
       "  </tbody>\n",
       "</table>\n",
       "</div>"
      ],
      "text/plain": [
       "   key        Время замера  Температура\n",
       "0    1 2019-05-03 11:16:18       1571.0\n",
       "1    1 2019-05-03 11:25:53       1604.0\n",
       "2    1 2019-05-03 11:29:11       1618.0\n",
       "3    1 2019-05-03 11:30:01       1601.0\n",
       "4    1 2019-05-03 11:30:39       1613.0"
      ]
     },
     "execution_count": 14,
     "metadata": {},
     "output_type": "execute_result"
    }
   ],
   "source": [
    "data_temp = pd.read_csv('/datasets/final_steel/data_temp.csv')\n",
    "data_temp['Время замера'] = pd.to_datetime(data_temp['Время замера'])\n",
    "data_temp.info()\n",
    "data_temp.head()"
   ]
  },
  {
   "cell_type": "code",
   "execution_count": 15,
   "metadata": {},
   "outputs": [
    {
     "name": "stdout",
     "output_type": "stream",
     "text": [
      "<class 'pandas.core.frame.DataFrame'>\n",
      "Int64Index: 12265 entries, 0 to 12266\n",
      "Data columns (total 3 columns):\n",
      "key             12265 non-null int64\n",
      "Время замера    12265 non-null datetime64[ns]\n",
      "Температура     12265 non-null float64\n",
      "dtypes: datetime64[ns](1), float64(1), int64(1)\n",
      "memory usage: 383.3 KB\n"
     ]
    },
    {
     "data": {
      "text/html": [
       "<div>\n",
       "<style scoped>\n",
       "    .dataframe tbody tr th:only-of-type {\n",
       "        vertical-align: middle;\n",
       "    }\n",
       "\n",
       "    .dataframe tbody tr th {\n",
       "        vertical-align: top;\n",
       "    }\n",
       "\n",
       "    .dataframe thead th {\n",
       "        text-align: right;\n",
       "    }\n",
       "</style>\n",
       "<table border=\"1\" class=\"dataframe\">\n",
       "  <thead>\n",
       "    <tr style=\"text-align: right;\">\n",
       "      <th></th>\n",
       "      <th>key</th>\n",
       "      <th>Время замера</th>\n",
       "      <th>Температура</th>\n",
       "    </tr>\n",
       "  </thead>\n",
       "  <tbody>\n",
       "    <tr>\n",
       "      <td>0</td>\n",
       "      <td>1</td>\n",
       "      <td>2019-05-03 11:16:18</td>\n",
       "      <td>1571.0</td>\n",
       "    </tr>\n",
       "    <tr>\n",
       "      <td>1</td>\n",
       "      <td>1</td>\n",
       "      <td>2019-05-03 11:25:53</td>\n",
       "      <td>1604.0</td>\n",
       "    </tr>\n",
       "    <tr>\n",
       "      <td>2</td>\n",
       "      <td>1</td>\n",
       "      <td>2019-05-03 11:29:11</td>\n",
       "      <td>1618.0</td>\n",
       "    </tr>\n",
       "    <tr>\n",
       "      <td>3</td>\n",
       "      <td>1</td>\n",
       "      <td>2019-05-03 11:30:01</td>\n",
       "      <td>1601.0</td>\n",
       "    </tr>\n",
       "    <tr>\n",
       "      <td>4</td>\n",
       "      <td>1</td>\n",
       "      <td>2019-05-03 11:30:39</td>\n",
       "      <td>1613.0</td>\n",
       "    </tr>\n",
       "  </tbody>\n",
       "</table>\n",
       "</div>"
      ],
      "text/plain": [
       "   key        Время замера  Температура\n",
       "0    1 2019-05-03 11:16:18       1571.0\n",
       "1    1 2019-05-03 11:25:53       1604.0\n",
       "2    1 2019-05-03 11:29:11       1618.0\n",
       "3    1 2019-05-03 11:30:01       1601.0\n",
       "4    1 2019-05-03 11:30:39       1613.0"
      ]
     },
     "execution_count": 15,
     "metadata": {},
     "output_type": "execute_result"
    }
   ],
   "source": [
    "#Удаляю строчки с пропусками в температуре и строчки с одним и менее измерением для всей партии\n",
    "data_temp = data_temp.dropna()\n",
    "value_temp = data_temp['key'].value_counts()\n",
    "value_temp = value_temp[value_temp > 1]\n",
    "data_temp = data_temp[data_temp['key'].isin(value_temp.index)]\n",
    "data_temp.info()\n",
    "data_temp.head()"
   ]
  },
  {
   "cell_type": "code",
   "execution_count": 16,
   "metadata": {},
   "outputs": [
    {
     "name": "stdout",
     "output_type": "stream",
     "text": [
      "<class 'pandas.core.frame.DataFrame'>\n",
      "Int64Index: 2475 entries, 4 to 12266\n",
      "Data columns (total 3 columns):\n",
      "key             2475 non-null int64\n",
      "Время замера    2475 non-null datetime64[ns]\n",
      "Температура     2475 non-null float64\n",
      "dtypes: datetime64[ns](1), float64(1), int64(1)\n",
      "memory usage: 77.3 KB\n"
     ]
    },
    {
     "data": {
      "text/html": [
       "<div>\n",
       "<style scoped>\n",
       "    .dataframe tbody tr th:only-of-type {\n",
       "        vertical-align: middle;\n",
       "    }\n",
       "\n",
       "    .dataframe tbody tr th {\n",
       "        vertical-align: top;\n",
       "    }\n",
       "\n",
       "    .dataframe thead th {\n",
       "        text-align: right;\n",
       "    }\n",
       "</style>\n",
       "<table border=\"1\" class=\"dataframe\">\n",
       "  <thead>\n",
       "    <tr style=\"text-align: right;\">\n",
       "      <th></th>\n",
       "      <th>key</th>\n",
       "      <th>Время замера</th>\n",
       "      <th>Температура</th>\n",
       "    </tr>\n",
       "  </thead>\n",
       "  <tbody>\n",
       "    <tr>\n",
       "      <td>4</td>\n",
       "      <td>1</td>\n",
       "      <td>2019-05-03 11:30:39</td>\n",
       "      <td>1613.0</td>\n",
       "    </tr>\n",
       "    <tr>\n",
       "      <td>10</td>\n",
       "      <td>2</td>\n",
       "      <td>2019-05-03 11:59:12</td>\n",
       "      <td>1602.0</td>\n",
       "    </tr>\n",
       "    <tr>\n",
       "      <td>15</td>\n",
       "      <td>3</td>\n",
       "      <td>2019-05-03 12:34:57</td>\n",
       "      <td>1599.0</td>\n",
       "    </tr>\n",
       "    <tr>\n",
       "      <td>18</td>\n",
       "      <td>4</td>\n",
       "      <td>2019-05-03 12:59:25</td>\n",
       "      <td>1625.0</td>\n",
       "    </tr>\n",
       "    <tr>\n",
       "      <td>20</td>\n",
       "      <td>5</td>\n",
       "      <td>2019-05-03 13:36:01</td>\n",
       "      <td>1602.0</td>\n",
       "    </tr>\n",
       "  </tbody>\n",
       "</table>\n",
       "</div>"
      ],
      "text/plain": [
       "    key        Время замера  Температура\n",
       "4     1 2019-05-03 11:30:39       1613.0\n",
       "10    2 2019-05-03 11:59:12       1602.0\n",
       "15    3 2019-05-03 12:34:57       1599.0\n",
       "18    4 2019-05-03 12:59:25       1625.0\n",
       "20    5 2019-05-03 13:36:01       1602.0"
      ]
     },
     "execution_count": 16,
     "metadata": {},
     "output_type": "execute_result"
    }
   ],
   "source": [
    "data_temp_last = data_temp.drop_duplicates(subset=['key'], keep='last')\n",
    "data_temp_last.info()\n",
    "data_temp_last.head()"
   ]
  },
  {
   "cell_type": "code",
   "execution_count": 17,
   "metadata": {},
   "outputs": [
    {
     "data": {
      "image/png": "[encoded data removed]",
      "text/plain": [
       "<Figure size 432x288 with 1 Axes>"
      ]
     },
     "metadata": {
      "needs_background": "light"
     },
     "output_type": "display_data"
    },
    {
     "data": {
      "image/png": "[encoded data removed]",
      "text/plain": [
       "<Figure size 432x288 with 1 Axes>"
      ]
     },
     "metadata": {
      "needs_background": "light"
     },
     "output_type": "display_data"
    }
   ],
   "source": [
    "data_temp_last['Температура'].hist(bins=100)\n",
    "plt.title('Температура')\n",
    "plt.show()\n",
    "plt.boxplot(data_temp_last['Температура'].values)\n",
    "plt.title('Температура')\n",
    "plt.show()"
   ]
  },
  {
   "cell_type": "code",
   "execution_count": 18,
   "metadata": {},
   "outputs": [
    {
     "name": "stdout",
     "output_type": "stream",
     "text": [
      "<class 'pandas.core.frame.DataFrame'>\n",
      "Int64Index: 2475 entries, 0 to 12264\n",
      "Data columns (total 3 columns):\n",
      "key             2475 non-null int64\n",
      "Время замера    2475 non-null datetime64[ns]\n",
      "Температура     2475 non-null float64\n",
      "dtypes: datetime64[ns](1), float64(1), int64(1)\n",
      "memory usage: 77.3 KB\n"
     ]
    },
    {
     "data": {
      "text/html": [
       "<div>\n",
       "<style scoped>\n",
       "    .dataframe tbody tr th:only-of-type {\n",
       "        vertical-align: middle;\n",
       "    }\n",
       "\n",
       "    .dataframe tbody tr th {\n",
       "        vertical-align: top;\n",
       "    }\n",
       "\n",
       "    .dataframe thead th {\n",
       "        text-align: right;\n",
       "    }\n",
       "</style>\n",
       "<table border=\"1\" class=\"dataframe\">\n",
       "  <thead>\n",
       "    <tr style=\"text-align: right;\">\n",
       "      <th></th>\n",
       "      <th>key</th>\n",
       "      <th>Время замера</th>\n",
       "      <th>Температура</th>\n",
       "    </tr>\n",
       "  </thead>\n",
       "  <tbody>\n",
       "    <tr>\n",
       "      <td>0</td>\n",
       "      <td>1</td>\n",
       "      <td>2019-05-03 11:16:18</td>\n",
       "      <td>1571.0</td>\n",
       "    </tr>\n",
       "    <tr>\n",
       "      <td>5</td>\n",
       "      <td>2</td>\n",
       "      <td>2019-05-03 11:37:27</td>\n",
       "      <td>1581.0</td>\n",
       "    </tr>\n",
       "    <tr>\n",
       "      <td>11</td>\n",
       "      <td>3</td>\n",
       "      <td>2019-05-03 12:13:17</td>\n",
       "      <td>1596.0</td>\n",
       "    </tr>\n",
       "    <tr>\n",
       "      <td>16</td>\n",
       "      <td>4</td>\n",
       "      <td>2019-05-03 12:52:57</td>\n",
       "      <td>1601.0</td>\n",
       "    </tr>\n",
       "    <tr>\n",
       "      <td>19</td>\n",
       "      <td>5</td>\n",
       "      <td>2019-05-03 13:23:19</td>\n",
       "      <td>1576.0</td>\n",
       "    </tr>\n",
       "  </tbody>\n",
       "</table>\n",
       "</div>"
      ],
      "text/plain": [
       "    key        Время замера  Температура\n",
       "0     1 2019-05-03 11:16:18       1571.0\n",
       "5     2 2019-05-03 11:37:27       1581.0\n",
       "11    3 2019-05-03 12:13:17       1596.0\n",
       "16    4 2019-05-03 12:52:57       1601.0\n",
       "19    5 2019-05-03 13:23:19       1576.0"
      ]
     },
     "execution_count": 18,
     "metadata": {},
     "output_type": "execute_result"
    }
   ],
   "source": [
    "data_temp_first = data_temp.drop_duplicates(subset=['key'], keep='first')\n",
    "data_temp_first.info()\n",
    "data_temp_first.head()"
   ]
  },
  {
   "cell_type": "code",
   "execution_count": 19,
   "metadata": {},
   "outputs": [
    {
     "data": {
      "image/png": "[encoded data removed]",
      "text/plain": [
       "<Figure size 432x288 with 1 Axes>"
      ]
     },
     "metadata": {
      "needs_background": "light"
     },
     "output_type": "display_data"
    },
    {
     "data": {
      "image/png": "[encoded data removed]",
      "text/plain": [
       "<Figure size 432x288 with 1 Axes>"
      ]
     },
     "metadata": {
      "needs_background": "light"
     },
     "output_type": "display_data"
    }
   ],
   "source": [
    "data_temp_first['Температура'].hist(bins=100)\n",
    "plt.title('Температура')\n",
    "plt.show()\n",
    "plt.boxplot(data_temp_first['Температура'].values)\n",
    "plt.title('Температура')\n",
    "plt.show()"
   ]
  },
  {
   "cell_type": "code",
   "execution_count": 20,
   "metadata": {},
   "outputs": [
    {
     "data": {
      "text/html": [
       "<div>\n",
       "<style scoped>\n",
       "    .dataframe tbody tr th:only-of-type {\n",
       "        vertical-align: middle;\n",
       "    }\n",
       "\n",
       "    .dataframe tbody tr th {\n",
       "        vertical-align: top;\n",
       "    }\n",
       "\n",
       "    .dataframe thead th {\n",
       "        text-align: right;\n",
       "    }\n",
       "</style>\n",
       "<table border=\"1\" class=\"dataframe\">\n",
       "  <thead>\n",
       "    <tr style=\"text-align: right;\">\n",
       "      <th></th>\n",
       "      <th>key</th>\n",
       "      <th>Время замера_x</th>\n",
       "      <th>Температура_x</th>\n",
       "      <th>Время замера_y</th>\n",
       "      <th>Температура_y</th>\n",
       "      <th>diff_temp</th>\n",
       "      <th>diff_time</th>\n",
       "    </tr>\n",
       "  </thead>\n",
       "  <tbody>\n",
       "    <tr>\n",
       "      <td>10</td>\n",
       "      <td>11</td>\n",
       "      <td>2019-05-03 16:54:18</td>\n",
       "      <td>1616.0</td>\n",
       "      <td>2019-05-03 17:27:23</td>\n",
       "      <td>1597.0</td>\n",
       "      <td>-19.0</td>\n",
       "      <td>00:33:05</td>\n",
       "    </tr>\n",
       "    <tr>\n",
       "      <td>11</td>\n",
       "      <td>12</td>\n",
       "      <td>2019-05-03 17:40:54</td>\n",
       "      <td>1606.0</td>\n",
       "      <td>2019-05-03 18:13:03</td>\n",
       "      <td>1591.0</td>\n",
       "      <td>-15.0</td>\n",
       "      <td>00:32:09</td>\n",
       "    </tr>\n",
       "    <tr>\n",
       "      <td>14</td>\n",
       "      <td>15</td>\n",
       "      <td>2019-05-03 20:58:40</td>\n",
       "      <td>1605.0</td>\n",
       "      <td>2019-05-03 21:33:01</td>\n",
       "      <td>1598.0</td>\n",
       "      <td>-7.0</td>\n",
       "      <td>00:34:21</td>\n",
       "    </tr>\n",
       "    <tr>\n",
       "      <td>16</td>\n",
       "      <td>17</td>\n",
       "      <td>2019-05-03 22:42:34</td>\n",
       "      <td>1611.0</td>\n",
       "      <td>2019-05-03 23:10:16</td>\n",
       "      <td>1599.0</td>\n",
       "      <td>-12.0</td>\n",
       "      <td>00:27:42</td>\n",
       "    </tr>\n",
       "    <tr>\n",
       "      <td>18</td>\n",
       "      <td>19</td>\n",
       "      <td>2019-05-04 00:39:51</td>\n",
       "      <td>1625.0</td>\n",
       "      <td>2019-05-04 01:19:06</td>\n",
       "      <td>1597.0</td>\n",
       "      <td>-28.0</td>\n",
       "      <td>00:39:15</td>\n",
       "    </tr>\n",
       "    <tr>\n",
       "      <td>...</td>\n",
       "      <td>...</td>\n",
       "      <td>...</td>\n",
       "      <td>...</td>\n",
       "      <td>...</td>\n",
       "      <td>...</td>\n",
       "      <td>...</td>\n",
       "      <td>...</td>\n",
       "    </tr>\n",
       "    <tr>\n",
       "      <td>2460</td>\n",
       "      <td>2484</td>\n",
       "      <td>2019-08-05 12:40:56</td>\n",
       "      <td>1635.0</td>\n",
       "      <td>2019-08-05 13:09:33</td>\n",
       "      <td>1592.0</td>\n",
       "      <td>-43.0</td>\n",
       "      <td>00:28:37</td>\n",
       "    </tr>\n",
       "    <tr>\n",
       "      <td>2464</td>\n",
       "      <td>2488</td>\n",
       "      <td>2019-08-05 19:20:14</td>\n",
       "      <td>1602.0</td>\n",
       "      <td>2019-08-05 19:55:29</td>\n",
       "      <td>1577.0</td>\n",
       "      <td>-25.0</td>\n",
       "      <td>00:35:15</td>\n",
       "    </tr>\n",
       "    <tr>\n",
       "      <td>2465</td>\n",
       "      <td>2489</td>\n",
       "      <td>2019-08-05 20:30:10</td>\n",
       "      <td>1613.0</td>\n",
       "      <td>2019-08-05 21:02:41</td>\n",
       "      <td>1579.0</td>\n",
       "      <td>-34.0</td>\n",
       "      <td>00:32:31</td>\n",
       "    </tr>\n",
       "    <tr>\n",
       "      <td>2467</td>\n",
       "      <td>2492</td>\n",
       "      <td>2019-08-05 22:41:41</td>\n",
       "      <td>1618.0</td>\n",
       "      <td>2019-08-05 23:19:44</td>\n",
       "      <td>1595.0</td>\n",
       "      <td>-23.0</td>\n",
       "      <td>00:38:03</td>\n",
       "    </tr>\n",
       "    <tr>\n",
       "      <td>2468</td>\n",
       "      <td>2493</td>\n",
       "      <td>2019-08-05 23:37:28</td>\n",
       "      <td>1599.0</td>\n",
       "      <td>2019-08-05 23:59:00</td>\n",
       "      <td>1594.0</td>\n",
       "      <td>-5.0</td>\n",
       "      <td>00:21:32</td>\n",
       "    </tr>\n",
       "  </tbody>\n",
       "</table>\n",
       "<p>954 rows × 7 columns</p>\n",
       "</div>"
      ],
      "text/plain": [
       "       key      Время замера_x  Температура_x      Время замера_y  \\\n",
       "10      11 2019-05-03 16:54:18         1616.0 2019-05-03 17:27:23   \n",
       "11      12 2019-05-03 17:40:54         1606.0 2019-05-03 18:13:03   \n",
       "14      15 2019-05-03 20:58:40         1605.0 2019-05-03 21:33:01   \n",
       "16      17 2019-05-03 22:42:34         1611.0 2019-05-03 23:10:16   \n",
       "18      19 2019-05-04 00:39:51         1625.0 2019-05-04 01:19:06   \n",
       "...    ...                 ...            ...                 ...   \n",
       "2460  2484 2019-08-05 12:40:56         1635.0 2019-08-05 13:09:33   \n",
       "2464  2488 2019-08-05 19:20:14         1602.0 2019-08-05 19:55:29   \n",
       "2465  2489 2019-08-05 20:30:10         1613.0 2019-08-05 21:02:41   \n",
       "2467  2492 2019-08-05 22:41:41         1618.0 2019-08-05 23:19:44   \n",
       "2468  2493 2019-08-05 23:37:28         1599.0 2019-08-05 23:59:00   \n",
       "\n",
       "      Температура_y  diff_temp diff_time  \n",
       "10           1597.0      -19.0  00:33:05  \n",
       "11           1591.0      -15.0  00:32:09  \n",
       "14           1598.0       -7.0  00:34:21  \n",
       "16           1599.0      -12.0  00:27:42  \n",
       "18           1597.0      -28.0  00:39:15  \n",
       "...             ...        ...       ...  \n",
       "2460         1592.0      -43.0  00:28:37  \n",
       "2464         1577.0      -25.0  00:35:15  \n",
       "2465         1579.0      -34.0  00:32:31  \n",
       "2467         1595.0      -23.0  00:38:03  \n",
       "2468         1594.0       -5.0  00:21:32  \n",
       "\n",
       "[954 rows x 7 columns]"
      ]
     },
     "metadata": {},
     "output_type": "display_data"
    },
    {
     "data": {
      "text/html": [
       "<div>\n",
       "<style scoped>\n",
       "    .dataframe tbody tr th:only-of-type {\n",
       "        vertical-align: middle;\n",
       "    }\n",
       "\n",
       "    .dataframe tbody tr th {\n",
       "        vertical-align: top;\n",
       "    }\n",
       "\n",
       "    .dataframe thead th {\n",
       "        text-align: right;\n",
       "    }\n",
       "</style>\n",
       "<table border=\"1\" class=\"dataframe\">\n",
       "  <thead>\n",
       "    <tr style=\"text-align: right;\">\n",
       "      <th></th>\n",
       "      <th>key</th>\n",
       "      <th>Время замера_x</th>\n",
       "      <th>Температура_x</th>\n",
       "      <th>Время замера_y</th>\n",
       "      <th>Температура_y</th>\n",
       "      <th>diff_temp</th>\n",
       "      <th>diff_time</th>\n",
       "    </tr>\n",
       "  </thead>\n",
       "  <tbody>\n",
       "  </tbody>\n",
       "</table>\n",
       "</div>"
      ],
      "text/plain": [
       "Empty DataFrame\n",
       "Columns: [key, Время замера_x, Температура_x, Время замера_y, Температура_y, diff_temp, diff_time]\n",
       "Index: []"
      ]
     },
     "metadata": {},
     "output_type": "display_data"
    },
    {
     "data": {
      "image/png": "[encoded data removed]",
      "text/plain": [
       "<Figure size 432x288 with 1 Axes>"
      ]
     },
     "metadata": {
      "needs_background": "light"
     },
     "output_type": "display_data"
    },
    {
     "data": {
      "image/png": "[encoded data removed]",
      "text/plain": [
       "<Figure size 432x288 with 1 Axes>"
      ]
     },
     "metadata": {
      "needs_background": "light"
     },
     "output_type": "display_data"
    }
   ],
   "source": [
    "#проверяю на адекватность начальные и конечные температуры\n",
    "temp = data_temp_first.merge(data_temp_last, on='key', how='outer')\n",
    "temp['diff_temp'] = temp['Температура_y'] - temp['Температура_x']\n",
    "temp['diff_time'] = temp['Время замера_y'] - temp['Время замера_x']\n",
    "display(temp[temp['diff_temp'] <= 0])\n",
    "display(temp[temp['diff_time'] <= '00:00:10'])\n",
    "temp['diff_temp'].hist(bins=100)\n",
    "plt.show()\n",
    "plt.boxplot(temp['diff_temp'])\n",
    "plt.show()"
   ]
  },
  {
   "cell_type": "code",
   "execution_count": 21,
   "metadata": {},
   "outputs": [
    {
     "data": {
      "text/html": [
       "<div>\n",
       "<style scoped>\n",
       "    .dataframe tbody tr th:only-of-type {\n",
       "        vertical-align: middle;\n",
       "    }\n",
       "\n",
       "    .dataframe tbody tr th {\n",
       "        vertical-align: top;\n",
       "    }\n",
       "\n",
       "    .dataframe thead th {\n",
       "        text-align: right;\n",
       "    }\n",
       "</style>\n",
       "<table border=\"1\" class=\"dataframe\">\n",
       "  <thead>\n",
       "    <tr style=\"text-align: right;\">\n",
       "      <th></th>\n",
       "      <th>key</th>\n",
       "      <th>Время замера_x</th>\n",
       "      <th>Температура_x</th>\n",
       "      <th>Время замера_y</th>\n",
       "      <th>Температура_y</th>\n",
       "      <th>diff_temp</th>\n",
       "      <th>diff_time</th>\n",
       "    </tr>\n",
       "  </thead>\n",
       "  <tbody>\n",
       "    <tr>\n",
       "      <td>853</td>\n",
       "      <td>867</td>\n",
       "      <td>2019-06-04 14:21:00</td>\n",
       "      <td>1191.0</td>\n",
       "      <td>2019-06-04 14:57:17</td>\n",
       "      <td>1599.0</td>\n",
       "      <td>408.0</td>\n",
       "      <td>00:36:17</td>\n",
       "    </tr>\n",
       "    <tr>\n",
       "      <td>1199</td>\n",
       "      <td>1214</td>\n",
       "      <td>2019-06-16 05:32:00</td>\n",
       "      <td>1208.0</td>\n",
       "      <td>2019-06-16 06:14:45</td>\n",
       "      <td>1591.0</td>\n",
       "      <td>383.0</td>\n",
       "      <td>00:42:45</td>\n",
       "    </tr>\n",
       "    <tr>\n",
       "      <td>1602</td>\n",
       "      <td>1619</td>\n",
       "      <td>2019-06-30 11:03:54</td>\n",
       "      <td>1218.0</td>\n",
       "      <td>2019-06-30 11:21:54</td>\n",
       "      <td>1590.0</td>\n",
       "      <td>372.0</td>\n",
       "      <td>00:18:00</td>\n",
       "    </tr>\n",
       "    <tr>\n",
       "      <td>2034</td>\n",
       "      <td>2052</td>\n",
       "      <td>2019-07-21 14:51:40</td>\n",
       "      <td>1227.0</td>\n",
       "      <td>2019-07-21 15:24:06</td>\n",
       "      <td>1592.0</td>\n",
       "      <td>365.0</td>\n",
       "      <td>00:32:26</td>\n",
       "    </tr>\n",
       "  </tbody>\n",
       "</table>\n",
       "</div>"
      ],
      "text/plain": [
       "       key      Время замера_x  Температура_x      Время замера_y  \\\n",
       "853    867 2019-06-04 14:21:00         1191.0 2019-06-04 14:57:17   \n",
       "1199  1214 2019-06-16 05:32:00         1208.0 2019-06-16 06:14:45   \n",
       "1602  1619 2019-06-30 11:03:54         1218.0 2019-06-30 11:21:54   \n",
       "2034  2052 2019-07-21 14:51:40         1227.0 2019-07-21 15:24:06   \n",
       "\n",
       "      Температура_y  diff_temp diff_time  \n",
       "853          1599.0      408.0  00:36:17  \n",
       "1199         1591.0      383.0  00:42:45  \n",
       "1602         1590.0      372.0  00:18:00  \n",
       "2034         1592.0      365.0  00:32:26  "
      ]
     },
     "execution_count": 21,
     "metadata": {},
     "output_type": "execute_result"
    }
   ],
   "source": [
    "#удаляю партии, где разница между начальным и конечным значением большее 300 градусов - это выбросы\n",
    "temp_del = temp[temp['diff_temp'] < 300]\n",
    "data_temp_first = data_temp_first[data_temp_first['key'].isin(temp_del.key)]\n",
    "data_temp_last = data_temp_last[data_temp_last['key'].isin(temp_del.key)]\n",
    "temp[temp['diff_temp'] > 300]"
   ]
  },
  {
   "cell_type": "markdown",
   "metadata": {},
   "source": [
    "Разница между начальной и конечной температурой в 4 раза превышает верхний квартиль boxplot. И указанные значения отстоят от остальных через заметный промежуток. Возможно, была ошибка в измерении начальной температуры. Так же указанные темперауры ниже температур плавления стали"
   ]
  },
  {
   "cell_type": "code",
   "execution_count": 22,
   "metadata": {},
   "outputs": [
    {
     "name": "stdout",
     "output_type": "stream",
     "text": [
      "<class 'pandas.core.frame.DataFrame'>\n",
      "Int64Index: 2462 entries, 0 to 12264\n",
      "Data columns (total 3 columns):\n",
      "key             2462 non-null int64\n",
      "Время замера    2462 non-null datetime64[ns]\n",
      "Температура     2462 non-null float64\n",
      "dtypes: datetime64[ns](1), float64(1), int64(1)\n",
      "memory usage: 76.9 KB\n",
      "<class 'pandas.core.frame.DataFrame'>\n",
      "Int64Index: 2462 entries, 4 to 12266\n",
      "Data columns (total 3 columns):\n",
      "key             2462 non-null int64\n",
      "Время замера    2462 non-null datetime64[ns]\n",
      "Температура     2462 non-null float64\n",
      "dtypes: datetime64[ns](1), float64(1), int64(1)\n",
      "memory usage: 76.9 KB\n"
     ]
    }
   ],
   "source": [
    "#Удаляю аномальные значения из конечной температуры (>1680 градусов)\n",
    "data_temp_last = data_temp_last[data_temp_last['Температура'] < 1680]\n",
    "temp_last_del = data_temp_last[data_temp_last['Температура'] < 1680]\n",
    "data_temp_first = data_temp_first[data_temp_first['key'].isin(temp_last_del.key)]\n",
    "data_temp_first.info()\n",
    "data_temp_last.info()"
   ]
  },
  {
   "cell_type": "code",
   "execution_count": 23,
   "metadata": {},
   "outputs": [
    {
     "data": {
      "image/png": "[encoded data removed]",
      "text/plain": [
       "<Figure size 432x288 with 1 Axes>"
      ]
     },
     "metadata": {
      "needs_background": "light"
     },
     "output_type": "display_data"
    },
    {
     "data": {
      "image/png": "[encoded data removed]",
      "text/plain": [
       "<Figure size 432x288 with 1 Axes>"
      ]
     },
     "metadata": {
      "needs_background": "light"
     },
     "output_type": "display_data"
    }
   ],
   "source": [
    "data_temp_first['Температура'].hist(bins=100)\n",
    "plt.title('Температура')\n",
    "plt.show()\n",
    "plt.boxplot(data_temp_first['Температура'].values)\n",
    "plt.title('Температура')\n",
    "plt.show()"
   ]
  },
  {
   "cell_type": "markdown",
   "metadata": {},
   "source": [
    "## data_wire"
   ]
  },
  {
   "cell_type": "markdown",
   "metadata": {},
   "source": [
    "Таблица data_wire результаты предобработки:\n",
    "- пропуски занимают большую часть таблицы. Столбцы с количеством значений менее 15 были удалены, в остальных пропуски заменены на 0"
   ]
  },
  {
   "cell_type": "code",
   "execution_count": 24,
   "metadata": {},
   "outputs": [
    {
     "name": "stdout",
     "output_type": "stream",
     "text": [
      "<class 'pandas.core.frame.DataFrame'>\n",
      "RangeIndex: 3081 entries, 0 to 3080\n",
      "Data columns (total 10 columns):\n",
      "key       3081 non-null int64\n",
      "Wire 1    3055 non-null float64\n",
      "Wire 2    1079 non-null float64\n",
      "Wire 3    63 non-null float64\n",
      "Wire 4    14 non-null float64\n",
      "Wire 5    1 non-null float64\n",
      "Wire 6    73 non-null float64\n",
      "Wire 7    11 non-null float64\n",
      "Wire 8    19 non-null float64\n",
      "Wire 9    29 non-null float64\n",
      "dtypes: float64(9), int64(1)\n",
      "memory usage: 240.8 KB\n"
     ]
    },
    {
     "data": {
      "text/html": [
       "<div>\n",
       "<style scoped>\n",
       "    .dataframe tbody tr th:only-of-type {\n",
       "        vertical-align: middle;\n",
       "    }\n",
       "\n",
       "    .dataframe tbody tr th {\n",
       "        vertical-align: top;\n",
       "    }\n",
       "\n",
       "    .dataframe thead th {\n",
       "        text-align: right;\n",
       "    }\n",
       "</style>\n",
       "<table border=\"1\" class=\"dataframe\">\n",
       "  <thead>\n",
       "    <tr style=\"text-align: right;\">\n",
       "      <th></th>\n",
       "      <th>key</th>\n",
       "      <th>Wire 1</th>\n",
       "      <th>Wire 2</th>\n",
       "      <th>Wire 3</th>\n",
       "      <th>Wire 4</th>\n",
       "      <th>Wire 5</th>\n",
       "      <th>Wire 6</th>\n",
       "      <th>Wire 7</th>\n",
       "      <th>Wire 8</th>\n",
       "      <th>Wire 9</th>\n",
       "    </tr>\n",
       "  </thead>\n",
       "  <tbody>\n",
       "    <tr>\n",
       "      <td>0</td>\n",
       "      <td>1</td>\n",
       "      <td>60.059998</td>\n",
       "      <td>NaN</td>\n",
       "      <td>NaN</td>\n",
       "      <td>NaN</td>\n",
       "      <td>NaN</td>\n",
       "      <td>NaN</td>\n",
       "      <td>NaN</td>\n",
       "      <td>NaN</td>\n",
       "      <td>NaN</td>\n",
       "    </tr>\n",
       "    <tr>\n",
       "      <td>1</td>\n",
       "      <td>2</td>\n",
       "      <td>96.052315</td>\n",
       "      <td>NaN</td>\n",
       "      <td>NaN</td>\n",
       "      <td>NaN</td>\n",
       "      <td>NaN</td>\n",
       "      <td>NaN</td>\n",
       "      <td>NaN</td>\n",
       "      <td>NaN</td>\n",
       "      <td>NaN</td>\n",
       "    </tr>\n",
       "    <tr>\n",
       "      <td>2</td>\n",
       "      <td>3</td>\n",
       "      <td>91.160157</td>\n",
       "      <td>NaN</td>\n",
       "      <td>NaN</td>\n",
       "      <td>NaN</td>\n",
       "      <td>NaN</td>\n",
       "      <td>NaN</td>\n",
       "      <td>NaN</td>\n",
       "      <td>NaN</td>\n",
       "      <td>NaN</td>\n",
       "    </tr>\n",
       "    <tr>\n",
       "      <td>3</td>\n",
       "      <td>4</td>\n",
       "      <td>89.063515</td>\n",
       "      <td>NaN</td>\n",
       "      <td>NaN</td>\n",
       "      <td>NaN</td>\n",
       "      <td>NaN</td>\n",
       "      <td>NaN</td>\n",
       "      <td>NaN</td>\n",
       "      <td>NaN</td>\n",
       "      <td>NaN</td>\n",
       "    </tr>\n",
       "    <tr>\n",
       "      <td>4</td>\n",
       "      <td>5</td>\n",
       "      <td>89.238236</td>\n",
       "      <td>9.11456</td>\n",
       "      <td>NaN</td>\n",
       "      <td>NaN</td>\n",
       "      <td>NaN</td>\n",
       "      <td>NaN</td>\n",
       "      <td>NaN</td>\n",
       "      <td>NaN</td>\n",
       "      <td>NaN</td>\n",
       "    </tr>\n",
       "  </tbody>\n",
       "</table>\n",
       "</div>"
      ],
      "text/plain": [
       "   key     Wire 1   Wire 2  Wire 3  Wire 4  Wire 5  Wire 6  Wire 7  Wire 8  \\\n",
       "0    1  60.059998      NaN     NaN     NaN     NaN     NaN     NaN     NaN   \n",
       "1    2  96.052315      NaN     NaN     NaN     NaN     NaN     NaN     NaN   \n",
       "2    3  91.160157      NaN     NaN     NaN     NaN     NaN     NaN     NaN   \n",
       "3    4  89.063515      NaN     NaN     NaN     NaN     NaN     NaN     NaN   \n",
       "4    5  89.238236  9.11456     NaN     NaN     NaN     NaN     NaN     NaN   \n",
       "\n",
       "   Wire 9  \n",
       "0     NaN  \n",
       "1     NaN  \n",
       "2     NaN  \n",
       "3     NaN  \n",
       "4     NaN  "
      ]
     },
     "execution_count": 24,
     "metadata": {},
     "output_type": "execute_result"
    }
   ],
   "source": [
    "data_wire = pd.read_csv('/datasets/final_steel/data_wire.csv')\n",
    "data_wire.info()\n",
    "data_wire.head()"
   ]
  },
  {
   "cell_type": "code",
   "execution_count": 25,
   "metadata": {},
   "outputs": [
    {
     "name": "stdout",
     "output_type": "stream",
     "text": [
      "Wire 1\n"
     ]
    },
    {
     "data": {
      "image/png": "[encoded data removed]",
      "text/plain": [
       "<Figure size 432x288 with 1 Axes>"
      ]
     },
     "metadata": {
      "needs_background": "light"
     },
     "output_type": "display_data"
    },
    {
     "name": "stdout",
     "output_type": "stream",
     "text": [
      "Wire 2\n"
     ]
    },
    {
     "data": {
      "image/png": "[encoded data removed]",
      "text/plain": [
       "<Figure size 432x288 with 1 Axes>"
      ]
     },
     "metadata": {
      "needs_background": "light"
     },
     "output_type": "display_data"
    },
    {
     "name": "stdout",
     "output_type": "stream",
     "text": [
      "Wire 3\n"
     ]
    },
    {
     "data": {
      "image/png": "[encoded data removed]",
      "text/plain": [
       "<Figure size 432x288 with 1 Axes>"
      ]
     },
     "metadata": {
      "needs_background": "light"
     },
     "output_type": "display_data"
    },
    {
     "name": "stdout",
     "output_type": "stream",
     "text": [
      "Wire 4\n"
     ]
    },
    {
     "data": {
      "image/png": "[encoded data removed]",
      "text/plain": [
       "<Figure size 432x288 with 1 Axes>"
      ]
     },
     "metadata": {
      "needs_background": "light"
     },
     "output_type": "display_data"
    },
    {
     "name": "stdout",
     "output_type": "stream",
     "text": [
      "Wire 5\n"
     ]
    },
    {
     "data": {
      "image/png": "[encoded data removed]",
      "text/plain": [
       "<Figure size 432x288 with 1 Axes>"
      ]
     },
     "metadata": {
      "needs_background": "light"
     },
     "output_type": "display_data"
    },
    {
     "name": "stdout",
     "output_type": "stream",
     "text": [
      "Wire 6\n"
     ]
    },
    {
     "data": {
      "image/png": "[encoded data removed]",
      "text/plain": [
       "<Figure size 432x288 with 1 Axes>"
      ]
     },
     "metadata": {
      "needs_background": "light"
     },
     "output_type": "display_data"
    },
    {
     "name": "stdout",
     "output_type": "stream",
     "text": [
      "Wire 7\n"
     ]
    },
    {
     "data": {
      "image/png": "[encoded data removed]",
      "text/plain": [
       "<Figure size 432x288 with 1 Axes>"
      ]
     },
     "metadata": {
      "needs_background": "light"
     },
     "output_type": "display_data"
    },
    {
     "name": "stdout",
     "output_type": "stream",
     "text": [
      "Wire 8\n"
     ]
    },
    {
     "data": {
      "image/png": "[encoded data removed]",
      "text/plain": [
       "<Figure size 432x288 with 1 Axes>"
      ]
     },
     "metadata": {
      "needs_background": "light"
     },
     "output_type": "display_data"
    },
    {
     "name": "stdout",
     "output_type": "stream",
     "text": [
      "Wire 9\n"
     ]
    },
    {
     "data": {
      "image/png": "[encoded data removed]",
      "text/plain": [
       "<Figure size 432x288 with 1 Axes>"
      ]
     },
     "metadata": {
      "needs_background": "light"
     },
     "output_type": "display_data"
    }
   ],
   "source": [
    "for i in range(1, 10):\n",
    "    print('Wire {}'.format(i))\n",
    "    data_wire['Wire {}'.format(i)].hist(bins=100)\n",
    "    plt.show()"
   ]
  },
  {
   "cell_type": "code",
   "execution_count": 26,
   "metadata": {},
   "outputs": [
    {
     "data": {
      "text/html": [
       "<div>\n",
       "<style scoped>\n",
       "    .dataframe tbody tr th:only-of-type {\n",
       "        vertical-align: middle;\n",
       "    }\n",
       "\n",
       "    .dataframe tbody tr th {\n",
       "        vertical-align: top;\n",
       "    }\n",
       "\n",
       "    .dataframe thead th {\n",
       "        text-align: right;\n",
       "    }\n",
       "</style>\n",
       "<table border=\"1\" class=\"dataframe\">\n",
       "  <thead>\n",
       "    <tr style=\"text-align: right;\">\n",
       "      <th></th>\n",
       "      <th>key</th>\n",
       "      <th>Wire 1</th>\n",
       "      <th>Wire 2</th>\n",
       "      <th>Wire 3</th>\n",
       "      <th>Wire 4</th>\n",
       "      <th>Wire 5</th>\n",
       "      <th>Wire 6</th>\n",
       "      <th>Wire 7</th>\n",
       "      <th>Wire 8</th>\n",
       "      <th>Wire 9</th>\n",
       "    </tr>\n",
       "  </thead>\n",
       "  <tbody>\n",
       "    <tr>\n",
       "      <td>2436</td>\n",
       "      <td>2563</td>\n",
       "      <td>5.11056</td>\n",
       "      <td>NaN</td>\n",
       "      <td>93.165077</td>\n",
       "      <td>NaN</td>\n",
       "      <td>NaN</td>\n",
       "      <td>53.196003</td>\n",
       "      <td>32.847674</td>\n",
       "      <td>NaN</td>\n",
       "      <td>NaN</td>\n",
       "    </tr>\n",
       "  </tbody>\n",
       "</table>\n",
       "</div>"
      ],
      "text/plain": [
       "       key   Wire 1  Wire 2     Wire 3  Wire 4  Wire 5     Wire 6     Wire 7  \\\n",
       "2436  2563  5.11056     NaN  93.165077     NaN     NaN  53.196003  32.847674   \n",
       "\n",
       "      Wire 8  Wire 9  \n",
       "2436     NaN     NaN  "
      ]
     },
     "metadata": {},
     "output_type": "display_data"
    },
    {
     "data": {
      "text/html": [
       "<div>\n",
       "<style scoped>\n",
       "    .dataframe tbody tr th:only-of-type {\n",
       "        vertical-align: middle;\n",
       "    }\n",
       "\n",
       "    .dataframe tbody tr th {\n",
       "        vertical-align: top;\n",
       "    }\n",
       "\n",
       "    .dataframe thead th {\n",
       "        text-align: right;\n",
       "    }\n",
       "</style>\n",
       "<table border=\"1\" class=\"dataframe\">\n",
       "  <thead>\n",
       "    <tr style=\"text-align: right;\">\n",
       "      <th></th>\n",
       "      <th>key</th>\n",
       "      <th>Wire 1</th>\n",
       "      <th>Wire 2</th>\n",
       "      <th>Wire 3</th>\n",
       "      <th>Wire 4</th>\n",
       "      <th>Wire 5</th>\n",
       "      <th>Wire 6</th>\n",
       "      <th>Wire 7</th>\n",
       "      <th>Wire 8</th>\n",
       "      <th>Wire 9</th>\n",
       "    </tr>\n",
       "  </thead>\n",
       "  <tbody>\n",
       "    <tr>\n",
       "      <td>901</td>\n",
       "      <td>961</td>\n",
       "      <td>55.177196</td>\n",
       "      <td>70.122002</td>\n",
       "      <td>NaN</td>\n",
       "      <td>NaN</td>\n",
       "      <td>NaN</td>\n",
       "      <td>NaN</td>\n",
       "      <td>NaN</td>\n",
       "      <td>NaN</td>\n",
       "      <td>90.053604</td>\n",
       "    </tr>\n",
       "  </tbody>\n",
       "</table>\n",
       "</div>"
      ],
      "text/plain": [
       "     key     Wire 1     Wire 2  Wire 3  Wire 4  Wire 5  Wire 6  Wire 7  \\\n",
       "901  961  55.177196  70.122002     NaN     NaN     NaN     NaN     NaN   \n",
       "\n",
       "     Wire 8     Wire 9  \n",
       "901     NaN  90.053604  "
      ]
     },
     "metadata": {},
     "output_type": "display_data"
    }
   ],
   "source": [
    "display(data_wire.loc[data_wire['Wire 7'] > 30])\n",
    "display(data_wire.loc[data_wire['Wire 9'] > 80])"
   ]
  },
  {
   "cell_type": "code",
   "execution_count": 27,
   "metadata": {},
   "outputs": [
    {
     "name": "stdout",
     "output_type": "stream",
     "text": [
      "<class 'pandas.core.frame.DataFrame'>\n",
      "RangeIndex: 3081 entries, 0 to 3080\n",
      "Data columns (total 7 columns):\n",
      "key       3081 non-null int64\n",
      "Wire 1    3081 non-null float64\n",
      "Wire 2    3081 non-null float64\n",
      "Wire 3    3081 non-null float64\n",
      "Wire 6    3081 non-null float64\n",
      "Wire 8    3081 non-null float64\n",
      "Wire 9    3081 non-null float64\n",
      "dtypes: float64(6), int64(1)\n",
      "memory usage: 168.6 KB\n"
     ]
    },
    {
     "data": {
      "text/html": [
       "<div>\n",
       "<style scoped>\n",
       "    .dataframe tbody tr th:only-of-type {\n",
       "        vertical-align: middle;\n",
       "    }\n",
       "\n",
       "    .dataframe tbody tr th {\n",
       "        vertical-align: top;\n",
       "    }\n",
       "\n",
       "    .dataframe thead th {\n",
       "        text-align: right;\n",
       "    }\n",
       "</style>\n",
       "<table border=\"1\" class=\"dataframe\">\n",
       "  <thead>\n",
       "    <tr style=\"text-align: right;\">\n",
       "      <th></th>\n",
       "      <th>key</th>\n",
       "      <th>Wire 1</th>\n",
       "      <th>Wire 2</th>\n",
       "      <th>Wire 3</th>\n",
       "      <th>Wire 6</th>\n",
       "      <th>Wire 8</th>\n",
       "      <th>Wire 9</th>\n",
       "    </tr>\n",
       "  </thead>\n",
       "  <tbody>\n",
       "    <tr>\n",
       "      <td>0</td>\n",
       "      <td>1</td>\n",
       "      <td>60.059998</td>\n",
       "      <td>0.00000</td>\n",
       "      <td>0.0</td>\n",
       "      <td>0.0</td>\n",
       "      <td>0.0</td>\n",
       "      <td>0.0</td>\n",
       "    </tr>\n",
       "    <tr>\n",
       "      <td>1</td>\n",
       "      <td>2</td>\n",
       "      <td>96.052315</td>\n",
       "      <td>0.00000</td>\n",
       "      <td>0.0</td>\n",
       "      <td>0.0</td>\n",
       "      <td>0.0</td>\n",
       "      <td>0.0</td>\n",
       "    </tr>\n",
       "    <tr>\n",
       "      <td>2</td>\n",
       "      <td>3</td>\n",
       "      <td>91.160157</td>\n",
       "      <td>0.00000</td>\n",
       "      <td>0.0</td>\n",
       "      <td>0.0</td>\n",
       "      <td>0.0</td>\n",
       "      <td>0.0</td>\n",
       "    </tr>\n",
       "    <tr>\n",
       "      <td>3</td>\n",
       "      <td>4</td>\n",
       "      <td>89.063515</td>\n",
       "      <td>0.00000</td>\n",
       "      <td>0.0</td>\n",
       "      <td>0.0</td>\n",
       "      <td>0.0</td>\n",
       "      <td>0.0</td>\n",
       "    </tr>\n",
       "    <tr>\n",
       "      <td>4</td>\n",
       "      <td>5</td>\n",
       "      <td>89.238236</td>\n",
       "      <td>9.11456</td>\n",
       "      <td>0.0</td>\n",
       "      <td>0.0</td>\n",
       "      <td>0.0</td>\n",
       "      <td>0.0</td>\n",
       "    </tr>\n",
       "  </tbody>\n",
       "</table>\n",
       "</div>"
      ],
      "text/plain": [
       "   key     Wire 1   Wire 2  Wire 3  Wire 6  Wire 8  Wire 9\n",
       "0    1  60.059998  0.00000     0.0     0.0     0.0     0.0\n",
       "1    2  96.052315  0.00000     0.0     0.0     0.0     0.0\n",
       "2    3  91.160157  0.00000     0.0     0.0     0.0     0.0\n",
       "3    4  89.063515  0.00000     0.0     0.0     0.0     0.0\n",
       "4    5  89.238236  9.11456     0.0     0.0     0.0     0.0"
      ]
     },
     "execution_count": 27,
     "metadata": {},
     "output_type": "execute_result"
    }
   ],
   "source": [
    "#Удаляю столбцы с наибольшим количеством пропусков. Заменяю пропуски на 0\n",
    "data_wire = data_wire.drop(['Wire 4', 'Wire 5', 'Wire 7'], axis=1)\n",
    "data_wire = data_wire.fillna(value=0)\n",
    "data_wire.info()\n",
    "data_wire.head()"
   ]
  },
  {
   "cell_type": "markdown",
   "metadata": {},
   "source": [
    "## data_wire_time / data_bulk_time"
   ]
  },
  {
   "cell_type": "markdown",
   "metadata": {},
   "source": [
    "Таблицы data_wire_time и data_bulk_time результаты предобработки:\n",
    "- значения переведены в тип дата-время для сравнения с таблицей времени измерения температуры\n",
    "- удалены партии, в которых замеры конечной температуры были проведены ранее последнего изменения состава"
   ]
  },
  {
   "cell_type": "code",
   "execution_count": 28,
   "metadata": {},
   "outputs": [
    {
     "name": "stdout",
     "output_type": "stream",
     "text": [
      "<class 'pandas.core.frame.DataFrame'>\n",
      "RangeIndex: 3081 entries, 0 to 3080\n",
      "Data columns (total 10 columns):\n",
      "key       3081 non-null int64\n",
      "Wire 1    3055 non-null object\n",
      "Wire 2    1079 non-null object\n",
      "Wire 3    63 non-null object\n",
      "Wire 4    14 non-null object\n",
      "Wire 5    1 non-null object\n",
      "Wire 6    73 non-null object\n",
      "Wire 7    11 non-null object\n",
      "Wire 8    19 non-null object\n",
      "Wire 9    29 non-null object\n",
      "dtypes: int64(1), object(9)\n",
      "memory usage: 240.8+ KB\n"
     ]
    },
    {
     "data": {
      "text/html": [
       "<div>\n",
       "<style scoped>\n",
       "    .dataframe tbody tr th:only-of-type {\n",
       "        vertical-align: middle;\n",
       "    }\n",
       "\n",
       "    .dataframe tbody tr th {\n",
       "        vertical-align: top;\n",
       "    }\n",
       "\n",
       "    .dataframe thead th {\n",
       "        text-align: right;\n",
       "    }\n",
       "</style>\n",
       "<table border=\"1\" class=\"dataframe\">\n",
       "  <thead>\n",
       "    <tr style=\"text-align: right;\">\n",
       "      <th></th>\n",
       "      <th>key</th>\n",
       "      <th>Wire 1</th>\n",
       "      <th>Wire 2</th>\n",
       "      <th>Wire 3</th>\n",
       "      <th>Wire 4</th>\n",
       "      <th>Wire 5</th>\n",
       "      <th>Wire 6</th>\n",
       "      <th>Wire 7</th>\n",
       "      <th>Wire 8</th>\n",
       "      <th>Wire 9</th>\n",
       "    </tr>\n",
       "  </thead>\n",
       "  <tbody>\n",
       "    <tr>\n",
       "      <td>0</td>\n",
       "      <td>1</td>\n",
       "      <td>2019-05-03 11:11:41</td>\n",
       "      <td>NaN</td>\n",
       "      <td>NaN</td>\n",
       "      <td>NaN</td>\n",
       "      <td>NaN</td>\n",
       "      <td>NaN</td>\n",
       "      <td>NaN</td>\n",
       "      <td>NaN</td>\n",
       "      <td>NaN</td>\n",
       "    </tr>\n",
       "    <tr>\n",
       "      <td>1</td>\n",
       "      <td>2</td>\n",
       "      <td>2019-05-03 11:46:10</td>\n",
       "      <td>NaN</td>\n",
       "      <td>NaN</td>\n",
       "      <td>NaN</td>\n",
       "      <td>NaN</td>\n",
       "      <td>NaN</td>\n",
       "      <td>NaN</td>\n",
       "      <td>NaN</td>\n",
       "      <td>NaN</td>\n",
       "    </tr>\n",
       "    <tr>\n",
       "      <td>2</td>\n",
       "      <td>3</td>\n",
       "      <td>2019-05-03 12:13:47</td>\n",
       "      <td>NaN</td>\n",
       "      <td>NaN</td>\n",
       "      <td>NaN</td>\n",
       "      <td>NaN</td>\n",
       "      <td>NaN</td>\n",
       "      <td>NaN</td>\n",
       "      <td>NaN</td>\n",
       "      <td>NaN</td>\n",
       "    </tr>\n",
       "    <tr>\n",
       "      <td>3</td>\n",
       "      <td>4</td>\n",
       "      <td>2019-05-03 12:48:05</td>\n",
       "      <td>NaN</td>\n",
       "      <td>NaN</td>\n",
       "      <td>NaN</td>\n",
       "      <td>NaN</td>\n",
       "      <td>NaN</td>\n",
       "      <td>NaN</td>\n",
       "      <td>NaN</td>\n",
       "      <td>NaN</td>\n",
       "    </tr>\n",
       "    <tr>\n",
       "      <td>4</td>\n",
       "      <td>5</td>\n",
       "      <td>2019-05-03 13:18:15</td>\n",
       "      <td>2019-05-03 13:32:06</td>\n",
       "      <td>NaN</td>\n",
       "      <td>NaN</td>\n",
       "      <td>NaN</td>\n",
       "      <td>NaN</td>\n",
       "      <td>NaN</td>\n",
       "      <td>NaN</td>\n",
       "      <td>NaN</td>\n",
       "    </tr>\n",
       "  </tbody>\n",
       "</table>\n",
       "</div>"
      ],
      "text/plain": [
       "   key               Wire 1               Wire 2 Wire 3 Wire 4 Wire 5 Wire 6  \\\n",
       "0    1  2019-05-03 11:11:41                  NaN    NaN    NaN    NaN    NaN   \n",
       "1    2  2019-05-03 11:46:10                  NaN    NaN    NaN    NaN    NaN   \n",
       "2    3  2019-05-03 12:13:47                  NaN    NaN    NaN    NaN    NaN   \n",
       "3    4  2019-05-03 12:48:05                  NaN    NaN    NaN    NaN    NaN   \n",
       "4    5  2019-05-03 13:18:15  2019-05-03 13:32:06    NaN    NaN    NaN    NaN   \n",
       "\n",
       "  Wire 7 Wire 8 Wire 9  \n",
       "0    NaN    NaN    NaN  \n",
       "1    NaN    NaN    NaN  \n",
       "2    NaN    NaN    NaN  \n",
       "3    NaN    NaN    NaN  \n",
       "4    NaN    NaN    NaN  "
      ]
     },
     "execution_count": 28,
     "metadata": {},
     "output_type": "execute_result"
    }
   ],
   "source": [
    "data_wire_time = pd.read_csv('/datasets/final_steel/data_wire_time.csv')\n",
    "   \n",
    "data_wire_time.info()\n",
    "data_wire_time.head()"
   ]
  },
  {
   "cell_type": "code",
   "execution_count": 29,
   "metadata": {},
   "outputs": [
    {
     "data": {
      "text/html": [
       "<div>\n",
       "<style scoped>\n",
       "    .dataframe tbody tr th:only-of-type {\n",
       "        vertical-align: middle;\n",
       "    }\n",
       "\n",
       "    .dataframe tbody tr th {\n",
       "        vertical-align: top;\n",
       "    }\n",
       "\n",
       "    .dataframe thead th {\n",
       "        text-align: right;\n",
       "    }\n",
       "</style>\n",
       "<table border=\"1\" class=\"dataframe\">\n",
       "  <thead>\n",
       "    <tr style=\"text-align: right;\">\n",
       "      <th></th>\n",
       "      <th>key</th>\n",
       "      <th>Wire 1</th>\n",
       "      <th>Wire 2</th>\n",
       "      <th>Wire 3</th>\n",
       "      <th>Wire 4</th>\n",
       "      <th>Wire 5</th>\n",
       "      <th>Wire 6</th>\n",
       "      <th>Wire 7</th>\n",
       "      <th>Wire 8</th>\n",
       "      <th>Wire 9</th>\n",
       "      <th>Время замера</th>\n",
       "      <th>Температура</th>\n",
       "      <th>Res_sum</th>\n",
       "    </tr>\n",
       "  </thead>\n",
       "  <tbody>\n",
       "    <tr>\n",
       "      <td>1173</td>\n",
       "      <td>1244</td>\n",
       "      <td>2019-06-17 08:33:55</td>\n",
       "      <td>2019-06-17 08:49:29</td>\n",
       "      <td>1970-01-01</td>\n",
       "      <td>1970-01-01</td>\n",
       "      <td>1970-01-01</td>\n",
       "      <td>1970-01-01</td>\n",
       "      <td>1970-01-01</td>\n",
       "      <td>1970-01-01</td>\n",
       "      <td>1970-01-01</td>\n",
       "      <td>2019-06-17 08:45:16</td>\n",
       "      <td>1593.0</td>\n",
       "      <td>True</td>\n",
       "    </tr>\n",
       "    <tr>\n",
       "      <td>1430</td>\n",
       "      <td>1505</td>\n",
       "      <td>2019-06-26 14:14:50</td>\n",
       "      <td>2019-06-26 14:18:01</td>\n",
       "      <td>1970-01-01</td>\n",
       "      <td>1970-01-01</td>\n",
       "      <td>1970-01-01</td>\n",
       "      <td>1970-01-01</td>\n",
       "      <td>1970-01-01</td>\n",
       "      <td>1970-01-01</td>\n",
       "      <td>1970-01-01</td>\n",
       "      <td>2019-06-26 14:14:29</td>\n",
       "      <td>1629.0</td>\n",
       "      <td>True</td>\n",
       "    </tr>\n",
       "  </tbody>\n",
       "</table>\n",
       "</div>"
      ],
      "text/plain": [
       "       key              Wire 1              Wire 2     Wire 3     Wire 4  \\\n",
       "1173  1244 2019-06-17 08:33:55 2019-06-17 08:49:29 1970-01-01 1970-01-01   \n",
       "1430  1505 2019-06-26 14:14:50 2019-06-26 14:18:01 1970-01-01 1970-01-01   \n",
       "\n",
       "         Wire 5     Wire 6     Wire 7     Wire 8     Wire 9  \\\n",
       "1173 1970-01-01 1970-01-01 1970-01-01 1970-01-01 1970-01-01   \n",
       "1430 1970-01-01 1970-01-01 1970-01-01 1970-01-01 1970-01-01   \n",
       "\n",
       "            Время замера  Температура  Res_sum  \n",
       "1173 2019-06-17 08:45:16       1593.0     True  \n",
       "1430 2019-06-26 14:14:29       1629.0     True  "
      ]
     },
     "execution_count": 29,
     "metadata": {},
     "output_type": "execute_result"
    }
   ],
   "source": [
    "data_wire_time = data_wire_time.merge(data_temp_last, on='key', how='right').fillna(value=0)\n",
    "\n",
    "#Перевожу данные столбцов в тип дата-время и проверяю наличие времени введения добавок\n",
    "#после последнего измерения температуры\n",
    "data_wire_time['Res_sum'] = False\n",
    "for i in range(1, 10):\n",
    "    data_wire_time['Wire {}'.format(i)] = pd.to_datetime(data_wire_time['Wire {}'.format(i)])\n",
    "    data_wire_time['Res_sum'] += data_wire_time['Wire {}'.format(i)] > data_wire_time['Время замера']\n",
    "\n",
    "data_del = data_wire_time[data_wire_time['Res_sum'] == True]\n",
    "data_del"
   ]
  },
  {
   "cell_type": "code",
   "execution_count": 30,
   "metadata": {},
   "outputs": [
    {
     "name": "stdout",
     "output_type": "stream",
     "text": [
      "<class 'pandas.core.frame.DataFrame'>\n",
      "RangeIndex: 3129 entries, 0 to 3128\n",
      "Data columns (total 16 columns):\n",
      "key        3129 non-null int64\n",
      "Bulk 1     252 non-null object\n",
      "Bulk 2     22 non-null object\n",
      "Bulk 3     1298 non-null object\n",
      "Bulk 4     1014 non-null object\n",
      "Bulk 5     77 non-null object\n",
      "Bulk 6     576 non-null object\n",
      "Bulk 7     25 non-null object\n",
      "Bulk 8     1 non-null object\n",
      "Bulk 9     19 non-null object\n",
      "Bulk 10    176 non-null object\n",
      "Bulk 11    177 non-null object\n",
      "Bulk 12    2450 non-null object\n",
      "Bulk 13    18 non-null object\n",
      "Bulk 14    2806 non-null object\n",
      "Bulk 15    2248 non-null object\n",
      "dtypes: int64(1), object(15)\n",
      "memory usage: 391.2+ KB\n"
     ]
    },
    {
     "data": {
      "text/html": [
       "<div>\n",
       "<style scoped>\n",
       "    .dataframe tbody tr th:only-of-type {\n",
       "        vertical-align: middle;\n",
       "    }\n",
       "\n",
       "    .dataframe tbody tr th {\n",
       "        vertical-align: top;\n",
       "    }\n",
       "\n",
       "    .dataframe thead th {\n",
       "        text-align: right;\n",
       "    }\n",
       "</style>\n",
       "<table border=\"1\" class=\"dataframe\">\n",
       "  <thead>\n",
       "    <tr style=\"text-align: right;\">\n",
       "      <th></th>\n",
       "      <th>key</th>\n",
       "      <th>Bulk 1</th>\n",
       "      <th>Bulk 2</th>\n",
       "      <th>Bulk 3</th>\n",
       "      <th>Bulk 4</th>\n",
       "      <th>Bulk 5</th>\n",
       "      <th>Bulk 6</th>\n",
       "      <th>Bulk 7</th>\n",
       "      <th>Bulk 8</th>\n",
       "      <th>Bulk 9</th>\n",
       "      <th>Bulk 10</th>\n",
       "      <th>Bulk 11</th>\n",
       "      <th>Bulk 12</th>\n",
       "      <th>Bulk 13</th>\n",
       "      <th>Bulk 14</th>\n",
       "      <th>Bulk 15</th>\n",
       "    </tr>\n",
       "  </thead>\n",
       "  <tbody>\n",
       "    <tr>\n",
       "      <td>0</td>\n",
       "      <td>1</td>\n",
       "      <td>NaN</td>\n",
       "      <td>NaN</td>\n",
       "      <td>NaN</td>\n",
       "      <td>2019-05-03 11:21:30</td>\n",
       "      <td>NaN</td>\n",
       "      <td>NaN</td>\n",
       "      <td>NaN</td>\n",
       "      <td>NaN</td>\n",
       "      <td>NaN</td>\n",
       "      <td>NaN</td>\n",
       "      <td>NaN</td>\n",
       "      <td>2019-05-03 11:03:52</td>\n",
       "      <td>NaN</td>\n",
       "      <td>2019-05-03 11:03:52</td>\n",
       "      <td>2019-05-03 11:03:52</td>\n",
       "    </tr>\n",
       "    <tr>\n",
       "      <td>1</td>\n",
       "      <td>2</td>\n",
       "      <td>NaN</td>\n",
       "      <td>NaN</td>\n",
       "      <td>NaN</td>\n",
       "      <td>2019-05-03 11:46:38</td>\n",
       "      <td>NaN</td>\n",
       "      <td>NaN</td>\n",
       "      <td>NaN</td>\n",
       "      <td>NaN</td>\n",
       "      <td>NaN</td>\n",
       "      <td>NaN</td>\n",
       "      <td>NaN</td>\n",
       "      <td>2019-05-03 11:40:20</td>\n",
       "      <td>NaN</td>\n",
       "      <td>2019-05-03 11:40:20</td>\n",
       "      <td>2019-05-03 11:40:20</td>\n",
       "    </tr>\n",
       "    <tr>\n",
       "      <td>2</td>\n",
       "      <td>3</td>\n",
       "      <td>NaN</td>\n",
       "      <td>NaN</td>\n",
       "      <td>NaN</td>\n",
       "      <td>2019-05-03 12:31:06</td>\n",
       "      <td>NaN</td>\n",
       "      <td>NaN</td>\n",
       "      <td>NaN</td>\n",
       "      <td>NaN</td>\n",
       "      <td>NaN</td>\n",
       "      <td>NaN</td>\n",
       "      <td>NaN</td>\n",
       "      <td>2019-05-03 12:09:40</td>\n",
       "      <td>NaN</td>\n",
       "      <td>2019-05-03 12:09:40</td>\n",
       "      <td>2019-05-03 12:09:40</td>\n",
       "    </tr>\n",
       "    <tr>\n",
       "      <td>3</td>\n",
       "      <td>4</td>\n",
       "      <td>NaN</td>\n",
       "      <td>NaN</td>\n",
       "      <td>NaN</td>\n",
       "      <td>2019-05-03 12:48:43</td>\n",
       "      <td>NaN</td>\n",
       "      <td>NaN</td>\n",
       "      <td>NaN</td>\n",
       "      <td>NaN</td>\n",
       "      <td>NaN</td>\n",
       "      <td>NaN</td>\n",
       "      <td>NaN</td>\n",
       "      <td>2019-05-03 12:41:24</td>\n",
       "      <td>NaN</td>\n",
       "      <td>2019-05-03 12:41:24</td>\n",
       "      <td>2019-05-03 12:41:24</td>\n",
       "    </tr>\n",
       "    <tr>\n",
       "      <td>4</td>\n",
       "      <td>5</td>\n",
       "      <td>NaN</td>\n",
       "      <td>NaN</td>\n",
       "      <td>NaN</td>\n",
       "      <td>2019-05-03 13:18:50</td>\n",
       "      <td>NaN</td>\n",
       "      <td>NaN</td>\n",
       "      <td>NaN</td>\n",
       "      <td>NaN</td>\n",
       "      <td>NaN</td>\n",
       "      <td>NaN</td>\n",
       "      <td>NaN</td>\n",
       "      <td>2019-05-03 13:12:56</td>\n",
       "      <td>NaN</td>\n",
       "      <td>2019-05-03 13:12:56</td>\n",
       "      <td>2019-05-03 13:12:56</td>\n",
       "    </tr>\n",
       "  </tbody>\n",
       "</table>\n",
       "</div>"
      ],
      "text/plain": [
       "   key Bulk 1 Bulk 2 Bulk 3               Bulk 4 Bulk 5 Bulk 6 Bulk 7 Bulk 8  \\\n",
       "0    1    NaN    NaN    NaN  2019-05-03 11:21:30    NaN    NaN    NaN    NaN   \n",
       "1    2    NaN    NaN    NaN  2019-05-03 11:46:38    NaN    NaN    NaN    NaN   \n",
       "2    3    NaN    NaN    NaN  2019-05-03 12:31:06    NaN    NaN    NaN    NaN   \n",
       "3    4    NaN    NaN    NaN  2019-05-03 12:48:43    NaN    NaN    NaN    NaN   \n",
       "4    5    NaN    NaN    NaN  2019-05-03 13:18:50    NaN    NaN    NaN    NaN   \n",
       "\n",
       "  Bulk 9 Bulk 10 Bulk 11              Bulk 12 Bulk 13              Bulk 14  \\\n",
       "0    NaN     NaN     NaN  2019-05-03 11:03:52     NaN  2019-05-03 11:03:52   \n",
       "1    NaN     NaN     NaN  2019-05-03 11:40:20     NaN  2019-05-03 11:40:20   \n",
       "2    NaN     NaN     NaN  2019-05-03 12:09:40     NaN  2019-05-03 12:09:40   \n",
       "3    NaN     NaN     NaN  2019-05-03 12:41:24     NaN  2019-05-03 12:41:24   \n",
       "4    NaN     NaN     NaN  2019-05-03 13:12:56     NaN  2019-05-03 13:12:56   \n",
       "\n",
       "               Bulk 15  \n",
       "0  2019-05-03 11:03:52  \n",
       "1  2019-05-03 11:40:20  \n",
       "2  2019-05-03 12:09:40  \n",
       "3  2019-05-03 12:41:24  \n",
       "4  2019-05-03 13:12:56  "
      ]
     },
     "execution_count": 30,
     "metadata": {},
     "output_type": "execute_result"
    }
   ],
   "source": [
    "data_bulk_time = pd.read_csv('/datasets/final_steel/data_bulk_time.csv')\n",
    "data_bulk_time.info()\n",
    "data_bulk_time.head()"
   ]
  },
  {
   "cell_type": "code",
   "execution_count": 31,
   "metadata": {},
   "outputs": [
    {
     "data": {
      "text/html": [
       "<div>\n",
       "<style scoped>\n",
       "    .dataframe tbody tr th:only-of-type {\n",
       "        vertical-align: middle;\n",
       "    }\n",
       "\n",
       "    .dataframe tbody tr th {\n",
       "        vertical-align: top;\n",
       "    }\n",
       "\n",
       "    .dataframe thead th {\n",
       "        text-align: right;\n",
       "    }\n",
       "</style>\n",
       "<table border=\"1\" class=\"dataframe\">\n",
       "  <thead>\n",
       "    <tr style=\"text-align: right;\">\n",
       "      <th></th>\n",
       "      <th>key</th>\n",
       "      <th>Bulk 1</th>\n",
       "      <th>Bulk 2</th>\n",
       "      <th>Bulk 3</th>\n",
       "      <th>Bulk 4</th>\n",
       "      <th>Bulk 5</th>\n",
       "      <th>Bulk 6</th>\n",
       "      <th>Bulk 7</th>\n",
       "      <th>Bulk 8</th>\n",
       "      <th>Bulk 9</th>\n",
       "      <th>Bulk 10</th>\n",
       "      <th>Bulk 11</th>\n",
       "      <th>Bulk 12</th>\n",
       "      <th>Bulk 13</th>\n",
       "      <th>Bulk 14</th>\n",
       "      <th>Bulk 15</th>\n",
       "      <th>Время замера</th>\n",
       "      <th>Температура</th>\n",
       "      <th>Res_sum</th>\n",
       "    </tr>\n",
       "  </thead>\n",
       "  <tbody>\n",
       "    <tr>\n",
       "      <td>554</td>\n",
       "      <td>586</td>\n",
       "      <td>1970-01-01</td>\n",
       "      <td>1970-01-01</td>\n",
       "      <td>1970-01-01 00:00:00</td>\n",
       "      <td>2019-05-25 01:29:11</td>\n",
       "      <td>1970-01-01</td>\n",
       "      <td>1970-01-01 00:00:00</td>\n",
       "      <td>1970-01-01</td>\n",
       "      <td>1970-01-01</td>\n",
       "      <td>1970-01-01</td>\n",
       "      <td>1970-01-01 00:00:00</td>\n",
       "      <td>1970-01-01 00:00:00</td>\n",
       "      <td>1970-01-01 00:00:00</td>\n",
       "      <td>1970-01-01</td>\n",
       "      <td>1970-01-01 00:00:00</td>\n",
       "      <td>1970-01-01 00:00:00</td>\n",
       "      <td>2019-05-25 01:28:18</td>\n",
       "      <td>1594.0</td>\n",
       "      <td>True</td>\n",
       "    </tr>\n",
       "    <tr>\n",
       "      <td>1190</td>\n",
       "      <td>1244</td>\n",
       "      <td>1970-01-01</td>\n",
       "      <td>1970-01-01</td>\n",
       "      <td>1970-01-01 00:00:00</td>\n",
       "      <td>2019-06-17 08:49:23</td>\n",
       "      <td>1970-01-01</td>\n",
       "      <td>1970-01-01 00:00:00</td>\n",
       "      <td>1970-01-01</td>\n",
       "      <td>1970-01-01</td>\n",
       "      <td>1970-01-01</td>\n",
       "      <td>1970-01-01 00:00:00</td>\n",
       "      <td>1970-01-01 00:00:00</td>\n",
       "      <td>1970-01-01 00:00:00</td>\n",
       "      <td>1970-01-01</td>\n",
       "      <td>1970-01-01 00:00:00</td>\n",
       "      <td>1970-01-01 00:00:00</td>\n",
       "      <td>2019-06-17 08:45:16</td>\n",
       "      <td>1593.0</td>\n",
       "      <td>True</td>\n",
       "    </tr>\n",
       "    <tr>\n",
       "      <td>1260</td>\n",
       "      <td>1316</td>\n",
       "      <td>1970-01-01</td>\n",
       "      <td>1970-01-01</td>\n",
       "      <td>2019-06-19 17:35:26</td>\n",
       "      <td>1970-01-01 00:00:00</td>\n",
       "      <td>1970-01-01</td>\n",
       "      <td>1970-01-01 00:00:00</td>\n",
       "      <td>1970-01-01</td>\n",
       "      <td>1970-01-01</td>\n",
       "      <td>1970-01-01</td>\n",
       "      <td>1970-01-01 00:00:00</td>\n",
       "      <td>1970-01-01 00:00:00</td>\n",
       "      <td>1970-01-01 00:00:00</td>\n",
       "      <td>1970-01-01</td>\n",
       "      <td>1970-01-01 00:00:00</td>\n",
       "      <td>1970-01-01 00:00:00</td>\n",
       "      <td>2019-06-19 17:34:42</td>\n",
       "      <td>1595.0</td>\n",
       "      <td>True</td>\n",
       "    </tr>\n",
       "    <tr>\n",
       "      <td>1434</td>\n",
       "      <td>1493</td>\n",
       "      <td>1970-01-01</td>\n",
       "      <td>1970-01-01</td>\n",
       "      <td>1970-01-01 00:00:00</td>\n",
       "      <td>1970-01-01 00:00:00</td>\n",
       "      <td>1970-01-01</td>\n",
       "      <td>1970-01-01 00:00:00</td>\n",
       "      <td>1970-01-01</td>\n",
       "      <td>1970-01-01</td>\n",
       "      <td>1970-01-01</td>\n",
       "      <td>2019-06-26 06:51:49</td>\n",
       "      <td>1970-01-01 00:00:00</td>\n",
       "      <td>2019-06-26 05:56:51</td>\n",
       "      <td>1970-01-01</td>\n",
       "      <td>2019-06-26 05:56:51</td>\n",
       "      <td>2019-06-26 05:56:51</td>\n",
       "      <td>2019-06-26 06:47:47</td>\n",
       "      <td>1590.0</td>\n",
       "      <td>True</td>\n",
       "    </tr>\n",
       "    <tr>\n",
       "      <td>1446</td>\n",
       "      <td>1505</td>\n",
       "      <td>1970-01-01</td>\n",
       "      <td>1970-01-01</td>\n",
       "      <td>1970-01-01 00:00:00</td>\n",
       "      <td>1970-01-01 00:00:00</td>\n",
       "      <td>1970-01-01</td>\n",
       "      <td>2019-06-26 14:17:30</td>\n",
       "      <td>1970-01-01</td>\n",
       "      <td>1970-01-01</td>\n",
       "      <td>1970-01-01</td>\n",
       "      <td>1970-01-01 00:00:00</td>\n",
       "      <td>1970-01-01 00:00:00</td>\n",
       "      <td>1970-01-01 00:00:00</td>\n",
       "      <td>1970-01-01</td>\n",
       "      <td>1970-01-01 00:00:00</td>\n",
       "      <td>1970-01-01 00:00:00</td>\n",
       "      <td>2019-06-26 14:14:29</td>\n",
       "      <td>1629.0</td>\n",
       "      <td>True</td>\n",
       "    </tr>\n",
       "    <tr>\n",
       "      <td>1486</td>\n",
       "      <td>1549</td>\n",
       "      <td>1970-01-01</td>\n",
       "      <td>1970-01-01</td>\n",
       "      <td>1970-01-01 00:00:00</td>\n",
       "      <td>2019-06-28 05:33:18</td>\n",
       "      <td>1970-01-01</td>\n",
       "      <td>1970-01-01 00:00:00</td>\n",
       "      <td>1970-01-01</td>\n",
       "      <td>1970-01-01</td>\n",
       "      <td>1970-01-01</td>\n",
       "      <td>1970-01-01 00:00:00</td>\n",
       "      <td>1970-01-01 00:00:00</td>\n",
       "      <td>1970-01-01 00:00:00</td>\n",
       "      <td>1970-01-01</td>\n",
       "      <td>2019-06-28 05:17:08</td>\n",
       "      <td>1970-01-01 00:00:00</td>\n",
       "      <td>2019-06-28 05:32:46</td>\n",
       "      <td>1589.0</td>\n",
       "      <td>True</td>\n",
       "    </tr>\n",
       "    <tr>\n",
       "      <td>1803</td>\n",
       "      <td>1873</td>\n",
       "      <td>1970-01-01</td>\n",
       "      <td>1970-01-01</td>\n",
       "      <td>2019-07-08 22:13:14</td>\n",
       "      <td>1970-01-01 00:00:00</td>\n",
       "      <td>1970-01-01</td>\n",
       "      <td>1970-01-01 00:00:00</td>\n",
       "      <td>1970-01-01</td>\n",
       "      <td>1970-01-01</td>\n",
       "      <td>1970-01-01</td>\n",
       "      <td>1970-01-01 00:00:00</td>\n",
       "      <td>1970-01-01 00:00:00</td>\n",
       "      <td>2019-07-08 21:39:55</td>\n",
       "      <td>1970-01-01</td>\n",
       "      <td>2019-07-08 21:39:55</td>\n",
       "      <td>2019-07-08 21:39:55</td>\n",
       "      <td>2019-07-08 22:09:51</td>\n",
       "      <td>1594.0</td>\n",
       "      <td>True</td>\n",
       "    </tr>\n",
       "    <tr>\n",
       "      <td>2056</td>\n",
       "      <td>2137</td>\n",
       "      <td>1970-01-01</td>\n",
       "      <td>1970-01-01</td>\n",
       "      <td>2019-07-24 16:34:32</td>\n",
       "      <td>2019-07-24 16:53:54</td>\n",
       "      <td>1970-01-01</td>\n",
       "      <td>1970-01-01 00:00:00</td>\n",
       "      <td>1970-01-01</td>\n",
       "      <td>1970-01-01</td>\n",
       "      <td>1970-01-01</td>\n",
       "      <td>1970-01-01 00:00:00</td>\n",
       "      <td>1970-01-01 00:00:00</td>\n",
       "      <td>2019-07-24 16:24:28</td>\n",
       "      <td>1970-01-01</td>\n",
       "      <td>2019-07-24 16:24:28</td>\n",
       "      <td>2019-07-24 16:24:28</td>\n",
       "      <td>2019-07-24 16:53:42</td>\n",
       "      <td>1585.0</td>\n",
       "      <td>True</td>\n",
       "    </tr>\n",
       "    <tr>\n",
       "      <td>2324</td>\n",
       "      <td>2421</td>\n",
       "      <td>1970-01-01</td>\n",
       "      <td>1970-01-01</td>\n",
       "      <td>2019-08-03 08:55:29</td>\n",
       "      <td>1970-01-01 00:00:00</td>\n",
       "      <td>1970-01-01</td>\n",
       "      <td>2019-08-03 08:55:29</td>\n",
       "      <td>1970-01-01</td>\n",
       "      <td>1970-01-01</td>\n",
       "      <td>1970-01-01</td>\n",
       "      <td>1970-01-01 00:00:00</td>\n",
       "      <td>2019-08-03 09:06:24</td>\n",
       "      <td>1970-01-01 00:00:00</td>\n",
       "      <td>1970-01-01</td>\n",
       "      <td>2019-08-03 08:49:32</td>\n",
       "      <td>1970-01-01 00:00:00</td>\n",
       "      <td>2019-08-03 09:06:23</td>\n",
       "      <td>1578.0</td>\n",
       "      <td>True</td>\n",
       "    </tr>\n",
       "  </tbody>\n",
       "</table>\n",
       "</div>"
      ],
      "text/plain": [
       "       key     Bulk 1     Bulk 2              Bulk 3              Bulk 4  \\\n",
       "554    586 1970-01-01 1970-01-01 1970-01-01 00:00:00 2019-05-25 01:29:11   \n",
       "1190  1244 1970-01-01 1970-01-01 1970-01-01 00:00:00 2019-06-17 08:49:23   \n",
       "1260  1316 1970-01-01 1970-01-01 2019-06-19 17:35:26 1970-01-01 00:00:00   \n",
       "1434  1493 1970-01-01 1970-01-01 1970-01-01 00:00:00 1970-01-01 00:00:00   \n",
       "1446  1505 1970-01-01 1970-01-01 1970-01-01 00:00:00 1970-01-01 00:00:00   \n",
       "1486  1549 1970-01-01 1970-01-01 1970-01-01 00:00:00 2019-06-28 05:33:18   \n",
       "1803  1873 1970-01-01 1970-01-01 2019-07-08 22:13:14 1970-01-01 00:00:00   \n",
       "2056  2137 1970-01-01 1970-01-01 2019-07-24 16:34:32 2019-07-24 16:53:54   \n",
       "2324  2421 1970-01-01 1970-01-01 2019-08-03 08:55:29 1970-01-01 00:00:00   \n",
       "\n",
       "         Bulk 5              Bulk 6     Bulk 7     Bulk 8     Bulk 9  \\\n",
       "554  1970-01-01 1970-01-01 00:00:00 1970-01-01 1970-01-01 1970-01-01   \n",
       "1190 1970-01-01 1970-01-01 00:00:00 1970-01-01 1970-01-01 1970-01-01   \n",
       "1260 1970-01-01 1970-01-01 00:00:00 1970-01-01 1970-01-01 1970-01-01   \n",
       "1434 1970-01-01 1970-01-01 00:00:00 1970-01-01 1970-01-01 1970-01-01   \n",
       "1446 1970-01-01 2019-06-26 14:17:30 1970-01-01 1970-01-01 1970-01-01   \n",
       "1486 1970-01-01 1970-01-01 00:00:00 1970-01-01 1970-01-01 1970-01-01   \n",
       "1803 1970-01-01 1970-01-01 00:00:00 1970-01-01 1970-01-01 1970-01-01   \n",
       "2056 1970-01-01 1970-01-01 00:00:00 1970-01-01 1970-01-01 1970-01-01   \n",
       "2324 1970-01-01 2019-08-03 08:55:29 1970-01-01 1970-01-01 1970-01-01   \n",
       "\n",
       "                 Bulk 10             Bulk 11             Bulk 12    Bulk 13  \\\n",
       "554  1970-01-01 00:00:00 1970-01-01 00:00:00 1970-01-01 00:00:00 1970-01-01   \n",
       "1190 1970-01-01 00:00:00 1970-01-01 00:00:00 1970-01-01 00:00:00 1970-01-01   \n",
       "1260 1970-01-01 00:00:00 1970-01-01 00:00:00 1970-01-01 00:00:00 1970-01-01   \n",
       "1434 2019-06-26 06:51:49 1970-01-01 00:00:00 2019-06-26 05:56:51 1970-01-01   \n",
       "1446 1970-01-01 00:00:00 1970-01-01 00:00:00 1970-01-01 00:00:00 1970-01-01   \n",
       "1486 1970-01-01 00:00:00 1970-01-01 00:00:00 1970-01-01 00:00:00 1970-01-01   \n",
       "1803 1970-01-01 00:00:00 1970-01-01 00:00:00 2019-07-08 21:39:55 1970-01-01   \n",
       "2056 1970-01-01 00:00:00 1970-01-01 00:00:00 2019-07-24 16:24:28 1970-01-01   \n",
       "2324 1970-01-01 00:00:00 2019-08-03 09:06:24 1970-01-01 00:00:00 1970-01-01   \n",
       "\n",
       "                 Bulk 14             Bulk 15        Время замера  Температура  \\\n",
       "554  1970-01-01 00:00:00 1970-01-01 00:00:00 2019-05-25 01:28:18       1594.0   \n",
       "1190 1970-01-01 00:00:00 1970-01-01 00:00:00 2019-06-17 08:45:16       1593.0   \n",
       "1260 1970-01-01 00:00:00 1970-01-01 00:00:00 2019-06-19 17:34:42       1595.0   \n",
       "1434 2019-06-26 05:56:51 2019-06-26 05:56:51 2019-06-26 06:47:47       1590.0   \n",
       "1446 1970-01-01 00:00:00 1970-01-01 00:00:00 2019-06-26 14:14:29       1629.0   \n",
       "1486 2019-06-28 05:17:08 1970-01-01 00:00:00 2019-06-28 05:32:46       1589.0   \n",
       "1803 2019-07-08 21:39:55 2019-07-08 21:39:55 2019-07-08 22:09:51       1594.0   \n",
       "2056 2019-07-24 16:24:28 2019-07-24 16:24:28 2019-07-24 16:53:42       1585.0   \n",
       "2324 2019-08-03 08:49:32 1970-01-01 00:00:00 2019-08-03 09:06:23       1578.0   \n",
       "\n",
       "      Res_sum  \n",
       "554      True  \n",
       "1190     True  \n",
       "1260     True  \n",
       "1434     True  \n",
       "1446     True  \n",
       "1486     True  \n",
       "1803     True  \n",
       "2056     True  \n",
       "2324     True  "
      ]
     },
     "execution_count": 31,
     "metadata": {},
     "output_type": "execute_result"
    }
   ],
   "source": [
    "data_bulk_time = data_bulk_time.merge(data_temp_last, on='key', how='right').fillna(value=0)\n",
    "\n",
    "#Перевожу данные столбцов в тип дата-время и проверяю наличие времени введения добавок\n",
    "#после последнего измерения температуры\n",
    "data_bulk_time['Res_sum'] = False\n",
    "for i in range(1, 16):\n",
    "    data_bulk_time['Bulk {}'.format(i)] = pd.to_datetime(data_bulk_time['Bulk {}'.format(i)])\n",
    "    data_bulk_time['Res_sum'] += data_bulk_time['Bulk {}'.format(i)] > data_bulk_time['Время замера']\n",
    "\n",
    "data_del = data_del.merge(data_bulk_time[data_bulk_time['Res_sum'] == True], how='outer')\n",
    "data_bulk_time[data_bulk_time['Res_sum'] == True]"
   ]
  },
  {
   "cell_type": "code",
   "execution_count": 32,
   "metadata": {},
   "outputs": [
    {
     "name": "stdout",
     "output_type": "stream",
     "text": [
      "<class 'pandas.core.frame.DataFrame'>\n",
      "Int64Index: 2453 entries, 0 to 12264\n",
      "Data columns (total 3 columns):\n",
      "key             2453 non-null int64\n",
      "Время замера    2453 non-null datetime64[ns]\n",
      "Температура     2453 non-null float64\n",
      "dtypes: datetime64[ns](1), float64(1), int64(1)\n",
      "memory usage: 76.7 KB\n",
      "<class 'pandas.core.frame.DataFrame'>\n",
      "Int64Index: 2453 entries, 4 to 12266\n",
      "Data columns (total 3 columns):\n",
      "key             2453 non-null int64\n",
      "Время замера    2453 non-null datetime64[ns]\n",
      "Температура     2453 non-null float64\n",
      "dtypes: datetime64[ns](1), float64(1), int64(1)\n",
      "memory usage: 76.7 KB\n"
     ]
    }
   ],
   "source": [
    "#Были найдены 9 партий, в которых конечная температура измерялась ДО последнего изменения состава\n",
    "#Удаляю их\n",
    "data_temp_first = data_temp_first.drop(data_temp_first[data_temp_first['key'].isin(data_del.key)].index)\n",
    "data_temp_last = data_temp_last.drop(data_temp_last[data_temp_last['key'].isin(data_del.key)].index)\n",
    "\n",
    "data_temp_first.info()\n",
    "data_temp_last.info()"
   ]
  },
  {
   "cell_type": "markdown",
   "metadata": {},
   "source": [
    "# Подготовка признаков"
   ]
  },
  {
   "cell_type": "markdown",
   "metadata": {},
   "source": [
    "## Таблица с признаками"
   ]
  },
  {
   "cell_type": "markdown",
   "metadata": {},
   "source": [
    "Формирование признаков:\n",
    "Я решила оставить из первой таблицы 2 признака: время нагрева и активную мощность.Так как \"реактивная мощность это мощность, которая не была передана в нагрузку, а привела к потерям на нагрев и излучение\". То есть на температуру стали она влияния не оказывает, и является характеристикой нагревающей системы."
   ]
  },
  {
   "cell_type": "code",
   "execution_count": 33,
   "metadata": {},
   "outputs": [
    {
     "name": "stdout",
     "output_type": "stream",
     "text": [
      "<class 'pandas.core.frame.DataFrame'>\n",
      "Int64Index: 2312 entries, 1 to 2499\n",
      "Data columns (total 22 columns):\n",
      "Начальная температура    2312 non-null float64\n",
      "Активная мощность        2312 non-null float64\n",
      "Время нагрева            2312 non-null int64\n",
      "Bulk 1                   2312 non-null float64\n",
      "Bulk 2                   2312 non-null float64\n",
      "Bulk 3                   2312 non-null float64\n",
      "Bulk 4                   2312 non-null float64\n",
      "Bulk 5                   2312 non-null float64\n",
      "Bulk 6                   2312 non-null float64\n",
      "Bulk 7                   2312 non-null float64\n",
      "Bulk 10                  2312 non-null float64\n",
      "Bulk 11                  2312 non-null float64\n",
      "Bulk 12                  2312 non-null float64\n",
      "Bulk 14                  2312 non-null float64\n",
      "Bulk 15                  2312 non-null float64\n",
      "Газ 1                    2312 non-null float64\n",
      "Wire 1                   2312 non-null float64\n",
      "Wire 2                   2312 non-null float64\n",
      "Wire 3                   2312 non-null float64\n",
      "Wire 6                   2312 non-null float64\n",
      "Wire 8                   2312 non-null float64\n",
      "Wire 9                   2312 non-null float64\n",
      "dtypes: float64(21), int64(1)\n",
      "memory usage: 415.4 KB\n"
     ]
    },
    {
     "data": {
      "text/html": [
       "<div>\n",
       "<style scoped>\n",
       "    .dataframe tbody tr th:only-of-type {\n",
       "        vertical-align: middle;\n",
       "    }\n",
       "\n",
       "    .dataframe tbody tr th {\n",
       "        vertical-align: top;\n",
       "    }\n",
       "\n",
       "    .dataframe thead th {\n",
       "        text-align: right;\n",
       "    }\n",
       "</style>\n",
       "<table border=\"1\" class=\"dataframe\">\n",
       "  <thead>\n",
       "    <tr style=\"text-align: right;\">\n",
       "      <th></th>\n",
       "      <th>Начальная температура</th>\n",
       "      <th>Активная мощность</th>\n",
       "      <th>Время нагрева</th>\n",
       "      <th>Bulk 1</th>\n",
       "      <th>Bulk 2</th>\n",
       "      <th>Bulk 3</th>\n",
       "      <th>Bulk 4</th>\n",
       "      <th>Bulk 5</th>\n",
       "      <th>Bulk 6</th>\n",
       "      <th>Bulk 7</th>\n",
       "      <th>...</th>\n",
       "      <th>Bulk 12</th>\n",
       "      <th>Bulk 14</th>\n",
       "      <th>Bulk 15</th>\n",
       "      <th>Газ 1</th>\n",
       "      <th>Wire 1</th>\n",
       "      <th>Wire 2</th>\n",
       "      <th>Wire 3</th>\n",
       "      <th>Wire 6</th>\n",
       "      <th>Wire 8</th>\n",
       "      <th>Wire 9</th>\n",
       "    </tr>\n",
       "    <tr>\n",
       "      <th>key</th>\n",
       "      <th></th>\n",
       "      <th></th>\n",
       "      <th></th>\n",
       "      <th></th>\n",
       "      <th></th>\n",
       "      <th></th>\n",
       "      <th></th>\n",
       "      <th></th>\n",
       "      <th></th>\n",
       "      <th></th>\n",
       "      <th></th>\n",
       "      <th></th>\n",
       "      <th></th>\n",
       "      <th></th>\n",
       "      <th></th>\n",
       "      <th></th>\n",
       "      <th></th>\n",
       "      <th></th>\n",
       "      <th></th>\n",
       "      <th></th>\n",
       "      <th></th>\n",
       "    </tr>\n",
       "  </thead>\n",
       "  <tbody>\n",
       "    <tr>\n",
       "      <td>1</td>\n",
       "      <td>1571.0</td>\n",
       "      <td>4.878147</td>\n",
       "      <td>1098000000000</td>\n",
       "      <td>0.0</td>\n",
       "      <td>0.0</td>\n",
       "      <td>0.0</td>\n",
       "      <td>43.0</td>\n",
       "      <td>0.0</td>\n",
       "      <td>0.0</td>\n",
       "      <td>0.0</td>\n",
       "      <td>...</td>\n",
       "      <td>206.0</td>\n",
       "      <td>150.0</td>\n",
       "      <td>154.0</td>\n",
       "      <td>29.749986</td>\n",
       "      <td>60.059998</td>\n",
       "      <td>0.00000</td>\n",
       "      <td>0.0</td>\n",
       "      <td>0.0</td>\n",
       "      <td>0.0</td>\n",
       "      <td>0.0</td>\n",
       "    </tr>\n",
       "    <tr>\n",
       "      <td>2</td>\n",
       "      <td>1581.0</td>\n",
       "      <td>3.052598</td>\n",
       "      <td>811000000000</td>\n",
       "      <td>0.0</td>\n",
       "      <td>0.0</td>\n",
       "      <td>0.0</td>\n",
       "      <td>73.0</td>\n",
       "      <td>0.0</td>\n",
       "      <td>0.0</td>\n",
       "      <td>0.0</td>\n",
       "      <td>...</td>\n",
       "      <td>206.0</td>\n",
       "      <td>149.0</td>\n",
       "      <td>154.0</td>\n",
       "      <td>12.555561</td>\n",
       "      <td>96.052315</td>\n",
       "      <td>0.00000</td>\n",
       "      <td>0.0</td>\n",
       "      <td>0.0</td>\n",
       "      <td>0.0</td>\n",
       "      <td>0.0</td>\n",
       "    </tr>\n",
       "    <tr>\n",
       "      <td>3</td>\n",
       "      <td>1596.0</td>\n",
       "      <td>2.525882</td>\n",
       "      <td>655000000000</td>\n",
       "      <td>0.0</td>\n",
       "      <td>0.0</td>\n",
       "      <td>0.0</td>\n",
       "      <td>34.0</td>\n",
       "      <td>0.0</td>\n",
       "      <td>0.0</td>\n",
       "      <td>0.0</td>\n",
       "      <td>...</td>\n",
       "      <td>205.0</td>\n",
       "      <td>152.0</td>\n",
       "      <td>153.0</td>\n",
       "      <td>28.554793</td>\n",
       "      <td>91.160157</td>\n",
       "      <td>0.00000</td>\n",
       "      <td>0.0</td>\n",
       "      <td>0.0</td>\n",
       "      <td>0.0</td>\n",
       "      <td>0.0</td>\n",
       "    </tr>\n",
       "    <tr>\n",
       "      <td>4</td>\n",
       "      <td>1601.0</td>\n",
       "      <td>3.209250</td>\n",
       "      <td>741000000000</td>\n",
       "      <td>0.0</td>\n",
       "      <td>0.0</td>\n",
       "      <td>0.0</td>\n",
       "      <td>81.0</td>\n",
       "      <td>0.0</td>\n",
       "      <td>0.0</td>\n",
       "      <td>0.0</td>\n",
       "      <td>...</td>\n",
       "      <td>207.0</td>\n",
       "      <td>153.0</td>\n",
       "      <td>154.0</td>\n",
       "      <td>18.841219</td>\n",
       "      <td>89.063515</td>\n",
       "      <td>0.00000</td>\n",
       "      <td>0.0</td>\n",
       "      <td>0.0</td>\n",
       "      <td>0.0</td>\n",
       "      <td>0.0</td>\n",
       "    </tr>\n",
       "    <tr>\n",
       "      <td>5</td>\n",
       "      <td>1576.0</td>\n",
       "      <td>3.347173</td>\n",
       "      <td>869000000000</td>\n",
       "      <td>0.0</td>\n",
       "      <td>0.0</td>\n",
       "      <td>0.0</td>\n",
       "      <td>78.0</td>\n",
       "      <td>0.0</td>\n",
       "      <td>0.0</td>\n",
       "      <td>0.0</td>\n",
       "      <td>...</td>\n",
       "      <td>203.0</td>\n",
       "      <td>151.0</td>\n",
       "      <td>152.0</td>\n",
       "      <td>5.413692</td>\n",
       "      <td>89.238236</td>\n",
       "      <td>9.11456</td>\n",
       "      <td>0.0</td>\n",
       "      <td>0.0</td>\n",
       "      <td>0.0</td>\n",
       "      <td>0.0</td>\n",
       "    </tr>\n",
       "  </tbody>\n",
       "</table>\n",
       "<p>5 rows × 22 columns</p>\n",
       "</div>"
      ],
      "text/plain": [
       "     Начальная температура  Активная мощность  Время нагрева  Bulk 1  Bulk 2  \\\n",
       "key                                                                            \n",
       "1                   1571.0           4.878147  1098000000000     0.0     0.0   \n",
       "2                   1581.0           3.052598   811000000000     0.0     0.0   \n",
       "3                   1596.0           2.525882   655000000000     0.0     0.0   \n",
       "4                   1601.0           3.209250   741000000000     0.0     0.0   \n",
       "5                   1576.0           3.347173   869000000000     0.0     0.0   \n",
       "\n",
       "     Bulk 3  Bulk 4  Bulk 5  Bulk 6  Bulk 7  ...  Bulk 12  Bulk 14  Bulk 15  \\\n",
       "key                                          ...                              \n",
       "1       0.0    43.0     0.0     0.0     0.0  ...    206.0    150.0    154.0   \n",
       "2       0.0    73.0     0.0     0.0     0.0  ...    206.0    149.0    154.0   \n",
       "3       0.0    34.0     0.0     0.0     0.0  ...    205.0    152.0    153.0   \n",
       "4       0.0    81.0     0.0     0.0     0.0  ...    207.0    153.0    154.0   \n",
       "5       0.0    78.0     0.0     0.0     0.0  ...    203.0    151.0    152.0   \n",
       "\n",
       "         Газ 1     Wire 1   Wire 2  Wire 3  Wire 6  Wire 8  Wire 9  \n",
       "key                                                                 \n",
       "1    29.749986  60.059998  0.00000     0.0     0.0     0.0     0.0  \n",
       "2    12.555561  96.052315  0.00000     0.0     0.0     0.0     0.0  \n",
       "3    28.554793  91.160157  0.00000     0.0     0.0     0.0     0.0  \n",
       "4    18.841219  89.063515  0.00000     0.0     0.0     0.0     0.0  \n",
       "5     5.413692  89.238236  9.11456     0.0     0.0     0.0     0.0  \n",
       "\n",
       "[5 rows x 22 columns]"
      ]
     },
     "execution_count": 33,
     "metadata": {},
     "output_type": "execute_result"
    }
   ],
   "source": [
    "#Суммирую значения активной мощности и Время нагрева\n",
    "data_arc_sum_1 = data_arc.pivot_table(index=['key'], values=['Активная мощность'], aggfunc='sum')\n",
    "data_arc_sum_2 = data_arc.pivot_table(index=['key'], values=['Время нагрева'], aggfunc='sum')\n",
    "data_sum = data_arc_sum_1.join(data_arc_sum_2, on='key', how='outer')\n",
    "\n",
    "#Объединяю таблицы\n",
    "#Так много строк, потому что join одновременно много таблиц объединяет только по индексу\n",
    "data_temp_first.columns = ['key', 'Время замера', 'Начальная температура']\n",
    "features = data_temp_first[['key', 'Начальная температура']].merge(data_sum, on='key', how='left')\n",
    "features = features.merge(data_bulk, on='key', how='left')\n",
    "features = features.merge(data_gas, on='key', how='left')\n",
    "features = features.merge(data_wire, on='key', how='left')\n",
    "\n",
    "#Удаляю строки с пропусками, так как они соответствуют партиям с измеренной температурой,\n",
    "#но без количества газа для продувки и информации о добавках\n",
    "features.index = features.key\n",
    "features = features.dropna().drop(['key'], axis=1)\n",
    "features['Время нагрева'] = features['Время нагрева'].astype('int')\n",
    "features.info()\n",
    "features.head()"
   ]
  },
  {
   "cell_type": "markdown",
   "metadata": {},
   "source": [
    "## Корреляция признаков"
   ]
  },
  {
   "cell_type": "code",
   "execution_count": 34,
   "metadata": {},
   "outputs": [
    {
     "data": {
      "text/html": [
       "<div>\n",
       "<style scoped>\n",
       "    .dataframe tbody tr th:only-of-type {\n",
       "        vertical-align: middle;\n",
       "    }\n",
       "\n",
       "    .dataframe tbody tr th {\n",
       "        vertical-align: top;\n",
       "    }\n",
       "\n",
       "    .dataframe thead th {\n",
       "        text-align: right;\n",
       "    }\n",
       "</style>\n",
       "<table border=\"1\" class=\"dataframe\">\n",
       "  <thead>\n",
       "    <tr style=\"text-align: right;\">\n",
       "      <th></th>\n",
       "      <th>Начальная температура</th>\n",
       "      <th>Активная мощность</th>\n",
       "      <th>Время нагрева</th>\n",
       "      <th>Bulk 1</th>\n",
       "      <th>Bulk 2</th>\n",
       "      <th>Bulk 3</th>\n",
       "      <th>Bulk 4</th>\n",
       "      <th>Bulk 5</th>\n",
       "      <th>Bulk 6</th>\n",
       "      <th>Bulk 7</th>\n",
       "      <th>...</th>\n",
       "      <th>Bulk 12</th>\n",
       "      <th>Bulk 14</th>\n",
       "      <th>Bulk 15</th>\n",
       "      <th>Газ 1</th>\n",
       "      <th>Wire 1</th>\n",
       "      <th>Wire 2</th>\n",
       "      <th>Wire 3</th>\n",
       "      <th>Wire 6</th>\n",
       "      <th>Wire 8</th>\n",
       "      <th>Wire 9</th>\n",
       "    </tr>\n",
       "  </thead>\n",
       "  <tbody>\n",
       "    <tr>\n",
       "      <td>Начальная температура</td>\n",
       "      <td>1.0</td>\n",
       "      <td>NaN</td>\n",
       "      <td>NaN</td>\n",
       "      <td>NaN</td>\n",
       "      <td>NaN</td>\n",
       "      <td>NaN</td>\n",
       "      <td>NaN</td>\n",
       "      <td>NaN</td>\n",
       "      <td>NaN</td>\n",
       "      <td>NaN</td>\n",
       "      <td>...</td>\n",
       "      <td>NaN</td>\n",
       "      <td>NaN</td>\n",
       "      <td>NaN</td>\n",
       "      <td>NaN</td>\n",
       "      <td>NaN</td>\n",
       "      <td>NaN</td>\n",
       "      <td>NaN</td>\n",
       "      <td>NaN</td>\n",
       "      <td>NaN</td>\n",
       "      <td>NaN</td>\n",
       "    </tr>\n",
       "    <tr>\n",
       "      <td>Активная мощность</td>\n",
       "      <td>NaN</td>\n",
       "      <td>1.000000</td>\n",
       "      <td>0.978033</td>\n",
       "      <td>NaN</td>\n",
       "      <td>NaN</td>\n",
       "      <td>NaN</td>\n",
       "      <td>NaN</td>\n",
       "      <td>NaN</td>\n",
       "      <td>NaN</td>\n",
       "      <td>NaN</td>\n",
       "      <td>...</td>\n",
       "      <td>NaN</td>\n",
       "      <td>NaN</td>\n",
       "      <td>NaN</td>\n",
       "      <td>NaN</td>\n",
       "      <td>NaN</td>\n",
       "      <td>NaN</td>\n",
       "      <td>NaN</td>\n",
       "      <td>NaN</td>\n",
       "      <td>NaN</td>\n",
       "      <td>NaN</td>\n",
       "    </tr>\n",
       "    <tr>\n",
       "      <td>Время нагрева</td>\n",
       "      <td>NaN</td>\n",
       "      <td>0.978033</td>\n",
       "      <td>1.000000</td>\n",
       "      <td>NaN</td>\n",
       "      <td>NaN</td>\n",
       "      <td>NaN</td>\n",
       "      <td>NaN</td>\n",
       "      <td>NaN</td>\n",
       "      <td>NaN</td>\n",
       "      <td>NaN</td>\n",
       "      <td>...</td>\n",
       "      <td>NaN</td>\n",
       "      <td>NaN</td>\n",
       "      <td>NaN</td>\n",
       "      <td>NaN</td>\n",
       "      <td>NaN</td>\n",
       "      <td>NaN</td>\n",
       "      <td>NaN</td>\n",
       "      <td>NaN</td>\n",
       "      <td>NaN</td>\n",
       "      <td>NaN</td>\n",
       "    </tr>\n",
       "    <tr>\n",
       "      <td>Bulk 1</td>\n",
       "      <td>NaN</td>\n",
       "      <td>NaN</td>\n",
       "      <td>NaN</td>\n",
       "      <td>1.0</td>\n",
       "      <td>NaN</td>\n",
       "      <td>NaN</td>\n",
       "      <td>NaN</td>\n",
       "      <td>NaN</td>\n",
       "      <td>NaN</td>\n",
       "      <td>NaN</td>\n",
       "      <td>...</td>\n",
       "      <td>NaN</td>\n",
       "      <td>NaN</td>\n",
       "      <td>NaN</td>\n",
       "      <td>NaN</td>\n",
       "      <td>NaN</td>\n",
       "      <td>NaN</td>\n",
       "      <td>NaN</td>\n",
       "      <td>NaN</td>\n",
       "      <td>NaN</td>\n",
       "      <td>NaN</td>\n",
       "    </tr>\n",
       "    <tr>\n",
       "      <td>Bulk 2</td>\n",
       "      <td>NaN</td>\n",
       "      <td>NaN</td>\n",
       "      <td>NaN</td>\n",
       "      <td>NaN</td>\n",
       "      <td>1.000000</td>\n",
       "      <td>NaN</td>\n",
       "      <td>NaN</td>\n",
       "      <td>NaN</td>\n",
       "      <td>NaN</td>\n",
       "      <td>0.731926</td>\n",
       "      <td>...</td>\n",
       "      <td>NaN</td>\n",
       "      <td>NaN</td>\n",
       "      <td>NaN</td>\n",
       "      <td>NaN</td>\n",
       "      <td>NaN</td>\n",
       "      <td>NaN</td>\n",
       "      <td>NaN</td>\n",
       "      <td>0.54696</td>\n",
       "      <td>NaN</td>\n",
       "      <td>NaN</td>\n",
       "    </tr>\n",
       "    <tr>\n",
       "      <td>Bulk 3</td>\n",
       "      <td>NaN</td>\n",
       "      <td>NaN</td>\n",
       "      <td>NaN</td>\n",
       "      <td>NaN</td>\n",
       "      <td>NaN</td>\n",
       "      <td>1.0</td>\n",
       "      <td>NaN</td>\n",
       "      <td>NaN</td>\n",
       "      <td>NaN</td>\n",
       "      <td>NaN</td>\n",
       "      <td>...</td>\n",
       "      <td>NaN</td>\n",
       "      <td>NaN</td>\n",
       "      <td>NaN</td>\n",
       "      <td>NaN</td>\n",
       "      <td>NaN</td>\n",
       "      <td>NaN</td>\n",
       "      <td>NaN</td>\n",
       "      <td>NaN</td>\n",
       "      <td>NaN</td>\n",
       "      <td>NaN</td>\n",
       "    </tr>\n",
       "    <tr>\n",
       "      <td>Bulk 4</td>\n",
       "      <td>NaN</td>\n",
       "      <td>NaN</td>\n",
       "      <td>NaN</td>\n",
       "      <td>NaN</td>\n",
       "      <td>NaN</td>\n",
       "      <td>NaN</td>\n",
       "      <td>1.0</td>\n",
       "      <td>NaN</td>\n",
       "      <td>NaN</td>\n",
       "      <td>NaN</td>\n",
       "      <td>...</td>\n",
       "      <td>NaN</td>\n",
       "      <td>NaN</td>\n",
       "      <td>NaN</td>\n",
       "      <td>NaN</td>\n",
       "      <td>NaN</td>\n",
       "      <td>NaN</td>\n",
       "      <td>NaN</td>\n",
       "      <td>NaN</td>\n",
       "      <td>NaN</td>\n",
       "      <td>NaN</td>\n",
       "    </tr>\n",
       "    <tr>\n",
       "      <td>Bulk 5</td>\n",
       "      <td>NaN</td>\n",
       "      <td>NaN</td>\n",
       "      <td>NaN</td>\n",
       "      <td>NaN</td>\n",
       "      <td>NaN</td>\n",
       "      <td>NaN</td>\n",
       "      <td>NaN</td>\n",
       "      <td>1.0</td>\n",
       "      <td>NaN</td>\n",
       "      <td>NaN</td>\n",
       "      <td>...</td>\n",
       "      <td>NaN</td>\n",
       "      <td>NaN</td>\n",
       "      <td>NaN</td>\n",
       "      <td>NaN</td>\n",
       "      <td>NaN</td>\n",
       "      <td>NaN</td>\n",
       "      <td>NaN</td>\n",
       "      <td>NaN</td>\n",
       "      <td>NaN</td>\n",
       "      <td>NaN</td>\n",
       "    </tr>\n",
       "    <tr>\n",
       "      <td>Bulk 6</td>\n",
       "      <td>NaN</td>\n",
       "      <td>NaN</td>\n",
       "      <td>NaN</td>\n",
       "      <td>NaN</td>\n",
       "      <td>NaN</td>\n",
       "      <td>NaN</td>\n",
       "      <td>NaN</td>\n",
       "      <td>NaN</td>\n",
       "      <td>1.0</td>\n",
       "      <td>NaN</td>\n",
       "      <td>...</td>\n",
       "      <td>NaN</td>\n",
       "      <td>NaN</td>\n",
       "      <td>NaN</td>\n",
       "      <td>NaN</td>\n",
       "      <td>NaN</td>\n",
       "      <td>NaN</td>\n",
       "      <td>NaN</td>\n",
       "      <td>NaN</td>\n",
       "      <td>NaN</td>\n",
       "      <td>NaN</td>\n",
       "    </tr>\n",
       "    <tr>\n",
       "      <td>Bulk 7</td>\n",
       "      <td>NaN</td>\n",
       "      <td>NaN</td>\n",
       "      <td>NaN</td>\n",
       "      <td>NaN</td>\n",
       "      <td>0.731926</td>\n",
       "      <td>NaN</td>\n",
       "      <td>NaN</td>\n",
       "      <td>NaN</td>\n",
       "      <td>NaN</td>\n",
       "      <td>1.000000</td>\n",
       "      <td>...</td>\n",
       "      <td>NaN</td>\n",
       "      <td>NaN</td>\n",
       "      <td>NaN</td>\n",
       "      <td>NaN</td>\n",
       "      <td>NaN</td>\n",
       "      <td>NaN</td>\n",
       "      <td>NaN</td>\n",
       "      <td>NaN</td>\n",
       "      <td>NaN</td>\n",
       "      <td>NaN</td>\n",
       "    </tr>\n",
       "    <tr>\n",
       "      <td>Bulk 10</td>\n",
       "      <td>NaN</td>\n",
       "      <td>NaN</td>\n",
       "      <td>NaN</td>\n",
       "      <td>NaN</td>\n",
       "      <td>NaN</td>\n",
       "      <td>NaN</td>\n",
       "      <td>NaN</td>\n",
       "      <td>NaN</td>\n",
       "      <td>NaN</td>\n",
       "      <td>NaN</td>\n",
       "      <td>...</td>\n",
       "      <td>NaN</td>\n",
       "      <td>NaN</td>\n",
       "      <td>NaN</td>\n",
       "      <td>NaN</td>\n",
       "      <td>NaN</td>\n",
       "      <td>NaN</td>\n",
       "      <td>NaN</td>\n",
       "      <td>NaN</td>\n",
       "      <td>NaN</td>\n",
       "      <td>NaN</td>\n",
       "    </tr>\n",
       "    <tr>\n",
       "      <td>Bulk 11</td>\n",
       "      <td>NaN</td>\n",
       "      <td>NaN</td>\n",
       "      <td>NaN</td>\n",
       "      <td>NaN</td>\n",
       "      <td>NaN</td>\n",
       "      <td>NaN</td>\n",
       "      <td>NaN</td>\n",
       "      <td>NaN</td>\n",
       "      <td>NaN</td>\n",
       "      <td>NaN</td>\n",
       "      <td>...</td>\n",
       "      <td>NaN</td>\n",
       "      <td>NaN</td>\n",
       "      <td>NaN</td>\n",
       "      <td>NaN</td>\n",
       "      <td>NaN</td>\n",
       "      <td>NaN</td>\n",
       "      <td>NaN</td>\n",
       "      <td>NaN</td>\n",
       "      <td>NaN</td>\n",
       "      <td>NaN</td>\n",
       "    </tr>\n",
       "    <tr>\n",
       "      <td>Bulk 12</td>\n",
       "      <td>NaN</td>\n",
       "      <td>NaN</td>\n",
       "      <td>NaN</td>\n",
       "      <td>NaN</td>\n",
       "      <td>NaN</td>\n",
       "      <td>NaN</td>\n",
       "      <td>NaN</td>\n",
       "      <td>NaN</td>\n",
       "      <td>NaN</td>\n",
       "      <td>NaN</td>\n",
       "      <td>...</td>\n",
       "      <td>1.000000</td>\n",
       "      <td>NaN</td>\n",
       "      <td>0.633036</td>\n",
       "      <td>NaN</td>\n",
       "      <td>NaN</td>\n",
       "      <td>NaN</td>\n",
       "      <td>NaN</td>\n",
       "      <td>NaN</td>\n",
       "      <td>NaN</td>\n",
       "      <td>NaN</td>\n",
       "    </tr>\n",
       "    <tr>\n",
       "      <td>Bulk 14</td>\n",
       "      <td>NaN</td>\n",
       "      <td>NaN</td>\n",
       "      <td>NaN</td>\n",
       "      <td>NaN</td>\n",
       "      <td>NaN</td>\n",
       "      <td>NaN</td>\n",
       "      <td>NaN</td>\n",
       "      <td>NaN</td>\n",
       "      <td>NaN</td>\n",
       "      <td>NaN</td>\n",
       "      <td>...</td>\n",
       "      <td>NaN</td>\n",
       "      <td>1.0</td>\n",
       "      <td>NaN</td>\n",
       "      <td>NaN</td>\n",
       "      <td>NaN</td>\n",
       "      <td>NaN</td>\n",
       "      <td>NaN</td>\n",
       "      <td>NaN</td>\n",
       "      <td>NaN</td>\n",
       "      <td>NaN</td>\n",
       "    </tr>\n",
       "    <tr>\n",
       "      <td>Bulk 15</td>\n",
       "      <td>NaN</td>\n",
       "      <td>NaN</td>\n",
       "      <td>NaN</td>\n",
       "      <td>NaN</td>\n",
       "      <td>NaN</td>\n",
       "      <td>NaN</td>\n",
       "      <td>NaN</td>\n",
       "      <td>NaN</td>\n",
       "      <td>NaN</td>\n",
       "      <td>NaN</td>\n",
       "      <td>...</td>\n",
       "      <td>0.633036</td>\n",
       "      <td>NaN</td>\n",
       "      <td>1.000000</td>\n",
       "      <td>NaN</td>\n",
       "      <td>NaN</td>\n",
       "      <td>NaN</td>\n",
       "      <td>NaN</td>\n",
       "      <td>NaN</td>\n",
       "      <td>NaN</td>\n",
       "      <td>NaN</td>\n",
       "    </tr>\n",
       "    <tr>\n",
       "      <td>Газ 1</td>\n",
       "      <td>NaN</td>\n",
       "      <td>NaN</td>\n",
       "      <td>NaN</td>\n",
       "      <td>NaN</td>\n",
       "      <td>NaN</td>\n",
       "      <td>NaN</td>\n",
       "      <td>NaN</td>\n",
       "      <td>NaN</td>\n",
       "      <td>NaN</td>\n",
       "      <td>NaN</td>\n",
       "      <td>...</td>\n",
       "      <td>NaN</td>\n",
       "      <td>NaN</td>\n",
       "      <td>NaN</td>\n",
       "      <td>1.0</td>\n",
       "      <td>NaN</td>\n",
       "      <td>NaN</td>\n",
       "      <td>NaN</td>\n",
       "      <td>NaN</td>\n",
       "      <td>NaN</td>\n",
       "      <td>NaN</td>\n",
       "    </tr>\n",
       "    <tr>\n",
       "      <td>Wire 1</td>\n",
       "      <td>NaN</td>\n",
       "      <td>NaN</td>\n",
       "      <td>NaN</td>\n",
       "      <td>NaN</td>\n",
       "      <td>NaN</td>\n",
       "      <td>NaN</td>\n",
       "      <td>NaN</td>\n",
       "      <td>NaN</td>\n",
       "      <td>NaN</td>\n",
       "      <td>NaN</td>\n",
       "      <td>...</td>\n",
       "      <td>NaN</td>\n",
       "      <td>NaN</td>\n",
       "      <td>NaN</td>\n",
       "      <td>NaN</td>\n",
       "      <td>1.0</td>\n",
       "      <td>NaN</td>\n",
       "      <td>NaN</td>\n",
       "      <td>NaN</td>\n",
       "      <td>NaN</td>\n",
       "      <td>NaN</td>\n",
       "    </tr>\n",
       "    <tr>\n",
       "      <td>Wire 2</td>\n",
       "      <td>NaN</td>\n",
       "      <td>NaN</td>\n",
       "      <td>NaN</td>\n",
       "      <td>NaN</td>\n",
       "      <td>NaN</td>\n",
       "      <td>NaN</td>\n",
       "      <td>NaN</td>\n",
       "      <td>NaN</td>\n",
       "      <td>NaN</td>\n",
       "      <td>NaN</td>\n",
       "      <td>...</td>\n",
       "      <td>NaN</td>\n",
       "      <td>NaN</td>\n",
       "      <td>NaN</td>\n",
       "      <td>NaN</td>\n",
       "      <td>NaN</td>\n",
       "      <td>1.0</td>\n",
       "      <td>NaN</td>\n",
       "      <td>NaN</td>\n",
       "      <td>NaN</td>\n",
       "      <td>NaN</td>\n",
       "    </tr>\n",
       "    <tr>\n",
       "      <td>Wire 3</td>\n",
       "      <td>NaN</td>\n",
       "      <td>NaN</td>\n",
       "      <td>NaN</td>\n",
       "      <td>NaN</td>\n",
       "      <td>NaN</td>\n",
       "      <td>NaN</td>\n",
       "      <td>NaN</td>\n",
       "      <td>NaN</td>\n",
       "      <td>NaN</td>\n",
       "      <td>NaN</td>\n",
       "      <td>...</td>\n",
       "      <td>NaN</td>\n",
       "      <td>NaN</td>\n",
       "      <td>NaN</td>\n",
       "      <td>NaN</td>\n",
       "      <td>NaN</td>\n",
       "      <td>NaN</td>\n",
       "      <td>1.0</td>\n",
       "      <td>NaN</td>\n",
       "      <td>NaN</td>\n",
       "      <td>NaN</td>\n",
       "    </tr>\n",
       "    <tr>\n",
       "      <td>Wire 6</td>\n",
       "      <td>NaN</td>\n",
       "      <td>NaN</td>\n",
       "      <td>NaN</td>\n",
       "      <td>NaN</td>\n",
       "      <td>0.546960</td>\n",
       "      <td>NaN</td>\n",
       "      <td>NaN</td>\n",
       "      <td>NaN</td>\n",
       "      <td>NaN</td>\n",
       "      <td>NaN</td>\n",
       "      <td>...</td>\n",
       "      <td>NaN</td>\n",
       "      <td>NaN</td>\n",
       "      <td>NaN</td>\n",
       "      <td>NaN</td>\n",
       "      <td>NaN</td>\n",
       "      <td>NaN</td>\n",
       "      <td>NaN</td>\n",
       "      <td>1.00000</td>\n",
       "      <td>NaN</td>\n",
       "      <td>NaN</td>\n",
       "    </tr>\n",
       "    <tr>\n",
       "      <td>Wire 8</td>\n",
       "      <td>NaN</td>\n",
       "      <td>NaN</td>\n",
       "      <td>NaN</td>\n",
       "      <td>NaN</td>\n",
       "      <td>NaN</td>\n",
       "      <td>NaN</td>\n",
       "      <td>NaN</td>\n",
       "      <td>NaN</td>\n",
       "      <td>NaN</td>\n",
       "      <td>NaN</td>\n",
       "      <td>...</td>\n",
       "      <td>NaN</td>\n",
       "      <td>NaN</td>\n",
       "      <td>NaN</td>\n",
       "      <td>NaN</td>\n",
       "      <td>NaN</td>\n",
       "      <td>NaN</td>\n",
       "      <td>NaN</td>\n",
       "      <td>NaN</td>\n",
       "      <td>1.0</td>\n",
       "      <td>NaN</td>\n",
       "    </tr>\n",
       "    <tr>\n",
       "      <td>Wire 9</td>\n",
       "      <td>NaN</td>\n",
       "      <td>NaN</td>\n",
       "      <td>NaN</td>\n",
       "      <td>NaN</td>\n",
       "      <td>NaN</td>\n",
       "      <td>NaN</td>\n",
       "      <td>NaN</td>\n",
       "      <td>NaN</td>\n",
       "      <td>NaN</td>\n",
       "      <td>NaN</td>\n",
       "      <td>...</td>\n",
       "      <td>NaN</td>\n",
       "      <td>NaN</td>\n",
       "      <td>NaN</td>\n",
       "      <td>NaN</td>\n",
       "      <td>NaN</td>\n",
       "      <td>NaN</td>\n",
       "      <td>NaN</td>\n",
       "      <td>NaN</td>\n",
       "      <td>NaN</td>\n",
       "      <td>1.0</td>\n",
       "    </tr>\n",
       "  </tbody>\n",
       "</table>\n",
       "<p>22 rows × 22 columns</p>\n",
       "</div>"
      ],
      "text/plain": [
       "                       Начальная температура  Активная мощность  \\\n",
       "Начальная температура                    1.0                NaN   \n",
       "Активная мощность                        NaN           1.000000   \n",
       "Время нагрева                            NaN           0.978033   \n",
       "Bulk 1                                   NaN                NaN   \n",
       "Bulk 2                                   NaN                NaN   \n",
       "Bulk 3                                   NaN                NaN   \n",
       "Bulk 4                                   NaN                NaN   \n",
       "Bulk 5                                   NaN                NaN   \n",
       "Bulk 6                                   NaN                NaN   \n",
       "Bulk 7                                   NaN                NaN   \n",
       "Bulk 10                                  NaN                NaN   \n",
       "Bulk 11                                  NaN                NaN   \n",
       "Bulk 12                                  NaN                NaN   \n",
       "Bulk 14                                  NaN                NaN   \n",
       "Bulk 15                                  NaN                NaN   \n",
       "Газ 1                                    NaN                NaN   \n",
       "Wire 1                                   NaN                NaN   \n",
       "Wire 2                                   NaN                NaN   \n",
       "Wire 3                                   NaN                NaN   \n",
       "Wire 6                                   NaN                NaN   \n",
       "Wire 8                                   NaN                NaN   \n",
       "Wire 9                                   NaN                NaN   \n",
       "\n",
       "                       Время нагрева  Bulk 1    Bulk 2  Bulk 3  Bulk 4  \\\n",
       "Начальная температура            NaN     NaN       NaN     NaN     NaN   \n",
       "Активная мощность           0.978033     NaN       NaN     NaN     NaN   \n",
       "Время нагрева               1.000000     NaN       NaN     NaN     NaN   \n",
       "Bulk 1                           NaN     1.0       NaN     NaN     NaN   \n",
       "Bulk 2                           NaN     NaN  1.000000     NaN     NaN   \n",
       "Bulk 3                           NaN     NaN       NaN     1.0     NaN   \n",
       "Bulk 4                           NaN     NaN       NaN     NaN     1.0   \n",
       "Bulk 5                           NaN     NaN       NaN     NaN     NaN   \n",
       "Bulk 6                           NaN     NaN       NaN     NaN     NaN   \n",
       "Bulk 7                           NaN     NaN  0.731926     NaN     NaN   \n",
       "Bulk 10                          NaN     NaN       NaN     NaN     NaN   \n",
       "Bulk 11                          NaN     NaN       NaN     NaN     NaN   \n",
       "Bulk 12                          NaN     NaN       NaN     NaN     NaN   \n",
       "Bulk 14                          NaN     NaN       NaN     NaN     NaN   \n",
       "Bulk 15                          NaN     NaN       NaN     NaN     NaN   \n",
       "Газ 1                            NaN     NaN       NaN     NaN     NaN   \n",
       "Wire 1                           NaN     NaN       NaN     NaN     NaN   \n",
       "Wire 2                           NaN     NaN       NaN     NaN     NaN   \n",
       "Wire 3                           NaN     NaN       NaN     NaN     NaN   \n",
       "Wire 6                           NaN     NaN  0.546960     NaN     NaN   \n",
       "Wire 8                           NaN     NaN       NaN     NaN     NaN   \n",
       "Wire 9                           NaN     NaN       NaN     NaN     NaN   \n",
       "\n",
       "                       Bulk 5  Bulk 6    Bulk 7  ...   Bulk 12  Bulk 14  \\\n",
       "Начальная температура     NaN     NaN       NaN  ...       NaN      NaN   \n",
       "Активная мощность         NaN     NaN       NaN  ...       NaN      NaN   \n",
       "Время нагрева             NaN     NaN       NaN  ...       NaN      NaN   \n",
       "Bulk 1                    NaN     NaN       NaN  ...       NaN      NaN   \n",
       "Bulk 2                    NaN     NaN  0.731926  ...       NaN      NaN   \n",
       "Bulk 3                    NaN     NaN       NaN  ...       NaN      NaN   \n",
       "Bulk 4                    NaN     NaN       NaN  ...       NaN      NaN   \n",
       "Bulk 5                    1.0     NaN       NaN  ...       NaN      NaN   \n",
       "Bulk 6                    NaN     1.0       NaN  ...       NaN      NaN   \n",
       "Bulk 7                    NaN     NaN  1.000000  ...       NaN      NaN   \n",
       "Bulk 10                   NaN     NaN       NaN  ...       NaN      NaN   \n",
       "Bulk 11                   NaN     NaN       NaN  ...       NaN      NaN   \n",
       "Bulk 12                   NaN     NaN       NaN  ...  1.000000      NaN   \n",
       "Bulk 14                   NaN     NaN       NaN  ...       NaN      1.0   \n",
       "Bulk 15                   NaN     NaN       NaN  ...  0.633036      NaN   \n",
       "Газ 1                     NaN     NaN       NaN  ...       NaN      NaN   \n",
       "Wire 1                    NaN     NaN       NaN  ...       NaN      NaN   \n",
       "Wire 2                    NaN     NaN       NaN  ...       NaN      NaN   \n",
       "Wire 3                    NaN     NaN       NaN  ...       NaN      NaN   \n",
       "Wire 6                    NaN     NaN       NaN  ...       NaN      NaN   \n",
       "Wire 8                    NaN     NaN       NaN  ...       NaN      NaN   \n",
       "Wire 9                    NaN     NaN       NaN  ...       NaN      NaN   \n",
       "\n",
       "                        Bulk 15  Газ 1  Wire 1  Wire 2  Wire 3   Wire 6  \\\n",
       "Начальная температура       NaN    NaN     NaN     NaN     NaN      NaN   \n",
       "Активная мощность           NaN    NaN     NaN     NaN     NaN      NaN   \n",
       "Время нагрева               NaN    NaN     NaN     NaN     NaN      NaN   \n",
       "Bulk 1                      NaN    NaN     NaN     NaN     NaN      NaN   \n",
       "Bulk 2                      NaN    NaN     NaN     NaN     NaN  0.54696   \n",
       "Bulk 3                      NaN    NaN     NaN     NaN     NaN      NaN   \n",
       "Bulk 4                      NaN    NaN     NaN     NaN     NaN      NaN   \n",
       "Bulk 5                      NaN    NaN     NaN     NaN     NaN      NaN   \n",
       "Bulk 6                      NaN    NaN     NaN     NaN     NaN      NaN   \n",
       "Bulk 7                      NaN    NaN     NaN     NaN     NaN      NaN   \n",
       "Bulk 10                     NaN    NaN     NaN     NaN     NaN      NaN   \n",
       "Bulk 11                     NaN    NaN     NaN     NaN     NaN      NaN   \n",
       "Bulk 12                0.633036    NaN     NaN     NaN     NaN      NaN   \n",
       "Bulk 14                     NaN    NaN     NaN     NaN     NaN      NaN   \n",
       "Bulk 15                1.000000    NaN     NaN     NaN     NaN      NaN   \n",
       "Газ 1                       NaN    1.0     NaN     NaN     NaN      NaN   \n",
       "Wire 1                      NaN    NaN     1.0     NaN     NaN      NaN   \n",
       "Wire 2                      NaN    NaN     NaN     1.0     NaN      NaN   \n",
       "Wire 3                      NaN    NaN     NaN     NaN     1.0      NaN   \n",
       "Wire 6                      NaN    NaN     NaN     NaN     NaN  1.00000   \n",
       "Wire 8                      NaN    NaN     NaN     NaN     NaN      NaN   \n",
       "Wire 9                      NaN    NaN     NaN     NaN     NaN      NaN   \n",
       "\n",
       "                       Wire 8  Wire 9  \n",
       "Начальная температура     NaN     NaN  \n",
       "Активная мощность         NaN     NaN  \n",
       "Время нагрева             NaN     NaN  \n",
       "Bulk 1                    NaN     NaN  \n",
       "Bulk 2                    NaN     NaN  \n",
       "Bulk 3                    NaN     NaN  \n",
       "Bulk 4                    NaN     NaN  \n",
       "Bulk 5                    NaN     NaN  \n",
       "Bulk 6                    NaN     NaN  \n",
       "Bulk 7                    NaN     NaN  \n",
       "Bulk 10                   NaN     NaN  \n",
       "Bulk 11                   NaN     NaN  \n",
       "Bulk 12                   NaN     NaN  \n",
       "Bulk 14                   NaN     NaN  \n",
       "Bulk 15                   NaN     NaN  \n",
       "Газ 1                     NaN     NaN  \n",
       "Wire 1                    NaN     NaN  \n",
       "Wire 2                    NaN     NaN  \n",
       "Wire 3                    NaN     NaN  \n",
       "Wire 6                    NaN     NaN  \n",
       "Wire 8                    1.0     NaN  \n",
       "Wire 9                    NaN     1.0  \n",
       "\n",
       "[22 rows x 22 columns]"
      ]
     },
     "execution_count": 34,
     "metadata": {},
     "output_type": "execute_result"
    }
   ],
   "source": [
    "corr = features.corr()\n",
    "corr[(corr<-0.5) | (corr>0.5)]"
   ]
  },
  {
   "cell_type": "markdown",
   "metadata": {},
   "source": [
    "Корреляция между признаками в основном меньше 0.5. Есть корреляция около 0.6 и 0.7 между некоторым количеством добавок, например, между Bulk 2 и Bulk 7. Возможно, это связано с определенным соотношением добавок для достижения химического состава стали. Я оставлю все признаки с количеством добавок.\n",
    "\n",
    "Время нагрева очень сильно коррелирует с активной мощностью (коэффициент корреляции 0.98). Я удалю время нагрева из признаков, действительно, мощность уже включает в себя время нагрева"
   ]
  },
  {
   "cell_type": "code",
   "execution_count": 35,
   "metadata": {},
   "outputs": [
    {
     "name": "stdout",
     "output_type": "stream",
     "text": [
      "<class 'pandas.core.frame.DataFrame'>\n",
      "Int64Index: 2312 entries, 1 to 2499\n",
      "Data columns (total 21 columns):\n",
      "Начальная температура    2312 non-null float64\n",
      "Активная мощность        2312 non-null float64\n",
      "Bulk 1                   2312 non-null float64\n",
      "Bulk 2                   2312 non-null float64\n",
      "Bulk 3                   2312 non-null float64\n",
      "Bulk 4                   2312 non-null float64\n",
      "Bulk 5                   2312 non-null float64\n",
      "Bulk 6                   2312 non-null float64\n",
      "Bulk 7                   2312 non-null float64\n",
      "Bulk 10                  2312 non-null float64\n",
      "Bulk 11                  2312 non-null float64\n",
      "Bulk 12                  2312 non-null float64\n",
      "Bulk 14                  2312 non-null float64\n",
      "Bulk 15                  2312 non-null float64\n",
      "Газ 1                    2312 non-null float64\n",
      "Wire 1                   2312 non-null float64\n",
      "Wire 2                   2312 non-null float64\n",
      "Wire 3                   2312 non-null float64\n",
      "Wire 6                   2312 non-null float64\n",
      "Wire 8                   2312 non-null float64\n",
      "Wire 9                   2312 non-null float64\n",
      "dtypes: float64(21)\n",
      "memory usage: 397.4 KB\n"
     ]
    },
    {
     "data": {
      "text/html": [
       "<div>\n",
       "<style scoped>\n",
       "    .dataframe tbody tr th:only-of-type {\n",
       "        vertical-align: middle;\n",
       "    }\n",
       "\n",
       "    .dataframe tbody tr th {\n",
       "        vertical-align: top;\n",
       "    }\n",
       "\n",
       "    .dataframe thead th {\n",
       "        text-align: right;\n",
       "    }\n",
       "</style>\n",
       "<table border=\"1\" class=\"dataframe\">\n",
       "  <thead>\n",
       "    <tr style=\"text-align: right;\">\n",
       "      <th></th>\n",
       "      <th>Начальная температура</th>\n",
       "      <th>Активная мощность</th>\n",
       "      <th>Bulk 1</th>\n",
       "      <th>Bulk 2</th>\n",
       "      <th>Bulk 3</th>\n",
       "      <th>Bulk 4</th>\n",
       "      <th>Bulk 5</th>\n",
       "      <th>Bulk 6</th>\n",
       "      <th>Bulk 7</th>\n",
       "      <th>Bulk 10</th>\n",
       "      <th>...</th>\n",
       "      <th>Bulk 12</th>\n",
       "      <th>Bulk 14</th>\n",
       "      <th>Bulk 15</th>\n",
       "      <th>Газ 1</th>\n",
       "      <th>Wire 1</th>\n",
       "      <th>Wire 2</th>\n",
       "      <th>Wire 3</th>\n",
       "      <th>Wire 6</th>\n",
       "      <th>Wire 8</th>\n",
       "      <th>Wire 9</th>\n",
       "    </tr>\n",
       "    <tr>\n",
       "      <th>key</th>\n",
       "      <th></th>\n",
       "      <th></th>\n",
       "      <th></th>\n",
       "      <th></th>\n",
       "      <th></th>\n",
       "      <th></th>\n",
       "      <th></th>\n",
       "      <th></th>\n",
       "      <th></th>\n",
       "      <th></th>\n",
       "      <th></th>\n",
       "      <th></th>\n",
       "      <th></th>\n",
       "      <th></th>\n",
       "      <th></th>\n",
       "      <th></th>\n",
       "      <th></th>\n",
       "      <th></th>\n",
       "      <th></th>\n",
       "      <th></th>\n",
       "      <th></th>\n",
       "    </tr>\n",
       "  </thead>\n",
       "  <tbody>\n",
       "    <tr>\n",
       "      <td>1</td>\n",
       "      <td>1571.0</td>\n",
       "      <td>4.878147</td>\n",
       "      <td>0.0</td>\n",
       "      <td>0.0</td>\n",
       "      <td>0.0</td>\n",
       "      <td>43.0</td>\n",
       "      <td>0.0</td>\n",
       "      <td>0.0</td>\n",
       "      <td>0.0</td>\n",
       "      <td>0.0</td>\n",
       "      <td>...</td>\n",
       "      <td>206.0</td>\n",
       "      <td>150.0</td>\n",
       "      <td>154.0</td>\n",
       "      <td>29.749986</td>\n",
       "      <td>60.059998</td>\n",
       "      <td>0.00000</td>\n",
       "      <td>0.0</td>\n",
       "      <td>0.0</td>\n",
       "      <td>0.0</td>\n",
       "      <td>0.0</td>\n",
       "    </tr>\n",
       "    <tr>\n",
       "      <td>2</td>\n",
       "      <td>1581.0</td>\n",
       "      <td>3.052598</td>\n",
       "      <td>0.0</td>\n",
       "      <td>0.0</td>\n",
       "      <td>0.0</td>\n",
       "      <td>73.0</td>\n",
       "      <td>0.0</td>\n",
       "      <td>0.0</td>\n",
       "      <td>0.0</td>\n",
       "      <td>0.0</td>\n",
       "      <td>...</td>\n",
       "      <td>206.0</td>\n",
       "      <td>149.0</td>\n",
       "      <td>154.0</td>\n",
       "      <td>12.555561</td>\n",
       "      <td>96.052315</td>\n",
       "      <td>0.00000</td>\n",
       "      <td>0.0</td>\n",
       "      <td>0.0</td>\n",
       "      <td>0.0</td>\n",
       "      <td>0.0</td>\n",
       "    </tr>\n",
       "    <tr>\n",
       "      <td>3</td>\n",
       "      <td>1596.0</td>\n",
       "      <td>2.525882</td>\n",
       "      <td>0.0</td>\n",
       "      <td>0.0</td>\n",
       "      <td>0.0</td>\n",
       "      <td>34.0</td>\n",
       "      <td>0.0</td>\n",
       "      <td>0.0</td>\n",
       "      <td>0.0</td>\n",
       "      <td>0.0</td>\n",
       "      <td>...</td>\n",
       "      <td>205.0</td>\n",
       "      <td>152.0</td>\n",
       "      <td>153.0</td>\n",
       "      <td>28.554793</td>\n",
       "      <td>91.160157</td>\n",
       "      <td>0.00000</td>\n",
       "      <td>0.0</td>\n",
       "      <td>0.0</td>\n",
       "      <td>0.0</td>\n",
       "      <td>0.0</td>\n",
       "    </tr>\n",
       "    <tr>\n",
       "      <td>4</td>\n",
       "      <td>1601.0</td>\n",
       "      <td>3.209250</td>\n",
       "      <td>0.0</td>\n",
       "      <td>0.0</td>\n",
       "      <td>0.0</td>\n",
       "      <td>81.0</td>\n",
       "      <td>0.0</td>\n",
       "      <td>0.0</td>\n",
       "      <td>0.0</td>\n",
       "      <td>0.0</td>\n",
       "      <td>...</td>\n",
       "      <td>207.0</td>\n",
       "      <td>153.0</td>\n",
       "      <td>154.0</td>\n",
       "      <td>18.841219</td>\n",
       "      <td>89.063515</td>\n",
       "      <td>0.00000</td>\n",
       "      <td>0.0</td>\n",
       "      <td>0.0</td>\n",
       "      <td>0.0</td>\n",
       "      <td>0.0</td>\n",
       "    </tr>\n",
       "    <tr>\n",
       "      <td>5</td>\n",
       "      <td>1576.0</td>\n",
       "      <td>3.347173</td>\n",
       "      <td>0.0</td>\n",
       "      <td>0.0</td>\n",
       "      <td>0.0</td>\n",
       "      <td>78.0</td>\n",
       "      <td>0.0</td>\n",
       "      <td>0.0</td>\n",
       "      <td>0.0</td>\n",
       "      <td>0.0</td>\n",
       "      <td>...</td>\n",
       "      <td>203.0</td>\n",
       "      <td>151.0</td>\n",
       "      <td>152.0</td>\n",
       "      <td>5.413692</td>\n",
       "      <td>89.238236</td>\n",
       "      <td>9.11456</td>\n",
       "      <td>0.0</td>\n",
       "      <td>0.0</td>\n",
       "      <td>0.0</td>\n",
       "      <td>0.0</td>\n",
       "    </tr>\n",
       "  </tbody>\n",
       "</table>\n",
       "<p>5 rows × 21 columns</p>\n",
       "</div>"
      ],
      "text/plain": [
       "     Начальная температура  Активная мощность  Bulk 1  Bulk 2  Bulk 3  Bulk 4  \\\n",
       "key                                                                             \n",
       "1                   1571.0           4.878147     0.0     0.0     0.0    43.0   \n",
       "2                   1581.0           3.052598     0.0     0.0     0.0    73.0   \n",
       "3                   1596.0           2.525882     0.0     0.0     0.0    34.0   \n",
       "4                   1601.0           3.209250     0.0     0.0     0.0    81.0   \n",
       "5                   1576.0           3.347173     0.0     0.0     0.0    78.0   \n",
       "\n",
       "     Bulk 5  Bulk 6  Bulk 7  Bulk 10  ...  Bulk 12  Bulk 14  Bulk 15  \\\n",
       "key                                   ...                              \n",
       "1       0.0     0.0     0.0      0.0  ...    206.0    150.0    154.0   \n",
       "2       0.0     0.0     0.0      0.0  ...    206.0    149.0    154.0   \n",
       "3       0.0     0.0     0.0      0.0  ...    205.0    152.0    153.0   \n",
       "4       0.0     0.0     0.0      0.0  ...    207.0    153.0    154.0   \n",
       "5       0.0     0.0     0.0      0.0  ...    203.0    151.0    152.0   \n",
       "\n",
       "         Газ 1     Wire 1   Wire 2  Wire 3  Wire 6  Wire 8  Wire 9  \n",
       "key                                                                 \n",
       "1    29.749986  60.059998  0.00000     0.0     0.0     0.0     0.0  \n",
       "2    12.555561  96.052315  0.00000     0.0     0.0     0.0     0.0  \n",
       "3    28.554793  91.160157  0.00000     0.0     0.0     0.0     0.0  \n",
       "4    18.841219  89.063515  0.00000     0.0     0.0     0.0     0.0  \n",
       "5     5.413692  89.238236  9.11456     0.0     0.0     0.0     0.0  \n",
       "\n",
       "[5 rows x 21 columns]"
      ]
     },
     "execution_count": 35,
     "metadata": {},
     "output_type": "execute_result"
    }
   ],
   "source": [
    "features = features.dropna().drop(['Время нагрева'], axis=1)\n",
    "features.info()\n",
    "features.head()"
   ]
  },
  {
   "cell_type": "markdown",
   "metadata": {},
   "source": [
    "## Таблица с целевым признаком"
   ]
  },
  {
   "cell_type": "code",
   "execution_count": 36,
   "metadata": {},
   "outputs": [
    {
     "name": "stdout",
     "output_type": "stream",
     "text": [
      "<class 'pandas.core.frame.DataFrame'>\n",
      "Int64Index: 2312 entries, 1 to 2499\n",
      "Data columns (total 1 columns):\n",
      "Температура    2312 non-null float64\n",
      "dtypes: float64(1)\n",
      "memory usage: 36.1 KB\n"
     ]
    },
    {
     "data": {
      "text/html": [
       "<div>\n",
       "<style scoped>\n",
       "    .dataframe tbody tr th:only-of-type {\n",
       "        vertical-align: middle;\n",
       "    }\n",
       "\n",
       "    .dataframe tbody tr th {\n",
       "        vertical-align: top;\n",
       "    }\n",
       "\n",
       "    .dataframe thead th {\n",
       "        text-align: right;\n",
       "    }\n",
       "</style>\n",
       "<table border=\"1\" class=\"dataframe\">\n",
       "  <thead>\n",
       "    <tr style=\"text-align: right;\">\n",
       "      <th></th>\n",
       "      <th>Температура</th>\n",
       "    </tr>\n",
       "    <tr>\n",
       "      <th>key</th>\n",
       "      <th></th>\n",
       "    </tr>\n",
       "  </thead>\n",
       "  <tbody>\n",
       "    <tr>\n",
       "      <td>1</td>\n",
       "      <td>1613.0</td>\n",
       "    </tr>\n",
       "    <tr>\n",
       "      <td>2</td>\n",
       "      <td>1602.0</td>\n",
       "    </tr>\n",
       "    <tr>\n",
       "      <td>3</td>\n",
       "      <td>1599.0</td>\n",
       "    </tr>\n",
       "    <tr>\n",
       "      <td>4</td>\n",
       "      <td>1625.0</td>\n",
       "    </tr>\n",
       "    <tr>\n",
       "      <td>5</td>\n",
       "      <td>1602.0</td>\n",
       "    </tr>\n",
       "  </tbody>\n",
       "</table>\n",
       "</div>"
      ],
      "text/plain": [
       "     Температура\n",
       "key             \n",
       "1         1613.0\n",
       "2         1602.0\n",
       "3         1599.0\n",
       "4         1625.0\n",
       "5         1602.0"
      ]
     },
     "execution_count": 36,
     "metadata": {},
     "output_type": "execute_result"
    }
   ],
   "source": [
    "target = data_temp_last[['key', 'Температура']]\n",
    "target.index = target.key\n",
    "target = target[['Температура']]\n",
    "\n",
    "#Удалила из целевого признака партии, которых нет в таблице с признаками\n",
    "target = target[target.index.isin(features.index)]\n",
    "target.info()\n",
    "target.head()"
   ]
  },
  {
   "cell_type": "markdown",
   "metadata": {},
   "source": [
    "## Разделение данных на обучающую, валидационную и тестовую выборки"
   ]
  },
  {
   "cell_type": "code",
   "execution_count": 37,
   "metadata": {},
   "outputs": [
    {
     "name": "stdout",
     "output_type": "stream",
     "text": [
      "(1387, 21) (462, 21) (463, 21)\n",
      "(1387, 1) (462, 1) (463, 1)\n"
     ]
    }
   ],
   "source": [
    "features_train, features_, target_train, target_ = train_test_split(features, target, test_size=0.4, random_state=42)\n",
    "features_valid, features_test, target_valid, target_test = train_test_split(features_, target_, test_size=0.5, random_state=42)\n",
    "\n",
    "print(features_train.shape, features_valid.shape, features_test.shape)\n",
    "print(target_train.shape, target_valid.shape, target_test.shape)"
   ]
  },
  {
   "cell_type": "markdown",
   "metadata": {},
   "source": [
    "# Обучение моделей"
   ]
  },
  {
   "cell_type": "markdown",
   "metadata": {},
   "source": [
    "## Линейная регрессия"
   ]
  },
  {
   "cell_type": "code",
   "execution_count": 38,
   "metadata": {},
   "outputs": [
    {
     "data": {
      "text/plain": [
       "5.861835063903411"
      ]
     },
     "execution_count": 38,
     "metadata": {},
     "output_type": "execute_result"
    }
   ],
   "source": [
    "model1 = LinearRegression()\n",
    "model1.fit(features_train, target_train)\n",
    "mean_absolute_error(target_valid, model1.predict(features_valid))"
   ]
  },
  {
   "cell_type": "markdown",
   "metadata": {},
   "source": [
    "## Дерево"
   ]
  },
  {
   "cell_type": "code",
   "execution_count": 39,
   "metadata": {},
   "outputs": [
    {
     "name": "stdout",
     "output_type": "stream",
     "text": [
      "7 6.885371418189369\n"
     ]
    },
    {
     "data": {
      "text/plain": [
       "Text(0, 0.5, 'mae')"
      ]
     },
     "execution_count": 39,
     "metadata": {},
     "output_type": "execute_result"
    },
    {
     "data": {
      "image/png": "[encoded data removed]",
      "text/plain": [
       "<Figure size 432x288 with 1 Axes>"
      ]
     },
     "metadata": {
      "needs_background": "light"
     },
     "output_type": "display_data"
    }
   ],
   "source": [
    "n_list = []\n",
    "mae_list = []\n",
    "mae_min = 100\n",
    "for n in range(1, 30):\n",
    "    \n",
    "    model = DecisionTreeRegressor(random_state=42, max_depth=n)\n",
    "    model.fit(features_train, target_train)\n",
    "    mae = mean_absolute_error(target_valid, model.predict(features_valid))\n",
    "    \n",
    "    n_list.append(n)\n",
    "    mae_list.append(mae)\n",
    "\n",
    "    if mae < mae_min:\n",
    "        mae_min = mae\n",
    "        n_min = n\n",
    "        \n",
    "print(n_min, mae_min) \n",
    "\n",
    "model2 = DecisionTreeRegressor(random_state=42, max_depth=n_min)\n",
    "\n",
    "plt.plot(n_list, mae_list)\n",
    "plt.xlabel('max_depth')\n",
    "plt.ylabel('mae')"
   ]
  },
  {
   "cell_type": "markdown",
   "metadata": {},
   "source": [
    "## Случайный лес"
   ]
  },
  {
   "cell_type": "code",
   "execution_count": 40,
   "metadata": {},
   "outputs": [
    {
     "name": "stdout",
     "output_type": "stream",
     "text": [
      "95 5.8811853242589605\n"
     ]
    },
    {
     "data": {
      "text/plain": [
       "Text(0, 0.5, 'mae')"
      ]
     },
     "execution_count": 40,
     "metadata": {},
     "output_type": "execute_result"
    },
    {
     "data": {
      "image/png": "[encoded data removed]",
      "text/plain": [
       "<Figure size 432x288 with 1 Axes>"
      ]
     },
     "metadata": {
      "needs_background": "light"
     },
     "output_type": "display_data"
    }
   ],
   "source": [
    "n_list = []\n",
    "mae_list = []\n",
    "mae_min = 100\n",
    "\n",
    "for n in range(1, 100, 2):\n",
    "    \n",
    "    model = RandomForestRegressor(random_state=42, n_estimators=n, max_depth=20)\n",
    "    model.fit(features_train, target_train)\n",
    "    mae = mean_absolute_error(target_valid, model.predict(features_valid))\n",
    "    \n",
    "    n_list.append(n)\n",
    "    mae_list.append(mae)\n",
    "\n",
    "    if mae < mae_min:\n",
    "        mae_min = mae\n",
    "        n_min = n\n",
    "        \n",
    "print(n_min, mae_min)\n",
    "\n",
    "model3_n_est = n_min\n",
    "\n",
    "plt.plot(n_list, mae_list)\n",
    "plt.xlabel('n_estimators')\n",
    "plt.ylabel('mae')"
   ]
  },
  {
   "cell_type": "code",
   "execution_count": 41,
   "metadata": {},
   "outputs": [
    {
     "name": "stdout",
     "output_type": "stream",
     "text": [
      "9 5.824179715470999\n"
     ]
    },
    {
     "data": {
      "text/plain": [
       "Text(0, 0.5, 'mae')"
      ]
     },
     "execution_count": 41,
     "metadata": {},
     "output_type": "execute_result"
    },
    {
     "data": {
      "image/png": "[encoded data removed]",
      "text/plain": [
       "<Figure size 432x288 with 1 Axes>"
      ]
     },
     "metadata": {
      "needs_background": "light"
     },
     "output_type": "display_data"
    }
   ],
   "source": [
    "n_list = []\n",
    "mae_list = []\n",
    "mae_min = 100\n",
    "\n",
    "for n in range(1, 20):\n",
    "    \n",
    "    model = RandomForestRegressor(random_state=42, n_estimators=model3_n_est, max_depth=n)\n",
    "    model.fit(features_train, target_train)\n",
    "    mae = mean_absolute_error(target_valid, model.predict(features_valid))\n",
    "    \n",
    "    n_list.append(n)\n",
    "    mae_list.append(mae)\n",
    "\n",
    "    if mae < mae_min:\n",
    "        mae_min = mae\n",
    "        n_min = n\n",
    "        \n",
    "print(n_min, mae_min)   \n",
    "\n",
    "model3 = RandomForestRegressor(random_state=42, n_estimators=model3_n_est, max_depth=n_min)\n",
    "\n",
    "plt.plot(n_list, mae_list)\n",
    "plt.xlabel('max_depth')\n",
    "plt.ylabel('mae')"
   ]
  },
  {
   "cell_type": "markdown",
   "metadata": {},
   "source": [
    "# Анализ моделей"
   ]
  },
  {
   "cell_type": "code",
   "execution_count": 42,
   "metadata": {},
   "outputs": [],
   "source": [
    "dummy = DummyRegressor(strategy='mean')\n",
    "\n",
    "dummy.fit(features_train, target_train)\n",
    "mae0 = mean_absolute_error(target_test, dummy.predict(features_test))"
   ]
  },
  {
   "cell_type": "code",
   "execution_count": 43,
   "metadata": {},
   "outputs": [],
   "source": [
    "model1.fit(features_train, target_train)\n",
    "mae1 = mean_absolute_error(target_test, model1.predict(features_test))\n",
    "\n",
    "model2.fit(features_train, target_train)\n",
    "mae2 = mean_absolute_error(target_test, model2.predict(features_test))\n",
    "\n",
    "model3.fit(features_train, target_train)\n",
    "mae3 = mean_absolute_error(target_test, model3.predict(features_test))"
   ]
  },
  {
   "cell_type": "code",
   "execution_count": 44,
   "metadata": {},
   "outputs": [],
   "source": [
    "scaler = StandardScaler()\n",
    "num = features_train.columns\n",
    "scaler.fit(features_train[num])\n",
    "features_train_m = features_train.copy()\n",
    "features_test_m = features_test.copy()\n",
    "features_train_m[num] = scaler.transform(features_train_m[num])\n",
    "features_test_m[num] = scaler.transform(features_test_m[num])\n",
    "\n",
    "model3.fit(features_train_m, target_train)\n",
    "mae4 = mean_absolute_error(target_test, model3.predict(features_test_m))"
   ]
  },
  {
   "cell_type": "code",
   "execution_count": 45,
   "metadata": {},
   "outputs": [
    {
     "data": {
      "text/html": [
       "<div>\n",
       "<style scoped>\n",
       "    .dataframe tbody tr th:only-of-type {\n",
       "        vertical-align: middle;\n",
       "    }\n",
       "\n",
       "    .dataframe tbody tr th {\n",
       "        vertical-align: top;\n",
       "    }\n",
       "\n",
       "    .dataframe thead th {\n",
       "        text-align: right;\n",
       "    }\n",
       "</style>\n",
       "<table border=\"1\" class=\"dataframe\">\n",
       "  <thead>\n",
       "    <tr style=\"text-align: right;\">\n",
       "      <th></th>\n",
       "      <th>0</th>\n",
       "      <th>1</th>\n",
       "      <th>2</th>\n",
       "      <th>3</th>\n",
       "      <th>4</th>\n",
       "    </tr>\n",
       "  </thead>\n",
       "  <tbody>\n",
       "    <tr>\n",
       "      <td>Модель</td>\n",
       "      <td>Среднее</td>\n",
       "      <td>Линейная регрессия</td>\n",
       "      <td>Дерево</td>\n",
       "      <td>Случайный лес</td>\n",
       "      <td>Случайный лес с масштабированием</td>\n",
       "    </tr>\n",
       "    <tr>\n",
       "      <td>MAE</td>\n",
       "      <td>8.18397</td>\n",
       "      <td>6.26418</td>\n",
       "      <td>7.15051</td>\n",
       "      <td>6.1373</td>\n",
       "      <td>6.13473</td>\n",
       "    </tr>\n",
       "  </tbody>\n",
       "</table>\n",
       "</div>"
      ],
      "text/plain": [
       "              0                   1        2              3  \\\n",
       "Модель  Среднее  Линейная регрессия   Дерево  Случайный лес   \n",
       "MAE     8.18397             6.26418  7.15051         6.1373   \n",
       "\n",
       "                                       4  \n",
       "Модель  Случайный лес с масштабированием  \n",
       "MAE                              6.13473  "
      ]
     },
     "metadata": {},
     "output_type": "display_data"
    }
   ],
   "source": [
    "columns = ['Модель', 'MAE']\n",
    "name = ['Среднее', 'Линейная регрессия', 'Дерево', 'Случайный лес', 'Случайный лес с масштабированием']\n",
    "mae = [mae0, mae1, mae2, mae3, mae4]\n",
    "results = pd.DataFrame([name, mae], columns)\n",
    "display(results)"
   ]
  },
  {
   "cell_type": "markdown",
   "metadata": {},
   "source": [
    "Лучший результат показала модель случайного леса (с гиперпараметрами: максимальная глубина 9, количество деревьев 95) МАЕ 6.14 градуса. Линейная регрессия тоже дала хороший результат - 6.26 градуса.\n",
    "\n",
    "Предварительное масштабирование признаков ошибку практически не изменило"
   ]
  },
  {
   "cell_type": "markdown",
   "metadata": {},
   "source": [
    "## Анализ важности признаков"
   ]
  },
  {
   "cell_type": "code",
   "execution_count": 46,
   "metadata": {},
   "outputs": [
    {
     "data": {
      "image/png": "[encoded data removed]",
      "text/plain": [
       "<Figure size 432x288 with 1 Axes>"
      ]
     },
     "metadata": {
      "needs_background": "light"
     },
     "output_type": "display_data"
    }
   ],
   "source": [
    "import seaborn as sns\n",
    "\n",
    "def chart_feature_imp(model):\n",
    "    feature_imp = pd.Series(model.feature_importances_, index=features_valid.columns).sort_values(ascending=False)\n",
    "\n",
    "    ax = sns.barplot(x=feature_imp, y=feature_imp.index)\n",
    "    _ = ax.set(xlabel='Оценка важности признаков', ylabel='Признаки')\n",
    "    _ = ax.set_title('Визуализация важности признаков')\n",
    "\n",
    "chart_feature_imp(model3)"
   ]
  },
  {
   "cell_type": "markdown",
   "metadata": {},
   "source": [
    "По оценке важности: самый значимый признак это начальная температура, что логично, так как сталь нагревается именно от этой температуры. Активная мощность тоже непосредственно влияет на конечную температуру, так как это энергия, которая подается стали во время обработки.\n",
    "\n",
    "Важнее объема газа оказались добавки проволки Wire 1. Так же добавки, подаваемые в большее число партий оказываются важнее, чем добавки, которые почти никуда не подаются. Это тоже логично (добавки, наверное, охлаждают сталь), и оправдывает то, что я во время обработки удаляла совсем малочисленные добавки (можно было бы еще больше удалить)."
   ]
  },
  {
   "cell_type": "markdown",
   "metadata": {},
   "source": [
    "# Вывод"
   ]
  },
  {
   "cell_type": "markdown",
   "metadata": {},
   "source": [
    "В ходе данной работы была разработана модель, предсказывающая температуру стали после обработки. Для обучения и проверки модели был составлен набор признаков из характеристик производственного процесса обработки стали.\n",
    "\n",
    "Лучший результат показала модель случайного леса (с гиперпараметрами: максимальная глубина 9, количество деревьев 95) МАЕ 6.14 градуса. Это значение заметно меньше результата для константной модели (МАЕ 8.2 градуса), а значит, модель прошла проверку на адекватность.\n",
    "\n",
    "Наиболее важными факторами, влияющими на конечную температуру стали оказались: начальная температура, активная мощность и объем добавок Wire 1."
   ]
  },
  {
   "cell_type": "code",
   "execution_count": null,
   "metadata": {},
   "outputs": [],
   "source": []
  }
 ],
 "metadata": {
  "ExecuteTimeLog": [
   {
    "duration": 308,
    "start_time": "2021-09-21T18:03:44.317Z"
   },
   {
    "duration": 628,
    "start_time": "2021-09-21T18:03:46.062Z"
   },
   {
    "duration": 66,
    "start_time": "2021-09-21T18:03:46.692Z"
   },
   {
    "duration": 3,
    "start_time": "2021-09-21T18:08:59.223Z"
   },
   {
    "duration": 63,
    "start_time": "2021-09-21T18:08:59.228Z"
   },
   {
    "duration": 35,
    "start_time": "2021-09-21T18:08:59.292Z"
   },
   {
    "duration": 42,
    "start_time": "2021-09-21T18:08:59.328Z"
   },
   {
    "duration": 43,
    "start_time": "2021-09-21T18:08:59.372Z"
   },
   {
    "duration": 35,
    "start_time": "2021-09-21T18:08:59.417Z"
   },
   {
    "duration": 2032,
    "start_time": "2021-09-21T18:08:59.454Z"
   },
   {
    "duration": 719,
    "start_time": "2021-09-21T18:09:00.769Z"
   },
   {
    "duration": 42,
    "start_time": "2021-09-21T18:10:36.320Z"
   },
   {
    "duration": 35,
    "start_time": "2021-09-21T18:10:36.712Z"
   },
   {
    "duration": 576,
    "start_time": "2021-09-22T15:30:43.803Z"
   },
   {
    "duration": 72,
    "start_time": "2021-09-22T15:30:44.381Z"
   },
   {
    "duration": 1974,
    "start_time": "2021-09-22T15:30:44.455Z"
   },
   {
    "duration": 703,
    "start_time": "2021-09-22T15:30:45.728Z"
   },
   {
    "duration": 701,
    "start_time": "2021-09-22T15:30:45.731Z"
   },
   {
    "duration": 696,
    "start_time": "2021-09-22T15:30:45.737Z"
   },
   {
    "duration": 695,
    "start_time": "2021-09-22T15:30:45.739Z"
   },
   {
    "duration": 694,
    "start_time": "2021-09-22T15:30:45.741Z"
   },
   {
    "duration": 693,
    "start_time": "2021-09-22T15:30:45.743Z"
   },
   {
    "duration": 1940,
    "start_time": "2021-09-22T15:31:19.650Z"
   },
   {
    "duration": 13,
    "start_time": "2021-09-22T15:32:54.506Z"
   },
   {
    "duration": 14,
    "start_time": "2021-09-22T15:33:06.271Z"
   },
   {
    "duration": 20,
    "start_time": "2021-09-22T15:33:53.520Z"
   },
   {
    "duration": 416,
    "start_time": "2021-09-22T15:35:50.029Z"
   },
   {
    "duration": 3,
    "start_time": "2021-09-22T15:37:32.335Z"
   },
   {
    "duration": 329,
    "start_time": "2021-09-22T15:37:41.597Z"
   },
   {
    "duration": 441,
    "start_time": "2021-09-22T15:37:56.085Z"
   },
   {
    "duration": 8,
    "start_time": "2021-09-22T15:40:02.938Z"
   },
   {
    "duration": 17,
    "start_time": "2021-09-22T15:40:27.558Z"
   },
   {
    "duration": 12,
    "start_time": "2021-09-22T15:41:17.634Z"
   },
   {
    "duration": 472,
    "start_time": "2021-09-22T15:41:51.772Z"
   },
   {
    "duration": 480,
    "start_time": "2021-09-22T15:42:07.179Z"
   },
   {
    "duration": 556,
    "start_time": "2021-09-22T15:42:26.276Z"
   },
   {
    "duration": 972,
    "start_time": "2021-09-22T15:43:05.092Z"
   },
   {
    "duration": 217,
    "start_time": "2021-09-22T15:45:19.081Z"
   },
   {
    "duration": 269,
    "start_time": "2021-09-22T15:45:39.790Z"
   },
   {
    "duration": 237,
    "start_time": "2021-09-22T15:46:02.150Z"
   },
   {
    "duration": 348,
    "start_time": "2021-09-22T15:48:10.626Z"
   },
   {
    "duration": 671,
    "start_time": "2021-09-22T15:48:45.418Z"
   },
   {
    "duration": 757,
    "start_time": "2021-09-22T15:49:26.914Z"
   },
   {
    "duration": 476,
    "start_time": "2021-09-22T15:50:37.828Z"
   },
   {
    "duration": 572,
    "start_time": "2021-09-22T15:54:24.768Z"
   },
   {
    "duration": 665,
    "start_time": "2021-09-22T15:54:43.769Z"
   },
   {
    "duration": 12,
    "start_time": "2021-09-22T15:56:15.297Z"
   },
   {
    "duration": 268,
    "start_time": "2021-09-22T15:58:31.862Z"
   },
   {
    "duration": 272,
    "start_time": "2021-09-22T15:58:46.870Z"
   },
   {
    "duration": 43,
    "start_time": "2021-09-22T15:59:11.898Z"
   },
   {
    "duration": 135,
    "start_time": "2021-09-22T15:59:27.565Z"
   },
   {
    "duration": 68,
    "start_time": "2021-09-22T15:59:52.560Z"
   },
   {
    "duration": 44,
    "start_time": "2021-09-22T16:00:03.151Z"
   },
   {
    "duration": 40,
    "start_time": "2021-09-22T16:00:19.127Z"
   },
   {
    "duration": 44,
    "start_time": "2021-09-22T16:00:20.254Z"
   },
   {
    "duration": 918,
    "start_time": "2021-09-23T17:26:26.730Z"
   },
   {
    "duration": 78,
    "start_time": "2021-09-23T17:26:27.652Z"
   },
   {
    "duration": 31,
    "start_time": "2021-09-23T17:26:27.734Z"
   },
   {
    "duration": 1100,
    "start_time": "2021-09-23T17:26:27.769Z"
   },
   {
    "duration": 484,
    "start_time": "2021-09-23T17:26:28.871Z"
   },
   {
    "duration": 807,
    "start_time": "2021-09-23T17:26:29.363Z"
   },
   {
    "duration": 967,
    "start_time": "2021-09-23T17:26:30.173Z"
   },
   {
    "duration": 1077,
    "start_time": "2021-09-23T17:26:31.143Z"
   },
   {
    "duration": 62,
    "start_time": "2021-09-23T17:26:32.223Z"
   },
   {
    "duration": 78,
    "start_time": "2021-09-23T17:26:32.289Z"
   },
   {
    "duration": 91,
    "start_time": "2021-09-23T17:26:32.369Z"
   },
   {
    "duration": 42,
    "start_time": "2021-09-23T17:26:32.462Z"
   },
   {
    "duration": 35,
    "start_time": "2021-09-23T17:26:32.506Z"
   },
   {
    "duration": 57,
    "start_time": "2021-09-23T17:26:32.543Z"
   },
   {
    "duration": 704,
    "start_time": "2021-09-23T17:29:15.015Z"
   },
   {
    "duration": 453,
    "start_time": "2021-09-23T17:29:53.947Z"
   },
   {
    "duration": 660,
    "start_time": "2021-09-23T17:31:07.070Z"
   },
   {
    "duration": 925,
    "start_time": "2021-09-23T17:31:26.704Z"
   },
   {
    "duration": 663,
    "start_time": "2021-09-23T17:31:39.575Z"
   },
   {
    "duration": 7,
    "start_time": "2021-09-23T17:38:50.672Z"
   },
   {
    "duration": 9722,
    "start_time": "2021-09-23T17:39:54.715Z"
   },
   {
    "duration": 8994,
    "start_time": "2021-09-23T17:40:24.239Z"
   },
   {
    "duration": 11465,
    "start_time": "2021-09-23T17:41:51.072Z"
   },
   {
    "duration": 12024,
    "start_time": "2021-09-23T17:42:32.392Z"
   },
   {
    "duration": 11779,
    "start_time": "2021-09-23T17:42:53.941Z"
   },
   {
    "duration": 8792,
    "start_time": "2021-09-23T17:43:09.632Z"
   },
   {
    "duration": 5150,
    "start_time": "2021-09-23T17:44:14.638Z"
   },
   {
    "duration": 816,
    "start_time": "2021-09-23T17:45:49.252Z"
   },
   {
    "duration": 761,
    "start_time": "2021-09-23T17:46:03.668Z"
   },
   {
    "duration": 851,
    "start_time": "2021-09-23T17:48:06.041Z"
   },
   {
    "duration": 467,
    "start_time": "2021-09-23T17:50:24.138Z"
   },
   {
    "duration": 61,
    "start_time": "2021-09-23T17:50:38.646Z"
   },
   {
    "duration": 52,
    "start_time": "2021-09-23T17:52:20.268Z"
   },
   {
    "duration": 777,
    "start_time": "2021-09-23T17:53:27.684Z"
   },
   {
    "duration": 657,
    "start_time": "2021-09-25T09:46:56.524Z"
   },
   {
    "duration": 70,
    "start_time": "2021-09-25T09:46:57.184Z"
   },
   {
    "duration": 18,
    "start_time": "2021-09-25T09:46:57.257Z"
   },
   {
    "duration": 438,
    "start_time": "2021-09-25T09:46:57.277Z"
   },
   {
    "duration": 521,
    "start_time": "2021-09-25T09:46:57.716Z"
   },
   {
    "duration": 571,
    "start_time": "2021-09-25T09:46:58.239Z"
   },
   {
    "duration": 43,
    "start_time": "2021-09-25T09:46:58.812Z"
   },
   {
    "duration": 5302,
    "start_time": "2021-09-25T09:46:58.858Z"
   },
   {
    "duration": 7397,
    "start_time": "2021-09-25T09:47:04.162Z"
   },
   {
    "duration": 458,
    "start_time": "2021-09-25T09:47:11.103Z"
   },
   {
    "duration": 456,
    "start_time": "2021-09-25T09:47:11.106Z"
   },
   {
    "duration": 452,
    "start_time": "2021-09-25T09:47:11.111Z"
   },
   {
    "duration": 448,
    "start_time": "2021-09-25T09:47:11.116Z"
   },
   {
    "duration": 446,
    "start_time": "2021-09-25T09:47:11.119Z"
   },
   {
    "duration": 445,
    "start_time": "2021-09-25T09:47:11.121Z"
   },
   {
    "duration": 444,
    "start_time": "2021-09-25T09:47:11.123Z"
   },
   {
    "duration": 443,
    "start_time": "2021-09-25T09:47:11.125Z"
   },
   {
    "duration": 442,
    "start_time": "2021-09-25T09:47:11.128Z"
   },
   {
    "duration": 442,
    "start_time": "2021-09-25T09:47:11.129Z"
   },
   {
    "duration": 439,
    "start_time": "2021-09-25T09:47:11.132Z"
   },
   {
    "duration": 14,
    "start_time": "2021-09-25T09:47:39.013Z"
   },
   {
    "duration": 27,
    "start_time": "2021-09-25T09:48:48.608Z"
   },
   {
    "duration": 26,
    "start_time": "2021-09-25T09:49:07.655Z"
   },
   {
    "duration": 25,
    "start_time": "2021-09-25T09:49:21.146Z"
   },
   {
    "duration": 27,
    "start_time": "2021-09-25T09:49:55.392Z"
   },
   {
    "duration": 25,
    "start_time": "2021-09-25T09:50:16.852Z"
   },
   {
    "duration": 32,
    "start_time": "2021-09-25T09:50:36.340Z"
   },
   {
    "duration": 36,
    "start_time": "2021-09-25T09:51:09.197Z"
   },
   {
    "duration": 39,
    "start_time": "2021-09-25T09:51:38.113Z"
   },
   {
    "duration": 39,
    "start_time": "2021-09-25T09:52:00.205Z"
   },
   {
    "duration": 37,
    "start_time": "2021-09-25T09:52:30.614Z"
   },
   {
    "duration": 38,
    "start_time": "2021-09-25T09:52:46.141Z"
   },
   {
    "duration": 54,
    "start_time": "2021-09-25T09:56:39.214Z"
   },
   {
    "duration": 331,
    "start_time": "2021-09-25T09:56:44.202Z"
   },
   {
    "duration": 50,
    "start_time": "2021-09-25T09:58:04.332Z"
   },
   {
    "duration": 56,
    "start_time": "2021-09-25T09:59:18.728Z"
   },
   {
    "duration": 449,
    "start_time": "2021-09-25T09:59:19.348Z"
   },
   {
    "duration": 46,
    "start_time": "2021-09-25T10:02:59.977Z"
   },
   {
    "duration": 449,
    "start_time": "2021-09-25T10:05:05.794Z"
   },
   {
    "duration": 47,
    "start_time": "2021-09-25T10:05:19.695Z"
   },
   {
    "duration": 443,
    "start_time": "2021-09-25T10:05:19.981Z"
   },
   {
    "duration": 8,
    "start_time": "2021-09-25T11:00:57.460Z"
   },
   {
    "duration": 47,
    "start_time": "2021-09-25T11:01:28.909Z"
   },
   {
    "duration": 45,
    "start_time": "2021-09-25T11:01:58.189Z"
   },
   {
    "duration": 18,
    "start_time": "2021-09-25T11:07:43.006Z"
   },
   {
    "duration": 19,
    "start_time": "2021-09-25T11:08:15.143Z"
   },
   {
    "duration": 281,
    "start_time": "2021-09-25T11:08:38.649Z"
   },
   {
    "duration": 6,
    "start_time": "2021-09-25T11:08:51.881Z"
   },
   {
    "duration": 6,
    "start_time": "2021-09-25T11:09:38.483Z"
   },
   {
    "duration": 6,
    "start_time": "2021-09-25T11:09:43.848Z"
   },
   {
    "duration": 7,
    "start_time": "2021-09-25T11:10:23.305Z"
   },
   {
    "duration": 404,
    "start_time": "2021-09-25T11:11:08.392Z"
   },
   {
    "duration": 301,
    "start_time": "2021-09-25T11:11:24.969Z"
   },
   {
    "duration": 11,
    "start_time": "2021-09-25T11:12:33.986Z"
   },
   {
    "duration": 17,
    "start_time": "2021-09-25T11:12:47.462Z"
   },
   {
    "duration": 16,
    "start_time": "2021-09-25T11:13:14.434Z"
   },
   {
    "duration": 17,
    "start_time": "2021-09-25T11:13:28.277Z"
   },
   {
    "duration": 322,
    "start_time": "2021-09-25T11:14:18.342Z"
   },
   {
    "duration": 17,
    "start_time": "2021-09-25T11:14:32.078Z"
   },
   {
    "duration": 48,
    "start_time": "2021-09-25T11:14:57.325Z"
   },
   {
    "duration": 7,
    "start_time": "2021-09-25T11:17:45.237Z"
   },
   {
    "duration": 21,
    "start_time": "2021-09-25T11:18:37.561Z"
   },
   {
    "duration": 8,
    "start_time": "2021-09-25T11:19:16.979Z"
   },
   {
    "duration": 45,
    "start_time": "2021-09-25T11:19:34.532Z"
   },
   {
    "duration": 11,
    "start_time": "2021-09-25T11:19:34.971Z"
   },
   {
    "duration": 18,
    "start_time": "2021-09-25T11:19:35.421Z"
   },
   {
    "duration": 15,
    "start_time": "2021-09-25T11:22:25.662Z"
   },
   {
    "duration": 12,
    "start_time": "2021-09-25T11:23:09.541Z"
   },
   {
    "duration": 11,
    "start_time": "2021-09-25T11:24:51.130Z"
   },
   {
    "duration": 4503,
    "start_time": "2021-09-25T11:25:22.586Z"
   },
   {
    "duration": 10,
    "start_time": "2021-09-25T11:25:33.435Z"
   },
   {
    "duration": 11,
    "start_time": "2021-09-25T11:25:50.578Z"
   },
   {
    "duration": 10,
    "start_time": "2021-09-25T11:26:12.410Z"
   },
   {
    "duration": 11,
    "start_time": "2021-09-25T11:26:24.514Z"
   },
   {
    "duration": 10,
    "start_time": "2021-09-25T11:27:50.325Z"
   },
   {
    "duration": 11,
    "start_time": "2021-09-25T11:27:59.660Z"
   },
   {
    "duration": 12,
    "start_time": "2021-09-25T11:28:15.729Z"
   },
   {
    "duration": 311,
    "start_time": "2021-09-25T11:28:31.796Z"
   },
   {
    "duration": 45,
    "start_time": "2021-09-25T11:28:46.323Z"
   },
   {
    "duration": 13,
    "start_time": "2021-09-25T11:28:46.990Z"
   },
   {
    "duration": 98,
    "start_time": "2021-09-25T11:29:22.860Z"
   },
   {
    "duration": 44,
    "start_time": "2021-09-25T11:29:28.980Z"
   },
   {
    "duration": 5017,
    "start_time": "2021-09-25T11:29:29.139Z"
   },
   {
    "duration": 318,
    "start_time": "2021-09-25T11:29:50.429Z"
   },
   {
    "duration": 47,
    "start_time": "2021-09-25T11:29:54.170Z"
   },
   {
    "duration": 309,
    "start_time": "2021-09-25T11:29:54.457Z"
   },
   {
    "duration": 14,
    "start_time": "2021-09-25T11:30:12.578Z"
   },
   {
    "duration": 291,
    "start_time": "2021-09-25T11:30:37.808Z"
   },
   {
    "duration": 16,
    "start_time": "2021-09-25T11:31:32.833Z"
   },
   {
    "duration": 47,
    "start_time": "2021-09-25T11:31:50.441Z"
   },
   {
    "duration": 26,
    "start_time": "2021-09-25T11:31:50.808Z"
   },
   {
    "duration": 15,
    "start_time": "2021-09-25T11:32:01.817Z"
   },
   {
    "duration": 13,
    "start_time": "2021-09-25T11:32:12.401Z"
   },
   {
    "duration": 12,
    "start_time": "2021-09-25T11:33:57.962Z"
   },
   {
    "duration": 607,
    "start_time": "2021-09-25T11:35:12.386Z"
   },
   {
    "duration": 19,
    "start_time": "2021-09-25T11:35:54.422Z"
   },
   {
    "duration": 28,
    "start_time": "2021-09-25T11:37:22.401Z"
   },
   {
    "duration": 19,
    "start_time": "2021-09-25T11:38:07.793Z"
   },
   {
    "duration": 20,
    "start_time": "2021-09-25T11:38:27.065Z"
   },
   {
    "duration": 49,
    "start_time": "2021-09-25T11:40:45.056Z"
   },
   {
    "duration": 18,
    "start_time": "2021-09-25T11:40:45.593Z"
   },
   {
    "duration": 13,
    "start_time": "2021-09-25T11:40:45.784Z"
   },
   {
    "duration": 13,
    "start_time": "2021-09-25T11:40:45.969Z"
   },
   {
    "duration": 90,
    "start_time": "2021-09-25T11:40:46.153Z"
   },
   {
    "duration": 447,
    "start_time": "2021-09-25T11:40:46.319Z"
   },
   {
    "duration": 7,
    "start_time": "2021-09-25T11:41:12.737Z"
   },
   {
    "duration": 20,
    "start_time": "2021-09-25T11:41:18.933Z"
   },
   {
    "duration": 326,
    "start_time": "2021-09-25T11:41:55.654Z"
   },
   {
    "duration": 24,
    "start_time": "2021-09-25T11:42:15.113Z"
   },
   {
    "duration": 25,
    "start_time": "2021-09-25T11:42:59.782Z"
   },
   {
    "duration": 51,
    "start_time": "2021-09-25T11:44:33.183Z"
   },
   {
    "duration": 21,
    "start_time": "2021-09-25T11:44:33.360Z"
   },
   {
    "duration": 13,
    "start_time": "2021-09-25T11:44:33.551Z"
   },
   {
    "duration": 14,
    "start_time": "2021-09-25T11:44:33.750Z"
   },
   {
    "duration": 23,
    "start_time": "2021-09-25T11:44:33.950Z"
   },
   {
    "duration": 52,
    "start_time": "2021-09-25T11:44:44.672Z"
   },
   {
    "duration": 19,
    "start_time": "2021-09-25T11:44:44.837Z"
   },
   {
    "duration": 13,
    "start_time": "2021-09-25T11:44:45.016Z"
   },
   {
    "duration": 15,
    "start_time": "2021-09-25T11:44:45.182Z"
   },
   {
    "duration": 302,
    "start_time": "2021-09-25T11:45:16.415Z"
   },
   {
    "duration": 28,
    "start_time": "2021-09-25T11:45:36.696Z"
   },
   {
    "duration": 37,
    "start_time": "2021-09-25T11:45:48.662Z"
   },
   {
    "duration": 28,
    "start_time": "2021-09-25T11:46:01.610Z"
   },
   {
    "duration": 28,
    "start_time": "2021-09-25T11:46:06.615Z"
   },
   {
    "duration": 121,
    "start_time": "2021-09-25T11:47:19.709Z"
   },
   {
    "duration": 328,
    "start_time": "2021-09-25T11:47:24.008Z"
   },
   {
    "duration": 323,
    "start_time": "2021-09-25T11:48:04.690Z"
   },
   {
    "duration": 450,
    "start_time": "2021-09-25T11:48:27.302Z"
   },
   {
    "duration": 14,
    "start_time": "2021-09-25T11:53:44.865Z"
   },
   {
    "duration": 7,
    "start_time": "2021-09-25T11:54:33.827Z"
   },
   {
    "duration": 527,
    "start_time": "2021-09-25T11:55:12.410Z"
   },
   {
    "duration": 50,
    "start_time": "2021-09-25T11:55:45.882Z"
   },
   {
    "duration": 18,
    "start_time": "2021-09-25T11:55:46.049Z"
   },
   {
    "duration": 14,
    "start_time": "2021-09-25T11:55:46.219Z"
   },
   {
    "duration": 450,
    "start_time": "2021-09-25T11:55:46.394Z"
   },
   {
    "duration": 13,
    "start_time": "2021-09-25T11:55:46.846Z"
   },
   {
    "duration": 456,
    "start_time": "2021-09-25T11:55:46.877Z"
   },
   {
    "duration": 10,
    "start_time": "2021-09-25T11:55:47.336Z"
   },
   {
    "duration": 40,
    "start_time": "2021-09-25T11:55:47.427Z"
   },
   {
    "duration": 17,
    "start_time": "2021-09-25T11:56:14.241Z"
   },
   {
    "duration": 449,
    "start_time": "2021-09-25T11:58:10.187Z"
   },
   {
    "duration": 526,
    "start_time": "2021-09-25T11:58:28.355Z"
   },
   {
    "duration": 18,
    "start_time": "2021-09-25T11:58:33.167Z"
   },
   {
    "duration": 455,
    "start_time": "2021-09-25T11:58:34.356Z"
   },
   {
    "duration": 49,
    "start_time": "2021-09-25T11:59:23.696Z"
   },
   {
    "duration": 19,
    "start_time": "2021-09-25T11:59:24.663Z"
   },
   {
    "duration": 13,
    "start_time": "2021-09-25T11:59:24.896Z"
   },
   {
    "duration": 459,
    "start_time": "2021-09-25T11:59:25.063Z"
   },
   {
    "duration": 13,
    "start_time": "2021-09-25T11:59:25.524Z"
   },
   {
    "duration": 558,
    "start_time": "2021-09-25T11:59:25.539Z"
   },
   {
    "duration": 455,
    "start_time": "2021-09-25T11:59:26.100Z"
   },
   {
    "duration": 26,
    "start_time": "2021-09-25T11:59:26.557Z"
   },
   {
    "duration": 461,
    "start_time": "2021-09-25T11:59:26.585Z"
   },
   {
    "duration": 39,
    "start_time": "2021-09-25T12:02:15.440Z"
   },
   {
    "duration": 3082,
    "start_time": "2021-09-25T12:02:16.984Z"
   },
   {
    "duration": 20,
    "start_time": "2021-09-25T12:03:36.242Z"
   },
   {
    "duration": 18,
    "start_time": "2021-09-25T12:04:25.802Z"
   },
   {
    "duration": 960,
    "start_time": "2021-09-25T14:08:48.607Z"
   },
   {
    "duration": 477,
    "start_time": "2021-09-25T14:08:49.571Z"
   },
   {
    "duration": 30,
    "start_time": "2021-09-25T14:08:50.051Z"
   },
   {
    "duration": 697,
    "start_time": "2021-09-25T14:08:50.084Z"
   },
   {
    "duration": 817,
    "start_time": "2021-09-25T14:08:50.784Z"
   },
   {
    "duration": 965,
    "start_time": "2021-09-25T14:08:51.603Z"
   },
   {
    "duration": 113,
    "start_time": "2021-09-25T14:08:52.571Z"
   },
   {
    "duration": 8725,
    "start_time": "2021-09-25T14:08:52.688Z"
   },
   {
    "duration": 49,
    "start_time": "2021-09-25T14:09:01.416Z"
   },
   {
    "duration": 37,
    "start_time": "2021-09-25T14:09:01.469Z"
   },
   {
    "duration": 193,
    "start_time": "2021-09-25T14:09:01.509Z"
   },
   {
    "duration": 83,
    "start_time": "2021-09-25T14:09:01.704Z"
   },
   {
    "duration": 75,
    "start_time": "2021-09-25T14:09:01.790Z"
   },
   {
    "duration": 814,
    "start_time": "2021-09-25T14:09:01.868Z"
   },
   {
    "duration": 177,
    "start_time": "2021-09-25T14:09:02.685Z"
   },
   {
    "duration": 25,
    "start_time": "2021-09-25T14:09:02.865Z"
   },
   {
    "duration": 35,
    "start_time": "2021-09-25T14:09:02.893Z"
   },
   {
    "duration": 778,
    "start_time": "2021-09-25T14:09:02.930Z"
   },
   {
    "duration": 19,
    "start_time": "2021-09-25T14:09:03.710Z"
   },
   {
    "duration": 806,
    "start_time": "2021-09-25T14:09:03.731Z"
   },
   {
    "duration": 860,
    "start_time": "2021-09-25T14:09:04.540Z"
   },
   {
    "duration": 25,
    "start_time": "2021-09-25T14:09:05.403Z"
   },
   {
    "duration": 748,
    "start_time": "2021-09-25T14:09:05.455Z"
   },
   {
    "duration": 51,
    "start_time": "2021-09-25T14:09:06.207Z"
   },
   {
    "duration": 5233,
    "start_time": "2021-09-25T14:09:06.261Z"
   },
   {
    "duration": 29,
    "start_time": "2021-09-25T14:09:11.497Z"
   },
   {
    "duration": 65,
    "start_time": "2021-09-25T14:09:11.528Z"
   },
   {
    "duration": 71,
    "start_time": "2021-09-25T14:09:11.596Z"
   },
   {
    "duration": 1111,
    "start_time": "2021-09-25T14:09:11.669Z"
   },
   {
    "duration": 415,
    "start_time": "2021-09-25T14:10:35.076Z"
   },
   {
    "duration": 61,
    "start_time": "2021-09-25T14:10:47.720Z"
   },
   {
    "duration": 8970,
    "start_time": "2021-09-25T14:10:48.274Z"
   },
   {
    "duration": 49,
    "start_time": "2021-09-25T14:10:57.247Z"
   },
   {
    "duration": 79,
    "start_time": "2021-09-25T14:10:57.299Z"
   },
   {
    "duration": 533,
    "start_time": "2021-09-25T14:12:41.073Z"
   },
   {
    "duration": 216,
    "start_time": "2021-09-25T14:12:55.673Z"
   },
   {
    "duration": 759,
    "start_time": "2021-09-25T14:12:56.078Z"
   },
   {
    "duration": 56,
    "start_time": "2021-09-25T14:13:29.145Z"
   },
   {
    "duration": 857,
    "start_time": "2021-09-25T14:13:29.355Z"
   },
   {
    "duration": 56,
    "start_time": "2021-09-25T14:14:26.101Z"
   },
   {
    "duration": 207,
    "start_time": "2021-09-25T14:14:26.321Z"
   },
   {
    "duration": 841,
    "start_time": "2021-09-25T14:14:26.531Z"
   },
   {
    "duration": 31,
    "start_time": "2021-09-25T14:15:39.254Z"
   },
   {
    "duration": 18,
    "start_time": "2021-09-25T14:16:05.360Z"
   },
   {
    "duration": 27,
    "start_time": "2021-09-25T14:16:16.549Z"
   },
   {
    "duration": 23,
    "start_time": "2021-09-25T14:17:35.110Z"
   },
   {
    "duration": 15,
    "start_time": "2021-09-25T14:17:49.086Z"
   },
   {
    "duration": 61,
    "start_time": "2021-09-25T14:18:05.935Z"
   },
   {
    "duration": 26,
    "start_time": "2021-09-25T14:18:06.102Z"
   },
   {
    "duration": 19,
    "start_time": "2021-09-25T14:18:06.273Z"
   },
   {
    "duration": 800,
    "start_time": "2021-09-25T14:18:06.446Z"
   },
   {
    "duration": 24,
    "start_time": "2021-09-25T14:18:07.257Z"
   },
   {
    "duration": 779,
    "start_time": "2021-09-25T14:18:07.285Z"
   },
   {
    "duration": 840,
    "start_time": "2021-09-25T14:18:08.068Z"
   },
   {
    "duration": 14,
    "start_time": "2021-09-25T14:18:09.125Z"
   },
   {
    "duration": 785,
    "start_time": "2021-09-25T14:18:10.342Z"
   },
   {
    "duration": 20,
    "start_time": "2021-09-25T14:23:47.375Z"
   },
   {
    "duration": 18,
    "start_time": "2021-09-25T14:24:56.109Z"
   },
   {
    "duration": 31,
    "start_time": "2021-09-25T14:29:59.963Z"
   },
   {
    "duration": 537,
    "start_time": "2021-09-25T14:33:40.152Z"
   },
   {
    "duration": 17229,
    "start_time": "2021-09-25T14:34:34.121Z"
   },
   {
    "duration": 9260,
    "start_time": "2021-09-25T14:34:52.631Z"
   },
   {
    "duration": 9831,
    "start_time": "2021-09-25T14:35:33.522Z"
   },
   {
    "duration": 380,
    "start_time": "2021-09-25T14:35:47.145Z"
   },
   {
    "duration": 311,
    "start_time": "2021-09-25T14:35:51.358Z"
   },
   {
    "duration": 50,
    "start_time": "2021-09-25T14:44:28.717Z"
   },
   {
    "duration": 850,
    "start_time": "2021-09-26T09:00:23.645Z"
   },
   {
    "duration": 3,
    "start_time": "2021-09-26T09:01:39.406Z"
   },
   {
    "duration": 108,
    "start_time": "2021-09-26T09:01:39.413Z"
   },
   {
    "duration": 22,
    "start_time": "2021-09-26T09:01:39.524Z"
   },
   {
    "duration": 679,
    "start_time": "2021-09-26T09:01:39.549Z"
   },
   {
    "duration": 804,
    "start_time": "2021-09-26T09:01:40.231Z"
   },
   {
    "duration": 901,
    "start_time": "2021-09-26T09:01:41.037Z"
   },
   {
    "duration": 78,
    "start_time": "2021-09-26T09:01:41.941Z"
   },
   {
    "duration": 8283,
    "start_time": "2021-09-26T09:01:42.021Z"
   },
   {
    "duration": 43,
    "start_time": "2021-09-26T09:01:50.308Z"
   },
   {
    "duration": 69,
    "start_time": "2021-09-26T09:01:50.354Z"
   },
   {
    "duration": 98,
    "start_time": "2021-09-26T09:01:50.426Z"
   },
   {
    "duration": 78,
    "start_time": "2021-09-26T09:01:50.527Z"
   },
   {
    "duration": 57,
    "start_time": "2021-09-26T09:01:50.623Z"
   },
   {
    "duration": 205,
    "start_time": "2021-09-26T09:01:50.683Z"
   },
   {
    "duration": 700,
    "start_time": "2021-09-26T09:01:50.890Z"
   },
   {
    "duration": 66,
    "start_time": "2021-09-26T09:01:51.593Z"
   },
   {
    "duration": 25,
    "start_time": "2021-09-26T09:01:51.662Z"
   },
   {
    "duration": 33,
    "start_time": "2021-09-26T09:01:51.689Z"
   },
   {
    "duration": 748,
    "start_time": "2021-09-26T09:01:51.725Z"
   },
   {
    "duration": 19,
    "start_time": "2021-09-26T09:01:52.475Z"
   },
   {
    "duration": 820,
    "start_time": "2021-09-26T09:01:52.497Z"
   },
   {
    "duration": 713,
    "start_time": "2021-09-26T09:01:53.322Z"
   },
   {
    "duration": 22,
    "start_time": "2021-09-26T09:01:54.037Z"
   },
   {
    "duration": 18,
    "start_time": "2021-09-26T09:01:54.061Z"
   },
   {
    "duration": 756,
    "start_time": "2021-09-26T09:01:54.081Z"
   },
   {
    "duration": 92,
    "start_time": "2021-09-26T09:01:54.839Z"
   },
   {
    "duration": 4727,
    "start_time": "2021-09-26T09:01:54.936Z"
   },
   {
    "duration": 29,
    "start_time": "2021-09-26T09:01:59.666Z"
   },
   {
    "duration": 53,
    "start_time": "2021-09-26T09:01:59.697Z"
   },
   {
    "duration": 103,
    "start_time": "2021-09-26T09:01:59.752Z"
   },
   {
    "duration": 51,
    "start_time": "2021-09-26T09:01:59.857Z"
   },
   {
    "duration": 3,
    "start_time": "2021-09-26T09:01:59.922Z"
   },
   {
    "duration": 102,
    "start_time": "2021-09-26T09:10:32.778Z"
   },
   {
    "duration": 412,
    "start_time": "2021-09-26T09:10:43.307Z"
   },
   {
    "duration": 32,
    "start_time": "2021-09-26T09:14:26.549Z"
   },
   {
    "duration": 9382,
    "start_time": "2021-09-26T09:17:03.179Z"
   },
   {
    "duration": 310,
    "start_time": "2021-09-26T09:18:04.339Z"
   },
   {
    "duration": 50,
    "start_time": "2021-09-26T09:18:12.963Z"
   },
   {
    "duration": 54,
    "start_time": "2021-09-26T09:18:32.795Z"
   },
   {
    "duration": 305,
    "start_time": "2021-09-26T09:18:33.548Z"
   },
   {
    "duration": 52,
    "start_time": "2021-09-26T09:18:58.867Z"
   },
   {
    "duration": 5206,
    "start_time": "2021-09-26T09:18:59.026Z"
   },
   {
    "duration": 54,
    "start_time": "2021-09-26T09:19:16.377Z"
   },
   {
    "duration": 1214,
    "start_time": "2021-09-26T09:19:16.549Z"
   },
   {
    "duration": 53,
    "start_time": "2021-09-26T09:19:34.171Z"
   },
   {
    "duration": 23,
    "start_time": "2021-09-26T09:19:34.339Z"
   },
   {
    "duration": 53,
    "start_time": "2021-09-26T09:20:13.107Z"
   },
   {
    "duration": 23,
    "start_time": "2021-09-26T09:20:13.251Z"
   },
   {
    "duration": 79,
    "start_time": "2021-09-26T09:21:33.052Z"
   },
   {
    "duration": 569,
    "start_time": "2021-09-26T09:21:33.875Z"
   },
   {
    "duration": 79,
    "start_time": "2021-09-26T09:21:54.604Z"
   },
   {
    "duration": 594,
    "start_time": "2021-09-26T09:21:54.794Z"
   },
   {
    "duration": 77,
    "start_time": "2021-09-26T09:22:13.889Z"
   },
   {
    "duration": 579,
    "start_time": "2021-09-26T09:22:14.054Z"
   },
   {
    "duration": 79,
    "start_time": "2021-09-26T09:22:42.741Z"
   },
   {
    "duration": 671,
    "start_time": "2021-09-26T09:22:42.960Z"
   },
   {
    "duration": 77,
    "start_time": "2021-09-26T09:23:12.434Z"
   },
   {
    "duration": 578,
    "start_time": "2021-09-26T09:23:12.608Z"
   },
   {
    "duration": 51,
    "start_time": "2021-09-26T09:23:50.712Z"
   },
   {
    "duration": 63,
    "start_time": "2021-09-26T09:23:51.003Z"
   },
   {
    "duration": 54,
    "start_time": "2021-09-26T09:24:15.505Z"
   },
   {
    "duration": 65,
    "start_time": "2021-09-26T09:24:15.898Z"
   },
   {
    "duration": 54,
    "start_time": "2021-09-26T09:24:49.219Z"
   },
   {
    "duration": 70,
    "start_time": "2021-09-26T09:24:49.593Z"
   },
   {
    "duration": 53,
    "start_time": "2021-09-26T09:25:08.945Z"
   },
   {
    "duration": 94,
    "start_time": "2021-09-26T09:25:09.138Z"
   },
   {
    "duration": 54,
    "start_time": "2021-09-26T09:25:28.338Z"
   },
   {
    "duration": 63,
    "start_time": "2021-09-26T09:25:28.513Z"
   },
   {
    "duration": 57,
    "start_time": "2021-09-26T09:26:27.186Z"
   },
   {
    "duration": 355,
    "start_time": "2021-09-26T09:26:27.409Z"
   },
   {
    "duration": 23521,
    "start_time": "2021-09-26T09:28:55.303Z"
   },
   {
    "duration": -2,
    "start_time": "2021-09-26T09:29:18.837Z"
   },
   {
    "duration": 54,
    "start_time": "2021-09-26T09:29:24.254Z"
   },
   {
    "duration": 340,
    "start_time": "2021-09-26T09:29:24.431Z"
   },
   {
    "duration": 873,
    "start_time": "2021-09-26T09:29:57.779Z"
   },
   {
    "duration": 72,
    "start_time": "2021-09-26T09:29:58.655Z"
   },
   {
    "duration": 24,
    "start_time": "2021-09-26T09:29:58.730Z"
   },
   {
    "duration": 691,
    "start_time": "2021-09-26T09:29:58.758Z"
   },
   {
    "duration": 1347,
    "start_time": "2021-09-26T09:29:59.452Z"
   },
   {
    "duration": 1412,
    "start_time": "2021-09-26T09:30:00.802Z"
   },
   {
    "duration": 61,
    "start_time": "2021-09-26T09:30:02.216Z"
   },
   {
    "duration": 9043,
    "start_time": "2021-09-26T09:30:02.282Z"
   },
   {
    "duration": 41,
    "start_time": "2021-09-26T09:30:11.328Z"
   },
   {
    "duration": 74,
    "start_time": "2021-09-26T09:30:11.371Z"
   },
   {
    "duration": 69,
    "start_time": "2021-09-26T09:30:11.448Z"
   },
   {
    "duration": 77,
    "start_time": "2021-09-26T09:30:11.523Z"
   },
   {
    "duration": 49,
    "start_time": "2021-09-26T09:30:11.622Z"
   },
   {
    "duration": 204,
    "start_time": "2021-09-26T09:30:11.673Z"
   },
   {
    "duration": 715,
    "start_time": "2021-09-26T09:30:11.880Z"
   },
   {
    "duration": 60,
    "start_time": "2021-09-26T09:30:12.597Z"
   },
   {
    "duration": 27,
    "start_time": "2021-09-26T09:30:12.659Z"
   },
   {
    "duration": 43,
    "start_time": "2021-09-26T09:30:12.688Z"
   },
   {
    "duration": 782,
    "start_time": "2021-09-26T09:30:12.733Z"
   },
   {
    "duration": 18,
    "start_time": "2021-09-26T09:30:13.522Z"
   },
   {
    "duration": 823,
    "start_time": "2021-09-26T09:30:13.543Z"
   },
   {
    "duration": 762,
    "start_time": "2021-09-26T09:30:14.369Z"
   },
   {
    "duration": 22,
    "start_time": "2021-09-26T09:30:15.136Z"
   },
   {
    "duration": 18,
    "start_time": "2021-09-26T09:30:15.160Z"
   },
   {
    "duration": 989,
    "start_time": "2021-09-26T09:30:15.181Z"
   },
   {
    "duration": 52,
    "start_time": "2021-09-26T09:30:16.173Z"
   },
   {
    "duration": 8113,
    "start_time": "2021-09-26T09:30:16.228Z"
   },
   {
    "duration": 46,
    "start_time": "2021-09-26T09:30:24.344Z"
   },
   {
    "duration": 67,
    "start_time": "2021-09-26T09:30:24.393Z"
   },
   {
    "duration": 62,
    "start_time": "2021-09-26T09:30:24.463Z"
   },
   {
    "duration": 628,
    "start_time": "2021-09-26T09:30:24.527Z"
   },
   {
    "duration": 55,
    "start_time": "2021-09-26T09:33:30.342Z"
   },
   {
    "duration": 594,
    "start_time": "2021-09-26T09:33:30.665Z"
   },
   {
    "duration": 53,
    "start_time": "2021-09-26T09:35:29.416Z"
   },
   {
    "duration": 94,
    "start_time": "2021-09-26T09:35:30.471Z"
   },
   {
    "duration": 60,
    "start_time": "2021-09-26T09:35:44.592Z"
   },
   {
    "duration": 86,
    "start_time": "2021-09-26T09:35:44.755Z"
   },
   {
    "duration": 52,
    "start_time": "2021-09-26T09:36:23.206Z"
   },
   {
    "duration": 83,
    "start_time": "2021-09-26T09:36:23.425Z"
   },
   {
    "duration": 810,
    "start_time": "2021-09-26T09:38:39.564Z"
   },
   {
    "duration": 79,
    "start_time": "2021-09-26T09:38:40.377Z"
   },
   {
    "duration": 23,
    "start_time": "2021-09-26T09:38:40.459Z"
   },
   {
    "duration": 903,
    "start_time": "2021-09-26T09:38:40.485Z"
   },
   {
    "duration": 1307,
    "start_time": "2021-09-26T09:38:41.392Z"
   },
   {
    "duration": 1506,
    "start_time": "2021-09-26T09:38:42.702Z"
   },
   {
    "duration": 66,
    "start_time": "2021-09-26T09:38:44.211Z"
   },
   {
    "duration": 8786,
    "start_time": "2021-09-26T09:38:44.283Z"
   },
   {
    "duration": 59,
    "start_time": "2021-09-26T09:38:53.072Z"
   },
   {
    "duration": 62,
    "start_time": "2021-09-26T09:38:53.133Z"
   },
   {
    "duration": 80,
    "start_time": "2021-09-26T09:38:53.198Z"
   },
   {
    "duration": 92,
    "start_time": "2021-09-26T09:38:53.280Z"
   },
   {
    "duration": 54,
    "start_time": "2021-09-26T09:38:53.375Z"
   },
   {
    "duration": 214,
    "start_time": "2021-09-26T09:38:53.432Z"
   },
   {
    "duration": 784,
    "start_time": "2021-09-26T09:38:53.648Z"
   },
   {
    "duration": 83,
    "start_time": "2021-09-26T09:38:54.435Z"
   },
   {
    "duration": 36,
    "start_time": "2021-09-26T09:38:54.521Z"
   },
   {
    "duration": 17,
    "start_time": "2021-09-26T09:38:54.560Z"
   },
   {
    "duration": 822,
    "start_time": "2021-09-26T09:38:54.580Z"
   },
   {
    "duration": 30,
    "start_time": "2021-09-26T09:38:55.406Z"
   },
   {
    "duration": 843,
    "start_time": "2021-09-26T09:38:55.439Z"
   },
   {
    "duration": 767,
    "start_time": "2021-09-26T09:38:56.285Z"
   },
   {
    "duration": 22,
    "start_time": "2021-09-26T09:38:57.056Z"
   },
   {
    "duration": 41,
    "start_time": "2021-09-26T09:38:57.081Z"
   },
   {
    "duration": 868,
    "start_time": "2021-09-26T09:38:57.125Z"
   },
   {
    "duration": 52,
    "start_time": "2021-09-26T09:38:57.996Z"
   },
   {
    "duration": 5265,
    "start_time": "2021-09-26T09:38:58.051Z"
   },
   {
    "duration": 43,
    "start_time": "2021-09-26T09:39:03.323Z"
   },
   {
    "duration": 62,
    "start_time": "2021-09-26T09:39:03.369Z"
   },
   {
    "duration": 55,
    "start_time": "2021-09-26T09:39:03.433Z"
   },
   {
    "duration": 541,
    "start_time": "2021-09-26T09:39:03.491Z"
   },
   {
    "duration": 57,
    "start_time": "2021-09-26T09:39:48.396Z"
   },
   {
    "duration": 558,
    "start_time": "2021-09-26T09:39:48.627Z"
   },
   {
    "duration": 54,
    "start_time": "2021-09-26T09:39:58.660Z"
   },
   {
    "duration": 506,
    "start_time": "2021-09-26T09:39:58.845Z"
   },
   {
    "duration": 57,
    "start_time": "2021-09-26T09:41:11.006Z"
   },
   {
    "duration": 89,
    "start_time": "2021-09-26T09:41:11.587Z"
   },
   {
    "duration": 56,
    "start_time": "2021-09-26T09:43:58.925Z"
   },
   {
    "duration": 8437,
    "start_time": "2021-09-26T09:43:59.087Z"
   },
   {
    "duration": 54,
    "start_time": "2021-09-26T09:47:15.923Z"
   },
   {
    "duration": 106,
    "start_time": "2021-09-26T09:47:16.177Z"
   },
   {
    "duration": 61,
    "start_time": "2021-09-26T09:47:31.275Z"
   },
   {
    "duration": 92,
    "start_time": "2021-09-26T09:47:31.450Z"
   },
   {
    "duration": 53,
    "start_time": "2021-09-26T09:52:58.490Z"
   },
   {
    "duration": 87,
    "start_time": "2021-09-26T09:52:58.647Z"
   },
   {
    "duration": 69,
    "start_time": "2021-09-26T09:53:18.852Z"
   },
   {
    "duration": 112,
    "start_time": "2021-09-26T09:53:18.997Z"
   },
   {
    "duration": 1247,
    "start_time": "2021-09-26T09:55:07.727Z"
   },
   {
    "duration": 73,
    "start_time": "2021-09-26T09:55:08.976Z"
   },
   {
    "duration": 24,
    "start_time": "2021-09-26T09:55:09.052Z"
   },
   {
    "duration": 725,
    "start_time": "2021-09-26T09:55:09.079Z"
   },
   {
    "duration": 774,
    "start_time": "2021-09-26T09:55:09.806Z"
   },
   {
    "duration": 909,
    "start_time": "2021-09-26T09:55:10.582Z"
   },
   {
    "duration": 56,
    "start_time": "2021-09-26T09:55:11.493Z"
   },
   {
    "duration": 8906,
    "start_time": "2021-09-26T09:55:11.553Z"
   },
   {
    "duration": 60,
    "start_time": "2021-09-26T09:55:20.463Z"
   },
   {
    "duration": 58,
    "start_time": "2021-09-26T09:55:20.525Z"
   },
   {
    "duration": 66,
    "start_time": "2021-09-26T09:55:20.585Z"
   },
   {
    "duration": 84,
    "start_time": "2021-09-26T09:55:20.653Z"
   },
   {
    "duration": 49,
    "start_time": "2021-09-26T09:55:20.740Z"
   },
   {
    "duration": 215,
    "start_time": "2021-09-26T09:55:20.791Z"
   },
   {
    "duration": 796,
    "start_time": "2021-09-26T09:55:21.008Z"
   },
   {
    "duration": 75,
    "start_time": "2021-09-26T09:55:21.807Z"
   },
   {
    "duration": 26,
    "start_time": "2021-09-26T09:55:21.884Z"
   },
   {
    "duration": 21,
    "start_time": "2021-09-26T09:55:21.913Z"
   },
   {
    "duration": 795,
    "start_time": "2021-09-26T09:55:21.937Z"
   },
   {
    "duration": 25,
    "start_time": "2021-09-26T09:55:22.735Z"
   },
   {
    "duration": 853,
    "start_time": "2021-09-26T09:55:22.763Z"
   },
   {
    "duration": 782,
    "start_time": "2021-09-26T09:55:23.623Z"
   },
   {
    "duration": 28,
    "start_time": "2021-09-26T09:55:24.410Z"
   },
   {
    "duration": 17,
    "start_time": "2021-09-26T09:55:24.441Z"
   },
   {
    "duration": 767,
    "start_time": "2021-09-26T09:55:24.460Z"
   },
   {
    "duration": 49,
    "start_time": "2021-09-26T09:55:25.229Z"
   },
   {
    "duration": 4822,
    "start_time": "2021-09-26T09:55:25.280Z"
   },
   {
    "duration": 38,
    "start_time": "2021-09-26T09:55:30.104Z"
   },
   {
    "duration": 30,
    "start_time": "2021-09-26T09:55:30.145Z"
   },
   {
    "duration": 64,
    "start_time": "2021-09-26T09:55:30.178Z"
   },
   {
    "duration": 56,
    "start_time": "2021-09-26T09:55:30.244Z"
   },
   {
    "duration": 54,
    "start_time": "2021-09-26T09:55:54.038Z"
   },
   {
    "duration": 75,
    "start_time": "2021-09-26T09:55:54.228Z"
   },
   {
    "duration": 52,
    "start_time": "2021-09-26T09:58:58.890Z"
   },
   {
    "duration": 67,
    "start_time": "2021-09-26T09:58:59.056Z"
   },
   {
    "duration": 54,
    "start_time": "2021-09-26T10:01:35.705Z"
   },
   {
    "duration": 75,
    "start_time": "2021-09-26T10:01:35.946Z"
   },
   {
    "duration": 14,
    "start_time": "2021-09-26T10:01:36.866Z"
   },
   {
    "duration": 17042,
    "start_time": "2021-09-26T10:03:54.769Z"
   },
   {
    "duration": 69,
    "start_time": "2021-09-26T10:06:16.616Z"
   },
   {
    "duration": 455,
    "start_time": "2021-09-26T10:06:16.826Z"
   },
   {
    "duration": 68,
    "start_time": "2021-09-26T10:06:45.241Z"
   },
   {
    "duration": 160,
    "start_time": "2021-09-26T10:06:45.380Z"
   },
   {
    "duration": 69,
    "start_time": "2021-09-26T10:07:20.928Z"
   },
   {
    "duration": 109,
    "start_time": "2021-09-26T10:07:21.072Z"
   },
   {
    "duration": 13,
    "start_time": "2021-09-26T10:11:18.373Z"
   },
   {
    "duration": 19,
    "start_time": "2021-09-26T10:11:47.110Z"
   },
   {
    "duration": 1034,
    "start_time": "2021-09-26T10:12:23.626Z"
   },
   {
    "duration": 76,
    "start_time": "2021-09-26T10:12:24.663Z"
   },
   {
    "duration": 25,
    "start_time": "2021-09-26T10:12:24.742Z"
   },
   {
    "duration": 698,
    "start_time": "2021-09-26T10:12:24.770Z"
   },
   {
    "duration": 796,
    "start_time": "2021-09-26T10:12:25.470Z"
   },
   {
    "duration": 936,
    "start_time": "2021-09-26T10:12:26.269Z"
   },
   {
    "duration": 55,
    "start_time": "2021-09-26T10:12:27.207Z"
   },
   {
    "duration": 9015,
    "start_time": "2021-09-26T10:12:27.265Z"
   },
   {
    "duration": 51,
    "start_time": "2021-09-26T10:12:36.283Z"
   },
   {
    "duration": 51,
    "start_time": "2021-09-26T10:12:36.337Z"
   },
   {
    "duration": 59,
    "start_time": "2021-09-26T10:12:36.390Z"
   },
   {
    "duration": 214,
    "start_time": "2021-09-26T10:12:36.452Z"
   },
   {
    "duration": 808,
    "start_time": "2021-09-26T10:12:36.668Z"
   },
   {
    "duration": 61,
    "start_time": "2021-09-26T10:12:37.479Z"
   },
   {
    "duration": 25,
    "start_time": "2021-09-26T10:12:37.542Z"
   },
   {
    "duration": 17,
    "start_time": "2021-09-26T10:12:37.570Z"
   },
   {
    "duration": 775,
    "start_time": "2021-09-26T10:12:37.590Z"
   },
   {
    "duration": 17,
    "start_time": "2021-09-26T10:12:38.367Z"
   },
   {
    "duration": 804,
    "start_time": "2021-09-26T10:12:38.386Z"
   },
   {
    "duration": 811,
    "start_time": "2021-09-26T10:12:39.193Z"
   },
   {
    "duration": 29,
    "start_time": "2021-09-26T10:12:40.007Z"
   },
   {
    "duration": 18,
    "start_time": "2021-09-26T10:12:40.038Z"
   },
   {
    "duration": 748,
    "start_time": "2021-09-26T10:12:40.061Z"
   },
   {
    "duration": 57,
    "start_time": "2021-09-26T10:12:40.812Z"
   },
   {
    "duration": 5637,
    "start_time": "2021-09-26T10:12:40.871Z"
   },
   {
    "duration": 37,
    "start_time": "2021-09-26T10:12:46.510Z"
   },
   {
    "duration": 34,
    "start_time": "2021-09-26T10:12:46.549Z"
   },
   {
    "duration": 66,
    "start_time": "2021-09-26T10:12:46.585Z"
   },
   {
    "duration": 89,
    "start_time": "2021-09-26T10:12:46.654Z"
   },
   {
    "duration": 60,
    "start_time": "2021-09-26T10:12:46.746Z"
   },
   {
    "duration": 124,
    "start_time": "2021-09-26T10:12:46.823Z"
   },
   {
    "duration": 18,
    "start_time": "2021-09-26T10:12:46.949Z"
   },
   {
    "duration": 961,
    "start_time": "2021-09-26T10:39:18.641Z"
   },
   {
    "duration": 101,
    "start_time": "2021-09-26T10:39:19.604Z"
   },
   {
    "duration": 16,
    "start_time": "2021-09-26T10:39:19.707Z"
   },
   {
    "duration": 876,
    "start_time": "2021-09-26T10:39:19.725Z"
   },
   {
    "duration": 1022,
    "start_time": "2021-09-26T10:39:20.602Z"
   },
   {
    "duration": 1192,
    "start_time": "2021-09-26T10:39:21.627Z"
   },
   {
    "duration": 88,
    "start_time": "2021-09-26T10:39:22.822Z"
   },
   {
    "duration": 10533,
    "start_time": "2021-09-26T10:39:22.912Z"
   },
   {
    "duration": 26,
    "start_time": "2021-09-26T10:39:33.499Z"
   },
   {
    "duration": 91,
    "start_time": "2021-09-26T10:39:33.526Z"
   },
   {
    "duration": 90,
    "start_time": "2021-09-26T10:39:33.619Z"
   },
   {
    "duration": 235,
    "start_time": "2021-09-26T10:39:33.711Z"
   },
   {
    "duration": 903,
    "start_time": "2021-09-26T10:39:33.999Z"
   },
   {
    "duration": 48,
    "start_time": "2021-09-26T10:39:34.903Z"
   },
   {
    "duration": 17,
    "start_time": "2021-09-26T10:39:35.000Z"
   },
   {
    "duration": 12,
    "start_time": "2021-09-26T10:39:35.019Z"
   },
   {
    "duration": 1004,
    "start_time": "2021-09-26T10:39:35.032Z"
   },
   {
    "duration": 73,
    "start_time": "2021-09-26T10:39:36.039Z"
   },
   {
    "duration": 1108,
    "start_time": "2021-09-26T10:39:36.114Z"
   },
   {
    "duration": 923,
    "start_time": "2021-09-26T10:39:37.224Z"
   },
   {
    "duration": 16,
    "start_time": "2021-09-26T10:39:38.200Z"
   },
   {
    "duration": 18,
    "start_time": "2021-09-26T10:39:38.218Z"
   },
   {
    "duration": 978,
    "start_time": "2021-09-26T10:39:38.237Z"
   },
   {
    "duration": 88,
    "start_time": "2021-09-26T10:39:39.217Z"
   },
   {
    "duration": 6216,
    "start_time": "2021-09-26T10:39:39.307Z"
   },
   {
    "duration": 77,
    "start_time": "2021-09-26T10:39:45.524Z"
   },
   {
    "duration": 22,
    "start_time": "2021-09-26T10:39:45.602Z"
   },
   {
    "duration": 90,
    "start_time": "2021-09-26T10:39:45.626Z"
   },
   {
    "duration": 104,
    "start_time": "2021-09-26T10:39:45.718Z"
   },
   {
    "duration": 101,
    "start_time": "2021-09-26T10:39:45.824Z"
   },
   {
    "duration": 174,
    "start_time": "2021-09-26T10:39:45.927Z"
   },
   {
    "duration": 12,
    "start_time": "2021-09-26T10:39:46.102Z"
   },
   {
    "duration": 869,
    "start_time": "2021-09-27T08:58:38.138Z"
   },
   {
    "duration": 73,
    "start_time": "2021-09-27T08:58:39.010Z"
   },
   {
    "duration": 23,
    "start_time": "2021-09-27T08:58:39.086Z"
   },
   {
    "duration": 701,
    "start_time": "2021-09-27T08:58:39.125Z"
   },
   {
    "duration": 827,
    "start_time": "2021-09-27T08:58:39.829Z"
   },
   {
    "duration": 1030,
    "start_time": "2021-09-27T08:58:40.658Z"
   },
   {
    "duration": 63,
    "start_time": "2021-09-27T08:58:41.690Z"
   },
   {
    "duration": 9229,
    "start_time": "2021-09-27T08:58:41.757Z"
   },
   {
    "duration": 50,
    "start_time": "2021-09-27T08:58:50.989Z"
   },
   {
    "duration": 52,
    "start_time": "2021-09-27T08:58:51.041Z"
   },
   {
    "duration": 61,
    "start_time": "2021-09-27T08:58:51.128Z"
   },
   {
    "duration": 214,
    "start_time": "2021-09-27T08:58:51.192Z"
   },
   {
    "duration": 739,
    "start_time": "2021-09-27T08:58:51.409Z"
   },
   {
    "duration": 59,
    "start_time": "2021-09-27T08:58:52.151Z"
   },
   {
    "duration": 39,
    "start_time": "2021-09-27T08:58:52.214Z"
   },
   {
    "duration": 17,
    "start_time": "2021-09-27T08:58:52.256Z"
   },
   {
    "duration": 999,
    "start_time": "2021-09-27T08:58:52.275Z"
   },
   {
    "duration": 26,
    "start_time": "2021-09-27T08:58:53.277Z"
   },
   {
    "duration": 843,
    "start_time": "2021-09-27T08:58:53.322Z"
   },
   {
    "duration": 845,
    "start_time": "2021-09-27T08:58:54.168Z"
   },
   {
    "duration": 31,
    "start_time": "2021-09-27T08:58:55.015Z"
   },
   {
    "duration": 19,
    "start_time": "2021-09-27T08:58:55.049Z"
   },
   {
    "duration": 918,
    "start_time": "2021-09-27T08:58:55.072Z"
   },
   {
    "duration": 51,
    "start_time": "2021-09-27T08:58:55.992Z"
   },
   {
    "duration": 5156,
    "start_time": "2021-09-27T08:58:56.046Z"
   },
   {
    "duration": 44,
    "start_time": "2021-09-27T08:59:01.205Z"
   },
   {
    "duration": 37,
    "start_time": "2021-09-27T08:59:01.252Z"
   },
   {
    "duration": 59,
    "start_time": "2021-09-27T08:59:01.292Z"
   },
   {
    "duration": 111,
    "start_time": "2021-09-27T08:59:01.354Z"
   },
   {
    "duration": 63,
    "start_time": "2021-09-27T08:59:01.468Z"
   },
   {
    "duration": 128,
    "start_time": "2021-09-27T08:59:01.534Z"
   },
   {
    "duration": 18,
    "start_time": "2021-09-27T08:59:01.665Z"
   },
   {
    "duration": 471,
    "start_time": "2021-09-27T08:59:01.685Z"
   },
   {
    "duration": 408,
    "start_time": "2021-09-27T08:59:45.597Z"
   },
   {
    "duration": 34,
    "start_time": "2021-09-27T09:00:04.222Z"
   },
   {
    "duration": 10898,
    "start_time": "2021-09-27T09:04:07.141Z"
   },
   {
    "duration": 841,
    "start_time": "2021-09-27T09:04:28.803Z"
   },
   {
    "duration": 311,
    "start_time": "2021-09-27T11:14:32.870Z"
   },
   {
    "duration": 708,
    "start_time": "2021-09-27T11:14:37.750Z"
   },
   {
    "duration": 59,
    "start_time": "2021-09-27T11:14:38.460Z"
   },
   {
    "duration": 16,
    "start_time": "2021-09-27T11:14:38.521Z"
   },
   {
    "duration": 445,
    "start_time": "2021-09-27T11:14:38.539Z"
   },
   {
    "duration": 507,
    "start_time": "2021-09-27T11:14:38.985Z"
   },
   {
    "duration": 567,
    "start_time": "2021-09-27T11:14:39.494Z"
   },
   {
    "duration": 45,
    "start_time": "2021-09-27T11:14:40.063Z"
   },
   {
    "duration": 5134,
    "start_time": "2021-09-27T11:14:40.111Z"
   },
   {
    "duration": 35,
    "start_time": "2021-09-27T11:14:45.248Z"
   },
   {
    "duration": 35,
    "start_time": "2021-09-27T11:14:45.285Z"
   },
   {
    "duration": 74,
    "start_time": "2021-09-27T11:14:45.322Z"
   },
   {
    "duration": 141,
    "start_time": "2021-09-27T11:14:45.398Z"
   },
   {
    "duration": 446,
    "start_time": "2021-09-27T11:14:45.541Z"
   },
   {
    "duration": 40,
    "start_time": "2021-09-27T11:14:45.989Z"
   },
   {
    "duration": 19,
    "start_time": "2021-09-27T11:14:46.031Z"
   },
   {
    "duration": 35,
    "start_time": "2021-09-27T11:14:46.052Z"
   },
   {
    "duration": 469,
    "start_time": "2021-09-27T11:14:46.089Z"
   },
   {
    "duration": 23,
    "start_time": "2021-09-27T11:14:46.561Z"
   },
   {
    "duration": 541,
    "start_time": "2021-09-27T11:14:46.587Z"
   },
   {
    "duration": 473,
    "start_time": "2021-09-27T11:14:47.130Z"
   },
   {
    "duration": 15,
    "start_time": "2021-09-27T11:14:47.605Z"
   },
   {
    "duration": 15,
    "start_time": "2021-09-27T11:14:47.622Z"
   },
   {
    "duration": 464,
    "start_time": "2021-09-27T11:14:47.641Z"
   },
   {
    "duration": 40,
    "start_time": "2021-09-27T11:14:48.107Z"
   },
   {
    "duration": 2971,
    "start_time": "2021-09-27T11:14:48.148Z"
   },
   {
    "duration": 19,
    "start_time": "2021-09-27T11:14:51.121Z"
   },
   {
    "duration": 38,
    "start_time": "2021-09-27T11:14:51.142Z"
   },
   {
    "duration": 43,
    "start_time": "2021-09-27T11:14:51.181Z"
   },
   {
    "duration": 47,
    "start_time": "2021-09-27T11:14:51.226Z"
   },
   {
    "duration": 47,
    "start_time": "2021-09-27T11:14:51.274Z"
   },
   {
    "duration": 85,
    "start_time": "2021-09-27T11:14:51.323Z"
   },
   {
    "duration": 14,
    "start_time": "2021-09-27T11:14:51.410Z"
   },
   {
    "duration": 15,
    "start_time": "2021-09-27T11:14:51.426Z"
   },
   {
    "duration": 16,
    "start_time": "2021-09-27T11:17:43.241Z"
   },
   {
    "duration": 15,
    "start_time": "2021-09-27T11:17:50.064Z"
   },
   {
    "duration": 15,
    "start_time": "2021-09-27T11:17:59.323Z"
   },
   {
    "duration": 398,
    "start_time": "2021-09-27T11:18:19.044Z"
   },
   {
    "duration": 15,
    "start_time": "2021-09-27T11:19:08.143Z"
   },
   {
    "duration": 374,
    "start_time": "2021-09-27T11:20:25.496Z"
   },
   {
    "duration": 355,
    "start_time": "2021-09-27T11:21:39.881Z"
   },
   {
    "duration": 402,
    "start_time": "2021-09-27T11:21:47.607Z"
   },
   {
    "duration": 1948,
    "start_time": "2021-09-27T11:24:02.252Z"
   },
   {
    "duration": 397,
    "start_time": "2021-09-27T11:24:14.780Z"
   },
   {
    "duration": 422,
    "start_time": "2021-09-27T11:24:54.156Z"
   },
   {
    "duration": 385,
    "start_time": "2021-09-27T11:25:24.764Z"
   },
   {
    "duration": 393,
    "start_time": "2021-09-27T11:25:43.037Z"
   },
   {
    "duration": 515,
    "start_time": "2021-09-27T11:29:16.805Z"
   },
   {
    "duration": 467,
    "start_time": "2021-09-27T11:30:28.795Z"
   },
   {
    "duration": 748,
    "start_time": "2021-09-27T11:31:06.846Z"
   },
   {
    "duration": 389,
    "start_time": "2021-09-27T11:33:48.803Z"
   },
   {
    "duration": 402,
    "start_time": "2021-09-27T11:34:43.654Z"
   },
   {
    "duration": 555,
    "start_time": "2021-09-27T11:36:56.700Z"
   },
   {
    "duration": 10,
    "start_time": "2021-09-27T11:37:55.488Z"
   },
   {
    "duration": 476,
    "start_time": "2021-09-27T11:40:43.101Z"
   },
   {
    "duration": 753,
    "start_time": "2021-09-27T11:48:48.268Z"
   },
   {
    "duration": 359,
    "start_time": "2021-09-27T11:49:55.044Z"
   },
   {
    "duration": 40,
    "start_time": "2021-09-27T11:50:01.453Z"
   },
   {
    "duration": 16,
    "start_time": "2021-09-27T11:50:04.717Z"
   },
   {
    "duration": 3,
    "start_time": "2021-09-27T11:50:26.776Z"
   },
   {
    "duration": 64,
    "start_time": "2021-09-27T11:50:26.781Z"
   },
   {
    "duration": 18,
    "start_time": "2021-09-27T11:50:26.847Z"
   },
   {
    "duration": 505,
    "start_time": "2021-09-27T11:50:26.866Z"
   },
   {
    "duration": 457,
    "start_time": "2021-09-27T11:50:27.373Z"
   },
   {
    "duration": 573,
    "start_time": "2021-09-27T11:50:27.831Z"
   },
   {
    "duration": 43,
    "start_time": "2021-09-27T11:50:28.407Z"
   },
   {
    "duration": 5071,
    "start_time": "2021-09-27T11:50:28.452Z"
   },
   {
    "duration": 25,
    "start_time": "2021-09-27T11:50:33.525Z"
   },
   {
    "duration": 32,
    "start_time": "2021-09-27T11:50:33.551Z"
   },
   {
    "duration": 63,
    "start_time": "2021-09-27T11:50:33.585Z"
   },
   {
    "duration": 129,
    "start_time": "2021-09-27T11:50:33.649Z"
   },
   {
    "duration": 438,
    "start_time": "2021-09-27T11:50:33.779Z"
   },
   {
    "duration": 38,
    "start_time": "2021-09-27T11:50:34.219Z"
   },
   {
    "duration": 26,
    "start_time": "2021-09-27T11:50:34.259Z"
   },
   {
    "duration": 13,
    "start_time": "2021-09-27T11:50:34.287Z"
   },
   {
    "duration": 557,
    "start_time": "2021-09-27T11:50:34.302Z"
   },
   {
    "duration": 17,
    "start_time": "2021-09-27T11:50:34.861Z"
   },
   {
    "duration": 471,
    "start_time": "2021-09-27T11:50:34.882Z"
   },
   {
    "duration": 462,
    "start_time": "2021-09-27T11:50:35.355Z"
   },
   {
    "duration": 16,
    "start_time": "2021-09-27T11:50:35.818Z"
   },
   {
    "duration": 14,
    "start_time": "2021-09-27T11:50:35.836Z"
   },
   {
    "duration": 483,
    "start_time": "2021-09-27T11:50:35.852Z"
   },
   {
    "duration": 40,
    "start_time": "2021-09-27T11:50:36.338Z"
   },
   {
    "duration": 3083,
    "start_time": "2021-09-27T11:50:36.380Z"
   },
   {
    "duration": 25,
    "start_time": "2021-09-27T11:50:39.465Z"
   },
   {
    "duration": 15,
    "start_time": "2021-09-27T11:50:39.492Z"
   },
   {
    "duration": 41,
    "start_time": "2021-09-27T11:50:39.509Z"
   },
   {
    "duration": 55,
    "start_time": "2021-09-27T11:50:39.551Z"
   },
   {
    "duration": 41,
    "start_time": "2021-09-27T11:50:39.608Z"
   },
   {
    "duration": 85,
    "start_time": "2021-09-27T11:50:39.651Z"
   },
   {
    "duration": 13,
    "start_time": "2021-09-27T11:50:39.737Z"
   },
   {
    "duration": 473,
    "start_time": "2021-09-27T11:50:39.751Z"
   },
   {
    "duration": 27,
    "start_time": "2021-09-27T11:50:40.225Z"
   },
   {
    "duration": 491,
    "start_time": "2021-09-27T11:52:32.954Z"
   },
   {
    "duration": 444,
    "start_time": "2021-09-27T11:53:11.050Z"
   },
   {
    "duration": 908,
    "start_time": "2021-09-27T11:54:42.293Z"
   },
   {
    "duration": 430,
    "start_time": "2021-09-27T11:54:54.003Z"
   },
   {
    "duration": 27,
    "start_time": "2021-09-27T11:55:04.388Z"
   },
   {
    "duration": 34,
    "start_time": "2021-09-27T11:59:53.834Z"
   },
   {
    "duration": 336,
    "start_time": "2021-09-27T12:00:17.418Z"
   },
   {
    "duration": 27,
    "start_time": "2021-09-27T12:00:24.991Z"
   },
   {
    "duration": 35,
    "start_time": "2021-09-27T12:00:52.434Z"
   },
   {
    "duration": 23,
    "start_time": "2021-09-27T12:05:50.094Z"
   },
   {
    "duration": 4,
    "start_time": "2021-09-27T12:07:16.790Z"
   },
   {
    "duration": 7,
    "start_time": "2021-09-27T12:07:30.640Z"
   },
   {
    "duration": 10,
    "start_time": "2021-09-27T12:09:14.727Z"
   },
   {
    "duration": 132,
    "start_time": "2021-09-27T12:10:10.323Z"
   },
   {
    "duration": 704,
    "start_time": "2021-09-27T17:19:09.763Z"
   },
   {
    "duration": 57,
    "start_time": "2021-09-27T17:19:10.469Z"
   },
   {
    "duration": 17,
    "start_time": "2021-09-27T17:19:10.528Z"
   },
   {
    "duration": 429,
    "start_time": "2021-09-27T17:19:10.547Z"
   },
   {
    "duration": 500,
    "start_time": "2021-09-27T17:19:10.978Z"
   },
   {
    "duration": 831,
    "start_time": "2021-09-27T17:19:11.480Z"
   },
   {
    "duration": 44,
    "start_time": "2021-09-27T17:19:12.313Z"
   },
   {
    "duration": 5101,
    "start_time": "2021-09-27T17:19:12.360Z"
   },
   {
    "duration": 31,
    "start_time": "2021-09-27T17:19:17.463Z"
   },
   {
    "duration": 18,
    "start_time": "2021-09-27T17:19:17.496Z"
   },
   {
    "duration": 62,
    "start_time": "2021-09-27T17:19:17.516Z"
   },
   {
    "duration": 144,
    "start_time": "2021-09-27T17:19:17.580Z"
   },
   {
    "duration": 473,
    "start_time": "2021-09-27T17:19:17.726Z"
   },
   {
    "duration": 39,
    "start_time": "2021-09-27T17:19:18.200Z"
   },
   {
    "duration": 16,
    "start_time": "2021-09-27T17:19:18.241Z"
   },
   {
    "duration": 25,
    "start_time": "2021-09-27T17:19:18.259Z"
   },
   {
    "duration": 467,
    "start_time": "2021-09-27T17:19:18.285Z"
   },
   {
    "duration": 13,
    "start_time": "2021-09-27T17:19:18.754Z"
   },
   {
    "duration": 524,
    "start_time": "2021-09-27T17:19:18.777Z"
   },
   {
    "duration": 455,
    "start_time": "2021-09-27T17:19:19.302Z"
   },
   {
    "duration": 24,
    "start_time": "2021-09-27T17:19:19.759Z"
   },
   {
    "duration": 20,
    "start_time": "2021-09-27T17:19:19.785Z"
   },
   {
    "duration": 456,
    "start_time": "2021-09-27T17:19:19.808Z"
   },
   {
    "duration": 40,
    "start_time": "2021-09-27T17:19:20.266Z"
   },
   {
    "duration": 3022,
    "start_time": "2021-09-27T17:19:20.307Z"
   },
   {
    "duration": 19,
    "start_time": "2021-09-27T17:19:23.331Z"
   },
   {
    "duration": 33,
    "start_time": "2021-09-27T17:19:23.351Z"
   },
   {
    "duration": 42,
    "start_time": "2021-09-27T17:19:23.386Z"
   },
   {
    "duration": 47,
    "start_time": "2021-09-27T17:19:23.429Z"
   },
   {
    "duration": 44,
    "start_time": "2021-09-27T17:19:23.477Z"
   },
   {
    "duration": 84,
    "start_time": "2021-09-27T17:19:23.523Z"
   },
   {
    "duration": 12,
    "start_time": "2021-09-27T17:19:23.609Z"
   },
   {
    "duration": 525,
    "start_time": "2021-09-27T17:19:23.623Z"
   },
   {
    "duration": 117,
    "start_time": "2021-09-27T17:19:24.150Z"
   },
   {
    "duration": 297,
    "start_time": "2021-09-27T17:19:23.972Z"
   },
   {
    "duration": 295,
    "start_time": "2021-09-27T17:19:23.975Z"
   },
   {
    "duration": 407,
    "start_time": "2021-09-27T17:19:54.896Z"
   },
   {
    "duration": 24,
    "start_time": "2021-09-27T17:20:00.901Z"
   },
   {
    "duration": 9,
    "start_time": "2021-09-27T17:20:02.632Z"
   },
   {
    "duration": 9,
    "start_time": "2021-09-27T17:21:17.754Z"
   },
   {
    "duration": 10,
    "start_time": "2021-09-27T17:21:36.521Z"
   },
   {
    "duration": 13,
    "start_time": "2021-09-27T17:21:45.345Z"
   },
   {
    "duration": 311,
    "start_time": "2021-09-27T17:22:15.626Z"
   },
   {
    "duration": 38,
    "start_time": "2021-09-27T17:23:02.458Z"
   },
   {
    "duration": 39,
    "start_time": "2021-09-27T17:23:12.043Z"
   },
   {
    "duration": 394,
    "start_time": "2021-09-27T17:26:59.064Z"
   },
   {
    "duration": 9,
    "start_time": "2021-09-27T17:27:37.617Z"
   },
   {
    "duration": 10,
    "start_time": "2021-09-27T17:28:04.328Z"
   },
   {
    "duration": 15,
    "start_time": "2021-09-27T17:28:56.275Z"
   },
   {
    "duration": 5,
    "start_time": "2021-09-27T17:30:17.009Z"
   },
   {
    "duration": 318,
    "start_time": "2021-09-27T17:30:58.268Z"
   },
   {
    "duration": 319,
    "start_time": "2021-09-27T17:31:04.428Z"
   },
   {
    "duration": 11,
    "start_time": "2021-09-27T17:32:21.454Z"
   },
   {
    "duration": 18,
    "start_time": "2021-09-27T17:32:24.734Z"
   },
   {
    "duration": 11,
    "start_time": "2021-09-27T17:32:38.949Z"
   },
   {
    "duration": 32,
    "start_time": "2021-09-27T17:32:39.725Z"
   },
   {
    "duration": 10,
    "start_time": "2021-09-27T17:33:58.798Z"
   },
   {
    "duration": 12,
    "start_time": "2021-09-27T17:34:23.026Z"
   },
   {
    "duration": 30,
    "start_time": "2021-09-27T17:39:03.772Z"
   },
   {
    "duration": 1653,
    "start_time": "2021-09-28T12:10:01.271Z"
   },
   {
    "duration": 72,
    "start_time": "2021-09-28T12:10:02.926Z"
   },
   {
    "duration": 26,
    "start_time": "2021-09-28T12:10:03.003Z"
   },
   {
    "duration": 837,
    "start_time": "2021-09-28T12:10:03.032Z"
   },
   {
    "duration": 778,
    "start_time": "2021-09-28T12:10:03.871Z"
   },
   {
    "duration": 1087,
    "start_time": "2021-09-28T12:10:04.652Z"
   },
   {
    "duration": 57,
    "start_time": "2021-09-28T12:10:05.741Z"
   },
   {
    "duration": 9471,
    "start_time": "2021-09-28T12:10:05.802Z"
   },
   {
    "duration": 49,
    "start_time": "2021-09-28T12:10:15.285Z"
   },
   {
    "duration": 57,
    "start_time": "2021-09-28T12:10:15.337Z"
   },
   {
    "duration": 51,
    "start_time": "2021-09-28T12:10:15.396Z"
   },
   {
    "duration": 333,
    "start_time": "2021-09-28T12:10:15.450Z"
   },
   {
    "duration": 720,
    "start_time": "2021-09-28T12:10:15.785Z"
   },
   {
    "duration": 57,
    "start_time": "2021-09-28T12:10:16.508Z"
   },
   {
    "duration": 33,
    "start_time": "2021-09-28T12:10:16.568Z"
   },
   {
    "duration": 20,
    "start_time": "2021-09-28T12:10:16.604Z"
   },
   {
    "duration": 814,
    "start_time": "2021-09-28T12:10:16.627Z"
   },
   {
    "duration": 19,
    "start_time": "2021-09-28T12:10:17.444Z"
   },
   {
    "duration": 765,
    "start_time": "2021-09-28T12:10:17.482Z"
   },
   {
    "duration": 863,
    "start_time": "2021-09-28T12:10:18.249Z"
   },
   {
    "duration": 24,
    "start_time": "2021-09-28T12:10:19.115Z"
   },
   {
    "duration": 49,
    "start_time": "2021-09-28T12:10:19.142Z"
   },
   {
    "duration": 785,
    "start_time": "2021-09-28T12:10:19.198Z"
   },
   {
    "duration": 46,
    "start_time": "2021-09-28T12:10:19.986Z"
   },
   {
    "duration": 7127,
    "start_time": "2021-09-28T12:10:20.034Z"
   },
   {
    "duration": 48,
    "start_time": "2021-09-28T12:10:27.164Z"
   },
   {
    "duration": 28,
    "start_time": "2021-09-28T12:10:27.215Z"
   },
   {
    "duration": 63,
    "start_time": "2021-09-28T12:10:27.246Z"
   },
   {
    "duration": 96,
    "start_time": "2021-09-28T12:10:27.313Z"
   },
   {
    "duration": 58,
    "start_time": "2021-09-28T12:10:27.411Z"
   },
   {
    "duration": 140,
    "start_time": "2021-09-28T12:10:27.471Z"
   },
   {
    "duration": 20,
    "start_time": "2021-09-28T12:10:27.614Z"
   },
   {
    "duration": 832,
    "start_time": "2021-09-28T12:10:27.637Z"
   },
   {
    "duration": 74,
    "start_time": "2021-09-28T12:10:28.472Z"
   },
   {
    "duration": 63,
    "start_time": "2021-09-28T12:10:28.549Z"
   },
   {
    "duration": 20,
    "start_time": "2021-09-28T12:10:28.615Z"
   },
   {
    "duration": 13,
    "start_time": "2021-09-28T12:10:28.637Z"
   },
   {
    "duration": 112,
    "start_time": "2021-09-28T12:10:28.683Z"
   },
   {
    "duration": 603,
    "start_time": "2021-09-28T12:10:28.797Z"
   },
   {
    "duration": 175,
    "start_time": "2021-09-28T12:10:29.228Z"
   },
   {
    "duration": 173,
    "start_time": "2021-09-28T12:10:29.232Z"
   },
   {
    "duration": 172,
    "start_time": "2021-09-28T12:10:29.235Z"
   },
   {
    "duration": 169,
    "start_time": "2021-09-28T12:10:29.240Z"
   },
   {
    "duration": 167,
    "start_time": "2021-09-28T12:10:29.244Z"
   },
   {
    "duration": 104,
    "start_time": "2021-09-28T12:12:40.480Z"
   },
   {
    "duration": 266,
    "start_time": "2021-09-28T12:12:40.781Z"
   },
   {
    "duration": 534,
    "start_time": "2021-09-28T12:12:41.171Z"
   },
   {
    "duration": 212,
    "start_time": "2021-09-28T12:12:41.496Z"
   },
   {
    "duration": 7,
    "start_time": "2021-09-28T12:12:41.716Z"
   },
   {
    "duration": 483,
    "start_time": "2021-09-28T12:12:42.349Z"
   },
   {
    "duration": 298,
    "start_time": "2021-09-28T12:12:42.894Z"
   },
   {
    "duration": 355,
    "start_time": "2021-09-28T12:13:07.230Z"
   },
   {
    "duration": 305,
    "start_time": "2021-09-28T12:13:09.223Z"
   },
   {
    "duration": 7,
    "start_time": "2021-09-28T12:13:35.086Z"
   },
   {
    "duration": 176,
    "start_time": "2021-09-28T12:13:35.438Z"
   },
   {
    "duration": 13,
    "start_time": "2021-09-28T12:13:36.319Z"
   },
   {
    "duration": 5,
    "start_time": "2021-09-28T12:14:33.299Z"
   },
   {
    "duration": 629,
    "start_time": "2021-09-28T12:15:11.053Z"
   },
   {
    "duration": 4784,
    "start_time": "2021-09-28T12:15:11.686Z"
   },
   {
    "duration": 413,
    "start_time": "2021-09-28T12:15:16.473Z"
   },
   {
    "duration": 534,
    "start_time": "2021-09-28T12:16:09.790Z"
   },
   {
    "duration": 751,
    "start_time": "2021-09-28T12:16:17.203Z"
   },
   {
    "duration": 9936,
    "start_time": "2021-09-28T12:16:36.556Z"
   },
   {
    "duration": 4518,
    "start_time": "2021-09-28T12:17:08.988Z"
   },
   {
    "duration": 11432,
    "start_time": "2021-09-28T12:17:28.372Z"
   },
   {
    "duration": 6,
    "start_time": "2021-09-28T12:18:03.589Z"
   },
   {
    "duration": 547,
    "start_time": "2021-09-28T12:18:03.772Z"
   },
   {
    "duration": 14,
    "start_time": "2021-09-28T12:18:04.639Z"
   },
   {
    "duration": 9257,
    "start_time": "2021-09-28T12:20:08.151Z"
   },
   {
    "duration": 14244,
    "start_time": "2021-09-28T12:20:17.411Z"
   },
   {
    "duration": 598,
    "start_time": "2021-09-28T12:20:52.102Z"
   },
   {
    "duration": 15,
    "start_time": "2021-09-28T12:20:52.703Z"
   },
   {
    "duration": 26246,
    "start_time": "2021-09-28T12:21:02.739Z"
   },
   {
    "duration": 13415,
    "start_time": "2021-09-28T12:21:28.988Z"
   },
   {
    "duration": 7,
    "start_time": "2021-09-28T12:21:42.406Z"
   },
   {
    "duration": 875,
    "start_time": "2021-09-28T12:21:42.417Z"
   },
   {
    "duration": 12,
    "start_time": "2021-09-28T12:21:43.295Z"
   },
   {
    "duration": 553,
    "start_time": "2021-09-28T12:25:10.557Z"
   },
   {
    "duration": 664,
    "start_time": "2021-09-28T12:26:13.746Z"
   },
   {
    "duration": 13,
    "start_time": "2021-09-28T12:26:15.695Z"
   },
   {
    "duration": 1524,
    "start_time": "2021-09-29T07:48:56.528Z"
   },
   {
    "duration": 79,
    "start_time": "2021-09-29T07:48:58.055Z"
   },
   {
    "duration": 27,
    "start_time": "2021-09-29T07:48:58.138Z"
   },
   {
    "duration": 693,
    "start_time": "2021-09-29T07:48:58.169Z"
   },
   {
    "duration": 800,
    "start_time": "2021-09-29T07:48:58.865Z"
   },
   {
    "duration": 1123,
    "start_time": "2021-09-29T07:48:59.668Z"
   },
   {
    "duration": 60,
    "start_time": "2021-09-29T07:49:00.794Z"
   },
   {
    "duration": 8593,
    "start_time": "2021-09-29T07:49:00.858Z"
   },
   {
    "duration": 62,
    "start_time": "2021-09-29T07:49:09.456Z"
   },
   {
    "duration": 32,
    "start_time": "2021-09-29T07:49:09.521Z"
   },
   {
    "duration": 85,
    "start_time": "2021-09-29T07:49:09.556Z"
   },
   {
    "duration": 357,
    "start_time": "2021-09-29T07:49:09.643Z"
   },
   {
    "duration": 849,
    "start_time": "2021-09-29T07:49:10.009Z"
   },
   {
    "duration": 61,
    "start_time": "2021-09-29T07:49:10.861Z"
   },
   {
    "duration": 24,
    "start_time": "2021-09-29T07:49:10.924Z"
   },
   {
    "duration": 18,
    "start_time": "2021-09-29T07:49:10.950Z"
   },
   {
    "duration": 784,
    "start_time": "2021-09-29T07:49:10.970Z"
   },
   {
    "duration": 72,
    "start_time": "2021-09-29T07:49:11.756Z"
   },
   {
    "duration": 838,
    "start_time": "2021-09-29T07:49:11.830Z"
   },
   {
    "duration": 850,
    "start_time": "2021-09-29T07:49:12.670Z"
   },
   {
    "duration": 22,
    "start_time": "2021-09-29T07:49:13.523Z"
   },
   {
    "duration": 18,
    "start_time": "2021-09-29T07:49:13.547Z"
   },
   {
    "duration": 773,
    "start_time": "2021-09-29T07:49:13.570Z"
   },
   {
    "duration": 52,
    "start_time": "2021-09-29T07:49:14.346Z"
   },
   {
    "duration": 5188,
    "start_time": "2021-09-29T07:49:14.400Z"
   },
   {
    "duration": 39,
    "start_time": "2021-09-29T07:49:19.590Z"
   },
   {
    "duration": 23,
    "start_time": "2021-09-29T07:49:19.632Z"
   },
   {
    "duration": 64,
    "start_time": "2021-09-29T07:49:19.657Z"
   },
   {
    "duration": 71,
    "start_time": "2021-09-29T07:49:19.723Z"
   },
   {
    "duration": 65,
    "start_time": "2021-09-29T07:49:19.796Z"
   },
   {
    "duration": 137,
    "start_time": "2021-09-29T07:49:19.863Z"
   },
   {
    "duration": 29,
    "start_time": "2021-09-29T07:49:20.003Z"
   },
   {
    "duration": 832,
    "start_time": "2021-09-29T07:49:20.034Z"
   },
   {
    "duration": 82,
    "start_time": "2021-09-29T07:49:20.868Z"
   },
   {
    "duration": 42,
    "start_time": "2021-09-29T07:49:20.952Z"
   },
   {
    "duration": 18,
    "start_time": "2021-09-29T07:49:21.016Z"
   },
   {
    "duration": 15,
    "start_time": "2021-09-29T07:49:21.036Z"
   },
   {
    "duration": 165,
    "start_time": "2021-09-29T07:49:21.053Z"
   },
   {
    "duration": 711,
    "start_time": "2021-09-29T07:49:21.221Z"
   },
   {
    "duration": 25754,
    "start_time": "2021-09-29T07:49:21.936Z"
   },
   {
    "duration": 13019,
    "start_time": "2021-09-29T07:49:47.692Z"
   },
   {
    "duration": 9,
    "start_time": "2021-09-29T07:50:00.717Z"
   },
   {
    "duration": 869,
    "start_time": "2021-09-29T07:50:00.729Z"
   },
   {
    "duration": 743,
    "start_time": "2021-09-29T07:50:01.600Z"
   },
   {
    "duration": 14,
    "start_time": "2021-09-29T07:50:02.346Z"
   },
   {
    "duration": 485,
    "start_time": "2021-09-29T07:50:02.362Z"
   },
   {
    "duration": 339,
    "start_time": "2021-09-29T07:52:31.447Z"
   },
   {
    "duration": 329,
    "start_time": "2021-09-29T07:53:52.200Z"
   },
   {
    "duration": 340,
    "start_time": "2021-09-29T07:55:00.713Z"
   },
   {
    "duration": 503,
    "start_time": "2021-09-29T07:55:38.033Z"
   },
   {
    "duration": 324,
    "start_time": "2021-09-29T07:58:06.181Z"
   },
   {
    "duration": 365,
    "start_time": "2021-09-29T08:07:00.188Z"
   },
   {
    "duration": 26900,
    "start_time": "2021-09-29T12:09:16.169Z"
   },
   {
    "duration": 798,
    "start_time": "2021-09-29T12:09:43.075Z"
   },
   {
    "duration": 593,
    "start_time": "2021-09-29T12:09:48.979Z"
   },
   {
    "duration": 6592,
    "start_time": "2021-09-29T12:09:49.576Z"
   },
   {
    "duration": 8099,
    "start_time": "2021-09-29T12:09:56.175Z"
   },
   {
    "duration": 9898,
    "start_time": "2021-09-29T12:10:04.278Z"
   },
   {
    "duration": 799,
    "start_time": "2021-09-29T12:10:14.269Z"
   },
   {
    "duration": 10093,
    "start_time": "2021-09-29T12:12:22.978Z"
   },
   {
    "duration": 394,
    "start_time": "2021-09-29T12:12:33.075Z"
   },
   {
    "duration": 304,
    "start_time": "2021-09-29T12:12:33.472Z"
   },
   {
    "duration": 8103,
    "start_time": "2021-09-29T12:12:33.869Z"
   },
   {
    "duration": 495,
    "start_time": "2021-09-29T12:12:41.976Z"
   },
   {
    "duration": 60793,
    "start_time": "2021-09-29T12:12:42.477Z"
   },
   {
    "duration": 401,
    "start_time": "2021-09-29T12:13:43.274Z"
   },
   {
    "duration": 399,
    "start_time": "2021-09-29T12:13:43.769Z"
   },
   {
    "duration": 596,
    "start_time": "2021-09-29T12:13:44.172Z"
   },
   {
    "duration": 2298,
    "start_time": "2021-09-29T12:13:44.774Z"
   },
   {
    "duration": 700,
    "start_time": "2021-09-29T12:13:47.168Z"
   },
   {
    "duration": 1897,
    "start_time": "2021-09-29T12:13:47.876Z"
   },
   {
    "duration": 392,
    "start_time": "2021-09-29T12:13:49.779Z"
   },
   {
    "duration": 1735,
    "start_time": "2021-09-29T16:09:58.713Z"
   },
   {
    "duration": 62,
    "start_time": "2021-09-29T16:10:22.384Z"
   },
   {
    "duration": 64,
    "start_time": "2021-09-29T16:10:22.448Z"
   },
   {
    "duration": 23,
    "start_time": "2021-09-29T16:10:22.514Z"
   },
   {
    "duration": 566,
    "start_time": "2021-09-29T16:10:22.544Z"
   },
   {
    "duration": 476,
    "start_time": "2021-09-29T16:10:23.111Z"
   },
   {
    "duration": 886,
    "start_time": "2021-09-29T16:10:23.589Z"
   },
   {
    "duration": 56,
    "start_time": "2021-09-29T16:10:24.477Z"
   },
   {
    "duration": 5428,
    "start_time": "2021-09-29T16:10:24.536Z"
   },
   {
    "duration": 28,
    "start_time": "2021-09-29T16:10:29.966Z"
   },
   {
    "duration": 47,
    "start_time": "2021-09-29T16:10:29.997Z"
   },
   {
    "duration": 59,
    "start_time": "2021-09-29T16:10:30.047Z"
   },
   {
    "duration": 135,
    "start_time": "2021-09-29T16:10:30.109Z"
   },
   {
    "duration": 453,
    "start_time": "2021-09-29T16:10:30.246Z"
   },
   {
    "duration": 41,
    "start_time": "2021-09-29T16:10:30.701Z"
   },
   {
    "duration": 18,
    "start_time": "2021-09-29T16:10:30.744Z"
   },
   {
    "duration": 13,
    "start_time": "2021-09-29T16:10:30.764Z"
   },
   {
    "duration": 490,
    "start_time": "2021-09-29T16:10:30.779Z"
   },
   {
    "duration": 18,
    "start_time": "2021-09-29T16:10:31.271Z"
   },
   {
    "duration": 471,
    "start_time": "2021-09-29T16:10:31.291Z"
   },
   {
    "duration": 598,
    "start_time": "2021-09-29T16:10:31.764Z"
   },
   {
    "duration": 16,
    "start_time": "2021-09-29T16:10:32.364Z"
   },
   {
    "duration": 18,
    "start_time": "2021-09-29T16:10:32.382Z"
   },
   {
    "duration": 596,
    "start_time": "2021-09-29T16:10:32.405Z"
   },
   {
    "duration": 43,
    "start_time": "2021-09-29T16:10:33.003Z"
   },
   {
    "duration": 3244,
    "start_time": "2021-09-29T16:10:33.047Z"
   },
   {
    "duration": 19,
    "start_time": "2021-09-29T16:10:36.293Z"
   },
   {
    "duration": 38,
    "start_time": "2021-09-29T16:10:36.314Z"
   },
   {
    "duration": 45,
    "start_time": "2021-09-29T16:10:36.354Z"
   },
   {
    "duration": 46,
    "start_time": "2021-09-29T16:10:36.401Z"
   },
   {
    "duration": 44,
    "start_time": "2021-09-29T16:10:36.449Z"
   },
   {
    "duration": 85,
    "start_time": "2021-09-29T16:10:36.495Z"
   },
   {
    "duration": 14,
    "start_time": "2021-09-29T16:10:36.582Z"
   },
   {
    "duration": 486,
    "start_time": "2021-09-29T16:10:36.598Z"
   },
   {
    "duration": 73,
    "start_time": "2021-09-29T16:10:37.086Z"
   },
   {
    "duration": 39,
    "start_time": "2021-09-29T16:10:37.161Z"
   },
   {
    "duration": 17,
    "start_time": "2021-09-29T16:10:37.202Z"
   },
   {
    "duration": 32,
    "start_time": "2021-09-29T16:10:37.221Z"
   },
   {
    "duration": 190,
    "start_time": "2021-09-29T16:10:37.255Z"
   },
   {
    "duration": 609,
    "start_time": "2021-09-29T16:10:37.448Z"
   },
   {
    "duration": 19794,
    "start_time": "2021-09-29T16:10:38.059Z"
   },
   {
    "duration": 10190,
    "start_time": "2021-09-29T16:10:57.856Z"
   },
   {
    "duration": 5,
    "start_time": "2021-09-29T16:11:08.048Z"
   },
   {
    "duration": 690,
    "start_time": "2021-09-29T16:11:08.055Z"
   },
   {
    "duration": 518,
    "start_time": "2021-09-29T16:11:08.747Z"
   },
   {
    "duration": 9,
    "start_time": "2021-09-29T16:11:09.267Z"
   },
   {
    "duration": 308,
    "start_time": "2021-09-29T16:11:09.278Z"
   },
   {
    "duration": 32,
    "start_time": "2021-09-29T16:11:09.557Z"
   },
   {
    "duration": 362,
    "start_time": "2021-09-29T16:11:24.409Z"
   },
   {
    "duration": 1580,
    "start_time": "2021-10-13T08:56:27.039Z"
   },
   {
    "duration": 77,
    "start_time": "2021-10-13T08:56:28.622Z"
   },
   {
    "duration": 27,
    "start_time": "2021-10-13T08:56:28.703Z"
   },
   {
    "duration": 705,
    "start_time": "2021-10-13T08:56:28.734Z"
   },
   {
    "duration": 755,
    "start_time": "2021-10-13T08:56:29.442Z"
   },
   {
    "duration": 1201,
    "start_time": "2021-10-13T08:56:30.200Z"
   },
   {
    "duration": 52,
    "start_time": "2021-10-13T08:56:31.403Z"
   },
   {
    "duration": 8219,
    "start_time": "2021-10-13T08:56:31.457Z"
   },
   {
    "duration": 38,
    "start_time": "2021-10-13T08:56:39.684Z"
   },
   {
    "duration": 57,
    "start_time": "2021-10-13T08:56:39.726Z"
   },
   {
    "duration": 49,
    "start_time": "2021-10-13T08:56:39.785Z"
   },
   {
    "duration": 335,
    "start_time": "2021-10-13T08:56:39.836Z"
   },
   {
    "duration": 705,
    "start_time": "2021-10-13T08:56:40.173Z"
   },
   {
    "duration": 53,
    "start_time": "2021-10-13T08:56:40.883Z"
   },
   {
    "duration": 25,
    "start_time": "2021-10-13T08:56:40.938Z"
   },
   {
    "duration": 30,
    "start_time": "2021-10-13T08:56:40.966Z"
   },
   {
    "duration": 774,
    "start_time": "2021-10-13T08:56:40.999Z"
   },
   {
    "duration": 18,
    "start_time": "2021-10-13T08:56:41.782Z"
   },
   {
    "duration": 714,
    "start_time": "2021-10-13T08:56:41.803Z"
   },
   {
    "duration": 840,
    "start_time": "2021-10-13T08:56:42.520Z"
   },
   {
    "duration": 34,
    "start_time": "2021-10-13T08:56:43.363Z"
   },
   {
    "duration": 19,
    "start_time": "2021-10-13T08:56:43.399Z"
   },
   {
    "duration": 739,
    "start_time": "2021-10-13T08:56:43.420Z"
   },
   {
    "duration": 42,
    "start_time": "2021-10-13T08:56:44.162Z"
   },
   {
    "duration": 5000,
    "start_time": "2021-10-13T08:56:44.206Z"
   },
   {
    "duration": 30,
    "start_time": "2021-10-13T08:56:49.208Z"
   },
   {
    "duration": 49,
    "start_time": "2021-10-13T08:56:49.244Z"
   },
   {
    "duration": 48,
    "start_time": "2021-10-13T08:56:49.296Z"
   },
   {
    "duration": 86,
    "start_time": "2021-10-13T08:56:49.347Z"
   },
   {
    "duration": 61,
    "start_time": "2021-10-13T08:56:49.435Z"
   },
   {
    "duration": 131,
    "start_time": "2021-10-13T08:56:49.499Z"
   },
   {
    "duration": 20,
    "start_time": "2021-10-13T08:56:49.632Z"
   },
   {
    "duration": 851,
    "start_time": "2021-10-13T08:56:49.654Z"
   },
   {
    "duration": 76,
    "start_time": "2021-10-13T08:56:50.508Z"
   },
   {
    "duration": 43,
    "start_time": "2021-10-13T08:56:50.586Z"
   },
   {
    "duration": 19,
    "start_time": "2021-10-13T08:56:50.631Z"
   },
   {
    "duration": 14,
    "start_time": "2021-10-13T08:56:50.683Z"
   },
   {
    "duration": 89,
    "start_time": "2021-10-13T08:56:50.699Z"
   },
   {
    "duration": 783,
    "start_time": "2021-10-13T08:56:50.791Z"
   },
   {
    "duration": 24932,
    "start_time": "2021-10-13T08:56:51.576Z"
   },
   {
    "duration": 12526,
    "start_time": "2021-10-13T08:57:16.510Z"
   },
   {
    "duration": 7,
    "start_time": "2021-10-13T08:57:29.039Z"
   },
   {
    "duration": 894,
    "start_time": "2021-10-13T08:57:29.048Z"
   },
   {
    "duration": 681,
    "start_time": "2021-10-13T08:57:29.944Z"
   },
   {
    "duration": 14,
    "start_time": "2021-10-13T08:57:30.627Z"
   },
   {
    "duration": 530,
    "start_time": "2021-10-13T08:57:30.643Z"
   }
  ],
  "kernelspec": {
   "display_name": "Python 3",
   "language": "python",
   "name": "python3"
  },
  "language_info": {
   "codemirror_mode": {
    "name": "ipython",
    "version": 3
   },
   "file_extension": ".py",
   "mimetype": "text/x-python",
   "name": "python",
   "nbconvert_exporter": "python",
   "pygments_lexer": "ipython3",
   "version": "3.7.8"
  },
  "toc": {
   "base_numbering": 1,
   "nav_menu": {},
   "number_sections": true,
   "sideBar": true,
   "skip_h1_title": false,
   "title_cell": "Table of Contents",
   "title_sidebar": "Contents",
   "toc_cell": false,
   "toc_position": {
    "height": "calc(100% - 180px)",
    "left": "10px",
    "top": "150px",
    "width": "165px"
   },
   "toc_section_display": true,
   "toc_window_display": true
  }
 },
 "nbformat": 4,
 "nbformat_minor": 2
}
